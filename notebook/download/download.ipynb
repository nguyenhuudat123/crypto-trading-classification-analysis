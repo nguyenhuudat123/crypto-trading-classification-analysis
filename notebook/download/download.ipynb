{
 "cells": [
  {
   "cell_type": "code",
   "execution_count": 3,
   "id": "58bcde34",
   "metadata": {},
   "outputs": [],
   "source": [
    "import ccxt\n",
    "import pandas as pd\n",
    "import time\n",
    "\n",
    "def download_data(coin, timeframe, start_time='2017-08-01T00:00:00Z', end_time= '2025-04-11T00:00:00Z'):\n",
    "    # Tạo đối tượng exchange cho sàn Binance\n",
    "    exchange = ccxt.binance()\n",
    "\n",
    "    # Xác định biểu đồ (symbol) bạn muốn lấy dữ liệu\n",
    "    symbol = coin\n",
    "\n",
    "    # Xác định khung thời gian (timeframe) là 1 giờ\n",
    "    timeframe = timeframe\n",
    "\n",
    "    # Khởi tạo DataFrame trống để lưu trữ dữ liệu\n",
    "    df = pd.DataFrame()\n",
    "\n",
    "    # Đặt thời gian bắt đầu và kết thúc cho khoảng dữ liệu bạn muốn lấy\n",
    "    start_time = exchange.parse8601(start_time)  # Thời gian bắt đầu\n",
    "    end_time = exchange.parse8601(end_time)    # Thời gian kết thúc\n",
    "\n",
    "    # Thực hiện vòng lặp để lấy dữ liệu theo đợt\n",
    "    while start_time < end_time:\n",
    "    # Lấy dữ liệu lịch sử từ sàn giao dịch\n",
    "        ohlcv = exchange.fetch_ohlcv(symbol, timeframe, since=start_time)\n",
    "\n",
    "        # Kiểm tra xem có dữ liệu không\n",
    "        if len(ohlcv) == 0:\n",
    "            break\n",
    "\n",
    "        # Chuyển đổi dữ liệu thành DataFrame\n",
    "        new_df = pd.DataFrame(ohlcv, columns=['timestamp', 'open', 'high', 'low', 'close', 'volume'])\n",
    "\n",
    "        # Chuyển đổi timestamp thành ngày tháng\n",
    "        new_df['timestamp'] = pd.to_datetime(new_df['timestamp'], unit='ms')\n",
    "\n",
    "        # Thêm dữ liệu mới vào DataFrame chính\n",
    "        df = pd.concat([df, new_df], ignore_index=True)\n",
    "\n",
    "        # Cập nhật thời gian bắt đầu cho lần yêu cầu tiếp theo\n",
    "        start_time = ohlcv[-1][0] + 1  # Cộng thêm 1 để tránh lấy dữ liệu trùng lặp\n",
    "\n",
    "        # Nghỉ 1 giây để tránh bị chặn bởi giới hạn yêu cầu của API\n",
    "        time.sleep(1)\n",
    "    \n",
    "    return df"
   ]
  },
  {
   "cell_type": "code",
   "execution_count": 3,
   "id": "bdc5d4da",
   "metadata": {},
   "outputs": [],
   "source": [
    "bnb_1d = download_data(\"BNB/USDT\", \"1d\", start_time='2020-08-01T00:00:00Z', end_time='2025-09-11T00:00:00Z')\n",
    "bnb_1d.to_csv(\"bnb_1d.csv\", index=False)"
   ]
  },
  {
   "cell_type": "code",
   "execution_count": 4,
   "id": "df9d108b",
   "metadata": {},
   "outputs": [],
   "source": [
    "bnb_4h = download_data(\"BNB/USDT\", \"4h\", start_time='2020-08-01T00:00:00Z', end_time='2025-09-11T00:00:00Z')\n",
    "bnb_4h.to_csv(\"bnb_4h.csv\", index=False)"
   ]
  },
  {
   "cell_type": "code",
   "execution_count": 5,
   "id": "87b84375",
   "metadata": {},
   "outputs": [],
   "source": [
    "bnb_30m = download_data(\"BNB/USDT\", \"30m\", start_time='2020-08-01T00:00:00Z', end_time='2025-09-11T00:00:00Z')\n",
    "bnb_30m.to_csv(\"bnb_30m.csv\", index=False)"
   ]
  },
  {
   "cell_type": "markdown",
   "id": "61891e6b",
   "metadata": {},
   "source": [
    "difficult to get exactly gold data volumn"
   ]
  },
  {
   "cell_type": "code",
   "execution_count": 8,
   "id": "16221a31",
   "metadata": {},
   "outputs": [],
   "source": [
    "gold_1d = download_data(\"PAXG/USDT\", \"1d\", start_time='2020-09-01T00:00:00Z', end_time='2025-09-11T00:00:00Z')\n",
    "gold_1d.to_csv(\"gold_1d.csv\", index=False)"
   ]
  },
  {
   "cell_type": "code",
   "execution_count": 9,
   "id": "16738270",
   "metadata": {},
   "outputs": [],
   "source": [
    "gold_4h = download_data(\"PAXG/USDT\", \"4h\", start_time='2020-09-01T00:00:00Z', end_time='2025-09-11T00:00:00Z')\n",
    "gold_4h.to_csv(\"gold_4h.csv\", index=False)"
   ]
  },
  {
   "cell_type": "code",
   "execution_count": null,
   "id": "b9f7fb39",
   "metadata": {},
   "outputs": [],
   "source": [
    "gold_30m = download_data(\"PAXG/USDT\", \"30m\", start_time='2020-09-01T00:00:00Z', end_time='2025-09-11T00:00:00Z')\n",
    "gold_30m.to_csv(\"gold_30m.csv\", index=False)"
   ]
  },
  {
   "cell_type": "code",
   "execution_count": 11,
   "id": "b4c253ac",
   "metadata": {},
   "outputs": [],
   "source": [
    "# ETH 1 ngày\n",
    "eth_1d = download_data(\"ETH/USDT\", \"1d\", start_time='2020-08-01T00:00:00Z', end_time='2025-09-11T00:00:00Z')\n",
    "eth_1d.to_csv(\"eth_1d.csv\", index=False)\n",
    "\n",
    "# ETH 4 giờ\n",
    "eth_4h = download_data(\"ETH/USDT\", \"4h\", start_time='2020-08-01T00:00:00Z', end_time='2025-09-11T00:00:00Z')\n",
    "eth_4h.to_csv(\"eth_4h.csv\", index=False)\n",
    "\n",
    "# ETH 30 phút\n",
    "eth_30m = download_data(\"ETH/USDT\", \"30m\", start_time='2020-08-01T00:00:00Z', end_time='2025-09-11T00:00:00Z')\n",
    "eth_30m.to_csv(\"eth_30m.csv\", index=False)"
   ]
  },
  {
   "cell_type": "markdown",
   "id": "c531f93d",
   "metadata": {},
   "source": [
    "\"SOL/USDT', 'DOGE/USDT', 'XRP/USDT', 'TRX/USDT', 'LINK/USDT', 'XLM/USDT', 'AVAX/USDT'"
   ]
  },
  {
   "cell_type": "code",
   "execution_count": 4,
   "id": "0f2b0372",
   "metadata": {},
   "outputs": [
    {
     "name": "stdout",
     "output_type": "stream",
     "text": [
      "Downloading data for SOL/USDT...\n",
      "  - sol_1d.csv\n",
      "  - sol_4h.csv\n",
      "  - sol_30m.csv\n",
      "✅ Completed SOL/USDT\n",
      "\n",
      "Downloading data for DOGE/USDT...\n",
      "  - doge_1d.csv\n",
      "  - doge_4h.csv\n",
      "  - doge_30m.csv\n",
      "✅ Completed DOGE/USDT\n",
      "\n",
      "Downloading data for XRP/USDT...\n",
      "  - xrp_1d.csv\n",
      "  - xrp_4h.csv\n",
      "  - xrp_30m.csv\n",
      "✅ Completed XRP/USDT\n",
      "\n",
      "Downloading data for TRX/USDT...\n",
      "  - trx_1d.csv\n",
      "  - trx_4h.csv\n",
      "  - trx_30m.csv\n",
      "✅ Completed TRX/USDT\n",
      "\n",
      "Downloading data for LINK/USDT...\n",
      "  - link_1d.csv\n",
      "  - link_4h.csv\n",
      "  - link_30m.csv\n",
      "✅ Completed LINK/USDT\n",
      "\n",
      "Downloading data for XLM/USDT...\n",
      "  - xlm_1d.csv\n",
      "  - xlm_4h.csv\n",
      "  - xlm_30m.csv\n",
      "✅ Completed XLM/USDT\n",
      "\n",
      "Downloading data for AVAX/USDT...\n",
      "  - avax_1d.csv\n",
      "  - avax_4h.csv\n",
      "  - avax_30m.csv\n",
      "✅ Completed AVAX/USDT\n",
      "\n",
      "🎉 All cryptocurrency data downloaded successfully!\n",
      "\n",
      "Files created:\n",
      "  - sol_1d.csv\n",
      "  - sol_4h.csv\n",
      "  - sol_30m.csv\n",
      "  - doge_1d.csv\n",
      "  - doge_4h.csv\n",
      "  - doge_30m.csv\n",
      "  - xrp_1d.csv\n",
      "  - xrp_4h.csv\n",
      "  - xrp_30m.csv\n",
      "  - trx_1d.csv\n",
      "  - trx_4h.csv\n",
      "  - trx_30m.csv\n",
      "  - link_1d.csv\n",
      "  - link_4h.csv\n",
      "  - link_30m.csv\n",
      "  - xlm_1d.csv\n",
      "  - xlm_4h.csv\n",
      "  - xlm_30m.csv\n",
      "  - avax_1d.csv\n",
      "  - avax_4h.csv\n",
      "  - avax_30m.csv\n"
     ]
    }
   ],
   "source": [
    "# Download data for multiple cryptocurrencies\n",
    "coins = ['SOL/USDT', 'DOGE/USDT', 'XRP/USDT', 'TRX/USDT', 'LINK/USDT', 'XLM/USDT', 'AVAX/USDT']\n",
    "timeframes = ['1d', '4h', '30m']\n",
    "\n",
    "for coin in coins:\n",
    "    # Get coin name for filename (remove /USDT and convert to lowercase)\n",
    "    coin_name = coin.replace('/USDT', '').lower()\n",
    "    \n",
    "    print(f\"Downloading data for {coin}...\")\n",
    "    \n",
    "    # 1 day timeframe\n",
    "    print(f\"  - {coin_name}_1d.csv\")\n",
    "    data_1d = download_data(coin, \"1d\", start_time='2020-08-01T00:00:00Z', end_time='2025-09-11T00:00:00Z')\n",
    "    data_1d.to_csv(f\"{coin_name}_1d.csv\", index=False)\n",
    "    \n",
    "    # 4 hour timeframe\n",
    "    print(f\"  - {coin_name}_4h.csv\")\n",
    "    data_4h = download_data(coin, \"4h\", start_time='2020-08-01T00:00:00Z', end_time='2025-09-11T00:00:00Z')\n",
    "    data_4h.to_csv(f\"{coin_name}_4h.csv\", index=False)\n",
    "    \n",
    "    # 30 minute timeframe\n",
    "    print(f\"  - {coin_name}_30m.csv\")\n",
    "    data_30m = download_data(coin, \"30m\", start_time='2020-08-01T00:00:00Z', end_time='2025-09-11T00:00:00Z')\n",
    "    data_30m.to_csv(f\"{coin_name}_30m.csv\", index=False)\n",
    "    \n",
    "    print(f\"✅ Completed {coin}\\n\")\n",
    "\n",
    "print(\"🎉 All cryptocurrency data downloaded successfully!\")\n",
    "print(\"\\nFiles created:\")\n",
    "for coin in coins:\n",
    "    coin_name = coin.replace('/USDT', '').lower()\n",
    "    for tf in timeframes:\n",
    "        print(f\"  - {coin_name}_{tf}.csv\")"
   ]
  }
 ],
 "metadata": {
  "kernelspec": {
   "display_name": "For_pytorch",
   "language": "python",
   "name": "python3"
  },
  "language_info": {
   "codemirror_mode": {
    "name": "ipython",
    "version": 3
   },
   "file_extension": ".py",
   "mimetype": "text/x-python",
   "name": "python",
   "nbconvert_exporter": "python",
   "pygments_lexer": "ipython3",
   "version": "3.12.9"
  }
 },
 "nbformat": 4,
 "nbformat_minor": 5
}
