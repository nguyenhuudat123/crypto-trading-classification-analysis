{
 "cells": [
  {
   "cell_type": "code",
   "execution_count": 2,
   "id": "8f465e18",
   "metadata": {},
   "outputs": [
    {
     "name": "stdout",
     "output_type": "stream",
     "text": [
      "Using device: cuda\n",
      "Using device: cuda\n",
      "Loading and preparing Bitcoin data...\n",
      "Successfully loaded data from: F:\\up_git\\official_predict\\data\\btc_1d.csv\n",
      "Data shape: (2074, 6)\n",
      "Technical indicators added successfully\n",
      "Features normalized successfully\n",
      "Final dataset shape: (2046, 18)\n",
      "Starting grid search with 80 experiments...\n",
      "Lookahead values: [3, 5, 8, 10, 12]\n",
      "Threshold values: [0.02, 0.03, 0.04, 0.05]\n",
      "Model types: ['XGBoost', 'LSTM', 'GRU', 'CNN']\n"
     ]
    },
    {
     "name": "stderr",
     "output_type": "stream",
     "text": [
      "Grid Search Progress:   0%|          | 0/80 [00:00<?, ?it/s, Model=XGBoost, L=3, T=0.02]"
     ]
    },
    {
     "name": "stdout",
     "output_type": "stream",
     "text": [
      "Signal distribution - Decline(0): 558, Sideways(1): 806, Rise(2): 679\n"
     ]
    },
    {
     "name": "stderr",
     "output_type": "stream",
     "text": [
      "Grid Search Progress:   1%|▏         | 1/80 [00:00<00:14,  5.45it/s, Model=XGBoost, L=3, T=0.03]"
     ]
    },
    {
     "name": "stdout",
     "output_type": "stream",
     "text": [
      "Signal distribution - Decline(0): 417, Sideways(1): 1081, Rise(2): 545\n"
     ]
    },
    {
     "name": "stderr",
     "output_type": "stream",
     "text": [
      "Grid Search Progress:   2%|▎         | 2/80 [00:00<00:15,  5.17it/s, Model=XGBoost, L=3, T=0.03]"
     ]
    },
    {
     "name": "stdout",
     "output_type": "stream",
     "text": [
      "Signal distribution - Decline(0): 316, Sideways(1): 1284, Rise(2): 443\n"
     ]
    },
    {
     "name": "stderr",
     "output_type": "stream",
     "text": [
      "Grid Search Progress:   4%|▍         | 3/80 [00:00<00:15,  5.10it/s, Model=XGBoost, L=3, T=0.05]"
     ]
    },
    {
     "name": "stdout",
     "output_type": "stream",
     "text": [
      "Signal distribution - Decline(0): 234, Sideways(1): 1480, Rise(2): 329\n"
     ]
    },
    {
     "name": "stderr",
     "output_type": "stream",
     "text": [
      "Grid Search Progress:   5%|▌         | 4/80 [00:00<00:14,  5.24it/s, Model=XGBoost, L=5, T=0.02]"
     ]
    },
    {
     "name": "stdout",
     "output_type": "stream",
     "text": [
      "Signal distribution - Decline(0): 603, Sideways(1): 644, Rise(2): 794\n"
     ]
    },
    {
     "name": "stderr",
     "output_type": "stream",
     "text": [
      "Grid Search Progress:   6%|▋         | 5/80 [00:01<00:14,  5.26it/s, Model=XGBoost, L=5, T=0.03]"
     ]
    },
    {
     "name": "stdout",
     "output_type": "stream",
     "text": [
      "Signal distribution - Decline(0): 487, Sideways(1): 890, Rise(2): 664\n"
     ]
    },
    {
     "name": "stderr",
     "output_type": "stream",
     "text": [
      "Grid Search Progress:   8%|▊         | 6/80 [00:01<00:13,  5.29it/s, Model=XGBoost, L=5, T=0.04]"
     ]
    },
    {
     "name": "stdout",
     "output_type": "stream",
     "text": [
      "Signal distribution - Decline(0): 400, Sideways(1): 1069, Rise(2): 572\n"
     ]
    },
    {
     "name": "stderr",
     "output_type": "stream",
     "text": [
      "Grid Search Progress:   9%|▉         | 7/80 [00:01<00:13,  5.29it/s, Model=XGBoost, L=5, T=0.05]"
     ]
    },
    {
     "name": "stdout",
     "output_type": "stream",
     "text": [
      "Signal distribution - Decline(0): 329, Sideways(1): 1243, Rise(2): 469\n"
     ]
    },
    {
     "name": "stderr",
     "output_type": "stream",
     "text": [
      "Grid Search Progress:  11%|█▏        | 9/80 [00:01<00:13,  5.29it/s, Model=XGBoost, L=8, T=0.02]"
     ]
    },
    {
     "name": "stdout",
     "output_type": "stream",
     "text": [
      "Signal distribution - Decline(0): 671, Sideways(1): 509, Rise(2): 858\n",
      "Signal distribution - Decline(0): 560, Sideways(1): 718, Rise(2): 760\n"
     ]
    },
    {
     "name": "stderr",
     "output_type": "stream",
     "text": [
      "Grid Search Progress:  12%|█▎        | 10/80 [00:02<00:13,  5.19it/s, Model=XGBoost, L=8, T=0.04]"
     ]
    },
    {
     "name": "stdout",
     "output_type": "stream",
     "text": [
      "Signal distribution - Decline(0): 468, Sideways(1): 912, Rise(2): 658\n"
     ]
    },
    {
     "name": "stderr",
     "output_type": "stream",
     "text": [
      "Grid Search Progress:  14%|█▍        | 11/80 [00:02<00:13,  5.20it/s, Model=XGBoost, L=8, T=0.05]"
     ]
    },
    {
     "name": "stdout",
     "output_type": "stream",
     "text": [
      "Signal distribution - Decline(0): 386, Sideways(1): 1092, Rise(2): 560\n"
     ]
    },
    {
     "name": "stderr",
     "output_type": "stream",
     "text": [
      "Grid Search Progress:  15%|█▌        | 12/80 [00:02<00:13,  5.21it/s, Model=XGBoost, L=10, T=0.02]"
     ]
    },
    {
     "name": "stdout",
     "output_type": "stream",
     "text": [
      "Signal distribution - Decline(0): 684, Sideways(1): 456, Rise(2): 896\n"
     ]
    },
    {
     "name": "stderr",
     "output_type": "stream",
     "text": [
      "Grid Search Progress:  16%|█▋        | 13/80 [00:02<00:12,  5.24it/s, Model=XGBoost, L=10, T=0.03]"
     ]
    },
    {
     "name": "stdout",
     "output_type": "stream",
     "text": [
      "Signal distribution - Decline(0): 601, Sideways(1): 648, Rise(2): 787\n"
     ]
    },
    {
     "name": "stderr",
     "output_type": "stream",
     "text": [
      "Grid Search Progress:  18%|█▊        | 14/80 [00:02<00:12,  5.26it/s, Model=XGBoost, L=10, T=0.04]"
     ]
    },
    {
     "name": "stdout",
     "output_type": "stream",
     "text": [
      "Signal distribution - Decline(0): 511, Sideways(1): 816, Rise(2): 709\n"
     ]
    },
    {
     "name": "stderr",
     "output_type": "stream",
     "text": [
      "Grid Search Progress:  20%|██        | 16/80 [00:03<00:12,  5.30it/s, Model=XGBoost, L=10, T=0.05]"
     ]
    },
    {
     "name": "stdout",
     "output_type": "stream",
     "text": [
      "Signal distribution - Decline(0): 436, Sideways(1): 964, Rise(2): 636\n",
      "Signal distribution - Decline(0): 700, Sideways(1): 412, Rise(2): 922\n"
     ]
    },
    {
     "name": "stderr",
     "output_type": "stream",
     "text": [
      "Grid Search Progress:  21%|██▏       | 17/80 [00:03<00:11,  5.27it/s, Model=XGBoost, L=12, T=0.02]"
     ]
    },
    {
     "name": "stdout",
     "output_type": "stream",
     "text": [
      "Signal distribution - Decline(0): 595, Sideways(1): 606, Rise(2): 833\n"
     ]
    },
    {
     "name": "stderr",
     "output_type": "stream",
     "text": [
      "Grid Search Progress:  22%|██▎       | 18/80 [00:03<00:12,  5.11it/s, Model=XGBoost, L=12, T=0.03]"
     ]
    },
    {
     "name": "stdout",
     "output_type": "stream",
     "text": [
      "Signal distribution - Decline(0): 529, Sideways(1): 753, Rise(2): 752\n"
     ]
    },
    {
     "name": "stderr",
     "output_type": "stream",
     "text": [
      "Grid Search Progress:  24%|██▍       | 19/80 [00:03<00:12,  4.86it/s, Model=XGBoost, L=12, T=0.04]"
     ]
    },
    {
     "name": "stdout",
     "output_type": "stream",
     "text": [
      "Signal distribution - Decline(0): 460, Sideways(1): 898, Rise(2): 676\n"
     ]
    },
    {
     "name": "stderr",
     "output_type": "stream",
     "text": [
      "Grid Search Progress:  25%|██▌       | 20/80 [00:03<00:12,  4.66it/s, Model=XGBoost, L=12, T=0.05]"
     ]
    },
    {
     "name": "stdout",
     "output_type": "stream",
     "text": [
      "Signal distribution - Decline(0): 558, Sideways(1): 806, Rise(2): 679\n",
      "PyTorch data prepared - Train: torch.Size([1525, 10, 12]), Test: torch.Size([509, 10, 12])\n"
     ]
    },
    {
     "name": "stderr",
     "output_type": "stream",
     "text": [
      "Grid Search Progress:  26%|██▋       | 21/80 [00:11<02:27,  2.50s/it, Model=LSTM, L=3, T=0.02]    "
     ]
    },
    {
     "name": "stdout",
     "output_type": "stream",
     "text": [
      "Signal distribution - Decline(0): 417, Sideways(1): 1081, Rise(2): 545\n",
      "PyTorch data prepared - Train: torch.Size([1525, 10, 12]), Test: torch.Size([509, 10, 12])\n"
     ]
    },
    {
     "name": "stderr",
     "output_type": "stream",
     "text": [
      "Grid Search Progress:  28%|██▊       | 22/80 [00:17<03:29,  3.61s/it, Model=LSTM, L=3, T=0.03]"
     ]
    },
    {
     "name": "stdout",
     "output_type": "stream",
     "text": [
      "Signal distribution - Decline(0): 316, Sideways(1): 1284, Rise(2): 443\n",
      "PyTorch data prepared - Train: torch.Size([1525, 10, 12]), Test: torch.Size([509, 10, 12])\n"
     ]
    },
    {
     "name": "stderr",
     "output_type": "stream",
     "text": [
      "Grid Search Progress:  29%|██▉       | 23/80 [00:23<04:00,  4.22s/it, Model=LSTM, L=3, T=0.04]"
     ]
    },
    {
     "name": "stdout",
     "output_type": "stream",
     "text": [
      "Signal distribution - Decline(0): 234, Sideways(1): 1480, Rise(2): 329\n",
      "PyTorch data prepared - Train: torch.Size([1525, 10, 12]), Test: torch.Size([509, 10, 12])\n"
     ]
    },
    {
     "name": "stderr",
     "output_type": "stream",
     "text": [
      "Grid Search Progress:  30%|███       | 24/80 [00:28<04:12,  4.51s/it, Model=LSTM, L=3, T=0.05]"
     ]
    },
    {
     "name": "stdout",
     "output_type": "stream",
     "text": [
      "Signal distribution - Decline(0): 603, Sideways(1): 644, Rise(2): 794\n",
      "PyTorch data prepared - Train: torch.Size([1524, 10, 12]), Test: torch.Size([508, 10, 12])\n"
     ]
    },
    {
     "name": "stderr",
     "output_type": "stream",
     "text": [
      "Grid Search Progress:  31%|███▏      | 25/80 [00:34<04:21,  4.75s/it, Model=LSTM, L=5, T=0.02]"
     ]
    },
    {
     "name": "stdout",
     "output_type": "stream",
     "text": [
      "Signal distribution - Decline(0): 487, Sideways(1): 890, Rise(2): 664\n",
      "PyTorch data prepared - Train: torch.Size([1524, 10, 12]), Test: torch.Size([508, 10, 12])\n"
     ]
    },
    {
     "name": "stderr",
     "output_type": "stream",
     "text": [
      "Grid Search Progress:  32%|███▎      | 26/80 [00:39<04:24,  4.89s/it, Model=LSTM, L=5, T=0.03]"
     ]
    },
    {
     "name": "stdout",
     "output_type": "stream",
     "text": [
      "Signal distribution - Decline(0): 400, Sideways(1): 1069, Rise(2): 572\n",
      "PyTorch data prepared - Train: torch.Size([1524, 10, 12]), Test: torch.Size([508, 10, 12])\n"
     ]
    },
    {
     "name": "stderr",
     "output_type": "stream",
     "text": [
      "Grid Search Progress:  34%|███▍      | 27/80 [00:45<04:34,  5.17s/it, Model=LSTM, L=5, T=0.04]"
     ]
    },
    {
     "name": "stdout",
     "output_type": "stream",
     "text": [
      "Signal distribution - Decline(0): 329, Sideways(1): 1243, Rise(2): 469\n",
      "PyTorch data prepared - Train: torch.Size([1524, 10, 12]), Test: torch.Size([508, 10, 12])\n"
     ]
    },
    {
     "name": "stderr",
     "output_type": "stream",
     "text": [
      "Grid Search Progress:  35%|███▌      | 28/80 [00:51<04:39,  5.38s/it, Model=LSTM, L=5, T=0.05]"
     ]
    },
    {
     "name": "stdout",
     "output_type": "stream",
     "text": [
      "Signal distribution - Decline(0): 671, Sideways(1): 509, Rise(2): 858\n",
      "PyTorch data prepared - Train: torch.Size([1521, 10, 12]), Test: torch.Size([508, 10, 12])\n"
     ]
    },
    {
     "name": "stderr",
     "output_type": "stream",
     "text": [
      "Grid Search Progress:  36%|███▋      | 29/80 [00:56<04:33,  5.35s/it, Model=LSTM, L=8, T=0.02]"
     ]
    },
    {
     "name": "stdout",
     "output_type": "stream",
     "text": [
      "Signal distribution - Decline(0): 560, Sideways(1): 718, Rise(2): 760\n",
      "PyTorch data prepared - Train: torch.Size([1521, 10, 12]), Test: torch.Size([508, 10, 12])\n"
     ]
    },
    {
     "name": "stderr",
     "output_type": "stream",
     "text": [
      "Grid Search Progress:  38%|███▊      | 30/80 [01:01<04:25,  5.31s/it, Model=LSTM, L=8, T=0.03]"
     ]
    },
    {
     "name": "stdout",
     "output_type": "stream",
     "text": [
      "Signal distribution - Decline(0): 468, Sideways(1): 912, Rise(2): 658\n",
      "PyTorch data prepared - Train: torch.Size([1521, 10, 12]), Test: torch.Size([508, 10, 12])\n"
     ]
    },
    {
     "name": "stderr",
     "output_type": "stream",
     "text": [
      "Grid Search Progress:  39%|███▉      | 31/80 [01:06<04:22,  5.35s/it, Model=LSTM, L=8, T=0.04]"
     ]
    },
    {
     "name": "stdout",
     "output_type": "stream",
     "text": [
      "Signal distribution - Decline(0): 386, Sideways(1): 1092, Rise(2): 560\n",
      "PyTorch data prepared - Train: torch.Size([1521, 10, 12]), Test: torch.Size([508, 10, 12])\n"
     ]
    },
    {
     "name": "stderr",
     "output_type": "stream",
     "text": [
      "Grid Search Progress:  40%|████      | 32/80 [01:12<04:20,  5.43s/it, Model=LSTM, L=8, T=0.05]"
     ]
    },
    {
     "name": "stdout",
     "output_type": "stream",
     "text": [
      "Signal distribution - Decline(0): 684, Sideways(1): 456, Rise(2): 896\n",
      "PyTorch data prepared - Train: torch.Size([1520, 10, 12]), Test: torch.Size([507, 10, 12])\n"
     ]
    },
    {
     "name": "stderr",
     "output_type": "stream",
     "text": [
      "Grid Search Progress:  41%|████▏     | 33/80 [01:18<04:21,  5.56s/it, Model=LSTM, L=10, T=0.02]"
     ]
    },
    {
     "name": "stdout",
     "output_type": "stream",
     "text": [
      "Signal distribution - Decline(0): 601, Sideways(1): 648, Rise(2): 787\n",
      "PyTorch data prepared - Train: torch.Size([1520, 10, 12]), Test: torch.Size([507, 10, 12])\n"
     ]
    },
    {
     "name": "stderr",
     "output_type": "stream",
     "text": [
      "Grid Search Progress:  42%|████▎     | 34/80 [01:23<04:14,  5.53s/it, Model=LSTM, L=10, T=0.03]"
     ]
    },
    {
     "name": "stdout",
     "output_type": "stream",
     "text": [
      "Signal distribution - Decline(0): 511, Sideways(1): 816, Rise(2): 709\n",
      "PyTorch data prepared - Train: torch.Size([1520, 10, 12]), Test: torch.Size([507, 10, 12])\n"
     ]
    },
    {
     "name": "stderr",
     "output_type": "stream",
     "text": [
      "Grid Search Progress:  44%|████▍     | 35/80 [01:29<04:05,  5.45s/it, Model=LSTM, L=10, T=0.04]"
     ]
    },
    {
     "name": "stdout",
     "output_type": "stream",
     "text": [
      "Signal distribution - Decline(0): 436, Sideways(1): 964, Rise(2): 636\n",
      "PyTorch data prepared - Train: torch.Size([1520, 10, 12]), Test: torch.Size([507, 10, 12])\n"
     ]
    },
    {
     "name": "stderr",
     "output_type": "stream",
     "text": [
      "Grid Search Progress:  45%|████▌     | 36/80 [01:34<04:01,  5.49s/it, Model=LSTM, L=10, T=0.05]"
     ]
    },
    {
     "name": "stdout",
     "output_type": "stream",
     "text": [
      "Signal distribution - Decline(0): 700, Sideways(1): 412, Rise(2): 922\n",
      "PyTorch data prepared - Train: torch.Size([1518, 10, 12]), Test: torch.Size([507, 10, 12])\n"
     ]
    },
    {
     "name": "stderr",
     "output_type": "stream",
     "text": [
      "Grid Search Progress:  46%|████▋     | 37/80 [01:40<04:05,  5.71s/it, Model=LSTM, L=12, T=0.02]"
     ]
    },
    {
     "name": "stdout",
     "output_type": "stream",
     "text": [
      "Signal distribution - Decline(0): 595, Sideways(1): 606, Rise(2): 833\n",
      "PyTorch data prepared - Train: torch.Size([1518, 10, 12]), Test: torch.Size([507, 10, 12])\n"
     ]
    },
    {
     "name": "stderr",
     "output_type": "stream",
     "text": [
      "Grid Search Progress:  48%|████▊     | 38/80 [01:46<03:52,  5.55s/it, Model=LSTM, L=12, T=0.03]"
     ]
    },
    {
     "name": "stdout",
     "output_type": "stream",
     "text": [
      "Signal distribution - Decline(0): 529, Sideways(1): 753, Rise(2): 752\n",
      "PyTorch data prepared - Train: torch.Size([1518, 10, 12]), Test: torch.Size([507, 10, 12])\n"
     ]
    },
    {
     "name": "stderr",
     "output_type": "stream",
     "text": [
      "Grid Search Progress:  49%|████▉     | 39/80 [01:51<03:40,  5.37s/it, Model=LSTM, L=12, T=0.04]"
     ]
    },
    {
     "name": "stdout",
     "output_type": "stream",
     "text": [
      "Signal distribution - Decline(0): 460, Sideways(1): 898, Rise(2): 676\n",
      "PyTorch data prepared - Train: torch.Size([1518, 10, 12]), Test: torch.Size([507, 10, 12])\n"
     ]
    },
    {
     "name": "stderr",
     "output_type": "stream",
     "text": [
      "Grid Search Progress:  50%|█████     | 40/80 [01:55<03:28,  5.22s/it, Model=LSTM, L=12, T=0.05]"
     ]
    },
    {
     "name": "stdout",
     "output_type": "stream",
     "text": [
      "Signal distribution - Decline(0): 558, Sideways(1): 806, Rise(2): 679\n",
      "PyTorch data prepared - Train: torch.Size([1525, 10, 12]), Test: torch.Size([509, 10, 12])\n"
     ]
    },
    {
     "name": "stderr",
     "output_type": "stream",
     "text": [
      "Grid Search Progress:  51%|█████▏    | 41/80 [02:00<03:16,  5.04s/it, Model=GRU, L=3, T=0.02]  "
     ]
    },
    {
     "name": "stdout",
     "output_type": "stream",
     "text": [
      "Signal distribution - Decline(0): 417, Sideways(1): 1081, Rise(2): 545\n",
      "PyTorch data prepared - Train: torch.Size([1525, 10, 12]), Test: torch.Size([509, 10, 12])\n"
     ]
    },
    {
     "name": "stderr",
     "output_type": "stream",
     "text": [
      "Grid Search Progress:  52%|█████▎    | 42/80 [02:05<03:06,  4.91s/it, Model=GRU, L=3, T=0.03]"
     ]
    },
    {
     "name": "stdout",
     "output_type": "stream",
     "text": [
      "Signal distribution - Decline(0): 316, Sideways(1): 1284, Rise(2): 443\n",
      "PyTorch data prepared - Train: torch.Size([1525, 10, 12]), Test: torch.Size([509, 10, 12])\n"
     ]
    },
    {
     "name": "stderr",
     "output_type": "stream",
     "text": [
      "Grid Search Progress:  54%|█████▍    | 43/80 [02:10<03:01,  4.91s/it, Model=GRU, L=3, T=0.04]"
     ]
    },
    {
     "name": "stdout",
     "output_type": "stream",
     "text": [
      "Signal distribution - Decline(0): 234, Sideways(1): 1480, Rise(2): 329\n",
      "PyTorch data prepared - Train: torch.Size([1525, 10, 12]), Test: torch.Size([509, 10, 12])\n"
     ]
    },
    {
     "name": "stderr",
     "output_type": "stream",
     "text": [
      "Grid Search Progress:  55%|█████▌    | 44/80 [02:15<03:00,  5.00s/it, Model=GRU, L=3, T=0.05]"
     ]
    },
    {
     "name": "stdout",
     "output_type": "stream",
     "text": [
      "Signal distribution - Decline(0): 603, Sideways(1): 644, Rise(2): 794\n",
      "PyTorch data prepared - Train: torch.Size([1524, 10, 12]), Test: torch.Size([508, 10, 12])\n"
     ]
    },
    {
     "name": "stderr",
     "output_type": "stream",
     "text": [
      "Grid Search Progress:  56%|█████▋    | 45/80 [02:20<02:53,  4.94s/it, Model=GRU, L=5, T=0.02]"
     ]
    },
    {
     "name": "stdout",
     "output_type": "stream",
     "text": [
      "Signal distribution - Decline(0): 487, Sideways(1): 890, Rise(2): 664\n",
      "PyTorch data prepared - Train: torch.Size([1524, 10, 12]), Test: torch.Size([508, 10, 12])\n"
     ]
    },
    {
     "name": "stderr",
     "output_type": "stream",
     "text": [
      "Grid Search Progress:  57%|█████▊    | 46/80 [02:24<02:45,  4.87s/it, Model=GRU, L=5, T=0.03]"
     ]
    },
    {
     "name": "stdout",
     "output_type": "stream",
     "text": [
      "Signal distribution - Decline(0): 400, Sideways(1): 1069, Rise(2): 572\n",
      "PyTorch data prepared - Train: torch.Size([1524, 10, 12]), Test: torch.Size([508, 10, 12])\n"
     ]
    },
    {
     "name": "stderr",
     "output_type": "stream",
     "text": [
      "Grid Search Progress:  59%|█████▉    | 47/80 [02:30<02:45,  5.01s/it, Model=GRU, L=5, T=0.04]"
     ]
    },
    {
     "name": "stdout",
     "output_type": "stream",
     "text": [
      "Signal distribution - Decline(0): 329, Sideways(1): 1243, Rise(2): 469\n",
      "PyTorch data prepared - Train: torch.Size([1524, 10, 12]), Test: torch.Size([508, 10, 12])\n"
     ]
    },
    {
     "name": "stderr",
     "output_type": "stream",
     "text": [
      "Grid Search Progress:  60%|██████    | 48/80 [02:35<02:39,  4.99s/it, Model=GRU, L=5, T=0.05]"
     ]
    },
    {
     "name": "stdout",
     "output_type": "stream",
     "text": [
      "Signal distribution - Decline(0): 671, Sideways(1): 509, Rise(2): 858\n",
      "PyTorch data prepared - Train: torch.Size([1521, 10, 12]), Test: torch.Size([508, 10, 12])\n"
     ]
    },
    {
     "name": "stderr",
     "output_type": "stream",
     "text": [
      "Grid Search Progress:  61%|██████▏   | 49/80 [02:39<02:26,  4.71s/it, Model=GRU, L=8, T=0.02]"
     ]
    },
    {
     "name": "stdout",
     "output_type": "stream",
     "text": [
      "Signal distribution - Decline(0): 560, Sideways(1): 718, Rise(2): 760\n",
      "PyTorch data prepared - Train: torch.Size([1521, 10, 12]), Test: torch.Size([508, 10, 12])\n"
     ]
    },
    {
     "name": "stderr",
     "output_type": "stream",
     "text": [
      "Grid Search Progress:  62%|██████▎   | 50/80 [02:43<02:15,  4.52s/it, Model=GRU, L=8, T=0.03]"
     ]
    },
    {
     "name": "stdout",
     "output_type": "stream",
     "text": [
      "Signal distribution - Decline(0): 468, Sideways(1): 912, Rise(2): 658\n",
      "PyTorch data prepared - Train: torch.Size([1521, 10, 12]), Test: torch.Size([508, 10, 12])\n"
     ]
    },
    {
     "name": "stderr",
     "output_type": "stream",
     "text": [
      "Grid Search Progress:  64%|██████▍   | 51/80 [02:47<02:11,  4.54s/it, Model=GRU, L=8, T=0.04]"
     ]
    },
    {
     "name": "stdout",
     "output_type": "stream",
     "text": [
      "Signal distribution - Decline(0): 386, Sideways(1): 1092, Rise(2): 560\n",
      "PyTorch data prepared - Train: torch.Size([1521, 10, 12]), Test: torch.Size([508, 10, 12])\n"
     ]
    },
    {
     "name": "stderr",
     "output_type": "stream",
     "text": [
      "Grid Search Progress:  65%|██████▌   | 52/80 [02:52<02:08,  4.58s/it, Model=GRU, L=8, T=0.05]"
     ]
    },
    {
     "name": "stdout",
     "output_type": "stream",
     "text": [
      "Signal distribution - Decline(0): 684, Sideways(1): 456, Rise(2): 896\n",
      "PyTorch data prepared - Train: torch.Size([1520, 10, 12]), Test: torch.Size([507, 10, 12])\n"
     ]
    },
    {
     "name": "stderr",
     "output_type": "stream",
     "text": [
      "Grid Search Progress:  66%|██████▋   | 53/80 [02:57<02:05,  4.66s/it, Model=GRU, L=10, T=0.02]"
     ]
    },
    {
     "name": "stdout",
     "output_type": "stream",
     "text": [
      "Signal distribution - Decline(0): 601, Sideways(1): 648, Rise(2): 787\n",
      "PyTorch data prepared - Train: torch.Size([1520, 10, 12]), Test: torch.Size([507, 10, 12])\n"
     ]
    },
    {
     "name": "stderr",
     "output_type": "stream",
     "text": [
      "Grid Search Progress:  68%|██████▊   | 54/80 [03:02<02:07,  4.92s/it, Model=GRU, L=10, T=0.03]"
     ]
    },
    {
     "name": "stdout",
     "output_type": "stream",
     "text": [
      "Signal distribution - Decline(0): 511, Sideways(1): 816, Rise(2): 709\n",
      "PyTorch data prepared - Train: torch.Size([1520, 10, 12]), Test: torch.Size([507, 10, 12])\n"
     ]
    },
    {
     "name": "stderr",
     "output_type": "stream",
     "text": [
      "Grid Search Progress:  69%|██████▉   | 55/80 [03:08<02:06,  5.05s/it, Model=GRU, L=10, T=0.04]"
     ]
    },
    {
     "name": "stdout",
     "output_type": "stream",
     "text": [
      "Signal distribution - Decline(0): 436, Sideways(1): 964, Rise(2): 636\n",
      "PyTorch data prepared - Train: torch.Size([1520, 10, 12]), Test: torch.Size([507, 10, 12])\n"
     ]
    },
    {
     "name": "stderr",
     "output_type": "stream",
     "text": [
      "Grid Search Progress:  70%|███████   | 56/80 [03:13<02:02,  5.09s/it, Model=GRU, L=10, T=0.05]"
     ]
    },
    {
     "name": "stdout",
     "output_type": "stream",
     "text": [
      "Signal distribution - Decline(0): 700, Sideways(1): 412, Rise(2): 922\n",
      "PyTorch data prepared - Train: torch.Size([1518, 10, 12]), Test: torch.Size([507, 10, 12])\n"
     ]
    },
    {
     "name": "stderr",
     "output_type": "stream",
     "text": [
      "Grid Search Progress:  71%|███████▏  | 57/80 [03:18<01:57,  5.10s/it, Model=GRU, L=12, T=0.02]"
     ]
    },
    {
     "name": "stdout",
     "output_type": "stream",
     "text": [
      "Signal distribution - Decline(0): 595, Sideways(1): 606, Rise(2): 833\n",
      "PyTorch data prepared - Train: torch.Size([1518, 10, 12]), Test: torch.Size([507, 10, 12])\n"
     ]
    },
    {
     "name": "stderr",
     "output_type": "stream",
     "text": [
      "Grid Search Progress:  72%|███████▎  | 58/80 [03:23<01:49,  4.97s/it, Model=GRU, L=12, T=0.03]"
     ]
    },
    {
     "name": "stdout",
     "output_type": "stream",
     "text": [
      "Signal distribution - Decline(0): 529, Sideways(1): 753, Rise(2): 752\n",
      "PyTorch data prepared - Train: torch.Size([1518, 10, 12]), Test: torch.Size([507, 10, 12])\n"
     ]
    },
    {
     "name": "stderr",
     "output_type": "stream",
     "text": [
      "Grid Search Progress:  74%|███████▍  | 59/80 [03:27<01:43,  4.91s/it, Model=GRU, L=12, T=0.04]"
     ]
    },
    {
     "name": "stdout",
     "output_type": "stream",
     "text": [
      "Signal distribution - Decline(0): 460, Sideways(1): 898, Rise(2): 676\n",
      "PyTorch data prepared - Train: torch.Size([1518, 10, 12]), Test: torch.Size([507, 10, 12])\n"
     ]
    },
    {
     "name": "stderr",
     "output_type": "stream",
     "text": [
      "Grid Search Progress:  75%|███████▌  | 60/80 [03:32<01:36,  4.83s/it, Model=GRU, L=12, T=0.05]"
     ]
    },
    {
     "name": "stdout",
     "output_type": "stream",
     "text": [
      "Signal distribution - Decline(0): 558, Sideways(1): 806, Rise(2): 679\n",
      "PyTorch data prepared - Train: torch.Size([1525, 10, 12]), Test: torch.Size([509, 10, 12])\n"
     ]
    },
    {
     "name": "stderr",
     "output_type": "stream",
     "text": [
      "Grid Search Progress:  76%|███████▋  | 61/80 [03:36<01:29,  4.70s/it, Model=CNN, L=3, T=0.02] "
     ]
    },
    {
     "name": "stdout",
     "output_type": "stream",
     "text": [
      "Signal distribution - Decline(0): 417, Sideways(1): 1081, Rise(2): 545\n",
      "PyTorch data prepared - Train: torch.Size([1525, 10, 12]), Test: torch.Size([509, 10, 12])\n"
     ]
    },
    {
     "name": "stderr",
     "output_type": "stream",
     "text": [
      "Grid Search Progress:  78%|███████▊  | 62/80 [03:41<01:21,  4.53s/it, Model=CNN, L=3, T=0.03]"
     ]
    },
    {
     "name": "stdout",
     "output_type": "stream",
     "text": [
      "Signal distribution - Decline(0): 316, Sideways(1): 1284, Rise(2): 443\n",
      "PyTorch data prepared - Train: torch.Size([1525, 10, 12]), Test: torch.Size([509, 10, 12])\n"
     ]
    },
    {
     "name": "stderr",
     "output_type": "stream",
     "text": [
      "Grid Search Progress:  79%|███████▉  | 63/80 [03:45<01:15,  4.41s/it, Model=CNN, L=3, T=0.04]"
     ]
    },
    {
     "name": "stdout",
     "output_type": "stream",
     "text": [
      "Signal distribution - Decline(0): 234, Sideways(1): 1480, Rise(2): 329\n",
      "PyTorch data prepared - Train: torch.Size([1525, 10, 12]), Test: torch.Size([509, 10, 12])\n"
     ]
    },
    {
     "name": "stderr",
     "output_type": "stream",
     "text": [
      "Grid Search Progress:  80%|████████  | 64/80 [03:49<01:08,  4.28s/it, Model=CNN, L=3, T=0.05]"
     ]
    },
    {
     "name": "stdout",
     "output_type": "stream",
     "text": [
      "Signal distribution - Decline(0): 603, Sideways(1): 644, Rise(2): 794\n",
      "PyTorch data prepared - Train: torch.Size([1524, 10, 12]), Test: torch.Size([508, 10, 12])\n"
     ]
    },
    {
     "name": "stderr",
     "output_type": "stream",
     "text": [
      "Grid Search Progress:  81%|████████▏ | 65/80 [03:53<01:02,  4.17s/it, Model=CNN, L=5, T=0.02]"
     ]
    },
    {
     "name": "stdout",
     "output_type": "stream",
     "text": [
      "Signal distribution - Decline(0): 487, Sideways(1): 890, Rise(2): 664\n",
      "PyTorch data prepared - Train: torch.Size([1524, 10, 12]), Test: torch.Size([508, 10, 12])\n"
     ]
    },
    {
     "name": "stderr",
     "output_type": "stream",
     "text": [
      "Grid Search Progress:  82%|████████▎ | 66/80 [03:57<00:57,  4.09s/it, Model=CNN, L=5, T=0.03]"
     ]
    },
    {
     "name": "stdout",
     "output_type": "stream",
     "text": [
      "Signal distribution - Decline(0): 400, Sideways(1): 1069, Rise(2): 572\n",
      "PyTorch data prepared - Train: torch.Size([1524, 10, 12]), Test: torch.Size([508, 10, 12])\n"
     ]
    },
    {
     "name": "stderr",
     "output_type": "stream",
     "text": [
      "Grid Search Progress:  84%|████████▍ | 67/80 [04:01<00:52,  4.06s/it, Model=CNN, L=5, T=0.04]"
     ]
    },
    {
     "name": "stdout",
     "output_type": "stream",
     "text": [
      "Signal distribution - Decline(0): 329, Sideways(1): 1243, Rise(2): 469\n",
      "PyTorch data prepared - Train: torch.Size([1524, 10, 12]), Test: torch.Size([508, 10, 12])\n"
     ]
    },
    {
     "name": "stderr",
     "output_type": "stream",
     "text": [
      "Grid Search Progress:  85%|████████▌ | 68/80 [04:05<00:48,  4.04s/it, Model=CNN, L=5, T=0.05]"
     ]
    },
    {
     "name": "stdout",
     "output_type": "stream",
     "text": [
      "Signal distribution - Decline(0): 671, Sideways(1): 509, Rise(2): 858\n",
      "PyTorch data prepared - Train: torch.Size([1521, 10, 12]), Test: torch.Size([508, 10, 12])\n"
     ]
    },
    {
     "name": "stderr",
     "output_type": "stream",
     "text": [
      "Grid Search Progress:  86%|████████▋ | 69/80 [04:08<00:44,  4.02s/it, Model=CNN, L=8, T=0.02]"
     ]
    },
    {
     "name": "stdout",
     "output_type": "stream",
     "text": [
      "Signal distribution - Decline(0): 560, Sideways(1): 718, Rise(2): 760\n",
      "PyTorch data prepared - Train: torch.Size([1521, 10, 12]), Test: torch.Size([508, 10, 12])\n"
     ]
    },
    {
     "name": "stderr",
     "output_type": "stream",
     "text": [
      "Grid Search Progress:  88%|████████▊ | 70/80 [04:12<00:39,  3.98s/it, Model=CNN, L=8, T=0.03]"
     ]
    },
    {
     "name": "stdout",
     "output_type": "stream",
     "text": [
      "Signal distribution - Decline(0): 468, Sideways(1): 912, Rise(2): 658\n",
      "PyTorch data prepared - Train: torch.Size([1521, 10, 12]), Test: torch.Size([508, 10, 12])\n"
     ]
    },
    {
     "name": "stderr",
     "output_type": "stream",
     "text": [
      "Grid Search Progress:  89%|████████▉ | 71/80 [04:16<00:35,  3.97s/it, Model=CNN, L=8, T=0.04]"
     ]
    },
    {
     "name": "stdout",
     "output_type": "stream",
     "text": [
      "Signal distribution - Decline(0): 386, Sideways(1): 1092, Rise(2): 560\n",
      "PyTorch data prepared - Train: torch.Size([1521, 10, 12]), Test: torch.Size([508, 10, 12])\n"
     ]
    },
    {
     "name": "stderr",
     "output_type": "stream",
     "text": [
      "Grid Search Progress:  90%|█████████ | 72/80 [04:21<00:32,  4.04s/it, Model=CNN, L=8, T=0.05]"
     ]
    },
    {
     "name": "stdout",
     "output_type": "stream",
     "text": [
      "Signal distribution - Decline(0): 684, Sideways(1): 456, Rise(2): 896\n",
      "PyTorch data prepared - Train: torch.Size([1520, 10, 12]), Test: torch.Size([507, 10, 12])\n"
     ]
    },
    {
     "name": "stderr",
     "output_type": "stream",
     "text": [
      "Grid Search Progress:  91%|█████████▏| 73/80 [04:25<00:28,  4.06s/it, Model=CNN, L=10, T=0.02]"
     ]
    },
    {
     "name": "stdout",
     "output_type": "stream",
     "text": [
      "Signal distribution - Decline(0): 601, Sideways(1): 648, Rise(2): 787\n",
      "PyTorch data prepared - Train: torch.Size([1520, 10, 12]), Test: torch.Size([507, 10, 12])\n"
     ]
    },
    {
     "name": "stderr",
     "output_type": "stream",
     "text": [
      "Grid Search Progress:  92%|█████████▎| 74/80 [04:29<00:24,  4.13s/it, Model=CNN, L=10, T=0.03]"
     ]
    },
    {
     "name": "stdout",
     "output_type": "stream",
     "text": [
      "Signal distribution - Decline(0): 511, Sideways(1): 816, Rise(2): 709\n",
      "PyTorch data prepared - Train: torch.Size([1520, 10, 12]), Test: torch.Size([507, 10, 12])\n"
     ]
    },
    {
     "name": "stderr",
     "output_type": "stream",
     "text": [
      "Grid Search Progress:  94%|█████████▍| 75/80 [04:33<00:21,  4.24s/it, Model=CNN, L=10, T=0.04]"
     ]
    },
    {
     "name": "stdout",
     "output_type": "stream",
     "text": [
      "Signal distribution - Decline(0): 436, Sideways(1): 964, Rise(2): 636\n",
      "PyTorch data prepared - Train: torch.Size([1520, 10, 12]), Test: torch.Size([507, 10, 12])\n"
     ]
    },
    {
     "name": "stderr",
     "output_type": "stream",
     "text": [
      "Grid Search Progress:  95%|█████████▌| 76/80 [04:38<00:17,  4.25s/it, Model=CNN, L=10, T=0.05]"
     ]
    },
    {
     "name": "stdout",
     "output_type": "stream",
     "text": [
      "Signal distribution - Decline(0): 700, Sideways(1): 412, Rise(2): 922\n",
      "PyTorch data prepared - Train: torch.Size([1518, 10, 12]), Test: torch.Size([507, 10, 12])\n"
     ]
    },
    {
     "name": "stderr",
     "output_type": "stream",
     "text": [
      "Grid Search Progress:  96%|█████████▋| 77/80 [04:42<00:12,  4.27s/it, Model=CNN, L=12, T=0.02]"
     ]
    },
    {
     "name": "stdout",
     "output_type": "stream",
     "text": [
      "Signal distribution - Decline(0): 595, Sideways(1): 606, Rise(2): 833\n",
      "PyTorch data prepared - Train: torch.Size([1518, 10, 12]), Test: torch.Size([507, 10, 12])\n"
     ]
    },
    {
     "name": "stderr",
     "output_type": "stream",
     "text": [
      "Grid Search Progress:  98%|█████████▊| 78/80 [04:46<00:08,  4.23s/it, Model=CNN, L=12, T=0.03]"
     ]
    },
    {
     "name": "stdout",
     "output_type": "stream",
     "text": [
      "Signal distribution - Decline(0): 529, Sideways(1): 753, Rise(2): 752\n",
      "PyTorch data prepared - Train: torch.Size([1518, 10, 12]), Test: torch.Size([507, 10, 12])\n"
     ]
    },
    {
     "name": "stderr",
     "output_type": "stream",
     "text": [
      "Grid Search Progress:  99%|█████████▉| 79/80 [04:50<00:04,  4.19s/it, Model=CNN, L=12, T=0.04]"
     ]
    },
    {
     "name": "stdout",
     "output_type": "stream",
     "text": [
      "Signal distribution - Decline(0): 460, Sideways(1): 898, Rise(2): 676\n",
      "PyTorch data prepared - Train: torch.Size([1518, 10, 12]), Test: torch.Size([507, 10, 12])\n"
     ]
    },
    {
     "name": "stderr",
     "output_type": "stream",
     "text": [
      "Grid Search Progress: 100%|██████████| 80/80 [04:54<00:00,  3.69s/it, Model=CNN, L=12, T=0.05]"
     ]
    },
    {
     "name": "stdout",
     "output_type": "stream",
     "text": [
      "\n",
      "Results saved to: ../../results/btc_results_1d_3class.csv\n",
      "\n",
      "======================================================================\n",
      "COMPLETE EXPERIMENTAL RESULTS\n",
      "======================================================================\n",
      "      model  lookahead  threshold  accuracy  loss_count  loss_mean  \\\n",
      "0   XGBoost          3       0.02    0.5284          75     0.0387   \n",
      "1   XGBoost          3       0.03    0.5930          37     0.0366   \n",
      "2   XGBoost          3       0.04    0.6673          30     0.0451   \n",
      "3   XGBoost          3       0.05    0.7260          11     0.0661   \n",
      "4   XGBoost          5       0.02    0.6204          73     0.0446   \n",
      "..      ...        ...        ...       ...         ...        ...   \n",
      "75      CNN         10       0.05    0.4497          54     0.0527   \n",
      "76      CNN         12       0.02    0.3905         244     0.0590   \n",
      "77      CNN         12       0.03    0.3748         218     0.0527   \n",
      "78      CNN         12       0.04    0.4162          71     0.0600   \n",
      "79      CNN         12       0.05    0.4773          37     0.0631   \n",
      "\n",
      "    transaction  \n",
      "0           272  \n",
      "1           161  \n",
      "2           101  \n",
      "3            46  \n",
      "4           354  \n",
      "..          ...  \n",
      "75          114  \n",
      "76          507  \n",
      "77          484  \n",
      "78          179  \n",
      "79           75  \n",
      "\n",
      "[80 rows x 7 columns]\n",
      "\n",
      "======================================================================\n",
      "BEST PERFORMANCE BY MODEL TYPE\n",
      "======================================================================\n",
      "      model  lookahead  threshold  accuracy  loss_count  loss_mean\n",
      "63      CNN          3       0.05    0.8075           4     0.0283\n",
      "43      GRU          3       0.05    0.8173           0     0.0000\n",
      "23     LSTM          3       0.05    0.8075           3     0.0094\n",
      "11  XGBoost          8       0.05    0.7725          17     0.0379\n",
      "\n",
      "======================================================================\n",
      "OVERALL CHAMPION CONFIGURATION\n",
      "======================================================================\n",
      "Best Model: GRU\n",
      "Optimal Lookahead: 3 days\n",
      "Optimal Threshold: 0.050\n",
      "Peak Accuracy: 0.8173 (81.73%)\n",
      "Loss Events: 0\n",
      "Average Loss: 0.000000\n",
      "\n",
      "==================================================\n",
      "SUMMARY\n",
      "==================================================\n",
      "Total experiments: 80\n",
      "Best accuracy: 0.8173\n",
      "Average accuracy: 0.5188\n",
      "\n",
      "Best configuration:\n",
      "Model: GRU, Lookahead: 3, Threshold: 0.05\n"
     ]
    },
    {
     "name": "stderr",
     "output_type": "stream",
     "text": [
      "\n"
     ]
    }
   ],
   "source": [
    "\"\"\"\n",
    "Bitcoin Price Movement Prediction - Main Execution Script\n",
    "\"\"\"\n",
    "\n",
    "import pandas as pd\n",
    "import torch\n",
    "import warnings\n",
    "warnings.filterwarnings('ignore')\n",
    "\n",
    "from experiment_runner import ExperimentRunner\n",
    "\n",
    "def btc_1d():\n",
    "    \"\"\"Main execution function\"\"\"\n",
    "    \n",
    "    # ============= CONFIGURATION =============\n",
    "    # Tùy chỉnh các tham số tại đây\n",
    "    \n",
    "    DATA_PATH = r'F:\\up_git\\official_predict\\data\\btc_1d.csv'  # Đường dẫn file data\n",
    "    \n",
    "    # Tạo thư mục results ở cấp trên 2 cấp nếu chưa có\n",
    "    import os\n",
    "    results_dir = os.path.join('..', '..', 'results')\n",
    "    os.makedirs(results_dir, exist_ok=True)\n",
    "    \n",
    "    OUTPUT_FILENAME = '../../results/btc_results_1d_3class.csv'  # Lưu vào thư mục results cấp trên 2\n",
    "    \n",
    "    # Parameters\n",
    "    LOOKAHEAD_VALUES = [3, 5, 8, 10,12]  # Số ngày dự đoán\n",
    "    THRESHOLD_VALUES = [0.02, 0.03, 0.04, 0.05]  # Ngưỡng phân loại\n",
    "    \n",
    "    MODEL_TYPES = ['XGBoost', 'LSTM', 'GRU', 'CNN']  # Các model cần test\n",
    "    SEQUENCE_LENGTH = 10  # Độ dài chuỗi cho deep learning\n",
    "    \n",
    "    # ============= CHẠY THÍ NGHIỆM =============\n",
    "    \n",
    "    print(f\"Using device: {torch.device('cuda' if torch.cuda.is_available() else 'cpu')}\")\n",
    "    \n",
    "    runner = ExperimentRunner(\n",
    "        data_path=DATA_PATH,\n",
    "        output_filename=OUTPUT_FILENAME,\n",
    "        sequence_length=SEQUENCE_LENGTH,\n",
    "        verbose=False\n",
    "    )\n",
    "    \n",
    "    results = runner.run_grid_search(\n",
    "        lookahead_values=LOOKAHEAD_VALUES,\n",
    "        threshold_values=THRESHOLD_VALUES,\n",
    "        model_types=MODEL_TYPES\n",
    "    )\n",
    "    \n",
    "    # ============= HIỂN THỊ KẾT QUẢ =============\n",
    "    \n",
    "    if results is not None and not results.empty:\n",
    "        runner.display_results(results)\n",
    "        \n",
    "        # Thống kê tóm tắt\n",
    "        print(f\"\\n{'='*50}\")\n",
    "        print(\"SUMMARY\")\n",
    "        print(f\"{'='*50}\")\n",
    "        print(f\"Total experiments: {len(results)}\")\n",
    "        print(f\"Best accuracy: {results['accuracy'].max():.4f}\")\n",
    "        print(f\"Average accuracy: {results['accuracy'].mean():.4f}\")\n",
    "        \n",
    "        # Kết quả tốt nhất\n",
    "        best = results.loc[results['accuracy'].idxmax()]\n",
    "        print(f\"\\nBest configuration:\")\n",
    "        print(f\"Model: {best['model']}, Lookahead: {best['lookahead']}, Threshold: {best['threshold']}\")\n",
    "        \n",
    "    else:\n",
    "        print(\"No results generated.\")\n",
    "\n",
    "btc_1d()"
   ]
  },
  {
   "cell_type": "code",
   "execution_count": 3,
   "id": "032075c0",
   "metadata": {},
   "outputs": [
    {
     "name": "stdout",
     "output_type": "stream",
     "text": [
      "Using device: cuda\n",
      "Using device: cuda\n",
      "Loading and preparing Bitcoin data...\n",
      "Successfully loaded data from: F:\\up_git\\official_predict\\data\\btc_4h.csv\n",
      "Data shape: (12442, 6)\n",
      "Technical indicators added successfully\n",
      "Features normalized successfully\n",
      "Final dataset shape: (12414, 18)\n",
      "Starting grid search with 80 experiments...\n",
      "Lookahead values: [3, 5, 8, 10, 12]\n",
      "Threshold values: [0.005, 0.01, 0.02, 0.025]\n",
      "Model types: ['XGBoost', 'LSTM', 'GRU', 'CNN']\n"
     ]
    },
    {
     "name": "stderr",
     "output_type": "stream",
     "text": [
      "Grid Search Progress:   0%|          | 0/80 [00:00<?, ?it/s]"
     ]
    },
    {
     "name": "stdout",
     "output_type": "stream",
     "text": [
      "Signal distribution - Decline(0): 4024, Sideways(1): 3943, Rise(2): 4444\n"
     ]
    },
    {
     "name": "stderr",
     "output_type": "stream",
     "text": [
      "Grid Search Progress:   1%|▏         | 1/80 [00:00<00:25,  3.10it/s, Model=XGBoost, L=3, T=0.01]"
     ]
    },
    {
     "name": "stdout",
     "output_type": "stream",
     "text": [
      "Signal distribution - Decline(0): 2736, Sideways(1): 6555, Rise(2): 3120\n"
     ]
    },
    {
     "name": "stderr",
     "output_type": "stream",
     "text": [
      "Grid Search Progress:   2%|▎         | 2/80 [00:00<00:26,  2.90it/s, Model=XGBoost, L=3, T=0.01]"
     ]
    },
    {
     "name": "stdout",
     "output_type": "stream",
     "text": [
      "Signal distribution - Decline(0): 1380, Sideways(1): 9382, Rise(2): 1649\n"
     ]
    },
    {
     "name": "stderr",
     "output_type": "stream",
     "text": [
      "Grid Search Progress:   4%|▍         | 3/80 [00:01<00:27,  2.79it/s, Model=XGBoost, L=3, T=0.02]"
     ]
    },
    {
     "name": "stdout",
     "output_type": "stream",
     "text": [
      "Signal distribution - Decline(0): 1009, Sideways(1): 10189, Rise(2): 1213\n"
     ]
    },
    {
     "name": "stderr",
     "output_type": "stream",
     "text": [
      "Grid Search Progress:   5%|▌         | 4/80 [00:01<00:27,  2.74it/s, Model=XGBoost, L=3, T=0.03]"
     ]
    },
    {
     "name": "stdout",
     "output_type": "stream",
     "text": [
      "Signal distribution - Decline(0): 4404, Sideways(1): 3056, Rise(2): 4949\n"
     ]
    },
    {
     "name": "stderr",
     "output_type": "stream",
     "text": [
      "Grid Search Progress:   6%|▋         | 5/80 [00:01<00:27,  2.71it/s, Model=XGBoost, L=5, T=0.01]"
     ]
    },
    {
     "name": "stdout",
     "output_type": "stream",
     "text": [
      "Signal distribution - Decline(0): 3363, Sideways(1): 5209, Rise(2): 3837\n"
     ]
    },
    {
     "name": "stderr",
     "output_type": "stream",
     "text": [
      "Grid Search Progress:   8%|▊         | 6/80 [00:02<00:27,  2.72it/s, Model=XGBoost, L=5, T=0.01]"
     ]
    },
    {
     "name": "stdout",
     "output_type": "stream",
     "text": [
      "Signal distribution - Decline(0): 1931, Sideways(1): 8137, Rise(2): 2341\n"
     ]
    },
    {
     "name": "stderr",
     "output_type": "stream",
     "text": [
      "Grid Search Progress:   9%|▉         | 7/80 [00:02<00:26,  2.74it/s, Model=XGBoost, L=5, T=0.02]"
     ]
    },
    {
     "name": "stdout",
     "output_type": "stream",
     "text": [
      "Signal distribution - Decline(0): 1492, Sideways(1): 9088, Rise(2): 1829\n"
     ]
    },
    {
     "name": "stderr",
     "output_type": "stream",
     "text": [
      "Grid Search Progress:  10%|█         | 8/80 [00:02<00:26,  2.77it/s, Model=XGBoost, L=5, T=0.03]"
     ]
    },
    {
     "name": "stdout",
     "output_type": "stream",
     "text": [
      "Signal distribution - Decline(0): 4701, Sideways(1): 2390, Rise(2): 5315\n"
     ]
    },
    {
     "name": "stderr",
     "output_type": "stream",
     "text": [
      "Grid Search Progress:  11%|█▏        | 9/80 [00:03<00:25,  2.77it/s, Model=XGBoost, L=8, T=0.01]"
     ]
    },
    {
     "name": "stdout",
     "output_type": "stream",
     "text": [
      "Signal distribution - Decline(0): 3774, Sideways(1): 4267, Rise(2): 4365\n"
     ]
    },
    {
     "name": "stderr",
     "output_type": "stream",
     "text": [
      "Grid Search Progress:  12%|█▎        | 10/80 [00:03<00:25,  2.71it/s, Model=XGBoost, L=8, T=0.01]"
     ]
    },
    {
     "name": "stdout",
     "output_type": "stream",
     "text": [
      "Signal distribution - Decline(0): 2453, Sideways(1): 6990, Rise(2): 2963\n"
     ]
    },
    {
     "name": "stderr",
     "output_type": "stream",
     "text": [
      "Grid Search Progress:  14%|█▍        | 11/80 [00:04<00:25,  2.67it/s, Model=XGBoost, L=8, T=0.02]"
     ]
    },
    {
     "name": "stdout",
     "output_type": "stream",
     "text": [
      "Signal distribution - Decline(0): 1987, Sideways(1): 7949, Rise(2): 2470\n"
     ]
    },
    {
     "name": "stderr",
     "output_type": "stream",
     "text": [
      "Grid Search Progress:  15%|█▌        | 12/80 [00:04<00:25,  2.69it/s, Model=XGBoost, L=8, T=0.03]"
     ]
    },
    {
     "name": "stdout",
     "output_type": "stream",
     "text": [
      "Signal distribution - Decline(0): 4876, Sideways(1): 2017, Rise(2): 5511\n"
     ]
    },
    {
     "name": "stderr",
     "output_type": "stream",
     "text": [
      "Grid Search Progress:  16%|█▋        | 13/80 [00:04<00:24,  2.71it/s, Model=XGBoost, L=10, T=0.01]"
     ]
    },
    {
     "name": "stdout",
     "output_type": "stream",
     "text": [
      "Signal distribution - Decline(0): 3991, Sideways(1): 3741, Rise(2): 4672\n"
     ]
    },
    {
     "name": "stderr",
     "output_type": "stream",
     "text": [
      "Grid Search Progress:  18%|█▊        | 14/80 [00:05<00:24,  2.73it/s, Model=XGBoost, L=10, T=0.01]"
     ]
    },
    {
     "name": "stdout",
     "output_type": "stream",
     "text": [
      "Signal distribution - Decline(0): 2681, Sideways(1): 6441, Rise(2): 3282\n"
     ]
    },
    {
     "name": "stderr",
     "output_type": "stream",
     "text": [
      "Grid Search Progress:  19%|█▉        | 15/80 [00:05<00:23,  2.75it/s, Model=XGBoost, L=10, T=0.02]"
     ]
    },
    {
     "name": "stdout",
     "output_type": "stream",
     "text": [
      "Signal distribution - Decline(0): 2223, Sideways(1): 7405, Rise(2): 2776\n"
     ]
    },
    {
     "name": "stderr",
     "output_type": "stream",
     "text": [
      "Grid Search Progress:  20%|██        | 16/80 [00:05<00:23,  2.77it/s, Model=XGBoost, L=10, T=0.03]"
     ]
    },
    {
     "name": "stdout",
     "output_type": "stream",
     "text": [
      "Signal distribution - Decline(0): 4865, Sideways(1): 1845, Rise(2): 5692\n"
     ]
    },
    {
     "name": "stderr",
     "output_type": "stream",
     "text": [
      "Grid Search Progress:  21%|██▏       | 17/80 [00:06<00:22,  2.79it/s, Model=XGBoost, L=12, T=0.01]"
     ]
    },
    {
     "name": "stdout",
     "output_type": "stream",
     "text": [
      "Signal distribution - Decline(0): 4133, Sideways(1): 3400, Rise(2): 4869\n"
     ]
    },
    {
     "name": "stderr",
     "output_type": "stream",
     "text": [
      "Grid Search Progress:  22%|██▎       | 18/80 [00:06<00:22,  2.70it/s, Model=XGBoost, L=12, T=0.01]"
     ]
    },
    {
     "name": "stdout",
     "output_type": "stream",
     "text": [
      "Signal distribution - Decline(0): 2895, Sideways(1): 5961, Rise(2): 3546\n"
     ]
    },
    {
     "name": "stderr",
     "output_type": "stream",
     "text": [
      "Grid Search Progress:  24%|██▍       | 19/80 [00:06<00:23,  2.64it/s, Model=XGBoost, L=12, T=0.02]"
     ]
    },
    {
     "name": "stdout",
     "output_type": "stream",
     "text": [
      "Signal distribution - Decline(0): 2411, Sideways(1): 6957, Rise(2): 3034\n"
     ]
    },
    {
     "name": "stderr",
     "output_type": "stream",
     "text": [
      "Grid Search Progress:  25%|██▌       | 20/80 [00:07<00:22,  2.64it/s, Model=XGBoost, L=12, T=0.03]"
     ]
    },
    {
     "name": "stdout",
     "output_type": "stream",
     "text": [
      "Signal distribution - Decline(0): 4024, Sideways(1): 3943, Rise(2): 4444\n",
      "PyTorch data prepared - Train: torch.Size([9301, 10, 12]), Test: torch.Size([3101, 10, 12])\n"
     ]
    },
    {
     "name": "stderr",
     "output_type": "stream",
     "text": [
      "Grid Search Progress:  26%|██▋       | 21/80 [00:42<10:30, 10.69s/it, Model=LSTM, L=3, T=0.01]    "
     ]
    },
    {
     "name": "stdout",
     "output_type": "stream",
     "text": [
      "Signal distribution - Decline(0): 2736, Sideways(1): 6555, Rise(2): 3120\n",
      "PyTorch data prepared - Train: torch.Size([9301, 10, 12]), Test: torch.Size([3101, 10, 12])\n"
     ]
    },
    {
     "name": "stderr",
     "output_type": "stream",
     "text": [
      "Grid Search Progress:  28%|██▊       | 22/80 [01:20<18:20, 18.97s/it, Model=LSTM, L=3, T=0.01]"
     ]
    },
    {
     "name": "stdout",
     "output_type": "stream",
     "text": [
      "Signal distribution - Decline(0): 1380, Sideways(1): 9382, Rise(2): 1649\n",
      "PyTorch data prepared - Train: torch.Size([9301, 10, 12]), Test: torch.Size([3101, 10, 12])\n"
     ]
    },
    {
     "name": "stderr",
     "output_type": "stream",
     "text": [
      "Grid Search Progress:  29%|██▉       | 23/80 [01:51<21:31, 22.66s/it, Model=LSTM, L=3, T=0.02]"
     ]
    },
    {
     "name": "stdout",
     "output_type": "stream",
     "text": [
      "Signal distribution - Decline(0): 1009, Sideways(1): 10189, Rise(2): 1213\n",
      "PyTorch data prepared - Train: torch.Size([9301, 10, 12]), Test: torch.Size([3101, 10, 12])\n"
     ]
    },
    {
     "name": "stderr",
     "output_type": "stream",
     "text": [
      "Grid Search Progress:  30%|███       | 24/80 [02:25<24:10, 25.91s/it, Model=LSTM, L=3, T=0.03]"
     ]
    },
    {
     "name": "stdout",
     "output_type": "stream",
     "text": [
      "Signal distribution - Decline(0): 4404, Sideways(1): 3056, Rise(2): 4949\n",
      "PyTorch data prepared - Train: torch.Size([9300, 10, 12]), Test: torch.Size([3100, 10, 12])\n"
     ]
    },
    {
     "name": "stderr",
     "output_type": "stream",
     "text": [
      "Grid Search Progress:  31%|███▏      | 25/80 [02:56<25:15, 27.56s/it, Model=LSTM, L=5, T=0.01]"
     ]
    },
    {
     "name": "stdout",
     "output_type": "stream",
     "text": [
      "Signal distribution - Decline(0): 3363, Sideways(1): 5209, Rise(2): 3837\n",
      "PyTorch data prepared - Train: torch.Size([9300, 10, 12]), Test: torch.Size([3100, 10, 12])\n"
     ]
    },
    {
     "name": "stderr",
     "output_type": "stream",
     "text": [
      "Grid Search Progress:  32%|███▎      | 26/80 [03:23<24:42, 27.44s/it, Model=LSTM, L=5, T=0.01]"
     ]
    },
    {
     "name": "stdout",
     "output_type": "stream",
     "text": [
      "Signal distribution - Decline(0): 1931, Sideways(1): 8137, Rise(2): 2341\n",
      "PyTorch data prepared - Train: torch.Size([9300, 10, 12]), Test: torch.Size([3100, 10, 12])\n"
     ]
    },
    {
     "name": "stderr",
     "output_type": "stream",
     "text": [
      "Grid Search Progress:  34%|███▍      | 27/80 [03:54<25:14, 28.58s/it, Model=LSTM, L=5, T=0.02]"
     ]
    },
    {
     "name": "stdout",
     "output_type": "stream",
     "text": [
      "Signal distribution - Decline(0): 1492, Sideways(1): 9088, Rise(2): 1829\n",
      "PyTorch data prepared - Train: torch.Size([9300, 10, 12]), Test: torch.Size([3100, 10, 12])\n"
     ]
    },
    {
     "name": "stderr",
     "output_type": "stream",
     "text": [
      "Grid Search Progress:  35%|███▌      | 28/80 [04:27<25:51, 29.84s/it, Model=LSTM, L=5, T=0.03]"
     ]
    },
    {
     "name": "stdout",
     "output_type": "stream",
     "text": [
      "Signal distribution - Decline(0): 4701, Sideways(1): 2390, Rise(2): 5315\n",
      "PyTorch data prepared - Train: torch.Size([9297, 10, 12]), Test: torch.Size([3100, 10, 12])\n"
     ]
    },
    {
     "name": "stderr",
     "output_type": "stream",
     "text": [
      "Grid Search Progress:  36%|███▋      | 29/80 [05:00<26:06, 30.71s/it, Model=LSTM, L=8, T=0.01]"
     ]
    },
    {
     "name": "stdout",
     "output_type": "stream",
     "text": [
      "Signal distribution - Decline(0): 3774, Sideways(1): 4267, Rise(2): 4365\n",
      "PyTorch data prepared - Train: torch.Size([9297, 10, 12]), Test: torch.Size([3100, 10, 12])\n"
     ]
    },
    {
     "name": "stderr",
     "output_type": "stream",
     "text": [
      "Grid Search Progress:  38%|███▊      | 30/80 [05:31<25:37, 30.76s/it, Model=LSTM, L=8, T=0.01]"
     ]
    },
    {
     "name": "stdout",
     "output_type": "stream",
     "text": [
      "Signal distribution - Decline(0): 2453, Sideways(1): 6990, Rise(2): 2963\n",
      "PyTorch data prepared - Train: torch.Size([9297, 10, 12]), Test: torch.Size([3100, 10, 12])\n"
     ]
    },
    {
     "name": "stderr",
     "output_type": "stream",
     "text": [
      "Grid Search Progress:  39%|███▉      | 31/80 [06:05<26:00, 31.84s/it, Model=LSTM, L=8, T=0.02]"
     ]
    },
    {
     "name": "stdout",
     "output_type": "stream",
     "text": [
      "Signal distribution - Decline(0): 1987, Sideways(1): 7949, Rise(2): 2470\n",
      "PyTorch data prepared - Train: torch.Size([9297, 10, 12]), Test: torch.Size([3100, 10, 12])\n"
     ]
    },
    {
     "name": "stderr",
     "output_type": "stream",
     "text": [
      "Grid Search Progress:  40%|████      | 32/80 [06:37<25:34, 31.97s/it, Model=LSTM, L=8, T=0.03]"
     ]
    },
    {
     "name": "stdout",
     "output_type": "stream",
     "text": [
      "Signal distribution - Decline(0): 4876, Sideways(1): 2017, Rise(2): 5511\n",
      "PyTorch data prepared - Train: torch.Size([9296, 10, 12]), Test: torch.Size([3099, 10, 12])\n"
     ]
    },
    {
     "name": "stderr",
     "output_type": "stream",
     "text": [
      "Grid Search Progress:  41%|████▏     | 33/80 [07:08<24:38, 31.46s/it, Model=LSTM, L=10, T=0.01]"
     ]
    },
    {
     "name": "stdout",
     "output_type": "stream",
     "text": [
      "Signal distribution - Decline(0): 3991, Sideways(1): 3741, Rise(2): 4672\n",
      "PyTorch data prepared - Train: torch.Size([9296, 10, 12]), Test: torch.Size([3099, 10, 12])\n"
     ]
    },
    {
     "name": "stderr",
     "output_type": "stream",
     "text": [
      "Grid Search Progress:  42%|████▎     | 34/80 [07:37<23:32, 30.70s/it, Model=LSTM, L=10, T=0.01]"
     ]
    },
    {
     "name": "stdout",
     "output_type": "stream",
     "text": [
      "Signal distribution - Decline(0): 2681, Sideways(1): 6441, Rise(2): 3282\n",
      "PyTorch data prepared - Train: torch.Size([9296, 10, 12]), Test: torch.Size([3099, 10, 12])\n"
     ]
    },
    {
     "name": "stderr",
     "output_type": "stream",
     "text": [
      "Grid Search Progress:  44%|████▍     | 35/80 [08:12<24:01, 32.04s/it, Model=LSTM, L=10, T=0.02]"
     ]
    },
    {
     "name": "stdout",
     "output_type": "stream",
     "text": [
      "Signal distribution - Decline(0): 2223, Sideways(1): 7405, Rise(2): 2776\n",
      "PyTorch data prepared - Train: torch.Size([9296, 10, 12]), Test: torch.Size([3099, 10, 12])\n"
     ]
    },
    {
     "name": "stderr",
     "output_type": "stream",
     "text": [
      "Grid Search Progress:  45%|████▌     | 36/80 [08:43<23:24, 31.91s/it, Model=LSTM, L=10, T=0.03]"
     ]
    },
    {
     "name": "stdout",
     "output_type": "stream",
     "text": [
      "Signal distribution - Decline(0): 4865, Sideways(1): 1845, Rise(2): 5692\n",
      "PyTorch data prepared - Train: torch.Size([9294, 10, 12]), Test: torch.Size([3099, 10, 12])\n"
     ]
    },
    {
     "name": "stderr",
     "output_type": "stream",
     "text": [
      "Grid Search Progress:  46%|████▋     | 37/80 [09:16<22:56, 32.02s/it, Model=LSTM, L=12, T=0.01]"
     ]
    },
    {
     "name": "stdout",
     "output_type": "stream",
     "text": [
      "Signal distribution - Decline(0): 4133, Sideways(1): 3400, Rise(2): 4869\n",
      "PyTorch data prepared - Train: torch.Size([9294, 10, 12]), Test: torch.Size([3099, 10, 12])\n"
     ]
    },
    {
     "name": "stderr",
     "output_type": "stream",
     "text": [
      "Grid Search Progress:  48%|████▊     | 38/80 [09:49<22:42, 32.43s/it, Model=LSTM, L=12, T=0.01]"
     ]
    },
    {
     "name": "stdout",
     "output_type": "stream",
     "text": [
      "Signal distribution - Decline(0): 2895, Sideways(1): 5961, Rise(2): 3546\n",
      "PyTorch data prepared - Train: torch.Size([9294, 10, 12]), Test: torch.Size([3099, 10, 12])\n"
     ]
    },
    {
     "name": "stderr",
     "output_type": "stream",
     "text": [
      "Grid Search Progress:  49%|████▉     | 39/80 [10:18<21:29, 31.45s/it, Model=LSTM, L=12, T=0.02]"
     ]
    },
    {
     "name": "stdout",
     "output_type": "stream",
     "text": [
      "Signal distribution - Decline(0): 2411, Sideways(1): 6957, Rise(2): 3034\n",
      "PyTorch data prepared - Train: torch.Size([9294, 10, 12]), Test: torch.Size([3099, 10, 12])\n"
     ]
    },
    {
     "name": "stderr",
     "output_type": "stream",
     "text": [
      "Grid Search Progress:  50%|█████     | 40/80 [10:45<20:06, 30.16s/it, Model=LSTM, L=12, T=0.03]"
     ]
    },
    {
     "name": "stdout",
     "output_type": "stream",
     "text": [
      "Signal distribution - Decline(0): 4024, Sideways(1): 3943, Rise(2): 4444\n",
      "PyTorch data prepared - Train: torch.Size([9301, 10, 12]), Test: torch.Size([3101, 10, 12])\n"
     ]
    },
    {
     "name": "stderr",
     "output_type": "stream",
     "text": [
      "Grid Search Progress:  51%|█████▏    | 41/80 [11:10<18:30, 28.47s/it, Model=GRU, L=3, T=0.01]  "
     ]
    },
    {
     "name": "stdout",
     "output_type": "stream",
     "text": [
      "Signal distribution - Decline(0): 2736, Sideways(1): 6555, Rise(2): 3120\n",
      "PyTorch data prepared - Train: torch.Size([9301, 10, 12]), Test: torch.Size([3101, 10, 12])\n"
     ]
    },
    {
     "name": "stderr",
     "output_type": "stream",
     "text": [
      "Grid Search Progress:  52%|█████▎    | 42/80 [11:35<17:20, 27.39s/it, Model=GRU, L=3, T=0.01]"
     ]
    },
    {
     "name": "stdout",
     "output_type": "stream",
     "text": [
      "Signal distribution - Decline(0): 1380, Sideways(1): 9382, Rise(2): 1649\n",
      "PyTorch data prepared - Train: torch.Size([9301, 10, 12]), Test: torch.Size([3101, 10, 12])\n"
     ]
    },
    {
     "name": "stderr",
     "output_type": "stream",
     "text": [
      "Grid Search Progress:  54%|█████▍    | 43/80 [11:58<16:09, 26.19s/it, Model=GRU, L=3, T=0.02]"
     ]
    },
    {
     "name": "stdout",
     "output_type": "stream",
     "text": [
      "Signal distribution - Decline(0): 1009, Sideways(1): 10189, Rise(2): 1213\n",
      "PyTorch data prepared - Train: torch.Size([9301, 10, 12]), Test: torch.Size([3101, 10, 12])\n"
     ]
    },
    {
     "name": "stderr",
     "output_type": "stream",
     "text": [
      "Grid Search Progress:  55%|█████▌    | 44/80 [12:23<15:27, 25.76s/it, Model=GRU, L=3, T=0.03]"
     ]
    },
    {
     "name": "stdout",
     "output_type": "stream",
     "text": [
      "Signal distribution - Decline(0): 4404, Sideways(1): 3056, Rise(2): 4949\n",
      "PyTorch data prepared - Train: torch.Size([9300, 10, 12]), Test: torch.Size([3100, 10, 12])\n"
     ]
    },
    {
     "name": "stderr",
     "output_type": "stream",
     "text": [
      "Grid Search Progress:  56%|█████▋    | 45/80 [12:52<15:34, 26.69s/it, Model=GRU, L=5, T=0.01]"
     ]
    },
    {
     "name": "stdout",
     "output_type": "stream",
     "text": [
      "Signal distribution - Decline(0): 3363, Sideways(1): 5209, Rise(2): 3837\n",
      "PyTorch data prepared - Train: torch.Size([9300, 10, 12]), Test: torch.Size([3100, 10, 12])\n"
     ]
    },
    {
     "name": "stderr",
     "output_type": "stream",
     "text": [
      "Grid Search Progress:  57%|█████▊    | 46/80 [13:23<15:54, 28.06s/it, Model=GRU, L=5, T=0.01]"
     ]
    },
    {
     "name": "stdout",
     "output_type": "stream",
     "text": [
      "Signal distribution - Decline(0): 1931, Sideways(1): 8137, Rise(2): 2341\n",
      "PyTorch data prepared - Train: torch.Size([9300, 10, 12]), Test: torch.Size([3100, 10, 12])\n"
     ]
    },
    {
     "name": "stderr",
     "output_type": "stream",
     "text": [
      "Grid Search Progress:  59%|█████▉    | 47/80 [13:55<16:04, 29.22s/it, Model=GRU, L=5, T=0.02]"
     ]
    },
    {
     "name": "stdout",
     "output_type": "stream",
     "text": [
      "Signal distribution - Decline(0): 1492, Sideways(1): 9088, Rise(2): 1829\n",
      "PyTorch data prepared - Train: torch.Size([9300, 10, 12]), Test: torch.Size([3100, 10, 12])\n"
     ]
    },
    {
     "name": "stderr",
     "output_type": "stream",
     "text": [
      "Grid Search Progress:  60%|██████    | 48/80 [14:29<16:24, 30.75s/it, Model=GRU, L=5, T=0.03]"
     ]
    },
    {
     "name": "stdout",
     "output_type": "stream",
     "text": [
      "Signal distribution - Decline(0): 4701, Sideways(1): 2390, Rise(2): 5315\n",
      "PyTorch data prepared - Train: torch.Size([9297, 10, 12]), Test: torch.Size([3100, 10, 12])\n"
     ]
    },
    {
     "name": "stderr",
     "output_type": "stream",
     "text": [
      "Grid Search Progress:  61%|██████▏   | 49/80 [15:01<16:00, 31.00s/it, Model=GRU, L=8, T=0.01]"
     ]
    },
    {
     "name": "stdout",
     "output_type": "stream",
     "text": [
      "Signal distribution - Decline(0): 3774, Sideways(1): 4267, Rise(2): 4365\n",
      "PyTorch data prepared - Train: torch.Size([9297, 10, 12]), Test: torch.Size([3100, 10, 12])\n"
     ]
    },
    {
     "name": "stderr",
     "output_type": "stream",
     "text": [
      "Grid Search Progress:  62%|██████▎   | 50/80 [15:34<15:45, 31.50s/it, Model=GRU, L=8, T=0.01]"
     ]
    },
    {
     "name": "stdout",
     "output_type": "stream",
     "text": [
      "Signal distribution - Decline(0): 2453, Sideways(1): 6990, Rise(2): 2963\n",
      "PyTorch data prepared - Train: torch.Size([9297, 10, 12]), Test: torch.Size([3100, 10, 12])\n"
     ]
    },
    {
     "name": "stderr",
     "output_type": "stream",
     "text": [
      "Grid Search Progress:  64%|██████▍   | 51/80 [16:06<15:17, 31.64s/it, Model=GRU, L=8, T=0.02]"
     ]
    },
    {
     "name": "stdout",
     "output_type": "stream",
     "text": [
      "Signal distribution - Decline(0): 1987, Sideways(1): 7949, Rise(2): 2470\n",
      "PyTorch data prepared - Train: torch.Size([9297, 10, 12]), Test: torch.Size([3100, 10, 12])\n"
     ]
    },
    {
     "name": "stderr",
     "output_type": "stream",
     "text": [
      "Grid Search Progress:  65%|██████▌   | 52/80 [16:35<14:29, 31.06s/it, Model=GRU, L=8, T=0.03]"
     ]
    },
    {
     "name": "stdout",
     "output_type": "stream",
     "text": [
      "Signal distribution - Decline(0): 4876, Sideways(1): 2017, Rise(2): 5511\n",
      "PyTorch data prepared - Train: torch.Size([9296, 10, 12]), Test: torch.Size([3099, 10, 12])\n"
     ]
    },
    {
     "name": "stderr",
     "output_type": "stream",
     "text": [
      "Grid Search Progress:  66%|██████▋   | 53/80 [17:05<13:46, 30.60s/it, Model=GRU, L=10, T=0.01]"
     ]
    },
    {
     "name": "stdout",
     "output_type": "stream",
     "text": [
      "Signal distribution - Decline(0): 3991, Sideways(1): 3741, Rise(2): 4672\n",
      "PyTorch data prepared - Train: torch.Size([9296, 10, 12]), Test: torch.Size([3099, 10, 12])\n"
     ]
    },
    {
     "name": "stderr",
     "output_type": "stream",
     "text": [
      "Grid Search Progress:  68%|██████▊   | 54/80 [17:30<12:34, 29.02s/it, Model=GRU, L=10, T=0.01]"
     ]
    },
    {
     "name": "stdout",
     "output_type": "stream",
     "text": [
      "Signal distribution - Decline(0): 2681, Sideways(1): 6441, Rise(2): 3282\n",
      "PyTorch data prepared - Train: torch.Size([9296, 10, 12]), Test: torch.Size([3099, 10, 12])\n"
     ]
    },
    {
     "name": "stderr",
     "output_type": "stream",
     "text": [
      "Grid Search Progress:  69%|██████▉   | 55/80 [17:56<11:42, 28.09s/it, Model=GRU, L=10, T=0.02]"
     ]
    },
    {
     "name": "stdout",
     "output_type": "stream",
     "text": [
      "Signal distribution - Decline(0): 2223, Sideways(1): 7405, Rise(2): 2776\n",
      "PyTorch data prepared - Train: torch.Size([9296, 10, 12]), Test: torch.Size([3099, 10, 12])\n"
     ]
    },
    {
     "name": "stderr",
     "output_type": "stream",
     "text": [
      "Grid Search Progress:  70%|███████   | 56/80 [18:24<11:10, 27.94s/it, Model=GRU, L=10, T=0.03]"
     ]
    },
    {
     "name": "stdout",
     "output_type": "stream",
     "text": [
      "Signal distribution - Decline(0): 4865, Sideways(1): 1845, Rise(2): 5692\n",
      "PyTorch data prepared - Train: torch.Size([9294, 10, 12]), Test: torch.Size([3099, 10, 12])\n"
     ]
    },
    {
     "name": "stderr",
     "output_type": "stream",
     "text": [
      "Grid Search Progress:  71%|███████▏  | 57/80 [18:51<10:41, 27.88s/it, Model=GRU, L=12, T=0.01]"
     ]
    },
    {
     "name": "stdout",
     "output_type": "stream",
     "text": [
      "Signal distribution - Decline(0): 4133, Sideways(1): 3400, Rise(2): 4869\n",
      "PyTorch data prepared - Train: torch.Size([9294, 10, 12]), Test: torch.Size([3099, 10, 12])\n"
     ]
    },
    {
     "name": "stderr",
     "output_type": "stream",
     "text": [
      "Grid Search Progress:  72%|███████▎  | 58/80 [19:17<10:00, 27.28s/it, Model=GRU, L=12, T=0.01]"
     ]
    },
    {
     "name": "stdout",
     "output_type": "stream",
     "text": [
      "Signal distribution - Decline(0): 2895, Sideways(1): 5961, Rise(2): 3546\n",
      "PyTorch data prepared - Train: torch.Size([9294, 10, 12]), Test: torch.Size([3099, 10, 12])\n"
     ]
    },
    {
     "name": "stderr",
     "output_type": "stream",
     "text": [
      "Grid Search Progress:  74%|███████▍  | 59/80 [19:42<09:19, 26.65s/it, Model=GRU, L=12, T=0.02]"
     ]
    },
    {
     "name": "stdout",
     "output_type": "stream",
     "text": [
      "Signal distribution - Decline(0): 2411, Sideways(1): 6957, Rise(2): 3034\n",
      "PyTorch data prepared - Train: torch.Size([9294, 10, 12]), Test: torch.Size([3099, 10, 12])\n"
     ]
    },
    {
     "name": "stderr",
     "output_type": "stream",
     "text": [
      "Grid Search Progress:  75%|███████▌  | 60/80 [20:07<08:38, 25.92s/it, Model=GRU, L=12, T=0.03]"
     ]
    },
    {
     "name": "stdout",
     "output_type": "stream",
     "text": [
      "Signal distribution - Decline(0): 4024, Sideways(1): 3943, Rise(2): 4444\n",
      "PyTorch data prepared - Train: torch.Size([9301, 10, 12]), Test: torch.Size([3101, 10, 12])\n"
     ]
    },
    {
     "name": "stderr",
     "output_type": "stream",
     "text": [
      "Grid Search Progress:  76%|███████▋  | 61/80 [20:27<07:38, 24.15s/it, Model=CNN, L=3, T=0.01] "
     ]
    },
    {
     "name": "stdout",
     "output_type": "stream",
     "text": [
      "Signal distribution - Decline(0): 2736, Sideways(1): 6555, Rise(2): 3120\n",
      "PyTorch data prepared - Train: torch.Size([9301, 10, 12]), Test: torch.Size([3101, 10, 12])\n"
     ]
    },
    {
     "name": "stderr",
     "output_type": "stream",
     "text": [
      "Grid Search Progress:  78%|███████▊  | 62/80 [20:47<06:53, 22.95s/it, Model=CNN, L=3, T=0.01]"
     ]
    },
    {
     "name": "stdout",
     "output_type": "stream",
     "text": [
      "Signal distribution - Decline(0): 1380, Sideways(1): 9382, Rise(2): 1649\n",
      "PyTorch data prepared - Train: torch.Size([9301, 10, 12]), Test: torch.Size([3101, 10, 12])\n"
     ]
    },
    {
     "name": "stderr",
     "output_type": "stream",
     "text": [
      "Grid Search Progress:  79%|███████▉  | 63/80 [21:07<06:14, 22.04s/it, Model=CNN, L=3, T=0.02]"
     ]
    },
    {
     "name": "stdout",
     "output_type": "stream",
     "text": [
      "Signal distribution - Decline(0): 1009, Sideways(1): 10189, Rise(2): 1213\n",
      "PyTorch data prepared - Train: torch.Size([9301, 10, 12]), Test: torch.Size([3101, 10, 12])\n"
     ]
    },
    {
     "name": "stderr",
     "output_type": "stream",
     "text": [
      "Grid Search Progress:  80%|████████  | 64/80 [21:28<05:50, 21.91s/it, Model=CNN, L=3, T=0.03]"
     ]
    },
    {
     "name": "stdout",
     "output_type": "stream",
     "text": [
      "Signal distribution - Decline(0): 4404, Sideways(1): 3056, Rise(2): 4949\n",
      "PyTorch data prepared - Train: torch.Size([9300, 10, 12]), Test: torch.Size([3100, 10, 12])\n"
     ]
    },
    {
     "name": "stderr",
     "output_type": "stream",
     "text": [
      "Grid Search Progress:  81%|████████▏ | 65/80 [21:54<05:43, 22.92s/it, Model=CNN, L=5, T=0.01]"
     ]
    },
    {
     "name": "stdout",
     "output_type": "stream",
     "text": [
      "Signal distribution - Decline(0): 3363, Sideways(1): 5209, Rise(2): 3837\n",
      "PyTorch data prepared - Train: torch.Size([9300, 10, 12]), Test: torch.Size([3100, 10, 12])\n"
     ]
    },
    {
     "name": "stderr",
     "output_type": "stream",
     "text": [
      "Grid Search Progress:  82%|████████▎ | 66/80 [22:19<05:30, 23.58s/it, Model=CNN, L=5, T=0.01]"
     ]
    },
    {
     "name": "stdout",
     "output_type": "stream",
     "text": [
      "Signal distribution - Decline(0): 1931, Sideways(1): 8137, Rise(2): 2341\n",
      "PyTorch data prepared - Train: torch.Size([9300, 10, 12]), Test: torch.Size([3100, 10, 12])\n"
     ]
    },
    {
     "name": "stderr",
     "output_type": "stream",
     "text": [
      "Grid Search Progress:  84%|████████▍ | 67/80 [22:43<05:09, 23.82s/it, Model=CNN, L=5, T=0.02]"
     ]
    },
    {
     "name": "stdout",
     "output_type": "stream",
     "text": [
      "Signal distribution - Decline(0): 1492, Sideways(1): 9088, Rise(2): 1829\n",
      "PyTorch data prepared - Train: torch.Size([9300, 10, 12]), Test: torch.Size([3100, 10, 12])\n"
     ]
    },
    {
     "name": "stderr",
     "output_type": "stream",
     "text": [
      "Grid Search Progress:  85%|████████▌ | 68/80 [23:08<04:48, 24.02s/it, Model=CNN, L=5, T=0.03]"
     ]
    },
    {
     "name": "stdout",
     "output_type": "stream",
     "text": [
      "Signal distribution - Decline(0): 4701, Sideways(1): 2390, Rise(2): 5315\n",
      "PyTorch data prepared - Train: torch.Size([9297, 10, 12]), Test: torch.Size([3100, 10, 12])\n"
     ]
    },
    {
     "name": "stderr",
     "output_type": "stream",
     "text": [
      "Grid Search Progress:  86%|████████▋ | 69/80 [23:29<04:15, 23.27s/it, Model=CNN, L=8, T=0.01]"
     ]
    },
    {
     "name": "stdout",
     "output_type": "stream",
     "text": [
      "Signal distribution - Decline(0): 3774, Sideways(1): 4267, Rise(2): 4365\n",
      "PyTorch data prepared - Train: torch.Size([9297, 10, 12]), Test: torch.Size([3100, 10, 12])\n"
     ]
    },
    {
     "name": "stderr",
     "output_type": "stream",
     "text": [
      "Grid Search Progress:  88%|████████▊ | 70/80 [23:53<03:53, 23.31s/it, Model=CNN, L=8, T=0.01]"
     ]
    },
    {
     "name": "stdout",
     "output_type": "stream",
     "text": [
      "Signal distribution - Decline(0): 2453, Sideways(1): 6990, Rise(2): 2963\n",
      "PyTorch data prepared - Train: torch.Size([9297, 10, 12]), Test: torch.Size([3100, 10, 12])\n"
     ]
    },
    {
     "name": "stderr",
     "output_type": "stream",
     "text": [
      "Grid Search Progress:  89%|████████▉ | 71/80 [24:18<03:36, 24.03s/it, Model=CNN, L=8, T=0.02]"
     ]
    },
    {
     "name": "stdout",
     "output_type": "stream",
     "text": [
      "Signal distribution - Decline(0): 1987, Sideways(1): 7949, Rise(2): 2470\n",
      "PyTorch data prepared - Train: torch.Size([9297, 10, 12]), Test: torch.Size([3100, 10, 12])\n"
     ]
    },
    {
     "name": "stderr",
     "output_type": "stream",
     "text": [
      "Grid Search Progress:  90%|█████████ | 72/80 [24:48<03:25, 25.72s/it, Model=CNN, L=8, T=0.03]"
     ]
    },
    {
     "name": "stdout",
     "output_type": "stream",
     "text": [
      "Signal distribution - Decline(0): 4876, Sideways(1): 2017, Rise(2): 5511\n",
      "PyTorch data prepared - Train: torch.Size([9296, 10, 12]), Test: torch.Size([3099, 10, 12])\n"
     ]
    },
    {
     "name": "stderr",
     "output_type": "stream",
     "text": [
      "Grid Search Progress:  91%|█████████▏| 73/80 [25:13<02:59, 25.60s/it, Model=CNN, L=10, T=0.01]"
     ]
    },
    {
     "name": "stdout",
     "output_type": "stream",
     "text": [
      "Signal distribution - Decline(0): 3991, Sideways(1): 3741, Rise(2): 4672\n",
      "PyTorch data prepared - Train: torch.Size([9296, 10, 12]), Test: torch.Size([3099, 10, 12])\n"
     ]
    },
    {
     "name": "stderr",
     "output_type": "stream",
     "text": [
      "Grid Search Progress:  92%|█████████▎| 74/80 [25:39<02:33, 25.64s/it, Model=CNN, L=10, T=0.01]"
     ]
    },
    {
     "name": "stdout",
     "output_type": "stream",
     "text": [
      "Signal distribution - Decline(0): 2681, Sideways(1): 6441, Rise(2): 3282\n",
      "PyTorch data prepared - Train: torch.Size([9296, 10, 12]), Test: torch.Size([3099, 10, 12])\n"
     ]
    },
    {
     "name": "stderr",
     "output_type": "stream",
     "text": [
      "Grid Search Progress:  94%|█████████▍| 75/80 [26:04<02:06, 25.38s/it, Model=CNN, L=10, T=0.02]"
     ]
    },
    {
     "name": "stdout",
     "output_type": "stream",
     "text": [
      "Signal distribution - Decline(0): 2223, Sideways(1): 7405, Rise(2): 2776\n",
      "PyTorch data prepared - Train: torch.Size([9296, 10, 12]), Test: torch.Size([3099, 10, 12])\n"
     ]
    },
    {
     "name": "stderr",
     "output_type": "stream",
     "text": [
      "Grid Search Progress:  95%|█████████▌| 76/80 [26:28<01:40, 25.06s/it, Model=CNN, L=10, T=0.03]"
     ]
    },
    {
     "name": "stdout",
     "output_type": "stream",
     "text": [
      "Signal distribution - Decline(0): 4865, Sideways(1): 1845, Rise(2): 5692\n",
      "PyTorch data prepared - Train: torch.Size([9294, 10, 12]), Test: torch.Size([3099, 10, 12])\n"
     ]
    },
    {
     "name": "stderr",
     "output_type": "stream",
     "text": [
      "Grid Search Progress:  96%|█████████▋| 77/80 [26:54<01:16, 25.38s/it, Model=CNN, L=12, T=0.01]"
     ]
    },
    {
     "name": "stdout",
     "output_type": "stream",
     "text": [
      "Signal distribution - Decline(0): 4133, Sideways(1): 3400, Rise(2): 4869\n",
      "PyTorch data prepared - Train: torch.Size([9294, 10, 12]), Test: torch.Size([3099, 10, 12])\n"
     ]
    },
    {
     "name": "stderr",
     "output_type": "stream",
     "text": [
      "Grid Search Progress:  98%|█████████▊| 78/80 [27:19<00:50, 25.20s/it, Model=CNN, L=12, T=0.01]"
     ]
    },
    {
     "name": "stdout",
     "output_type": "stream",
     "text": [
      "Signal distribution - Decline(0): 2895, Sideways(1): 5961, Rise(2): 3546\n",
      "PyTorch data prepared - Train: torch.Size([9294, 10, 12]), Test: torch.Size([3099, 10, 12])\n"
     ]
    },
    {
     "name": "stderr",
     "output_type": "stream",
     "text": [
      "Grid Search Progress:  99%|█████████▉| 79/80 [27:43<00:24, 24.90s/it, Model=CNN, L=12, T=0.02]"
     ]
    },
    {
     "name": "stdout",
     "output_type": "stream",
     "text": [
      "Signal distribution - Decline(0): 2411, Sideways(1): 6957, Rise(2): 3034\n",
      "PyTorch data prepared - Train: torch.Size([9294, 10, 12]), Test: torch.Size([3099, 10, 12])\n"
     ]
    },
    {
     "name": "stderr",
     "output_type": "stream",
     "text": [
      "Grid Search Progress: 100%|██████████| 80/80 [28:07<00:00, 21.10s/it, Model=CNN, L=12, T=0.03]"
     ]
    },
    {
     "name": "stdout",
     "output_type": "stream",
     "text": [
      "\n",
      "Results saved to: ../../results/btc_results_4h_3class.csv\n",
      "\n",
      "======================================================================\n",
      "COMPLETE EXPERIMENTAL RESULTS\n",
      "======================================================================\n",
      "      model  lookahead  threshold  accuracy  loss_count  loss_mean  \\\n",
      "0   XGBoost          3      0.005    0.4808         861     0.0155   \n",
      "1   XGBoost          3      0.010    0.5714         187     0.0219   \n",
      "2   XGBoost          3      0.020    0.7673          20     0.0224   \n",
      "3   XGBoost          3      0.025    0.8182          21     0.0308   \n",
      "4   XGBoost          5      0.005    0.5324         920     0.0177   \n",
      "..      ...        ...        ...       ...         ...        ...   \n",
      "75      CNN         10      0.025    0.6521          24     0.0272   \n",
      "76      CNN         12      0.005    0.4469        1482     0.0233   \n",
      "77      CNN         12      0.010    0.3672        1535     0.0238   \n",
      "78      CNN         12      0.020    0.5073         191     0.0314   \n",
      "79      CNN         12      0.025    0.6125          11     0.0151   \n",
      "\n",
      "    transaction  \n",
      "0          2139  \n",
      "1           558  \n",
      "2           100  \n",
      "3            64  \n",
      "4          2652  \n",
      "..          ...  \n",
      "75           49  \n",
      "76         3098  \n",
      "77         3097  \n",
      "78          400  \n",
      "79           26  \n",
      "\n",
      "[80 rows x 7 columns]\n",
      "\n",
      "======================================================================\n",
      "BEST PERFORMANCE BY MODEL TYPE\n",
      "======================================================================\n",
      "      model  lookahead  threshold  accuracy  loss_count  loss_mean\n",
      "63      CNN          3      0.025    0.8784           3     0.0214\n",
      "43      GRU          3      0.025    0.8794           0     0.0000\n",
      "23     LSTM          3      0.025    0.8791           2     0.0260\n",
      "3   XGBoost          3      0.025    0.8182          21     0.0308\n",
      "\n",
      "======================================================================\n",
      "OVERALL CHAMPION CONFIGURATION\n",
      "======================================================================\n",
      "Best Model: GRU\n",
      "Optimal Lookahead: 3 days\n",
      "Optimal Threshold: 0.025\n",
      "Peak Accuracy: 0.8794 (87.94%)\n",
      "Loss Events: 0\n",
      "Average Loss: 0.000000\n",
      "\n",
      "==================================================\n",
      "SUMMARY\n",
      "==================================================\n",
      "Total experiments: 80\n",
      "Best accuracy: 0.8794\n",
      "Average accuracy: 0.5557\n",
      "\n",
      "Best configuration:\n",
      "Model: GRU, Lookahead: 3, Threshold: 0.025\n"
     ]
    },
    {
     "name": "stderr",
     "output_type": "stream",
     "text": [
      "\n"
     ]
    }
   ],
   "source": [
    "\"\"\"\n",
    "Bitcoin Price Movement Prediction - Main Execution Script\n",
    "\"\"\"\n",
    "\n",
    "import pandas as pd\n",
    "import torch\n",
    "import warnings\n",
    "warnings.filterwarnings('ignore')\n",
    "\n",
    "from experiment_runner import ExperimentRunner\n",
    "\n",
    "def btc_4h():\n",
    "    \"\"\"Main execution function\"\"\"\n",
    "    \n",
    "    # ============= CONFIGURATION =============\n",
    "    # Tùy chỉnh các tham số tại đây\n",
    "    \n",
    "    DATA_PATH = r'F:\\up_git\\official_predict\\data\\btc_4h.csv'  # Đường dẫn file data\n",
    "    \n",
    "    # Tạo thư mục results ở cấp trên 2 cấp nếu chưa có\n",
    "    import os\n",
    "    results_dir = os.path.join('..', '..', 'results')\n",
    "    os.makedirs(results_dir, exist_ok=True)\n",
    "    \n",
    "    OUTPUT_FILENAME = '../../results/btc_results_4h_3class.csv'  # Lưu vào thư mục results cấp trên 2\n",
    "    \n",
    "    LOOKAHEAD_VALUES = [3, 5, 8, 10, 12]  \n",
    "    THRESHOLD_VALUES = [0.005, 0.01, 0.02, 0.025]  # Ngưỡng phân loại\n",
    "    \n",
    "    MODEL_TYPES = ['XGBoost', 'LSTM', 'GRU', 'CNN']  # Các model cần test\n",
    "    SEQUENCE_LENGTH = 10  # Độ dài chuỗi cho deep learning\n",
    "    \n",
    "    # ============= CHẠY THÍ NGHIỆM =============\n",
    "    \n",
    "    print(f\"Using device: {torch.device('cuda' if torch.cuda.is_available() else 'cpu')}\")\n",
    "    \n",
    "    runner = ExperimentRunner(\n",
    "        data_path=DATA_PATH,\n",
    "        output_filename=OUTPUT_FILENAME,\n",
    "        sequence_length=SEQUENCE_LENGTH,\n",
    "        verbose=False\n",
    "    )\n",
    "    \n",
    "    results = runner.run_grid_search(\n",
    "        lookahead_values=LOOKAHEAD_VALUES,\n",
    "        threshold_values=THRESHOLD_VALUES,\n",
    "        model_types=MODEL_TYPES\n",
    "    )\n",
    "    \n",
    "    # ============= HIỂN THỊ KẾT QUẢ =============\n",
    "    \n",
    "    if results is not None and not results.empty:\n",
    "        runner.display_results(results)\n",
    "        \n",
    "        # Thống kê tóm tắt\n",
    "        print(f\"\\n{'='*50}\")\n",
    "        print(\"SUMMARY\")\n",
    "        print(f\"{'='*50}\")\n",
    "        print(f\"Total experiments: {len(results)}\")\n",
    "        print(f\"Best accuracy: {results['accuracy'].max():.4f}\")\n",
    "        print(f\"Average accuracy: {results['accuracy'].mean():.4f}\")\n",
    "        \n",
    "        # Kết quả tốt nhất\n",
    "        best = results.loc[results['accuracy'].idxmax()]\n",
    "        print(f\"\\nBest configuration:\")\n",
    "        print(f\"Model: {best['model']}, Lookahead: {best['lookahead']}, Threshold: {best['threshold']}\")\n",
    "        \n",
    "    else:\n",
    "        print(\"No results generated.\")\n",
    "\n",
    "btc_4h()"
   ]
  },
  {
   "cell_type": "code",
   "execution_count": 1,
   "id": "724f932c",
   "metadata": {},
   "outputs": [
    {
     "name": "stdout",
     "output_type": "stream",
     "text": [
      "Using device: cuda\n",
      "Using device: cuda\n",
      "Loading and preparing Bitcoin data...\n",
      "Successfully loaded data from: F:\\up_git\\official_predict\\data\\btc_30m.csv\n",
      "Data shape: (99463, 6)\n",
      "Technical indicators added successfully\n",
      "Features normalized successfully\n",
      "Final dataset shape: (99429, 18)\n",
      "Starting grid search with 80 experiments...\n",
      "Lookahead values: [3, 5, 8, 10, 12]\n",
      "Threshold values: [0.002, 0.005, 0.01, 0.015]\n",
      "Model types: ['XGBoost', 'LSTM', 'GRU', 'CNN']\n"
     ]
    },
    {
     "name": "stderr",
     "output_type": "stream",
     "text": [
      "Grid Search Progress:   0%|          | 0/80 [00:00<?, ?it/s]"
     ]
    },
    {
     "name": "stdout",
     "output_type": "stream",
     "text": [
      "Signal distribution - Decline(0): 30349, Sideways(1): 36881, Rise(2): 32196\n"
     ]
    },
    {
     "name": "stderr",
     "output_type": "stream",
     "text": [
      "Grid Search Progress:   1%|▏         | 1/80 [00:01<01:38,  1.24s/it, Model=XGBoost, L=3, T=0.00]"
     ]
    },
    {
     "name": "stdout",
     "output_type": "stream",
     "text": [
      "Signal distribution - Decline(0): 15258, Sideways(1): 67879, Rise(2): 16289\n"
     ]
    },
    {
     "name": "stderr",
     "output_type": "stream",
     "text": [
      "Grid Search Progress:   2%|▎         | 2/80 [00:02<01:31,  1.18s/it, Model=XGBoost, L=3, T=0.01]"
     ]
    },
    {
     "name": "stdout",
     "output_type": "stream",
     "text": [
      "Signal distribution - Decline(0): 6109, Sideways(1): 86915, Rise(2): 6402\n"
     ]
    },
    {
     "name": "stderr",
     "output_type": "stream",
     "text": [
      "Grid Search Progress:   4%|▍         | 3/80 [00:03<01:29,  1.16s/it, Model=XGBoost, L=3, T=0.01]"
     ]
    },
    {
     "name": "stdout",
     "output_type": "stream",
     "text": [
      "Signal distribution - Decline(0): 2988, Sideways(1): 93373, Rise(2): 3065\n"
     ]
    },
    {
     "name": "stderr",
     "output_type": "stream",
     "text": [
      "Grid Search Progress:   5%|▌         | 4/80 [00:04<01:26,  1.13s/it, Model=XGBoost, L=3, T=0.01]"
     ]
    },
    {
     "name": "stdout",
     "output_type": "stream",
     "text": [
      "Signal distribution - Decline(0): 33374, Sideways(1): 30415, Rise(2): 35635\n"
     ]
    },
    {
     "name": "stderr",
     "output_type": "stream",
     "text": [
      "Grid Search Progress:   6%|▋         | 5/80 [00:05<01:24,  1.13s/it, Model=XGBoost, L=5, T=0.00]"
     ]
    },
    {
     "name": "stdout",
     "output_type": "stream",
     "text": [
      "Signal distribution - Decline(0): 19465, Sideways(1): 59116, Rise(2): 20843\n"
     ]
    },
    {
     "name": "stderr",
     "output_type": "stream",
     "text": [
      "Grid Search Progress:   8%|▊         | 6/80 [00:06<01:21,  1.10s/it, Model=XGBoost, L=5, T=0.01]"
     ]
    },
    {
     "name": "stdout",
     "output_type": "stream",
     "text": [
      "Signal distribution - Decline(0): 9033, Sideways(1): 80674, Rise(2): 9717\n"
     ]
    },
    {
     "name": "stderr",
     "output_type": "stream",
     "text": [
      "Grid Search Progress:   9%|▉         | 7/80 [00:07<01:19,  1.08s/it, Model=XGBoost, L=5, T=0.01]"
     ]
    },
    {
     "name": "stdout",
     "output_type": "stream",
     "text": [
      "Signal distribution - Decline(0): 4969, Sideways(1): 89233, Rise(2): 5222\n"
     ]
    },
    {
     "name": "stderr",
     "output_type": "stream",
     "text": [
      "Grid Search Progress:  10%|█         | 8/80 [00:08<01:17,  1.08s/it, Model=XGBoost, L=5, T=0.01]"
     ]
    },
    {
     "name": "stdout",
     "output_type": "stream",
     "text": [
      "Signal distribution - Decline(0): 35998, Sideways(1): 24726, Rise(2): 38697\n"
     ]
    },
    {
     "name": "stderr",
     "output_type": "stream",
     "text": [
      "Grid Search Progress:  11%|█▏        | 9/80 [00:09<01:14,  1.05s/it, Model=XGBoost, L=8, T=0.00]"
     ]
    },
    {
     "name": "stdout",
     "output_type": "stream",
     "text": [
      "Signal distribution - Decline(0): 23255, Sideways(1): 50797, Rise(2): 25369\n"
     ]
    },
    {
     "name": "stderr",
     "output_type": "stream",
     "text": [
      "Grid Search Progress:  12%|█▎        | 10/80 [00:10<01:11,  1.03s/it, Model=XGBoost, L=8, T=0.01]"
     ]
    },
    {
     "name": "stdout",
     "output_type": "stream",
     "text": [
      "Signal distribution - Decline(0): 12427, Sideways(1): 73406, Rise(2): 13588\n"
     ]
    },
    {
     "name": "stderr",
     "output_type": "stream",
     "text": [
      "Grid Search Progress:  14%|█▍        | 11/80 [00:11<01:09,  1.01s/it, Model=XGBoost, L=8, T=0.01]"
     ]
    },
    {
     "name": "stdout",
     "output_type": "stream",
     "text": [
      "Signal distribution - Decline(0): 7326, Sideways(1): 84065, Rise(2): 8030\n"
     ]
    },
    {
     "name": "stderr",
     "output_type": "stream",
     "text": [
      "Grid Search Progress:  15%|█▌        | 12/80 [00:12<01:08,  1.01s/it, Model=XGBoost, L=8, T=0.01]"
     ]
    },
    {
     "name": "stdout",
     "output_type": "stream",
     "text": [
      "Signal distribution - Decline(0): 37111, Sideways(1): 22433, Rise(2): 39875\n"
     ]
    },
    {
     "name": "stderr",
     "output_type": "stream",
     "text": [
      "Grid Search Progress:  16%|█▋        | 13/80 [00:13<01:07,  1.00s/it, Model=XGBoost, L=10, T=0.00]"
     ]
    },
    {
     "name": "stdout",
     "output_type": "stream",
     "text": [
      "Signal distribution - Decline(0): 25068, Sideways(1): 46846, Rise(2): 27505\n"
     ]
    },
    {
     "name": "stderr",
     "output_type": "stream",
     "text": [
      "Grid Search Progress:  18%|█▊        | 14/80 [00:14<01:04,  1.02it/s, Model=XGBoost, L=10, T=0.01]"
     ]
    },
    {
     "name": "stdout",
     "output_type": "stream",
     "text": [
      "Signal distribution - Decline(0): 14240, Sideways(1): 69424, Rise(2): 15755\n"
     ]
    },
    {
     "name": "stderr",
     "output_type": "stream",
     "text": [
      "Grid Search Progress:  19%|█▉        | 15/80 [00:15<01:02,  1.04it/s, Model=XGBoost, L=10, T=0.01]"
     ]
    },
    {
     "name": "stdout",
     "output_type": "stream",
     "text": [
      "Signal distribution - Decline(0): 8676, Sideways(1): 81135, Rise(2): 9608\n"
     ]
    },
    {
     "name": "stderr",
     "output_type": "stream",
     "text": [
      "Grid Search Progress:  20%|██        | 16/80 [00:16<01:01,  1.04it/s, Model=XGBoost, L=10, T=0.01]"
     ]
    },
    {
     "name": "stdout",
     "output_type": "stream",
     "text": [
      "Signal distribution - Decline(0): 37993, Sideways(1): 20545, Rise(2): 40879\n"
     ]
    },
    {
     "name": "stderr",
     "output_type": "stream",
     "text": [
      "Grid Search Progress:  21%|██▏       | 17/80 [00:17<01:00,  1.05it/s, Model=XGBoost, L=12, T=0.00]"
     ]
    },
    {
     "name": "stdout",
     "output_type": "stream",
     "text": [
      "Signal distribution - Decline(0): 26507, Sideways(1): 43798, Rise(2): 29112\n"
     ]
    },
    {
     "name": "stderr",
     "output_type": "stream",
     "text": [
      "Grid Search Progress:  22%|██▎       | 18/80 [00:18<00:58,  1.05it/s, Model=XGBoost, L=12, T=0.01]"
     ]
    },
    {
     "name": "stdout",
     "output_type": "stream",
     "text": [
      "Signal distribution - Decline(0): 15659, Sideways(1): 66361, Rise(2): 17397\n"
     ]
    },
    {
     "name": "stderr",
     "output_type": "stream",
     "text": [
      "Grid Search Progress:  24%|██▍       | 19/80 [00:19<00:57,  1.07it/s, Model=XGBoost, L=12, T=0.01]"
     ]
    },
    {
     "name": "stdout",
     "output_type": "stream",
     "text": [
      "Signal distribution - Decline(0): 9819, Sideways(1): 78477, Rise(2): 11121\n"
     ]
    },
    {
     "name": "stderr",
     "output_type": "stream",
     "text": [
      "Grid Search Progress:  25%|██▌       | 20/80 [00:20<00:56,  1.07it/s, Model=XGBoost, L=12, T=0.01]"
     ]
    },
    {
     "name": "stdout",
     "output_type": "stream",
     "text": [
      "Signal distribution - Decline(0): 30349, Sideways(1): 36881, Rise(2): 32196\n",
      "PyTorch data prepared - Train: torch.Size([74562, 10, 12]), Test: torch.Size([24855, 10, 12])\n"
     ]
    },
    {
     "name": "stderr",
     "output_type": "stream",
     "text": [
      "Grid Search Progress:  26%|██▋       | 21/80 [04:56<1:22:10, 83.56s/it, Model=LSTM, L=3, T=0.00]  "
     ]
    },
    {
     "name": "stdout",
     "output_type": "stream",
     "text": [
      "Signal distribution - Decline(0): 15258, Sideways(1): 67879, Rise(2): 16289\n",
      "PyTorch data prepared - Train: torch.Size([74562, 10, 12]), Test: torch.Size([24855, 10, 12])\n"
     ]
    },
    {
     "name": "stderr",
     "output_type": "stream",
     "text": [
      "Grid Search Progress:  28%|██▊       | 22/80 [08:57<2:06:27, 130.83s/it, Model=LSTM, L=3, T=0.01]"
     ]
    },
    {
     "name": "stdout",
     "output_type": "stream",
     "text": [
      "Signal distribution - Decline(0): 6109, Sideways(1): 86915, Rise(2): 6402\n",
      "PyTorch data prepared - Train: torch.Size([74562, 10, 12]), Test: torch.Size([24855, 10, 12])\n"
     ]
    },
    {
     "name": "stderr",
     "output_type": "stream",
     "text": [
      "Grid Search Progress:  29%|██▉       | 23/80 [12:49<2:33:00, 161.06s/it, Model=LSTM, L=3, T=0.01]"
     ]
    },
    {
     "name": "stdout",
     "output_type": "stream",
     "text": [
      "Signal distribution - Decline(0): 2988, Sideways(1): 93373, Rise(2): 3065\n",
      "PyTorch data prepared - Train: torch.Size([74562, 10, 12]), Test: torch.Size([24855, 10, 12])\n"
     ]
    },
    {
     "name": "stderr",
     "output_type": "stream",
     "text": [
      "Grid Search Progress:  30%|███       | 24/80 [16:38<2:49:26, 181.54s/it, Model=LSTM, L=3, T=0.01]"
     ]
    },
    {
     "name": "stdout",
     "output_type": "stream",
     "text": [
      "Signal distribution - Decline(0): 33374, Sideways(1): 30415, Rise(2): 35635\n",
      "PyTorch data prepared - Train: torch.Size([74561, 10, 12]), Test: torch.Size([24854, 10, 12])\n"
     ]
    },
    {
     "name": "stderr",
     "output_type": "stream",
     "text": [
      "Grid Search Progress:  31%|███▏      | 25/80 [20:28<2:59:52, 196.23s/it, Model=LSTM, L=5, T=0.00]"
     ]
    },
    {
     "name": "stdout",
     "output_type": "stream",
     "text": [
      "Signal distribution - Decline(0): 19465, Sideways(1): 59116, Rise(2): 20843\n",
      "PyTorch data prepared - Train: torch.Size([74561, 10, 12]), Test: torch.Size([24854, 10, 12])\n"
     ]
    },
    {
     "name": "stderr",
     "output_type": "stream",
     "text": [
      "Grid Search Progress:  32%|███▎      | 26/80 [24:24<3:07:17, 208.10s/it, Model=LSTM, L=5, T=0.01]"
     ]
    },
    {
     "name": "stdout",
     "output_type": "stream",
     "text": [
      "Signal distribution - Decline(0): 9033, Sideways(1): 80674, Rise(2): 9717\n",
      "PyTorch data prepared - Train: torch.Size([74561, 10, 12]), Test: torch.Size([24854, 10, 12])\n"
     ]
    },
    {
     "name": "stderr",
     "output_type": "stream",
     "text": [
      "Grid Search Progress:  34%|███▍      | 27/80 [28:18<3:10:34, 215.74s/it, Model=LSTM, L=5, T=0.01]"
     ]
    },
    {
     "name": "stdout",
     "output_type": "stream",
     "text": [
      "Signal distribution - Decline(0): 4969, Sideways(1): 89233, Rise(2): 5222\n",
      "PyTorch data prepared - Train: torch.Size([74561, 10, 12]), Test: torch.Size([24854, 10, 12])\n"
     ]
    },
    {
     "name": "stderr",
     "output_type": "stream",
     "text": [
      "Grid Search Progress:  35%|███▌      | 28/80 [32:13<3:11:55, 221.45s/it, Model=LSTM, L=5, T=0.01]"
     ]
    },
    {
     "name": "stdout",
     "output_type": "stream",
     "text": [
      "Signal distribution - Decline(0): 35998, Sideways(1): 24726, Rise(2): 38697\n",
      "PyTorch data prepared - Train: torch.Size([74559, 10, 12]), Test: torch.Size([24853, 10, 12])\n"
     ]
    },
    {
     "name": "stderr",
     "output_type": "stream",
     "text": [
      "Grid Search Progress:  36%|███▋      | 29/80 [36:07<3:11:37, 225.44s/it, Model=LSTM, L=8, T=0.00]"
     ]
    },
    {
     "name": "stdout",
     "output_type": "stream",
     "text": [
      "Signal distribution - Decline(0): 23255, Sideways(1): 50797, Rise(2): 25369\n",
      "PyTorch data prepared - Train: torch.Size([74559, 10, 12]), Test: torch.Size([24853, 10, 12])\n"
     ]
    },
    {
     "name": "stderr",
     "output_type": "stream",
     "text": [
      "Grid Search Progress:  38%|███▊      | 30/80 [39:56<3:08:37, 226.36s/it, Model=LSTM, L=8, T=0.01]"
     ]
    },
    {
     "name": "stdout",
     "output_type": "stream",
     "text": [
      "Signal distribution - Decline(0): 12427, Sideways(1): 73406, Rise(2): 13588\n",
      "PyTorch data prepared - Train: torch.Size([74559, 10, 12]), Test: torch.Size([24853, 10, 12])\n"
     ]
    },
    {
     "name": "stderr",
     "output_type": "stream",
     "text": [
      "Grid Search Progress:  39%|███▉      | 31/80 [43:41<3:04:38, 226.09s/it, Model=LSTM, L=8, T=0.01]"
     ]
    },
    {
     "name": "stdout",
     "output_type": "stream",
     "text": [
      "Signal distribution - Decline(0): 7326, Sideways(1): 84065, Rise(2): 8030\n",
      "PyTorch data prepared - Train: torch.Size([74559, 10, 12]), Test: torch.Size([24853, 10, 12])\n"
     ]
    },
    {
     "name": "stderr",
     "output_type": "stream",
     "text": [
      "Grid Search Progress:  40%|████      | 32/80 [47:29<3:01:08, 226.42s/it, Model=LSTM, L=8, T=0.01]"
     ]
    },
    {
     "name": "stdout",
     "output_type": "stream",
     "text": [
      "Signal distribution - Decline(0): 37111, Sideways(1): 22433, Rise(2): 39875\n",
      "PyTorch data prepared - Train: torch.Size([74557, 10, 12]), Test: torch.Size([24853, 10, 12])\n"
     ]
    },
    {
     "name": "stderr",
     "output_type": "stream",
     "text": [
      "Grid Search Progress:  41%|████▏     | 33/80 [51:15<2:57:28, 226.57s/it, Model=LSTM, L=10, T=0.00]"
     ]
    },
    {
     "name": "stdout",
     "output_type": "stream",
     "text": [
      "Signal distribution - Decline(0): 25068, Sideways(1): 46846, Rise(2): 27505\n",
      "PyTorch data prepared - Train: torch.Size([74557, 10, 12]), Test: torch.Size([24853, 10, 12])\n"
     ]
    },
    {
     "name": "stderr",
     "output_type": "stream",
     "text": [
      "Grid Search Progress:  42%|████▎     | 34/80 [55:02<2:53:37, 226.47s/it, Model=LSTM, L=10, T=0.01]"
     ]
    },
    {
     "name": "stdout",
     "output_type": "stream",
     "text": [
      "Signal distribution - Decline(0): 14240, Sideways(1): 69424, Rise(2): 15755\n",
      "PyTorch data prepared - Train: torch.Size([74557, 10, 12]), Test: torch.Size([24853, 10, 12])\n"
     ]
    },
    {
     "name": "stderr",
     "output_type": "stream",
     "text": [
      "Grid Search Progress:  44%|████▍     | 35/80 [58:48<2:49:51, 226.47s/it, Model=LSTM, L=10, T=0.01]"
     ]
    },
    {
     "name": "stdout",
     "output_type": "stream",
     "text": [
      "Signal distribution - Decline(0): 8676, Sideways(1): 81135, Rise(2): 9608\n",
      "PyTorch data prepared - Train: torch.Size([74557, 10, 12]), Test: torch.Size([24853, 10, 12])\n"
     ]
    },
    {
     "name": "stderr",
     "output_type": "stream",
     "text": [
      "Grid Search Progress:  45%|████▌     | 36/80 [1:02:36<2:46:22, 226.88s/it, Model=LSTM, L=10, T=0.01]"
     ]
    },
    {
     "name": "stdout",
     "output_type": "stream",
     "text": [
      "Signal distribution - Decline(0): 37993, Sideways(1): 20545, Rise(2): 40879\n",
      "PyTorch data prepared - Train: torch.Size([74556, 10, 12]), Test: torch.Size([24852, 10, 12])\n"
     ]
    },
    {
     "name": "stderr",
     "output_type": "stream",
     "text": [
      "Grid Search Progress:  46%|████▋     | 37/80 [1:06:23<2:42:37, 226.92s/it, Model=LSTM, L=12, T=0.00]"
     ]
    },
    {
     "name": "stdout",
     "output_type": "stream",
     "text": [
      "Signal distribution - Decline(0): 26507, Sideways(1): 43798, Rise(2): 29112\n",
      "PyTorch data prepared - Train: torch.Size([74556, 10, 12]), Test: torch.Size([24852, 10, 12])\n"
     ]
    },
    {
     "name": "stderr",
     "output_type": "stream",
     "text": [
      "Grid Search Progress:  48%|████▊     | 38/80 [1:10:09<2:38:35, 226.57s/it, Model=LSTM, L=12, T=0.01]"
     ]
    },
    {
     "name": "stdout",
     "output_type": "stream",
     "text": [
      "Signal distribution - Decline(0): 15659, Sideways(1): 66361, Rise(2): 17397\n",
      "PyTorch data prepared - Train: torch.Size([74556, 10, 12]), Test: torch.Size([24852, 10, 12])\n"
     ]
    },
    {
     "name": "stderr",
     "output_type": "stream",
     "text": [
      "Grid Search Progress:  49%|████▉     | 39/80 [1:13:54<2:34:36, 226.27s/it, Model=LSTM, L=12, T=0.01]"
     ]
    },
    {
     "name": "stdout",
     "output_type": "stream",
     "text": [
      "Signal distribution - Decline(0): 9819, Sideways(1): 78477, Rise(2): 11121\n",
      "PyTorch data prepared - Train: torch.Size([74556, 10, 12]), Test: torch.Size([24852, 10, 12])\n"
     ]
    },
    {
     "name": "stderr",
     "output_type": "stream",
     "text": [
      "Grid Search Progress:  50%|█████     | 40/80 [1:17:38<2:30:14, 225.36s/it, Model=LSTM, L=12, T=0.01]"
     ]
    },
    {
     "name": "stdout",
     "output_type": "stream",
     "text": [
      "Signal distribution - Decline(0): 30349, Sideways(1): 36881, Rise(2): 32196\n",
      "PyTorch data prepared - Train: torch.Size([74562, 10, 12]), Test: torch.Size([24855, 10, 12])\n"
     ]
    },
    {
     "name": "stderr",
     "output_type": "stream",
     "text": [
      "Grid Search Progress:  51%|█████▏    | 41/80 [1:21:09<2:23:47, 221.23s/it, Model=GRU, L=3, T=0.00]  "
     ]
    },
    {
     "name": "stdout",
     "output_type": "stream",
     "text": [
      "Signal distribution - Decline(0): 15258, Sideways(1): 67879, Rise(2): 16289\n",
      "PyTorch data prepared - Train: torch.Size([74562, 10, 12]), Test: torch.Size([24855, 10, 12])\n"
     ]
    },
    {
     "name": "stderr",
     "output_type": "stream",
     "text": [
      "Grid Search Progress:  52%|█████▎    | 42/80 [1:24:37<2:17:36, 217.29s/it, Model=GRU, L=3, T=0.01]"
     ]
    },
    {
     "name": "stdout",
     "output_type": "stream",
     "text": [
      "Signal distribution - Decline(0): 6109, Sideways(1): 86915, Rise(2): 6402\n",
      "PyTorch data prepared - Train: torch.Size([74562, 10, 12]), Test: torch.Size([24855, 10, 12])\n"
     ]
    },
    {
     "name": "stderr",
     "output_type": "stream",
     "text": [
      "Grid Search Progress:  54%|█████▍    | 43/80 [1:28:07<2:12:34, 214.98s/it, Model=GRU, L=3, T=0.01]"
     ]
    },
    {
     "name": "stdout",
     "output_type": "stream",
     "text": [
      "Signal distribution - Decline(0): 2988, Sideways(1): 93373, Rise(2): 3065\n",
      "PyTorch data prepared - Train: torch.Size([74562, 10, 12]), Test: torch.Size([24855, 10, 12])\n"
     ]
    },
    {
     "name": "stderr",
     "output_type": "stream",
     "text": [
      "Grid Search Progress:  55%|█████▌    | 44/80 [1:31:38<2:08:23, 213.98s/it, Model=GRU, L=3, T=0.01]"
     ]
    },
    {
     "name": "stdout",
     "output_type": "stream",
     "text": [
      "Signal distribution - Decline(0): 33374, Sideways(1): 30415, Rise(2): 35635\n",
      "PyTorch data prepared - Train: torch.Size([74561, 10, 12]), Test: torch.Size([24854, 10, 12])\n"
     ]
    },
    {
     "name": "stderr",
     "output_type": "stream",
     "text": [
      "Grid Search Progress:  56%|█████▋    | 45/80 [1:35:11<2:04:30, 213.43s/it, Model=GRU, L=5, T=0.00]"
     ]
    },
    {
     "name": "stdout",
     "output_type": "stream",
     "text": [
      "Signal distribution - Decline(0): 19465, Sideways(1): 59116, Rise(2): 20843\n",
      "PyTorch data prepared - Train: torch.Size([74561, 10, 12]), Test: torch.Size([24854, 10, 12])\n"
     ]
    },
    {
     "name": "stderr",
     "output_type": "stream",
     "text": [
      "Grid Search Progress:  57%|█████▊    | 46/80 [1:38:42<2:00:32, 212.72s/it, Model=GRU, L=5, T=0.01]"
     ]
    },
    {
     "name": "stdout",
     "output_type": "stream",
     "text": [
      "Signal distribution - Decline(0): 9033, Sideways(1): 80674, Rise(2): 9717\n",
      "PyTorch data prepared - Train: torch.Size([74561, 10, 12]), Test: torch.Size([24854, 10, 12])\n"
     ]
    },
    {
     "name": "stderr",
     "output_type": "stream",
     "text": [
      "Grid Search Progress:  59%|█████▉    | 47/80 [1:42:13<1:56:46, 212.32s/it, Model=GRU, L=5, T=0.01]"
     ]
    },
    {
     "name": "stdout",
     "output_type": "stream",
     "text": [
      "Signal distribution - Decline(0): 4969, Sideways(1): 89233, Rise(2): 5222\n",
      "PyTorch data prepared - Train: torch.Size([74561, 10, 12]), Test: torch.Size([24854, 10, 12])\n"
     ]
    },
    {
     "name": "stderr",
     "output_type": "stream",
     "text": [
      "Grid Search Progress:  60%|██████    | 48/80 [1:45:43<1:52:47, 211.47s/it, Model=GRU, L=5, T=0.01]"
     ]
    },
    {
     "name": "stdout",
     "output_type": "stream",
     "text": [
      "Signal distribution - Decline(0): 35998, Sideways(1): 24726, Rise(2): 38697\n",
      "PyTorch data prepared - Train: torch.Size([74559, 10, 12]), Test: torch.Size([24853, 10, 12])\n"
     ]
    },
    {
     "name": "stderr",
     "output_type": "stream",
     "text": [
      "Grid Search Progress:  61%|██████▏   | 49/80 [1:49:12<1:48:59, 210.94s/it, Model=GRU, L=8, T=0.00]"
     ]
    },
    {
     "name": "stdout",
     "output_type": "stream",
     "text": [
      "Signal distribution - Decline(0): 23255, Sideways(1): 50797, Rise(2): 25369\n",
      "PyTorch data prepared - Train: torch.Size([74559, 10, 12]), Test: torch.Size([24853, 10, 12])\n"
     ]
    },
    {
     "name": "stderr",
     "output_type": "stream",
     "text": [
      "Grid Search Progress:  62%|██████▎   | 50/80 [1:52:43<1:45:24, 210.81s/it, Model=GRU, L=8, T=0.01]"
     ]
    },
    {
     "name": "stdout",
     "output_type": "stream",
     "text": [
      "Signal distribution - Decline(0): 12427, Sideways(1): 73406, Rise(2): 13588\n",
      "PyTorch data prepared - Train: torch.Size([74559, 10, 12]), Test: torch.Size([24853, 10, 12])\n"
     ]
    },
    {
     "name": "stderr",
     "output_type": "stream",
     "text": [
      "Grid Search Progress:  64%|██████▍   | 51/80 [1:56:13<1:41:47, 210.60s/it, Model=GRU, L=8, T=0.01]"
     ]
    },
    {
     "name": "stdout",
     "output_type": "stream",
     "text": [
      "Signal distribution - Decline(0): 7326, Sideways(1): 84065, Rise(2): 8030\n",
      "PyTorch data prepared - Train: torch.Size([74559, 10, 12]), Test: torch.Size([24853, 10, 12])\n"
     ]
    },
    {
     "name": "stderr",
     "output_type": "stream",
     "text": [
      "Grid Search Progress:  65%|██████▌   | 52/80 [2:00:01<1:40:40, 215.73s/it, Model=GRU, L=8, T=0.01]"
     ]
    },
    {
     "name": "stdout",
     "output_type": "stream",
     "text": [
      "Signal distribution - Decline(0): 37111, Sideways(1): 22433, Rise(2): 39875\n",
      "PyTorch data prepared - Train: torch.Size([74557, 10, 12]), Test: torch.Size([24853, 10, 12])\n"
     ]
    },
    {
     "name": "stderr",
     "output_type": "stream",
     "text": [
      "Grid Search Progress:  66%|██████▋   | 53/80 [2:03:27<1:35:53, 213.08s/it, Model=GRU, L=10, T=0.00]"
     ]
    },
    {
     "name": "stdout",
     "output_type": "stream",
     "text": [
      "Signal distribution - Decline(0): 25068, Sideways(1): 46846, Rise(2): 27505\n",
      "PyTorch data prepared - Train: torch.Size([74557, 10, 12]), Test: torch.Size([24853, 10, 12])\n"
     ]
    },
    {
     "name": "stderr",
     "output_type": "stream",
     "text": [
      "Grid Search Progress:  68%|██████▊   | 54/80 [2:06:52<1:31:14, 210.56s/it, Model=GRU, L=10, T=0.01]"
     ]
    },
    {
     "name": "stdout",
     "output_type": "stream",
     "text": [
      "Signal distribution - Decline(0): 14240, Sideways(1): 69424, Rise(2): 15755\n",
      "PyTorch data prepared - Train: torch.Size([74557, 10, 12]), Test: torch.Size([24853, 10, 12])\n"
     ]
    },
    {
     "name": "stderr",
     "output_type": "stream",
     "text": [
      "Grid Search Progress:  69%|██████▉   | 55/80 [2:10:12<1:26:26, 207.45s/it, Model=GRU, L=10, T=0.01]"
     ]
    },
    {
     "name": "stdout",
     "output_type": "stream",
     "text": [
      "Signal distribution - Decline(0): 8676, Sideways(1): 81135, Rise(2): 9608\n",
      "PyTorch data prepared - Train: torch.Size([74557, 10, 12]), Test: torch.Size([24853, 10, 12])\n"
     ]
    },
    {
     "name": "stderr",
     "output_type": "stream",
     "text": [
      "Grid Search Progress:  70%|███████   | 56/80 [2:13:32<1:21:59, 204.99s/it, Model=GRU, L=10, T=0.01]"
     ]
    },
    {
     "name": "stdout",
     "output_type": "stream",
     "text": [
      "Signal distribution - Decline(0): 37993, Sideways(1): 20545, Rise(2): 40879\n",
      "PyTorch data prepared - Train: torch.Size([74556, 10, 12]), Test: torch.Size([24852, 10, 12])\n"
     ]
    },
    {
     "name": "stderr",
     "output_type": "stream",
     "text": [
      "Grid Search Progress:  71%|███████▏  | 57/80 [2:16:55<1:18:22, 204.47s/it, Model=GRU, L=12, T=0.00]"
     ]
    },
    {
     "name": "stdout",
     "output_type": "stream",
     "text": [
      "Signal distribution - Decline(0): 26507, Sideways(1): 43798, Rise(2): 29112\n",
      "PyTorch data prepared - Train: torch.Size([74556, 10, 12]), Test: torch.Size([24852, 10, 12])\n"
     ]
    },
    {
     "name": "stderr",
     "output_type": "stream",
     "text": [
      "Grid Search Progress:  72%|███████▎  | 58/80 [2:20:18<1:14:48, 204.03s/it, Model=GRU, L=12, T=0.01]"
     ]
    },
    {
     "name": "stdout",
     "output_type": "stream",
     "text": [
      "Signal distribution - Decline(0): 15659, Sideways(1): 66361, Rise(2): 17397\n",
      "PyTorch data prepared - Train: torch.Size([74556, 10, 12]), Test: torch.Size([24852, 10, 12])\n"
     ]
    },
    {
     "name": "stderr",
     "output_type": "stream",
     "text": [
      "Grid Search Progress:  74%|███████▍  | 59/80 [2:23:40<1:11:13, 203.49s/it, Model=GRU, L=12, T=0.01]"
     ]
    },
    {
     "name": "stdout",
     "output_type": "stream",
     "text": [
      "Signal distribution - Decline(0): 9819, Sideways(1): 78477, Rise(2): 11121\n",
      "PyTorch data prepared - Train: torch.Size([74556, 10, 12]), Test: torch.Size([24852, 10, 12])\n"
     ]
    },
    {
     "name": "stderr",
     "output_type": "stream",
     "text": [
      "Grid Search Progress:  75%|███████▌  | 60/80 [2:27:02<1:07:38, 202.93s/it, Model=GRU, L=12, T=0.01]"
     ]
    },
    {
     "name": "stdout",
     "output_type": "stream",
     "text": [
      "Signal distribution - Decline(0): 30349, Sideways(1): 36881, Rise(2): 32196\n",
      "PyTorch data prepared - Train: torch.Size([74562, 10, 12]), Test: torch.Size([24855, 10, 12])\n"
     ]
    },
    {
     "name": "stderr",
     "output_type": "stream",
     "text": [
      "Grid Search Progress:  76%|███████▋  | 61/80 [2:29:42<1:00:14, 190.22s/it, Model=CNN, L=3, T=0.00] "
     ]
    },
    {
     "name": "stdout",
     "output_type": "stream",
     "text": [
      "Signal distribution - Decline(0): 15258, Sideways(1): 67879, Rise(2): 16289\n",
      "PyTorch data prepared - Train: torch.Size([74562, 10, 12]), Test: torch.Size([24855, 10, 12])\n"
     ]
    },
    {
     "name": "stderr",
     "output_type": "stream",
     "text": [
      "Grid Search Progress:  78%|███████▊  | 62/80 [2:32:22<54:20, 181.14s/it, Model=CNN, L=3, T=0.01]  "
     ]
    },
    {
     "name": "stdout",
     "output_type": "stream",
     "text": [
      "Signal distribution - Decline(0): 6109, Sideways(1): 86915, Rise(2): 6402\n",
      "PyTorch data prepared - Train: torch.Size([74562, 10, 12]), Test: torch.Size([24855, 10, 12])\n"
     ]
    },
    {
     "name": "stderr",
     "output_type": "stream",
     "text": [
      "Grid Search Progress:  79%|███████▉  | 63/80 [2:35:02<49:29, 174.69s/it, Model=CNN, L=3, T=0.01]"
     ]
    },
    {
     "name": "stdout",
     "output_type": "stream",
     "text": [
      "Signal distribution - Decline(0): 2988, Sideways(1): 93373, Rise(2): 3065\n",
      "PyTorch data prepared - Train: torch.Size([74562, 10, 12]), Test: torch.Size([24855, 10, 12])\n"
     ]
    },
    {
     "name": "stderr",
     "output_type": "stream",
     "text": [
      "Grid Search Progress:  80%|████████  | 64/80 [2:37:41<45:22, 170.16s/it, Model=CNN, L=3, T=0.01]"
     ]
    },
    {
     "name": "stdout",
     "output_type": "stream",
     "text": [
      "Signal distribution - Decline(0): 33374, Sideways(1): 30415, Rise(2): 35635\n",
      "PyTorch data prepared - Train: torch.Size([74561, 10, 12]), Test: torch.Size([24854, 10, 12])\n"
     ]
    },
    {
     "name": "stderr",
     "output_type": "stream",
     "text": [
      "Grid Search Progress:  81%|████████▏ | 65/80 [2:40:22<41:49, 167.33s/it, Model=CNN, L=5, T=0.00]"
     ]
    },
    {
     "name": "stdout",
     "output_type": "stream",
     "text": [
      "Signal distribution - Decline(0): 19465, Sideways(1): 59116, Rise(2): 20843\n",
      "PyTorch data prepared - Train: torch.Size([74561, 10, 12]), Test: torch.Size([24854, 10, 12])\n"
     ]
    },
    {
     "name": "stderr",
     "output_type": "stream",
     "text": [
      "Grid Search Progress:  82%|████████▎ | 66/80 [2:43:01<38:24, 164.64s/it, Model=CNN, L=5, T=0.01]"
     ]
    },
    {
     "name": "stdout",
     "output_type": "stream",
     "text": [
      "Signal distribution - Decline(0): 9033, Sideways(1): 80674, Rise(2): 9717\n",
      "PyTorch data prepared - Train: torch.Size([74561, 10, 12]), Test: torch.Size([24854, 10, 12])\n"
     ]
    },
    {
     "name": "stderr",
     "output_type": "stream",
     "text": [
      "Grid Search Progress:  84%|████████▍ | 67/80 [2:45:45<35:41, 164.72s/it, Model=CNN, L=5, T=0.01]"
     ]
    },
    {
     "name": "stdout",
     "output_type": "stream",
     "text": [
      "Signal distribution - Decline(0): 4969, Sideways(1): 89233, Rise(2): 5222\n",
      "PyTorch data prepared - Train: torch.Size([74561, 10, 12]), Test: torch.Size([24854, 10, 12])\n"
     ]
    },
    {
     "name": "stderr",
     "output_type": "stream",
     "text": [
      "Grid Search Progress:  85%|████████▌ | 68/80 [2:48:32<33:04, 165.42s/it, Model=CNN, L=5, T=0.01]"
     ]
    },
    {
     "name": "stdout",
     "output_type": "stream",
     "text": [
      "Signal distribution - Decline(0): 35998, Sideways(1): 24726, Rise(2): 38697\n",
      "PyTorch data prepared - Train: torch.Size([74559, 10, 12]), Test: torch.Size([24853, 10, 12])\n"
     ]
    },
    {
     "name": "stderr",
     "output_type": "stream",
     "text": [
      "Grid Search Progress:  86%|████████▋ | 69/80 [2:51:11<29:57, 163.45s/it, Model=CNN, L=8, T=0.00]"
     ]
    },
    {
     "name": "stdout",
     "output_type": "stream",
     "text": [
      "Signal distribution - Decline(0): 23255, Sideways(1): 50797, Rise(2): 25369\n",
      "PyTorch data prepared - Train: torch.Size([74559, 10, 12]), Test: torch.Size([24853, 10, 12])\n"
     ]
    },
    {
     "name": "stderr",
     "output_type": "stream",
     "text": [
      "Grid Search Progress:  88%|████████▊ | 70/80 [2:53:51<27:04, 162.44s/it, Model=CNN, L=8, T=0.01]"
     ]
    },
    {
     "name": "stdout",
     "output_type": "stream",
     "text": [
      "Signal distribution - Decline(0): 12427, Sideways(1): 73406, Rise(2): 13588\n",
      "PyTorch data prepared - Train: torch.Size([74559, 10, 12]), Test: torch.Size([24853, 10, 12])\n"
     ]
    },
    {
     "name": "stderr",
     "output_type": "stream",
     "text": [
      "Grid Search Progress:  89%|████████▉ | 71/80 [2:56:32<24:16, 161.86s/it, Model=CNN, L=8, T=0.01]"
     ]
    },
    {
     "name": "stdout",
     "output_type": "stream",
     "text": [
      "Signal distribution - Decline(0): 7326, Sideways(1): 84065, Rise(2): 8030\n",
      "PyTorch data prepared - Train: torch.Size([74559, 10, 12]), Test: torch.Size([24853, 10, 12])\n"
     ]
    },
    {
     "name": "stderr",
     "output_type": "stream",
     "text": [
      "Grid Search Progress:  90%|█████████ | 72/80 [2:59:12<21:31, 161.40s/it, Model=CNN, L=8, T=0.01]"
     ]
    },
    {
     "name": "stdout",
     "output_type": "stream",
     "text": [
      "Signal distribution - Decline(0): 37111, Sideways(1): 22433, Rise(2): 39875\n",
      "PyTorch data prepared - Train: torch.Size([74557, 10, 12]), Test: torch.Size([24853, 10, 12])\n"
     ]
    },
    {
     "name": "stderr",
     "output_type": "stream",
     "text": [
      "Grid Search Progress:  91%|█████████▏| 73/80 [3:01:54<18:49, 161.38s/it, Model=CNN, L=10, T=0.00]"
     ]
    },
    {
     "name": "stdout",
     "output_type": "stream",
     "text": [
      "Signal distribution - Decline(0): 25068, Sideways(1): 46846, Rise(2): 27505\n",
      "PyTorch data prepared - Train: torch.Size([74557, 10, 12]), Test: torch.Size([24853, 10, 12])\n"
     ]
    },
    {
     "name": "stderr",
     "output_type": "stream",
     "text": [
      "Grid Search Progress:  92%|█████████▎| 74/80 [3:04:32<16:02, 160.44s/it, Model=CNN, L=10, T=0.01]"
     ]
    },
    {
     "name": "stdout",
     "output_type": "stream",
     "text": [
      "Signal distribution - Decline(0): 14240, Sideways(1): 69424, Rise(2): 15755\n",
      "PyTorch data prepared - Train: torch.Size([74557, 10, 12]), Test: torch.Size([24853, 10, 12])\n"
     ]
    },
    {
     "name": "stderr",
     "output_type": "stream",
     "text": [
      "Grid Search Progress:  94%|█████████▍| 75/80 [3:07:11<13:20, 160.16s/it, Model=CNN, L=10, T=0.01]"
     ]
    },
    {
     "name": "stdout",
     "output_type": "stream",
     "text": [
      "Signal distribution - Decline(0): 8676, Sideways(1): 81135, Rise(2): 9608\n",
      "PyTorch data prepared - Train: torch.Size([74557, 10, 12]), Test: torch.Size([24853, 10, 12])\n"
     ]
    },
    {
     "name": "stderr",
     "output_type": "stream",
     "text": [
      "Grid Search Progress:  95%|█████████▌| 76/80 [3:09:50<10:39, 159.81s/it, Model=CNN, L=10, T=0.01]"
     ]
    },
    {
     "name": "stdout",
     "output_type": "stream",
     "text": [
      "Signal distribution - Decline(0): 37993, Sideways(1): 20545, Rise(2): 40879\n",
      "PyTorch data prepared - Train: torch.Size([74556, 10, 12]), Test: torch.Size([24852, 10, 12])\n"
     ]
    },
    {
     "name": "stderr",
     "output_type": "stream",
     "text": [
      "Grid Search Progress:  96%|█████████▋| 77/80 [3:12:29<07:57, 159.33s/it, Model=CNN, L=12, T=0.00]"
     ]
    },
    {
     "name": "stdout",
     "output_type": "stream",
     "text": [
      "Signal distribution - Decline(0): 26507, Sideways(1): 43798, Rise(2): 29112\n",
      "PyTorch data prepared - Train: torch.Size([74556, 10, 12]), Test: torch.Size([24852, 10, 12])\n"
     ]
    },
    {
     "name": "stderr",
     "output_type": "stream",
     "text": [
      "Grid Search Progress:  98%|█████████▊| 78/80 [3:15:09<05:19, 159.70s/it, Model=CNN, L=12, T=0.01]"
     ]
    },
    {
     "name": "stdout",
     "output_type": "stream",
     "text": [
      "Signal distribution - Decline(0): 15659, Sideways(1): 66361, Rise(2): 17397\n",
      "PyTorch data prepared - Train: torch.Size([74556, 10, 12]), Test: torch.Size([24852, 10, 12])\n"
     ]
    },
    {
     "name": "stderr",
     "output_type": "stream",
     "text": [
      "Grid Search Progress:  99%|█████████▉| 79/80 [3:17:50<02:40, 160.10s/it, Model=CNN, L=12, T=0.01]"
     ]
    },
    {
     "name": "stdout",
     "output_type": "stream",
     "text": [
      "Signal distribution - Decline(0): 9819, Sideways(1): 78477, Rise(2): 11121\n",
      "PyTorch data prepared - Train: torch.Size([74556, 10, 12]), Test: torch.Size([24852, 10, 12])\n"
     ]
    },
    {
     "name": "stderr",
     "output_type": "stream",
     "text": [
      "Grid Search Progress: 100%|██████████| 80/80 [3:21:10<00:00, 150.88s/it, Model=CNN, L=12, T=0.01]"
     ]
    },
    {
     "name": "stdout",
     "output_type": "stream",
     "text": [
      "\n",
      "Results saved to: ../../results/btc_results_30m_3class.csv\n",
      "\n",
      "======================================================================\n",
      "COMPLETE EXPERIMENTAL RESULTS\n",
      "======================================================================\n",
      "      model  lookahead  threshold  accuracy  loss_count  loss_mean  \\\n",
      "0   XGBoost          3      0.002    0.4693        5605     0.0066   \n",
      "1   XGBoost          3      0.005    0.6910         475     0.0129   \n",
      "2   XGBoost          3      0.010    0.8750          57     0.0185   \n",
      "3   XGBoost          3      0.015    0.9394          14     0.0217   \n",
      "4   XGBoost          5      0.002    0.4702        7432     0.0073   \n",
      "..      ...        ...        ...       ...         ...        ...   \n",
      "75      CNN         10      0.015    0.8673          12     0.0241   \n",
      "76      CNN         12      0.002    0.4066       11920     0.0087   \n",
      "77      CNN         12      0.005    0.4121        6255     0.0093   \n",
      "78      CNN         12      0.010    0.7176         264     0.0141   \n",
      "79      CNN         12      0.015    0.8403          41     0.0174   \n",
      "\n",
      "    transaction  \n",
      "0         12952  \n",
      "1          1188  \n",
      "2           179  \n",
      "3            56  \n",
      "4         17814  \n",
      "..          ...  \n",
      "75           20  \n",
      "76        24747  \n",
      "77        13187  \n",
      "78          560  \n",
      "79          101  \n",
      "\n",
      "[80 rows x 7 columns]\n",
      "\n",
      "======================================================================\n",
      "BEST PERFORMANCE BY MODEL TYPE\n",
      "======================================================================\n",
      "      model  lookahead  threshold  accuracy  loss_count  loss_mean\n",
      "63      CNN          3      0.015    0.9647           1     0.0102\n",
      "43      GRU          3      0.015    0.9648           0     0.0000\n",
      "23     LSTM          3      0.015    0.9648           0     0.0000\n",
      "3   XGBoost          3      0.015    0.9394          14     0.0217\n",
      "\n",
      "======================================================================\n",
      "OVERALL CHAMPION CONFIGURATION\n",
      "======================================================================\n",
      "Best Model: LSTM\n",
      "Optimal Lookahead: 3 days\n",
      "Optimal Threshold: 0.015\n",
      "Peak Accuracy: 0.9648 (96.48%)\n",
      "Loss Events: 0\n",
      "Average Loss: 0.000000\n",
      "\n",
      "==================================================\n",
      "SUMMARY\n",
      "==================================================\n",
      "Total experiments: 80\n",
      "Best accuracy: 0.9648\n",
      "Average accuracy: 0.6623\n",
      "\n",
      "Best configuration:\n",
      "Model: LSTM, Lookahead: 3, Threshold: 0.015\n"
     ]
    },
    {
     "name": "stderr",
     "output_type": "stream",
     "text": [
      "\n"
     ]
    }
   ],
   "source": [
    "\"\"\"\n",
    "Bitcoin Price Movement Prediction - Main Execution Script\n",
    "\"\"\"\n",
    "\n",
    "import pandas as pd\n",
    "import torch\n",
    "import warnings\n",
    "warnings.filterwarnings('ignore')\n",
    "\n",
    "from experiment_runner import ExperimentRunner\n",
    "\n",
    "def btc_30m():\n",
    "    \"\"\"Main execution function\"\"\"\n",
    "    \n",
    "    # ============= CONFIGURATION =============\n",
    "    # Tùy chỉnh các tham số tại đây\n",
    "    \n",
    "    DATA_PATH = r'F:\\up_git\\official_predict\\data\\btc_30m.csv'  # Đường dẫn file data\n",
    "    \n",
    "    # Tạo thư mục results ở cấp trên 2 cấp nếu chưa có\n",
    "    import os\n",
    "    results_dir = os.path.join('..', '..', 'results')\n",
    "    os.makedirs(results_dir, exist_ok=True)\n",
    "    \n",
    "    OUTPUT_FILENAME = '../../results/btc_results_30m_3class.csv'  # Lưu vào thư mục results cấp trên 2\n",
    "    \n",
    "    LOOKAHEAD_VALUES = [3, 5, 8, 10, 12]  \n",
    "    THRESHOLD_VALUES = [0.002, 0.005, 0.01, 0.015]  \n",
    "    \n",
    "    MODEL_TYPES = ['XGBoost', 'LSTM', 'GRU', 'CNN']  # Các model cần test\n",
    "    SEQUENCE_LENGTH = 10  # Độ dài chuỗi cho deep learning\n",
    "    \n",
    "    # ============= CHẠY THÍ NGHIỆM =============\n",
    "    \n",
    "    print(f\"Using device: {torch.device('cuda' if torch.cuda.is_available() else 'cpu')}\")\n",
    "    \n",
    "    runner = ExperimentRunner(\n",
    "        data_path=DATA_PATH,\n",
    "        output_filename=OUTPUT_FILENAME,\n",
    "        sequence_length=SEQUENCE_LENGTH,\n",
    "        verbose=False\n",
    "    )\n",
    "    \n",
    "    results = runner.run_grid_search(\n",
    "        lookahead_values=LOOKAHEAD_VALUES,\n",
    "        threshold_values=THRESHOLD_VALUES,\n",
    "        model_types=MODEL_TYPES\n",
    "    )\n",
    "    \n",
    "    # ============= HIỂN THỊ KẾT QUẢ =============\n",
    "    \n",
    "    if results is not None and not results.empty:\n",
    "        runner.display_results(results)\n",
    "        \n",
    "        # Thống kê tóm tắt\n",
    "        print(f\"\\n{'='*50}\")\n",
    "        print(\"SUMMARY\")\n",
    "        print(f\"{'='*50}\")\n",
    "        print(f\"Total experiments: {len(results)}\")\n",
    "        print(f\"Best accuracy: {results['accuracy'].max():.4f}\")\n",
    "        print(f\"Average accuracy: {results['accuracy'].mean():.4f}\")\n",
    "        \n",
    "        # Kết quả tốt nhất\n",
    "        best = results.loc[results['accuracy'].idxmax()]\n",
    "        print(f\"\\nBest configuration:\")\n",
    "        print(f\"Model: {best['model']}, Lookahead: {best['lookahead']}, Threshold: {best['threshold']}\")\n",
    "        \n",
    "    else:\n",
    "        print(\"No results generated.\")\n",
    "\n",
    "btc_30m()"
   ]
  },
  {
   "cell_type": "code",
   "execution_count": 2,
   "id": "9b056915",
   "metadata": {},
   "outputs": [
    {
     "ename": "SyntaxError",
     "evalue": "(unicode error) 'unicodeescape' codec can't decode bytes in position 55-56: truncated \\uXXXX escape (1317128667.py, line 3)",
     "output_type": "error",
     "traceback": [
      "  \u001b[36mCell\u001b[39m\u001b[36m \u001b[39m\u001b[32mIn[2]\u001b[39m\u001b[32m, line 3\u001b[39m\n\u001b[31m    \u001b[39m\u001b[31mos.system('jupyter nbconvert --execute --to notebook --inplace \"F:\\up_git\\official_predict\\notebook\\for_4_classes\\btc_4_class.ipynb\"')\u001b[39m\n              ^\n\u001b[31mSyntaxError\u001b[39m\u001b[31m:\u001b[39m (unicode error) 'unicodeescape' codec can't decode bytes in position 55-56: truncated \\uXXXX escape\n"
     ]
    }
   ],
   "source": [
    "import os\n",
    "\n",
    "os.system('jupyter nbconvert --execute --to notebook --inplace \"F:\\up_git\\official_predict\\notebook\\for_4_classes\\btc_4_class.ipynb\"')\n",
    "\n",
    "print(\"File btc_4_class đã chạy xong!\")"
   ]
  }
 ],
 "metadata": {
  "kernelspec": {
   "display_name": "For_pytorch",
   "language": "python",
   "name": "python3"
  },
  "language_info": {
   "codemirror_mode": {
    "name": "ipython",
    "version": 3
   },
   "file_extension": ".py",
   "mimetype": "text/x-python",
   "name": "python",
   "nbconvert_exporter": "python",
   "pygments_lexer": "ipython3",
   "version": "3.12.9"
  }
 },
 "nbformat": 4,
 "nbformat_minor": 5
}
