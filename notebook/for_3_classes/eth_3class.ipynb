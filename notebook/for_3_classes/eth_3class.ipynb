{
 "cells": [
  {
   "cell_type": "code",
   "execution_count": 1,
   "id": "7f4d160d",
   "metadata": {},
   "outputs": [
    {
     "name": "stdout",
     "output_type": "stream",
     "text": [
      "Using device: cuda\n",
      "Using device: cuda\n",
      "Loading and preparing Bitcoin data...\n",
      "Successfully loaded data from: F:\\up_git\\official_predict\\data\\eth_1d.csv\n",
      "Data shape: (1867, 6)\n",
      "Technical indicators added successfully\n",
      "Features normalized successfully\n",
      "Final dataset shape: (1839, 18)\n",
      "Starting grid search with 80 experiments...\n",
      "Lookahead values: [3, 5, 8, 10, 12]\n",
      "Threshold values: [0.02, 0.03, 0.04, 0.05]\n",
      "Model types: ['XGBoost', 'LSTM', 'GRU', 'CNN']\n"
     ]
    },
    {
     "name": "stderr",
     "output_type": "stream",
     "text": [
      "Grid Search Progress:   0%|          | 0/80 [00:00<?, ?it/s]"
     ]
    },
    {
     "name": "stdout",
     "output_type": "stream",
     "text": [
      "Signal distribution - Decline(0): 566, Sideways(1): 584, Rise(2): 686\n"
     ]
    },
    {
     "name": "stderr",
     "output_type": "stream",
     "text": [
      "Grid Search Progress:   1%|▏         | 1/80 [00:00<00:28,  2.79it/s, Model=XGBoost, L=3, T=0.02]"
     ]
    },
    {
     "name": "stdout",
     "output_type": "stream",
     "text": [
      "Signal distribution - Decline(0): 469, Sideways(1): 793, Rise(2): 574\n"
     ]
    },
    {
     "name": "stderr",
     "output_type": "stream",
     "text": [
      "Grid Search Progress:   2%|▎         | 2/80 [00:00<00:27,  2.79it/s, Model=XGBoost, L=3, T=0.03]"
     ]
    },
    {
     "name": "stdout",
     "output_type": "stream",
     "text": [
      "Signal distribution - Decline(0): 372, Sideways(1): 976, Rise(2): 488\n"
     ]
    },
    {
     "name": "stderr",
     "output_type": "stream",
     "text": [
      "Grid Search Progress:   4%|▍         | 3/80 [00:01<00:26,  2.87it/s, Model=XGBoost, L=3, T=0.04]"
     ]
    },
    {
     "name": "stdout",
     "output_type": "stream",
     "text": [
      "Signal distribution - Decline(0): 311, Sideways(1): 1118, Rise(2): 407\n"
     ]
    },
    {
     "name": "stderr",
     "output_type": "stream",
     "text": [
      "Grid Search Progress:   5%|▌         | 4/80 [00:01<00:26,  2.84it/s, Model=XGBoost, L=3, T=0.05]"
     ]
    },
    {
     "name": "stdout",
     "output_type": "stream",
     "text": [
      "Signal distribution - Decline(0): 617, Sideways(1): 457, Rise(2): 760\n"
     ]
    },
    {
     "name": "stderr",
     "output_type": "stream",
     "text": [
      "Grid Search Progress:   6%|▋         | 5/80 [00:01<00:25,  2.99it/s, Model=XGBoost, L=5, T=0.02]"
     ]
    },
    {
     "name": "stdout",
     "output_type": "stream",
     "text": [
      "Signal distribution - Decline(0): 516, Sideways(1): 649, Rise(2): 669\n"
     ]
    },
    {
     "name": "stderr",
     "output_type": "stream",
     "text": [
      "Grid Search Progress:   8%|▊         | 6/80 [00:02<00:25,  2.87it/s, Model=XGBoost, L=5, T=0.03]"
     ]
    },
    {
     "name": "stdout",
     "output_type": "stream",
     "text": [
      "Signal distribution - Decline(0): 454, Sideways(1): 797, Rise(2): 583\n"
     ]
    },
    {
     "name": "stderr",
     "output_type": "stream",
     "text": [
      "Grid Search Progress:   9%|▉         | 7/80 [00:02<00:24,  3.02it/s, Model=XGBoost, L=5, T=0.04]"
     ]
    },
    {
     "name": "stdout",
     "output_type": "stream",
     "text": [
      "Signal distribution - Decline(0): 385, Sideways(1): 934, Rise(2): 515\n"
     ]
    },
    {
     "name": "stderr",
     "output_type": "stream",
     "text": [
      "Grid Search Progress:  10%|█         | 8/80 [00:02<00:24,  2.93it/s, Model=XGBoost, L=5, T=0.05]"
     ]
    },
    {
     "name": "stdout",
     "output_type": "stream",
     "text": [
      "Signal distribution - Decline(0): 665, Sideways(1): 361, Rise(2): 805\n"
     ]
    },
    {
     "name": "stderr",
     "output_type": "stream",
     "text": [
      "Grid Search Progress:  11%|█▏        | 9/80 [00:03<00:24,  2.94it/s, Model=XGBoost, L=8, T=0.02]"
     ]
    },
    {
     "name": "stdout",
     "output_type": "stream",
     "text": [
      "Signal distribution - Decline(0): 594, Sideways(1): 511, Rise(2): 726\n"
     ]
    },
    {
     "name": "stderr",
     "output_type": "stream",
     "text": [
      "Grid Search Progress:  12%|█▎        | 10/80 [00:03<00:25,  2.71it/s, Model=XGBoost, L=8, T=0.03]"
     ]
    },
    {
     "name": "stdout",
     "output_type": "stream",
     "text": [
      "Signal distribution - Decline(0): 531, Sideways(1): 638, Rise(2): 662\n"
     ]
    },
    {
     "name": "stderr",
     "output_type": "stream",
     "text": [
      "Grid Search Progress:  14%|█▍        | 11/80 [00:03<00:25,  2.67it/s, Model=XGBoost, L=8, T=0.04]"
     ]
    },
    {
     "name": "stdout",
     "output_type": "stream",
     "text": [
      "Signal distribution - Decline(0): 469, Sideways(1): 762, Rise(2): 600\n"
     ]
    },
    {
     "name": "stderr",
     "output_type": "stream",
     "text": [
      "Grid Search Progress:  15%|█▌        | 12/80 [00:04<00:23,  2.85it/s, Model=XGBoost, L=8, T=0.05]"
     ]
    },
    {
     "name": "stdout",
     "output_type": "stream",
     "text": [
      "Signal distribution - Decline(0): 698, Sideways(1): 291, Rise(2): 840\n"
     ]
    },
    {
     "name": "stderr",
     "output_type": "stream",
     "text": [
      "Grid Search Progress:  16%|█▋        | 13/80 [00:04<00:23,  2.88it/s, Model=XGBoost, L=10, T=0.02]"
     ]
    },
    {
     "name": "stdout",
     "output_type": "stream",
     "text": [
      "Signal distribution - Decline(0): 632, Sideways(1): 418, Rise(2): 779\n"
     ]
    },
    {
     "name": "stderr",
     "output_type": "stream",
     "text": [
      "Grid Search Progress:  18%|█▊        | 14/80 [00:04<00:23,  2.85it/s, Model=XGBoost, L=10, T=0.03]"
     ]
    },
    {
     "name": "stdout",
     "output_type": "stream",
     "text": [
      "Signal distribution - Decline(0): 557, Sideways(1): 558, Rise(2): 714\n"
     ]
    },
    {
     "name": "stderr",
     "output_type": "stream",
     "text": [
      "Grid Search Progress:  19%|█▉        | 15/80 [00:05<00:21,  2.98it/s, Model=XGBoost, L=10, T=0.04]"
     ]
    },
    {
     "name": "stdout",
     "output_type": "stream",
     "text": [
      "Signal distribution - Decline(0): 498, Sideways(1): 666, Rise(2): 665\n"
     ]
    },
    {
     "name": "stderr",
     "output_type": "stream",
     "text": [
      "Grid Search Progress:  20%|██        | 16/80 [00:05<00:22,  2.82it/s, Model=XGBoost, L=10, T=0.05]"
     ]
    },
    {
     "name": "stdout",
     "output_type": "stream",
     "text": [
      "Signal distribution - Decline(0): 715, Sideways(1): 257, Rise(2): 855\n"
     ]
    },
    {
     "name": "stderr",
     "output_type": "stream",
     "text": [
      "Grid Search Progress:  21%|██▏       | 17/80 [00:05<00:22,  2.81it/s, Model=XGBoost, L=12, T=0.02]"
     ]
    },
    {
     "name": "stdout",
     "output_type": "stream",
     "text": [
      "Signal distribution - Decline(0): 659, Sideways(1): 367, Rise(2): 801\n"
     ]
    },
    {
     "name": "stderr",
     "output_type": "stream",
     "text": [
      "Grid Search Progress:  22%|██▎       | 18/80 [00:06<00:21,  2.91it/s, Model=XGBoost, L=12, T=0.03]"
     ]
    },
    {
     "name": "stdout",
     "output_type": "stream",
     "text": [
      "Signal distribution - Decline(0): 588, Sideways(1): 496, Rise(2): 743\n"
     ]
    },
    {
     "name": "stderr",
     "output_type": "stream",
     "text": [
      "Grid Search Progress:  24%|██▍       | 19/80 [00:06<00:20,  2.96it/s, Model=XGBoost, L=12, T=0.04]"
     ]
    },
    {
     "name": "stdout",
     "output_type": "stream",
     "text": [
      "Signal distribution - Decline(0): 524, Sideways(1): 612, Rise(2): 691\n"
     ]
    },
    {
     "name": "stderr",
     "output_type": "stream",
     "text": [
      "Grid Search Progress:  25%|██▌       | 20/80 [00:06<00:20,  2.96it/s, Model=XGBoost, L=12, T=0.05]"
     ]
    },
    {
     "name": "stdout",
     "output_type": "stream",
     "text": [
      "Signal distribution - Decline(0): 566, Sideways(1): 584, Rise(2): 686\n",
      "PyTorch data prepared - Train: torch.Size([1370, 10, 12]), Test: torch.Size([457, 10, 12])\n"
     ]
    },
    {
     "name": "stderr",
     "output_type": "stream",
     "text": [
      "Grid Search Progress:  26%|██▋       | 21/80 [00:14<02:25,  2.46s/it, Model=LSTM, L=3, T=0.02]    "
     ]
    },
    {
     "name": "stdout",
     "output_type": "stream",
     "text": [
      "Signal distribution - Decline(0): 469, Sideways(1): 793, Rise(2): 574\n",
      "PyTorch data prepared - Train: torch.Size([1370, 10, 12]), Test: torch.Size([457, 10, 12])\n"
     ]
    },
    {
     "name": "stderr",
     "output_type": "stream",
     "text": [
      "Grid Search Progress:  28%|██▊       | 22/80 [00:20<03:23,  3.51s/it, Model=LSTM, L=3, T=0.03]"
     ]
    },
    {
     "name": "stdout",
     "output_type": "stream",
     "text": [
      "Signal distribution - Decline(0): 372, Sideways(1): 976, Rise(2): 488\n",
      "PyTorch data prepared - Train: torch.Size([1370, 10, 12]), Test: torch.Size([457, 10, 12])\n"
     ]
    },
    {
     "name": "stderr",
     "output_type": "stream",
     "text": [
      "Grid Search Progress:  29%|██▉       | 23/80 [00:26<04:07,  4.34s/it, Model=LSTM, L=3, T=0.04]"
     ]
    },
    {
     "name": "stdout",
     "output_type": "stream",
     "text": [
      "Signal distribution - Decline(0): 311, Sideways(1): 1118, Rise(2): 407\n",
      "PyTorch data prepared - Train: torch.Size([1370, 10, 12]), Test: torch.Size([457, 10, 12])\n"
     ]
    },
    {
     "name": "stderr",
     "output_type": "stream",
     "text": [
      "Grid Search Progress:  30%|███       | 24/80 [00:32<04:31,  4.84s/it, Model=LSTM, L=3, T=0.05]"
     ]
    },
    {
     "name": "stdout",
     "output_type": "stream",
     "text": [
      "Signal distribution - Decline(0): 617, Sideways(1): 457, Rise(2): 760\n",
      "PyTorch data prepared - Train: torch.Size([1368, 10, 12]), Test: torch.Size([457, 10, 12])\n"
     ]
    },
    {
     "name": "stderr",
     "output_type": "stream",
     "text": [
      "Grid Search Progress:  31%|███▏      | 25/80 [00:38<04:45,  5.19s/it, Model=LSTM, L=5, T=0.02]"
     ]
    },
    {
     "name": "stdout",
     "output_type": "stream",
     "text": [
      "Signal distribution - Decline(0): 516, Sideways(1): 649, Rise(2): 669\n",
      "PyTorch data prepared - Train: torch.Size([1368, 10, 12]), Test: torch.Size([457, 10, 12])\n"
     ]
    },
    {
     "name": "stderr",
     "output_type": "stream",
     "text": [
      "Grid Search Progress:  32%|███▎      | 26/80 [00:44<04:53,  5.44s/it, Model=LSTM, L=5, T=0.03]"
     ]
    },
    {
     "name": "stdout",
     "output_type": "stream",
     "text": [
      "Signal distribution - Decline(0): 454, Sideways(1): 797, Rise(2): 583\n",
      "PyTorch data prepared - Train: torch.Size([1368, 10, 12]), Test: torch.Size([457, 10, 12])\n"
     ]
    },
    {
     "name": "stderr",
     "output_type": "stream",
     "text": [
      "Grid Search Progress:  34%|███▍      | 27/80 [00:50<04:57,  5.62s/it, Model=LSTM, L=5, T=0.04]"
     ]
    },
    {
     "name": "stdout",
     "output_type": "stream",
     "text": [
      "Signal distribution - Decline(0): 385, Sideways(1): 934, Rise(2): 515\n",
      "PyTorch data prepared - Train: torch.Size([1368, 10, 12]), Test: torch.Size([457, 10, 12])\n"
     ]
    },
    {
     "name": "stderr",
     "output_type": "stream",
     "text": [
      "Grid Search Progress:  35%|███▌      | 28/80 [00:56<04:58,  5.74s/it, Model=LSTM, L=5, T=0.05]"
     ]
    },
    {
     "name": "stdout",
     "output_type": "stream",
     "text": [
      "Signal distribution - Decline(0): 665, Sideways(1): 361, Rise(2): 805\n",
      "PyTorch data prepared - Train: torch.Size([1366, 10, 12]), Test: torch.Size([456, 10, 12])\n"
     ]
    },
    {
     "name": "stderr",
     "output_type": "stream",
     "text": [
      "Grid Search Progress:  36%|███▋      | 29/80 [01:02<04:57,  5.84s/it, Model=LSTM, L=8, T=0.02]"
     ]
    },
    {
     "name": "stdout",
     "output_type": "stream",
     "text": [
      "Signal distribution - Decline(0): 594, Sideways(1): 511, Rise(2): 726\n",
      "PyTorch data prepared - Train: torch.Size([1366, 10, 12]), Test: torch.Size([456, 10, 12])\n"
     ]
    },
    {
     "name": "stderr",
     "output_type": "stream",
     "text": [
      "Grid Search Progress:  38%|███▊      | 30/80 [01:08<04:55,  5.90s/it, Model=LSTM, L=8, T=0.03]"
     ]
    },
    {
     "name": "stdout",
     "output_type": "stream",
     "text": [
      "Signal distribution - Decline(0): 531, Sideways(1): 638, Rise(2): 662\n",
      "PyTorch data prepared - Train: torch.Size([1366, 10, 12]), Test: torch.Size([456, 10, 12])\n"
     ]
    },
    {
     "name": "stderr",
     "output_type": "stream",
     "text": [
      "Grid Search Progress:  39%|███▉      | 31/80 [01:14<04:51,  5.95s/it, Model=LSTM, L=8, T=0.04]"
     ]
    },
    {
     "name": "stdout",
     "output_type": "stream",
     "text": [
      "Signal distribution - Decline(0): 469, Sideways(1): 762, Rise(2): 600\n",
      "PyTorch data prepared - Train: torch.Size([1366, 10, 12]), Test: torch.Size([456, 10, 12])\n"
     ]
    },
    {
     "name": "stderr",
     "output_type": "stream",
     "text": [
      "Grid Search Progress:  40%|████      | 32/80 [01:20<04:47,  6.00s/it, Model=LSTM, L=8, T=0.05]"
     ]
    },
    {
     "name": "stdout",
     "output_type": "stream",
     "text": [
      "Signal distribution - Decline(0): 698, Sideways(1): 291, Rise(2): 840\n",
      "PyTorch data prepared - Train: torch.Size([1365, 10, 12]), Test: torch.Size([455, 10, 12])\n"
     ]
    },
    {
     "name": "stderr",
     "output_type": "stream",
     "text": [
      "Grid Search Progress:  41%|████▏     | 33/80 [01:27<04:43,  6.03s/it, Model=LSTM, L=10, T=0.02]"
     ]
    },
    {
     "name": "stdout",
     "output_type": "stream",
     "text": [
      "Signal distribution - Decline(0): 632, Sideways(1): 418, Rise(2): 779\n",
      "PyTorch data prepared - Train: torch.Size([1365, 10, 12]), Test: torch.Size([455, 10, 12])\n"
     ]
    },
    {
     "name": "stderr",
     "output_type": "stream",
     "text": [
      "Grid Search Progress:  42%|████▎     | 34/80 [01:33<04:38,  6.05s/it, Model=LSTM, L=10, T=0.03]"
     ]
    },
    {
     "name": "stdout",
     "output_type": "stream",
     "text": [
      "Signal distribution - Decline(0): 557, Sideways(1): 558, Rise(2): 714\n",
      "PyTorch data prepared - Train: torch.Size([1365, 10, 12]), Test: torch.Size([455, 10, 12])\n"
     ]
    },
    {
     "name": "stderr",
     "output_type": "stream",
     "text": [
      "Grid Search Progress:  44%|████▍     | 35/80 [01:39<04:33,  6.08s/it, Model=LSTM, L=10, T=0.04]"
     ]
    },
    {
     "name": "stdout",
     "output_type": "stream",
     "text": [
      "Signal distribution - Decline(0): 498, Sideways(1): 666, Rise(2): 665\n",
      "PyTorch data prepared - Train: torch.Size([1365, 10, 12]), Test: torch.Size([455, 10, 12])\n"
     ]
    },
    {
     "name": "stderr",
     "output_type": "stream",
     "text": [
      "Grid Search Progress:  45%|████▌     | 36/80 [01:45<04:28,  6.09s/it, Model=LSTM, L=10, T=0.05]"
     ]
    },
    {
     "name": "stdout",
     "output_type": "stream",
     "text": [
      "Signal distribution - Decline(0): 715, Sideways(1): 257, Rise(2): 855\n",
      "PyTorch data prepared - Train: torch.Size([1363, 10, 12]), Test: torch.Size([455, 10, 12])\n"
     ]
    },
    {
     "name": "stderr",
     "output_type": "stream",
     "text": [
      "Grid Search Progress:  46%|████▋     | 37/80 [01:51<04:21,  6.09s/it, Model=LSTM, L=12, T=0.02]"
     ]
    },
    {
     "name": "stdout",
     "output_type": "stream",
     "text": [
      "Signal distribution - Decline(0): 659, Sideways(1): 367, Rise(2): 801\n",
      "PyTorch data prepared - Train: torch.Size([1363, 10, 12]), Test: torch.Size([455, 10, 12])\n"
     ]
    },
    {
     "name": "stderr",
     "output_type": "stream",
     "text": [
      "Grid Search Progress:  48%|████▊     | 38/80 [01:57<04:15,  6.09s/it, Model=LSTM, L=12, T=0.03]"
     ]
    },
    {
     "name": "stdout",
     "output_type": "stream",
     "text": [
      "Signal distribution - Decline(0): 588, Sideways(1): 496, Rise(2): 743\n",
      "PyTorch data prepared - Train: torch.Size([1363, 10, 12]), Test: torch.Size([455, 10, 12])\n"
     ]
    },
    {
     "name": "stderr",
     "output_type": "stream",
     "text": [
      "Grid Search Progress:  49%|████▉     | 39/80 [02:03<04:11,  6.13s/it, Model=LSTM, L=12, T=0.04]"
     ]
    },
    {
     "name": "stdout",
     "output_type": "stream",
     "text": [
      "Signal distribution - Decline(0): 524, Sideways(1): 612, Rise(2): 691\n",
      "PyTorch data prepared - Train: torch.Size([1363, 10, 12]), Test: torch.Size([455, 10, 12])\n"
     ]
    },
    {
     "name": "stderr",
     "output_type": "stream",
     "text": [
      "Grid Search Progress:  50%|█████     | 40/80 [02:09<04:05,  6.14s/it, Model=LSTM, L=12, T=0.05]"
     ]
    },
    {
     "name": "stdout",
     "output_type": "stream",
     "text": [
      "Signal distribution - Decline(0): 566, Sideways(1): 584, Rise(2): 686\n",
      "PyTorch data prepared - Train: torch.Size([1370, 10, 12]), Test: torch.Size([457, 10, 12])\n"
     ]
    },
    {
     "name": "stderr",
     "output_type": "stream",
     "text": [
      "Grid Search Progress:  51%|█████▏    | 41/80 [02:15<03:53,  5.98s/it, Model=GRU, L=3, T=0.02]  "
     ]
    },
    {
     "name": "stdout",
     "output_type": "stream",
     "text": [
      "Signal distribution - Decline(0): 469, Sideways(1): 793, Rise(2): 574\n",
      "PyTorch data prepared - Train: torch.Size([1370, 10, 12]), Test: torch.Size([457, 10, 12])\n"
     ]
    },
    {
     "name": "stderr",
     "output_type": "stream",
     "text": [
      "Grid Search Progress:  52%|█████▎    | 42/80 [02:21<03:45,  5.93s/it, Model=GRU, L=3, T=0.03]"
     ]
    },
    {
     "name": "stdout",
     "output_type": "stream",
     "text": [
      "Signal distribution - Decline(0): 372, Sideways(1): 976, Rise(2): 488\n",
      "PyTorch data prepared - Train: torch.Size([1370, 10, 12]), Test: torch.Size([457, 10, 12])\n"
     ]
    },
    {
     "name": "stderr",
     "output_type": "stream",
     "text": [
      "Grid Search Progress:  54%|█████▍    | 43/80 [02:27<03:37,  5.87s/it, Model=GRU, L=3, T=0.04]"
     ]
    },
    {
     "name": "stdout",
     "output_type": "stream",
     "text": [
      "Signal distribution - Decline(0): 311, Sideways(1): 1118, Rise(2): 407\n",
      "PyTorch data prepared - Train: torch.Size([1370, 10, 12]), Test: torch.Size([457, 10, 12])\n"
     ]
    },
    {
     "name": "stderr",
     "output_type": "stream",
     "text": [
      "Grid Search Progress:  55%|█████▌    | 44/80 [02:32<03:28,  5.80s/it, Model=GRU, L=3, T=0.05]"
     ]
    },
    {
     "name": "stdout",
     "output_type": "stream",
     "text": [
      "Signal distribution - Decline(0): 617, Sideways(1): 457, Rise(2): 760\n",
      "PyTorch data prepared - Train: torch.Size([1368, 10, 12]), Test: torch.Size([457, 10, 12])\n"
     ]
    },
    {
     "name": "stderr",
     "output_type": "stream",
     "text": [
      "Grid Search Progress:  56%|█████▋    | 45/80 [02:38<03:21,  5.75s/it, Model=GRU, L=5, T=0.02]"
     ]
    },
    {
     "name": "stdout",
     "output_type": "stream",
     "text": [
      "Signal distribution - Decline(0): 516, Sideways(1): 649, Rise(2): 669\n",
      "PyTorch data prepared - Train: torch.Size([1368, 10, 12]), Test: torch.Size([457, 10, 12])\n"
     ]
    },
    {
     "name": "stderr",
     "output_type": "stream",
     "text": [
      "Grid Search Progress:  57%|█████▊    | 46/80 [02:44<03:14,  5.72s/it, Model=GRU, L=5, T=0.03]"
     ]
    },
    {
     "name": "stdout",
     "output_type": "stream",
     "text": [
      "Signal distribution - Decline(0): 454, Sideways(1): 797, Rise(2): 583\n",
      "PyTorch data prepared - Train: torch.Size([1368, 10, 12]), Test: torch.Size([457, 10, 12])\n"
     ]
    },
    {
     "name": "stderr",
     "output_type": "stream",
     "text": [
      "Grid Search Progress:  59%|█████▉    | 47/80 [02:49<03:08,  5.70s/it, Model=GRU, L=5, T=0.04]"
     ]
    },
    {
     "name": "stdout",
     "output_type": "stream",
     "text": [
      "Signal distribution - Decline(0): 385, Sideways(1): 934, Rise(2): 515\n",
      "PyTorch data prepared - Train: torch.Size([1368, 10, 12]), Test: torch.Size([457, 10, 12])\n"
     ]
    },
    {
     "name": "stderr",
     "output_type": "stream",
     "text": [
      "Grid Search Progress:  60%|██████    | 48/80 [02:55<03:02,  5.71s/it, Model=GRU, L=5, T=0.05]"
     ]
    },
    {
     "name": "stdout",
     "output_type": "stream",
     "text": [
      "Signal distribution - Decline(0): 665, Sideways(1): 361, Rise(2): 805\n",
      "PyTorch data prepared - Train: torch.Size([1366, 10, 12]), Test: torch.Size([456, 10, 12])\n"
     ]
    },
    {
     "name": "stderr",
     "output_type": "stream",
     "text": [
      "Grid Search Progress:  61%|██████▏   | 49/80 [03:01<02:56,  5.70s/it, Model=GRU, L=8, T=0.02]"
     ]
    },
    {
     "name": "stdout",
     "output_type": "stream",
     "text": [
      "Signal distribution - Decline(0): 594, Sideways(1): 511, Rise(2): 726\n",
      "PyTorch data prepared - Train: torch.Size([1366, 10, 12]), Test: torch.Size([456, 10, 12])\n"
     ]
    },
    {
     "name": "stderr",
     "output_type": "stream",
     "text": [
      "Grid Search Progress:  62%|██████▎   | 50/80 [03:06<02:50,  5.68s/it, Model=GRU, L=8, T=0.03]"
     ]
    },
    {
     "name": "stdout",
     "output_type": "stream",
     "text": [
      "Signal distribution - Decline(0): 531, Sideways(1): 638, Rise(2): 662\n",
      "PyTorch data prepared - Train: torch.Size([1366, 10, 12]), Test: torch.Size([456, 10, 12])\n"
     ]
    },
    {
     "name": "stderr",
     "output_type": "stream",
     "text": [
      "Grid Search Progress:  64%|██████▍   | 51/80 [03:12<02:44,  5.66s/it, Model=GRU, L=8, T=0.04]"
     ]
    },
    {
     "name": "stdout",
     "output_type": "stream",
     "text": [
      "Signal distribution - Decline(0): 469, Sideways(1): 762, Rise(2): 600\n",
      "PyTorch data prepared - Train: torch.Size([1366, 10, 12]), Test: torch.Size([456, 10, 12])\n"
     ]
    },
    {
     "name": "stderr",
     "output_type": "stream",
     "text": [
      "Grid Search Progress:  65%|██████▌   | 52/80 [03:18<02:38,  5.67s/it, Model=GRU, L=8, T=0.05]"
     ]
    },
    {
     "name": "stdout",
     "output_type": "stream",
     "text": [
      "Signal distribution - Decline(0): 698, Sideways(1): 291, Rise(2): 840\n",
      "PyTorch data prepared - Train: torch.Size([1365, 10, 12]), Test: torch.Size([455, 10, 12])\n"
     ]
    },
    {
     "name": "stderr",
     "output_type": "stream",
     "text": [
      "Grid Search Progress:  66%|██████▋   | 53/80 [03:23<02:33,  5.67s/it, Model=GRU, L=10, T=0.02]"
     ]
    },
    {
     "name": "stdout",
     "output_type": "stream",
     "text": [
      "Signal distribution - Decline(0): 632, Sideways(1): 418, Rise(2): 779\n",
      "PyTorch data prepared - Train: torch.Size([1365, 10, 12]), Test: torch.Size([455, 10, 12])\n"
     ]
    },
    {
     "name": "stderr",
     "output_type": "stream",
     "text": [
      "Grid Search Progress:  68%|██████▊   | 54/80 [03:29<02:27,  5.69s/it, Model=GRU, L=10, T=0.03]"
     ]
    },
    {
     "name": "stdout",
     "output_type": "stream",
     "text": [
      "Signal distribution - Decline(0): 557, Sideways(1): 558, Rise(2): 714\n",
      "PyTorch data prepared - Train: torch.Size([1365, 10, 12]), Test: torch.Size([455, 10, 12])\n"
     ]
    },
    {
     "name": "stderr",
     "output_type": "stream",
     "text": [
      "Grid Search Progress:  69%|██████▉   | 55/80 [03:35<02:25,  5.80s/it, Model=GRU, L=10, T=0.04]"
     ]
    },
    {
     "name": "stdout",
     "output_type": "stream",
     "text": [
      "Signal distribution - Decline(0): 498, Sideways(1): 666, Rise(2): 665\n",
      "PyTorch data prepared - Train: torch.Size([1365, 10, 12]), Test: torch.Size([455, 10, 12])\n"
     ]
    },
    {
     "name": "stderr",
     "output_type": "stream",
     "text": [
      "Grid Search Progress:  70%|███████   | 56/80 [03:41<02:19,  5.79s/it, Model=GRU, L=10, T=0.05]"
     ]
    },
    {
     "name": "stdout",
     "output_type": "stream",
     "text": [
      "Signal distribution - Decline(0): 715, Sideways(1): 257, Rise(2): 855\n",
      "PyTorch data prepared - Train: torch.Size([1363, 10, 12]), Test: torch.Size([455, 10, 12])\n"
     ]
    },
    {
     "name": "stderr",
     "output_type": "stream",
     "text": [
      "Grid Search Progress:  71%|███████▏  | 57/80 [03:47<02:13,  5.78s/it, Model=GRU, L=12, T=0.02]"
     ]
    },
    {
     "name": "stdout",
     "output_type": "stream",
     "text": [
      "Signal distribution - Decline(0): 659, Sideways(1): 367, Rise(2): 801\n",
      "PyTorch data prepared - Train: torch.Size([1363, 10, 12]), Test: torch.Size([455, 10, 12])\n"
     ]
    },
    {
     "name": "stderr",
     "output_type": "stream",
     "text": [
      "Grid Search Progress:  72%|███████▎  | 58/80 [03:52<02:07,  5.80s/it, Model=GRU, L=12, T=0.03]"
     ]
    },
    {
     "name": "stdout",
     "output_type": "stream",
     "text": [
      "Signal distribution - Decline(0): 588, Sideways(1): 496, Rise(2): 743\n",
      "PyTorch data prepared - Train: torch.Size([1363, 10, 12]), Test: torch.Size([455, 10, 12])\n"
     ]
    },
    {
     "name": "stderr",
     "output_type": "stream",
     "text": [
      "Grid Search Progress:  74%|███████▍  | 59/80 [03:58<02:01,  5.79s/it, Model=GRU, L=12, T=0.04]"
     ]
    },
    {
     "name": "stdout",
     "output_type": "stream",
     "text": [
      "Signal distribution - Decline(0): 524, Sideways(1): 612, Rise(2): 691\n",
      "PyTorch data prepared - Train: torch.Size([1363, 10, 12]), Test: torch.Size([455, 10, 12])\n"
     ]
    },
    {
     "name": "stderr",
     "output_type": "stream",
     "text": [
      "Grid Search Progress:  75%|███████▌  | 60/80 [04:04<01:55,  5.78s/it, Model=GRU, L=12, T=0.05]"
     ]
    },
    {
     "name": "stdout",
     "output_type": "stream",
     "text": [
      "Signal distribution - Decline(0): 566, Sideways(1): 584, Rise(2): 686\n",
      "PyTorch data prepared - Train: torch.Size([1370, 10, 12]), Test: torch.Size([457, 10, 12])\n"
     ]
    },
    {
     "name": "stderr",
     "output_type": "stream",
     "text": [
      "Grid Search Progress:  76%|███████▋  | 61/80 [04:08<01:42,  5.39s/it, Model=CNN, L=3, T=0.02] "
     ]
    },
    {
     "name": "stdout",
     "output_type": "stream",
     "text": [
      "Signal distribution - Decline(0): 469, Sideways(1): 793, Rise(2): 574\n",
      "PyTorch data prepared - Train: torch.Size([1370, 10, 12]), Test: torch.Size([457, 10, 12])\n"
     ]
    },
    {
     "name": "stderr",
     "output_type": "stream",
     "text": [
      "Grid Search Progress:  78%|███████▊  | 62/80 [04:13<01:30,  5.04s/it, Model=CNN, L=3, T=0.03]"
     ]
    },
    {
     "name": "stdout",
     "output_type": "stream",
     "text": [
      "Signal distribution - Decline(0): 372, Sideways(1): 976, Rise(2): 488\n",
      "PyTorch data prepared - Train: torch.Size([1370, 10, 12]), Test: torch.Size([457, 10, 12])\n"
     ]
    },
    {
     "name": "stderr",
     "output_type": "stream",
     "text": [
      "Grid Search Progress:  79%|███████▉  | 63/80 [04:17<01:21,  4.80s/it, Model=CNN, L=3, T=0.04]"
     ]
    },
    {
     "name": "stdout",
     "output_type": "stream",
     "text": [
      "Signal distribution - Decline(0): 311, Sideways(1): 1118, Rise(2): 407\n",
      "PyTorch data prepared - Train: torch.Size([1370, 10, 12]), Test: torch.Size([457, 10, 12])\n"
     ]
    },
    {
     "name": "stderr",
     "output_type": "stream",
     "text": [
      "Grid Search Progress:  80%|████████  | 64/80 [04:22<01:16,  4.78s/it, Model=CNN, L=3, T=0.05]"
     ]
    },
    {
     "name": "stdout",
     "output_type": "stream",
     "text": [
      "Signal distribution - Decline(0): 617, Sideways(1): 457, Rise(2): 760\n",
      "PyTorch data prepared - Train: torch.Size([1368, 10, 12]), Test: torch.Size([457, 10, 12])\n"
     ]
    },
    {
     "name": "stderr",
     "output_type": "stream",
     "text": [
      "Grid Search Progress:  81%|████████▏ | 65/80 [04:26<01:12,  4.81s/it, Model=CNN, L=5, T=0.02]"
     ]
    },
    {
     "name": "stdout",
     "output_type": "stream",
     "text": [
      "Signal distribution - Decline(0): 516, Sideways(1): 649, Rise(2): 669\n",
      "PyTorch data prepared - Train: torch.Size([1368, 10, 12]), Test: torch.Size([457, 10, 12])\n"
     ]
    },
    {
     "name": "stderr",
     "output_type": "stream",
     "text": [
      "Grid Search Progress:  82%|████████▎ | 66/80 [04:31<01:07,  4.85s/it, Model=CNN, L=5, T=0.03]"
     ]
    },
    {
     "name": "stdout",
     "output_type": "stream",
     "text": [
      "Signal distribution - Decline(0): 454, Sideways(1): 797, Rise(2): 583\n",
      "PyTorch data prepared - Train: torch.Size([1368, 10, 12]), Test: torch.Size([457, 10, 12])\n"
     ]
    },
    {
     "name": "stderr",
     "output_type": "stream",
     "text": [
      "Grid Search Progress:  84%|████████▍ | 67/80 [04:36<01:01,  4.70s/it, Model=CNN, L=5, T=0.04]"
     ]
    },
    {
     "name": "stdout",
     "output_type": "stream",
     "text": [
      "Signal distribution - Decline(0): 385, Sideways(1): 934, Rise(2): 515\n",
      "PyTorch data prepared - Train: torch.Size([1368, 10, 12]), Test: torch.Size([457, 10, 12])\n"
     ]
    },
    {
     "name": "stderr",
     "output_type": "stream",
     "text": [
      "Grid Search Progress:  85%|████████▌ | 68/80 [04:40<00:54,  4.58s/it, Model=CNN, L=5, T=0.05]"
     ]
    },
    {
     "name": "stdout",
     "output_type": "stream",
     "text": [
      "Signal distribution - Decline(0): 665, Sideways(1): 361, Rise(2): 805\n",
      "PyTorch data prepared - Train: torch.Size([1366, 10, 12]), Test: torch.Size([456, 10, 12])\n"
     ]
    },
    {
     "name": "stderr",
     "output_type": "stream",
     "text": [
      "Grid Search Progress:  86%|████████▋ | 69/80 [04:44<00:49,  4.51s/it, Model=CNN, L=8, T=0.02]"
     ]
    },
    {
     "name": "stdout",
     "output_type": "stream",
     "text": [
      "Signal distribution - Decline(0): 594, Sideways(1): 511, Rise(2): 726\n",
      "PyTorch data prepared - Train: torch.Size([1366, 10, 12]), Test: torch.Size([456, 10, 12])\n"
     ]
    },
    {
     "name": "stderr",
     "output_type": "stream",
     "text": [
      "Grid Search Progress:  88%|████████▊ | 70/80 [04:49<00:44,  4.47s/it, Model=CNN, L=8, T=0.03]"
     ]
    },
    {
     "name": "stdout",
     "output_type": "stream",
     "text": [
      "Signal distribution - Decline(0): 531, Sideways(1): 638, Rise(2): 662\n",
      "PyTorch data prepared - Train: torch.Size([1366, 10, 12]), Test: torch.Size([456, 10, 12])\n"
     ]
    },
    {
     "name": "stderr",
     "output_type": "stream",
     "text": [
      "Grid Search Progress:  89%|████████▉ | 71/80 [04:53<00:40,  4.47s/it, Model=CNN, L=8, T=0.04]"
     ]
    },
    {
     "name": "stdout",
     "output_type": "stream",
     "text": [
      "Signal distribution - Decline(0): 469, Sideways(1): 762, Rise(2): 600\n",
      "PyTorch data prepared - Train: torch.Size([1366, 10, 12]), Test: torch.Size([456, 10, 12])\n"
     ]
    },
    {
     "name": "stderr",
     "output_type": "stream",
     "text": [
      "Grid Search Progress:  90%|█████████ | 72/80 [04:58<00:35,  4.44s/it, Model=CNN, L=8, T=0.05]"
     ]
    },
    {
     "name": "stdout",
     "output_type": "stream",
     "text": [
      "Signal distribution - Decline(0): 698, Sideways(1): 291, Rise(2): 840\n",
      "PyTorch data prepared - Train: torch.Size([1365, 10, 12]), Test: torch.Size([455, 10, 12])\n"
     ]
    },
    {
     "name": "stderr",
     "output_type": "stream",
     "text": [
      "Grid Search Progress:  91%|█████████▏| 73/80 [05:02<00:31,  4.44s/it, Model=CNN, L=10, T=0.02]"
     ]
    },
    {
     "name": "stdout",
     "output_type": "stream",
     "text": [
      "Signal distribution - Decline(0): 632, Sideways(1): 418, Rise(2): 779\n",
      "PyTorch data prepared - Train: torch.Size([1365, 10, 12]), Test: torch.Size([455, 10, 12])\n"
     ]
    },
    {
     "name": "stderr",
     "output_type": "stream",
     "text": [
      "Grid Search Progress:  92%|█████████▎| 74/80 [05:06<00:26,  4.41s/it, Model=CNN, L=10, T=0.03]"
     ]
    },
    {
     "name": "stdout",
     "output_type": "stream",
     "text": [
      "Signal distribution - Decline(0): 557, Sideways(1): 558, Rise(2): 714\n",
      "PyTorch data prepared - Train: torch.Size([1365, 10, 12]), Test: torch.Size([455, 10, 12])\n"
     ]
    },
    {
     "name": "stderr",
     "output_type": "stream",
     "text": [
      "Grid Search Progress:  94%|█████████▍| 75/80 [05:11<00:21,  4.40s/it, Model=CNN, L=10, T=0.04]"
     ]
    },
    {
     "name": "stdout",
     "output_type": "stream",
     "text": [
      "Signal distribution - Decline(0): 498, Sideways(1): 666, Rise(2): 665\n",
      "PyTorch data prepared - Train: torch.Size([1365, 10, 12]), Test: torch.Size([455, 10, 12])\n"
     ]
    },
    {
     "name": "stderr",
     "output_type": "stream",
     "text": [
      "Grid Search Progress:  95%|█████████▌| 76/80 [05:15<00:17,  4.49s/it, Model=CNN, L=10, T=0.05]"
     ]
    },
    {
     "name": "stdout",
     "output_type": "stream",
     "text": [
      "Signal distribution - Decline(0): 715, Sideways(1): 257, Rise(2): 855\n",
      "PyTorch data prepared - Train: torch.Size([1363, 10, 12]), Test: torch.Size([455, 10, 12])\n"
     ]
    },
    {
     "name": "stderr",
     "output_type": "stream",
     "text": [
      "Grid Search Progress:  96%|█████████▋| 77/80 [05:20<00:13,  4.52s/it, Model=CNN, L=12, T=0.02]"
     ]
    },
    {
     "name": "stdout",
     "output_type": "stream",
     "text": [
      "Signal distribution - Decline(0): 659, Sideways(1): 367, Rise(2): 801\n",
      "PyTorch data prepared - Train: torch.Size([1363, 10, 12]), Test: torch.Size([455, 10, 12])\n"
     ]
    },
    {
     "name": "stderr",
     "output_type": "stream",
     "text": [
      "Grid Search Progress:  98%|█████████▊| 78/80 [05:25<00:09,  4.50s/it, Model=CNN, L=12, T=0.03]"
     ]
    },
    {
     "name": "stdout",
     "output_type": "stream",
     "text": [
      "Signal distribution - Decline(0): 588, Sideways(1): 496, Rise(2): 743\n",
      "PyTorch data prepared - Train: torch.Size([1363, 10, 12]), Test: torch.Size([455, 10, 12])\n"
     ]
    },
    {
     "name": "stderr",
     "output_type": "stream",
     "text": [
      "Grid Search Progress:  99%|█████████▉| 79/80 [05:29<00:04,  4.47s/it, Model=CNN, L=12, T=0.04]"
     ]
    },
    {
     "name": "stdout",
     "output_type": "stream",
     "text": [
      "Signal distribution - Decline(0): 524, Sideways(1): 612, Rise(2): 691\n",
      "PyTorch data prepared - Train: torch.Size([1363, 10, 12]), Test: torch.Size([455, 10, 12])\n"
     ]
    },
    {
     "name": "stderr",
     "output_type": "stream",
     "text": [
      "Grid Search Progress: 100%|██████████| 80/80 [05:33<00:00,  4.17s/it, Model=CNN, L=12, T=0.05]"
     ]
    },
    {
     "name": "stdout",
     "output_type": "stream",
     "text": [
      "\n",
      "Results saved to: ../../results/eth_results_1d_3class.csv\n",
      "\n",
      "======================================================================\n",
      "COMPLETE EXPERIMENTAL RESULTS\n",
      "======================================================================\n",
      "      model  lookahead  threshold  accuracy  loss_count  loss_mean  \\\n",
      "0   XGBoost          3       0.02    0.5076         110     0.0427   \n",
      "1   XGBoost          3       0.03    0.5142          72     0.0419   \n",
      "2   XGBoost          3       0.04    0.5839          34     0.0581   \n",
      "3   XGBoost          3       0.05    0.6536          28     0.0675   \n",
      "4   XGBoost          5       0.02    0.5969         100     0.0433   \n",
      "..      ...        ...        ...       ...         ...        ...   \n",
      "75      CNN         10       0.05    0.3495         175     0.0900   \n",
      "76      CNN         12       0.02    0.4418         215     0.1004   \n",
      "77      CNN         12       0.03    0.4066         230     0.1027   \n",
      "78      CNN         12       0.04    0.4220         199     0.0911   \n",
      "79      CNN         12       0.05    0.3319         192     0.0956   \n",
      "\n",
      "    transaction  \n",
      "0           330  \n",
      "1           227  \n",
      "2           153  \n",
      "3           105  \n",
      "4           371  \n",
      "..          ...  \n",
      "75          335  \n",
      "76          444  \n",
      "77          449  \n",
      "78          435  \n",
      "79          368  \n",
      "\n",
      "[80 rows x 7 columns]\n",
      "\n",
      "======================================================================\n",
      "BEST PERFORMANCE BY MODEL TYPE\n",
      "======================================================================\n",
      "      model  lookahead  threshold  accuracy  loss_count  loss_mean\n",
      "63      CNN          3       0.05    0.6368           4     0.0999\n",
      "43      GRU          3       0.05    0.6411           1     0.0994\n",
      "23     LSTM          3       0.05    0.6433           2     0.1240\n",
      "16  XGBoost         12       0.02    0.7856          48     0.0403\n",
      "\n",
      "======================================================================\n",
      "OVERALL CHAMPION CONFIGURATION\n",
      "======================================================================\n",
      "Best Model: XGBoost\n",
      "Optimal Lookahead: 12 days\n",
      "Optimal Threshold: 0.020\n",
      "Peak Accuracy: 0.7856 (78.56%)\n",
      "Loss Events: 48\n",
      "Average Loss: 0.040317\n",
      "\n",
      "==================================================\n",
      "SUMMARY\n",
      "==================================================\n",
      "Total experiments: 80\n",
      "Best accuracy: 0.7856\n",
      "Average accuracy: 0.4752\n",
      "\n",
      "Best configuration:\n",
      "Model: XGBoost, Lookahead: 12, Threshold: 0.02\n"
     ]
    },
    {
     "name": "stderr",
     "output_type": "stream",
     "text": [
      "\n"
     ]
    }
   ],
   "source": [
    "\"\"\"\n",
    "Price Movement Prediction - Main Execution Script\n",
    "\"\"\"\n",
    "\n",
    "import pandas as pd\n",
    "import torch\n",
    "import warnings\n",
    "warnings.filterwarnings('ignore')\n",
    "\n",
    "from experiment_runner import ExperimentRunner\n",
    "\n",
    "def eth_1d():\n",
    "    \"\"\"Main execution function\"\"\"\n",
    "    \n",
    "    # ============= CONFIGURATION =============\n",
    "    # Tùy chỉnh các tham số tại đây\n",
    "    \n",
    "    DATA_PATH = r'F:\\up_git\\official_predict\\data\\eth_1d.csv'  # Đường dẫn file data\n",
    "    \n",
    "    # Tạo thư mục results ở cấp trên 2 cấp nếu chưa có\n",
    "    import os\n",
    "    results_dir = os.path.join('..', '..', 'results')\n",
    "    os.makedirs(results_dir, exist_ok=True)\n",
    "    \n",
    "    OUTPUT_FILENAME = '../../results/eth_results_1d_3class.csv'  # Lưu vào thư mục results cấp trên 2\n",
    "    \n",
    "    # Parameters\n",
    "    LOOKAHEAD_VALUES = [3, 5, 8, 10,12]  # Số ngày dự đoán\n",
    "    THRESHOLD_VALUES = [0.02, 0.03, 0.04, 0.05]  # Ngưỡng phân loại\n",
    "    \n",
    "    MODEL_TYPES = ['XGBoost', 'LSTM', 'GRU', 'CNN']  # Các model cần test\n",
    "    SEQUENCE_LENGTH = 10  # Độ dài chuỗi cho deep learning\n",
    "    \n",
    "    # ============= CHẠY THÍ NGHIỆM =============\n",
    "    \n",
    "    print(f\"Using device: {torch.device('cuda' if torch.cuda.is_available() else 'cpu')}\")\n",
    "    \n",
    "    runner = ExperimentRunner(\n",
    "        data_path=DATA_PATH,\n",
    "        output_filename=OUTPUT_FILENAME,\n",
    "        sequence_length=SEQUENCE_LENGTH,\n",
    "        verbose=False\n",
    "    )\n",
    "    \n",
    "    results = runner.run_grid_search(\n",
    "        lookahead_values=LOOKAHEAD_VALUES,\n",
    "        threshold_values=THRESHOLD_VALUES,\n",
    "        model_types=MODEL_TYPES\n",
    "    )\n",
    "    \n",
    "    # ============= HIỂN THỊ KẾT QUẢ =============\n",
    "    \n",
    "    if results is not None and not results.empty:\n",
    "        runner.display_results(results)\n",
    "        \n",
    "        # Thống kê tóm tắt\n",
    "        print(f\"\\n{'='*50}\")\n",
    "        print(\"SUMMARY\")\n",
    "        print(f\"{'='*50}\")\n",
    "        print(f\"Total experiments: {len(results)}\")\n",
    "        print(f\"Best accuracy: {results['accuracy'].max():.4f}\")\n",
    "        print(f\"Average accuracy: {results['accuracy'].mean():.4f}\")\n",
    "        \n",
    "        # Kết quả tốt nhất\n",
    "        best = results.loc[results['accuracy'].idxmax()]\n",
    "        print(f\"\\nBest configuration:\")\n",
    "        print(f\"Model: {best['model']}, Lookahead: {best['lookahead']}, Threshold: {best['threshold']}\")\n",
    "        \n",
    "    else:\n",
    "        print(\"No results generated.\")\n",
    "\n",
    "eth_1d()"
   ]
  },
  {
   "cell_type": "code",
   "execution_count": 2,
   "id": "2e408b0b",
   "metadata": {},
   "outputs": [],
   "source": [
    "# chưa chạy. tối về nhớ chạy\n"
   ]
  },
  {
   "cell_type": "code",
   "execution_count": 3,
   "id": "7f975f5f",
   "metadata": {},
   "outputs": [
    {
     "name": "stdout",
     "output_type": "stream",
     "text": [
      "Using device: cuda\n",
      "Using device: cuda\n",
      "Loading and preparing Bitcoin data...\n",
      "Successfully loaded data from: F:\\up_git\\official_predict\\data\\eth_4h.csv\n",
      "Data shape: (11201, 6)\n",
      "Technical indicators added successfully\n",
      "Features normalized successfully\n",
      "Final dataset shape: (11173, 18)\n",
      "Starting grid search with 80 experiments...\n",
      "Lookahead values: [3, 5, 8, 10, 12]\n",
      "Threshold values: [0.02, 0.03, 0.04, 0.05]\n",
      "Model types: ['XGBoost', 'LSTM', 'GRU', 'CNN']\n"
     ]
    },
    {
     "name": "stderr",
     "output_type": "stream",
     "text": [
      "Grid Search Progress:   0%|          | 0/80 [00:00<?, ?it/s]"
     ]
    },
    {
     "name": "stdout",
     "output_type": "stream",
     "text": [
      "Signal distribution - Decline(0): 1788, Sideways(1): 7289, Rise(2): 2093\n"
     ]
    },
    {
     "name": "stderr",
     "output_type": "stream",
     "text": [
      "Grid Search Progress:   1%|▏         | 1/80 [00:00<00:40,  1.94it/s, Model=XGBoost, L=3, T=0.02]"
     ]
    },
    {
     "name": "stdout",
     "output_type": "stream",
     "text": [
      "Signal distribution - Decline(0): 1078, Sideways(1): 8819, Rise(2): 1273\n"
     ]
    },
    {
     "name": "stderr",
     "output_type": "stream",
     "text": [
      "Grid Search Progress:   2%|▎         | 2/80 [00:01<00:44,  1.74it/s, Model=XGBoost, L=3, T=0.03]"
     ]
    },
    {
     "name": "stdout",
     "output_type": "stream",
     "text": [
      "Signal distribution - Decline(0): 667, Sideways(1): 9724, Rise(2): 779\n"
     ]
    },
    {
     "name": "stderr",
     "output_type": "stream",
     "text": [
      "Grid Search Progress:   4%|▍         | 3/80 [00:01<00:42,  1.80it/s, Model=XGBoost, L=3, T=0.04]"
     ]
    },
    {
     "name": "stdout",
     "output_type": "stream",
     "text": [
      "Signal distribution - Decline(0): 433, Sideways(1): 10257, Rise(2): 480\n"
     ]
    },
    {
     "name": "stderr",
     "output_type": "stream",
     "text": [
      "Grid Search Progress:   5%|▌         | 4/80 [00:02<00:42,  1.80it/s, Model=XGBoost, L=3, T=0.05]"
     ]
    },
    {
     "name": "stdout",
     "output_type": "stream",
     "text": [
      "Signal distribution - Decline(0): 2356, Sideways(1): 6055, Rise(2): 2757\n"
     ]
    },
    {
     "name": "stderr",
     "output_type": "stream",
     "text": [
      "Grid Search Progress:   6%|▋         | 5/80 [00:02<00:41,  1.80it/s, Model=XGBoost, L=5, T=0.02]"
     ]
    },
    {
     "name": "stdout",
     "output_type": "stream",
     "text": [
      "Signal distribution - Decline(0): 1598, Sideways(1): 7651, Rise(2): 1919\n"
     ]
    },
    {
     "name": "stderr",
     "output_type": "stream",
     "text": [
      "Grid Search Progress:   8%|▊         | 6/80 [00:03<00:40,  1.85it/s, Model=XGBoost, L=5, T=0.03]"
     ]
    },
    {
     "name": "stdout",
     "output_type": "stream",
     "text": [
      "Signal distribution - Decline(0): 1052, Sideways(1): 8812, Rise(2): 1304\n"
     ]
    },
    {
     "name": "stderr",
     "output_type": "stream",
     "text": [
      "Grid Search Progress:   9%|▉         | 7/80 [00:03<00:39,  1.84it/s, Model=XGBoost, L=5, T=0.04]"
     ]
    },
    {
     "name": "stdout",
     "output_type": "stream",
     "text": [
      "Signal distribution - Decline(0): 717, Sideways(1): 9552, Rise(2): 899\n"
     ]
    },
    {
     "name": "stderr",
     "output_type": "stream",
     "text": [
      "Grid Search Progress:  10%|█         | 8/80 [00:04<00:39,  1.85it/s, Model=XGBoost, L=5, T=0.05]"
     ]
    },
    {
     "name": "stdout",
     "output_type": "stream",
     "text": [
      "Signal distribution - Decline(0): 2748, Sideways(1): 5202, Rise(2): 3215\n"
     ]
    },
    {
     "name": "stderr",
     "output_type": "stream",
     "text": [
      "Grid Search Progress:  11%|█▏        | 9/80 [00:04<00:37,  1.90it/s, Model=XGBoost, L=8, T=0.02]"
     ]
    },
    {
     "name": "stdout",
     "output_type": "stream",
     "text": [
      "Signal distribution - Decline(0): 1999, Sideways(1): 6717, Rise(2): 2449\n"
     ]
    },
    {
     "name": "stderr",
     "output_type": "stream",
     "text": [
      "Grid Search Progress:  12%|█▎        | 10/80 [00:05<00:37,  1.86it/s, Model=XGBoost, L=8, T=0.03]"
     ]
    },
    {
     "name": "stdout",
     "output_type": "stream",
     "text": [
      "Signal distribution - Decline(0): 1464, Sideways(1): 7869, Rise(2): 1832\n"
     ]
    },
    {
     "name": "stderr",
     "output_type": "stream",
     "text": [
      "Grid Search Progress:  14%|█▍        | 11/80 [00:06<00:38,  1.80it/s, Model=XGBoost, L=8, T=0.04]"
     ]
    },
    {
     "name": "stdout",
     "output_type": "stream",
     "text": [
      "Signal distribution - Decline(0): 1075, Sideways(1): 8714, Rise(2): 1376\n"
     ]
    },
    {
     "name": "stderr",
     "output_type": "stream",
     "text": [
      "Grid Search Progress:  15%|█▌        | 12/80 [00:06<00:37,  1.83it/s, Model=XGBoost, L=8, T=0.05]"
     ]
    },
    {
     "name": "stdout",
     "output_type": "stream",
     "text": [
      "Signal distribution - Decline(0): 2969, Sideways(1): 4679, Rise(2): 3515\n"
     ]
    },
    {
     "name": "stderr",
     "output_type": "stream",
     "text": [
      "Grid Search Progress:  16%|█▋        | 13/80 [00:07<00:36,  1.81it/s, Model=XGBoost, L=10, T=0.02]"
     ]
    },
    {
     "name": "stdout",
     "output_type": "stream",
     "text": [
      "Signal distribution - Decline(0): 2210, Sideways(1): 6258, Rise(2): 2695\n"
     ]
    },
    {
     "name": "stderr",
     "output_type": "stream",
     "text": [
      "Grid Search Progress:  18%|█▊        | 14/80 [00:07<00:36,  1.80it/s, Model=XGBoost, L=10, T=0.03]"
     ]
    },
    {
     "name": "stdout",
     "output_type": "stream",
     "text": [
      "Signal distribution - Decline(0): 1667, Sideways(1): 7403, Rise(2): 2093\n"
     ]
    },
    {
     "name": "stderr",
     "output_type": "stream",
     "text": [
      "Grid Search Progress:  19%|█▉        | 15/80 [00:08<00:34,  1.86it/s, Model=XGBoost, L=10, T=0.04]"
     ]
    },
    {
     "name": "stdout",
     "output_type": "stream",
     "text": [
      "Signal distribution - Decline(0): 1242, Sideways(1): 8313, Rise(2): 1608\n"
     ]
    },
    {
     "name": "stderr",
     "output_type": "stream",
     "text": [
      "Grid Search Progress:  20%|██        | 16/80 [00:08<00:34,  1.84it/s, Model=XGBoost, L=10, T=0.05]"
     ]
    },
    {
     "name": "stdout",
     "output_type": "stream",
     "text": [
      "Signal distribution - Decline(0): 3112, Sideways(1): 4354, Rise(2): 3695\n"
     ]
    },
    {
     "name": "stderr",
     "output_type": "stream",
     "text": [
      "Grid Search Progress:  21%|██▏       | 17/80 [00:09<00:34,  1.84it/s, Model=XGBoost, L=12, T=0.02]"
     ]
    },
    {
     "name": "stdout",
     "output_type": "stream",
     "text": [
      "Signal distribution - Decline(0): 2388, Sideways(1): 5866, Rise(2): 2907\n"
     ]
    },
    {
     "name": "stderr",
     "output_type": "stream",
     "text": [
      "Grid Search Progress:  22%|██▎       | 18/80 [00:09<00:35,  1.77it/s, Model=XGBoost, L=12, T=0.03]"
     ]
    },
    {
     "name": "stdout",
     "output_type": "stream",
     "text": [
      "Signal distribution - Decline(0): 1861, Sideways(1): 6982, Rise(2): 2318\n"
     ]
    },
    {
     "name": "stderr",
     "output_type": "stream",
     "text": [
      "Grid Search Progress:  24%|██▍       | 19/80 [00:10<00:34,  1.75it/s, Model=XGBoost, L=12, T=0.04]"
     ]
    },
    {
     "name": "stdout",
     "output_type": "stream",
     "text": [
      "Signal distribution - Decline(0): 1410, Sideways(1): 7909, Rise(2): 1842\n"
     ]
    },
    {
     "name": "stderr",
     "output_type": "stream",
     "text": [
      "Grid Search Progress:  25%|██▌       | 20/80 [00:10<00:32,  1.84it/s, Model=XGBoost, L=12, T=0.05]"
     ]
    },
    {
     "name": "stdout",
     "output_type": "stream",
     "text": [
      "Signal distribution - Decline(0): 1788, Sideways(1): 7289, Rise(2): 2093\n",
      "PyTorch data prepared - Train: torch.Size([8370, 10, 12]), Test: torch.Size([2791, 10, 12])\n"
     ]
    },
    {
     "name": "stderr",
     "output_type": "stream",
     "text": [
      "Grid Search Progress:  26%|██▋       | 21/80 [00:51<12:17, 12.50s/it, Model=LSTM, L=3, T=0.02]    "
     ]
    },
    {
     "name": "stdout",
     "output_type": "stream",
     "text": [
      "Signal distribution - Decline(0): 1078, Sideways(1): 8819, Rise(2): 1273\n",
      "PyTorch data prepared - Train: torch.Size([8370, 10, 12]), Test: torch.Size([2791, 10, 12])\n"
     ]
    },
    {
     "name": "stderr",
     "output_type": "stream",
     "text": [
      "Grid Search Progress:  28%|██▊       | 22/80 [01:30<19:55, 20.61s/it, Model=LSTM, L=3, T=0.03]"
     ]
    },
    {
     "name": "stdout",
     "output_type": "stream",
     "text": [
      "Signal distribution - Decline(0): 667, Sideways(1): 9724, Rise(2): 779\n",
      "PyTorch data prepared - Train: torch.Size([8370, 10, 12]), Test: torch.Size([2791, 10, 12])\n"
     ]
    },
    {
     "name": "stderr",
     "output_type": "stream",
     "text": [
      "Grid Search Progress:  29%|██▉       | 23/80 [02:11<25:17, 26.62s/it, Model=LSTM, L=3, T=0.04]"
     ]
    },
    {
     "name": "stdout",
     "output_type": "stream",
     "text": [
      "Signal distribution - Decline(0): 433, Sideways(1): 10257, Rise(2): 480\n",
      "PyTorch data prepared - Train: torch.Size([8370, 10, 12]), Test: torch.Size([2791, 10, 12])\n"
     ]
    },
    {
     "name": "stderr",
     "output_type": "stream",
     "text": [
      "Grid Search Progress:  30%|███       | 24/80 [02:52<28:59, 31.07s/it, Model=LSTM, L=3, T=0.05]"
     ]
    },
    {
     "name": "stdout",
     "output_type": "stream",
     "text": [
      "Signal distribution - Decline(0): 2356, Sideways(1): 6055, Rise(2): 2757\n",
      "PyTorch data prepared - Train: torch.Size([8369, 10, 12]), Test: torch.Size([2790, 10, 12])\n"
     ]
    },
    {
     "name": "stderr",
     "output_type": "stream",
     "text": [
      "Grid Search Progress:  31%|███▏      | 25/80 [03:34<31:16, 34.11s/it, Model=LSTM, L=5, T=0.02]"
     ]
    },
    {
     "name": "stdout",
     "output_type": "stream",
     "text": [
      "Signal distribution - Decline(0): 1598, Sideways(1): 7651, Rise(2): 1919\n",
      "PyTorch data prepared - Train: torch.Size([8369, 10, 12]), Test: torch.Size([2790, 10, 12])\n"
     ]
    },
    {
     "name": "stderr",
     "output_type": "stream",
     "text": [
      "Grid Search Progress:  32%|███▎      | 26/80 [04:15<32:36, 36.24s/it, Model=LSTM, L=5, T=0.03]"
     ]
    },
    {
     "name": "stdout",
     "output_type": "stream",
     "text": [
      "Signal distribution - Decline(0): 1052, Sideways(1): 8812, Rise(2): 1304\n",
      "PyTorch data prepared - Train: torch.Size([8369, 10, 12]), Test: torch.Size([2790, 10, 12])\n"
     ]
    },
    {
     "name": "stderr",
     "output_type": "stream",
     "text": [
      "Grid Search Progress:  34%|███▍      | 27/80 [04:58<33:43, 38.17s/it, Model=LSTM, L=5, T=0.04]"
     ]
    },
    {
     "name": "stdout",
     "output_type": "stream",
     "text": [
      "Signal distribution - Decline(0): 717, Sideways(1): 9552, Rise(2): 899\n",
      "PyTorch data prepared - Train: torch.Size([8369, 10, 12]), Test: torch.Size([2790, 10, 12])\n"
     ]
    },
    {
     "name": "stderr",
     "output_type": "stream",
     "text": [
      "Grid Search Progress:  35%|███▌      | 28/80 [05:38<33:35, 38.77s/it, Model=LSTM, L=5, T=0.05]"
     ]
    },
    {
     "name": "stdout",
     "output_type": "stream",
     "text": [
      "Signal distribution - Decline(0): 2748, Sideways(1): 5202, Rise(2): 3215\n",
      "PyTorch data prepared - Train: torch.Size([8367, 10, 12]), Test: torch.Size([2789, 10, 12])\n"
     ]
    },
    {
     "name": "stderr",
     "output_type": "stream",
     "text": [
      "Grid Search Progress:  36%|███▋      | 29/80 [06:18<33:24, 39.31s/it, Model=LSTM, L=8, T=0.02]"
     ]
    },
    {
     "name": "stdout",
     "output_type": "stream",
     "text": [
      "Signal distribution - Decline(0): 1999, Sideways(1): 6717, Rise(2): 2449\n",
      "PyTorch data prepared - Train: torch.Size([8367, 10, 12]), Test: torch.Size([2789, 10, 12])\n"
     ]
    },
    {
     "name": "stderr",
     "output_type": "stream",
     "text": [
      "Grid Search Progress:  38%|███▊      | 30/80 [07:00<33:22, 40.05s/it, Model=LSTM, L=8, T=0.03]"
     ]
    },
    {
     "name": "stdout",
     "output_type": "stream",
     "text": [
      "Signal distribution - Decline(0): 1464, Sideways(1): 7869, Rise(2): 1832\n",
      "PyTorch data prepared - Train: torch.Size([8367, 10, 12]), Test: torch.Size([2789, 10, 12])\n"
     ]
    },
    {
     "name": "stderr",
     "output_type": "stream",
     "text": [
      "Grid Search Progress:  39%|███▉      | 31/80 [07:41<32:54, 40.30s/it, Model=LSTM, L=8, T=0.04]"
     ]
    },
    {
     "name": "stdout",
     "output_type": "stream",
     "text": [
      "Signal distribution - Decline(0): 1075, Sideways(1): 8714, Rise(2): 1376\n",
      "PyTorch data prepared - Train: torch.Size([8367, 10, 12]), Test: torch.Size([2789, 10, 12])\n"
     ]
    },
    {
     "name": "stderr",
     "output_type": "stream",
     "text": [
      "Grid Search Progress:  40%|████      | 32/80 [08:22<32:30, 40.64s/it, Model=LSTM, L=8, T=0.05]"
     ]
    },
    {
     "name": "stdout",
     "output_type": "stream",
     "text": [
      "Signal distribution - Decline(0): 2969, Sideways(1): 4679, Rise(2): 3515\n",
      "PyTorch data prepared - Train: torch.Size([8365, 10, 12]), Test: torch.Size([2789, 10, 12])\n"
     ]
    },
    {
     "name": "stderr",
     "output_type": "stream",
     "text": [
      "Grid Search Progress:  41%|████▏     | 33/80 [09:05<32:15, 41.19s/it, Model=LSTM, L=10, T=0.02]"
     ]
    },
    {
     "name": "stdout",
     "output_type": "stream",
     "text": [
      "Signal distribution - Decline(0): 2210, Sideways(1): 6258, Rise(2): 2695\n",
      "PyTorch data prepared - Train: torch.Size([8365, 10, 12]), Test: torch.Size([2789, 10, 12])\n"
     ]
    },
    {
     "name": "stderr",
     "output_type": "stream",
     "text": [
      "Grid Search Progress:  42%|████▎     | 34/80 [09:46<31:31, 41.11s/it, Model=LSTM, L=10, T=0.03]"
     ]
    },
    {
     "name": "stdout",
     "output_type": "stream",
     "text": [
      "Signal distribution - Decline(0): 1667, Sideways(1): 7403, Rise(2): 2093\n",
      "PyTorch data prepared - Train: torch.Size([8365, 10, 12]), Test: torch.Size([2789, 10, 12])\n"
     ]
    },
    {
     "name": "stderr",
     "output_type": "stream",
     "text": [
      "Grid Search Progress:  44%|████▍     | 35/80 [10:27<30:52, 41.16s/it, Model=LSTM, L=10, T=0.04]"
     ]
    },
    {
     "name": "stdout",
     "output_type": "stream",
     "text": [
      "Signal distribution - Decline(0): 1242, Sideways(1): 8313, Rise(2): 1608\n",
      "PyTorch data prepared - Train: torch.Size([8365, 10, 12]), Test: torch.Size([2789, 10, 12])\n"
     ]
    },
    {
     "name": "stderr",
     "output_type": "stream",
     "text": [
      "Grid Search Progress:  45%|████▌     | 36/80 [11:09<30:18, 41.32s/it, Model=LSTM, L=10, T=0.05]"
     ]
    },
    {
     "name": "stdout",
     "output_type": "stream",
     "text": [
      "Signal distribution - Decline(0): 3112, Sideways(1): 4354, Rise(2): 3695\n",
      "PyTorch data prepared - Train: torch.Size([8364, 10, 12]), Test: torch.Size([2788, 10, 12])\n"
     ]
    },
    {
     "name": "stderr",
     "output_type": "stream",
     "text": [
      "Grid Search Progress:  46%|████▋     | 37/80 [11:49<29:28, 41.13s/it, Model=LSTM, L=12, T=0.02]"
     ]
    },
    {
     "name": "stdout",
     "output_type": "stream",
     "text": [
      "Signal distribution - Decline(0): 2388, Sideways(1): 5866, Rise(2): 2907\n",
      "PyTorch data prepared - Train: torch.Size([8364, 10, 12]), Test: torch.Size([2788, 10, 12])\n"
     ]
    },
    {
     "name": "stderr",
     "output_type": "stream",
     "text": [
      "Grid Search Progress:  48%|████▊     | 38/80 [12:30<28:46, 41.11s/it, Model=LSTM, L=12, T=0.03]"
     ]
    },
    {
     "name": "stdout",
     "output_type": "stream",
     "text": [
      "Signal distribution - Decline(0): 1861, Sideways(1): 6982, Rise(2): 2318\n",
      "PyTorch data prepared - Train: torch.Size([8364, 10, 12]), Test: torch.Size([2788, 10, 12])\n"
     ]
    },
    {
     "name": "stderr",
     "output_type": "stream",
     "text": [
      "Grid Search Progress:  49%|████▉     | 39/80 [13:13<28:22, 41.52s/it, Model=LSTM, L=12, T=0.04]"
     ]
    },
    {
     "name": "stdout",
     "output_type": "stream",
     "text": [
      "Signal distribution - Decline(0): 1410, Sideways(1): 7909, Rise(2): 1842\n",
      "PyTorch data prepared - Train: torch.Size([8364, 10, 12]), Test: torch.Size([2788, 10, 12])\n"
     ]
    },
    {
     "name": "stderr",
     "output_type": "stream",
     "text": [
      "Grid Search Progress:  50%|█████     | 40/80 [13:54<27:40, 41.51s/it, Model=LSTM, L=12, T=0.05]"
     ]
    },
    {
     "name": "stdout",
     "output_type": "stream",
     "text": [
      "Signal distribution - Decline(0): 1788, Sideways(1): 7289, Rise(2): 2093\n",
      "PyTorch data prepared - Train: torch.Size([8370, 10, 12]), Test: torch.Size([2791, 10, 12])\n"
     ]
    },
    {
     "name": "stderr",
     "output_type": "stream",
     "text": [
      "Grid Search Progress:  51%|█████▏    | 41/80 [14:33<26:20, 40.54s/it, Model=GRU, L=3, T=0.02]  "
     ]
    },
    {
     "name": "stdout",
     "output_type": "stream",
     "text": [
      "Signal distribution - Decline(0): 1078, Sideways(1): 8819, Rise(2): 1273\n",
      "PyTorch data prepared - Train: torch.Size([8370, 10, 12]), Test: torch.Size([2791, 10, 12])\n"
     ]
    },
    {
     "name": "stderr",
     "output_type": "stream",
     "text": [
      "Grid Search Progress:  52%|█████▎    | 42/80 [15:10<25:00, 39.49s/it, Model=GRU, L=3, T=0.03]"
     ]
    },
    {
     "name": "stdout",
     "output_type": "stream",
     "text": [
      "Signal distribution - Decline(0): 667, Sideways(1): 9724, Rise(2): 779\n",
      "PyTorch data prepared - Train: torch.Size([8370, 10, 12]), Test: torch.Size([2791, 10, 12])\n"
     ]
    },
    {
     "name": "stderr",
     "output_type": "stream",
     "text": [
      "Grid Search Progress:  54%|█████▍    | 43/80 [15:48<24:06, 39.08s/it, Model=GRU, L=3, T=0.04]"
     ]
    },
    {
     "name": "stdout",
     "output_type": "stream",
     "text": [
      "Signal distribution - Decline(0): 433, Sideways(1): 10257, Rise(2): 480\n",
      "PyTorch data prepared - Train: torch.Size([8370, 10, 12]), Test: torch.Size([2791, 10, 12])\n"
     ]
    },
    {
     "name": "stderr",
     "output_type": "stream",
     "text": [
      "Grid Search Progress:  55%|█████▌    | 44/80 [16:25<23:06, 38.52s/it, Model=GRU, L=3, T=0.05]"
     ]
    },
    {
     "name": "stdout",
     "output_type": "stream",
     "text": [
      "Signal distribution - Decline(0): 2356, Sideways(1): 6055, Rise(2): 2757\n",
      "PyTorch data prepared - Train: torch.Size([8369, 10, 12]), Test: torch.Size([2790, 10, 12])\n"
     ]
    },
    {
     "name": "stderr",
     "output_type": "stream",
     "text": [
      "Grid Search Progress:  56%|█████▋    | 45/80 [17:03<22:18, 38.24s/it, Model=GRU, L=5, T=0.02]"
     ]
    },
    {
     "name": "stdout",
     "output_type": "stream",
     "text": [
      "Signal distribution - Decline(0): 1598, Sideways(1): 7651, Rise(2): 1919\n",
      "PyTorch data prepared - Train: torch.Size([8369, 10, 12]), Test: torch.Size([2790, 10, 12])\n"
     ]
    },
    {
     "name": "stderr",
     "output_type": "stream",
     "text": [
      "Grid Search Progress:  57%|█████▊    | 46/80 [17:40<21:27, 37.86s/it, Model=GRU, L=5, T=0.03]"
     ]
    },
    {
     "name": "stdout",
     "output_type": "stream",
     "text": [
      "Signal distribution - Decline(0): 1052, Sideways(1): 8812, Rise(2): 1304\n",
      "PyTorch data prepared - Train: torch.Size([8369, 10, 12]), Test: torch.Size([2790, 10, 12])\n"
     ]
    },
    {
     "name": "stderr",
     "output_type": "stream",
     "text": [
      "Grid Search Progress:  59%|█████▉    | 47/80 [18:18<20:50, 37.90s/it, Model=GRU, L=5, T=0.04]"
     ]
    },
    {
     "name": "stdout",
     "output_type": "stream",
     "text": [
      "Signal distribution - Decline(0): 717, Sideways(1): 9552, Rise(2): 899\n",
      "PyTorch data prepared - Train: torch.Size([8369, 10, 12]), Test: torch.Size([2790, 10, 12])\n"
     ]
    },
    {
     "name": "stderr",
     "output_type": "stream",
     "text": [
      "Grid Search Progress:  60%|██████    | 48/80 [18:56<20:13, 37.92s/it, Model=GRU, L=5, T=0.05]"
     ]
    },
    {
     "name": "stdout",
     "output_type": "stream",
     "text": [
      "Signal distribution - Decline(0): 2748, Sideways(1): 5202, Rise(2): 3215\n",
      "PyTorch data prepared - Train: torch.Size([8367, 10, 12]), Test: torch.Size([2789, 10, 12])\n"
     ]
    },
    {
     "name": "stderr",
     "output_type": "stream",
     "text": [
      "Grid Search Progress:  61%|██████▏   | 49/80 [19:35<19:51, 38.43s/it, Model=GRU, L=8, T=0.02]"
     ]
    },
    {
     "name": "stdout",
     "output_type": "stream",
     "text": [
      "Signal distribution - Decline(0): 1999, Sideways(1): 6717, Rise(2): 2449\n",
      "PyTorch data prepared - Train: torch.Size([8367, 10, 12]), Test: torch.Size([2789, 10, 12])\n"
     ]
    },
    {
     "name": "stderr",
     "output_type": "stream",
     "text": [
      "Grid Search Progress:  62%|██████▎   | 50/80 [20:16<19:29, 38.99s/it, Model=GRU, L=8, T=0.03]"
     ]
    },
    {
     "name": "stdout",
     "output_type": "stream",
     "text": [
      "Signal distribution - Decline(0): 1464, Sideways(1): 7869, Rise(2): 1832\n",
      "PyTorch data prepared - Train: torch.Size([8367, 10, 12]), Test: torch.Size([2789, 10, 12])\n"
     ]
    },
    {
     "name": "stderr",
     "output_type": "stream",
     "text": [
      "Grid Search Progress:  64%|██████▍   | 51/80 [20:53<18:41, 38.67s/it, Model=GRU, L=8, T=0.04]"
     ]
    },
    {
     "name": "stdout",
     "output_type": "stream",
     "text": [
      "Signal distribution - Decline(0): 1075, Sideways(1): 8714, Rise(2): 1376\n",
      "PyTorch data prepared - Train: torch.Size([8367, 10, 12]), Test: torch.Size([2789, 10, 12])\n"
     ]
    },
    {
     "name": "stderr",
     "output_type": "stream",
     "text": [
      "Grid Search Progress:  65%|██████▌   | 52/80 [21:30<17:46, 38.08s/it, Model=GRU, L=8, T=0.05]"
     ]
    },
    {
     "name": "stdout",
     "output_type": "stream",
     "text": [
      "Signal distribution - Decline(0): 2969, Sideways(1): 4679, Rise(2): 3515\n",
      "PyTorch data prepared - Train: torch.Size([8365, 10, 12]), Test: torch.Size([2789, 10, 12])\n"
     ]
    },
    {
     "name": "stderr",
     "output_type": "stream",
     "text": [
      "Grid Search Progress:  66%|██████▋   | 53/80 [22:08<17:02, 37.89s/it, Model=GRU, L=10, T=0.02]"
     ]
    },
    {
     "name": "stdout",
     "output_type": "stream",
     "text": [
      "Signal distribution - Decline(0): 2210, Sideways(1): 6258, Rise(2): 2695\n",
      "PyTorch data prepared - Train: torch.Size([8365, 10, 12]), Test: torch.Size([2789, 10, 12])\n"
     ]
    },
    {
     "name": "stderr",
     "output_type": "stream",
     "text": [
      "Grid Search Progress:  68%|██████▊   | 54/80 [22:45<16:20, 37.72s/it, Model=GRU, L=10, T=0.03]"
     ]
    },
    {
     "name": "stdout",
     "output_type": "stream",
     "text": [
      "Signal distribution - Decline(0): 1667, Sideways(1): 7403, Rise(2): 2093\n",
      "PyTorch data prepared - Train: torch.Size([8365, 10, 12]), Test: torch.Size([2789, 10, 12])\n"
     ]
    },
    {
     "name": "stderr",
     "output_type": "stream",
     "text": [
      "Grid Search Progress:  69%|██████▉   | 55/80 [23:23<15:47, 37.91s/it, Model=GRU, L=10, T=0.04]"
     ]
    },
    {
     "name": "stdout",
     "output_type": "stream",
     "text": [
      "Signal distribution - Decline(0): 1242, Sideways(1): 8313, Rise(2): 1608\n",
      "PyTorch data prepared - Train: torch.Size([8365, 10, 12]), Test: torch.Size([2789, 10, 12])\n"
     ]
    },
    {
     "name": "stderr",
     "output_type": "stream",
     "text": [
      "Grid Search Progress:  70%|███████   | 56/80 [24:01<15:07, 37.81s/it, Model=GRU, L=10, T=0.05]"
     ]
    },
    {
     "name": "stdout",
     "output_type": "stream",
     "text": [
      "Signal distribution - Decline(0): 3112, Sideways(1): 4354, Rise(2): 3695\n",
      "PyTorch data prepared - Train: torch.Size([8364, 10, 12]), Test: torch.Size([2788, 10, 12])\n"
     ]
    },
    {
     "name": "stderr",
     "output_type": "stream",
     "text": [
      "Grid Search Progress:  71%|███████▏  | 57/80 [24:39<14:28, 37.76s/it, Model=GRU, L=12, T=0.02]"
     ]
    },
    {
     "name": "stdout",
     "output_type": "stream",
     "text": [
      "Signal distribution - Decline(0): 2388, Sideways(1): 5866, Rise(2): 2907\n",
      "PyTorch data prepared - Train: torch.Size([8364, 10, 12]), Test: torch.Size([2788, 10, 12])\n"
     ]
    },
    {
     "name": "stderr",
     "output_type": "stream",
     "text": [
      "Grid Search Progress:  72%|███████▎  | 58/80 [25:16<13:50, 37.76s/it, Model=GRU, L=12, T=0.03]"
     ]
    },
    {
     "name": "stdout",
     "output_type": "stream",
     "text": [
      "Signal distribution - Decline(0): 1861, Sideways(1): 6982, Rise(2): 2318\n",
      "PyTorch data prepared - Train: torch.Size([8364, 10, 12]), Test: torch.Size([2788, 10, 12])\n"
     ]
    },
    {
     "name": "stderr",
     "output_type": "stream",
     "text": [
      "Grid Search Progress:  74%|███████▍  | 59/80 [25:53<13:07, 37.50s/it, Model=GRU, L=12, T=0.04]"
     ]
    },
    {
     "name": "stdout",
     "output_type": "stream",
     "text": [
      "Signal distribution - Decline(0): 1410, Sideways(1): 7909, Rise(2): 1842\n",
      "PyTorch data prepared - Train: torch.Size([8364, 10, 12]), Test: torch.Size([2788, 10, 12])\n"
     ]
    },
    {
     "name": "stderr",
     "output_type": "stream",
     "text": [
      "Grid Search Progress:  75%|███████▌  | 60/80 [26:30<12:27, 37.39s/it, Model=GRU, L=12, T=0.05]"
     ]
    },
    {
     "name": "stdout",
     "output_type": "stream",
     "text": [
      "Signal distribution - Decline(0): 1788, Sideways(1): 7289, Rise(2): 2093\n",
      "PyTorch data prepared - Train: torch.Size([8370, 10, 12]), Test: torch.Size([2791, 10, 12])\n"
     ]
    },
    {
     "name": "stderr",
     "output_type": "stream",
     "text": [
      "Grid Search Progress:  76%|███████▋  | 61/80 [26:58<10:55, 34.50s/it, Model=CNN, L=3, T=0.02] "
     ]
    },
    {
     "name": "stdout",
     "output_type": "stream",
     "text": [
      "Signal distribution - Decline(0): 1078, Sideways(1): 8819, Rise(2): 1273\n",
      "PyTorch data prepared - Train: torch.Size([8370, 10, 12]), Test: torch.Size([2791, 10, 12])\n"
     ]
    },
    {
     "name": "stderr",
     "output_type": "stream",
     "text": [
      "Grid Search Progress:  78%|███████▊  | 62/80 [27:25<09:39, 32.20s/it, Model=CNN, L=3, T=0.03]"
     ]
    },
    {
     "name": "stdout",
     "output_type": "stream",
     "text": [
      "Signal distribution - Decline(0): 667, Sideways(1): 9724, Rise(2): 779\n",
      "PyTorch data prepared - Train: torch.Size([8370, 10, 12]), Test: torch.Size([2791, 10, 12])\n"
     ]
    },
    {
     "name": "stderr",
     "output_type": "stream",
     "text": [
      "Grid Search Progress:  79%|███████▉  | 63/80 [27:52<08:40, 30.64s/it, Model=CNN, L=3, T=0.04]"
     ]
    },
    {
     "name": "stdout",
     "output_type": "stream",
     "text": [
      "Signal distribution - Decline(0): 433, Sideways(1): 10257, Rise(2): 480\n",
      "PyTorch data prepared - Train: torch.Size([8370, 10, 12]), Test: torch.Size([2791, 10, 12])\n"
     ]
    },
    {
     "name": "stderr",
     "output_type": "stream",
     "text": [
      "Grid Search Progress:  80%|████████  | 64/80 [28:19<07:52, 29.55s/it, Model=CNN, L=3, T=0.05]"
     ]
    },
    {
     "name": "stdout",
     "output_type": "stream",
     "text": [
      "Signal distribution - Decline(0): 2356, Sideways(1): 6055, Rise(2): 2757\n",
      "PyTorch data prepared - Train: torch.Size([8369, 10, 12]), Test: torch.Size([2790, 10, 12])\n"
     ]
    },
    {
     "name": "stderr",
     "output_type": "stream",
     "text": [
      "Grid Search Progress:  81%|████████▏ | 65/80 [28:47<07:14, 28.97s/it, Model=CNN, L=5, T=0.02]"
     ]
    },
    {
     "name": "stdout",
     "output_type": "stream",
     "text": [
      "Signal distribution - Decline(0): 1598, Sideways(1): 7651, Rise(2): 1919\n",
      "PyTorch data prepared - Train: torch.Size([8369, 10, 12]), Test: torch.Size([2790, 10, 12])\n"
     ]
    },
    {
     "name": "stderr",
     "output_type": "stream",
     "text": [
      "Grid Search Progress:  82%|████████▎ | 66/80 [29:14<06:40, 28.59s/it, Model=CNN, L=5, T=0.03]"
     ]
    },
    {
     "name": "stdout",
     "output_type": "stream",
     "text": [
      "Signal distribution - Decline(0): 1052, Sideways(1): 8812, Rise(2): 1304\n",
      "PyTorch data prepared - Train: torch.Size([8369, 10, 12]), Test: torch.Size([2790, 10, 12])\n"
     ]
    },
    {
     "name": "stderr",
     "output_type": "stream",
     "text": [
      "Grid Search Progress:  84%|████████▍ | 67/80 [29:41<06:04, 28.07s/it, Model=CNN, L=5, T=0.04]"
     ]
    },
    {
     "name": "stdout",
     "output_type": "stream",
     "text": [
      "Signal distribution - Decline(0): 717, Sideways(1): 9552, Rise(2): 899\n",
      "PyTorch data prepared - Train: torch.Size([8369, 10, 12]), Test: torch.Size([2790, 10, 12])\n"
     ]
    },
    {
     "name": "stderr",
     "output_type": "stream",
     "text": [
      "Grid Search Progress:  85%|████████▌ | 68/80 [30:08<05:32, 27.71s/it, Model=CNN, L=5, T=0.05]"
     ]
    },
    {
     "name": "stdout",
     "output_type": "stream",
     "text": [
      "Signal distribution - Decline(0): 2748, Sideways(1): 5202, Rise(2): 3215\n",
      "PyTorch data prepared - Train: torch.Size([8367, 10, 12]), Test: torch.Size([2789, 10, 12])\n"
     ]
    },
    {
     "name": "stderr",
     "output_type": "stream",
     "text": [
      "Grid Search Progress:  86%|████████▋ | 69/80 [30:35<05:02, 27.50s/it, Model=CNN, L=8, T=0.02]"
     ]
    },
    {
     "name": "stdout",
     "output_type": "stream",
     "text": [
      "Signal distribution - Decline(0): 1999, Sideways(1): 6717, Rise(2): 2449\n",
      "PyTorch data prepared - Train: torch.Size([8367, 10, 12]), Test: torch.Size([2789, 10, 12])\n"
     ]
    },
    {
     "name": "stderr",
     "output_type": "stream",
     "text": [
      "Grid Search Progress:  88%|████████▊ | 70/80 [31:03<04:35, 27.54s/it, Model=CNN, L=8, T=0.03]"
     ]
    },
    {
     "name": "stdout",
     "output_type": "stream",
     "text": [
      "Signal distribution - Decline(0): 1464, Sideways(1): 7869, Rise(2): 1832\n",
      "PyTorch data prepared - Train: torch.Size([8367, 10, 12]), Test: torch.Size([2789, 10, 12])\n"
     ]
    },
    {
     "name": "stderr",
     "output_type": "stream",
     "text": [
      "Grid Search Progress:  89%|████████▉ | 71/80 [31:30<04:06, 27.36s/it, Model=CNN, L=8, T=0.04]"
     ]
    },
    {
     "name": "stdout",
     "output_type": "stream",
     "text": [
      "Signal distribution - Decline(0): 1075, Sideways(1): 8714, Rise(2): 1376\n",
      "PyTorch data prepared - Train: torch.Size([8367, 10, 12]), Test: torch.Size([2789, 10, 12])\n"
     ]
    },
    {
     "name": "stderr",
     "output_type": "stream",
     "text": [
      "Grid Search Progress:  90%|█████████ | 72/80 [31:56<03:37, 27.20s/it, Model=CNN, L=8, T=0.05]"
     ]
    },
    {
     "name": "stdout",
     "output_type": "stream",
     "text": [
      "Signal distribution - Decline(0): 2969, Sideways(1): 4679, Rise(2): 3515\n",
      "PyTorch data prepared - Train: torch.Size([8365, 10, 12]), Test: torch.Size([2789, 10, 12])\n"
     ]
    },
    {
     "name": "stderr",
     "output_type": "stream",
     "text": [
      "Grid Search Progress:  91%|█████████▏| 73/80 [32:23<03:10, 27.16s/it, Model=CNN, L=10, T=0.02]"
     ]
    },
    {
     "name": "stdout",
     "output_type": "stream",
     "text": [
      "Signal distribution - Decline(0): 2210, Sideways(1): 6258, Rise(2): 2695\n",
      "PyTorch data prepared - Train: torch.Size([8365, 10, 12]), Test: torch.Size([2789, 10, 12])\n"
     ]
    },
    {
     "name": "stderr",
     "output_type": "stream",
     "text": [
      "Grid Search Progress:  92%|█████████▎| 74/80 [32:51<02:44, 27.38s/it, Model=CNN, L=10, T=0.03]"
     ]
    },
    {
     "name": "stdout",
     "output_type": "stream",
     "text": [
      "Signal distribution - Decline(0): 1667, Sideways(1): 7403, Rise(2): 2093\n",
      "PyTorch data prepared - Train: torch.Size([8365, 10, 12]), Test: torch.Size([2789, 10, 12])\n"
     ]
    },
    {
     "name": "stderr",
     "output_type": "stream",
     "text": [
      "Grid Search Progress:  94%|█████████▍| 75/80 [33:19<02:17, 27.44s/it, Model=CNN, L=10, T=0.04]"
     ]
    },
    {
     "name": "stdout",
     "output_type": "stream",
     "text": [
      "Signal distribution - Decline(0): 1242, Sideways(1): 8313, Rise(2): 1608\n",
      "PyTorch data prepared - Train: torch.Size([8365, 10, 12]), Test: torch.Size([2789, 10, 12])\n"
     ]
    },
    {
     "name": "stderr",
     "output_type": "stream",
     "text": [
      "Grid Search Progress:  95%|█████████▌| 76/80 [33:46<01:49, 27.43s/it, Model=CNN, L=10, T=0.05]"
     ]
    },
    {
     "name": "stdout",
     "output_type": "stream",
     "text": [
      "Signal distribution - Decline(0): 3112, Sideways(1): 4354, Rise(2): 3695\n",
      "PyTorch data prepared - Train: torch.Size([8364, 10, 12]), Test: torch.Size([2788, 10, 12])\n"
     ]
    },
    {
     "name": "stderr",
     "output_type": "stream",
     "text": [
      "Grid Search Progress:  96%|█████████▋| 77/80 [34:13<01:21, 27.26s/it, Model=CNN, L=12, T=0.02]"
     ]
    },
    {
     "name": "stdout",
     "output_type": "stream",
     "text": [
      "Signal distribution - Decline(0): 2388, Sideways(1): 5866, Rise(2): 2907\n",
      "PyTorch data prepared - Train: torch.Size([8364, 10, 12]), Test: torch.Size([2788, 10, 12])\n"
     ]
    },
    {
     "name": "stderr",
     "output_type": "stream",
     "text": [
      "Grid Search Progress:  98%|█████████▊| 78/80 [34:41<00:54, 27.30s/it, Model=CNN, L=12, T=0.03]"
     ]
    },
    {
     "name": "stdout",
     "output_type": "stream",
     "text": [
      "Signal distribution - Decline(0): 1861, Sideways(1): 6982, Rise(2): 2318\n",
      "PyTorch data prepared - Train: torch.Size([8364, 10, 12]), Test: torch.Size([2788, 10, 12])\n"
     ]
    },
    {
     "name": "stderr",
     "output_type": "stream",
     "text": [
      "Grid Search Progress:  99%|█████████▉| 79/80 [35:08<00:27, 27.44s/it, Model=CNN, L=12, T=0.04]"
     ]
    },
    {
     "name": "stdout",
     "output_type": "stream",
     "text": [
      "Signal distribution - Decline(0): 1410, Sideways(1): 7909, Rise(2): 1842\n",
      "PyTorch data prepared - Train: torch.Size([8364, 10, 12]), Test: torch.Size([2788, 10, 12])\n"
     ]
    },
    {
     "name": "stderr",
     "output_type": "stream",
     "text": [
      "Grid Search Progress: 100%|██████████| 80/80 [35:35<00:00, 26.69s/it, Model=CNN, L=12, T=0.05]"
     ]
    },
    {
     "name": "stdout",
     "output_type": "stream",
     "text": [
      "\n",
      "Results saved to: ../../results/eth_results_4h_3class.csv\n",
      "\n",
      "======================================================================\n",
      "COMPLETE EXPERIMENTAL RESULTS\n",
      "======================================================================\n",
      "      model  lookahead  threshold  accuracy  loss_count  loss_mean  \\\n",
      "0   XGBoost          3       0.02    0.6613          64     0.0316   \n",
      "1   XGBoost          3       0.03    0.7927          16     0.0345   \n",
      "2   XGBoost          3       0.04    0.8693           8     0.0384   \n",
      "3   XGBoost          3       0.05    0.9187           4     0.0201   \n",
      "4   XGBoost          5       0.02    0.6178         130     0.0314   \n",
      "..      ...        ...        ...       ...         ...        ...   \n",
      "75      CNN         10       0.05    0.7795           3     0.1230   \n",
      "76      CNN         12       0.02    0.3651         738     0.0328   \n",
      "77      CNN         12       0.03    0.5308         105     0.0406   \n",
      "78      CNN         12       0.04    0.6374          43     0.0243   \n",
      "79      CNN         12       0.05    0.7349          12     0.0299   \n",
      "\n",
      "    transaction  \n",
      "0           218  \n",
      "1            53  \n",
      "2            36  \n",
      "3            21  \n",
      "4           607  \n",
      "..          ...  \n",
      "75            6  \n",
      "76         1686  \n",
      "77          215  \n",
      "78           79  \n",
      "79           21  \n",
      "\n",
      "[80 rows x 7 columns]\n",
      "\n",
      "======================================================================\n",
      "BEST PERFORMANCE BY MODEL TYPE\n",
      "======================================================================\n",
      "      model  lookahead  threshold  accuracy  loss_count  loss_mean\n",
      "63      CNN          3       0.05    0.9409           0     0.0000\n",
      "43      GRU          3       0.05    0.9409           0     0.0000\n",
      "23     LSTM          3       0.05    0.9391           5     0.0173\n",
      "3   XGBoost          3       0.05    0.9187           4     0.0201\n",
      "\n",
      "======================================================================\n",
      "OVERALL CHAMPION CONFIGURATION\n",
      "======================================================================\n",
      "Best Model: GRU\n",
      "Optimal Lookahead: 3 days\n",
      "Optimal Threshold: 0.050\n",
      "Peak Accuracy: 0.9409 (94.09%)\n",
      "Loss Events: 0\n",
      "Average Loss: 0.000000\n",
      "\n",
      "==================================================\n",
      "SUMMARY\n",
      "==================================================\n",
      "Total experiments: 80\n",
      "Best accuracy: 0.9409\n",
      "Average accuracy: 0.6948\n",
      "\n",
      "Best configuration:\n",
      "Model: GRU, Lookahead: 3, Threshold: 0.05\n"
     ]
    },
    {
     "name": "stderr",
     "output_type": "stream",
     "text": [
      "\n"
     ]
    }
   ],
   "source": [
    "\"\"\"\n",
    "Price Movement Prediction - Main Execution Script\n",
    "\"\"\"\n",
    "\n",
    "import pandas as pd\n",
    "import torch\n",
    "import warnings\n",
    "warnings.filterwarnings('ignore')\n",
    "\n",
    "from experiment_runner import ExperimentRunner\n",
    "\n",
    "def eth_4h():\n",
    "    \"\"\"Main execution function\"\"\"\n",
    "    \n",
    "    # ============= CONFIGURATION =============\n",
    "    # Tùy chỉnh các tham số tại đây\n",
    "    \n",
    "    DATA_PATH = r'F:\\up_git\\official_predict\\data\\eth_4h.csv'  # Đường dẫn file data\n",
    "    \n",
    "    # Tạo thư mục results ở cấp trên 2 cấp nếu chưa có\n",
    "    import os\n",
    "    results_dir = os.path.join('..', '..', 'results')\n",
    "    os.makedirs(results_dir, exist_ok=True)\n",
    "    \n",
    "    OUTPUT_FILENAME = '../../results/eth_results_4h_3class.csv'  # Lưu vào thư mục results cấp trên 2\n",
    "    \n",
    "    # Parameters\n",
    "    LOOKAHEAD_VALUES = [3, 5, 8, 10,12]  # Số ngày dự đoán\n",
    "    THRESHOLD_VALUES = [0.02, 0.03, 0.04, 0.05]  # Ngưỡng phân loại\n",
    "    \n",
    "    MODEL_TYPES = ['XGBoost', 'LSTM', 'GRU', 'CNN']  # Các model cần test\n",
    "    SEQUENCE_LENGTH = 10  # Độ dài chuỗi cho deep learning\n",
    "    \n",
    "    # ============= CHẠY THÍ NGHIỆM =============\n",
    "    \n",
    "    print(f\"Using device: {torch.device('cuda' if torch.cuda.is_available() else 'cpu')}\")\n",
    "    \n",
    "    runner = ExperimentRunner(\n",
    "        data_path=DATA_PATH,\n",
    "        output_filename=OUTPUT_FILENAME,\n",
    "        sequence_length=SEQUENCE_LENGTH,\n",
    "        verbose=False\n",
    "    )\n",
    "    \n",
    "    results = runner.run_grid_search(\n",
    "        lookahead_values=LOOKAHEAD_VALUES,\n",
    "        threshold_values=THRESHOLD_VALUES,\n",
    "        model_types=MODEL_TYPES\n",
    "    )\n",
    "    \n",
    "    # ============= HIỂN THỊ KẾT QUẢ =============\n",
    "    \n",
    "    if results is not None and not results.empty:\n",
    "        runner.display_results(results)\n",
    "        \n",
    "        # Thống kê tóm tắt\n",
    "        print(f\"\\n{'='*50}\")\n",
    "        print(\"SUMMARY\")\n",
    "        print(f\"{'='*50}\")\n",
    "        print(f\"Total experiments: {len(results)}\")\n",
    "        print(f\"Best accuracy: {results['accuracy'].max():.4f}\")\n",
    "        print(f\"Average accuracy: {results['accuracy'].mean():.4f}\")\n",
    "        \n",
    "        # Kết quả tốt nhất\n",
    "        best = results.loc[results['accuracy'].idxmax()]\n",
    "        print(f\"\\nBest configuration:\")\n",
    "        print(f\"Model: {best['model']}, Lookahead: {best['lookahead']}, Threshold: {best['threshold']}\")\n",
    "        \n",
    "    else:\n",
    "        print(\"No results generated.\")\n",
    "\n",
    "eth_4h()"
   ]
  },
  {
   "cell_type": "code",
   "execution_count": 4,
   "id": "1d306e3b",
   "metadata": {},
   "outputs": [
    {
     "name": "stdout",
     "output_type": "stream",
     "text": [
      "Using device: cuda\n",
      "Using device: cuda\n",
      "Loading and preparing Bitcoin data...\n",
      "Successfully loaded data from: F:\\up_git\\official_predict\\data\\eth_30m.csv\n",
      "Data shape: (89560, 6)\n",
      "Technical indicators added successfully\n",
      "Features normalized successfully\n",
      "Final dataset shape: (89526, 18)\n",
      "Starting grid search with 80 experiments...\n",
      "Lookahead values: [3, 5, 8, 10, 12]\n",
      "Threshold values: [0.02, 0.03, 0.04, 0.05]\n",
      "Model types: ['XGBoost', 'LSTM', 'GRU', 'CNN']\n"
     ]
    },
    {
     "name": "stderr",
     "output_type": "stream",
     "text": [
      "Grid Search Progress:   0%|          | 0/80 [00:00<?, ?it/s]"
     ]
    },
    {
     "name": "stdout",
     "output_type": "stream",
     "text": [
      "Signal distribution - Decline(0): 2554, Sideways(1): 84365, Rise(2): 2604\n"
     ]
    },
    {
     "name": "stderr",
     "output_type": "stream",
     "text": [
      "Grid Search Progress:   1%|▏         | 1/80 [00:01<01:38,  1.24s/it, Model=XGBoost, L=3, T=0.02]"
     ]
    },
    {
     "name": "stdout",
     "output_type": "stream",
     "text": [
      "Signal distribution - Decline(0): 990, Sideways(1): 87614, Rise(2): 919\n"
     ]
    },
    {
     "name": "stderr",
     "output_type": "stream",
     "text": [
      "Grid Search Progress:   2%|▎         | 2/80 [00:02<01:38,  1.26s/it, Model=XGBoost, L=3, T=0.03]"
     ]
    },
    {
     "name": "stdout",
     "output_type": "stream",
     "text": [
      "Signal distribution - Decline(0): 419, Sideways(1): 88700, Rise(2): 404\n"
     ]
    },
    {
     "name": "stderr",
     "output_type": "stream",
     "text": [
      "Grid Search Progress:   4%|▍         | 3/80 [00:03<01:36,  1.25s/it, Model=XGBoost, L=3, T=0.04]"
     ]
    },
    {
     "name": "stdout",
     "output_type": "stream",
     "text": [
      "Signal distribution - Decline(0): 200, Sideways(1): 89137, Rise(2): 186\n"
     ]
    },
    {
     "name": "stderr",
     "output_type": "stream",
     "text": [
      "Grid Search Progress:   5%|▌         | 4/80 [00:04<01:31,  1.20s/it, Model=XGBoost, L=3, T=0.05]"
     ]
    },
    {
     "name": "stdout",
     "output_type": "stream",
     "text": [
      "Signal distribution - Decline(0): 4372, Sideways(1): 80656, Rise(2): 4493\n"
     ]
    },
    {
     "name": "stderr",
     "output_type": "stream",
     "text": [
      "Grid Search Progress:   6%|▋         | 5/80 [00:06<01:34,  1.26s/it, Model=XGBoost, L=5, T=0.02]"
     ]
    },
    {
     "name": "stdout",
     "output_type": "stream",
     "text": [
      "Signal distribution - Decline(0): 1888, Sideways(1): 85740, Rise(2): 1893\n"
     ]
    },
    {
     "name": "stderr",
     "output_type": "stream",
     "text": [
      "Grid Search Progress:   8%|▊         | 6/80 [00:07<01:34,  1.28s/it, Model=XGBoost, L=5, T=0.03]"
     ]
    },
    {
     "name": "stdout",
     "output_type": "stream",
     "text": [
      "Signal distribution - Decline(0): 853, Sideways(1): 87811, Rise(2): 857\n"
     ]
    },
    {
     "name": "stderr",
     "output_type": "stream",
     "text": [
      "Grid Search Progress:   9%|▉         | 7/80 [00:08<01:32,  1.27s/it, Model=XGBoost, L=5, T=0.04]"
     ]
    },
    {
     "name": "stdout",
     "output_type": "stream",
     "text": [
      "Signal distribution - Decline(0): 453, Sideways(1): 88665, Rise(2): 403\n"
     ]
    },
    {
     "name": "stderr",
     "output_type": "stream",
     "text": [
      "Grid Search Progress:  10%|█         | 8/80 [00:10<01:32,  1.28s/it, Model=XGBoost, L=5, T=0.05]"
     ]
    },
    {
     "name": "stdout",
     "output_type": "stream",
     "text": [
      "Signal distribution - Decline(0): 6584, Sideways(1): 75873, Rise(2): 7061\n"
     ]
    },
    {
     "name": "stderr",
     "output_type": "stream",
     "text": [
      "Grid Search Progress:  11%|█▏        | 9/80 [00:11<01:32,  1.30s/it, Model=XGBoost, L=8, T=0.02]"
     ]
    },
    {
     "name": "stdout",
     "output_type": "stream",
     "text": [
      "Signal distribution - Decline(0): 3141, Sideways(1): 83112, Rise(2): 3265\n"
     ]
    },
    {
     "name": "stderr",
     "output_type": "stream",
     "text": [
      "Grid Search Progress:  12%|█▎        | 10/80 [00:12<01:31,  1.30s/it, Model=XGBoost, L=8, T=0.03]"
     ]
    },
    {
     "name": "stdout",
     "output_type": "stream",
     "text": [
      "Signal distribution - Decline(0): 1642, Sideways(1): 86240, Rise(2): 1636\n"
     ]
    },
    {
     "name": "stderr",
     "output_type": "stream",
     "text": [
      "Grid Search Progress:  14%|█▍        | 11/80 [00:14<01:29,  1.30s/it, Model=XGBoost, L=8, T=0.04]"
     ]
    },
    {
     "name": "stdout",
     "output_type": "stream",
     "text": [
      "Signal distribution - Decline(0): 894, Sideways(1): 87784, Rise(2): 840\n"
     ]
    },
    {
     "name": "stderr",
     "output_type": "stream",
     "text": [
      "Grid Search Progress:  15%|█▌        | 12/80 [00:15<01:30,  1.33s/it, Model=XGBoost, L=8, T=0.05]"
     ]
    },
    {
     "name": "stdout",
     "output_type": "stream",
     "text": [
      "Signal distribution - Decline(0): 7876, Sideways(1): 73062, Rise(2): 8578\n"
     ]
    },
    {
     "name": "stderr",
     "output_type": "stream",
     "text": [
      "Grid Search Progress:  16%|█▋        | 13/80 [00:16<01:29,  1.33s/it, Model=XGBoost, L=10, T=0.02]"
     ]
    },
    {
     "name": "stdout",
     "output_type": "stream",
     "text": [
      "Signal distribution - Decline(0): 3954, Sideways(1): 81287, Rise(2): 4275\n"
     ]
    },
    {
     "name": "stderr",
     "output_type": "stream",
     "text": [
      "Grid Search Progress:  18%|█▊        | 14/80 [00:18<01:29,  1.35s/it, Model=XGBoost, L=10, T=0.03]"
     ]
    },
    {
     "name": "stdout",
     "output_type": "stream",
     "text": [
      "Signal distribution - Decline(0): 2160, Sideways(1): 85199, Rise(2): 2157\n"
     ]
    },
    {
     "name": "stderr",
     "output_type": "stream",
     "text": [
      "Grid Search Progress:  19%|█▉        | 15/80 [00:19<01:27,  1.35s/it, Model=XGBoost, L=10, T=0.04]"
     ]
    },
    {
     "name": "stdout",
     "output_type": "stream",
     "text": [
      "Signal distribution - Decline(0): 1199, Sideways(1): 87171, Rise(2): 1146\n"
     ]
    },
    {
     "name": "stderr",
     "output_type": "stream",
     "text": [
      "Grid Search Progress:  20%|██        | 16/80 [00:20<01:24,  1.32s/it, Model=XGBoost, L=10, T=0.05]"
     ]
    },
    {
     "name": "stdout",
     "output_type": "stream",
     "text": [
      "Signal distribution - Decline(0): 8992, Sideways(1): 70526, Rise(2): 9996\n"
     ]
    },
    {
     "name": "stderr",
     "output_type": "stream",
     "text": [
      "Grid Search Progress:  21%|██▏       | 17/80 [00:22<01:22,  1.31s/it, Model=XGBoost, L=12, T=0.02]"
     ]
    },
    {
     "name": "stdout",
     "output_type": "stream",
     "text": [
      "Signal distribution - Decline(0): 4694, Sideways(1): 79665, Rise(2): 5155\n"
     ]
    },
    {
     "name": "stderr",
     "output_type": "stream",
     "text": [
      "Grid Search Progress:  22%|██▎       | 18/80 [00:23<01:21,  1.32s/it, Model=XGBoost, L=12, T=0.03]"
     ]
    },
    {
     "name": "stdout",
     "output_type": "stream",
     "text": [
      "Signal distribution - Decline(0): 2628, Sideways(1): 84160, Rise(2): 2726\n"
     ]
    },
    {
     "name": "stderr",
     "output_type": "stream",
     "text": [
      "Grid Search Progress:  24%|██▍       | 19/80 [00:24<01:21,  1.33s/it, Model=XGBoost, L=12, T=0.04]"
     ]
    },
    {
     "name": "stdout",
     "output_type": "stream",
     "text": [
      "Signal distribution - Decline(0): 1500, Sideways(1): 86499, Rise(2): 1515\n"
     ]
    },
    {
     "name": "stderr",
     "output_type": "stream",
     "text": [
      "Grid Search Progress:  25%|██▌       | 20/80 [00:26<01:20,  1.35s/it, Model=XGBoost, L=12, T=0.05]"
     ]
    },
    {
     "name": "stdout",
     "output_type": "stream",
     "text": [
      "Signal distribution - Decline(0): 2554, Sideways(1): 84365, Rise(2): 2604\n",
      "PyTorch data prepared - Train: torch.Size([67135, 10, 12]), Test: torch.Size([22379, 10, 12])\n"
     ]
    },
    {
     "name": "stderr",
     "output_type": "stream",
     "text": [
      "Grid Search Progress:  26%|██▋       | 21/80 [05:58<1:38:59, 100.67s/it, Model=LSTM, L=3, T=0.02] "
     ]
    },
    {
     "name": "stdout",
     "output_type": "stream",
     "text": [
      "Signal distribution - Decline(0): 990, Sideways(1): 87614, Rise(2): 919\n",
      "PyTorch data prepared - Train: torch.Size([67135, 10, 12]), Test: torch.Size([22379, 10, 12])\n"
     ]
    },
    {
     "name": "stderr",
     "output_type": "stream",
     "text": [
      "Grid Search Progress:  28%|██▊       | 22/80 [11:33<2:45:15, 170.96s/it, Model=LSTM, L=3, T=0.03]"
     ]
    },
    {
     "name": "stdout",
     "output_type": "stream",
     "text": [
      "Signal distribution - Decline(0): 419, Sideways(1): 88700, Rise(2): 404\n",
      "PyTorch data prepared - Train: torch.Size([67135, 10, 12]), Test: torch.Size([22379, 10, 12])\n"
     ]
    },
    {
     "name": "stderr",
     "output_type": "stream",
     "text": [
      "Grid Search Progress:  29%|██▉       | 23/80 [17:07<3:28:51, 219.86s/it, Model=LSTM, L=3, T=0.04]"
     ]
    },
    {
     "name": "stdout",
     "output_type": "stream",
     "text": [
      "Signal distribution - Decline(0): 200, Sideways(1): 89137, Rise(2): 186\n",
      "PyTorch data prepared - Train: torch.Size([67135, 10, 12]), Test: torch.Size([22379, 10, 12])\n"
     ]
    },
    {
     "name": "stderr",
     "output_type": "stream",
     "text": [
      "Grid Search Progress:  30%|███       | 24/80 [22:43<3:57:45, 254.73s/it, Model=LSTM, L=3, T=0.05]"
     ]
    },
    {
     "name": "stdout",
     "output_type": "stream",
     "text": [
      "Signal distribution - Decline(0): 4372, Sideways(1): 80656, Rise(2): 4493\n",
      "PyTorch data prepared - Train: torch.Size([67134, 10, 12]), Test: torch.Size([22378, 10, 12])\n"
     ]
    },
    {
     "name": "stderr",
     "output_type": "stream",
     "text": [
      "Grid Search Progress:  31%|███▏      | 25/80 [28:19<4:15:57, 279.23s/it, Model=LSTM, L=5, T=0.02]"
     ]
    },
    {
     "name": "stdout",
     "output_type": "stream",
     "text": [
      "Signal distribution - Decline(0): 1888, Sideways(1): 85740, Rise(2): 1893\n",
      "PyTorch data prepared - Train: torch.Size([67134, 10, 12]), Test: torch.Size([22378, 10, 12])\n"
     ]
    },
    {
     "name": "stderr",
     "output_type": "stream",
     "text": [
      "Grid Search Progress:  32%|███▎      | 26/80 [33:58<4:27:22, 297.08s/it, Model=LSTM, L=5, T=0.03]"
     ]
    },
    {
     "name": "stdout",
     "output_type": "stream",
     "text": [
      "Signal distribution - Decline(0): 853, Sideways(1): 87811, Rise(2): 857\n",
      "PyTorch data prepared - Train: torch.Size([67134, 10, 12]), Test: torch.Size([22378, 10, 12])\n"
     ]
    },
    {
     "name": "stderr",
     "output_type": "stream",
     "text": [
      "Grid Search Progress:  34%|███▍      | 27/80 [39:37<4:33:30, 309.63s/it, Model=LSTM, L=5, T=0.04]"
     ]
    },
    {
     "name": "stdout",
     "output_type": "stream",
     "text": [
      "Signal distribution - Decline(0): 453, Sideways(1): 88665, Rise(2): 403\n",
      "PyTorch data prepared - Train: torch.Size([67134, 10, 12]), Test: torch.Size([22378, 10, 12])\n"
     ]
    },
    {
     "name": "stderr",
     "output_type": "stream",
     "text": [
      "Grid Search Progress:  35%|███▌      | 28/80 [45:17<4:36:14, 318.74s/it, Model=LSTM, L=5, T=0.05]"
     ]
    },
    {
     "name": "stdout",
     "output_type": "stream",
     "text": [
      "Signal distribution - Decline(0): 6584, Sideways(1): 75873, Rise(2): 7061\n",
      "PyTorch data prepared - Train: torch.Size([67131, 10, 12]), Test: torch.Size([22378, 10, 12])\n"
     ]
    },
    {
     "name": "stderr",
     "output_type": "stream",
     "text": [
      "Grid Search Progress:  36%|███▋      | 29/80 [50:57<4:36:25, 325.20s/it, Model=LSTM, L=8, T=0.02]"
     ]
    },
    {
     "name": "stdout",
     "output_type": "stream",
     "text": [
      "Signal distribution - Decline(0): 3141, Sideways(1): 83112, Rise(2): 3265\n",
      "PyTorch data prepared - Train: torch.Size([67131, 10, 12]), Test: torch.Size([22378, 10, 12])\n"
     ]
    },
    {
     "name": "stderr",
     "output_type": "stream",
     "text": [
      "Grid Search Progress:  38%|███▊      | 30/80 [56:37<4:34:47, 329.74s/it, Model=LSTM, L=8, T=0.03]"
     ]
    },
    {
     "name": "stdout",
     "output_type": "stream",
     "text": [
      "Signal distribution - Decline(0): 1642, Sideways(1): 86240, Rise(2): 1636\n",
      "PyTorch data prepared - Train: torch.Size([67131, 10, 12]), Test: torch.Size([22378, 10, 12])\n"
     ]
    },
    {
     "name": "stderr",
     "output_type": "stream",
     "text": [
      "Grid Search Progress:  39%|███▉      | 31/80 [1:02:20<4:32:31, 333.71s/it, Model=LSTM, L=8, T=0.04]"
     ]
    },
    {
     "name": "stdout",
     "output_type": "stream",
     "text": [
      "Signal distribution - Decline(0): 894, Sideways(1): 87784, Rise(2): 840\n",
      "PyTorch data prepared - Train: torch.Size([67131, 10, 12]), Test: torch.Size([22378, 10, 12])\n"
     ]
    },
    {
     "name": "stderr",
     "output_type": "stream",
     "text": [
      "Grid Search Progress:  40%|████      | 32/80 [1:08:03<4:29:12, 336.50s/it, Model=LSTM, L=8, T=0.05]"
     ]
    },
    {
     "name": "stdout",
     "output_type": "stream",
     "text": [
      "Signal distribution - Decline(0): 7876, Sideways(1): 73062, Rise(2): 8578\n",
      "PyTorch data prepared - Train: torch.Size([67130, 10, 12]), Test: torch.Size([22377, 10, 12])\n"
     ]
    },
    {
     "name": "stderr",
     "output_type": "stream",
     "text": [
      "Grid Search Progress:  41%|████▏     | 33/80 [1:13:46<4:25:02, 338.36s/it, Model=LSTM, L=10, T=0.02]"
     ]
    },
    {
     "name": "stdout",
     "output_type": "stream",
     "text": [
      "Signal distribution - Decline(0): 3954, Sideways(1): 81287, Rise(2): 4275\n",
      "PyTorch data prepared - Train: torch.Size([67130, 10, 12]), Test: torch.Size([22377, 10, 12])\n"
     ]
    },
    {
     "name": "stderr",
     "output_type": "stream",
     "text": [
      "Grid Search Progress:  42%|████▎     | 34/80 [1:19:29<4:20:30, 339.80s/it, Model=LSTM, L=10, T=0.03]"
     ]
    },
    {
     "name": "stdout",
     "output_type": "stream",
     "text": [
      "Signal distribution - Decline(0): 2160, Sideways(1): 85199, Rise(2): 2157\n",
      "PyTorch data prepared - Train: torch.Size([67130, 10, 12]), Test: torch.Size([22377, 10, 12])\n"
     ]
    },
    {
     "name": "stderr",
     "output_type": "stream",
     "text": [
      "Grid Search Progress:  44%|████▍     | 35/80 [1:25:13<4:15:49, 341.11s/it, Model=LSTM, L=10, T=0.04]"
     ]
    },
    {
     "name": "stdout",
     "output_type": "stream",
     "text": [
      "Signal distribution - Decline(0): 1199, Sideways(1): 87171, Rise(2): 1146\n",
      "PyTorch data prepared - Train: torch.Size([67130, 10, 12]), Test: torch.Size([22377, 10, 12])\n"
     ]
    },
    {
     "name": "stderr",
     "output_type": "stream",
     "text": [
      "Grid Search Progress:  45%|████▌     | 36/80 [1:30:56<4:10:29, 341.58s/it, Model=LSTM, L=10, T=0.05]"
     ]
    },
    {
     "name": "stdout",
     "output_type": "stream",
     "text": [
      "Signal distribution - Decline(0): 8992, Sideways(1): 70526, Rise(2): 9996\n",
      "PyTorch data prepared - Train: torch.Size([67128, 10, 12]), Test: torch.Size([22377, 10, 12])\n"
     ]
    },
    {
     "name": "stderr",
     "output_type": "stream",
     "text": [
      "Grid Search Progress:  46%|████▋     | 37/80 [1:36:41<4:05:27, 342.51s/it, Model=LSTM, L=12, T=0.02]"
     ]
    },
    {
     "name": "stdout",
     "output_type": "stream",
     "text": [
      "Signal distribution - Decline(0): 4694, Sideways(1): 79665, Rise(2): 5155\n",
      "PyTorch data prepared - Train: torch.Size([67128, 10, 12]), Test: torch.Size([22377, 10, 12])\n"
     ]
    },
    {
     "name": "stderr",
     "output_type": "stream",
     "text": [
      "Grid Search Progress:  48%|████▊     | 38/80 [1:42:25<4:00:04, 342.95s/it, Model=LSTM, L=12, T=0.03]"
     ]
    },
    {
     "name": "stdout",
     "output_type": "stream",
     "text": [
      "Signal distribution - Decline(0): 2628, Sideways(1): 84160, Rise(2): 2726\n",
      "PyTorch data prepared - Train: torch.Size([67128, 10, 12]), Test: torch.Size([22377, 10, 12])\n"
     ]
    },
    {
     "name": "stderr",
     "output_type": "stream",
     "text": [
      "Grid Search Progress:  49%|████▉     | 39/80 [1:48:11<3:54:57, 343.85s/it, Model=LSTM, L=12, T=0.04]"
     ]
    },
    {
     "name": "stdout",
     "output_type": "stream",
     "text": [
      "Signal distribution - Decline(0): 1500, Sideways(1): 86499, Rise(2): 1515\n",
      "PyTorch data prepared - Train: torch.Size([67128, 10, 12]), Test: torch.Size([22377, 10, 12])\n"
     ]
    },
    {
     "name": "stderr",
     "output_type": "stream",
     "text": [
      "Grid Search Progress:  50%|█████     | 40/80 [1:53:58<3:50:00, 345.02s/it, Model=LSTM, L=12, T=0.05]"
     ]
    },
    {
     "name": "stdout",
     "output_type": "stream",
     "text": [
      "Signal distribution - Decline(0): 2554, Sideways(1): 84365, Rise(2): 2604\n",
      "PyTorch data prepared - Train: torch.Size([67135, 10, 12]), Test: torch.Size([22379, 10, 12])\n"
     ]
    },
    {
     "name": "stderr",
     "output_type": "stream",
     "text": [
      "Grid Search Progress:  51%|█████▏    | 41/80 [1:59:12<3:38:03, 335.48s/it, Model=GRU, L=3, T=0.02]  "
     ]
    },
    {
     "name": "stdout",
     "output_type": "stream",
     "text": [
      "Signal distribution - Decline(0): 990, Sideways(1): 87614, Rise(2): 919\n",
      "PyTorch data prepared - Train: torch.Size([67135, 10, 12]), Test: torch.Size([22379, 10, 12])\n"
     ]
    },
    {
     "name": "stderr",
     "output_type": "stream",
     "text": [
      "Grid Search Progress:  52%|█████▎    | 42/80 [2:04:25<3:28:18, 328.91s/it, Model=GRU, L=3, T=0.03]"
     ]
    },
    {
     "name": "stdout",
     "output_type": "stream",
     "text": [
      "Signal distribution - Decline(0): 419, Sideways(1): 88700, Rise(2): 404\n",
      "PyTorch data prepared - Train: torch.Size([67135, 10, 12]), Test: torch.Size([22379, 10, 12])\n"
     ]
    },
    {
     "name": "stderr",
     "output_type": "stream",
     "text": [
      "Grid Search Progress:  54%|█████▍    | 43/80 [2:09:39<3:19:57, 324.26s/it, Model=GRU, L=3, T=0.04]"
     ]
    },
    {
     "name": "stdout",
     "output_type": "stream",
     "text": [
      "Signal distribution - Decline(0): 200, Sideways(1): 89137, Rise(2): 186\n",
      "PyTorch data prepared - Train: torch.Size([67135, 10, 12]), Test: torch.Size([22379, 10, 12])\n"
     ]
    },
    {
     "name": "stderr",
     "output_type": "stream",
     "text": [
      "Grid Search Progress:  55%|█████▌    | 44/80 [2:14:52<3:12:34, 320.95s/it, Model=GRU, L=3, T=0.05]"
     ]
    },
    {
     "name": "stdout",
     "output_type": "stream",
     "text": [
      "Signal distribution - Decline(0): 4372, Sideways(1): 80656, Rise(2): 4493\n",
      "PyTorch data prepared - Train: torch.Size([67134, 10, 12]), Test: torch.Size([22378, 10, 12])\n"
     ]
    },
    {
     "name": "stderr",
     "output_type": "stream",
     "text": [
      "Grid Search Progress:  56%|█████▋    | 45/80 [2:20:08<3:06:23, 319.53s/it, Model=GRU, L=5, T=0.02]"
     ]
    },
    {
     "name": "stdout",
     "output_type": "stream",
     "text": [
      "Signal distribution - Decline(0): 1888, Sideways(1): 85740, Rise(2): 1893\n",
      "PyTorch data prepared - Train: torch.Size([67134, 10, 12]), Test: torch.Size([22378, 10, 12])\n"
     ]
    },
    {
     "name": "stderr",
     "output_type": "stream",
     "text": [
      "Grid Search Progress:  57%|█████▊    | 46/80 [2:25:24<3:00:23, 318.32s/it, Model=GRU, L=5, T=0.03]"
     ]
    },
    {
     "name": "stdout",
     "output_type": "stream",
     "text": [
      "Signal distribution - Decline(0): 853, Sideways(1): 87811, Rise(2): 857\n",
      "PyTorch data prepared - Train: torch.Size([67134, 10, 12]), Test: torch.Size([22378, 10, 12])\n"
     ]
    },
    {
     "name": "stderr",
     "output_type": "stream",
     "text": [
      "Grid Search Progress:  59%|█████▉    | 47/80 [2:30:40<2:54:41, 317.61s/it, Model=GRU, L=5, T=0.04]"
     ]
    },
    {
     "name": "stdout",
     "output_type": "stream",
     "text": [
      "Signal distribution - Decline(0): 453, Sideways(1): 88665, Rise(2): 403\n",
      "PyTorch data prepared - Train: torch.Size([67134, 10, 12]), Test: torch.Size([22378, 10, 12])\n"
     ]
    },
    {
     "name": "stderr",
     "output_type": "stream",
     "text": [
      "Grid Search Progress:  60%|██████    | 48/80 [2:35:53<2:48:47, 316.48s/it, Model=GRU, L=5, T=0.05]"
     ]
    },
    {
     "name": "stdout",
     "output_type": "stream",
     "text": [
      "Signal distribution - Decline(0): 6584, Sideways(1): 75873, Rise(2): 7061\n",
      "PyTorch data prepared - Train: torch.Size([67131, 10, 12]), Test: torch.Size([22378, 10, 12])\n"
     ]
    },
    {
     "name": "stderr",
     "output_type": "stream",
     "text": [
      "Grid Search Progress:  61%|██████▏   | 49/80 [2:41:08<2:43:15, 315.97s/it, Model=GRU, L=8, T=0.02]"
     ]
    },
    {
     "name": "stdout",
     "output_type": "stream",
     "text": [
      "Signal distribution - Decline(0): 3141, Sideways(1): 83112, Rise(2): 3265\n",
      "PyTorch data prepared - Train: torch.Size([67131, 10, 12]), Test: torch.Size([22378, 10, 12])\n"
     ]
    },
    {
     "name": "stderr",
     "output_type": "stream",
     "text": [
      "Grid Search Progress:  62%|██████▎   | 50/80 [2:46:18<2:37:04, 314.16s/it, Model=GRU, L=8, T=0.03]"
     ]
    },
    {
     "name": "stdout",
     "output_type": "stream",
     "text": [
      "Signal distribution - Decline(0): 1642, Sideways(1): 86240, Rise(2): 1636\n",
      "PyTorch data prepared - Train: torch.Size([67131, 10, 12]), Test: torch.Size([22378, 10, 12])\n"
     ]
    },
    {
     "name": "stderr",
     "output_type": "stream",
     "text": [
      "Grid Search Progress:  64%|██████▍   | 51/80 [2:51:16<2:29:25, 309.15s/it, Model=GRU, L=8, T=0.04]"
     ]
    },
    {
     "name": "stdout",
     "output_type": "stream",
     "text": [
      "Signal distribution - Decline(0): 894, Sideways(1): 87784, Rise(2): 840\n",
      "PyTorch data prepared - Train: torch.Size([67131, 10, 12]), Test: torch.Size([22378, 10, 12])\n"
     ]
    },
    {
     "name": "stderr",
     "output_type": "stream",
     "text": [
      "Grid Search Progress:  65%|██████▌   | 52/80 [2:56:11<2:22:21, 305.06s/it, Model=GRU, L=8, T=0.05]"
     ]
    },
    {
     "name": "stdout",
     "output_type": "stream",
     "text": [
      "Signal distribution - Decline(0): 7876, Sideways(1): 73062, Rise(2): 8578\n",
      "PyTorch data prepared - Train: torch.Size([67130, 10, 12]), Test: torch.Size([22377, 10, 12])\n"
     ]
    },
    {
     "name": "stderr",
     "output_type": "stream",
     "text": [
      "Grid Search Progress:  66%|██████▋   | 53/80 [3:01:00<2:15:03, 300.11s/it, Model=GRU, L=10, T=0.02]"
     ]
    },
    {
     "name": "stdout",
     "output_type": "stream",
     "text": [
      "Signal distribution - Decline(0): 3954, Sideways(1): 81287, Rise(2): 4275\n",
      "PyTorch data prepared - Train: torch.Size([67130, 10, 12]), Test: torch.Size([22377, 10, 12])\n"
     ]
    },
    {
     "name": "stderr",
     "output_type": "stream",
     "text": [
      "Grid Search Progress:  68%|██████▊   | 54/80 [3:05:47<2:08:23, 296.27s/it, Model=GRU, L=10, T=0.03]"
     ]
    },
    {
     "name": "stdout",
     "output_type": "stream",
     "text": [
      "Signal distribution - Decline(0): 2160, Sideways(1): 85199, Rise(2): 2157\n",
      "PyTorch data prepared - Train: torch.Size([67130, 10, 12]), Test: torch.Size([22377, 10, 12])\n"
     ]
    },
    {
     "name": "stderr",
     "output_type": "stream",
     "text": [
      "Grid Search Progress:  69%|██████▉   | 55/80 [3:10:32<2:02:05, 293.03s/it, Model=GRU, L=10, T=0.04]"
     ]
    },
    {
     "name": "stdout",
     "output_type": "stream",
     "text": [
      "Signal distribution - Decline(0): 1199, Sideways(1): 87171, Rise(2): 1146\n",
      "PyTorch data prepared - Train: torch.Size([67130, 10, 12]), Test: torch.Size([22377, 10, 12])\n"
     ]
    },
    {
     "name": "stderr",
     "output_type": "stream",
     "text": [
      "Grid Search Progress:  70%|███████   | 56/80 [3:15:19<1:56:27, 291.14s/it, Model=GRU, L=10, T=0.05]"
     ]
    },
    {
     "name": "stdout",
     "output_type": "stream",
     "text": [
      "Signal distribution - Decline(0): 8992, Sideways(1): 70526, Rise(2): 9996\n",
      "PyTorch data prepared - Train: torch.Size([67128, 10, 12]), Test: torch.Size([22377, 10, 12])\n"
     ]
    },
    {
     "name": "stderr",
     "output_type": "stream",
     "text": [
      "Grid Search Progress:  71%|███████▏  | 57/80 [3:20:06<1:51:05, 289.80s/it, Model=GRU, L=12, T=0.02]"
     ]
    },
    {
     "name": "stdout",
     "output_type": "stream",
     "text": [
      "Signal distribution - Decline(0): 4694, Sideways(1): 79665, Rise(2): 5155\n",
      "PyTorch data prepared - Train: torch.Size([67128, 10, 12]), Test: torch.Size([22377, 10, 12])\n"
     ]
    },
    {
     "name": "stderr",
     "output_type": "stream",
     "text": [
      "Grid Search Progress:  72%|███████▎  | 58/80 [3:24:53<1:46:00, 289.10s/it, Model=GRU, L=12, T=0.03]"
     ]
    },
    {
     "name": "stdout",
     "output_type": "stream",
     "text": [
      "Signal distribution - Decline(0): 2628, Sideways(1): 84160, Rise(2): 2726\n",
      "PyTorch data prepared - Train: torch.Size([67128, 10, 12]), Test: torch.Size([22377, 10, 12])\n"
     ]
    },
    {
     "name": "stderr",
     "output_type": "stream",
     "text": [
      "Grid Search Progress:  74%|███████▍  | 59/80 [3:29:42<1:41:11, 289.10s/it, Model=GRU, L=12, T=0.04]"
     ]
    },
    {
     "name": "stdout",
     "output_type": "stream",
     "text": [
      "Signal distribution - Decline(0): 1500, Sideways(1): 86499, Rise(2): 1515\n",
      "PyTorch data prepared - Train: torch.Size([67128, 10, 12]), Test: torch.Size([22377, 10, 12])\n"
     ]
    },
    {
     "name": "stderr",
     "output_type": "stream",
     "text": [
      "Grid Search Progress:  75%|███████▌  | 60/80 [3:34:31<1:36:18, 288.92s/it, Model=GRU, L=12, T=0.05]"
     ]
    },
    {
     "name": "stdout",
     "output_type": "stream",
     "text": [
      "Signal distribution - Decline(0): 2554, Sideways(1): 84365, Rise(2): 2604\n",
      "PyTorch data prepared - Train: torch.Size([67135, 10, 12]), Test: torch.Size([22379, 10, 12])\n"
     ]
    },
    {
     "name": "stderr",
     "output_type": "stream",
     "text": [
      "Grid Search Progress:  76%|███████▋  | 61/80 [3:38:03<1:24:10, 265.83s/it, Model=CNN, L=3, T=0.02] "
     ]
    },
    {
     "name": "stdout",
     "output_type": "stream",
     "text": [
      "Signal distribution - Decline(0): 990, Sideways(1): 87614, Rise(2): 919\n",
      "PyTorch data prepared - Train: torch.Size([67135, 10, 12]), Test: torch.Size([22379, 10, 12])\n"
     ]
    },
    {
     "name": "stderr",
     "output_type": "stream",
     "text": [
      "Grid Search Progress:  78%|███████▊  | 62/80 [3:41:36<1:14:59, 249.98s/it, Model=CNN, L=3, T=0.03]"
     ]
    },
    {
     "name": "stdout",
     "output_type": "stream",
     "text": [
      "Signal distribution - Decline(0): 419, Sideways(1): 88700, Rise(2): 404\n",
      "PyTorch data prepared - Train: torch.Size([67135, 10, 12]), Test: torch.Size([22379, 10, 12])\n"
     ]
    },
    {
     "name": "stderr",
     "output_type": "stream",
     "text": [
      "Grid Search Progress:  79%|███████▉  | 63/80 [3:45:09<1:07:41, 238.92s/it, Model=CNN, L=3, T=0.04]"
     ]
    },
    {
     "name": "stdout",
     "output_type": "stream",
     "text": [
      "Signal distribution - Decline(0): 200, Sideways(1): 89137, Rise(2): 186\n",
      "PyTorch data prepared - Train: torch.Size([67135, 10, 12]), Test: torch.Size([22379, 10, 12])\n"
     ]
    },
    {
     "name": "stderr",
     "output_type": "stream",
     "text": [
      "Grid Search Progress:  80%|████████  | 64/80 [3:48:43<1:01:43, 231.45s/it, Model=CNN, L=3, T=0.05]"
     ]
    },
    {
     "name": "stdout",
     "output_type": "stream",
     "text": [
      "Signal distribution - Decline(0): 4372, Sideways(1): 80656, Rise(2): 4493\n",
      "PyTorch data prepared - Train: torch.Size([67134, 10, 12]), Test: torch.Size([22378, 10, 12])\n"
     ]
    },
    {
     "name": "stderr",
     "output_type": "stream",
     "text": [
      "Grid Search Progress:  81%|████████▏ | 65/80 [3:52:17<56:32, 226.19s/it, Model=CNN, L=5, T=0.02]  "
     ]
    },
    {
     "name": "stdout",
     "output_type": "stream",
     "text": [
      "Signal distribution - Decline(0): 1888, Sideways(1): 85740, Rise(2): 1893\n",
      "PyTorch data prepared - Train: torch.Size([67134, 10, 12]), Test: torch.Size([22378, 10, 12])\n"
     ]
    },
    {
     "name": "stderr",
     "output_type": "stream",
     "text": [
      "Grid Search Progress:  82%|████████▎ | 66/80 [3:55:52<51:59, 222.83s/it, Model=CNN, L=5, T=0.03]"
     ]
    },
    {
     "name": "stdout",
     "output_type": "stream",
     "text": [
      "Signal distribution - Decline(0): 853, Sideways(1): 87811, Rise(2): 857\n",
      "PyTorch data prepared - Train: torch.Size([67134, 10, 12]), Test: torch.Size([22378, 10, 12])\n"
     ]
    },
    {
     "name": "stderr",
     "output_type": "stream",
     "text": [
      "Grid Search Progress:  84%|████████▍ | 67/80 [3:59:27<47:47, 220.56s/it, Model=CNN, L=5, T=0.04]"
     ]
    },
    {
     "name": "stdout",
     "output_type": "stream",
     "text": [
      "Signal distribution - Decline(0): 453, Sideways(1): 88665, Rise(2): 403\n",
      "PyTorch data prepared - Train: torch.Size([67134, 10, 12]), Test: torch.Size([22378, 10, 12])\n"
     ]
    },
    {
     "name": "stderr",
     "output_type": "stream",
     "text": [
      "Grid Search Progress:  85%|████████▌ | 68/80 [4:03:02<43:47, 218.93s/it, Model=CNN, L=5, T=0.05]"
     ]
    },
    {
     "name": "stdout",
     "output_type": "stream",
     "text": [
      "Signal distribution - Decline(0): 6584, Sideways(1): 75873, Rise(2): 7061\n",
      "PyTorch data prepared - Train: torch.Size([67131, 10, 12]), Test: torch.Size([22378, 10, 12])\n"
     ]
    },
    {
     "name": "stderr",
     "output_type": "stream",
     "text": [
      "Grid Search Progress:  86%|████████▋ | 69/80 [4:06:38<39:57, 217.95s/it, Model=CNN, L=8, T=0.02]"
     ]
    },
    {
     "name": "stdout",
     "output_type": "stream",
     "text": [
      "Signal distribution - Decline(0): 3141, Sideways(1): 83112, Rise(2): 3265\n",
      "PyTorch data prepared - Train: torch.Size([67131, 10, 12]), Test: torch.Size([22378, 10, 12])\n"
     ]
    },
    {
     "name": "stderr",
     "output_type": "stream",
     "text": [
      "Grid Search Progress:  88%|████████▊ | 70/80 [4:10:15<36:16, 217.62s/it, Model=CNN, L=8, T=0.03]"
     ]
    },
    {
     "name": "stdout",
     "output_type": "stream",
     "text": [
      "Signal distribution - Decline(0): 1642, Sideways(1): 86240, Rise(2): 1636\n",
      "PyTorch data prepared - Train: torch.Size([67131, 10, 12]), Test: torch.Size([22378, 10, 12])\n"
     ]
    },
    {
     "name": "stderr",
     "output_type": "stream",
     "text": [
      "Grid Search Progress:  89%|████████▉ | 71/80 [4:13:51<32:34, 217.22s/it, Model=CNN, L=8, T=0.04]"
     ]
    },
    {
     "name": "stdout",
     "output_type": "stream",
     "text": [
      "Signal distribution - Decline(0): 894, Sideways(1): 87784, Rise(2): 840\n",
      "PyTorch data prepared - Train: torch.Size([67131, 10, 12]), Test: torch.Size([22378, 10, 12])\n"
     ]
    },
    {
     "name": "stderr",
     "output_type": "stream",
     "text": [
      "Grid Search Progress:  90%|█████████ | 72/80 [4:17:27<28:53, 216.74s/it, Model=CNN, L=8, T=0.05]"
     ]
    },
    {
     "name": "stdout",
     "output_type": "stream",
     "text": [
      "Signal distribution - Decline(0): 7876, Sideways(1): 73062, Rise(2): 8578\n",
      "PyTorch data prepared - Train: torch.Size([67130, 10, 12]), Test: torch.Size([22377, 10, 12])\n"
     ]
    },
    {
     "name": "stderr",
     "output_type": "stream",
     "text": [
      "Grid Search Progress:  91%|█████████▏| 73/80 [4:21:02<25:13, 216.16s/it, Model=CNN, L=10, T=0.02]"
     ]
    },
    {
     "name": "stdout",
     "output_type": "stream",
     "text": [
      "Signal distribution - Decline(0): 3954, Sideways(1): 81287, Rise(2): 4275\n",
      "PyTorch data prepared - Train: torch.Size([67130, 10, 12]), Test: torch.Size([22377, 10, 12])\n"
     ]
    },
    {
     "name": "stderr",
     "output_type": "stream",
     "text": [
      "Grid Search Progress:  92%|█████████▎| 74/80 [4:24:38<21:38, 216.41s/it, Model=CNN, L=10, T=0.03]"
     ]
    },
    {
     "name": "stdout",
     "output_type": "stream",
     "text": [
      "Signal distribution - Decline(0): 2160, Sideways(1): 85199, Rise(2): 2157\n",
      "PyTorch data prepared - Train: torch.Size([67130, 10, 12]), Test: torch.Size([22377, 10, 12])\n"
     ]
    },
    {
     "name": "stderr",
     "output_type": "stream",
     "text": [
      "Grid Search Progress:  94%|█████████▍| 75/80 [4:28:23<18:14, 218.81s/it, Model=CNN, L=10, T=0.04]"
     ]
    },
    {
     "name": "stdout",
     "output_type": "stream",
     "text": [
      "Signal distribution - Decline(0): 1199, Sideways(1): 87171, Rise(2): 1146\n",
      "PyTorch data prepared - Train: torch.Size([67130, 10, 12]), Test: torch.Size([22377, 10, 12])\n"
     ]
    },
    {
     "name": "stderr",
     "output_type": "stream",
     "text": [
      "Grid Search Progress:  95%|█████████▌| 76/80 [4:32:06<14:40, 220.15s/it, Model=CNN, L=10, T=0.05]"
     ]
    },
    {
     "name": "stdout",
     "output_type": "stream",
     "text": [
      "Signal distribution - Decline(0): 8992, Sideways(1): 70526, Rise(2): 9996\n",
      "PyTorch data prepared - Train: torch.Size([67128, 10, 12]), Test: torch.Size([22377, 10, 12])\n"
     ]
    },
    {
     "name": "stderr",
     "output_type": "stream",
     "text": [
      "Grid Search Progress:  96%|█████████▋| 77/80 [4:35:53<11:06, 222.24s/it, Model=CNN, L=12, T=0.02]"
     ]
    },
    {
     "name": "stdout",
     "output_type": "stream",
     "text": [
      "Signal distribution - Decline(0): 4694, Sideways(1): 79665, Rise(2): 5155\n",
      "PyTorch data prepared - Train: torch.Size([67128, 10, 12]), Test: torch.Size([22377, 10, 12])\n"
     ]
    },
    {
     "name": "stderr",
     "output_type": "stream",
     "text": [
      "Grid Search Progress:  98%|█████████▊| 78/80 [4:39:40<07:27, 223.66s/it, Model=CNN, L=12, T=0.03]"
     ]
    },
    {
     "name": "stdout",
     "output_type": "stream",
     "text": [
      "Signal distribution - Decline(0): 2628, Sideways(1): 84160, Rise(2): 2726\n",
      "PyTorch data prepared - Train: torch.Size([67128, 10, 12]), Test: torch.Size([22377, 10, 12])\n"
     ]
    },
    {
     "name": "stderr",
     "output_type": "stream",
     "text": [
      "Grid Search Progress:  99%|█████████▉| 79/80 [4:43:24<03:43, 223.74s/it, Model=CNN, L=12, T=0.04]"
     ]
    },
    {
     "name": "stdout",
     "output_type": "stream",
     "text": [
      "Signal distribution - Decline(0): 1500, Sideways(1): 86499, Rise(2): 1515\n",
      "PyTorch data prepared - Train: torch.Size([67128, 10, 12]), Test: torch.Size([22377, 10, 12])\n"
     ]
    },
    {
     "name": "stderr",
     "output_type": "stream",
     "text": [
      "Grid Search Progress: 100%|██████████| 80/80 [4:47:06<00:00, 215.33s/it, Model=CNN, L=12, T=0.05]"
     ]
    },
    {
     "name": "stdout",
     "output_type": "stream",
     "text": [
      "\n",
      "Results saved to: ../../results/eth_results_30m_3class.csv\n",
      "\n",
      "======================================================================\n",
      "COMPLETE EXPERIMENTAL RESULTS\n",
      "======================================================================\n",
      "      model  lookahead  threshold  accuracy  loss_count  loss_mean  \\\n",
      "0   XGBoost          3       0.02    0.9424          20     0.0244   \n",
      "1   XGBoost          3       0.03    0.9788           4     0.0134   \n",
      "2   XGBoost          3       0.04    0.9907           3     0.0409   \n",
      "3   XGBoost          3       0.05    0.9958           2     0.0592   \n",
      "4   XGBoost          5       0.02    0.9027          27     0.0259   \n",
      "..      ...        ...        ...       ...         ...        ...   \n",
      "75      CNN         10       0.05    0.9844           0     0.0000   \n",
      "76      CNN         12       0.02    0.8155          33     0.0398   \n",
      "77      CNN         12       0.03    0.9171          24     0.0392   \n",
      "78      CNN         12       0.04    0.9593           3     0.0247   \n",
      "79      CNN         12       0.05    0.9789           2     0.0241   \n",
      "\n",
      "    transaction  \n",
      "0            66  \n",
      "1            17  \n",
      "2            10  \n",
      "3             6  \n",
      "4           133  \n",
      "..          ...  \n",
      "75            3  \n",
      "76           73  \n",
      "77           47  \n",
      "78            3  \n",
      "79            7  \n",
      "\n",
      "[80 rows x 7 columns]\n",
      "\n",
      "======================================================================\n",
      "BEST PERFORMANCE BY MODEL TYPE\n",
      "======================================================================\n",
      "      model  lookahead  threshold  accuracy  loss_count  loss_mean\n",
      "63      CNN          3       0.05    0.9980           0     0.0000\n",
      "43      GRU          3       0.05    0.9980           0     0.0000\n",
      "23     LSTM          3       0.05    0.9980           0     0.0000\n",
      "3   XGBoost          3       0.05    0.9958           2     0.0592\n",
      "\n",
      "======================================================================\n",
      "OVERALL CHAMPION CONFIGURATION\n",
      "======================================================================\n",
      "Best Model: LSTM\n",
      "Optimal Lookahead: 3 days\n",
      "Optimal Threshold: 0.050\n",
      "Peak Accuracy: 0.9980 (99.80%)\n",
      "Loss Events: 0\n",
      "Average Loss: 0.000000\n",
      "\n",
      "==================================================\n",
      "SUMMARY\n",
      "==================================================\n",
      "Total experiments: 80\n",
      "Best accuracy: 0.9980\n",
      "Average accuracy: 0.9459\n",
      "\n",
      "Best configuration:\n",
      "Model: LSTM, Lookahead: 3, Threshold: 0.05\n"
     ]
    },
    {
     "name": "stderr",
     "output_type": "stream",
     "text": [
      "\n"
     ]
    }
   ],
   "source": [
    "\"\"\"\n",
    "Price Movement Prediction - Main Execution Script\n",
    "\"\"\"\n",
    "\n",
    "import pandas as pd\n",
    "import torch\n",
    "import warnings\n",
    "warnings.filterwarnings('ignore')\n",
    "\n",
    "from experiment_runner import ExperimentRunner\n",
    "\n",
    "def eth_30m():\n",
    "    \"\"\"Main execution function\"\"\"\n",
    "    \n",
    "    # ============= CONFIGURATION =============\n",
    "    # Tùy chỉnh các tham số tại đây\n",
    "    \n",
    "    DATA_PATH = r'F:\\up_git\\official_predict\\data\\eth_30m.csv'  # Đường dẫn file data\n",
    "    \n",
    "    # Tạo thư mục results ở cấp trên 2 cấp nếu chưa có\n",
    "    import os\n",
    "    results_dir = os.path.join('..', '..', 'results')\n",
    "    os.makedirs(results_dir, exist_ok=True)\n",
    "    \n",
    "    OUTPUT_FILENAME = '../../results/eth_results_30m_3class.csv'  # Lưu vào thư mục results cấp trên 2\n",
    "    \n",
    "    # Parameters\n",
    "    LOOKAHEAD_VALUES = [3, 5, 8, 10,12]  # Số ngày dự đoán\n",
    "    THRESHOLD_VALUES = [0.02, 0.03, 0.04, 0.05]  # Ngưỡng phân loại\n",
    "    \n",
    "    MODEL_TYPES = ['XGBoost', 'LSTM', 'GRU', 'CNN']  # Các model cần test\n",
    "    SEQUENCE_LENGTH = 10  # Độ dài chuỗi cho deep learning\n",
    "    \n",
    "    # ============= CHẠY THÍ NGHIỆM =============\n",
    "    \n",
    "    print(f\"Using device: {torch.device('cuda' if torch.cuda.is_available() else 'cpu')}\")\n",
    "    \n",
    "    runner = ExperimentRunner(\n",
    "        data_path=DATA_PATH,\n",
    "        output_filename=OUTPUT_FILENAME,\n",
    "        sequence_length=SEQUENCE_LENGTH,\n",
    "        verbose=False\n",
    "    )\n",
    "    \n",
    "    results = runner.run_grid_search(\n",
    "        lookahead_values=LOOKAHEAD_VALUES,\n",
    "        threshold_values=THRESHOLD_VALUES,\n",
    "        model_types=MODEL_TYPES\n",
    "    )\n",
    "    \n",
    "    # ============= HIỂN THỊ KẾT QUẢ =============\n",
    "    \n",
    "    if results is not None and not results.empty:\n",
    "        runner.display_results(results)\n",
    "        \n",
    "        # Thống kê tóm tắt\n",
    "        print(f\"\\n{'='*50}\")\n",
    "        print(\"SUMMARY\")\n",
    "        print(f\"{'='*50}\")\n",
    "        print(f\"Total experiments: {len(results)}\")\n",
    "        print(f\"Best accuracy: {results['accuracy'].max():.4f}\")\n",
    "        print(f\"Average accuracy: {results['accuracy'].mean():.4f}\")\n",
    "        \n",
    "        # Kết quả tốt nhất\n",
    "        best = results.loc[results['accuracy'].idxmax()]\n",
    "        print(f\"\\nBest configuration:\")\n",
    "        print(f\"Model: {best['model']}, Lookahead: {best['lookahead']}, Threshold: {best['threshold']}\")\n",
    "        \n",
    "    else:\n",
    "        print(\"No results generated.\")\n",
    "\n",
    "eth_30m()"
   ]
  }
 ],
 "metadata": {
  "kernelspec": {
   "display_name": "For_pytorch",
   "language": "python",
   "name": "python3"
  },
  "language_info": {
   "codemirror_mode": {
    "name": "ipython",
    "version": 3
   },
   "file_extension": ".py",
   "mimetype": "text/x-python",
   "name": "python",
   "nbconvert_exporter": "python",
   "pygments_lexer": "ipython3",
   "version": "3.12.9"
  }
 },
 "nbformat": 4,
 "nbformat_minor": 5
}
