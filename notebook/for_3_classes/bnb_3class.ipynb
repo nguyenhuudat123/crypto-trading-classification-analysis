{
 "cells": [
  {
   "cell_type": "code",
   "execution_count": 1,
   "id": "4ac16408",
   "metadata": {},
   "outputs": [
    {
     "name": "stdout",
     "output_type": "stream",
     "text": [
      "Using device: cuda\n",
      "Using device: cuda\n",
      "Loading and preparing Bitcoin data...\n",
      "Successfully loaded data from: F:\\up_git\\official_predict\\data\\bnb_1d.csv\n",
      "Data shape: (1867, 6)\n",
      "Technical indicators added successfully\n",
      "Features normalized successfully\n",
      "Final dataset shape: (1839, 18)\n",
      "Starting grid search with 80 experiments...\n",
      "Lookahead values: [3, 5, 8, 10, 12]\n",
      "Threshold values: [0.02, 0.03, 0.04, 0.05]\n",
      "Model types: ['XGBoost', 'LSTM', 'GRU', 'CNN']\n"
     ]
    },
    {
     "name": "stderr",
     "output_type": "stream",
     "text": [
      "Grid Search Progress:   0%|          | 0/80 [00:00<?, ?it/s]"
     ]
    },
    {
     "name": "stdout",
     "output_type": "stream",
     "text": [
      "Signal distribution - Decline(0): 526, Sideways(1): 668, Rise(2): 642\n"
     ]
    },
    {
     "name": "stderr",
     "output_type": "stream",
     "text": [
      "Grid Search Progress:   1%|▏         | 1/80 [00:00<00:23,  3.40it/s, Model=XGBoost, L=3, T=0.03]"
     ]
    },
    {
     "name": "stdout",
     "output_type": "stream",
     "text": [
      "Signal distribution - Decline(0): 407, Sideways(1): 907, Rise(2): 522\n"
     ]
    },
    {
     "name": "stderr",
     "output_type": "stream",
     "text": [
      "Grid Search Progress:   2%|▎         | 2/80 [00:00<00:17,  4.40it/s, Model=XGBoost, L=3, T=0.03]"
     ]
    },
    {
     "name": "stdout",
     "output_type": "stream",
     "text": [
      "Signal distribution - Decline(0): 324, Sideways(1): 1085, Rise(2): 427\n"
     ]
    },
    {
     "name": "stderr",
     "output_type": "stream",
     "text": [
      "Grid Search Progress:   4%|▍         | 3/80 [00:00<00:17,  4.42it/s, Model=XGBoost, L=3, T=0.05]"
     ]
    },
    {
     "name": "stdout",
     "output_type": "stream",
     "text": [
      "Signal distribution - Decline(0): 254, Sideways(1): 1248, Rise(2): 334\n"
     ]
    },
    {
     "name": "stderr",
     "output_type": "stream",
     "text": [
      "Grid Search Progress:   5%|▌         | 4/80 [00:00<00:16,  4.67it/s, Model=XGBoost, L=3, T=0.05]"
     ]
    },
    {
     "name": "stdout",
     "output_type": "stream",
     "text": [
      "Signal distribution - Decline(0): 584, Sideways(1): 524, Rise(2): 726\n"
     ]
    },
    {
     "name": "stderr",
     "output_type": "stream",
     "text": [
      "Grid Search Progress:   6%|▋         | 5/80 [00:01<00:16,  4.54it/s, Model=XGBoost, L=5, T=0.02]"
     ]
    },
    {
     "name": "stdout",
     "output_type": "stream",
     "text": [
      "Signal distribution - Decline(0): 470, Sideways(1): 733, Rise(2): 631\n"
     ]
    },
    {
     "name": "stderr",
     "output_type": "stream",
     "text": [
      "Grid Search Progress:   8%|▊         | 6/80 [00:01<00:15,  4.66it/s, Model=XGBoost, L=5, T=0.03]"
     ]
    },
    {
     "name": "stdout",
     "output_type": "stream",
     "text": [
      "Signal distribution - Decline(0): 370, Sideways(1): 916, Rise(2): 548\n"
     ]
    },
    {
     "name": "stderr",
     "output_type": "stream",
     "text": [
      "Grid Search Progress:  10%|█         | 8/80 [00:01<00:15,  4.77it/s, Model=XGBoost, L=5, T=0.05]"
     ]
    },
    {
     "name": "stdout",
     "output_type": "stream",
     "text": [
      "Signal distribution - Decline(0): 316, Sideways(1): 1052, Rise(2): 466\n",
      "Signal distribution - Decline(0): 634, Sideways(1): 413, Rise(2): 784\n"
     ]
    },
    {
     "name": "stderr",
     "output_type": "stream",
     "text": [
      "Grid Search Progress:  11%|█▏        | 9/80 [00:02<00:14,  4.73it/s, Model=XGBoost, L=8, T=0.03]"
     ]
    },
    {
     "name": "stdout",
     "output_type": "stream",
     "text": [
      "Signal distribution - Decline(0): 530, Sideways(1): 590, Rise(2): 711\n"
     ]
    },
    {
     "name": "stderr",
     "output_type": "stream",
     "text": [
      "Grid Search Progress:  12%|█▎        | 10/80 [00:02<00:14,  4.84it/s, Model=XGBoost, L=8, T=0.04]"
     ]
    },
    {
     "name": "stdout",
     "output_type": "stream",
     "text": [
      "Signal distribution - Decline(0): 447, Sideways(1): 742, Rise(2): 642\n"
     ]
    },
    {
     "name": "stderr",
     "output_type": "stream",
     "text": [
      "Grid Search Progress:  14%|█▍        | 11/80 [00:02<00:14,  4.83it/s, Model=XGBoost, L=8, T=0.05]"
     ]
    },
    {
     "name": "stdout",
     "output_type": "stream",
     "text": [
      "Signal distribution - Decline(0): 371, Sideways(1): 886, Rise(2): 574\n"
     ]
    },
    {
     "name": "stderr",
     "output_type": "stream",
     "text": [
      "Grid Search Progress:  15%|█▌        | 12/80 [00:02<00:13,  5.01it/s, Model=XGBoost, L=10, T=0.02]"
     ]
    },
    {
     "name": "stdout",
     "output_type": "stream",
     "text": [
      "Signal distribution - Decline(0): 639, Sideways(1): 355, Rise(2): 835\n"
     ]
    },
    {
     "name": "stderr",
     "output_type": "stream",
     "text": [
      "Grid Search Progress:  18%|█▊        | 14/80 [00:02<00:12,  5.11it/s, Model=XGBoost, L=10, T=0.03]"
     ]
    },
    {
     "name": "stdout",
     "output_type": "stream",
     "text": [
      "Signal distribution - Decline(0): 560, Sideways(1): 512, Rise(2): 757\n",
      "Signal distribution - Decline(0): 477, Sideways(1): 671, Rise(2): 681\n"
     ]
    },
    {
     "name": "stderr",
     "output_type": "stream",
     "text": [
      "Grid Search Progress:  19%|█▉        | 15/80 [00:03<00:13,  4.95it/s, Model=XGBoost, L=10, T=0.04]"
     ]
    },
    {
     "name": "stdout",
     "output_type": "stream",
     "text": [
      "Signal distribution - Decline(0): 406, Sideways(1): 803, Rise(2): 620\n"
     ]
    },
    {
     "name": "stderr",
     "output_type": "stream",
     "text": [
      "Grid Search Progress:  20%|██        | 16/80 [00:03<00:13,  4.78it/s, Model=XGBoost, L=10, T=0.05]"
     ]
    },
    {
     "name": "stdout",
     "output_type": "stream",
     "text": [
      "Signal distribution - Decline(0): 644, Sideways(1): 344, Rise(2): 839\n"
     ]
    },
    {
     "name": "stderr",
     "output_type": "stream",
     "text": [
      "Grid Search Progress:  21%|██▏       | 17/80 [00:03<00:14,  4.43it/s, Model=XGBoost, L=12, T=0.02]"
     ]
    },
    {
     "name": "stdout",
     "output_type": "stream",
     "text": [
      "Signal distribution - Decline(0): 578, Sideways(1): 475, Rise(2): 774\n"
     ]
    },
    {
     "name": "stderr",
     "output_type": "stream",
     "text": [
      "Grid Search Progress:  22%|██▎       | 18/80 [00:03<00:13,  4.44it/s, Model=XGBoost, L=12, T=0.03]"
     ]
    },
    {
     "name": "stdout",
     "output_type": "stream",
     "text": [
      "Signal distribution - Decline(0): 498, Sideways(1): 614, Rise(2): 715\n"
     ]
    },
    {
     "name": "stderr",
     "output_type": "stream",
     "text": [
      "Grid Search Progress:  24%|██▍       | 19/80 [00:04<00:14,  4.27it/s, Model=XGBoost, L=12, T=0.05]"
     ]
    },
    {
     "name": "stdout",
     "output_type": "stream",
     "text": [
      "Signal distribution - Decline(0): 444, Sideways(1): 732, Rise(2): 651\n"
     ]
    },
    {
     "name": "stderr",
     "output_type": "stream",
     "text": [
      "Grid Search Progress:  25%|██▌       | 20/80 [00:04<00:13,  4.54it/s, Model=XGBoost, L=12, T=0.05]"
     ]
    },
    {
     "name": "stdout",
     "output_type": "stream",
     "text": [
      "Signal distribution - Decline(0): 526, Sideways(1): 668, Rise(2): 642\n",
      "PyTorch data prepared - Train: torch.Size([1370, 10, 12]), Test: torch.Size([457, 10, 12])\n"
     ]
    },
    {
     "name": "stderr",
     "output_type": "stream",
     "text": [
      "Grid Search Progress:  26%|██▋       | 21/80 [00:09<01:47,  1.83s/it, Model=LSTM, L=3, T=0.02]    "
     ]
    },
    {
     "name": "stdout",
     "output_type": "stream",
     "text": [
      "Signal distribution - Decline(0): 407, Sideways(1): 907, Rise(2): 522\n",
      "PyTorch data prepared - Train: torch.Size([1370, 10, 12]), Test: torch.Size([457, 10, 12])\n"
     ]
    },
    {
     "name": "stderr",
     "output_type": "stream",
     "text": [
      "Grid Search Progress:  28%|██▊       | 22/80 [00:14<02:32,  2.62s/it, Model=LSTM, L=3, T=0.03]"
     ]
    },
    {
     "name": "stdout",
     "output_type": "stream",
     "text": [
      "Signal distribution - Decline(0): 324, Sideways(1): 1085, Rise(2): 427\n",
      "PyTorch data prepared - Train: torch.Size([1370, 10, 12]), Test: torch.Size([457, 10, 12])\n"
     ]
    },
    {
     "name": "stderr",
     "output_type": "stream",
     "text": [
      "Grid Search Progress:  29%|██▉       | 23/80 [00:18<03:00,  3.17s/it, Model=LSTM, L=3, T=0.04]"
     ]
    },
    {
     "name": "stdout",
     "output_type": "stream",
     "text": [
      "Signal distribution - Decline(0): 254, Sideways(1): 1248, Rise(2): 334\n",
      "PyTorch data prepared - Train: torch.Size([1370, 10, 12]), Test: torch.Size([457, 10, 12])\n"
     ]
    },
    {
     "name": "stderr",
     "output_type": "stream",
     "text": [
      "Grid Search Progress:  30%|███       | 24/80 [00:23<03:16,  3.50s/it, Model=LSTM, L=3, T=0.05]"
     ]
    },
    {
     "name": "stdout",
     "output_type": "stream",
     "text": [
      "Signal distribution - Decline(0): 584, Sideways(1): 524, Rise(2): 726\n",
      "PyTorch data prepared - Train: torch.Size([1368, 10, 12]), Test: torch.Size([457, 10, 12])\n"
     ]
    },
    {
     "name": "stderr",
     "output_type": "stream",
     "text": [
      "Grid Search Progress:  31%|███▏      | 25/80 [00:27<03:25,  3.73s/it, Model=LSTM, L=5, T=0.02]"
     ]
    },
    {
     "name": "stdout",
     "output_type": "stream",
     "text": [
      "Signal distribution - Decline(0): 470, Sideways(1): 733, Rise(2): 631\n",
      "PyTorch data prepared - Train: torch.Size([1368, 10, 12]), Test: torch.Size([457, 10, 12])\n"
     ]
    },
    {
     "name": "stderr",
     "output_type": "stream",
     "text": [
      "Grid Search Progress:  32%|███▎      | 26/80 [00:31<03:31,  3.92s/it, Model=LSTM, L=5, T=0.03]"
     ]
    },
    {
     "name": "stdout",
     "output_type": "stream",
     "text": [
      "Signal distribution - Decline(0): 370, Sideways(1): 916, Rise(2): 548\n",
      "PyTorch data prepared - Train: torch.Size([1368, 10, 12]), Test: torch.Size([457, 10, 12])\n"
     ]
    },
    {
     "name": "stderr",
     "output_type": "stream",
     "text": [
      "Grid Search Progress:  34%|███▍      | 27/80 [00:36<03:40,  4.17s/it, Model=LSTM, L=5, T=0.04]"
     ]
    },
    {
     "name": "stdout",
     "output_type": "stream",
     "text": [
      "Signal distribution - Decline(0): 316, Sideways(1): 1052, Rise(2): 466\n",
      "PyTorch data prepared - Train: torch.Size([1368, 10, 12]), Test: torch.Size([457, 10, 12])\n"
     ]
    },
    {
     "name": "stderr",
     "output_type": "stream",
     "text": [
      "Grid Search Progress:  35%|███▌      | 28/80 [00:40<03:42,  4.28s/it, Model=LSTM, L=5, T=0.05]"
     ]
    },
    {
     "name": "stdout",
     "output_type": "stream",
     "text": [
      "Signal distribution - Decline(0): 634, Sideways(1): 413, Rise(2): 784\n",
      "PyTorch data prepared - Train: torch.Size([1366, 10, 12]), Test: torch.Size([456, 10, 12])\n"
     ]
    },
    {
     "name": "stderr",
     "output_type": "stream",
     "text": [
      "Grid Search Progress:  36%|███▋      | 29/80 [00:45<03:42,  4.36s/it, Model=LSTM, L=8, T=0.02]"
     ]
    },
    {
     "name": "stdout",
     "output_type": "stream",
     "text": [
      "Signal distribution - Decline(0): 530, Sideways(1): 590, Rise(2): 711\n",
      "PyTorch data prepared - Train: torch.Size([1366, 10, 12]), Test: torch.Size([456, 10, 12])\n"
     ]
    },
    {
     "name": "stderr",
     "output_type": "stream",
     "text": [
      "Grid Search Progress:  38%|███▊      | 30/80 [00:49<03:35,  4.31s/it, Model=LSTM, L=8, T=0.03]"
     ]
    },
    {
     "name": "stdout",
     "output_type": "stream",
     "text": [
      "Signal distribution - Decline(0): 447, Sideways(1): 742, Rise(2): 642\n",
      "PyTorch data prepared - Train: torch.Size([1366, 10, 12]), Test: torch.Size([456, 10, 12])\n"
     ]
    },
    {
     "name": "stderr",
     "output_type": "stream",
     "text": [
      "Grid Search Progress:  39%|███▉      | 31/80 [00:53<03:29,  4.28s/it, Model=LSTM, L=8, T=0.04]"
     ]
    },
    {
     "name": "stdout",
     "output_type": "stream",
     "text": [
      "Signal distribution - Decline(0): 371, Sideways(1): 886, Rise(2): 574\n",
      "PyTorch data prepared - Train: torch.Size([1366, 10, 12]), Test: torch.Size([456, 10, 12])\n"
     ]
    },
    {
     "name": "stderr",
     "output_type": "stream",
     "text": [
      "Grid Search Progress:  40%|████      | 32/80 [00:57<03:19,  4.15s/it, Model=LSTM, L=8, T=0.05]"
     ]
    },
    {
     "name": "stdout",
     "output_type": "stream",
     "text": [
      "Signal distribution - Decline(0): 639, Sideways(1): 355, Rise(2): 835\n",
      "PyTorch data prepared - Train: torch.Size([1365, 10, 12]), Test: torch.Size([455, 10, 12])\n"
     ]
    },
    {
     "name": "stderr",
     "output_type": "stream",
     "text": [
      "Grid Search Progress:  41%|████▏     | 33/80 [01:01<03:11,  4.08s/it, Model=LSTM, L=10, T=0.02]"
     ]
    },
    {
     "name": "stdout",
     "output_type": "stream",
     "text": [
      "Signal distribution - Decline(0): 560, Sideways(1): 512, Rise(2): 757\n",
      "PyTorch data prepared - Train: torch.Size([1365, 10, 12]), Test: torch.Size([455, 10, 12])\n"
     ]
    },
    {
     "name": "stderr",
     "output_type": "stream",
     "text": [
      "Grid Search Progress:  42%|████▎     | 34/80 [01:05<03:05,  4.03s/it, Model=LSTM, L=10, T=0.03]"
     ]
    },
    {
     "name": "stdout",
     "output_type": "stream",
     "text": [
      "Signal distribution - Decline(0): 477, Sideways(1): 671, Rise(2): 681\n",
      "PyTorch data prepared - Train: torch.Size([1365, 10, 12]), Test: torch.Size([455, 10, 12])\n"
     ]
    },
    {
     "name": "stderr",
     "output_type": "stream",
     "text": [
      "Grid Search Progress:  44%|████▍     | 35/80 [01:09<03:01,  4.03s/it, Model=LSTM, L=10, T=0.04]"
     ]
    },
    {
     "name": "stdout",
     "output_type": "stream",
     "text": [
      "Signal distribution - Decline(0): 406, Sideways(1): 803, Rise(2): 620\n",
      "PyTorch data prepared - Train: torch.Size([1365, 10, 12]), Test: torch.Size([455, 10, 12])\n"
     ]
    },
    {
     "name": "stderr",
     "output_type": "stream",
     "text": [
      "Grid Search Progress:  45%|████▌     | 36/80 [01:14<03:03,  4.16s/it, Model=LSTM, L=10, T=0.05]"
     ]
    },
    {
     "name": "stdout",
     "output_type": "stream",
     "text": [
      "Signal distribution - Decline(0): 644, Sideways(1): 344, Rise(2): 839\n",
      "PyTorch data prepared - Train: torch.Size([1363, 10, 12]), Test: torch.Size([455, 10, 12])\n"
     ]
    },
    {
     "name": "stderr",
     "output_type": "stream",
     "text": [
      "Grid Search Progress:  46%|████▋     | 37/80 [01:18<03:05,  4.31s/it, Model=LSTM, L=12, T=0.02]"
     ]
    },
    {
     "name": "stdout",
     "output_type": "stream",
     "text": [
      "Signal distribution - Decline(0): 578, Sideways(1): 475, Rise(2): 774\n",
      "PyTorch data prepared - Train: torch.Size([1363, 10, 12]), Test: torch.Size([455, 10, 12])\n"
     ]
    },
    {
     "name": "stderr",
     "output_type": "stream",
     "text": [
      "Grid Search Progress:  48%|████▊     | 38/80 [01:23<03:10,  4.53s/it, Model=LSTM, L=12, T=0.03]"
     ]
    },
    {
     "name": "stdout",
     "output_type": "stream",
     "text": [
      "Signal distribution - Decline(0): 498, Sideways(1): 614, Rise(2): 715\n",
      "PyTorch data prepared - Train: torch.Size([1363, 10, 12]), Test: torch.Size([455, 10, 12])\n"
     ]
    },
    {
     "name": "stderr",
     "output_type": "stream",
     "text": [
      "Grid Search Progress:  49%|████▉     | 39/80 [01:28<03:04,  4.50s/it, Model=LSTM, L=12, T=0.04]"
     ]
    },
    {
     "name": "stdout",
     "output_type": "stream",
     "text": [
      "Signal distribution - Decline(0): 444, Sideways(1): 732, Rise(2): 651\n",
      "PyTorch data prepared - Train: torch.Size([1363, 10, 12]), Test: torch.Size([455, 10, 12])\n"
     ]
    },
    {
     "name": "stderr",
     "output_type": "stream",
     "text": [
      "Grid Search Progress:  50%|█████     | 40/80 [01:32<03:02,  4.56s/it, Model=LSTM, L=12, T=0.05]"
     ]
    },
    {
     "name": "stdout",
     "output_type": "stream",
     "text": [
      "Signal distribution - Decline(0): 526, Sideways(1): 668, Rise(2): 642\n",
      "PyTorch data prepared - Train: torch.Size([1370, 10, 12]), Test: torch.Size([457, 10, 12])\n"
     ]
    },
    {
     "name": "stderr",
     "output_type": "stream",
     "text": [
      "Grid Search Progress:  51%|█████▏    | 41/80 [01:37<02:56,  4.53s/it, Model=GRU, L=3, T=0.02]  "
     ]
    },
    {
     "name": "stdout",
     "output_type": "stream",
     "text": [
      "Signal distribution - Decline(0): 407, Sideways(1): 907, Rise(2): 522\n",
      "PyTorch data prepared - Train: torch.Size([1370, 10, 12]), Test: torch.Size([457, 10, 12])\n"
     ]
    },
    {
     "name": "stderr",
     "output_type": "stream",
     "text": [
      "Grid Search Progress:  52%|█████▎    | 42/80 [01:42<03:02,  4.81s/it, Model=GRU, L=3, T=0.03]"
     ]
    },
    {
     "name": "stdout",
     "output_type": "stream",
     "text": [
      "Signal distribution - Decline(0): 324, Sideways(1): 1085, Rise(2): 427\n",
      "PyTorch data prepared - Train: torch.Size([1370, 10, 12]), Test: torch.Size([457, 10, 12])\n"
     ]
    },
    {
     "name": "stderr",
     "output_type": "stream",
     "text": [
      "Grid Search Progress:  54%|█████▍    | 43/80 [01:47<02:58,  4.84s/it, Model=GRU, L=3, T=0.04]"
     ]
    },
    {
     "name": "stdout",
     "output_type": "stream",
     "text": [
      "Signal distribution - Decline(0): 254, Sideways(1): 1248, Rise(2): 334\n",
      "PyTorch data prepared - Train: torch.Size([1370, 10, 12]), Test: torch.Size([457, 10, 12])\n"
     ]
    },
    {
     "name": "stderr",
     "output_type": "stream",
     "text": [
      "Grid Search Progress:  55%|█████▌    | 44/80 [01:52<02:47,  4.66s/it, Model=GRU, L=3, T=0.05]"
     ]
    },
    {
     "name": "stdout",
     "output_type": "stream",
     "text": [
      "Signal distribution - Decline(0): 584, Sideways(1): 524, Rise(2): 726\n",
      "PyTorch data prepared - Train: torch.Size([1368, 10, 12]), Test: torch.Size([457, 10, 12])\n"
     ]
    },
    {
     "name": "stderr",
     "output_type": "stream",
     "text": [
      "Grid Search Progress:  56%|█████▋    | 45/80 [01:56<02:37,  4.51s/it, Model=GRU, L=5, T=0.02]"
     ]
    },
    {
     "name": "stdout",
     "output_type": "stream",
     "text": [
      "Signal distribution - Decline(0): 470, Sideways(1): 733, Rise(2): 631\n",
      "PyTorch data prepared - Train: torch.Size([1368, 10, 12]), Test: torch.Size([457, 10, 12])\n"
     ]
    },
    {
     "name": "stderr",
     "output_type": "stream",
     "text": [
      "Grid Search Progress:  57%|█████▊    | 46/80 [02:00<02:29,  4.41s/it, Model=GRU, L=5, T=0.03]"
     ]
    },
    {
     "name": "stdout",
     "output_type": "stream",
     "text": [
      "Signal distribution - Decline(0): 370, Sideways(1): 916, Rise(2): 548\n",
      "PyTorch data prepared - Train: torch.Size([1368, 10, 12]), Test: torch.Size([457, 10, 12])\n"
     ]
    },
    {
     "name": "stderr",
     "output_type": "stream",
     "text": [
      "Grid Search Progress:  59%|█████▉    | 47/80 [02:04<02:25,  4.40s/it, Model=GRU, L=5, T=0.04]"
     ]
    },
    {
     "name": "stdout",
     "output_type": "stream",
     "text": [
      "Signal distribution - Decline(0): 316, Sideways(1): 1052, Rise(2): 466\n",
      "PyTorch data prepared - Train: torch.Size([1368, 10, 12]), Test: torch.Size([457, 10, 12])\n"
     ]
    },
    {
     "name": "stderr",
     "output_type": "stream",
     "text": [
      "Grid Search Progress:  60%|██████    | 48/80 [02:09<02:21,  4.44s/it, Model=GRU, L=5, T=0.05]"
     ]
    },
    {
     "name": "stdout",
     "output_type": "stream",
     "text": [
      "Signal distribution - Decline(0): 634, Sideways(1): 413, Rise(2): 784\n",
      "PyTorch data prepared - Train: torch.Size([1366, 10, 12]), Test: torch.Size([456, 10, 12])\n"
     ]
    },
    {
     "name": "stderr",
     "output_type": "stream",
     "text": [
      "Grid Search Progress:  61%|██████▏   | 49/80 [02:13<02:11,  4.23s/it, Model=GRU, L=8, T=0.02]"
     ]
    },
    {
     "name": "stdout",
     "output_type": "stream",
     "text": [
      "Signal distribution - Decline(0): 530, Sideways(1): 590, Rise(2): 711\n",
      "PyTorch data prepared - Train: torch.Size([1366, 10, 12]), Test: torch.Size([456, 10, 12])\n"
     ]
    },
    {
     "name": "stderr",
     "output_type": "stream",
     "text": [
      "Grid Search Progress:  62%|██████▎   | 50/80 [02:16<02:03,  4.11s/it, Model=GRU, L=8, T=0.03]"
     ]
    },
    {
     "name": "stdout",
     "output_type": "stream",
     "text": [
      "Signal distribution - Decline(0): 447, Sideways(1): 742, Rise(2): 642\n",
      "PyTorch data prepared - Train: torch.Size([1366, 10, 12]), Test: torch.Size([456, 10, 12])\n"
     ]
    },
    {
     "name": "stderr",
     "output_type": "stream",
     "text": [
      "Grid Search Progress:  64%|██████▍   | 51/80 [02:20<01:57,  4.06s/it, Model=GRU, L=8, T=0.04]"
     ]
    },
    {
     "name": "stdout",
     "output_type": "stream",
     "text": [
      "Signal distribution - Decline(0): 371, Sideways(1): 886, Rise(2): 574\n",
      "PyTorch data prepared - Train: torch.Size([1366, 10, 12]), Test: torch.Size([456, 10, 12])\n"
     ]
    },
    {
     "name": "stderr",
     "output_type": "stream",
     "text": [
      "Grid Search Progress:  65%|██████▌   | 52/80 [02:24<01:51,  3.98s/it, Model=GRU, L=8, T=0.05]"
     ]
    },
    {
     "name": "stdout",
     "output_type": "stream",
     "text": [
      "Signal distribution - Decline(0): 639, Sideways(1): 355, Rise(2): 835\n",
      "PyTorch data prepared - Train: torch.Size([1365, 10, 12]), Test: torch.Size([455, 10, 12])\n"
     ]
    },
    {
     "name": "stderr",
     "output_type": "stream",
     "text": [
      "Grid Search Progress:  66%|██████▋   | 53/80 [02:28<01:45,  3.90s/it, Model=GRU, L=10, T=0.02]"
     ]
    },
    {
     "name": "stdout",
     "output_type": "stream",
     "text": [
      "Signal distribution - Decline(0): 560, Sideways(1): 512, Rise(2): 757\n",
      "PyTorch data prepared - Train: torch.Size([1365, 10, 12]), Test: torch.Size([455, 10, 12])\n"
     ]
    },
    {
     "name": "stderr",
     "output_type": "stream",
     "text": [
      "Grid Search Progress:  68%|██████▊   | 54/80 [02:32<01:40,  3.86s/it, Model=GRU, L=10, T=0.03]"
     ]
    },
    {
     "name": "stdout",
     "output_type": "stream",
     "text": [
      "Signal distribution - Decline(0): 477, Sideways(1): 671, Rise(2): 681\n",
      "PyTorch data prepared - Train: torch.Size([1365, 10, 12]), Test: torch.Size([455, 10, 12])\n"
     ]
    },
    {
     "name": "stderr",
     "output_type": "stream",
     "text": [
      "Grid Search Progress:  69%|██████▉   | 55/80 [02:36<01:39,  3.97s/it, Model=GRU, L=10, T=0.04]"
     ]
    },
    {
     "name": "stdout",
     "output_type": "stream",
     "text": [
      "Signal distribution - Decline(0): 406, Sideways(1): 803, Rise(2): 620\n",
      "PyTorch data prepared - Train: torch.Size([1365, 10, 12]), Test: torch.Size([455, 10, 12])\n"
     ]
    },
    {
     "name": "stderr",
     "output_type": "stream",
     "text": [
      "Grid Search Progress:  70%|███████   | 56/80 [02:40<01:34,  3.93s/it, Model=GRU, L=10, T=0.05]"
     ]
    },
    {
     "name": "stdout",
     "output_type": "stream",
     "text": [
      "Signal distribution - Decline(0): 644, Sideways(1): 344, Rise(2): 839\n",
      "PyTorch data prepared - Train: torch.Size([1363, 10, 12]), Test: torch.Size([455, 10, 12])\n"
     ]
    },
    {
     "name": "stderr",
     "output_type": "stream",
     "text": [
      "Grid Search Progress:  71%|███████▏  | 57/80 [02:43<01:29,  3.89s/it, Model=GRU, L=12, T=0.02]"
     ]
    },
    {
     "name": "stdout",
     "output_type": "stream",
     "text": [
      "Signal distribution - Decline(0): 578, Sideways(1): 475, Rise(2): 774\n",
      "PyTorch data prepared - Train: torch.Size([1363, 10, 12]), Test: torch.Size([455, 10, 12])\n"
     ]
    },
    {
     "name": "stderr",
     "output_type": "stream",
     "text": [
      "Grid Search Progress:  72%|███████▎  | 58/80 [02:47<01:24,  3.82s/it, Model=GRU, L=12, T=0.03]"
     ]
    },
    {
     "name": "stdout",
     "output_type": "stream",
     "text": [
      "Signal distribution - Decline(0): 498, Sideways(1): 614, Rise(2): 715\n",
      "PyTorch data prepared - Train: torch.Size([1363, 10, 12]), Test: torch.Size([455, 10, 12])\n"
     ]
    },
    {
     "name": "stderr",
     "output_type": "stream",
     "text": [
      "Grid Search Progress:  74%|███████▍  | 59/80 [02:51<01:18,  3.76s/it, Model=GRU, L=12, T=0.04]"
     ]
    },
    {
     "name": "stdout",
     "output_type": "stream",
     "text": [
      "Signal distribution - Decline(0): 444, Sideways(1): 732, Rise(2): 651\n",
      "PyTorch data prepared - Train: torch.Size([1363, 10, 12]), Test: torch.Size([455, 10, 12])\n"
     ]
    },
    {
     "name": "stderr",
     "output_type": "stream",
     "text": [
      "Grid Search Progress:  75%|███████▌  | 60/80 [02:54<01:14,  3.72s/it, Model=GRU, L=12, T=0.05]"
     ]
    },
    {
     "name": "stdout",
     "output_type": "stream",
     "text": [
      "Signal distribution - Decline(0): 526, Sideways(1): 668, Rise(2): 642\n",
      "PyTorch data prepared - Train: torch.Size([1370, 10, 12]), Test: torch.Size([457, 10, 12])\n"
     ]
    },
    {
     "name": "stderr",
     "output_type": "stream",
     "text": [
      "Grid Search Progress:  76%|███████▋  | 61/80 [02:57<01:07,  3.54s/it, Model=CNN, L=3, T=0.02] "
     ]
    },
    {
     "name": "stdout",
     "output_type": "stream",
     "text": [
      "Signal distribution - Decline(0): 407, Sideways(1): 907, Rise(2): 522\n",
      "PyTorch data prepared - Train: torch.Size([1370, 10, 12]), Test: torch.Size([457, 10, 12])\n"
     ]
    },
    {
     "name": "stderr",
     "output_type": "stream",
     "text": [
      "Grid Search Progress:  78%|███████▊  | 62/80 [03:01<01:03,  3.55s/it, Model=CNN, L=3, T=0.03]"
     ]
    },
    {
     "name": "stdout",
     "output_type": "stream",
     "text": [
      "Signal distribution - Decline(0): 324, Sideways(1): 1085, Rise(2): 427\n",
      "PyTorch data prepared - Train: torch.Size([1370, 10, 12]), Test: torch.Size([457, 10, 12])\n"
     ]
    },
    {
     "name": "stderr",
     "output_type": "stream",
     "text": [
      "Grid Search Progress:  79%|███████▉  | 63/80 [03:05<01:03,  3.71s/it, Model=CNN, L=3, T=0.04]"
     ]
    },
    {
     "name": "stdout",
     "output_type": "stream",
     "text": [
      "Signal distribution - Decline(0): 254, Sideways(1): 1248, Rise(2): 334\n",
      "PyTorch data prepared - Train: torch.Size([1370, 10, 12]), Test: torch.Size([457, 10, 12])\n"
     ]
    },
    {
     "name": "stderr",
     "output_type": "stream",
     "text": [
      "Grid Search Progress:  80%|████████  | 64/80 [03:09<00:59,  3.69s/it, Model=CNN, L=3, T=0.05]"
     ]
    },
    {
     "name": "stdout",
     "output_type": "stream",
     "text": [
      "Signal distribution - Decline(0): 584, Sideways(1): 524, Rise(2): 726\n",
      "PyTorch data prepared - Train: torch.Size([1368, 10, 12]), Test: torch.Size([457, 10, 12])\n"
     ]
    },
    {
     "name": "stderr",
     "output_type": "stream",
     "text": [
      "Grid Search Progress:  81%|████████▏ | 65/80 [03:12<00:55,  3.70s/it, Model=CNN, L=5, T=0.02]"
     ]
    },
    {
     "name": "stdout",
     "output_type": "stream",
     "text": [
      "Signal distribution - Decline(0): 470, Sideways(1): 733, Rise(2): 631\n",
      "PyTorch data prepared - Train: torch.Size([1368, 10, 12]), Test: torch.Size([457, 10, 12])\n"
     ]
    },
    {
     "name": "stderr",
     "output_type": "stream",
     "text": [
      "Grid Search Progress:  82%|████████▎ | 66/80 [03:16<00:51,  3.70s/it, Model=CNN, L=5, T=0.03]"
     ]
    },
    {
     "name": "stdout",
     "output_type": "stream",
     "text": [
      "Signal distribution - Decline(0): 370, Sideways(1): 916, Rise(2): 548\n",
      "PyTorch data prepared - Train: torch.Size([1368, 10, 12]), Test: torch.Size([457, 10, 12])\n"
     ]
    },
    {
     "name": "stderr",
     "output_type": "stream",
     "text": [
      "Grid Search Progress:  84%|████████▍ | 67/80 [03:20<00:49,  3.77s/it, Model=CNN, L=5, T=0.04]"
     ]
    },
    {
     "name": "stdout",
     "output_type": "stream",
     "text": [
      "Signal distribution - Decline(0): 316, Sideways(1): 1052, Rise(2): 466\n",
      "PyTorch data prepared - Train: torch.Size([1368, 10, 12]), Test: torch.Size([457, 10, 12])\n"
     ]
    },
    {
     "name": "stderr",
     "output_type": "stream",
     "text": [
      "Grid Search Progress:  85%|████████▌ | 68/80 [03:24<00:45,  3.78s/it, Model=CNN, L=5, T=0.05]"
     ]
    },
    {
     "name": "stdout",
     "output_type": "stream",
     "text": [
      "Signal distribution - Decline(0): 634, Sideways(1): 413, Rise(2): 784\n",
      "PyTorch data prepared - Train: torch.Size([1366, 10, 12]), Test: torch.Size([456, 10, 12])\n"
     ]
    },
    {
     "name": "stderr",
     "output_type": "stream",
     "text": [
      "Grid Search Progress:  86%|████████▋ | 69/80 [03:28<00:42,  3.84s/it, Model=CNN, L=8, T=0.02]"
     ]
    },
    {
     "name": "stdout",
     "output_type": "stream",
     "text": [
      "Signal distribution - Decline(0): 530, Sideways(1): 590, Rise(2): 711\n",
      "PyTorch data prepared - Train: torch.Size([1366, 10, 12]), Test: torch.Size([456, 10, 12])\n"
     ]
    },
    {
     "name": "stderr",
     "output_type": "stream",
     "text": [
      "Grid Search Progress:  88%|████████▊ | 70/80 [03:32<00:38,  3.88s/it, Model=CNN, L=8, T=0.03]"
     ]
    },
    {
     "name": "stdout",
     "output_type": "stream",
     "text": [
      "Signal distribution - Decline(0): 447, Sideways(1): 742, Rise(2): 642\n",
      "PyTorch data prepared - Train: torch.Size([1366, 10, 12]), Test: torch.Size([456, 10, 12])\n"
     ]
    },
    {
     "name": "stderr",
     "output_type": "stream",
     "text": [
      "Grid Search Progress:  89%|████████▉ | 71/80 [03:36<00:35,  3.96s/it, Model=CNN, L=8, T=0.04]"
     ]
    },
    {
     "name": "stdout",
     "output_type": "stream",
     "text": [
      "Signal distribution - Decline(0): 371, Sideways(1): 886, Rise(2): 574\n",
      "PyTorch data prepared - Train: torch.Size([1366, 10, 12]), Test: torch.Size([456, 10, 12])\n"
     ]
    },
    {
     "name": "stderr",
     "output_type": "stream",
     "text": [
      "Grid Search Progress:  90%|█████████ | 72/80 [03:41<00:34,  4.33s/it, Model=CNN, L=8, T=0.05]"
     ]
    },
    {
     "name": "stdout",
     "output_type": "stream",
     "text": [
      "Signal distribution - Decline(0): 639, Sideways(1): 355, Rise(2): 835\n",
      "PyTorch data prepared - Train: torch.Size([1365, 10, 12]), Test: torch.Size([455, 10, 12])\n"
     ]
    },
    {
     "name": "stderr",
     "output_type": "stream",
     "text": [
      "Grid Search Progress:  91%|█████████▏| 73/80 [03:45<00:29,  4.28s/it, Model=CNN, L=10, T=0.02]"
     ]
    },
    {
     "name": "stdout",
     "output_type": "stream",
     "text": [
      "Signal distribution - Decline(0): 560, Sideways(1): 512, Rise(2): 757\n",
      "PyTorch data prepared - Train: torch.Size([1365, 10, 12]), Test: torch.Size([455, 10, 12])\n"
     ]
    },
    {
     "name": "stderr",
     "output_type": "stream",
     "text": [
      "Grid Search Progress:  92%|█████████▎| 74/80 [03:49<00:24,  4.15s/it, Model=CNN, L=10, T=0.03]"
     ]
    },
    {
     "name": "stdout",
     "output_type": "stream",
     "text": [
      "Signal distribution - Decline(0): 477, Sideways(1): 671, Rise(2): 681\n",
      "PyTorch data prepared - Train: torch.Size([1365, 10, 12]), Test: torch.Size([455, 10, 12])\n"
     ]
    },
    {
     "name": "stderr",
     "output_type": "stream",
     "text": [
      "Grid Search Progress:  94%|█████████▍| 75/80 [03:53<00:20,  4.03s/it, Model=CNN, L=10, T=0.04]"
     ]
    },
    {
     "name": "stdout",
     "output_type": "stream",
     "text": [
      "Signal distribution - Decline(0): 406, Sideways(1): 803, Rise(2): 620\n",
      "PyTorch data prepared - Train: torch.Size([1365, 10, 12]), Test: torch.Size([455, 10, 12])\n"
     ]
    },
    {
     "name": "stderr",
     "output_type": "stream",
     "text": [
      "Grid Search Progress:  95%|█████████▌| 76/80 [03:57<00:16,  4.07s/it, Model=CNN, L=10, T=0.05]"
     ]
    },
    {
     "name": "stdout",
     "output_type": "stream",
     "text": [
      "Signal distribution - Decline(0): 644, Sideways(1): 344, Rise(2): 839\n",
      "PyTorch data prepared - Train: torch.Size([1363, 10, 12]), Test: torch.Size([455, 10, 12])\n"
     ]
    },
    {
     "name": "stderr",
     "output_type": "stream",
     "text": [
      "Grid Search Progress:  96%|█████████▋| 77/80 [04:02<00:12,  4.25s/it, Model=CNN, L=12, T=0.02]"
     ]
    },
    {
     "name": "stdout",
     "output_type": "stream",
     "text": [
      "Signal distribution - Decline(0): 578, Sideways(1): 475, Rise(2): 774\n",
      "PyTorch data prepared - Train: torch.Size([1363, 10, 12]), Test: torch.Size([455, 10, 12])\n"
     ]
    },
    {
     "name": "stderr",
     "output_type": "stream",
     "text": [
      "Grid Search Progress:  98%|█████████▊| 78/80 [04:06<00:08,  4.31s/it, Model=CNN, L=12, T=0.03]"
     ]
    },
    {
     "name": "stdout",
     "output_type": "stream",
     "text": [
      "Signal distribution - Decline(0): 498, Sideways(1): 614, Rise(2): 715\n",
      "PyTorch data prepared - Train: torch.Size([1363, 10, 12]), Test: torch.Size([455, 10, 12])\n"
     ]
    },
    {
     "name": "stderr",
     "output_type": "stream",
     "text": [
      "Grid Search Progress:  99%|█████████▉| 79/80 [04:10<00:04,  4.15s/it, Model=CNN, L=12, T=0.04]"
     ]
    },
    {
     "name": "stdout",
     "output_type": "stream",
     "text": [
      "Signal distribution - Decline(0): 444, Sideways(1): 732, Rise(2): 651\n",
      "PyTorch data prepared - Train: torch.Size([1363, 10, 12]), Test: torch.Size([455, 10, 12])\n"
     ]
    },
    {
     "name": "stderr",
     "output_type": "stream",
     "text": [
      "Grid Search Progress: 100%|██████████| 80/80 [04:13<00:00,  3.17s/it, Model=CNN, L=12, T=0.05]"
     ]
    },
    {
     "name": "stdout",
     "output_type": "stream",
     "text": [
      "\n",
      "Results saved to: ../../results/bnb_results_1d_3class.csv\n",
      "\n",
      "======================================================================\n",
      "COMPLETE EXPERIMENTAL RESULTS\n",
      "======================================================================\n",
      "      model  lookahead  threshold  accuracy  loss_count  loss_mean  \\\n",
      "0   XGBoost          3       0.02    0.5577          79     0.0447   \n",
      "1   XGBoost          3       0.03    0.6013          28     0.0373   \n",
      "2   XGBoost          3       0.04    0.6209          29     0.0499   \n",
      "3   XGBoost          3       0.05    0.7124          20     0.0745   \n",
      "4   XGBoost          5       0.02    0.6209          75     0.0380   \n",
      "..      ...        ...        ...       ...         ...        ...   \n",
      "75      CNN         10       0.05    0.4022          99     0.0519   \n",
      "76      CNN         12       0.02    0.3824         238     0.0600   \n",
      "77      CNN         12       0.03    0.3253         221     0.0580   \n",
      "78      CNN         12       0.04    0.3385         161     0.0622   \n",
      "79      CNN         12       0.05    0.3934          75     0.0533   \n",
      "\n",
      "    transaction  \n",
      "0           278  \n",
      "1           142  \n",
      "2           122  \n",
      "3            81  \n",
      "4           326  \n",
      "..          ...  \n",
      "75          177  \n",
      "76          444  \n",
      "77          406  \n",
      "78          266  \n",
      "79          121  \n",
      "\n",
      "[80 rows x 7 columns]\n",
      "\n",
      "======================================================================\n",
      "BEST PERFORMANCE BY MODEL TYPE\n",
      "======================================================================\n",
      "      model  lookahead  threshold  accuracy  loss_count  loss_mean\n",
      "63      CNN          3       0.05    0.7812           2     0.0173\n",
      "43      GRU          3       0.05    0.7877           0     0.0000\n",
      "23     LSTM          3       0.05    0.7615          11     0.0331\n",
      "16  XGBoost         12       0.02    0.7790          41     0.0405\n",
      "\n",
      "======================================================================\n",
      "OVERALL CHAMPION CONFIGURATION\n",
      "======================================================================\n",
      "Best Model: GRU\n",
      "Optimal Lookahead: 3 days\n",
      "Optimal Threshold: 0.050\n",
      "Peak Accuracy: 0.7877 (78.77%)\n",
      "Loss Events: 0\n",
      "Average Loss: 0.000000\n",
      "\n",
      "==================================================\n",
      "SUMMARY\n",
      "==================================================\n",
      "Total experiments: 80\n",
      "Best accuracy: 0.7877\n",
      "Average accuracy: 0.4921\n",
      "\n",
      "Best configuration:\n",
      "Model: GRU, Lookahead: 3, Threshold: 0.05\n"
     ]
    },
    {
     "name": "stderr",
     "output_type": "stream",
     "text": [
      "\n"
     ]
    }
   ],
   "source": [
    "\"\"\"\n",
    "Price Movement Prediction - Main Execution Script\n",
    "\"\"\"\n",
    "\n",
    "import pandas as pd\n",
    "import torch\n",
    "import warnings\n",
    "warnings.filterwarnings('ignore')\n",
    "\n",
    "from experiment_runner import ExperimentRunner\n",
    "\n",
    "def bnb_1d():\n",
    "    \"\"\"Main execution function\"\"\"\n",
    "    \n",
    "    # ============= CONFIGURATION =============\n",
    "    # Tùy chỉnh các tham số tại đây\n",
    "    \n",
    "    DATA_PATH = r'F:\\up_git\\official_predict\\data\\bnb_1d.csv'  # Đường dẫn file data\n",
    "    \n",
    "    # Tạo thư mục results ở cấp trên 2 cấp nếu chưa có\n",
    "    import os\n",
    "    results_dir = os.path.join('..', '..', 'results')\n",
    "    os.makedirs(results_dir, exist_ok=True)\n",
    "    \n",
    "    OUTPUT_FILENAME = '../../results/bnb_results_1d_3class.csv'  # Lưu vào thư mục results cấp trên 2\n",
    "    \n",
    "    # Parameters\n",
    "    LOOKAHEAD_VALUES = [3, 5, 8, 10,12]  # Số ngày dự đoán\n",
    "    THRESHOLD_VALUES = [0.02, 0.03, 0.04, 0.05]  # Ngưỡng phân loại\n",
    "    \n",
    "    MODEL_TYPES = ['XGBoost', 'LSTM', 'GRU', 'CNN']  # Các model cần test\n",
    "    SEQUENCE_LENGTH = 10  # Độ dài chuỗi cho deep learning\n",
    "    \n",
    "    # ============= CHẠY THÍ NGHIỆM =============\n",
    "    \n",
    "    print(f\"Using device: {torch.device('cuda' if torch.cuda.is_available() else 'cpu')}\")\n",
    "    \n",
    "    runner = ExperimentRunner(\n",
    "        data_path=DATA_PATH,\n",
    "        output_filename=OUTPUT_FILENAME,\n",
    "        sequence_length=SEQUENCE_LENGTH,\n",
    "        verbose=False\n",
    "    )\n",
    "    \n",
    "    results = runner.run_grid_search(\n",
    "        lookahead_values=LOOKAHEAD_VALUES,\n",
    "        threshold_values=THRESHOLD_VALUES,\n",
    "        model_types=MODEL_TYPES\n",
    "    )\n",
    "    \n",
    "    # ============= HIỂN THỊ KẾT QUẢ =============\n",
    "    \n",
    "    if results is not None and not results.empty:\n",
    "        runner.display_results(results)\n",
    "        \n",
    "        # Thống kê tóm tắt\n",
    "        print(f\"\\n{'='*50}\")\n",
    "        print(\"SUMMARY\")\n",
    "        print(f\"{'='*50}\")\n",
    "        print(f\"Total experiments: {len(results)}\")\n",
    "        print(f\"Best accuracy: {results['accuracy'].max():.4f}\")\n",
    "        print(f\"Average accuracy: {results['accuracy'].mean():.4f}\")\n",
    "        \n",
    "        # Kết quả tốt nhất\n",
    "        best = results.loc[results['accuracy'].idxmax()]\n",
    "        print(f\"\\nBest configuration:\")\n",
    "        print(f\"Model: {best['model']}, Lookahead: {best['lookahead']}, Threshold: {best['threshold']}\")\n",
    "        \n",
    "    else:\n",
    "        print(\"No results generated.\")\n",
    "\n",
    "bnb_1d()"
   ]
  },
  {
   "cell_type": "code",
   "execution_count": 2,
   "id": "c9d1242b",
   "metadata": {},
   "outputs": [
    {
     "name": "stdout",
     "output_type": "stream",
     "text": [
      "Using device: cuda\n",
      "Using device: cuda\n",
      "Loading and preparing Bitcoin data...\n",
      "Successfully loaded data from: F:\\up_git\\official_predict\\data\\bnb_4h.csv\n",
      "Data shape: (11201, 6)\n",
      "Technical indicators added successfully\n",
      "Features normalized successfully\n",
      "Final dataset shape: (11173, 18)\n",
      "Starting grid search with 80 experiments...\n",
      "Lookahead values: [3, 5, 8, 10, 12]\n",
      "Threshold values: [0.005, 0.01, 0.02, 0.025]\n",
      "Model types: ['XGBoost', 'LSTM', 'GRU', 'CNN']\n"
     ]
    },
    {
     "name": "stderr",
     "output_type": "stream",
     "text": [
      "Grid Search Progress:   0%|          | 0/80 [00:00<?, ?it/s]"
     ]
    },
    {
     "name": "stdout",
     "output_type": "stream",
     "text": [
      "Signal distribution - Decline(0): 3962, Sideways(1): 2890, Rise(2): 4318\n"
     ]
    },
    {
     "name": "stderr",
     "output_type": "stream",
     "text": [
      "Grid Search Progress:   1%|▏         | 1/80 [00:00<00:32,  2.41it/s, Model=XGBoost, L=3, T=0.01]"
     ]
    },
    {
     "name": "stdout",
     "output_type": "stream",
     "text": [
      "Signal distribution - Decline(0): 2833, Sideways(1): 5149, Rise(2): 3188\n"
     ]
    },
    {
     "name": "stderr",
     "output_type": "stream",
     "text": [
      "Grid Search Progress:   2%|▎         | 2/80 [00:00<00:32,  2.39it/s, Model=XGBoost, L=3, T=0.01]"
     ]
    },
    {
     "name": "stdout",
     "output_type": "stream",
     "text": [
      "Signal distribution - Decline(0): 1555, Sideways(1): 7829, Rise(2): 1786\n"
     ]
    },
    {
     "name": "stderr",
     "output_type": "stream",
     "text": [
      "Grid Search Progress:   4%|▍         | 3/80 [00:01<00:30,  2.49it/s, Model=XGBoost, L=3, T=0.02]"
     ]
    },
    {
     "name": "stdout",
     "output_type": "stream",
     "text": [
      "Signal distribution - Decline(0): 1183, Sideways(1): 8598, Rise(2): 1389\n"
     ]
    },
    {
     "name": "stderr",
     "output_type": "stream",
     "text": [
      "Grid Search Progress:   5%|▌         | 4/80 [00:01<00:30,  2.49it/s, Model=XGBoost, L=3, T=0.03]"
     ]
    },
    {
     "name": "stdout",
     "output_type": "stream",
     "text": [
      "Signal distribution - Decline(0): 4213, Sideways(1): 2294, Rise(2): 4661\n"
     ]
    },
    {
     "name": "stderr",
     "output_type": "stream",
     "text": [
      "Grid Search Progress:   6%|▋         | 5/80 [00:01<00:29,  2.56it/s, Model=XGBoost, L=5, T=0.01]"
     ]
    },
    {
     "name": "stdout",
     "output_type": "stream",
     "text": [
      "Signal distribution - Decline(0): 3311, Sideways(1): 4162, Rise(2): 3695\n"
     ]
    },
    {
     "name": "stderr",
     "output_type": "stream",
     "text": [
      "Grid Search Progress:   8%|▊         | 6/80 [00:02<00:28,  2.59it/s, Model=XGBoost, L=5, T=0.01]"
     ]
    },
    {
     "name": "stdout",
     "output_type": "stream",
     "text": [
      "Signal distribution - Decline(0): 2037, Sideways(1): 6740, Rise(2): 2391\n"
     ]
    },
    {
     "name": "stderr",
     "output_type": "stream",
     "text": [
      "Grid Search Progress:   9%|▉         | 7/80 [00:02<00:27,  2.64it/s, Model=XGBoost, L=5, T=0.02]"
     ]
    },
    {
     "name": "stdout",
     "output_type": "stream",
     "text": [
      "Signal distribution - Decline(0): 1632, Sideways(1): 7571, Rise(2): 1965\n"
     ]
    },
    {
     "name": "stderr",
     "output_type": "stream",
     "text": [
      "Grid Search Progress:  10%|█         | 8/80 [00:03<00:26,  2.69it/s, Model=XGBoost, L=5, T=0.03]"
     ]
    },
    {
     "name": "stdout",
     "output_type": "stream",
     "text": [
      "Signal distribution - Decline(0): 4332, Sideways(1): 1911, Rise(2): 4922\n"
     ]
    },
    {
     "name": "stderr",
     "output_type": "stream",
     "text": [
      "Grid Search Progress:  11%|█▏        | 9/80 [00:03<00:26,  2.66it/s, Model=XGBoost, L=8, T=0.01]"
     ]
    },
    {
     "name": "stdout",
     "output_type": "stream",
     "text": [
      "Signal distribution - Decline(0): 3574, Sideways(1): 3475, Rise(2): 4116\n"
     ]
    },
    {
     "name": "stderr",
     "output_type": "stream",
     "text": [
      "Grid Search Progress:  12%|█▎        | 10/80 [00:03<00:26,  2.60it/s, Model=XGBoost, L=8, T=0.01]"
     ]
    },
    {
     "name": "stdout",
     "output_type": "stream",
     "text": [
      "Signal distribution - Decline(0): 2412, Sideways(1): 5859, Rise(2): 2894\n"
     ]
    },
    {
     "name": "stderr",
     "output_type": "stream",
     "text": [
      "Grid Search Progress:  14%|█▍        | 11/80 [00:04<00:26,  2.57it/s, Model=XGBoost, L=8, T=0.02]"
     ]
    },
    {
     "name": "stdout",
     "output_type": "stream",
     "text": [
      "Signal distribution - Decline(0): 2037, Sideways(1): 6648, Rise(2): 2480\n"
     ]
    },
    {
     "name": "stderr",
     "output_type": "stream",
     "text": [
      "Grid Search Progress:  15%|█▌        | 12/80 [00:04<00:25,  2.63it/s, Model=XGBoost, L=8, T=0.03]"
     ]
    },
    {
     "name": "stdout",
     "output_type": "stream",
     "text": [
      "Signal distribution - Decline(0): 4463, Sideways(1): 1639, Rise(2): 5061\n"
     ]
    },
    {
     "name": "stderr",
     "output_type": "stream",
     "text": [
      "Grid Search Progress:  16%|█▋        | 13/80 [00:04<00:25,  2.68it/s, Model=XGBoost, L=10, T=0.01]"
     ]
    },
    {
     "name": "stdout",
     "output_type": "stream",
     "text": [
      "Signal distribution - Decline(0): 3762, Sideways(1): 3080, Rise(2): 4321\n"
     ]
    },
    {
     "name": "stderr",
     "output_type": "stream",
     "text": [
      "Grid Search Progress:  18%|█▊        | 14/80 [00:05<00:24,  2.73it/s, Model=XGBoost, L=10, T=0.01]"
     ]
    },
    {
     "name": "stdout",
     "output_type": "stream",
     "text": [
      "Signal distribution - Decline(0): 2668, Sideways(1): 5349, Rise(2): 3146\n"
     ]
    },
    {
     "name": "stderr",
     "output_type": "stream",
     "text": [
      "Grid Search Progress:  19%|█▉        | 15/80 [00:05<00:23,  2.76it/s, Model=XGBoost, L=10, T=0.02]"
     ]
    },
    {
     "name": "stdout",
     "output_type": "stream",
     "text": [
      "Signal distribution - Decline(0): 2261, Sideways(1): 6177, Rise(2): 2725\n"
     ]
    },
    {
     "name": "stderr",
     "output_type": "stream",
     "text": [
      "Grid Search Progress:  20%|██        | 16/80 [00:06<00:22,  2.80it/s, Model=XGBoost, L=10, T=0.03]"
     ]
    },
    {
     "name": "stdout",
     "output_type": "stream",
     "text": [
      "Signal distribution - Decline(0): 4553, Sideways(1): 1420, Rise(2): 5188\n"
     ]
    },
    {
     "name": "stderr",
     "output_type": "stream",
     "text": [
      "Grid Search Progress:  21%|██▏       | 17/80 [00:06<00:22,  2.79it/s, Model=XGBoost, L=12, T=0.01]"
     ]
    },
    {
     "name": "stdout",
     "output_type": "stream",
     "text": [
      "Signal distribution - Decline(0): 3876, Sideways(1): 2826, Rise(2): 4459\n"
     ]
    },
    {
     "name": "stderr",
     "output_type": "stream",
     "text": [
      "Grid Search Progress:  22%|██▎       | 18/80 [00:06<00:22,  2.79it/s, Model=XGBoost, L=12, T=0.01]"
     ]
    },
    {
     "name": "stdout",
     "output_type": "stream",
     "text": [
      "Signal distribution - Decline(0): 2831, Sideways(1): 4964, Rise(2): 3366\n"
     ]
    },
    {
     "name": "stderr",
     "output_type": "stream",
     "text": [
      "Grid Search Progress:  24%|██▍       | 19/80 [00:07<00:21,  2.83it/s, Model=XGBoost, L=12, T=0.02]"
     ]
    },
    {
     "name": "stdout",
     "output_type": "stream",
     "text": [
      "Signal distribution - Decline(0): 2399, Sideways(1): 5801, Rise(2): 2961\n"
     ]
    },
    {
     "name": "stderr",
     "output_type": "stream",
     "text": [
      "Grid Search Progress:  25%|██▌       | 20/80 [00:07<00:21,  2.83it/s, Model=XGBoost, L=12, T=0.03]"
     ]
    },
    {
     "name": "stdout",
     "output_type": "stream",
     "text": [
      "Signal distribution - Decline(0): 3962, Sideways(1): 2890, Rise(2): 4318\n",
      "PyTorch data prepared - Train: torch.Size([8370, 10, 12]), Test: torch.Size([2791, 10, 12])\n"
     ]
    },
    {
     "name": "stderr",
     "output_type": "stream",
     "text": [
      "Grid Search Progress:  26%|██▋       | 21/80 [00:31<07:17,  7.42s/it, Model=LSTM, L=3, T=0.01]    "
     ]
    },
    {
     "name": "stdout",
     "output_type": "stream",
     "text": [
      "Signal distribution - Decline(0): 2833, Sideways(1): 5149, Rise(2): 3188\n",
      "PyTorch data prepared - Train: torch.Size([8370, 10, 12]), Test: torch.Size([2791, 10, 12])\n"
     ]
    },
    {
     "name": "stderr",
     "output_type": "stream",
     "text": [
      "Grid Search Progress:  28%|██▊       | 22/80 [00:57<12:42, 13.14s/it, Model=LSTM, L=3, T=0.01]"
     ]
    },
    {
     "name": "stdout",
     "output_type": "stream",
     "text": [
      "Signal distribution - Decline(0): 1555, Sideways(1): 7829, Rise(2): 1786\n",
      "PyTorch data prepared - Train: torch.Size([8370, 10, 12]), Test: torch.Size([2791, 10, 12])\n"
     ]
    },
    {
     "name": "stderr",
     "output_type": "stream",
     "text": [
      "Grid Search Progress:  29%|██▉       | 23/80 [01:28<17:30, 18.43s/it, Model=LSTM, L=3, T=0.02]"
     ]
    },
    {
     "name": "stdout",
     "output_type": "stream",
     "text": [
      "Signal distribution - Decline(0): 1183, Sideways(1): 8598, Rise(2): 1389\n",
      "PyTorch data prepared - Train: torch.Size([8370, 10, 12]), Test: torch.Size([2791, 10, 12])\n"
     ]
    },
    {
     "name": "stderr",
     "output_type": "stream",
     "text": [
      "Grid Search Progress:  30%|███       | 24/80 [01:54<19:11, 20.57s/it, Model=LSTM, L=3, T=0.03]"
     ]
    },
    {
     "name": "stdout",
     "output_type": "stream",
     "text": [
      "Signal distribution - Decline(0): 4213, Sideways(1): 2294, Rise(2): 4661\n",
      "PyTorch data prepared - Train: torch.Size([8369, 10, 12]), Test: torch.Size([2790, 10, 12])\n"
     ]
    },
    {
     "name": "stderr",
     "output_type": "stream",
     "text": [
      "Grid Search Progress:  31%|███▏      | 25/80 [02:19<20:06, 21.94s/it, Model=LSTM, L=5, T=0.01]"
     ]
    },
    {
     "name": "stdout",
     "output_type": "stream",
     "text": [
      "Signal distribution - Decline(0): 3311, Sideways(1): 4162, Rise(2): 3695\n",
      "PyTorch data prepared - Train: torch.Size([8369, 10, 12]), Test: torch.Size([2790, 10, 12])\n"
     ]
    },
    {
     "name": "stderr",
     "output_type": "stream",
     "text": [
      "Grid Search Progress:  32%|███▎      | 26/80 [02:45<21:01, 23.37s/it, Model=LSTM, L=5, T=0.01]"
     ]
    },
    {
     "name": "stdout",
     "output_type": "stream",
     "text": [
      "Signal distribution - Decline(0): 2037, Sideways(1): 6740, Rise(2): 2391\n",
      "PyTorch data prepared - Train: torch.Size([8369, 10, 12]), Test: torch.Size([2790, 10, 12])\n"
     ]
    },
    {
     "name": "stderr",
     "output_type": "stream",
     "text": [
      "Grid Search Progress:  34%|███▍      | 27/80 [03:13<21:46, 24.65s/it, Model=LSTM, L=5, T=0.02]"
     ]
    },
    {
     "name": "stdout",
     "output_type": "stream",
     "text": [
      "Signal distribution - Decline(0): 1632, Sideways(1): 7571, Rise(2): 1965\n",
      "PyTorch data prepared - Train: torch.Size([8369, 10, 12]), Test: torch.Size([2790, 10, 12])\n"
     ]
    },
    {
     "name": "stderr",
     "output_type": "stream",
     "text": [
      "Grid Search Progress:  35%|███▌      | 28/80 [03:48<24:08, 27.85s/it, Model=LSTM, L=5, T=0.03]"
     ]
    },
    {
     "name": "stdout",
     "output_type": "stream",
     "text": [
      "Signal distribution - Decline(0): 4332, Sideways(1): 1911, Rise(2): 4922\n",
      "PyTorch data prepared - Train: torch.Size([8367, 10, 12]), Test: torch.Size([2789, 10, 12])\n"
     ]
    },
    {
     "name": "stderr",
     "output_type": "stream",
     "text": [
      "Grid Search Progress:  36%|███▋      | 29/80 [04:24<25:39, 30.18s/it, Model=LSTM, L=8, T=0.01]"
     ]
    },
    {
     "name": "stdout",
     "output_type": "stream",
     "text": [
      "Signal distribution - Decline(0): 3574, Sideways(1): 3475, Rise(2): 4116\n",
      "PyTorch data prepared - Train: torch.Size([8367, 10, 12]), Test: torch.Size([2789, 10, 12])\n"
     ]
    },
    {
     "name": "stderr",
     "output_type": "stream",
     "text": [
      "Grid Search Progress:  38%|███▊      | 30/80 [04:49<23:49, 28.58s/it, Model=LSTM, L=8, T=0.01]"
     ]
    },
    {
     "name": "stdout",
     "output_type": "stream",
     "text": [
      "Signal distribution - Decline(0): 2412, Sideways(1): 5859, Rise(2): 2894\n",
      "PyTorch data prepared - Train: torch.Size([8367, 10, 12]), Test: torch.Size([2789, 10, 12])\n"
     ]
    },
    {
     "name": "stderr",
     "output_type": "stream",
     "text": [
      "Grid Search Progress:  39%|███▉      | 31/80 [05:15<22:37, 27.70s/it, Model=LSTM, L=8, T=0.02]"
     ]
    },
    {
     "name": "stdout",
     "output_type": "stream",
     "text": [
      "Signal distribution - Decline(0): 2037, Sideways(1): 6648, Rise(2): 2480\n",
      "PyTorch data prepared - Train: torch.Size([8367, 10, 12]), Test: torch.Size([2789, 10, 12])\n"
     ]
    },
    {
     "name": "stderr",
     "output_type": "stream",
     "text": [
      "Grid Search Progress:  40%|████      | 32/80 [05:40<21:37, 27.03s/it, Model=LSTM, L=8, T=0.03]"
     ]
    },
    {
     "name": "stdout",
     "output_type": "stream",
     "text": [
      "Signal distribution - Decline(0): 4463, Sideways(1): 1639, Rise(2): 5061\n",
      "PyTorch data prepared - Train: torch.Size([8365, 10, 12]), Test: torch.Size([2789, 10, 12])\n"
     ]
    },
    {
     "name": "stderr",
     "output_type": "stream",
     "text": [
      "Grid Search Progress:  41%|████▏     | 33/80 [06:05<20:37, 26.33s/it, Model=LSTM, L=10, T=0.01]"
     ]
    },
    {
     "name": "stdout",
     "output_type": "stream",
     "text": [
      "Signal distribution - Decline(0): 3762, Sideways(1): 3080, Rise(2): 4321\n",
      "PyTorch data prepared - Train: torch.Size([8365, 10, 12]), Test: torch.Size([2789, 10, 12])\n"
     ]
    },
    {
     "name": "stderr",
     "output_type": "stream",
     "text": [
      "Grid Search Progress:  42%|████▎     | 34/80 [06:33<20:36, 26.87s/it, Model=LSTM, L=10, T=0.01]"
     ]
    },
    {
     "name": "stdout",
     "output_type": "stream",
     "text": [
      "Signal distribution - Decline(0): 2668, Sideways(1): 5349, Rise(2): 3146\n",
      "PyTorch data prepared - Train: torch.Size([8365, 10, 12]), Test: torch.Size([2789, 10, 12])\n"
     ]
    },
    {
     "name": "stderr",
     "output_type": "stream",
     "text": [
      "Grid Search Progress:  44%|████▍     | 35/80 [06:58<19:46, 26.37s/it, Model=LSTM, L=10, T=0.02]"
     ]
    },
    {
     "name": "stdout",
     "output_type": "stream",
     "text": [
      "Signal distribution - Decline(0): 2261, Sideways(1): 6177, Rise(2): 2725\n",
      "PyTorch data prepared - Train: torch.Size([8365, 10, 12]), Test: torch.Size([2789, 10, 12])\n"
     ]
    },
    {
     "name": "stderr",
     "output_type": "stream",
     "text": [
      "Grid Search Progress:  45%|████▌     | 36/80 [07:25<19:34, 26.69s/it, Model=LSTM, L=10, T=0.03]"
     ]
    },
    {
     "name": "stdout",
     "output_type": "stream",
     "text": [
      "Signal distribution - Decline(0): 4553, Sideways(1): 1420, Rise(2): 5188\n",
      "PyTorch data prepared - Train: torch.Size([8364, 10, 12]), Test: torch.Size([2788, 10, 12])\n"
     ]
    },
    {
     "name": "stderr",
     "output_type": "stream",
     "text": [
      "Grid Search Progress:  46%|████▋     | 37/80 [07:53<19:24, 27.08s/it, Model=LSTM, L=12, T=0.01]"
     ]
    },
    {
     "name": "stdout",
     "output_type": "stream",
     "text": [
      "Signal distribution - Decline(0): 3876, Sideways(1): 2826, Rise(2): 4459\n",
      "PyTorch data prepared - Train: torch.Size([8364, 10, 12]), Test: torch.Size([2788, 10, 12])\n"
     ]
    },
    {
     "name": "stderr",
     "output_type": "stream",
     "text": [
      "Grid Search Progress:  48%|████▊     | 38/80 [08:22<19:17, 27.56s/it, Model=LSTM, L=12, T=0.01]"
     ]
    },
    {
     "name": "stdout",
     "output_type": "stream",
     "text": [
      "Signal distribution - Decline(0): 2831, Sideways(1): 4964, Rise(2): 3366\n",
      "PyTorch data prepared - Train: torch.Size([8364, 10, 12]), Test: torch.Size([2788, 10, 12])\n"
     ]
    },
    {
     "name": "stderr",
     "output_type": "stream",
     "text": [
      "Grid Search Progress:  49%|████▉     | 39/80 [08:50<18:50, 27.58s/it, Model=LSTM, L=12, T=0.02]"
     ]
    },
    {
     "name": "stdout",
     "output_type": "stream",
     "text": [
      "Signal distribution - Decline(0): 2399, Sideways(1): 5801, Rise(2): 2961\n",
      "PyTorch data prepared - Train: torch.Size([8364, 10, 12]), Test: torch.Size([2788, 10, 12])\n"
     ]
    },
    {
     "name": "stderr",
     "output_type": "stream",
     "text": [
      "Grid Search Progress:  50%|█████     | 40/80 [09:19<18:47, 28.19s/it, Model=LSTM, L=12, T=0.03]"
     ]
    },
    {
     "name": "stdout",
     "output_type": "stream",
     "text": [
      "Signal distribution - Decline(0): 3962, Sideways(1): 2890, Rise(2): 4318\n",
      "PyTorch data prepared - Train: torch.Size([8370, 10, 12]), Test: torch.Size([2791, 10, 12])\n"
     ]
    },
    {
     "name": "stderr",
     "output_type": "stream",
     "text": [
      "Grid Search Progress:  51%|█████▏    | 41/80 [09:46<18:05, 27.82s/it, Model=GRU, L=3, T=0.01]  "
     ]
    },
    {
     "name": "stdout",
     "output_type": "stream",
     "text": [
      "Signal distribution - Decline(0): 2833, Sideways(1): 5149, Rise(2): 3188\n",
      "PyTorch data prepared - Train: torch.Size([8370, 10, 12]), Test: torch.Size([2791, 10, 12])\n"
     ]
    },
    {
     "name": "stderr",
     "output_type": "stream",
     "text": [
      "Grid Search Progress:  52%|█████▎    | 42/80 [10:13<17:27, 27.57s/it, Model=GRU, L=3, T=0.01]"
     ]
    },
    {
     "name": "stdout",
     "output_type": "stream",
     "text": [
      "Signal distribution - Decline(0): 1555, Sideways(1): 7829, Rise(2): 1786\n",
      "PyTorch data prepared - Train: torch.Size([8370, 10, 12]), Test: torch.Size([2791, 10, 12])\n"
     ]
    },
    {
     "name": "stderr",
     "output_type": "stream",
     "text": [
      "Grid Search Progress:  54%|█████▍    | 43/80 [10:38<16:32, 26.83s/it, Model=GRU, L=3, T=0.02]"
     ]
    },
    {
     "name": "stdout",
     "output_type": "stream",
     "text": [
      "Signal distribution - Decline(0): 1183, Sideways(1): 8598, Rise(2): 1389\n",
      "PyTorch data prepared - Train: torch.Size([8370, 10, 12]), Test: torch.Size([2791, 10, 12])\n"
     ]
    },
    {
     "name": "stderr",
     "output_type": "stream",
     "text": [
      "Grid Search Progress:  55%|█████▌    | 44/80 [11:05<15:59, 26.64s/it, Model=GRU, L=3, T=0.03]"
     ]
    },
    {
     "name": "stdout",
     "output_type": "stream",
     "text": [
      "Signal distribution - Decline(0): 4213, Sideways(1): 2294, Rise(2): 4661\n",
      "PyTorch data prepared - Train: torch.Size([8369, 10, 12]), Test: torch.Size([2790, 10, 12])\n"
     ]
    },
    {
     "name": "stderr",
     "output_type": "stream",
     "text": [
      "Grid Search Progress:  56%|█████▋    | 45/80 [11:32<15:43, 26.97s/it, Model=GRU, L=5, T=0.01]"
     ]
    },
    {
     "name": "stdout",
     "output_type": "stream",
     "text": [
      "Signal distribution - Decline(0): 3311, Sideways(1): 4162, Rise(2): 3695\n",
      "PyTorch data prepared - Train: torch.Size([8369, 10, 12]), Test: torch.Size([2790, 10, 12])\n"
     ]
    },
    {
     "name": "stderr",
     "output_type": "stream",
     "text": [
      "Grid Search Progress:  57%|█████▊    | 46/80 [12:01<15:35, 27.52s/it, Model=GRU, L=5, T=0.01]"
     ]
    },
    {
     "name": "stdout",
     "output_type": "stream",
     "text": [
      "Signal distribution - Decline(0): 2037, Sideways(1): 6740, Rise(2): 2391\n",
      "PyTorch data prepared - Train: torch.Size([8369, 10, 12]), Test: torch.Size([2790, 10, 12])\n"
     ]
    },
    {
     "name": "stderr",
     "output_type": "stream",
     "text": [
      "Grid Search Progress:  59%|█████▉    | 47/80 [12:36<16:20, 29.70s/it, Model=GRU, L=5, T=0.02]"
     ]
    },
    {
     "name": "stdout",
     "output_type": "stream",
     "text": [
      "Signal distribution - Decline(0): 1632, Sideways(1): 7571, Rise(2): 1965\n",
      "PyTorch data prepared - Train: torch.Size([8369, 10, 12]), Test: torch.Size([2790, 10, 12])\n"
     ]
    },
    {
     "name": "stderr",
     "output_type": "stream",
     "text": [
      "Grid Search Progress:  60%|██████    | 48/80 [13:06<15:58, 29.94s/it, Model=GRU, L=5, T=0.03]"
     ]
    },
    {
     "name": "stdout",
     "output_type": "stream",
     "text": [
      "Signal distribution - Decline(0): 4332, Sideways(1): 1911, Rise(2): 4922\n",
      "PyTorch data prepared - Train: torch.Size([8367, 10, 12]), Test: torch.Size([2789, 10, 12])\n"
     ]
    },
    {
     "name": "stderr",
     "output_type": "stream",
     "text": [
      "Grid Search Progress:  61%|██████▏   | 49/80 [13:34<15:01, 29.08s/it, Model=GRU, L=8, T=0.01]"
     ]
    },
    {
     "name": "stdout",
     "output_type": "stream",
     "text": [
      "Signal distribution - Decline(0): 3574, Sideways(1): 3475, Rise(2): 4116\n",
      "PyTorch data prepared - Train: torch.Size([8367, 10, 12]), Test: torch.Size([2789, 10, 12])\n"
     ]
    },
    {
     "name": "stderr",
     "output_type": "stream",
     "text": [
      "Grid Search Progress:  62%|██████▎   | 50/80 [14:00<14:04, 28.16s/it, Model=GRU, L=8, T=0.01]"
     ]
    },
    {
     "name": "stdout",
     "output_type": "stream",
     "text": [
      "Signal distribution - Decline(0): 2412, Sideways(1): 5859, Rise(2): 2894\n",
      "PyTorch data prepared - Train: torch.Size([8367, 10, 12]), Test: torch.Size([2789, 10, 12])\n"
     ]
    },
    {
     "name": "stderr",
     "output_type": "stream",
     "text": [
      "Grid Search Progress:  64%|██████▍   | 51/80 [14:25<13:17, 27.49s/it, Model=GRU, L=8, T=0.02]"
     ]
    },
    {
     "name": "stdout",
     "output_type": "stream",
     "text": [
      "Signal distribution - Decline(0): 2037, Sideways(1): 6648, Rise(2): 2480\n",
      "PyTorch data prepared - Train: torch.Size([8367, 10, 12]), Test: torch.Size([2789, 10, 12])\n"
     ]
    },
    {
     "name": "stderr",
     "output_type": "stream",
     "text": [
      "Grid Search Progress:  65%|██████▌   | 52/80 [14:50<12:27, 26.70s/it, Model=GRU, L=8, T=0.03]"
     ]
    },
    {
     "name": "stdout",
     "output_type": "stream",
     "text": [
      "Signal distribution - Decline(0): 4463, Sideways(1): 1639, Rise(2): 5061\n",
      "PyTorch data prepared - Train: torch.Size([8365, 10, 12]), Test: torch.Size([2789, 10, 12])\n"
     ]
    },
    {
     "name": "stderr",
     "output_type": "stream",
     "text": [
      "Grid Search Progress:  66%|██████▋   | 53/80 [15:15<11:42, 26.02s/it, Model=GRU, L=10, T=0.01]"
     ]
    },
    {
     "name": "stdout",
     "output_type": "stream",
     "text": [
      "Signal distribution - Decline(0): 3762, Sideways(1): 3080, Rise(2): 4321\n",
      "PyTorch data prepared - Train: torch.Size([8365, 10, 12]), Test: torch.Size([2789, 10, 12])\n"
     ]
    },
    {
     "name": "stderr",
     "output_type": "stream",
     "text": [
      "Grid Search Progress:  68%|██████▊   | 54/80 [15:42<11:28, 26.46s/it, Model=GRU, L=10, T=0.01]"
     ]
    },
    {
     "name": "stdout",
     "output_type": "stream",
     "text": [
      "Signal distribution - Decline(0): 2668, Sideways(1): 5349, Rise(2): 3146\n",
      "PyTorch data prepared - Train: torch.Size([8365, 10, 12]), Test: torch.Size([2789, 10, 12])\n"
     ]
    },
    {
     "name": "stderr",
     "output_type": "stream",
     "text": [
      "Grid Search Progress:  69%|██████▉   | 55/80 [16:11<11:16, 27.04s/it, Model=GRU, L=10, T=0.02]"
     ]
    },
    {
     "name": "stdout",
     "output_type": "stream",
     "text": [
      "Signal distribution - Decline(0): 2261, Sideways(1): 6177, Rise(2): 2725\n",
      "PyTorch data prepared - Train: torch.Size([8365, 10, 12]), Test: torch.Size([2789, 10, 12])\n"
     ]
    },
    {
     "name": "stderr",
     "output_type": "stream",
     "text": [
      "Grid Search Progress:  70%|███████   | 56/80 [16:36<10:37, 26.56s/it, Model=GRU, L=10, T=0.03]"
     ]
    },
    {
     "name": "stdout",
     "output_type": "stream",
     "text": [
      "Signal distribution - Decline(0): 4553, Sideways(1): 1420, Rise(2): 5188\n",
      "PyTorch data prepared - Train: torch.Size([8364, 10, 12]), Test: torch.Size([2788, 10, 12])\n"
     ]
    },
    {
     "name": "stderr",
     "output_type": "stream",
     "text": [
      "Grid Search Progress:  71%|███████▏  | 57/80 [17:00<09:54, 25.86s/it, Model=GRU, L=12, T=0.01]"
     ]
    },
    {
     "name": "stdout",
     "output_type": "stream",
     "text": [
      "Signal distribution - Decline(0): 3876, Sideways(1): 2826, Rise(2): 4459\n",
      "PyTorch data prepared - Train: torch.Size([8364, 10, 12]), Test: torch.Size([2788, 10, 12])\n"
     ]
    },
    {
     "name": "stderr",
     "output_type": "stream",
     "text": [
      "Grid Search Progress:  72%|███████▎  | 58/80 [17:26<09:29, 25.89s/it, Model=GRU, L=12, T=0.01]"
     ]
    },
    {
     "name": "stdout",
     "output_type": "stream",
     "text": [
      "Signal distribution - Decline(0): 2831, Sideways(1): 4964, Rise(2): 3366\n",
      "PyTorch data prepared - Train: torch.Size([8364, 10, 12]), Test: torch.Size([2788, 10, 12])\n"
     ]
    },
    {
     "name": "stderr",
     "output_type": "stream",
     "text": [
      "Grid Search Progress:  74%|███████▍  | 59/80 [17:53<09:09, 26.18s/it, Model=GRU, L=12, T=0.02]"
     ]
    },
    {
     "name": "stdout",
     "output_type": "stream",
     "text": [
      "Signal distribution - Decline(0): 2399, Sideways(1): 5801, Rise(2): 2961\n",
      "PyTorch data prepared - Train: torch.Size([8364, 10, 12]), Test: torch.Size([2788, 10, 12])\n"
     ]
    },
    {
     "name": "stderr",
     "output_type": "stream",
     "text": [
      "Grid Search Progress:  75%|███████▌  | 60/80 [18:23<09:07, 27.38s/it, Model=GRU, L=12, T=0.03]"
     ]
    },
    {
     "name": "stdout",
     "output_type": "stream",
     "text": [
      "Signal distribution - Decline(0): 3962, Sideways(1): 2890, Rise(2): 4318\n",
      "PyTorch data prepared - Train: torch.Size([8370, 10, 12]), Test: torch.Size([2791, 10, 12])\n"
     ]
    },
    {
     "name": "stderr",
     "output_type": "stream",
     "text": [
      "Grid Search Progress:  76%|███████▋  | 61/80 [18:43<07:56, 25.09s/it, Model=CNN, L=3, T=0.01] "
     ]
    },
    {
     "name": "stdout",
     "output_type": "stream",
     "text": [
      "Signal distribution - Decline(0): 2833, Sideways(1): 5149, Rise(2): 3188\n",
      "PyTorch data prepared - Train: torch.Size([8370, 10, 12]), Test: torch.Size([2791, 10, 12])\n"
     ]
    },
    {
     "name": "stderr",
     "output_type": "stream",
     "text": [
      "Grid Search Progress:  78%|███████▊  | 62/80 [19:03<07:06, 23.69s/it, Model=CNN, L=3, T=0.01]"
     ]
    },
    {
     "name": "stdout",
     "output_type": "stream",
     "text": [
      "Signal distribution - Decline(0): 1555, Sideways(1): 7829, Rise(2): 1786\n",
      "PyTorch data prepared - Train: torch.Size([8370, 10, 12]), Test: torch.Size([2791, 10, 12])\n"
     ]
    },
    {
     "name": "stderr",
     "output_type": "stream",
     "text": [
      "Grid Search Progress:  79%|███████▉  | 63/80 [19:23<06:23, 22.56s/it, Model=CNN, L=3, T=0.02]"
     ]
    },
    {
     "name": "stdout",
     "output_type": "stream",
     "text": [
      "Signal distribution - Decline(0): 1183, Sideways(1): 8598, Rise(2): 1389\n",
      "PyTorch data prepared - Train: torch.Size([8370, 10, 12]), Test: torch.Size([2791, 10, 12])\n"
     ]
    },
    {
     "name": "stderr",
     "output_type": "stream",
     "text": [
      "Grid Search Progress:  80%|████████  | 64/80 [19:44<05:51, 21.94s/it, Model=CNN, L=3, T=0.03]"
     ]
    },
    {
     "name": "stdout",
     "output_type": "stream",
     "text": [
      "Signal distribution - Decline(0): 4213, Sideways(1): 2294, Rise(2): 4661\n",
      "PyTorch data prepared - Train: torch.Size([8369, 10, 12]), Test: torch.Size([2790, 10, 12])\n"
     ]
    },
    {
     "name": "stderr",
     "output_type": "stream",
     "text": [
      "Grid Search Progress:  81%|████████▏ | 65/80 [20:04<05:19, 21.30s/it, Model=CNN, L=5, T=0.01]"
     ]
    },
    {
     "name": "stdout",
     "output_type": "stream",
     "text": [
      "Signal distribution - Decline(0): 3311, Sideways(1): 4162, Rise(2): 3695\n",
      "PyTorch data prepared - Train: torch.Size([8369, 10, 12]), Test: torch.Size([2790, 10, 12])\n"
     ]
    },
    {
     "name": "stderr",
     "output_type": "stream",
     "text": [
      "Grid Search Progress:  82%|████████▎ | 66/80 [20:25<04:57, 21.24s/it, Model=CNN, L=5, T=0.01]"
     ]
    },
    {
     "name": "stdout",
     "output_type": "stream",
     "text": [
      "Signal distribution - Decline(0): 2037, Sideways(1): 6740, Rise(2): 2391\n",
      "PyTorch data prepared - Train: torch.Size([8369, 10, 12]), Test: torch.Size([2790, 10, 12])\n"
     ]
    },
    {
     "name": "stderr",
     "output_type": "stream",
     "text": [
      "Grid Search Progress:  84%|████████▍ | 67/80 [20:44<04:28, 20.67s/it, Model=CNN, L=5, T=0.02]"
     ]
    },
    {
     "name": "stdout",
     "output_type": "stream",
     "text": [
      "Signal distribution - Decline(0): 1632, Sideways(1): 7571, Rise(2): 1965\n",
      "PyTorch data prepared - Train: torch.Size([8369, 10, 12]), Test: torch.Size([2790, 10, 12])\n"
     ]
    },
    {
     "name": "stderr",
     "output_type": "stream",
     "text": [
      "Grid Search Progress:  85%|████████▌ | 68/80 [21:05<04:06, 20.57s/it, Model=CNN, L=5, T=0.03]"
     ]
    },
    {
     "name": "stdout",
     "output_type": "stream",
     "text": [
      "Signal distribution - Decline(0): 4332, Sideways(1): 1911, Rise(2): 4922\n",
      "PyTorch data prepared - Train: torch.Size([8367, 10, 12]), Test: torch.Size([2789, 10, 12])\n"
     ]
    },
    {
     "name": "stderr",
     "output_type": "stream",
     "text": [
      "Grid Search Progress:  86%|████████▋ | 69/80 [21:24<03:44, 20.38s/it, Model=CNN, L=8, T=0.01]"
     ]
    },
    {
     "name": "stdout",
     "output_type": "stream",
     "text": [
      "Signal distribution - Decline(0): 3574, Sideways(1): 3475, Rise(2): 4116\n",
      "PyTorch data prepared - Train: torch.Size([8367, 10, 12]), Test: torch.Size([2789, 10, 12])\n"
     ]
    },
    {
     "name": "stderr",
     "output_type": "stream",
     "text": [
      "Grid Search Progress:  88%|████████▊ | 70/80 [21:45<03:23, 20.37s/it, Model=CNN, L=8, T=0.01]"
     ]
    },
    {
     "name": "stdout",
     "output_type": "stream",
     "text": [
      "Signal distribution - Decline(0): 2412, Sideways(1): 5859, Rise(2): 2894\n",
      "PyTorch data prepared - Train: torch.Size([8367, 10, 12]), Test: torch.Size([2789, 10, 12])\n"
     ]
    },
    {
     "name": "stderr",
     "output_type": "stream",
     "text": [
      "Grid Search Progress:  89%|████████▉ | 71/80 [22:05<03:02, 20.23s/it, Model=CNN, L=8, T=0.02]"
     ]
    },
    {
     "name": "stdout",
     "output_type": "stream",
     "text": [
      "Signal distribution - Decline(0): 2037, Sideways(1): 6648, Rise(2): 2480\n",
      "PyTorch data prepared - Train: torch.Size([8367, 10, 12]), Test: torch.Size([2789, 10, 12])\n"
     ]
    },
    {
     "name": "stderr",
     "output_type": "stream",
     "text": [
      "Grid Search Progress:  90%|█████████ | 72/80 [22:23<02:37, 19.70s/it, Model=CNN, L=8, T=0.03]"
     ]
    },
    {
     "name": "stdout",
     "output_type": "stream",
     "text": [
      "Signal distribution - Decline(0): 4463, Sideways(1): 1639, Rise(2): 5061\n",
      "PyTorch data prepared - Train: torch.Size([8365, 10, 12]), Test: torch.Size([2789, 10, 12])\n"
     ]
    },
    {
     "name": "stderr",
     "output_type": "stream",
     "text": [
      "Grid Search Progress:  91%|█████████▏| 73/80 [22:42<02:15, 19.42s/it, Model=CNN, L=10, T=0.01]"
     ]
    },
    {
     "name": "stdout",
     "output_type": "stream",
     "text": [
      "Signal distribution - Decline(0): 3762, Sideways(1): 3080, Rise(2): 4321\n",
      "PyTorch data prepared - Train: torch.Size([8365, 10, 12]), Test: torch.Size([2789, 10, 12])\n"
     ]
    },
    {
     "name": "stderr",
     "output_type": "stream",
     "text": [
      "Grid Search Progress:  92%|█████████▎| 74/80 [23:00<01:54, 19.05s/it, Model=CNN, L=10, T=0.01]"
     ]
    },
    {
     "name": "stdout",
     "output_type": "stream",
     "text": [
      "Signal distribution - Decline(0): 2668, Sideways(1): 5349, Rise(2): 3146\n",
      "PyTorch data prepared - Train: torch.Size([8365, 10, 12]), Test: torch.Size([2789, 10, 12])\n"
     ]
    },
    {
     "name": "stderr",
     "output_type": "stream",
     "text": [
      "Grid Search Progress:  94%|█████████▍| 75/80 [23:18<01:33, 18.74s/it, Model=CNN, L=10, T=0.02]"
     ]
    },
    {
     "name": "stdout",
     "output_type": "stream",
     "text": [
      "Signal distribution - Decline(0): 2261, Sideways(1): 6177, Rise(2): 2725\n",
      "PyTorch data prepared - Train: torch.Size([8365, 10, 12]), Test: torch.Size([2789, 10, 12])\n"
     ]
    },
    {
     "name": "stderr",
     "output_type": "stream",
     "text": [
      "Grid Search Progress:  95%|█████████▌| 76/80 [23:37<01:14, 18.68s/it, Model=CNN, L=10, T=0.03]"
     ]
    },
    {
     "name": "stdout",
     "output_type": "stream",
     "text": [
      "Signal distribution - Decline(0): 4553, Sideways(1): 1420, Rise(2): 5188\n",
      "PyTorch data prepared - Train: torch.Size([8364, 10, 12]), Test: torch.Size([2788, 10, 12])\n"
     ]
    },
    {
     "name": "stderr",
     "output_type": "stream",
     "text": [
      "Grid Search Progress:  96%|█████████▋| 77/80 [23:55<00:55, 18.44s/it, Model=CNN, L=12, T=0.01]"
     ]
    },
    {
     "name": "stdout",
     "output_type": "stream",
     "text": [
      "Signal distribution - Decline(0): 3876, Sideways(1): 2826, Rise(2): 4459\n",
      "PyTorch data prepared - Train: torch.Size([8364, 10, 12]), Test: torch.Size([2788, 10, 12])\n"
     ]
    },
    {
     "name": "stderr",
     "output_type": "stream",
     "text": [
      "Grid Search Progress:  98%|█████████▊| 78/80 [24:16<00:38, 19.38s/it, Model=CNN, L=12, T=0.01]"
     ]
    },
    {
     "name": "stdout",
     "output_type": "stream",
     "text": [
      "Signal distribution - Decline(0): 2831, Sideways(1): 4964, Rise(2): 3366\n",
      "PyTorch data prepared - Train: torch.Size([8364, 10, 12]), Test: torch.Size([2788, 10, 12])\n"
     ]
    },
    {
     "name": "stderr",
     "output_type": "stream",
     "text": [
      "Grid Search Progress:  99%|█████████▉| 79/80 [24:37<00:19, 19.80s/it, Model=CNN, L=12, T=0.02]"
     ]
    },
    {
     "name": "stdout",
     "output_type": "stream",
     "text": [
      "Signal distribution - Decline(0): 2399, Sideways(1): 5801, Rise(2): 2961\n",
      "PyTorch data prepared - Train: torch.Size([8364, 10, 12]), Test: torch.Size([2788, 10, 12])\n"
     ]
    },
    {
     "name": "stderr",
     "output_type": "stream",
     "text": [
      "Grid Search Progress: 100%|██████████| 80/80 [24:57<00:00, 18.72s/it, Model=CNN, L=12, T=0.03]"
     ]
    },
    {
     "name": "stdout",
     "output_type": "stream",
     "text": [
      "\n",
      "Results saved to: ../../results/bnb_results_4h_3class.csv\n",
      "\n",
      "======================================================================\n",
      "COMPLETE EXPERIMENTAL RESULTS\n",
      "======================================================================\n",
      "      model  lookahead  threshold  accuracy  loss_count  loss_mean  \\\n",
      "0   XGBoost          3      0.005    0.4855         879     0.0177   \n",
      "1   XGBoost          3      0.010    0.5303         332     0.0238   \n",
      "2   XGBoost          3      0.020    0.7193          69     0.0376   \n",
      "3   XGBoost          3      0.025    0.7780          51     0.0314   \n",
      "4   XGBoost          5      0.005    0.5616         846     0.0203   \n",
      "..      ...        ...        ...       ...         ...        ...   \n",
      "75      CNN         10      0.025    0.5880         184     0.0238   \n",
      "76      CNN         12      0.005    0.4283        1378     0.0275   \n",
      "77      CNN         12      0.010    0.3687        1005     0.0272   \n",
      "78      CNN         12      0.020    0.5129         234     0.0307   \n",
      "79      CNN         12      0.025    0.5226         385     0.0273   \n",
      "\n",
      "    transaction  \n",
      "0          2236  \n",
      "1           913  \n",
      "2           249  \n",
      "3           166  \n",
      "4          2551  \n",
      "..          ...  \n",
      "75          419  \n",
      "76         2772  \n",
      "77         2101  \n",
      "78          519  \n",
      "79          747  \n",
      "\n",
      "[80 rows x 7 columns]\n",
      "\n",
      "======================================================================\n",
      "BEST PERFORMANCE BY MODEL TYPE\n",
      "======================================================================\n",
      "      model  lookahead  threshold  accuracy  loss_count  loss_mean\n",
      "63      CNN          3      0.025    0.8531           0     0.0000\n",
      "43      GRU          3      0.025    0.8527           0     0.0000\n",
      "23     LSTM          3      0.025    0.8527           0     0.0000\n",
      "3   XGBoost          3      0.025    0.7780          51     0.0314\n",
      "\n",
      "======================================================================\n",
      "OVERALL CHAMPION CONFIGURATION\n",
      "======================================================================\n",
      "Best Model: CNN\n",
      "Optimal Lookahead: 3 days\n",
      "Optimal Threshold: 0.025\n",
      "Peak Accuracy: 0.8531 (85.31%)\n",
      "Loss Events: 0\n",
      "Average Loss: 0.000000\n",
      "\n",
      "==================================================\n",
      "SUMMARY\n",
      "==================================================\n",
      "Total experiments: 80\n",
      "Best accuracy: 0.8531\n",
      "Average accuracy: 0.5435\n",
      "\n",
      "Best configuration:\n",
      "Model: CNN, Lookahead: 3, Threshold: 0.025\n"
     ]
    },
    {
     "name": "stderr",
     "output_type": "stream",
     "text": [
      "\n"
     ]
    }
   ],
   "source": [
    "\"\"\"\n",
    "Price Movement Prediction - Main Execution Script\n",
    "\"\"\"\n",
    "\n",
    "import pandas as pd\n",
    "import torch\n",
    "import warnings\n",
    "warnings.filterwarnings('ignore')\n",
    "\n",
    "from experiment_runner import ExperimentRunner\n",
    "\n",
    "def bnb_4h():\n",
    "    \"\"\"Main execution function\"\"\"\n",
    "    \n",
    "    # ============= CONFIGURATION =============\n",
    "    # Tùy chỉnh các tham số tại đây\n",
    "    \n",
    "    DATA_PATH = r'F:\\up_git\\official_predict\\data\\bnb_4h.csv'  # Đường dẫn file data\n",
    "    \n",
    "    # Tạo thư mục results ở cấp trên 2 cấp nếu chưa có\n",
    "    import os\n",
    "    results_dir = os.path.join('..', '..', 'results')\n",
    "    os.makedirs(results_dir, exist_ok=True)\n",
    "    \n",
    "    OUTPUT_FILENAME = '../../results/bnb_results_4h_3class.csv'  # Lưu vào thư mục results cấp trên 2\n",
    "    \n",
    "    LOOKAHEAD_VALUES = [3, 5, 8, 10, 12]  \n",
    "    THRESHOLD_VALUES = [0.005, 0.01, 0.02, 0.025]  # Ngưỡng phân loại\n",
    "    \n",
    "    MODEL_TYPES = ['XGBoost', 'LSTM', 'GRU', 'CNN']  # Các model cần test\n",
    "    SEQUENCE_LENGTH = 10  # Độ dài chuỗi cho deep learning\n",
    "    \n",
    "    # ============= CHẠY THÍ NGHIỆM =============\n",
    "    \n",
    "    print(f\"Using device: {torch.device('cuda' if torch.cuda.is_available() else 'cpu')}\")\n",
    "    \n",
    "    runner = ExperimentRunner(\n",
    "        data_path=DATA_PATH,\n",
    "        output_filename=OUTPUT_FILENAME,\n",
    "        sequence_length=SEQUENCE_LENGTH,\n",
    "        verbose=False\n",
    "    )\n",
    "    \n",
    "    results = runner.run_grid_search(\n",
    "        lookahead_values=LOOKAHEAD_VALUES,\n",
    "        threshold_values=THRESHOLD_VALUES,\n",
    "        model_types=MODEL_TYPES\n",
    "    )\n",
    "    \n",
    "    # ============= HIỂN THỊ KẾT QUẢ =============\n",
    "    \n",
    "    if results is not None and not results.empty:\n",
    "        runner.display_results(results)\n",
    "        \n",
    "        # Thống kê tóm tắt\n",
    "        print(f\"\\n{'='*50}\")\n",
    "        print(\"SUMMARY\")\n",
    "        print(f\"{'='*50}\")\n",
    "        print(f\"Total experiments: {len(results)}\")\n",
    "        print(f\"Best accuracy: {results['accuracy'].max():.4f}\")\n",
    "        print(f\"Average accuracy: {results['accuracy'].mean():.4f}\")\n",
    "        \n",
    "        # Kết quả tốt nhất\n",
    "        best = results.loc[results['accuracy'].idxmax()]\n",
    "        print(f\"\\nBest configuration:\")\n",
    "        print(f\"Model: {best['model']}, Lookahead: {best['lookahead']}, Threshold: {best['threshold']}\")\n",
    "        \n",
    "    else:\n",
    "        print(\"No results generated.\")\n",
    "\n",
    "bnb_4h()"
   ]
  },
  {
   "cell_type": "code",
   "execution_count": 3,
   "id": "32d016ca",
   "metadata": {},
   "outputs": [
    {
     "name": "stdout",
     "output_type": "stream",
     "text": [
      "Using device: cuda\n",
      "Using device: cuda\n",
      "Loading and preparing Bitcoin data...\n",
      "Successfully loaded data from: F:\\up_git\\official_predict\\data\\bnb_30m.csv\n",
      "Data shape: (89558, 6)\n",
      "Technical indicators added successfully\n",
      "Features normalized successfully\n",
      "Final dataset shape: (89524, 18)\n",
      "Starting grid search with 80 experiments...\n",
      "Lookahead values: [3, 5, 8, 10, 12]\n",
      "Threshold values: [0.002, 0.005, 0.01, 0.015]\n",
      "Model types: ['XGBoost', 'LSTM', 'GRU', 'CNN']\n"
     ]
    },
    {
     "name": "stderr",
     "output_type": "stream",
     "text": [
      "Grid Search Progress:   0%|          | 0/80 [00:00<?, ?it/s]"
     ]
    },
    {
     "name": "stdout",
     "output_type": "stream",
     "text": [
      "Signal distribution - Decline(0): 30195, Sideways(1): 26830, Rise(2): 32496\n"
     ]
    },
    {
     "name": "stderr",
     "output_type": "stream",
     "text": [
      "Grid Search Progress:   1%|▏         | 1/80 [00:00<01:14,  1.06it/s, Model=XGBoost, L=3, T=0.00]"
     ]
    },
    {
     "name": "stdout",
     "output_type": "stream",
     "text": [
      "Signal distribution - Decline(0): 17374, Sideways(1): 53564, Rise(2): 18583\n"
     ]
    },
    {
     "name": "stderr",
     "output_type": "stream",
     "text": [
      "Grid Search Progress:   2%|▎         | 2/80 [00:01<01:16,  1.02it/s, Model=XGBoost, L=3, T=0.01]"
     ]
    },
    {
     "name": "stdout",
     "output_type": "stream",
     "text": [
      "Signal distribution - Decline(0): 7892, Sideways(1): 73339, Rise(2): 8290\n"
     ]
    },
    {
     "name": "stderr",
     "output_type": "stream",
     "text": [
      "Grid Search Progress:   4%|▍         | 3/80 [00:02<01:15,  1.01it/s, Model=XGBoost, L=3, T=0.01]"
     ]
    },
    {
     "name": "stdout",
     "output_type": "stream",
     "text": [
      "Signal distribution - Decline(0): 4062, Sideways(1): 81247, Rise(2): 4212\n"
     ]
    },
    {
     "name": "stderr",
     "output_type": "stream",
     "text": [
      "Grid Search Progress:   5%|▌         | 4/80 [00:03<01:14,  1.01it/s, Model=XGBoost, L=3, T=0.01]"
     ]
    },
    {
     "name": "stdout",
     "output_type": "stream",
     "text": [
      "Signal distribution - Decline(0): 32599, Sideways(1): 21548, Rise(2): 35372\n"
     ]
    },
    {
     "name": "stderr",
     "output_type": "stream",
     "text": [
      "Grid Search Progress:   6%|▋         | 5/80 [00:04<01:12,  1.04it/s, Model=XGBoost, L=5, T=0.00]"
     ]
    },
    {
     "name": "stdout",
     "output_type": "stream",
     "text": [
      "Signal distribution - Decline(0): 21168, Sideways(1): 45333, Rise(2): 23018\n"
     ]
    },
    {
     "name": "stderr",
     "output_type": "stream",
     "text": [
      "Grid Search Progress:   8%|▊         | 6/80 [00:05<01:10,  1.05it/s, Model=XGBoost, L=5, T=0.01]"
     ]
    },
    {
     "name": "stdout",
     "output_type": "stream",
     "text": [
      "Signal distribution - Decline(0): 10968, Sideways(1): 66735, Rise(2): 11816\n"
     ]
    },
    {
     "name": "stderr",
     "output_type": "stream",
     "text": [
      "Grid Search Progress:   9%|▉         | 7/80 [00:06<01:08,  1.06it/s, Model=XGBoost, L=5, T=0.01]"
     ]
    },
    {
     "name": "stdout",
     "output_type": "stream",
     "text": [
      "Signal distribution - Decline(0): 6237, Sideways(1): 76663, Rise(2): 6619\n"
     ]
    },
    {
     "name": "stderr",
     "output_type": "stream",
     "text": [
      "Grid Search Progress:  10%|█         | 8/80 [00:07<01:07,  1.07it/s, Model=XGBoost, L=5, T=0.01]"
     ]
    },
    {
     "name": "stdout",
     "output_type": "stream",
     "text": [
      "Signal distribution - Decline(0): 34615, Sideways(1): 17046, Rise(2): 37855\n"
     ]
    },
    {
     "name": "stderr",
     "output_type": "stream",
     "text": [
      "Grid Search Progress:  11%|█▏        | 9/80 [00:08<01:07,  1.06it/s, Model=XGBoost, L=8, T=0.00]"
     ]
    },
    {
     "name": "stdout",
     "output_type": "stream",
     "text": [
      "Signal distribution - Decline(0): 24523, Sideways(1): 38015, Rise(2): 26978\n"
     ]
    },
    {
     "name": "stderr",
     "output_type": "stream",
     "text": [
      "Grid Search Progress:  12%|█▎        | 10/80 [00:09<01:08,  1.02it/s, Model=XGBoost, L=8, T=0.01]"
     ]
    },
    {
     "name": "stdout",
     "output_type": "stream",
     "text": [
      "Signal distribution - Decline(0): 14191, Sideways(1): 59738, Rise(2): 15587\n"
     ]
    },
    {
     "name": "stderr",
     "output_type": "stream",
     "text": [
      "Grid Search Progress:  14%|█▍        | 11/80 [00:10<01:05,  1.05it/s, Model=XGBoost, L=8, T=0.01]"
     ]
    },
    {
     "name": "stdout",
     "output_type": "stream",
     "text": [
      "Signal distribution - Decline(0): 8806, Sideways(1): 71160, Rise(2): 9550\n"
     ]
    },
    {
     "name": "stderr",
     "output_type": "stream",
     "text": [
      "Grid Search Progress:  15%|█▌        | 12/80 [00:11<01:02,  1.08it/s, Model=XGBoost, L=8, T=0.01]"
     ]
    },
    {
     "name": "stdout",
     "output_type": "stream",
     "text": [
      "Signal distribution - Decline(0): 35561, Sideways(1): 15259, Rise(2): 38694\n"
     ]
    },
    {
     "name": "stderr",
     "output_type": "stream",
     "text": [
      "Grid Search Progress:  16%|█▋        | 13/80 [00:12<01:00,  1.10it/s, Model=XGBoost, L=10, T=0.00]"
     ]
    },
    {
     "name": "stdout",
     "output_type": "stream",
     "text": [
      "Signal distribution - Decline(0): 26205, Sideways(1): 34492, Rise(2): 28817\n"
     ]
    },
    {
     "name": "stderr",
     "output_type": "stream",
     "text": [
      "Grid Search Progress:  18%|█▊        | 14/80 [00:13<00:59,  1.11it/s, Model=XGBoost, L=10, T=0.01]"
     ]
    },
    {
     "name": "stdout",
     "output_type": "stream",
     "text": [
      "Signal distribution - Decline(0): 15943, Sideways(1): 55874, Rise(2): 17697\n"
     ]
    },
    {
     "name": "stderr",
     "output_type": "stream",
     "text": [
      "Grid Search Progress:  19%|█▉        | 15/80 [00:14<00:57,  1.13it/s, Model=XGBoost, L=10, T=0.01]"
     ]
    },
    {
     "name": "stdout",
     "output_type": "stream",
     "text": [
      "Signal distribution - Decline(0): 10128, Sideways(1): 68029, Rise(2): 11357\n"
     ]
    },
    {
     "name": "stderr",
     "output_type": "stream",
     "text": [
      "Grid Search Progress:  20%|██        | 16/80 [00:14<00:56,  1.13it/s, Model=XGBoost, L=10, T=0.01]"
     ]
    },
    {
     "name": "stdout",
     "output_type": "stream",
     "text": [
      "Signal distribution - Decline(0): 36112, Sideways(1): 14069, Rise(2): 39331\n"
     ]
    },
    {
     "name": "stderr",
     "output_type": "stream",
     "text": [
      "Grid Search Progress:  21%|██▏       | 17/80 [00:15<00:55,  1.14it/s, Model=XGBoost, L=12, T=0.00]"
     ]
    },
    {
     "name": "stdout",
     "output_type": "stream",
     "text": [
      "Signal distribution - Decline(0): 27335, Sideways(1): 32109, Rise(2): 30068\n"
     ]
    },
    {
     "name": "stderr",
     "output_type": "stream",
     "text": [
      "Grid Search Progress:  22%|██▎       | 18/80 [00:16<00:54,  1.13it/s, Model=XGBoost, L=12, T=0.01]"
     ]
    },
    {
     "name": "stdout",
     "output_type": "stream",
     "text": [
      "Signal distribution - Decline(0): 17350, Sideways(1): 52759, Rise(2): 19403\n"
     ]
    },
    {
     "name": "stderr",
     "output_type": "stream",
     "text": [
      "Grid Search Progress:  24%|██▍       | 19/80 [00:17<00:53,  1.13it/s, Model=XGBoost, L=12, T=0.01]"
     ]
    },
    {
     "name": "stdout",
     "output_type": "stream",
     "text": [
      "Signal distribution - Decline(0): 11437, Sideways(1): 65210, Rise(2): 12865\n"
     ]
    },
    {
     "name": "stderr",
     "output_type": "stream",
     "text": [
      "Grid Search Progress:  25%|██▌       | 20/80 [00:18<00:53,  1.13it/s, Model=XGBoost, L=12, T=0.01]"
     ]
    },
    {
     "name": "stdout",
     "output_type": "stream",
     "text": [
      "Signal distribution - Decline(0): 30195, Sideways(1): 26830, Rise(2): 32496\n",
      "PyTorch data prepared - Train: torch.Size([67134, 10, 12]), Test: torch.Size([22378, 10, 12])\n"
     ]
    },
    {
     "name": "stderr",
     "output_type": "stream",
     "text": [
      "Grid Search Progress:  26%|██▋       | 21/80 [03:52<1:03:41, 64.77s/it, Model=LSTM, L=3, T=0.00]  "
     ]
    },
    {
     "name": "stdout",
     "output_type": "stream",
     "text": [
      "Signal distribution - Decline(0): 17374, Sideways(1): 53564, Rise(2): 18583\n",
      "PyTorch data prepared - Train: torch.Size([67134, 10, 12]), Test: torch.Size([22378, 10, 12])\n"
     ]
    },
    {
     "name": "stderr",
     "output_type": "stream",
     "text": [
      "Grid Search Progress:  28%|██▊       | 22/80 [07:28<1:46:34, 110.24s/it, Model=LSTM, L=3, T=0.01]"
     ]
    },
    {
     "name": "stdout",
     "output_type": "stream",
     "text": [
      "Signal distribution - Decline(0): 7892, Sideways(1): 73339, Rise(2): 8290\n",
      "PyTorch data prepared - Train: torch.Size([67134, 10, 12]), Test: torch.Size([22378, 10, 12])\n"
     ]
    },
    {
     "name": "stderr",
     "output_type": "stream",
     "text": [
      "Grid Search Progress:  29%|██▉       | 23/80 [10:50<2:10:55, 137.81s/it, Model=LSTM, L=3, T=0.01]"
     ]
    },
    {
     "name": "stdout",
     "output_type": "stream",
     "text": [
      "Signal distribution - Decline(0): 4062, Sideways(1): 81247, Rise(2): 4212\n",
      "PyTorch data prepared - Train: torch.Size([67134, 10, 12]), Test: torch.Size([22378, 10, 12])\n"
     ]
    },
    {
     "name": "stderr",
     "output_type": "stream",
     "text": [
      "Grid Search Progress:  30%|███       | 24/80 [14:20<2:28:51, 159.49s/it, Model=LSTM, L=3, T=0.01]"
     ]
    },
    {
     "name": "stdout",
     "output_type": "stream",
     "text": [
      "Signal distribution - Decline(0): 32599, Sideways(1): 21548, Rise(2): 35372\n",
      "PyTorch data prepared - Train: torch.Size([67132, 10, 12]), Test: torch.Size([22378, 10, 12])\n"
     ]
    },
    {
     "name": "stderr",
     "output_type": "stream",
     "text": [
      "Grid Search Progress:  31%|███▏      | 25/80 [17:42<2:37:45, 172.10s/it, Model=LSTM, L=5, T=0.00]"
     ]
    },
    {
     "name": "stdout",
     "output_type": "stream",
     "text": [
      "Signal distribution - Decline(0): 21168, Sideways(1): 45333, Rise(2): 23018\n",
      "PyTorch data prepared - Train: torch.Size([67132, 10, 12]), Test: torch.Size([22378, 10, 12])\n"
     ]
    },
    {
     "name": "stderr",
     "output_type": "stream",
     "text": [
      "Grid Search Progress:  32%|███▎      | 26/80 [21:19<2:47:10, 185.76s/it, Model=LSTM, L=5, T=0.01]"
     ]
    },
    {
     "name": "stdout",
     "output_type": "stream",
     "text": [
      "Signal distribution - Decline(0): 10968, Sideways(1): 66735, Rise(2): 11816\n",
      "PyTorch data prepared - Train: torch.Size([67132, 10, 12]), Test: torch.Size([22378, 10, 12])\n"
     ]
    },
    {
     "name": "stderr",
     "output_type": "stream",
     "text": [
      "Grid Search Progress:  34%|███▍      | 27/80 [25:14<2:56:57, 200.32s/it, Model=LSTM, L=5, T=0.01]"
     ]
    },
    {
     "name": "stdout",
     "output_type": "stream",
     "text": [
      "Signal distribution - Decline(0): 6237, Sideways(1): 76663, Rise(2): 6619\n",
      "PyTorch data prepared - Train: torch.Size([67132, 10, 12]), Test: torch.Size([22378, 10, 12])\n"
     ]
    },
    {
     "name": "stderr",
     "output_type": "stream",
     "text": [
      "Grid Search Progress:  35%|███▌      | 28/80 [28:52<2:58:19, 205.75s/it, Model=LSTM, L=5, T=0.01]"
     ]
    },
    {
     "name": "stdout",
     "output_type": "stream",
     "text": [
      "Signal distribution - Decline(0): 34615, Sideways(1): 17046, Rise(2): 37855\n",
      "PyTorch data prepared - Train: torch.Size([67130, 10, 12]), Test: torch.Size([22377, 10, 12])\n"
     ]
    },
    {
     "name": "stderr",
     "output_type": "stream",
     "text": [
      "Grid Search Progress:  36%|███▋      | 29/80 [32:31<2:58:22, 209.85s/it, Model=LSTM, L=8, T=0.00]"
     ]
    },
    {
     "name": "stdout",
     "output_type": "stream",
     "text": [
      "Signal distribution - Decline(0): 24523, Sideways(1): 38015, Rise(2): 26978\n",
      "PyTorch data prepared - Train: torch.Size([67130, 10, 12]), Test: torch.Size([22377, 10, 12])\n"
     ]
    },
    {
     "name": "stderr",
     "output_type": "stream",
     "text": [
      "Grid Search Progress:  38%|███▊      | 30/80 [36:11<2:57:17, 212.75s/it, Model=LSTM, L=8, T=0.01]"
     ]
    },
    {
     "name": "stdout",
     "output_type": "stream",
     "text": [
      "Signal distribution - Decline(0): 14191, Sideways(1): 59738, Rise(2): 15587\n",
      "PyTorch data prepared - Train: torch.Size([67130, 10, 12]), Test: torch.Size([22377, 10, 12])\n"
     ]
    },
    {
     "name": "stderr",
     "output_type": "stream",
     "text": [
      "Grid Search Progress:  39%|███▉      | 31/80 [39:50<2:55:21, 214.73s/it, Model=LSTM, L=8, T=0.01]"
     ]
    },
    {
     "name": "stdout",
     "output_type": "stream",
     "text": [
      "Signal distribution - Decline(0): 8806, Sideways(1): 71160, Rise(2): 9550\n",
      "PyTorch data prepared - Train: torch.Size([67130, 10, 12]), Test: torch.Size([22377, 10, 12])\n"
     ]
    },
    {
     "name": "stderr",
     "output_type": "stream",
     "text": [
      "Grid Search Progress:  40%|████      | 32/80 [43:29<2:52:41, 215.86s/it, Model=LSTM, L=8, T=0.01]"
     ]
    },
    {
     "name": "stdout",
     "output_type": "stream",
     "text": [
      "Signal distribution - Decline(0): 35561, Sideways(1): 15259, Rise(2): 38694\n",
      "PyTorch data prepared - Train: torch.Size([67128, 10, 12]), Test: torch.Size([22377, 10, 12])\n"
     ]
    },
    {
     "name": "stderr",
     "output_type": "stream",
     "text": [
      "Grid Search Progress:  41%|████▏     | 33/80 [47:07<2:49:35, 216.51s/it, Model=LSTM, L=10, T=0.00]"
     ]
    },
    {
     "name": "stdout",
     "output_type": "stream",
     "text": [
      "Signal distribution - Decline(0): 26205, Sideways(1): 34492, Rise(2): 28817\n",
      "PyTorch data prepared - Train: torch.Size([67128, 10, 12]), Test: torch.Size([22377, 10, 12])\n"
     ]
    },
    {
     "name": "stderr",
     "output_type": "stream",
     "text": [
      "Grid Search Progress:  42%|████▎     | 34/80 [50:45<2:46:27, 217.12s/it, Model=LSTM, L=10, T=0.01]"
     ]
    },
    {
     "name": "stdout",
     "output_type": "stream",
     "text": [
      "Signal distribution - Decline(0): 15943, Sideways(1): 55874, Rise(2): 17697\n",
      "PyTorch data prepared - Train: torch.Size([67128, 10, 12]), Test: torch.Size([22377, 10, 12])\n"
     ]
    },
    {
     "name": "stderr",
     "output_type": "stream",
     "text": [
      "Grid Search Progress:  44%|████▍     | 35/80 [54:19<2:42:05, 216.13s/it, Model=LSTM, L=10, T=0.01]"
     ]
    },
    {
     "name": "stdout",
     "output_type": "stream",
     "text": [
      "Signal distribution - Decline(0): 10128, Sideways(1): 68029, Rise(2): 11357\n",
      "PyTorch data prepared - Train: torch.Size([67128, 10, 12]), Test: torch.Size([22377, 10, 12])\n"
     ]
    },
    {
     "name": "stderr",
     "output_type": "stream",
     "text": [
      "Grid Search Progress:  45%|████▌     | 36/80 [57:37<2:34:25, 210.58s/it, Model=LSTM, L=10, T=0.01]"
     ]
    },
    {
     "name": "stdout",
     "output_type": "stream",
     "text": [
      "Signal distribution - Decline(0): 36112, Sideways(1): 14069, Rise(2): 39331\n",
      "PyTorch data prepared - Train: torch.Size([67127, 10, 12]), Test: torch.Size([22376, 10, 12])\n"
     ]
    },
    {
     "name": "stderr",
     "output_type": "stream",
     "text": [
      "Grid Search Progress:  46%|████▋     | 37/80 [1:01:03<2:29:54, 209.17s/it, Model=LSTM, L=12, T=0.00]"
     ]
    },
    {
     "name": "stdout",
     "output_type": "stream",
     "text": [
      "Signal distribution - Decline(0): 27335, Sideways(1): 32109, Rise(2): 30068\n",
      "PyTorch data prepared - Train: torch.Size([67127, 10, 12]), Test: torch.Size([22376, 10, 12])\n"
     ]
    },
    {
     "name": "stderr",
     "output_type": "stream",
     "text": [
      "Grid Search Progress:  48%|████▊     | 38/80 [1:04:55<2:31:20, 216.20s/it, Model=LSTM, L=12, T=0.01]"
     ]
    },
    {
     "name": "stdout",
     "output_type": "stream",
     "text": [
      "Signal distribution - Decline(0): 17350, Sideways(1): 52759, Rise(2): 19403\n",
      "PyTorch data prepared - Train: torch.Size([67127, 10, 12]), Test: torch.Size([22376, 10, 12])\n"
     ]
    },
    {
     "name": "stderr",
     "output_type": "stream",
     "text": [
      "Grid Search Progress:  49%|████▉     | 39/80 [1:08:33<2:28:00, 216.59s/it, Model=LSTM, L=12, T=0.01]"
     ]
    },
    {
     "name": "stdout",
     "output_type": "stream",
     "text": [
      "Signal distribution - Decline(0): 11437, Sideways(1): 65210, Rise(2): 12865\n",
      "PyTorch data prepared - Train: torch.Size([67127, 10, 12]), Test: torch.Size([22376, 10, 12])\n"
     ]
    },
    {
     "name": "stderr",
     "output_type": "stream",
     "text": [
      "Grid Search Progress:  50%|█████     | 40/80 [1:12:41<2:30:48, 226.21s/it, Model=LSTM, L=12, T=0.01]"
     ]
    },
    {
     "name": "stdout",
     "output_type": "stream",
     "text": [
      "Signal distribution - Decline(0): 30195, Sideways(1): 26830, Rise(2): 32496\n",
      "PyTorch data prepared - Train: torch.Size([67134, 10, 12]), Test: torch.Size([22378, 10, 12])\n"
     ]
    },
    {
     "name": "stderr",
     "output_type": "stream",
     "text": [
      "Grid Search Progress:  51%|█████▏    | 41/80 [1:16:59<2:33:12, 235.71s/it, Model=GRU, L=3, T=0.00]  "
     ]
    },
    {
     "name": "stdout",
     "output_type": "stream",
     "text": [
      "Signal distribution - Decline(0): 17374, Sideways(1): 53564, Rise(2): 18583\n",
      "PyTorch data prepared - Train: torch.Size([67134, 10, 12]), Test: torch.Size([22378, 10, 12])\n"
     ]
    },
    {
     "name": "stderr",
     "output_type": "stream",
     "text": [
      "Grid Search Progress:  52%|█████▎    | 42/80 [1:21:37<2:37:17, 248.35s/it, Model=GRU, L=3, T=0.01]"
     ]
    },
    {
     "name": "stdout",
     "output_type": "stream",
     "text": [
      "Signal distribution - Decline(0): 7892, Sideways(1): 73339, Rise(2): 8290\n",
      "PyTorch data prepared - Train: torch.Size([67134, 10, 12]), Test: torch.Size([22378, 10, 12])\n"
     ]
    },
    {
     "name": "stderr",
     "output_type": "stream",
     "text": [
      "Grid Search Progress:  54%|█████▍    | 43/80 [1:26:21<2:39:39, 258.90s/it, Model=GRU, L=3, T=0.01]"
     ]
    },
    {
     "name": "stdout",
     "output_type": "stream",
     "text": [
      "Signal distribution - Decline(0): 4062, Sideways(1): 81247, Rise(2): 4212\n",
      "PyTorch data prepared - Train: torch.Size([67134, 10, 12]), Test: torch.Size([22378, 10, 12])\n"
     ]
    },
    {
     "name": "stderr",
     "output_type": "stream",
     "text": [
      "Grid Search Progress:  55%|█████▌    | 44/80 [1:31:10<2:40:53, 268.15s/it, Model=GRU, L=3, T=0.01]"
     ]
    },
    {
     "name": "stdout",
     "output_type": "stream",
     "text": [
      "Signal distribution - Decline(0): 32599, Sideways(1): 21548, Rise(2): 35372\n",
      "PyTorch data prepared - Train: torch.Size([67132, 10, 12]), Test: torch.Size([22378, 10, 12])\n"
     ]
    },
    {
     "name": "stderr",
     "output_type": "stream",
     "text": [
      "Grid Search Progress:  56%|█████▋    | 45/80 [1:35:58<2:39:44, 273.85s/it, Model=GRU, L=5, T=0.00]"
     ]
    },
    {
     "name": "stdout",
     "output_type": "stream",
     "text": [
      "Signal distribution - Decline(0): 21168, Sideways(1): 45333, Rise(2): 23018\n",
      "PyTorch data prepared - Train: torch.Size([67132, 10, 12]), Test: torch.Size([22378, 10, 12])\n"
     ]
    },
    {
     "name": "stderr",
     "output_type": "stream",
     "text": [
      "Grid Search Progress:  57%|█████▊    | 46/80 [1:40:53<2:38:53, 280.38s/it, Model=GRU, L=5, T=0.01]"
     ]
    },
    {
     "name": "stdout",
     "output_type": "stream",
     "text": [
      "Signal distribution - Decline(0): 10968, Sideways(1): 66735, Rise(2): 11816\n",
      "PyTorch data prepared - Train: torch.Size([67132, 10, 12]), Test: torch.Size([22378, 10, 12])\n"
     ]
    },
    {
     "name": "stderr",
     "output_type": "stream",
     "text": [
      "Grid Search Progress:  59%|█████▉    | 47/80 [1:45:55<2:37:49, 286.95s/it, Model=GRU, L=5, T=0.01]"
     ]
    },
    {
     "name": "stdout",
     "output_type": "stream",
     "text": [
      "Signal distribution - Decline(0): 6237, Sideways(1): 76663, Rise(2): 6619\n",
      "PyTorch data prepared - Train: torch.Size([67132, 10, 12]), Test: torch.Size([22378, 10, 12])\n"
     ]
    },
    {
     "name": "stderr",
     "output_type": "stream",
     "text": [
      "Grid Search Progress:  60%|██████    | 48/80 [1:51:14<2:38:03, 296.37s/it, Model=GRU, L=5, T=0.01]"
     ]
    },
    {
     "name": "stdout",
     "output_type": "stream",
     "text": [
      "Signal distribution - Decline(0): 34615, Sideways(1): 17046, Rise(2): 37855\n",
      "PyTorch data prepared - Train: torch.Size([67130, 10, 12]), Test: torch.Size([22377, 10, 12])\n"
     ]
    },
    {
     "name": "stderr",
     "output_type": "stream",
     "text": [
      "Grid Search Progress:  61%|██████▏   | 49/80 [1:56:07<2:32:41, 295.53s/it, Model=GRU, L=8, T=0.00]"
     ]
    },
    {
     "name": "stdout",
     "output_type": "stream",
     "text": [
      "Signal distribution - Decline(0): 24523, Sideways(1): 38015, Rise(2): 26978\n",
      "PyTorch data prepared - Train: torch.Size([67130, 10, 12]), Test: torch.Size([22377, 10, 12])\n"
     ]
    },
    {
     "name": "stderr",
     "output_type": "stream",
     "text": [
      "Grid Search Progress:  62%|██████▎   | 50/80 [2:01:01<2:27:26, 294.87s/it, Model=GRU, L=8, T=0.01]"
     ]
    },
    {
     "name": "stdout",
     "output_type": "stream",
     "text": [
      "Signal distribution - Decline(0): 14191, Sideways(1): 59738, Rise(2): 15587\n",
      "PyTorch data prepared - Train: torch.Size([67130, 10, 12]), Test: torch.Size([22377, 10, 12])\n"
     ]
    },
    {
     "name": "stderr",
     "output_type": "stream",
     "text": [
      "Grid Search Progress:  64%|██████▍   | 51/80 [2:06:05<2:23:57, 297.85s/it, Model=GRU, L=8, T=0.01]"
     ]
    },
    {
     "name": "stdout",
     "output_type": "stream",
     "text": [
      "Signal distribution - Decline(0): 8806, Sideways(1): 71160, Rise(2): 9550\n",
      "PyTorch data prepared - Train: torch.Size([67130, 10, 12]), Test: torch.Size([22377, 10, 12])\n"
     ]
    },
    {
     "name": "stderr",
     "output_type": "stream",
     "text": [
      "Grid Search Progress:  65%|██████▌   | 52/80 [2:11:47<2:25:06, 310.96s/it, Model=GRU, L=8, T=0.01]"
     ]
    },
    {
     "name": "stdout",
     "output_type": "stream",
     "text": [
      "Signal distribution - Decline(0): 35561, Sideways(1): 15259, Rise(2): 38694\n",
      "PyTorch data prepared - Train: torch.Size([67128, 10, 12]), Test: torch.Size([22377, 10, 12])\n"
     ]
    },
    {
     "name": "stderr",
     "output_type": "stream",
     "text": [
      "Grid Search Progress:  66%|██████▋   | 53/80 [2:17:14<2:22:05, 315.77s/it, Model=GRU, L=10, T=0.00]"
     ]
    },
    {
     "name": "stdout",
     "output_type": "stream",
     "text": [
      "Signal distribution - Decline(0): 26205, Sideways(1): 34492, Rise(2): 28817\n",
      "PyTorch data prepared - Train: torch.Size([67128, 10, 12]), Test: torch.Size([22377, 10, 12])\n"
     ]
    },
    {
     "name": "stderr",
     "output_type": "stream",
     "text": [
      "Grid Search Progress:  68%|██████▊   | 54/80 [2:22:28<2:16:33, 315.12s/it, Model=GRU, L=10, T=0.01]"
     ]
    },
    {
     "name": "stdout",
     "output_type": "stream",
     "text": [
      "Signal distribution - Decline(0): 15943, Sideways(1): 55874, Rise(2): 17697\n",
      "PyTorch data prepared - Train: torch.Size([67128, 10, 12]), Test: torch.Size([22377, 10, 12])\n"
     ]
    },
    {
     "name": "stderr",
     "output_type": "stream",
     "text": [
      "Grid Search Progress:  69%|██████▉   | 55/80 [2:27:20<2:08:27, 308.28s/it, Model=GRU, L=10, T=0.01]"
     ]
    },
    {
     "name": "stdout",
     "output_type": "stream",
     "text": [
      "Signal distribution - Decline(0): 10128, Sideways(1): 68029, Rise(2): 11357\n",
      "PyTorch data prepared - Train: torch.Size([67128, 10, 12]), Test: torch.Size([22377, 10, 12])\n"
     ]
    },
    {
     "name": "stderr",
     "output_type": "stream",
     "text": [
      "Grid Search Progress:  70%|███████   | 56/80 [2:32:03<2:00:18, 300.77s/it, Model=GRU, L=10, T=0.01]"
     ]
    },
    {
     "name": "stdout",
     "output_type": "stream",
     "text": [
      "Signal distribution - Decline(0): 36112, Sideways(1): 14069, Rise(2): 39331\n",
      "PyTorch data prepared - Train: torch.Size([67127, 10, 12]), Test: torch.Size([22376, 10, 12])\n"
     ]
    },
    {
     "name": "stderr",
     "output_type": "stream",
     "text": [
      "Grid Search Progress:  71%|███████▏  | 57/80 [2:36:48<1:53:24, 295.83s/it, Model=GRU, L=12, T=0.00]"
     ]
    },
    {
     "name": "stdout",
     "output_type": "stream",
     "text": [
      "Signal distribution - Decline(0): 27335, Sideways(1): 32109, Rise(2): 30068\n",
      "PyTorch data prepared - Train: torch.Size([67127, 10, 12]), Test: torch.Size([22376, 10, 12])\n"
     ]
    },
    {
     "name": "stderr",
     "output_type": "stream",
     "text": [
      "Grid Search Progress:  72%|███████▎  | 58/80 [2:41:48<1:49:02, 297.37s/it, Model=GRU, L=12, T=0.01]"
     ]
    },
    {
     "name": "stdout",
     "output_type": "stream",
     "text": [
      "Signal distribution - Decline(0): 17350, Sideways(1): 52759, Rise(2): 19403\n",
      "PyTorch data prepared - Train: torch.Size([67127, 10, 12]), Test: torch.Size([22376, 10, 12])\n"
     ]
    },
    {
     "name": "stderr",
     "output_type": "stream",
     "text": [
      "Grid Search Progress:  74%|███████▍  | 59/80 [2:46:28<1:42:15, 292.17s/it, Model=GRU, L=12, T=0.01]"
     ]
    },
    {
     "name": "stdout",
     "output_type": "stream",
     "text": [
      "Signal distribution - Decline(0): 11437, Sideways(1): 65210, Rise(2): 12865\n",
      "PyTorch data prepared - Train: torch.Size([67127, 10, 12]), Test: torch.Size([22376, 10, 12])\n"
     ]
    },
    {
     "name": "stderr",
     "output_type": "stream",
     "text": [
      "Grid Search Progress:  75%|███████▌  | 60/80 [2:51:12<1:36:31, 289.56s/it, Model=GRU, L=12, T=0.01]"
     ]
    },
    {
     "name": "stdout",
     "output_type": "stream",
     "text": [
      "Signal distribution - Decline(0): 30195, Sideways(1): 26830, Rise(2): 32496\n",
      "PyTorch data prepared - Train: torch.Size([67134, 10, 12]), Test: torch.Size([22378, 10, 12])\n"
     ]
    },
    {
     "name": "stderr",
     "output_type": "stream",
     "text": [
      "Grid Search Progress:  76%|███████▋  | 61/80 [2:54:38<1:23:47, 264.61s/it, Model=CNN, L=3, T=0.00] "
     ]
    },
    {
     "name": "stdout",
     "output_type": "stream",
     "text": [
      "Signal distribution - Decline(0): 17374, Sideways(1): 53564, Rise(2): 18583\n",
      "PyTorch data prepared - Train: torch.Size([67134, 10, 12]), Test: torch.Size([22378, 10, 12])\n"
     ]
    },
    {
     "name": "stderr",
     "output_type": "stream",
     "text": [
      "Grid Search Progress:  78%|███████▊  | 62/80 [2:58:08<1:14:28, 248.24s/it, Model=CNN, L=3, T=0.01]"
     ]
    },
    {
     "name": "stdout",
     "output_type": "stream",
     "text": [
      "Signal distribution - Decline(0): 7892, Sideways(1): 73339, Rise(2): 8290\n",
      "PyTorch data prepared - Train: torch.Size([67134, 10, 12]), Test: torch.Size([22378, 10, 12])\n"
     ]
    },
    {
     "name": "stderr",
     "output_type": "stream",
     "text": [
      "Grid Search Progress:  79%|███████▉  | 63/80 [3:01:36<1:06:55, 236.19s/it, Model=CNN, L=3, T=0.01]"
     ]
    },
    {
     "name": "stdout",
     "output_type": "stream",
     "text": [
      "Signal distribution - Decline(0): 4062, Sideways(1): 81247, Rise(2): 4212\n",
      "PyTorch data prepared - Train: torch.Size([67134, 10, 12]), Test: torch.Size([22378, 10, 12])\n"
     ]
    },
    {
     "name": "stderr",
     "output_type": "stream",
     "text": [
      "Grid Search Progress:  80%|████████  | 64/80 [3:05:03<1:00:36, 227.28s/it, Model=CNN, L=3, T=0.01]"
     ]
    },
    {
     "name": "stdout",
     "output_type": "stream",
     "text": [
      "Signal distribution - Decline(0): 32599, Sideways(1): 21548, Rise(2): 35372\n",
      "PyTorch data prepared - Train: torch.Size([67132, 10, 12]), Test: torch.Size([22378, 10, 12])\n"
     ]
    },
    {
     "name": "stderr",
     "output_type": "stream",
     "text": [
      "Grid Search Progress:  81%|████████▏ | 65/80 [3:08:27<55:06, 220.44s/it, Model=CNN, L=5, T=0.00]  "
     ]
    },
    {
     "name": "stdout",
     "output_type": "stream",
     "text": [
      "Signal distribution - Decline(0): 21168, Sideways(1): 45333, Rise(2): 23018\n",
      "PyTorch data prepared - Train: torch.Size([67132, 10, 12]), Test: torch.Size([22378, 10, 12])\n"
     ]
    },
    {
     "name": "stderr",
     "output_type": "stream",
     "text": [
      "Grid Search Progress:  82%|████████▎ | 66/80 [3:11:42<49:37, 212.70s/it, Model=CNN, L=5, T=0.01]"
     ]
    },
    {
     "name": "stdout",
     "output_type": "stream",
     "text": [
      "Signal distribution - Decline(0): 10968, Sideways(1): 66735, Rise(2): 11816\n",
      "PyTorch data prepared - Train: torch.Size([67132, 10, 12]), Test: torch.Size([22378, 10, 12])\n"
     ]
    },
    {
     "name": "stderr",
     "output_type": "stream",
     "text": [
      "Grid Search Progress:  84%|████████▍ | 67/80 [3:14:56<44:53, 207.20s/it, Model=CNN, L=5, T=0.01]"
     ]
    },
    {
     "name": "stdout",
     "output_type": "stream",
     "text": [
      "Signal distribution - Decline(0): 6237, Sideways(1): 76663, Rise(2): 6619\n",
      "PyTorch data prepared - Train: torch.Size([67132, 10, 12]), Test: torch.Size([22378, 10, 12])\n"
     ]
    },
    {
     "name": "stderr",
     "output_type": "stream",
     "text": [
      "Grid Search Progress:  85%|████████▌ | 68/80 [3:18:09<40:33, 202.75s/it, Model=CNN, L=5, T=0.01]"
     ]
    },
    {
     "name": "stdout",
     "output_type": "stream",
     "text": [
      "Signal distribution - Decline(0): 34615, Sideways(1): 17046, Rise(2): 37855\n",
      "PyTorch data prepared - Train: torch.Size([67130, 10, 12]), Test: torch.Size([22377, 10, 12])\n"
     ]
    },
    {
     "name": "stderr",
     "output_type": "stream",
     "text": [
      "Grid Search Progress:  86%|████████▋ | 69/80 [3:21:22<36:38, 199.86s/it, Model=CNN, L=8, T=0.00]"
     ]
    },
    {
     "name": "stdout",
     "output_type": "stream",
     "text": [
      "Signal distribution - Decline(0): 24523, Sideways(1): 38015, Rise(2): 26978\n",
      "PyTorch data prepared - Train: torch.Size([67130, 10, 12]), Test: torch.Size([22377, 10, 12])\n"
     ]
    },
    {
     "name": "stderr",
     "output_type": "stream",
     "text": [
      "Grid Search Progress:  88%|████████▊ | 70/80 [3:24:35<32:58, 197.83s/it, Model=CNN, L=8, T=0.01]"
     ]
    },
    {
     "name": "stdout",
     "output_type": "stream",
     "text": [
      "Signal distribution - Decline(0): 14191, Sideways(1): 59738, Rise(2): 15587\n",
      "PyTorch data prepared - Train: torch.Size([67130, 10, 12]), Test: torch.Size([22377, 10, 12])\n"
     ]
    },
    {
     "name": "stderr",
     "output_type": "stream",
     "text": [
      "Grid Search Progress:  89%|████████▉ | 71/80 [3:27:44<29:15, 195.09s/it, Model=CNN, L=8, T=0.01]"
     ]
    },
    {
     "name": "stdout",
     "output_type": "stream",
     "text": [
      "Signal distribution - Decline(0): 8806, Sideways(1): 71160, Rise(2): 9550\n",
      "PyTorch data prepared - Train: torch.Size([67130, 10, 12]), Test: torch.Size([22377, 10, 12])\n"
     ]
    },
    {
     "name": "stderr",
     "output_type": "stream",
     "text": [
      "Grid Search Progress:  90%|█████████ | 72/80 [3:30:57<25:55, 194.46s/it, Model=CNN, L=8, T=0.01]"
     ]
    },
    {
     "name": "stdout",
     "output_type": "stream",
     "text": [
      "Signal distribution - Decline(0): 35561, Sideways(1): 15259, Rise(2): 38694\n",
      "PyTorch data prepared - Train: torch.Size([67128, 10, 12]), Test: torch.Size([22377, 10, 12])\n"
     ]
    },
    {
     "name": "stderr",
     "output_type": "stream",
     "text": [
      "Grid Search Progress:  91%|█████████▏| 73/80 [3:34:08<22:33, 193.39s/it, Model=CNN, L=10, T=0.00]"
     ]
    },
    {
     "name": "stdout",
     "output_type": "stream",
     "text": [
      "Signal distribution - Decline(0): 26205, Sideways(1): 34492, Rise(2): 28817\n",
      "PyTorch data prepared - Train: torch.Size([67128, 10, 12]), Test: torch.Size([22377, 10, 12])\n"
     ]
    },
    {
     "name": "stderr",
     "output_type": "stream",
     "text": [
      "Grid Search Progress:  92%|█████████▎| 74/80 [3:37:20<19:18, 193.00s/it, Model=CNN, L=10, T=0.01]"
     ]
    },
    {
     "name": "stdout",
     "output_type": "stream",
     "text": [
      "Signal distribution - Decline(0): 15943, Sideways(1): 55874, Rise(2): 17697\n",
      "PyTorch data prepared - Train: torch.Size([67128, 10, 12]), Test: torch.Size([22377, 10, 12])\n"
     ]
    },
    {
     "name": "stderr",
     "output_type": "stream",
     "text": [
      "Grid Search Progress:  94%|█████████▍| 75/80 [3:40:33<16:05, 193.11s/it, Model=CNN, L=10, T=0.01]"
     ]
    },
    {
     "name": "stdout",
     "output_type": "stream",
     "text": [
      "Signal distribution - Decline(0): 10128, Sideways(1): 68029, Rise(2): 11357\n",
      "PyTorch data prepared - Train: torch.Size([67128, 10, 12]), Test: torch.Size([22377, 10, 12])\n"
     ]
    },
    {
     "name": "stderr",
     "output_type": "stream",
     "text": [
      "Grid Search Progress:  95%|█████████▌| 76/80 [3:43:46<12:52, 193.03s/it, Model=CNN, L=10, T=0.01]"
     ]
    },
    {
     "name": "stdout",
     "output_type": "stream",
     "text": [
      "Signal distribution - Decline(0): 36112, Sideways(1): 14069, Rise(2): 39331\n",
      "PyTorch data prepared - Train: torch.Size([67127, 10, 12]), Test: torch.Size([22376, 10, 12])\n"
     ]
    },
    {
     "name": "stderr",
     "output_type": "stream",
     "text": [
      "Grid Search Progress:  96%|█████████▋| 77/80 [3:46:55<09:35, 191.99s/it, Model=CNN, L=12, T=0.00]"
     ]
    },
    {
     "name": "stdout",
     "output_type": "stream",
     "text": [
      "Signal distribution - Decline(0): 27335, Sideways(1): 32109, Rise(2): 30068\n",
      "PyTorch data prepared - Train: torch.Size([67127, 10, 12]), Test: torch.Size([22376, 10, 12])\n"
     ]
    },
    {
     "name": "stderr",
     "output_type": "stream",
     "text": [
      "Grid Search Progress:  98%|█████████▊| 78/80 [3:50:07<06:23, 191.76s/it, Model=CNN, L=12, T=0.01]"
     ]
    },
    {
     "name": "stdout",
     "output_type": "stream",
     "text": [
      "Signal distribution - Decline(0): 17350, Sideways(1): 52759, Rise(2): 19403\n",
      "PyTorch data prepared - Train: torch.Size([67127, 10, 12]), Test: torch.Size([22376, 10, 12])\n"
     ]
    },
    {
     "name": "stderr",
     "output_type": "stream",
     "text": [
      "Grid Search Progress:  99%|█████████▉| 79/80 [3:53:16<03:10, 190.99s/it, Model=CNN, L=12, T=0.01]"
     ]
    },
    {
     "name": "stdout",
     "output_type": "stream",
     "text": [
      "Signal distribution - Decline(0): 11437, Sideways(1): 65210, Rise(2): 12865\n",
      "PyTorch data prepared - Train: torch.Size([67127, 10, 12]), Test: torch.Size([22376, 10, 12])\n"
     ]
    },
    {
     "name": "stderr",
     "output_type": "stream",
     "text": [
      "Grid Search Progress: 100%|██████████| 80/80 [3:56:25<00:00, 177.32s/it, Model=CNN, L=12, T=0.01]"
     ]
    },
    {
     "name": "stdout",
     "output_type": "stream",
     "text": [
      "\n",
      "Results saved to: ../../results/bnb_results_30m_3class.csv\n",
      "\n",
      "======================================================================\n",
      "COMPLETE EXPERIMENTAL RESULTS\n",
      "======================================================================\n",
      "      model  lookahead  threshold  accuracy  loss_count  loss_mean  \\\n",
      "0   XGBoost          3      0.002    0.4557        6688     0.0076   \n",
      "1   XGBoost          3      0.005    0.6199        1084     0.0137   \n",
      "2   XGBoost          3      0.010    0.8236         189     0.0173   \n",
      "3   XGBoost          3      0.015    0.9089          84     0.0244   \n",
      "4   XGBoost          5      0.002    0.4834        7496     0.0086   \n",
      "..      ...        ...        ...       ...         ...        ...   \n",
      "75      CNN         10      0.015    0.8473          23     0.0192   \n",
      "76      CNN         12      0.002    0.4085       11145     0.0096   \n",
      "77      CNN         12      0.005    0.4378        3364     0.0127   \n",
      "78      CNN         12      0.010    0.6716         115     0.0195   \n",
      "79      CNN         12      0.015    0.8152          39     0.0283   \n",
      "\n",
      "    transaction  \n",
      "0         15645  \n",
      "1          2686  \n",
      "2           561  \n",
      "3           228  \n",
      "4         18521  \n",
      "..          ...  \n",
      "75           59  \n",
      "76        22146  \n",
      "77         7536  \n",
      "78          271  \n",
      "79           81  \n",
      "\n",
      "[80 rows x 7 columns]\n",
      "\n",
      "======================================================================\n",
      "BEST PERFORMANCE BY MODEL TYPE\n",
      "======================================================================\n",
      "      model  lookahead  threshold  accuracy  loss_count  loss_mean\n",
      "63      CNN          3      0.015    0.9571           1     0.0064\n",
      "43      GRU          3      0.015    0.9571           1     0.0100\n",
      "23     LSTM          3      0.015    0.9569           5     0.0148\n",
      "3   XGBoost          3      0.015    0.9089          84     0.0244\n",
      "\n",
      "======================================================================\n",
      "OVERALL CHAMPION CONFIGURATION\n",
      "======================================================================\n",
      "Best Model: GRU\n",
      "Optimal Lookahead: 3 days\n",
      "Optimal Threshold: 0.015\n",
      "Peak Accuracy: 0.9571 (95.71%)\n",
      "Loss Events: 1\n",
      "Average Loss: 0.010021\n",
      "\n",
      "==================================================\n",
      "SUMMARY\n",
      "==================================================\n",
      "Total experiments: 80\n",
      "Best accuracy: 0.9571\n",
      "Average accuracy: 0.6465\n",
      "\n",
      "Best configuration:\n",
      "Model: GRU, Lookahead: 3, Threshold: 0.015\n"
     ]
    },
    {
     "name": "stderr",
     "output_type": "stream",
     "text": [
      "\n"
     ]
    }
   ],
   "source": [
    "\"\"\"\n",
    " Price Movement Prediction - Main Execution Script\n",
    "\"\"\"\n",
    "\n",
    "import pandas as pd\n",
    "import torch\n",
    "import warnings\n",
    "warnings.filterwarnings('ignore')\n",
    "\n",
    "from experiment_runner import ExperimentRunner\n",
    "\n",
    "def bnb_30m():\n",
    "    \"\"\"Main execution function\"\"\"\n",
    "    \n",
    "    # ============= CONFIGURATION =============\n",
    "    # Tùy chỉnh các tham số tại đây\n",
    "    \n",
    "    DATA_PATH = r'F:\\up_git\\official_predict\\data\\bnb_30m.csv'  # Đường dẫn file data\n",
    "    \n",
    "    # Tạo thư mục results ở cấp trên 2 cấp nếu chưa có\n",
    "    import os\n",
    "    results_dir = os.path.join('..', '..', 'results')\n",
    "    os.makedirs(results_dir, exist_ok=True)\n",
    "    \n",
    "    OUTPUT_FILENAME = '../../results/bnb_results_30m_3class.csv'  # Lưu vào thư mục results cấp trên 2\n",
    "    \n",
    "    LOOKAHEAD_VALUES = [3, 5, 8, 10, 12]  \n",
    "    THRESHOLD_VALUES = [0.002, 0.005, 0.01, 0.015]  \n",
    "    \n",
    "    MODEL_TYPES = ['XGBoost', 'LSTM', 'GRU', 'CNN']  # Các model cần test\n",
    "    SEQUENCE_LENGTH = 10  # Độ dài chuỗi cho deep learning\n",
    "    \n",
    "    # ============= CHẠY THÍ NGHIỆM =============\n",
    "    \n",
    "    print(f\"Using device: {torch.device('cuda' if torch.cuda.is_available() else 'cpu')}\")\n",
    "    \n",
    "    runner = ExperimentRunner(\n",
    "        data_path=DATA_PATH,\n",
    "        output_filename=OUTPUT_FILENAME,\n",
    "        sequence_length=SEQUENCE_LENGTH,\n",
    "        verbose=False\n",
    "    )\n",
    "    \n",
    "    results = runner.run_grid_search(\n",
    "        lookahead_values=LOOKAHEAD_VALUES,\n",
    "        threshold_values=THRESHOLD_VALUES,\n",
    "        model_types=MODEL_TYPES\n",
    "    )\n",
    "    \n",
    "    # ============= HIỂN THỊ KẾT QUẢ =============\n",
    "    \n",
    "    if results is not None and not results.empty:\n",
    "        runner.display_results(results)\n",
    "        \n",
    "        # Thống kê tóm tắt\n",
    "        print(f\"\\n{'='*50}\")\n",
    "        print(\"SUMMARY\")\n",
    "        print(f\"{'='*50}\")\n",
    "        print(f\"Total experiments: {len(results)}\")\n",
    "        print(f\"Best accuracy: {results['accuracy'].max():.4f}\")\n",
    "        print(f\"Average accuracy: {results['accuracy'].mean():.4f}\")\n",
    "        \n",
    "        # Kết quả tốt nhất\n",
    "        best = results.loc[results['accuracy'].idxmax()]\n",
    "        print(f\"\\nBest configuration:\")\n",
    "        print(f\"Model: {best['model']}, Lookahead: {best['lookahead']}, Threshold: {best['threshold']}\")\n",
    "        \n",
    "    else:\n",
    "        print(\"No results generated.\")\n",
    "\n",
    "bnb_30m()"
   ]
  }
 ],
 "metadata": {
  "kernelspec": {
   "display_name": "For_pytorch",
   "language": "python",
   "name": "python3"
  },
  "language_info": {
   "codemirror_mode": {
    "name": "ipython",
    "version": 3
   },
   "file_extension": ".py",
   "mimetype": "text/x-python",
   "name": "python",
   "nbconvert_exporter": "python",
   "pygments_lexer": "ipython3",
   "version": "3.12.9"
  }
 },
 "nbformat": 4,
 "nbformat_minor": 5
}
