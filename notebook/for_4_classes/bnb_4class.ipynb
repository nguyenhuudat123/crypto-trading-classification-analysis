{
 "cells": [
  {
   "cell_type": "code",
   "execution_count": 3,
   "id": "4ac16408",
   "metadata": {},
   "outputs": [
    {
     "name": "stderr",
     "output_type": "stream",
     "text": [
      "Running experiments:   0%|                                                   | 0/80 [00:00<?, ?it/s]"
     ]
    },
    {
     "name": "stdout",
     "output_type": "stream",
     "text": [
      "Signal distribution - Strong Decline(0): 526, Slight Decline(1): 337, Slight Rise(2): 331, Strong Rise(3): 642\n"
     ]
    },
    {
     "name": "stderr",
     "output_type": "stream",
     "text": [
      "Running experiments:   1%|▏                 | 1/80 [00:00<00:34,  2.30it/s, Model=XGBoost, Status=✓]"
     ]
    },
    {
     "name": "stdout",
     "output_type": "stream",
     "text": [
      "Signal distribution - Strong Decline(0): 407, Slight Decline(1): 456, Slight Rise(2): 451, Strong Rise(3): 522\n"
     ]
    },
    {
     "name": "stderr",
     "output_type": "stream",
     "text": [
      "Running experiments:   2%|▍                 | 2/80 [00:00<00:30,  2.56it/s, Model=XGBoost, Status=✓]"
     ]
    },
    {
     "name": "stdout",
     "output_type": "stream",
     "text": [
      "Signal distribution - Strong Decline(0): 324, Slight Decline(1): 539, Slight Rise(2): 546, Strong Rise(3): 427\n"
     ]
    },
    {
     "name": "stderr",
     "output_type": "stream",
     "text": [
      "Running experiments:   4%|▋                 | 3/80 [00:01<00:30,  2.49it/s, Model=XGBoost, Status=✓]"
     ]
    },
    {
     "name": "stdout",
     "output_type": "stream",
     "text": [
      "Signal distribution - Strong Decline(0): 254, Slight Decline(1): 609, Slight Rise(2): 639, Strong Rise(3): 334\n"
     ]
    },
    {
     "name": "stderr",
     "output_type": "stream",
     "text": [
      "Running experiments:   5%|▉                 | 4/80 [00:01<00:29,  2.56it/s, Model=XGBoost, Status=✓]"
     ]
    },
    {
     "name": "stdout",
     "output_type": "stream",
     "text": [
      "Signal distribution - Strong Decline(0): 584, Slight Decline(1): 288, Slight Rise(2): 236, Strong Rise(3): 726\n"
     ]
    },
    {
     "name": "stderr",
     "output_type": "stream",
     "text": [
      "Running experiments:   6%|█▏                | 5/80 [00:02<00:30,  2.49it/s, Model=XGBoost, Status=✓]"
     ]
    },
    {
     "name": "stdout",
     "output_type": "stream",
     "text": [
      "Signal distribution - Strong Decline(0): 470, Slight Decline(1): 402, Slight Rise(2): 331, Strong Rise(3): 631\n"
     ]
    },
    {
     "name": "stderr",
     "output_type": "stream",
     "text": [
      "Running experiments:   8%|█▎                | 6/80 [00:02<00:30,  2.42it/s, Model=XGBoost, Status=✓]"
     ]
    },
    {
     "name": "stdout",
     "output_type": "stream",
     "text": [
      "Signal distribution - Strong Decline(0): 370, Slight Decline(1): 502, Slight Rise(2): 414, Strong Rise(3): 548\n"
     ]
    },
    {
     "name": "stderr",
     "output_type": "stream",
     "text": [
      "Running experiments:   9%|█▌                | 7/80 [00:02<00:28,  2.53it/s, Model=XGBoost, Status=✓]"
     ]
    },
    {
     "name": "stdout",
     "output_type": "stream",
     "text": [
      "Signal distribution - Strong Decline(0): 316, Slight Decline(1): 556, Slight Rise(2): 496, Strong Rise(3): 466\n"
     ]
    },
    {
     "name": "stderr",
     "output_type": "stream",
     "text": [
      "Running experiments:  10%|█▊                | 8/80 [00:03<00:28,  2.52it/s, Model=XGBoost, Status=✓]"
     ]
    },
    {
     "name": "stdout",
     "output_type": "stream",
     "text": [
      "Signal distribution - Strong Decline(0): 634, Slight Decline(1): 215, Slight Rise(2): 198, Strong Rise(3): 784\n"
     ]
    },
    {
     "name": "stderr",
     "output_type": "stream",
     "text": [
      "Running experiments:  11%|██                | 9/80 [00:03<00:28,  2.50it/s, Model=XGBoost, Status=✓]"
     ]
    },
    {
     "name": "stdout",
     "output_type": "stream",
     "text": [
      "Signal distribution - Strong Decline(0): 530, Slight Decline(1): 319, Slight Rise(2): 271, Strong Rise(3): 711\n"
     ]
    },
    {
     "name": "stderr",
     "output_type": "stream",
     "text": [
      "Running experiments:  12%|██▏              | 10/80 [00:03<00:27,  2.58it/s, Model=XGBoost, Status=✓]"
     ]
    },
    {
     "name": "stdout",
     "output_type": "stream",
     "text": [
      "Signal distribution - Strong Decline(0): 447, Slight Decline(1): 402, Slight Rise(2): 340, Strong Rise(3): 642\n"
     ]
    },
    {
     "name": "stderr",
     "output_type": "stream",
     "text": [
      "Running experiments:  14%|██▎              | 11/80 [00:04<00:27,  2.48it/s, Model=XGBoost, Status=✓]"
     ]
    },
    {
     "name": "stdout",
     "output_type": "stream",
     "text": [
      "Signal distribution - Strong Decline(0): 371, Slight Decline(1): 478, Slight Rise(2): 408, Strong Rise(3): 574\n"
     ]
    },
    {
     "name": "stderr",
     "output_type": "stream",
     "text": [
      "Running experiments:  15%|██▌              | 12/80 [00:04<00:28,  2.39it/s, Model=XGBoost, Status=✓]"
     ]
    },
    {
     "name": "stdout",
     "output_type": "stream",
     "text": [
      "Signal distribution - Strong Decline(0): 639, Slight Decline(1): 187, Slight Rise(2): 168, Strong Rise(3): 835\n"
     ]
    },
    {
     "name": "stderr",
     "output_type": "stream",
     "text": [
      "Running experiments:  16%|██▊              | 13/80 [00:05<00:26,  2.48it/s, Model=XGBoost, Status=✓]"
     ]
    },
    {
     "name": "stdout",
     "output_type": "stream",
     "text": [
      "Signal distribution - Strong Decline(0): 560, Slight Decline(1): 266, Slight Rise(2): 246, Strong Rise(3): 757\n"
     ]
    },
    {
     "name": "stderr",
     "output_type": "stream",
     "text": [
      "Running experiments:  18%|██▉              | 14/80 [00:05<00:26,  2.49it/s, Model=XGBoost, Status=✓]"
     ]
    },
    {
     "name": "stdout",
     "output_type": "stream",
     "text": [
      "Signal distribution - Strong Decline(0): 477, Slight Decline(1): 349, Slight Rise(2): 322, Strong Rise(3): 681\n"
     ]
    },
    {
     "name": "stderr",
     "output_type": "stream",
     "text": [
      "Running experiments:  19%|███▏             | 15/80 [00:06<00:26,  2.43it/s, Model=XGBoost, Status=✓]"
     ]
    },
    {
     "name": "stdout",
     "output_type": "stream",
     "text": [
      "Signal distribution - Strong Decline(0): 406, Slight Decline(1): 420, Slight Rise(2): 383, Strong Rise(3): 620\n"
     ]
    },
    {
     "name": "stderr",
     "output_type": "stream",
     "text": [
      "Running experiments:  20%|███▍             | 16/80 [00:06<00:25,  2.48it/s, Model=XGBoost, Status=✓]"
     ]
    },
    {
     "name": "stdout",
     "output_type": "stream",
     "text": [
      "Signal distribution - Strong Decline(0): 644, Slight Decline(1): 166, Slight Rise(2): 178, Strong Rise(3): 839\n"
     ]
    },
    {
     "name": "stderr",
     "output_type": "stream",
     "text": [
      "Running experiments:  21%|███▌             | 17/80 [00:06<00:26,  2.42it/s, Model=XGBoost, Status=✓]"
     ]
    },
    {
     "name": "stdout",
     "output_type": "stream",
     "text": [
      "Signal distribution - Strong Decline(0): 578, Slight Decline(1): 232, Slight Rise(2): 243, Strong Rise(3): 774\n"
     ]
    },
    {
     "name": "stderr",
     "output_type": "stream",
     "text": [
      "Running experiments:  22%|███▊             | 18/80 [00:07<00:26,  2.34it/s, Model=XGBoost, Status=✓]"
     ]
    },
    {
     "name": "stdout",
     "output_type": "stream",
     "text": [
      "Signal distribution - Strong Decline(0): 498, Slight Decline(1): 312, Slight Rise(2): 302, Strong Rise(3): 715\n"
     ]
    },
    {
     "name": "stderr",
     "output_type": "stream",
     "text": [
      "Running experiments:  24%|████             | 19/80 [00:07<00:24,  2.45it/s, Model=XGBoost, Status=✓]"
     ]
    },
    {
     "name": "stdout",
     "output_type": "stream",
     "text": [
      "Signal distribution - Strong Decline(0): 444, Slight Decline(1): 366, Slight Rise(2): 366, Strong Rise(3): 651\n"
     ]
    },
    {
     "name": "stderr",
     "output_type": "stream",
     "text": [
      "Running experiments:  25%|████▎            | 20/80 [00:08<00:24,  2.41it/s, Model=XGBoost, Status=✓]"
     ]
    },
    {
     "name": "stdout",
     "output_type": "stream",
     "text": [
      "Signal distribution - Strong Decline(0): 526, Slight Decline(1): 337, Slight Rise(2): 331, Strong Rise(3): 642\n",
      "PyTorch data prepared - Train: torch.Size([1370, 10, 12]), Test: torch.Size([457, 10, 12])\n"
     ]
    },
    {
     "name": "stderr",
     "output_type": "stream",
     "text": [
      "Running experiments:  26%|█████▎              | 21/80 [00:24<05:13,  5.31s/it, Model=LSTM, Status=✓]"
     ]
    },
    {
     "name": "stdout",
     "output_type": "stream",
     "text": [
      "Signal distribution - Strong Decline(0): 407, Slight Decline(1): 456, Slight Rise(2): 451, Strong Rise(3): 522\n",
      "PyTorch data prepared - Train: torch.Size([1370, 10, 12]), Test: torch.Size([457, 10, 12])\n"
     ]
    },
    {
     "name": "stderr",
     "output_type": "stream",
     "text": [
      "Running experiments:  28%|█████▌              | 22/80 [00:39<07:55,  8.20s/it, Model=LSTM, Status=✓]"
     ]
    },
    {
     "name": "stdout",
     "output_type": "stream",
     "text": [
      "Signal distribution - Strong Decline(0): 324, Slight Decline(1): 539, Slight Rise(2): 546, Strong Rise(3): 427\n",
      "PyTorch data prepared - Train: torch.Size([1370, 10, 12]), Test: torch.Size([457, 10, 12])\n"
     ]
    },
    {
     "name": "stderr",
     "output_type": "stream",
     "text": [
      "Running experiments:  29%|█████▊              | 23/80 [00:54<09:46, 10.28s/it, Model=LSTM, Status=✓]"
     ]
    },
    {
     "name": "stdout",
     "output_type": "stream",
     "text": [
      "Signal distribution - Strong Decline(0): 254, Slight Decline(1): 609, Slight Rise(2): 639, Strong Rise(3): 334\n",
      "PyTorch data prepared - Train: torch.Size([1370, 10, 12]), Test: torch.Size([457, 10, 12])\n"
     ]
    },
    {
     "name": "stderr",
     "output_type": "stream",
     "text": [
      "Running experiments:  30%|██████              | 24/80 [01:10<11:02, 11.84s/it, Model=LSTM, Status=✓]"
     ]
    },
    {
     "name": "stdout",
     "output_type": "stream",
     "text": [
      "Signal distribution - Strong Decline(0): 584, Slight Decline(1): 288, Slight Rise(2): 236, Strong Rise(3): 726\n",
      "PyTorch data prepared - Train: torch.Size([1368, 10, 12]), Test: torch.Size([457, 10, 12])\n"
     ]
    },
    {
     "name": "stderr",
     "output_type": "stream",
     "text": [
      "Running experiments:  31%|██████▎             | 25/80 [01:25<11:44, 12.80s/it, Model=LSTM, Status=✓]"
     ]
    },
    {
     "name": "stdout",
     "output_type": "stream",
     "text": [
      "Signal distribution - Strong Decline(0): 470, Slight Decline(1): 402, Slight Rise(2): 331, Strong Rise(3): 631\n",
      "PyTorch data prepared - Train: torch.Size([1368, 10, 12]), Test: torch.Size([457, 10, 12])\n"
     ]
    },
    {
     "name": "stderr",
     "output_type": "stream",
     "text": [
      "Running experiments:  32%|██████▌             | 26/80 [01:39<11:58, 13.30s/it, Model=LSTM, Status=✓]"
     ]
    },
    {
     "name": "stdout",
     "output_type": "stream",
     "text": [
      "Signal distribution - Strong Decline(0): 370, Slight Decline(1): 502, Slight Rise(2): 414, Strong Rise(3): 548\n",
      "PyTorch data prepared - Train: torch.Size([1368, 10, 12]), Test: torch.Size([457, 10, 12])\n"
     ]
    },
    {
     "name": "stderr",
     "output_type": "stream",
     "text": [
      "Running experiments:  34%|██████▊             | 27/80 [01:54<12:04, 13.66s/it, Model=LSTM, Status=✓]"
     ]
    },
    {
     "name": "stdout",
     "output_type": "stream",
     "text": [
      "Signal distribution - Strong Decline(0): 316, Slight Decline(1): 556, Slight Rise(2): 496, Strong Rise(3): 466\n",
      "PyTorch data prepared - Train: torch.Size([1368, 10, 12]), Test: torch.Size([457, 10, 12])\n"
     ]
    },
    {
     "name": "stderr",
     "output_type": "stream",
     "text": [
      "Running experiments:  35%|███████             | 28/80 [02:09<12:05, 13.96s/it, Model=LSTM, Status=✓]"
     ]
    },
    {
     "name": "stdout",
     "output_type": "stream",
     "text": [
      "Signal distribution - Strong Decline(0): 634, Slight Decline(1): 215, Slight Rise(2): 198, Strong Rise(3): 784\n",
      "PyTorch data prepared - Train: torch.Size([1366, 10, 12]), Test: torch.Size([456, 10, 12])\n"
     ]
    },
    {
     "name": "stderr",
     "output_type": "stream",
     "text": [
      "Running experiments:  36%|███████▎            | 29/80 [02:23<12:00, 14.13s/it, Model=LSTM, Status=✓]"
     ]
    },
    {
     "name": "stdout",
     "output_type": "stream",
     "text": [
      "Signal distribution - Strong Decline(0): 530, Slight Decline(1): 319, Slight Rise(2): 271, Strong Rise(3): 711\n",
      "PyTorch data prepared - Train: torch.Size([1366, 10, 12]), Test: torch.Size([456, 10, 12])\n"
     ]
    },
    {
     "name": "stderr",
     "output_type": "stream",
     "text": [
      "Running experiments:  38%|███████▌            | 30/80 [02:38<11:55, 14.31s/it, Model=LSTM, Status=✓]"
     ]
    },
    {
     "name": "stdout",
     "output_type": "stream",
     "text": [
      "Signal distribution - Strong Decline(0): 447, Slight Decline(1): 402, Slight Rise(2): 340, Strong Rise(3): 642\n",
      "PyTorch data prepared - Train: torch.Size([1366, 10, 12]), Test: torch.Size([456, 10, 12])\n"
     ]
    },
    {
     "name": "stderr",
     "output_type": "stream",
     "text": [
      "Running experiments:  39%|███████▊            | 31/80 [02:53<11:48, 14.47s/it, Model=LSTM, Status=✓]"
     ]
    },
    {
     "name": "stdout",
     "output_type": "stream",
     "text": [
      "Signal distribution - Strong Decline(0): 371, Slight Decline(1): 478, Slight Rise(2): 408, Strong Rise(3): 574\n",
      "PyTorch data prepared - Train: torch.Size([1366, 10, 12]), Test: torch.Size([456, 10, 12])\n"
     ]
    },
    {
     "name": "stderr",
     "output_type": "stream",
     "text": [
      "Running experiments:  40%|████████            | 32/80 [03:08<11:50, 14.80s/it, Model=LSTM, Status=✓]"
     ]
    },
    {
     "name": "stdout",
     "output_type": "stream",
     "text": [
      "Signal distribution - Strong Decline(0): 639, Slight Decline(1): 187, Slight Rise(2): 168, Strong Rise(3): 835\n",
      "PyTorch data prepared - Train: torch.Size([1365, 10, 12]), Test: torch.Size([455, 10, 12])\n"
     ]
    },
    {
     "name": "stderr",
     "output_type": "stream",
     "text": [
      "Running experiments:  41%|████████▎           | 33/80 [03:24<11:50, 15.12s/it, Model=LSTM, Status=✓]"
     ]
    },
    {
     "name": "stdout",
     "output_type": "stream",
     "text": [
      "Signal distribution - Strong Decline(0): 560, Slight Decline(1): 266, Slight Rise(2): 246, Strong Rise(3): 757\n",
      "PyTorch data prepared - Train: torch.Size([1365, 10, 12]), Test: torch.Size([455, 10, 12])\n"
     ]
    },
    {
     "name": "stderr",
     "output_type": "stream",
     "text": [
      "Running experiments:  42%|████████▌           | 34/80 [03:39<11:34, 15.09s/it, Model=LSTM, Status=✓]"
     ]
    },
    {
     "name": "stdout",
     "output_type": "stream",
     "text": [
      "Signal distribution - Strong Decline(0): 477, Slight Decline(1): 349, Slight Rise(2): 322, Strong Rise(3): 681\n",
      "PyTorch data prepared - Train: torch.Size([1365, 10, 12]), Test: torch.Size([455, 10, 12])\n"
     ]
    },
    {
     "name": "stderr",
     "output_type": "stream",
     "text": [
      "Running experiments:  44%|████████▊           | 35/80 [03:54<11:22, 15.16s/it, Model=LSTM, Status=✓]"
     ]
    },
    {
     "name": "stdout",
     "output_type": "stream",
     "text": [
      "Signal distribution - Strong Decline(0): 406, Slight Decline(1): 420, Slight Rise(2): 383, Strong Rise(3): 620\n",
      "PyTorch data prepared - Train: torch.Size([1365, 10, 12]), Test: torch.Size([455, 10, 12])\n"
     ]
    },
    {
     "name": "stderr",
     "output_type": "stream",
     "text": [
      "Running experiments:  45%|█████████           | 36/80 [04:10<11:07, 15.17s/it, Model=LSTM, Status=✓]"
     ]
    },
    {
     "name": "stdout",
     "output_type": "stream",
     "text": [
      "Signal distribution - Strong Decline(0): 644, Slight Decline(1): 166, Slight Rise(2): 178, Strong Rise(3): 839\n",
      "PyTorch data prepared - Train: torch.Size([1363, 10, 12]), Test: torch.Size([455, 10, 12])\n"
     ]
    },
    {
     "name": "stderr",
     "output_type": "stream",
     "text": [
      "Running experiments:  46%|█████████▎          | 37/80 [04:25<10:51, 15.16s/it, Model=LSTM, Status=✓]"
     ]
    },
    {
     "name": "stdout",
     "output_type": "stream",
     "text": [
      "Signal distribution - Strong Decline(0): 578, Slight Decline(1): 232, Slight Rise(2): 243, Strong Rise(3): 774\n",
      "PyTorch data prepared - Train: torch.Size([1363, 10, 12]), Test: torch.Size([455, 10, 12])\n"
     ]
    },
    {
     "name": "stderr",
     "output_type": "stream",
     "text": [
      "Running experiments:  48%|█████████▌          | 38/80 [04:40<10:42, 15.31s/it, Model=LSTM, Status=✓]"
     ]
    },
    {
     "name": "stdout",
     "output_type": "stream",
     "text": [
      "Signal distribution - Strong Decline(0): 498, Slight Decline(1): 312, Slight Rise(2): 302, Strong Rise(3): 715\n",
      "PyTorch data prepared - Train: torch.Size([1363, 10, 12]), Test: torch.Size([455, 10, 12])\n"
     ]
    },
    {
     "name": "stderr",
     "output_type": "stream",
     "text": [
      "Running experiments:  49%|█████████▊          | 39/80 [04:56<10:27, 15.30s/it, Model=LSTM, Status=✓]"
     ]
    },
    {
     "name": "stdout",
     "output_type": "stream",
     "text": [
      "Signal distribution - Strong Decline(0): 444, Slight Decline(1): 366, Slight Rise(2): 366, Strong Rise(3): 651\n",
      "PyTorch data prepared - Train: torch.Size([1363, 10, 12]), Test: torch.Size([455, 10, 12])\n"
     ]
    },
    {
     "name": "stderr",
     "output_type": "stream",
     "text": [
      "Running experiments:  50%|██████████          | 40/80 [05:11<10:09, 15.24s/it, Model=LSTM, Status=✓]"
     ]
    },
    {
     "name": "stdout",
     "output_type": "stream",
     "text": [
      "Signal distribution - Strong Decline(0): 526, Slight Decline(1): 337, Slight Rise(2): 331, Strong Rise(3): 642\n",
      "PyTorch data prepared - Train: torch.Size([1370, 10, 12]), Test: torch.Size([457, 10, 12])\n"
     ]
    },
    {
     "name": "stderr",
     "output_type": "stream",
     "text": [
      "Running experiments:  51%|██████████▊          | 41/80 [05:25<09:44, 14.98s/it, Model=GRU, Status=✓]"
     ]
    },
    {
     "name": "stdout",
     "output_type": "stream",
     "text": [
      "Signal distribution - Strong Decline(0): 407, Slight Decline(1): 456, Slight Rise(2): 451, Strong Rise(3): 522\n",
      "PyTorch data prepared - Train: torch.Size([1370, 10, 12]), Test: torch.Size([457, 10, 12])\n"
     ]
    },
    {
     "name": "stderr",
     "output_type": "stream",
     "text": [
      "Running experiments:  52%|███████████          | 42/80 [05:40<09:29, 14.98s/it, Model=GRU, Status=✓]"
     ]
    },
    {
     "name": "stdout",
     "output_type": "stream",
     "text": [
      "Signal distribution - Strong Decline(0): 324, Slight Decline(1): 539, Slight Rise(2): 546, Strong Rise(3): 427\n",
      "PyTorch data prepared - Train: torch.Size([1370, 10, 12]), Test: torch.Size([457, 10, 12])\n"
     ]
    },
    {
     "name": "stderr",
     "output_type": "stream",
     "text": [
      "Running experiments:  54%|███████████▎         | 43/80 [05:55<09:13, 14.96s/it, Model=GRU, Status=✓]"
     ]
    },
    {
     "name": "stdout",
     "output_type": "stream",
     "text": [
      "Signal distribution - Strong Decline(0): 254, Slight Decline(1): 609, Slight Rise(2): 639, Strong Rise(3): 334\n",
      "PyTorch data prepared - Train: torch.Size([1370, 10, 12]), Test: torch.Size([457, 10, 12])\n"
     ]
    },
    {
     "name": "stderr",
     "output_type": "stream",
     "text": [
      "Running experiments:  55%|███████████▌         | 44/80 [06:10<08:53, 14.82s/it, Model=GRU, Status=✓]"
     ]
    },
    {
     "name": "stdout",
     "output_type": "stream",
     "text": [
      "Signal distribution - Strong Decline(0): 584, Slight Decline(1): 288, Slight Rise(2): 236, Strong Rise(3): 726\n",
      "PyTorch data prepared - Train: torch.Size([1368, 10, 12]), Test: torch.Size([457, 10, 12])\n"
     ]
    },
    {
     "name": "stderr",
     "output_type": "stream",
     "text": [
      "Running experiments:  56%|███████████▊         | 45/80 [06:24<08:30, 14.58s/it, Model=GRU, Status=✓]"
     ]
    },
    {
     "name": "stdout",
     "output_type": "stream",
     "text": [
      "Signal distribution - Strong Decline(0): 470, Slight Decline(1): 402, Slight Rise(2): 331, Strong Rise(3): 631\n",
      "PyTorch data prepared - Train: torch.Size([1368, 10, 12]), Test: torch.Size([457, 10, 12])\n"
     ]
    },
    {
     "name": "stderr",
     "output_type": "stream",
     "text": [
      "Running experiments:  57%|████████████         | 46/80 [06:38<08:11, 14.47s/it, Model=GRU, Status=✓]"
     ]
    },
    {
     "name": "stdout",
     "output_type": "stream",
     "text": [
      "Signal distribution - Strong Decline(0): 370, Slight Decline(1): 502, Slight Rise(2): 414, Strong Rise(3): 548\n",
      "PyTorch data prepared - Train: torch.Size([1368, 10, 12]), Test: torch.Size([457, 10, 12])\n"
     ]
    },
    {
     "name": "stderr",
     "output_type": "stream",
     "text": [
      "Running experiments:  59%|████████████▎        | 47/80 [06:52<07:56, 14.45s/it, Model=GRU, Status=✓]"
     ]
    },
    {
     "name": "stdout",
     "output_type": "stream",
     "text": [
      "Signal distribution - Strong Decline(0): 316, Slight Decline(1): 556, Slight Rise(2): 496, Strong Rise(3): 466\n",
      "PyTorch data prepared - Train: torch.Size([1368, 10, 12]), Test: torch.Size([457, 10, 12])\n"
     ]
    },
    {
     "name": "stderr",
     "output_type": "stream",
     "text": [
      "Running experiments:  60%|████████████▌        | 48/80 [07:07<07:46, 14.59s/it, Model=GRU, Status=✓]"
     ]
    },
    {
     "name": "stdout",
     "output_type": "stream",
     "text": [
      "Signal distribution - Strong Decline(0): 634, Slight Decline(1): 215, Slight Rise(2): 198, Strong Rise(3): 784\n",
      "PyTorch data prepared - Train: torch.Size([1366, 10, 12]), Test: torch.Size([456, 10, 12])\n"
     ]
    },
    {
     "name": "stderr",
     "output_type": "stream",
     "text": [
      "Running experiments:  61%|████████████▊        | 49/80 [07:22<07:39, 14.81s/it, Model=GRU, Status=✓]"
     ]
    },
    {
     "name": "stdout",
     "output_type": "stream",
     "text": [
      "Signal distribution - Strong Decline(0): 530, Slight Decline(1): 319, Slight Rise(2): 271, Strong Rise(3): 711\n",
      "PyTorch data prepared - Train: torch.Size([1366, 10, 12]), Test: torch.Size([456, 10, 12])\n"
     ]
    },
    {
     "name": "stderr",
     "output_type": "stream",
     "text": [
      "Running experiments:  62%|█████████████▏       | 50/80 [07:37<07:23, 14.79s/it, Model=GRU, Status=✓]"
     ]
    },
    {
     "name": "stdout",
     "output_type": "stream",
     "text": [
      "Signal distribution - Strong Decline(0): 447, Slight Decline(1): 402, Slight Rise(2): 340, Strong Rise(3): 642\n",
      "PyTorch data prepared - Train: torch.Size([1366, 10, 12]), Test: torch.Size([456, 10, 12])\n"
     ]
    },
    {
     "name": "stderr",
     "output_type": "stream",
     "text": [
      "Running experiments:  64%|█████████████▍       | 51/80 [07:52<07:07, 14.74s/it, Model=GRU, Status=✓]"
     ]
    },
    {
     "name": "stdout",
     "output_type": "stream",
     "text": [
      "Signal distribution - Strong Decline(0): 371, Slight Decline(1): 478, Slight Rise(2): 408, Strong Rise(3): 574\n",
      "PyTorch data prepared - Train: torch.Size([1366, 10, 12]), Test: torch.Size([456, 10, 12])\n"
     ]
    },
    {
     "name": "stderr",
     "output_type": "stream",
     "text": [
      "Running experiments:  65%|█████████████▋       | 52/80 [08:06<06:49, 14.63s/it, Model=GRU, Status=✓]"
     ]
    },
    {
     "name": "stdout",
     "output_type": "stream",
     "text": [
      "Signal distribution - Strong Decline(0): 639, Slight Decline(1): 187, Slight Rise(2): 168, Strong Rise(3): 835\n",
      "PyTorch data prepared - Train: torch.Size([1365, 10, 12]), Test: torch.Size([455, 10, 12])\n"
     ]
    },
    {
     "name": "stderr",
     "output_type": "stream",
     "text": [
      "Running experiments:  66%|█████████████▉       | 53/80 [08:21<06:34, 14.63s/it, Model=GRU, Status=✓]"
     ]
    },
    {
     "name": "stdout",
     "output_type": "stream",
     "text": [
      "Signal distribution - Strong Decline(0): 560, Slight Decline(1): 266, Slight Rise(2): 246, Strong Rise(3): 757\n",
      "PyTorch data prepared - Train: torch.Size([1365, 10, 12]), Test: torch.Size([455, 10, 12])\n"
     ]
    },
    {
     "name": "stderr",
     "output_type": "stream",
     "text": [
      "Running experiments:  68%|██████████████▏      | 54/80 [08:35<06:17, 14.52s/it, Model=GRU, Status=✓]"
     ]
    },
    {
     "name": "stdout",
     "output_type": "stream",
     "text": [
      "Signal distribution - Strong Decline(0): 477, Slight Decline(1): 349, Slight Rise(2): 322, Strong Rise(3): 681\n",
      "PyTorch data prepared - Train: torch.Size([1365, 10, 12]), Test: torch.Size([455, 10, 12])\n"
     ]
    },
    {
     "name": "stderr",
     "output_type": "stream",
     "text": [
      "Running experiments:  69%|██████████████▍      | 55/80 [08:50<06:06, 14.65s/it, Model=GRU, Status=✓]"
     ]
    },
    {
     "name": "stdout",
     "output_type": "stream",
     "text": [
      "Signal distribution - Strong Decline(0): 406, Slight Decline(1): 420, Slight Rise(2): 383, Strong Rise(3): 620\n",
      "PyTorch data prepared - Train: torch.Size([1365, 10, 12]), Test: torch.Size([455, 10, 12])\n"
     ]
    },
    {
     "name": "stderr",
     "output_type": "stream",
     "text": [
      "Running experiments:  70%|██████████████▋      | 56/80 [09:05<05:51, 14.66s/it, Model=GRU, Status=✓]"
     ]
    },
    {
     "name": "stdout",
     "output_type": "stream",
     "text": [
      "Signal distribution - Strong Decline(0): 644, Slight Decline(1): 166, Slight Rise(2): 178, Strong Rise(3): 839\n",
      "PyTorch data prepared - Train: torch.Size([1363, 10, 12]), Test: torch.Size([455, 10, 12])\n"
     ]
    },
    {
     "name": "stderr",
     "output_type": "stream",
     "text": [
      "Running experiments:  71%|██████████████▉      | 57/80 [09:20<05:38, 14.73s/it, Model=GRU, Status=✓]"
     ]
    },
    {
     "name": "stdout",
     "output_type": "stream",
     "text": [
      "Signal distribution - Strong Decline(0): 578, Slight Decline(1): 232, Slight Rise(2): 243, Strong Rise(3): 774\n",
      "PyTorch data prepared - Train: torch.Size([1363, 10, 12]), Test: torch.Size([455, 10, 12])\n"
     ]
    },
    {
     "name": "stderr",
     "output_type": "stream",
     "text": [
      "Running experiments:  72%|███████████████▏     | 58/80 [09:34<05:24, 14.74s/it, Model=GRU, Status=✓]"
     ]
    },
    {
     "name": "stdout",
     "output_type": "stream",
     "text": [
      "Signal distribution - Strong Decline(0): 498, Slight Decline(1): 312, Slight Rise(2): 302, Strong Rise(3): 715\n",
      "PyTorch data prepared - Train: torch.Size([1363, 10, 12]), Test: torch.Size([455, 10, 12])\n"
     ]
    },
    {
     "name": "stderr",
     "output_type": "stream",
     "text": [
      "Running experiments:  74%|███████████████▍     | 59/80 [09:49<05:06, 14.59s/it, Model=GRU, Status=✓]"
     ]
    },
    {
     "name": "stdout",
     "output_type": "stream",
     "text": [
      "Signal distribution - Strong Decline(0): 444, Slight Decline(1): 366, Slight Rise(2): 366, Strong Rise(3): 651\n",
      "PyTorch data prepared - Train: torch.Size([1363, 10, 12]), Test: torch.Size([455, 10, 12])\n"
     ]
    },
    {
     "name": "stderr",
     "output_type": "stream",
     "text": [
      "Running experiments:  75%|███████████████▊     | 60/80 [10:03<04:52, 14.61s/it, Model=GRU, Status=✓]"
     ]
    },
    {
     "name": "stdout",
     "output_type": "stream",
     "text": [
      "Signal distribution - Strong Decline(0): 526, Slight Decline(1): 337, Slight Rise(2): 331, Strong Rise(3): 642\n",
      "PyTorch data prepared - Train: torch.Size([1370, 10, 12]), Test: torch.Size([457, 10, 12])\n"
     ]
    },
    {
     "name": "stderr",
     "output_type": "stream",
     "text": [
      "Running experiments:  76%|████████████████     | 61/80 [10:17<04:30, 14.26s/it, Model=CNN, Status=✓]"
     ]
    },
    {
     "name": "stdout",
     "output_type": "stream",
     "text": [
      "Signal distribution - Strong Decline(0): 407, Slight Decline(1): 456, Slight Rise(2): 451, Strong Rise(3): 522\n",
      "PyTorch data prepared - Train: torch.Size([1370, 10, 12]), Test: torch.Size([457, 10, 12])\n"
     ]
    },
    {
     "name": "stderr",
     "output_type": "stream",
     "text": [
      "Running experiments:  78%|████████████████▎    | 62/80 [10:30<04:09, 13.85s/it, Model=CNN, Status=✓]"
     ]
    },
    {
     "name": "stdout",
     "output_type": "stream",
     "text": [
      "Signal distribution - Strong Decline(0): 324, Slight Decline(1): 539, Slight Rise(2): 546, Strong Rise(3): 427\n",
      "PyTorch data prepared - Train: torch.Size([1370, 10, 12]), Test: torch.Size([457, 10, 12])\n"
     ]
    },
    {
     "name": "stderr",
     "output_type": "stream",
     "text": [
      "Running experiments:  79%|████████████████▌    | 63/80 [10:42<03:49, 13.51s/it, Model=CNN, Status=✓]"
     ]
    },
    {
     "name": "stdout",
     "output_type": "stream",
     "text": [
      "Signal distribution - Strong Decline(0): 254, Slight Decline(1): 609, Slight Rise(2): 639, Strong Rise(3): 334\n",
      "PyTorch data prepared - Train: torch.Size([1370, 10, 12]), Test: torch.Size([457, 10, 12])\n"
     ]
    },
    {
     "name": "stderr",
     "output_type": "stream",
     "text": [
      "Running experiments:  80%|████████████████▊    | 64/80 [10:55<03:34, 13.39s/it, Model=CNN, Status=✓]"
     ]
    },
    {
     "name": "stdout",
     "output_type": "stream",
     "text": [
      "Signal distribution - Strong Decline(0): 584, Slight Decline(1): 288, Slight Rise(2): 236, Strong Rise(3): 726\n",
      "PyTorch data prepared - Train: torch.Size([1368, 10, 12]), Test: torch.Size([457, 10, 12])\n"
     ]
    },
    {
     "name": "stderr",
     "output_type": "stream",
     "text": [
      "Running experiments:  81%|█████████████████    | 65/80 [11:08<03:19, 13.27s/it, Model=CNN, Status=✓]"
     ]
    },
    {
     "name": "stdout",
     "output_type": "stream",
     "text": [
      "Signal distribution - Strong Decline(0): 470, Slight Decline(1): 402, Slight Rise(2): 331, Strong Rise(3): 631\n",
      "PyTorch data prepared - Train: torch.Size([1368, 10, 12]), Test: torch.Size([457, 10, 12])\n"
     ]
    },
    {
     "name": "stderr",
     "output_type": "stream",
     "text": [
      "Running experiments:  82%|█████████████████▎   | 66/80 [11:21<03:04, 13.18s/it, Model=CNN, Status=✓]"
     ]
    },
    {
     "name": "stdout",
     "output_type": "stream",
     "text": [
      "Signal distribution - Strong Decline(0): 370, Slight Decline(1): 502, Slight Rise(2): 414, Strong Rise(3): 548\n",
      "PyTorch data prepared - Train: torch.Size([1368, 10, 12]), Test: torch.Size([457, 10, 12])\n"
     ]
    },
    {
     "name": "stderr",
     "output_type": "stream",
     "text": [
      "Running experiments:  84%|█████████████████▌   | 67/80 [11:34<02:50, 13.11s/it, Model=CNN, Status=✓]"
     ]
    },
    {
     "name": "stdout",
     "output_type": "stream",
     "text": [
      "Signal distribution - Strong Decline(0): 316, Slight Decline(1): 556, Slight Rise(2): 496, Strong Rise(3): 466\n",
      "PyTorch data prepared - Train: torch.Size([1368, 10, 12]), Test: torch.Size([457, 10, 12])\n"
     ]
    },
    {
     "name": "stderr",
     "output_type": "stream",
     "text": [
      "Running experiments:  85%|█████████████████▊   | 68/80 [11:47<02:37, 13.12s/it, Model=CNN, Status=✓]"
     ]
    },
    {
     "name": "stdout",
     "output_type": "stream",
     "text": [
      "Signal distribution - Strong Decline(0): 634, Slight Decline(1): 215, Slight Rise(2): 198, Strong Rise(3): 784\n",
      "PyTorch data prepared - Train: torch.Size([1366, 10, 12]), Test: torch.Size([456, 10, 12])\n"
     ]
    },
    {
     "name": "stderr",
     "output_type": "stream",
     "text": [
      "Running experiments:  86%|██████████████████   | 69/80 [12:01<02:24, 13.12s/it, Model=CNN, Status=✓]"
     ]
    },
    {
     "name": "stdout",
     "output_type": "stream",
     "text": [
      "Signal distribution - Strong Decline(0): 530, Slight Decline(1): 319, Slight Rise(2): 271, Strong Rise(3): 711\n",
      "PyTorch data prepared - Train: torch.Size([1366, 10, 12]), Test: torch.Size([456, 10, 12])\n"
     ]
    },
    {
     "name": "stderr",
     "output_type": "stream",
     "text": [
      "Running experiments:  88%|██████████████████▍  | 70/80 [12:14<02:10, 13.08s/it, Model=CNN, Status=✓]"
     ]
    },
    {
     "name": "stdout",
     "output_type": "stream",
     "text": [
      "Signal distribution - Strong Decline(0): 447, Slight Decline(1): 402, Slight Rise(2): 340, Strong Rise(3): 642\n",
      "PyTorch data prepared - Train: torch.Size([1366, 10, 12]), Test: torch.Size([456, 10, 12])\n"
     ]
    },
    {
     "name": "stderr",
     "output_type": "stream",
     "text": [
      "Running experiments:  89%|██████████████████▋  | 71/80 [12:27<01:57, 13.11s/it, Model=CNN, Status=✓]"
     ]
    },
    {
     "name": "stdout",
     "output_type": "stream",
     "text": [
      "Signal distribution - Strong Decline(0): 371, Slight Decline(1): 478, Slight Rise(2): 408, Strong Rise(3): 574\n",
      "PyTorch data prepared - Train: torch.Size([1366, 10, 12]), Test: torch.Size([456, 10, 12])\n"
     ]
    },
    {
     "name": "stderr",
     "output_type": "stream",
     "text": [
      "Running experiments:  90%|██████████████████▉  | 72/80 [12:40<01:44, 13.09s/it, Model=CNN, Status=✓]"
     ]
    },
    {
     "name": "stdout",
     "output_type": "stream",
     "text": [
      "Signal distribution - Strong Decline(0): 639, Slight Decline(1): 187, Slight Rise(2): 168, Strong Rise(3): 835\n",
      "PyTorch data prepared - Train: torch.Size([1365, 10, 12]), Test: torch.Size([455, 10, 12])\n"
     ]
    },
    {
     "name": "stderr",
     "output_type": "stream",
     "text": [
      "Running experiments:  91%|███████████████████▏ | 73/80 [12:53<01:32, 13.23s/it, Model=CNN, Status=✓]"
     ]
    },
    {
     "name": "stdout",
     "output_type": "stream",
     "text": [
      "Signal distribution - Strong Decline(0): 560, Slight Decline(1): 266, Slight Rise(2): 246, Strong Rise(3): 757\n",
      "PyTorch data prepared - Train: torch.Size([1365, 10, 12]), Test: torch.Size([455, 10, 12])\n"
     ]
    },
    {
     "name": "stderr",
     "output_type": "stream",
     "text": [
      "Running experiments:  92%|███████████████████▍ | 74/80 [13:06<01:19, 13.19s/it, Model=CNN, Status=✓]"
     ]
    },
    {
     "name": "stdout",
     "output_type": "stream",
     "text": [
      "Signal distribution - Strong Decline(0): 477, Slight Decline(1): 349, Slight Rise(2): 322, Strong Rise(3): 681\n",
      "PyTorch data prepared - Train: torch.Size([1365, 10, 12]), Test: torch.Size([455, 10, 12])\n"
     ]
    },
    {
     "name": "stderr",
     "output_type": "stream",
     "text": [
      "Running experiments:  94%|███████████████████▋ | 75/80 [13:20<01:06, 13.35s/it, Model=CNN, Status=✓]"
     ]
    },
    {
     "name": "stdout",
     "output_type": "stream",
     "text": [
      "Signal distribution - Strong Decline(0): 406, Slight Decline(1): 420, Slight Rise(2): 383, Strong Rise(3): 620\n",
      "PyTorch data prepared - Train: torch.Size([1365, 10, 12]), Test: torch.Size([455, 10, 12])\n"
     ]
    },
    {
     "name": "stderr",
     "output_type": "stream",
     "text": [
      "Running experiments:  95%|███████████████████▉ | 76/80 [13:33<00:53, 13.27s/it, Model=CNN, Status=✓]"
     ]
    },
    {
     "name": "stdout",
     "output_type": "stream",
     "text": [
      "Signal distribution - Strong Decline(0): 644, Slight Decline(1): 166, Slight Rise(2): 178, Strong Rise(3): 839\n",
      "PyTorch data prepared - Train: torch.Size([1363, 10, 12]), Test: torch.Size([455, 10, 12])\n"
     ]
    },
    {
     "name": "stderr",
     "output_type": "stream",
     "text": [
      "Running experiments:  96%|████████████████████▏| 77/80 [13:47<00:40, 13.34s/it, Model=CNN, Status=✓]"
     ]
    },
    {
     "name": "stdout",
     "output_type": "stream",
     "text": [
      "Signal distribution - Strong Decline(0): 578, Slight Decline(1): 232, Slight Rise(2): 243, Strong Rise(3): 774\n",
      "PyTorch data prepared - Train: torch.Size([1363, 10, 12]), Test: torch.Size([455, 10, 12])\n"
     ]
    },
    {
     "name": "stderr",
     "output_type": "stream",
     "text": [
      "Running experiments:  98%|████████████████████▍| 78/80 [13:59<00:26, 13.08s/it, Model=CNN, Status=✓]"
     ]
    },
    {
     "name": "stdout",
     "output_type": "stream",
     "text": [
      "Signal distribution - Strong Decline(0): 498, Slight Decline(1): 312, Slight Rise(2): 302, Strong Rise(3): 715\n",
      "PyTorch data prepared - Train: torch.Size([1363, 10, 12]), Test: torch.Size([455, 10, 12])\n"
     ]
    },
    {
     "name": "stderr",
     "output_type": "stream",
     "text": [
      "Running experiments:  99%|████████████████████▋| 79/80 [14:12<00:12, 12.90s/it, Model=CNN, Status=✓]"
     ]
    },
    {
     "name": "stdout",
     "output_type": "stream",
     "text": [
      "Signal distribution - Strong Decline(0): 444, Slight Decline(1): 366, Slight Rise(2): 366, Strong Rise(3): 651\n",
      "PyTorch data prepared - Train: torch.Size([1363, 10, 12]), Test: torch.Size([455, 10, 12])\n"
     ]
    },
    {
     "name": "stderr",
     "output_type": "stream",
     "text": [
      "Running experiments: 100%|█████████████████████| 80/80 [14:24<00:00, 10.81s/it, Model=CNN, Status=✓]"
     ]
    },
    {
     "name": "stdout",
     "output_type": "stream",
     "text": [
      "\n",
      "================================================================================\n",
      "BITCOIN PRICE PREDICTION RESULTS\n",
      "================================================================================\n",
      "\n",
      "Model Performance Summary:\n",
      "Model      Lookahead  Threshold    Accuracy   Loss Count   Loss Mean \n",
      "--------------------------------------------------------------------------------\n",
      "XGBoost    10         0.020        0.747      59           0.0406    \n",
      "XGBoost    12         0.020        0.735      56           0.0397    \n",
      "XGBoost    12         0.030        0.733      34           0.0369    \n",
      "XGBoost    10         0.030        0.712      41           0.0283    \n",
      "XGBoost    8          0.020        0.672      60           0.0438    \n",
      "XGBoost    10         0.040        0.666      29           0.0407    \n",
      "XGBoost    12         0.040        0.659      39           0.0406    \n",
      "XGBoost    12         0.050        0.646      30           0.0449    \n",
      "XGBoost    10         0.050        0.640      20           0.0783    \n",
      "XGBoost    8          0.030        0.635      54           0.0288    \n",
      "XGBoost    8          0.050        0.622      23           0.0493    \n",
      "XGBoost    8          0.040        0.607      44           0.0342    \n",
      "XGBoost    5          0.030        0.566      62           0.0408    \n",
      "XGBoost    5          0.020        0.562      78           0.0424    \n",
      "XGBoost    5          0.050        0.560      28           0.0354    \n",
      "XGBoost    5          0.040        0.521      53           0.0480    \n",
      "XGBoost    3          0.020        0.488      98           0.0454    \n",
      "XGBoost    3          0.040        0.464      30           0.0503    \n",
      "XGBoost    3          0.050        0.462      29           0.0627    \n",
      "XGBoost    3          0.030        0.442      60           0.0428    \n",
      "LSTM       3          0.050        0.435      6            0.0437    \n",
      "CNN        3          0.050        0.389      31           0.0316    \n",
      "GRU        3          0.050        0.385      16           0.0292    \n",
      "CNN        12         0.030        0.385      233          0.0545    \n",
      "CNN        12         0.020        0.374      240          0.0625    \n",
      "GRU        10         0.020        0.371      237          0.0582    \n",
      "GRU        8          0.020        0.364      223          0.0535    \n",
      "CNN        8          0.020        0.362      223          0.0533    \n",
      "CNN        5          0.020        0.357      208          0.0391    \n",
      "CNN        10         0.020        0.354      256          0.0560    \n",
      "CNN        3          0.040        0.352      54           0.0349    \n",
      "GRU        5          0.020        0.348      196          0.0372    \n",
      "LSTM       5          0.020        0.346      182          0.0400    \n",
      "CNN        5          0.030        0.339      153          0.0345    \n",
      "GRU        12         0.020        0.334      260          0.0652    \n",
      "CNN        3          0.020        0.330      146          0.0297    \n",
      "LSTM       10         0.030        0.327      239          0.0577    \n",
      "CNN        10         0.030        0.327      225          0.0591    \n",
      "GRU        3          0.020        0.324      208          0.0299    \n",
      "CNN        10         0.040        0.321      174          0.0518    \n",
      "LSTM       3          0.040        0.319      100          0.0282    \n",
      "LSTM       10         0.020        0.319      272          0.0592    \n",
      "LSTM       8          0.020        0.314      251          0.0545    \n",
      "CNN        8          0.030        0.311      233          0.0487    \n",
      "CNN        5          0.040        0.311      136          0.0355    \n",
      "GRU        5          0.040        0.306      118          0.0417    \n",
      "CNN        3          0.030        0.304      142          0.0279    \n",
      "LSTM       5          0.050        0.302      112          0.0410    \n",
      "GRU        3          0.040        0.302      80           0.0331    \n",
      "CNN        12         0.040        0.301      199          0.0553    \n",
      "CNN        8          0.040        0.296      152          0.0411    \n",
      "GRU        3          0.030        0.293      101          0.0349    \n",
      "GRU        5          0.030        0.291      166          0.0415    \n",
      "GRU        10         0.030        0.290      261          0.0560    \n",
      "GRU        12         0.030        0.290      263          0.0626    \n",
      "GRU        8          0.050        0.289      100          0.0430    \n",
      "LSTM       8          0.030        0.289      229          0.0504    \n",
      "GRU        5          0.050        0.287      101          0.0435    \n",
      "LSTM       12         0.030        0.284      273          0.0627    \n",
      "LSTM       3          0.020        0.280      233          0.0293    \n",
      "CNN        5          0.050        0.280      153          0.0367    \n",
      "LSTM       12         0.020        0.277      293          0.0641    \n",
      "LSTM       10         0.050        0.275      131          0.0553    \n",
      "LSTM       8          0.040        0.272      164          0.0503    \n",
      "GRU        10         0.040        0.264      244          0.0576    \n",
      "GRU        8          0.040        0.263      191          0.0529    \n",
      "LSTM       5          0.030        0.263      195          0.0386    \n",
      "GRU        8          0.030        0.261      238          0.0532    \n",
      "CNN        8          0.050        0.254      119          0.0430    \n",
      "LSTM       8          0.050        0.254      165          0.0499    \n",
      "GRU        12         0.040        0.246      152          0.0575    \n",
      "GRU        10         0.050        0.242      179          0.0555    \n",
      "LSTM       5          0.040        0.239      177          0.0403    \n",
      "LSTM       3          0.030        0.234      171          0.0313    \n",
      "LSTM       10         0.040        0.233      250          0.0603    \n",
      "CNN        10         0.050        0.229      177          0.0539    \n",
      "CNN        12         0.050        0.213      159          0.0604    \n",
      "GRU        12         0.050        0.187      201          0.0683    \n",
      "LSTM       12         0.040        0.176      177          0.0680    \n",
      "LSTM       12         0.050        0.158      220          0.0709    \n",
      "\n",
      "================================================================================\n",
      "BEST CONFIGURATION:\n",
      "Model: XGBoost\n",
      "Accuracy: 0.747 (74.7%)\n",
      "Lookahead: 10 periods\n",
      "Threshold: 0.020\n",
      "Loss Events: 59\n",
      "Average Loss: 0.0406\n",
      "================================================================================\n"
     ]
    },
    {
     "name": "stderr",
     "output_type": "stream",
     "text": [
      "\n"
     ]
    }
   ],
   "source": [
    "\"\"\"\n",
    "Price Movement Prediction - Main Execution Script\n",
    "\"\"\"\n",
    "\n",
    "import os\n",
    "os.environ['CUDA_LAUNCH_BLOCKING'] = '1'\n",
    "\n",
    "import warnings\n",
    "warnings.filterwarnings('ignore')\n",
    "\n",
    "from experiment_runner_silent import run_silent_experiment\n",
    "\n",
    "def bnb_1d():\n",
    "    \"\"\"Main execution - clean output only\"\"\"\n",
    "    \n",
    "    # Configuration\n",
    "    DATA_PATH = r'F:\\up_git\\official_predict\\data\\bnb_1d.csv'\n",
    "    \n",
    "    # Create results directory\n",
    "    results_dir = os.path.join('..', '..', 'results')\n",
    "    os.makedirs(results_dir, exist_ok=True)\n",
    "    OUTPUT_FILENAME = '../../results/bnb_results_1d_4class.csv'\n",
    "    \n",
    "    # Parameters\n",
    "    LOOKAHEAD_VALUES = [3, 5, 8, 10,12]  # Số ngày dự đoán\n",
    "    THRESHOLD_VALUES = [0.02, 0.03, 0.04, 0.05]  # Ngưỡng phân loại\n",
    "\n",
    "    MODEL_TYPES = ['XGBoost', 'LSTM', 'GRU', 'CNN']\n",
    "    \n",
    "    # Run experiment\n",
    "    run_silent_experiment(\n",
    "        data_path=DATA_PATH,\n",
    "        output_filename=OUTPUT_FILENAME,\n",
    "        lookahead_values=LOOKAHEAD_VALUES,\n",
    "        threshold_values=THRESHOLD_VALUES,\n",
    "        model_types=MODEL_TYPES\n",
    "    )\n",
    "\n",
    "bnb_1d()"
   ]
  },
  {
   "cell_type": "code",
   "execution_count": 4,
   "id": "353777aa",
   "metadata": {},
   "outputs": [
    {
     "name": "stderr",
     "output_type": "stream",
     "text": [
      "Running experiments:   0%|                                                   | 0/80 [00:00<?, ?it/s]"
     ]
    },
    {
     "name": "stdout",
     "output_type": "stream",
     "text": [
      "Signal distribution - Strong Decline(0): 526, Slight Decline(1): 337, Slight Rise(2): 331, Strong Rise(3): 642\n"
     ]
    },
    {
     "name": "stderr",
     "output_type": "stream",
     "text": [
      "Running experiments:   1%|▏                 | 1/80 [00:00<00:38,  2.06it/s, Model=XGBoost, Status=✓]"
     ]
    },
    {
     "name": "stdout",
     "output_type": "stream",
     "text": [
      "Signal distribution - Strong Decline(0): 407, Slight Decline(1): 456, Slight Rise(2): 451, Strong Rise(3): 522\n"
     ]
    },
    {
     "name": "stderr",
     "output_type": "stream",
     "text": [
      "Running experiments:   2%|▍                 | 2/80 [00:00<00:37,  2.10it/s, Model=XGBoost, Status=✓]"
     ]
    },
    {
     "name": "stdout",
     "output_type": "stream",
     "text": [
      "Signal distribution - Strong Decline(0): 324, Slight Decline(1): 539, Slight Rise(2): 546, Strong Rise(3): 427\n"
     ]
    },
    {
     "name": "stderr",
     "output_type": "stream",
     "text": [
      "Running experiments:   4%|▋                 | 3/80 [00:01<00:35,  2.18it/s, Model=XGBoost, Status=✓]"
     ]
    },
    {
     "name": "stdout",
     "output_type": "stream",
     "text": [
      "Signal distribution - Strong Decline(0): 254, Slight Decline(1): 609, Slight Rise(2): 639, Strong Rise(3): 334\n"
     ]
    },
    {
     "name": "stderr",
     "output_type": "stream",
     "text": [
      "Running experiments:   5%|▉                 | 4/80 [00:01<00:33,  2.24it/s, Model=XGBoost, Status=✓]"
     ]
    },
    {
     "name": "stdout",
     "output_type": "stream",
     "text": [
      "Signal distribution - Strong Decline(0): 584, Slight Decline(1): 288, Slight Rise(2): 236, Strong Rise(3): 726\n"
     ]
    },
    {
     "name": "stderr",
     "output_type": "stream",
     "text": [
      "Running experiments:   6%|█▏                | 5/80 [00:02<00:33,  2.26it/s, Model=XGBoost, Status=✓]"
     ]
    },
    {
     "name": "stdout",
     "output_type": "stream",
     "text": [
      "Signal distribution - Strong Decline(0): 470, Slight Decline(1): 402, Slight Rise(2): 331, Strong Rise(3): 631\n"
     ]
    },
    {
     "name": "stderr",
     "output_type": "stream",
     "text": [
      "Running experiments:   8%|█▎                | 6/80 [00:02<00:32,  2.25it/s, Model=XGBoost, Status=✓]"
     ]
    },
    {
     "name": "stdout",
     "output_type": "stream",
     "text": [
      "Signal distribution - Strong Decline(0): 370, Slight Decline(1): 502, Slight Rise(2): 414, Strong Rise(3): 548\n"
     ]
    },
    {
     "name": "stderr",
     "output_type": "stream",
     "text": [
      "Running experiments:   9%|█▌                | 7/80 [00:03<00:31,  2.33it/s, Model=XGBoost, Status=✓]"
     ]
    },
    {
     "name": "stdout",
     "output_type": "stream",
     "text": [
      "Signal distribution - Strong Decline(0): 316, Slight Decline(1): 556, Slight Rise(2): 496, Strong Rise(3): 466\n"
     ]
    },
    {
     "name": "stderr",
     "output_type": "stream",
     "text": [
      "Running experiments:  10%|█▊                | 8/80 [00:03<00:30,  2.36it/s, Model=XGBoost, Status=✓]"
     ]
    },
    {
     "name": "stdout",
     "output_type": "stream",
     "text": [
      "Signal distribution - Strong Decline(0): 634, Slight Decline(1): 215, Slight Rise(2): 198, Strong Rise(3): 784\n"
     ]
    },
    {
     "name": "stderr",
     "output_type": "stream",
     "text": [
      "Running experiments:  11%|██                | 9/80 [00:03<00:29,  2.37it/s, Model=XGBoost, Status=✓]"
     ]
    },
    {
     "name": "stdout",
     "output_type": "stream",
     "text": [
      "Signal distribution - Strong Decline(0): 530, Slight Decline(1): 319, Slight Rise(2): 271, Strong Rise(3): 711\n"
     ]
    },
    {
     "name": "stderr",
     "output_type": "stream",
     "text": [
      "Running experiments:  12%|██▏              | 10/80 [00:04<00:29,  2.36it/s, Model=XGBoost, Status=✓]"
     ]
    },
    {
     "name": "stdout",
     "output_type": "stream",
     "text": [
      "Signal distribution - Strong Decline(0): 447, Slight Decline(1): 402, Slight Rise(2): 340, Strong Rise(3): 642\n"
     ]
    },
    {
     "name": "stderr",
     "output_type": "stream",
     "text": [
      "Running experiments:  14%|██▎              | 11/80 [00:04<00:28,  2.38it/s, Model=XGBoost, Status=✓]"
     ]
    },
    {
     "name": "stdout",
     "output_type": "stream",
     "text": [
      "Signal distribution - Strong Decline(0): 371, Slight Decline(1): 478, Slight Rise(2): 408, Strong Rise(3): 574\n"
     ]
    },
    {
     "name": "stderr",
     "output_type": "stream",
     "text": [
      "Running experiments:  15%|██▌              | 12/80 [00:05<00:28,  2.40it/s, Model=XGBoost, Status=✓]"
     ]
    },
    {
     "name": "stdout",
     "output_type": "stream",
     "text": [
      "Signal distribution - Strong Decline(0): 639, Slight Decline(1): 187, Slight Rise(2): 168, Strong Rise(3): 835\n"
     ]
    },
    {
     "name": "stderr",
     "output_type": "stream",
     "text": [
      "Running experiments:  16%|██▊              | 13/80 [00:05<00:27,  2.41it/s, Model=XGBoost, Status=✓]"
     ]
    },
    {
     "name": "stdout",
     "output_type": "stream",
     "text": [
      "Signal distribution - Strong Decline(0): 560, Slight Decline(1): 266, Slight Rise(2): 246, Strong Rise(3): 757\n"
     ]
    },
    {
     "name": "stderr",
     "output_type": "stream",
     "text": [
      "Running experiments:  18%|██▉              | 14/80 [00:05<00:27,  2.44it/s, Model=XGBoost, Status=✓]"
     ]
    },
    {
     "name": "stdout",
     "output_type": "stream",
     "text": [
      "Signal distribution - Strong Decline(0): 477, Slight Decline(1): 349, Slight Rise(2): 322, Strong Rise(3): 681\n"
     ]
    },
    {
     "name": "stderr",
     "output_type": "stream",
     "text": [
      "Running experiments:  19%|███▏             | 15/80 [00:06<00:26,  2.42it/s, Model=XGBoost, Status=✓]"
     ]
    },
    {
     "name": "stdout",
     "output_type": "stream",
     "text": [
      "Signal distribution - Strong Decline(0): 406, Slight Decline(1): 420, Slight Rise(2): 383, Strong Rise(3): 620\n"
     ]
    },
    {
     "name": "stderr",
     "output_type": "stream",
     "text": [
      "Running experiments:  20%|███▍             | 16/80 [00:06<00:26,  2.41it/s, Model=XGBoost, Status=✓]"
     ]
    },
    {
     "name": "stdout",
     "output_type": "stream",
     "text": [
      "Signal distribution - Strong Decline(0): 644, Slight Decline(1): 166, Slight Rise(2): 178, Strong Rise(3): 839\n"
     ]
    },
    {
     "name": "stderr",
     "output_type": "stream",
     "text": [
      "Running experiments:  21%|███▌             | 17/80 [00:07<00:25,  2.45it/s, Model=XGBoost, Status=✓]"
     ]
    },
    {
     "name": "stdout",
     "output_type": "stream",
     "text": [
      "Signal distribution - Strong Decline(0): 578, Slight Decline(1): 232, Slight Rise(2): 243, Strong Rise(3): 774\n"
     ]
    },
    {
     "name": "stderr",
     "output_type": "stream",
     "text": [
      "Running experiments:  22%|███▊             | 18/80 [00:07<00:25,  2.45it/s, Model=XGBoost, Status=✓]"
     ]
    },
    {
     "name": "stdout",
     "output_type": "stream",
     "text": [
      "Signal distribution - Strong Decline(0): 498, Slight Decline(1): 312, Slight Rise(2): 302, Strong Rise(3): 715\n"
     ]
    },
    {
     "name": "stderr",
     "output_type": "stream",
     "text": [
      "Running experiments:  24%|████             | 19/80 [00:08<00:25,  2.41it/s, Model=XGBoost, Status=✓]"
     ]
    },
    {
     "name": "stdout",
     "output_type": "stream",
     "text": [
      "Signal distribution - Strong Decline(0): 444, Slight Decline(1): 366, Slight Rise(2): 366, Strong Rise(3): 651\n"
     ]
    },
    {
     "name": "stderr",
     "output_type": "stream",
     "text": [
      "Running experiments:  25%|████▎            | 20/80 [00:08<00:24,  2.43it/s, Model=XGBoost, Status=✓]"
     ]
    },
    {
     "name": "stdout",
     "output_type": "stream",
     "text": [
      "Signal distribution - Strong Decline(0): 526, Slight Decline(1): 337, Slight Rise(2): 331, Strong Rise(3): 642\n",
      "PyTorch data prepared - Train: torch.Size([1370, 10, 12]), Test: torch.Size([457, 10, 12])\n"
     ]
    },
    {
     "name": "stderr",
     "output_type": "stream",
     "text": [
      "Running experiments:  26%|█████▎              | 21/80 [00:24<04:53,  4.97s/it, Model=LSTM, Status=✓]"
     ]
    },
    {
     "name": "stdout",
     "output_type": "stream",
     "text": [
      "Signal distribution - Strong Decline(0): 407, Slight Decline(1): 456, Slight Rise(2): 451, Strong Rise(3): 522\n",
      "PyTorch data prepared - Train: torch.Size([1370, 10, 12]), Test: torch.Size([457, 10, 12])\n"
     ]
    },
    {
     "name": "stderr",
     "output_type": "stream",
     "text": [
      "Running experiments:  28%|█████▌              | 22/80 [00:38<07:41,  7.95s/it, Model=LSTM, Status=✓]"
     ]
    },
    {
     "name": "stdout",
     "output_type": "stream",
     "text": [
      "Signal distribution - Strong Decline(0): 324, Slight Decline(1): 539, Slight Rise(2): 546, Strong Rise(3): 427\n",
      "PyTorch data prepared - Train: torch.Size([1370, 10, 12]), Test: torch.Size([457, 10, 12])\n"
     ]
    },
    {
     "name": "stderr",
     "output_type": "stream",
     "text": [
      "Running experiments:  29%|█████▊              | 23/80 [00:53<09:29,  9.99s/it, Model=LSTM, Status=✓]"
     ]
    },
    {
     "name": "stdout",
     "output_type": "stream",
     "text": [
      "Signal distribution - Strong Decline(0): 254, Slight Decline(1): 609, Slight Rise(2): 639, Strong Rise(3): 334\n",
      "PyTorch data prepared - Train: torch.Size([1370, 10, 12]), Test: torch.Size([457, 10, 12])\n"
     ]
    },
    {
     "name": "stderr",
     "output_type": "stream",
     "text": [
      "Running experiments:  30%|██████              | 24/80 [01:09<10:48, 11.58s/it, Model=LSTM, Status=✓]"
     ]
    },
    {
     "name": "stdout",
     "output_type": "stream",
     "text": [
      "Signal distribution - Strong Decline(0): 584, Slight Decline(1): 288, Slight Rise(2): 236, Strong Rise(3): 726\n",
      "PyTorch data prepared - Train: torch.Size([1368, 10, 12]), Test: torch.Size([457, 10, 12])\n"
     ]
    },
    {
     "name": "stderr",
     "output_type": "stream",
     "text": [
      "Running experiments:  31%|██████▎             | 25/80 [01:25<11:52, 12.95s/it, Model=LSTM, Status=✓]"
     ]
    },
    {
     "name": "stdout",
     "output_type": "stream",
     "text": [
      "Signal distribution - Strong Decline(0): 470, Slight Decline(1): 402, Slight Rise(2): 331, Strong Rise(3): 631\n",
      "PyTorch data prepared - Train: torch.Size([1368, 10, 12]), Test: torch.Size([457, 10, 12])\n"
     ]
    },
    {
     "name": "stderr",
     "output_type": "stream",
     "text": [
      "Running experiments:  32%|██████▌             | 26/80 [01:40<12:13, 13.58s/it, Model=LSTM, Status=✓]"
     ]
    },
    {
     "name": "stdout",
     "output_type": "stream",
     "text": [
      "Signal distribution - Strong Decline(0): 370, Slight Decline(1): 502, Slight Rise(2): 414, Strong Rise(3): 548\n",
      "PyTorch data prepared - Train: torch.Size([1368, 10, 12]), Test: torch.Size([457, 10, 12])\n"
     ]
    },
    {
     "name": "stderr",
     "output_type": "stream",
     "text": [
      "Running experiments:  34%|██████▊             | 27/80 [01:55<12:23, 14.03s/it, Model=LSTM, Status=✓]"
     ]
    },
    {
     "name": "stdout",
     "output_type": "stream",
     "text": [
      "Signal distribution - Strong Decline(0): 316, Slight Decline(1): 556, Slight Rise(2): 496, Strong Rise(3): 466\n",
      "PyTorch data prepared - Train: torch.Size([1368, 10, 12]), Test: torch.Size([457, 10, 12])\n"
     ]
    },
    {
     "name": "stderr",
     "output_type": "stream",
     "text": [
      "Running experiments:  35%|███████             | 28/80 [02:10<12:29, 14.42s/it, Model=LSTM, Status=✓]"
     ]
    },
    {
     "name": "stdout",
     "output_type": "stream",
     "text": [
      "Signal distribution - Strong Decline(0): 634, Slight Decline(1): 215, Slight Rise(2): 198, Strong Rise(3): 784\n",
      "PyTorch data prepared - Train: torch.Size([1366, 10, 12]), Test: torch.Size([456, 10, 12])\n"
     ]
    },
    {
     "name": "stderr",
     "output_type": "stream",
     "text": [
      "Running experiments:  36%|███████▎            | 29/80 [02:26<12:36, 14.83s/it, Model=LSTM, Status=✓]"
     ]
    },
    {
     "name": "stdout",
     "output_type": "stream",
     "text": [
      "Signal distribution - Strong Decline(0): 530, Slight Decline(1): 319, Slight Rise(2): 271, Strong Rise(3): 711\n",
      "PyTorch data prepared - Train: torch.Size([1366, 10, 12]), Test: torch.Size([456, 10, 12])\n"
     ]
    },
    {
     "name": "stderr",
     "output_type": "stream",
     "text": [
      "Running experiments:  38%|███████▌            | 30/80 [02:42<12:38, 15.16s/it, Model=LSTM, Status=✓]"
     ]
    },
    {
     "name": "stdout",
     "output_type": "stream",
     "text": [
      "Signal distribution - Strong Decline(0): 447, Slight Decline(1): 402, Slight Rise(2): 340, Strong Rise(3): 642\n",
      "PyTorch data prepared - Train: torch.Size([1366, 10, 12]), Test: torch.Size([456, 10, 12])\n"
     ]
    },
    {
     "name": "stderr",
     "output_type": "stream",
     "text": [
      "Running experiments:  39%|███████▊            | 31/80 [02:58<12:37, 15.46s/it, Model=LSTM, Status=✓]"
     ]
    },
    {
     "name": "stdout",
     "output_type": "stream",
     "text": [
      "Signal distribution - Strong Decline(0): 371, Slight Decline(1): 478, Slight Rise(2): 408, Strong Rise(3): 574\n",
      "PyTorch data prepared - Train: torch.Size([1366, 10, 12]), Test: torch.Size([456, 10, 12])\n"
     ]
    },
    {
     "name": "stderr",
     "output_type": "stream",
     "text": [
      "Running experiments:  40%|████████            | 32/80 [03:14<12:30, 15.63s/it, Model=LSTM, Status=✓]"
     ]
    },
    {
     "name": "stdout",
     "output_type": "stream",
     "text": [
      "Signal distribution - Strong Decline(0): 639, Slight Decline(1): 187, Slight Rise(2): 168, Strong Rise(3): 835\n",
      "PyTorch data prepared - Train: torch.Size([1365, 10, 12]), Test: torch.Size([455, 10, 12])\n"
     ]
    },
    {
     "name": "stderr",
     "output_type": "stream",
     "text": [
      "Running experiments:  41%|████████▎           | 33/80 [03:30<12:21, 15.77s/it, Model=LSTM, Status=✓]"
     ]
    },
    {
     "name": "stdout",
     "output_type": "stream",
     "text": [
      "Signal distribution - Strong Decline(0): 560, Slight Decline(1): 266, Slight Rise(2): 246, Strong Rise(3): 757\n",
      "PyTorch data prepared - Train: torch.Size([1365, 10, 12]), Test: torch.Size([455, 10, 12])\n"
     ]
    },
    {
     "name": "stderr",
     "output_type": "stream",
     "text": [
      "Running experiments:  42%|████████▌           | 34/80 [03:46<12:07, 15.82s/it, Model=LSTM, Status=✓]"
     ]
    },
    {
     "name": "stdout",
     "output_type": "stream",
     "text": [
      "Signal distribution - Strong Decline(0): 477, Slight Decline(1): 349, Slight Rise(2): 322, Strong Rise(3): 681\n",
      "PyTorch data prepared - Train: torch.Size([1365, 10, 12]), Test: torch.Size([455, 10, 12])\n"
     ]
    },
    {
     "name": "stderr",
     "output_type": "stream",
     "text": [
      "Running experiments:  44%|████████▊           | 35/80 [04:02<11:55, 15.90s/it, Model=LSTM, Status=✓]"
     ]
    },
    {
     "name": "stdout",
     "output_type": "stream",
     "text": [
      "Signal distribution - Strong Decline(0): 406, Slight Decline(1): 420, Slight Rise(2): 383, Strong Rise(3): 620\n",
      "PyTorch data prepared - Train: torch.Size([1365, 10, 12]), Test: torch.Size([455, 10, 12])\n"
     ]
    },
    {
     "name": "stderr",
     "output_type": "stream",
     "text": [
      "Running experiments:  45%|█████████           | 36/80 [04:17<11:30, 15.70s/it, Model=LSTM, Status=✓]"
     ]
    },
    {
     "name": "stdout",
     "output_type": "stream",
     "text": [
      "Signal distribution - Strong Decline(0): 644, Slight Decline(1): 166, Slight Rise(2): 178, Strong Rise(3): 839\n",
      "PyTorch data prepared - Train: torch.Size([1363, 10, 12]), Test: torch.Size([455, 10, 12])\n"
     ]
    },
    {
     "name": "stderr",
     "output_type": "stream",
     "text": [
      "Running experiments:  46%|█████████▎          | 37/80 [04:31<10:50, 15.13s/it, Model=LSTM, Status=✓]"
     ]
    },
    {
     "name": "stdout",
     "output_type": "stream",
     "text": [
      "Signal distribution - Strong Decline(0): 578, Slight Decline(1): 232, Slight Rise(2): 243, Strong Rise(3): 774\n",
      "PyTorch data prepared - Train: torch.Size([1363, 10, 12]), Test: torch.Size([455, 10, 12])\n"
     ]
    },
    {
     "name": "stderr",
     "output_type": "stream",
     "text": [
      "Running experiments:  48%|█████████▌          | 38/80 [04:46<10:37, 15.18s/it, Model=LSTM, Status=✓]"
     ]
    },
    {
     "name": "stdout",
     "output_type": "stream",
     "text": [
      "Signal distribution - Strong Decline(0): 498, Slight Decline(1): 312, Slight Rise(2): 302, Strong Rise(3): 715\n",
      "PyTorch data prepared - Train: torch.Size([1363, 10, 12]), Test: torch.Size([455, 10, 12])\n"
     ]
    },
    {
     "name": "stderr",
     "output_type": "stream",
     "text": [
      "Running experiments:  49%|█████████▊          | 39/80 [05:02<10:29, 15.35s/it, Model=LSTM, Status=✓]"
     ]
    },
    {
     "name": "stdout",
     "output_type": "stream",
     "text": [
      "Signal distribution - Strong Decline(0): 444, Slight Decline(1): 366, Slight Rise(2): 366, Strong Rise(3): 651\n",
      "PyTorch data prepared - Train: torch.Size([1363, 10, 12]), Test: torch.Size([455, 10, 12])\n"
     ]
    },
    {
     "name": "stderr",
     "output_type": "stream",
     "text": [
      "Running experiments:  50%|██████████          | 40/80 [05:18<10:19, 15.49s/it, Model=LSTM, Status=✓]"
     ]
    },
    {
     "name": "stdout",
     "output_type": "stream",
     "text": [
      "Signal distribution - Strong Decline(0): 526, Slight Decline(1): 337, Slight Rise(2): 331, Strong Rise(3): 642\n",
      "PyTorch data prepared - Train: torch.Size([1370, 10, 12]), Test: torch.Size([457, 10, 12])\n"
     ]
    },
    {
     "name": "stderr",
     "output_type": "stream",
     "text": [
      "Running experiments:  51%|██████████▊          | 41/80 [05:33<09:56, 15.30s/it, Model=GRU, Status=✓]"
     ]
    },
    {
     "name": "stdout",
     "output_type": "stream",
     "text": [
      "Signal distribution - Strong Decline(0): 407, Slight Decline(1): 456, Slight Rise(2): 451, Strong Rise(3): 522\n",
      "PyTorch data prepared - Train: torch.Size([1370, 10, 12]), Test: torch.Size([457, 10, 12])\n"
     ]
    },
    {
     "name": "stderr",
     "output_type": "stream",
     "text": [
      "Running experiments:  52%|███████████          | 42/80 [05:48<09:38, 15.23s/it, Model=GRU, Status=✓]"
     ]
    },
    {
     "name": "stdout",
     "output_type": "stream",
     "text": [
      "Signal distribution - Strong Decline(0): 324, Slight Decline(1): 539, Slight Rise(2): 546, Strong Rise(3): 427\n",
      "PyTorch data prepared - Train: torch.Size([1370, 10, 12]), Test: torch.Size([457, 10, 12])\n"
     ]
    },
    {
     "name": "stderr",
     "output_type": "stream",
     "text": [
      "Running experiments:  54%|███████████▎         | 43/80 [06:04<09:29, 15.40s/it, Model=GRU, Status=✓]"
     ]
    },
    {
     "name": "stdout",
     "output_type": "stream",
     "text": [
      "Signal distribution - Strong Decline(0): 254, Slight Decline(1): 609, Slight Rise(2): 639, Strong Rise(3): 334\n",
      "PyTorch data prepared - Train: torch.Size([1370, 10, 12]), Test: torch.Size([457, 10, 12])\n"
     ]
    },
    {
     "name": "stderr",
     "output_type": "stream",
     "text": [
      "Running experiments:  55%|███████████▌         | 44/80 [06:20<09:18, 15.50s/it, Model=GRU, Status=✓]"
     ]
    },
    {
     "name": "stdout",
     "output_type": "stream",
     "text": [
      "Signal distribution - Strong Decline(0): 584, Slight Decline(1): 288, Slight Rise(2): 236, Strong Rise(3): 726\n",
      "PyTorch data prepared - Train: torch.Size([1368, 10, 12]), Test: torch.Size([457, 10, 12])\n"
     ]
    },
    {
     "name": "stderr",
     "output_type": "stream",
     "text": [
      "Running experiments:  56%|███████████▊         | 45/80 [06:35<09:05, 15.58s/it, Model=GRU, Status=✓]"
     ]
    },
    {
     "name": "stdout",
     "output_type": "stream",
     "text": [
      "Signal distribution - Strong Decline(0): 470, Slight Decline(1): 402, Slight Rise(2): 331, Strong Rise(3): 631\n",
      "PyTorch data prepared - Train: torch.Size([1368, 10, 12]), Test: torch.Size([457, 10, 12])\n"
     ]
    },
    {
     "name": "stderr",
     "output_type": "stream",
     "text": [
      "Running experiments:  57%|████████████         | 46/80 [06:51<08:52, 15.65s/it, Model=GRU, Status=✓]"
     ]
    },
    {
     "name": "stdout",
     "output_type": "stream",
     "text": [
      "Signal distribution - Strong Decline(0): 370, Slight Decline(1): 502, Slight Rise(2): 414, Strong Rise(3): 548\n",
      "PyTorch data prepared - Train: torch.Size([1368, 10, 12]), Test: torch.Size([457, 10, 12])\n"
     ]
    },
    {
     "name": "stderr",
     "output_type": "stream",
     "text": [
      "Running experiments:  59%|████████████▎        | 47/80 [07:07<08:38, 15.71s/it, Model=GRU, Status=✓]"
     ]
    },
    {
     "name": "stdout",
     "output_type": "stream",
     "text": [
      "Signal distribution - Strong Decline(0): 316, Slight Decline(1): 556, Slight Rise(2): 496, Strong Rise(3): 466\n",
      "PyTorch data prepared - Train: torch.Size([1368, 10, 12]), Test: torch.Size([457, 10, 12])\n"
     ]
    },
    {
     "name": "stderr",
     "output_type": "stream",
     "text": [
      "Running experiments:  60%|████████████▌        | 48/80 [07:23<08:22, 15.71s/it, Model=GRU, Status=✓]"
     ]
    },
    {
     "name": "stdout",
     "output_type": "stream",
     "text": [
      "Signal distribution - Strong Decline(0): 634, Slight Decline(1): 215, Slight Rise(2): 198, Strong Rise(3): 784\n",
      "PyTorch data prepared - Train: torch.Size([1366, 10, 12]), Test: torch.Size([456, 10, 12])\n"
     ]
    },
    {
     "name": "stderr",
     "output_type": "stream",
     "text": [
      "Running experiments:  61%|████████████▊        | 49/80 [07:36<07:49, 15.14s/it, Model=GRU, Status=✓]"
     ]
    },
    {
     "name": "stdout",
     "output_type": "stream",
     "text": [
      "Signal distribution - Strong Decline(0): 530, Slight Decline(1): 319, Slight Rise(2): 271, Strong Rise(3): 711\n",
      "PyTorch data prepared - Train: torch.Size([1366, 10, 12]), Test: torch.Size([456, 10, 12])\n"
     ]
    },
    {
     "name": "stderr",
     "output_type": "stream",
     "text": [
      "Running experiments:  62%|█████████████▏       | 50/80 [07:50<07:17, 14.58s/it, Model=GRU, Status=✓]"
     ]
    },
    {
     "name": "stdout",
     "output_type": "stream",
     "text": [
      "Signal distribution - Strong Decline(0): 447, Slight Decline(1): 402, Slight Rise(2): 340, Strong Rise(3): 642\n",
      "PyTorch data prepared - Train: torch.Size([1366, 10, 12]), Test: torch.Size([456, 10, 12])\n"
     ]
    },
    {
     "name": "stderr",
     "output_type": "stream",
     "text": [
      "Running experiments:  64%|█████████████▍       | 51/80 [08:03<06:53, 14.25s/it, Model=GRU, Status=✓]"
     ]
    },
    {
     "name": "stdout",
     "output_type": "stream",
     "text": [
      "Signal distribution - Strong Decline(0): 371, Slight Decline(1): 478, Slight Rise(2): 408, Strong Rise(3): 574\n",
      "PyTorch data prepared - Train: torch.Size([1366, 10, 12]), Test: torch.Size([456, 10, 12])\n"
     ]
    },
    {
     "name": "stderr",
     "output_type": "stream",
     "text": [
      "Running experiments:  65%|█████████████▋       | 52/80 [08:18<06:41, 14.32s/it, Model=GRU, Status=✓]"
     ]
    },
    {
     "name": "stdout",
     "output_type": "stream",
     "text": [
      "Signal distribution - Strong Decline(0): 639, Slight Decline(1): 187, Slight Rise(2): 168, Strong Rise(3): 835\n",
      "PyTorch data prepared - Train: torch.Size([1365, 10, 12]), Test: torch.Size([455, 10, 12])\n"
     ]
    },
    {
     "name": "stderr",
     "output_type": "stream",
     "text": [
      "Running experiments:  66%|█████████████▉       | 53/80 [08:31<06:21, 14.13s/it, Model=GRU, Status=✓]"
     ]
    },
    {
     "name": "stdout",
     "output_type": "stream",
     "text": [
      "Signal distribution - Strong Decline(0): 560, Slight Decline(1): 266, Slight Rise(2): 246, Strong Rise(3): 757\n",
      "PyTorch data prepared - Train: torch.Size([1365, 10, 12]), Test: torch.Size([455, 10, 12])\n"
     ]
    },
    {
     "name": "stderr",
     "output_type": "stream",
     "text": [
      "Running experiments:  68%|██████████████▏      | 54/80 [08:45<06:06, 14.11s/it, Model=GRU, Status=✓]"
     ]
    },
    {
     "name": "stdout",
     "output_type": "stream",
     "text": [
      "Signal distribution - Strong Decline(0): 477, Slight Decline(1): 349, Slight Rise(2): 322, Strong Rise(3): 681\n",
      "PyTorch data prepared - Train: torch.Size([1365, 10, 12]), Test: torch.Size([455, 10, 12])\n"
     ]
    },
    {
     "name": "stderr",
     "output_type": "stream",
     "text": [
      "Running experiments:  69%|██████████████▍      | 55/80 [09:00<05:55, 14.22s/it, Model=GRU, Status=✓]"
     ]
    },
    {
     "name": "stdout",
     "output_type": "stream",
     "text": [
      "Signal distribution - Strong Decline(0): 406, Slight Decline(1): 420, Slight Rise(2): 383, Strong Rise(3): 620\n",
      "PyTorch data prepared - Train: torch.Size([1365, 10, 12]), Test: torch.Size([455, 10, 12])\n"
     ]
    },
    {
     "name": "stderr",
     "output_type": "stream",
     "text": [
      "Running experiments:  70%|██████████████▋      | 56/80 [09:14<05:39, 14.16s/it, Model=GRU, Status=✓]"
     ]
    },
    {
     "name": "stdout",
     "output_type": "stream",
     "text": [
      "Signal distribution - Strong Decline(0): 644, Slight Decline(1): 166, Slight Rise(2): 178, Strong Rise(3): 839\n",
      "PyTorch data prepared - Train: torch.Size([1363, 10, 12]), Test: torch.Size([455, 10, 12])\n"
     ]
    },
    {
     "name": "stderr",
     "output_type": "stream",
     "text": [
      "Running experiments:  71%|██████████████▉      | 57/80 [09:27<05:20, 13.94s/it, Model=GRU, Status=✓]"
     ]
    },
    {
     "name": "stdout",
     "output_type": "stream",
     "text": [
      "Signal distribution - Strong Decline(0): 578, Slight Decline(1): 232, Slight Rise(2): 243, Strong Rise(3): 774\n",
      "PyTorch data prepared - Train: torch.Size([1363, 10, 12]), Test: torch.Size([455, 10, 12])\n"
     ]
    },
    {
     "name": "stderr",
     "output_type": "stream",
     "text": [
      "Running experiments:  72%|███████████████▏     | 58/80 [09:41<05:02, 13.77s/it, Model=GRU, Status=✓]"
     ]
    },
    {
     "name": "stdout",
     "output_type": "stream",
     "text": [
      "Signal distribution - Strong Decline(0): 498, Slight Decline(1): 312, Slight Rise(2): 302, Strong Rise(3): 715\n",
      "PyTorch data prepared - Train: torch.Size([1363, 10, 12]), Test: torch.Size([455, 10, 12])\n"
     ]
    },
    {
     "name": "stderr",
     "output_type": "stream",
     "text": [
      "Running experiments:  74%|███████████████▍     | 59/80 [09:54<04:46, 13.63s/it, Model=GRU, Status=✓]"
     ]
    },
    {
     "name": "stdout",
     "output_type": "stream",
     "text": [
      "Signal distribution - Strong Decline(0): 444, Slight Decline(1): 366, Slight Rise(2): 366, Strong Rise(3): 651\n",
      "PyTorch data prepared - Train: torch.Size([1363, 10, 12]), Test: torch.Size([455, 10, 12])\n"
     ]
    },
    {
     "name": "stderr",
     "output_type": "stream",
     "text": [
      "Running experiments:  75%|███████████████▊     | 60/80 [10:07<04:31, 13.55s/it, Model=GRU, Status=✓]"
     ]
    },
    {
     "name": "stdout",
     "output_type": "stream",
     "text": [
      "Signal distribution - Strong Decline(0): 526, Slight Decline(1): 337, Slight Rise(2): 331, Strong Rise(3): 642\n",
      "PyTorch data prepared - Train: torch.Size([1370, 10, 12]), Test: torch.Size([457, 10, 12])\n"
     ]
    },
    {
     "name": "stderr",
     "output_type": "stream",
     "text": [
      "Running experiments:  76%|████████████████     | 61/80 [10:19<04:05, 12.93s/it, Model=CNN, Status=✓]"
     ]
    },
    {
     "name": "stdout",
     "output_type": "stream",
     "text": [
      "Signal distribution - Strong Decline(0): 407, Slight Decline(1): 456, Slight Rise(2): 451, Strong Rise(3): 522\n",
      "PyTorch data prepared - Train: torch.Size([1370, 10, 12]), Test: torch.Size([457, 10, 12])\n"
     ]
    },
    {
     "name": "stderr",
     "output_type": "stream",
     "text": [
      "Running experiments:  78%|████████████████▎    | 62/80 [10:30<03:44, 12.48s/it, Model=CNN, Status=✓]"
     ]
    },
    {
     "name": "stdout",
     "output_type": "stream",
     "text": [
      "Signal distribution - Strong Decline(0): 324, Slight Decline(1): 539, Slight Rise(2): 546, Strong Rise(3): 427\n",
      "PyTorch data prepared - Train: torch.Size([1370, 10, 12]), Test: torch.Size([457, 10, 12])\n"
     ]
    },
    {
     "name": "stderr",
     "output_type": "stream",
     "text": [
      "Running experiments:  79%|████████████████▌    | 63/80 [10:41<03:25, 12.06s/it, Model=CNN, Status=✓]"
     ]
    },
    {
     "name": "stdout",
     "output_type": "stream",
     "text": [
      "Signal distribution - Strong Decline(0): 254, Slight Decline(1): 609, Slight Rise(2): 639, Strong Rise(3): 334\n",
      "PyTorch data prepared - Train: torch.Size([1370, 10, 12]), Test: torch.Size([457, 10, 12])\n"
     ]
    },
    {
     "name": "stderr",
     "output_type": "stream",
     "text": [
      "Running experiments:  80%|████████████████▊    | 64/80 [10:53<03:10, 11.90s/it, Model=CNN, Status=✓]"
     ]
    },
    {
     "name": "stdout",
     "output_type": "stream",
     "text": [
      "Signal distribution - Strong Decline(0): 584, Slight Decline(1): 288, Slight Rise(2): 236, Strong Rise(3): 726\n",
      "PyTorch data prepared - Train: torch.Size([1368, 10, 12]), Test: torch.Size([457, 10, 12])\n"
     ]
    },
    {
     "name": "stderr",
     "output_type": "stream",
     "text": [
      "Running experiments:  81%|█████████████████    | 65/80 [11:05<02:59, 11.98s/it, Model=CNN, Status=✓]"
     ]
    },
    {
     "name": "stdout",
     "output_type": "stream",
     "text": [
      "Signal distribution - Strong Decline(0): 470, Slight Decline(1): 402, Slight Rise(2): 331, Strong Rise(3): 631\n",
      "PyTorch data prepared - Train: torch.Size([1368, 10, 12]), Test: torch.Size([457, 10, 12])\n"
     ]
    },
    {
     "name": "stderr",
     "output_type": "stream",
     "text": [
      "Running experiments:  82%|█████████████████▎   | 66/80 [11:17<02:48, 12.02s/it, Model=CNN, Status=✓]"
     ]
    },
    {
     "name": "stdout",
     "output_type": "stream",
     "text": [
      "Signal distribution - Strong Decline(0): 370, Slight Decline(1): 502, Slight Rise(2): 414, Strong Rise(3): 548\n",
      "PyTorch data prepared - Train: torch.Size([1368, 10, 12]), Test: torch.Size([457, 10, 12])\n"
     ]
    },
    {
     "name": "stderr",
     "output_type": "stream",
     "text": [
      "Running experiments:  84%|█████████████████▌   | 67/80 [11:29<02:33, 11.84s/it, Model=CNN, Status=✓]"
     ]
    },
    {
     "name": "stdout",
     "output_type": "stream",
     "text": [
      "Signal distribution - Strong Decline(0): 316, Slight Decline(1): 556, Slight Rise(2): 496, Strong Rise(3): 466\n",
      "PyTorch data prepared - Train: torch.Size([1368, 10, 12]), Test: torch.Size([457, 10, 12])\n"
     ]
    },
    {
     "name": "stderr",
     "output_type": "stream",
     "text": [
      "Running experiments:  85%|█████████████████▊   | 68/80 [11:40<02:20, 11.75s/it, Model=CNN, Status=✓]"
     ]
    },
    {
     "name": "stdout",
     "output_type": "stream",
     "text": [
      "Signal distribution - Strong Decline(0): 634, Slight Decline(1): 215, Slight Rise(2): 198, Strong Rise(3): 784\n",
      "PyTorch data prepared - Train: torch.Size([1366, 10, 12]), Test: torch.Size([456, 10, 12])\n"
     ]
    },
    {
     "name": "stderr",
     "output_type": "stream",
     "text": [
      "Running experiments:  86%|██████████████████   | 69/80 [11:52<02:08, 11.68s/it, Model=CNN, Status=✓]"
     ]
    },
    {
     "name": "stdout",
     "output_type": "stream",
     "text": [
      "Signal distribution - Strong Decline(0): 530, Slight Decline(1): 319, Slight Rise(2): 271, Strong Rise(3): 711\n",
      "PyTorch data prepared - Train: torch.Size([1366, 10, 12]), Test: torch.Size([456, 10, 12])\n"
     ]
    },
    {
     "name": "stderr",
     "output_type": "stream",
     "text": [
      "Running experiments:  88%|██████████████████▍  | 70/80 [12:03<01:56, 11.65s/it, Model=CNN, Status=✓]"
     ]
    },
    {
     "name": "stdout",
     "output_type": "stream",
     "text": [
      "Signal distribution - Strong Decline(0): 447, Slight Decline(1): 402, Slight Rise(2): 340, Strong Rise(3): 642\n",
      "PyTorch data prepared - Train: torch.Size([1366, 10, 12]), Test: torch.Size([456, 10, 12])\n"
     ]
    },
    {
     "name": "stderr",
     "output_type": "stream",
     "text": [
      "Running experiments:  89%|██████████████████▋  | 71/80 [12:15<01:45, 11.69s/it, Model=CNN, Status=✓]"
     ]
    },
    {
     "name": "stdout",
     "output_type": "stream",
     "text": [
      "Signal distribution - Strong Decline(0): 371, Slight Decline(1): 478, Slight Rise(2): 408, Strong Rise(3): 574\n",
      "PyTorch data prepared - Train: torch.Size([1366, 10, 12]), Test: torch.Size([456, 10, 12])\n"
     ]
    },
    {
     "name": "stderr",
     "output_type": "stream",
     "text": [
      "Running experiments:  90%|██████████████████▉  | 72/80 [12:27<01:33, 11.71s/it, Model=CNN, Status=✓]"
     ]
    },
    {
     "name": "stdout",
     "output_type": "stream",
     "text": [
      "Signal distribution - Strong Decline(0): 639, Slight Decline(1): 187, Slight Rise(2): 168, Strong Rise(3): 835\n",
      "PyTorch data prepared - Train: torch.Size([1365, 10, 12]), Test: torch.Size([455, 10, 12])\n"
     ]
    },
    {
     "name": "stderr",
     "output_type": "stream",
     "text": [
      "Running experiments:  91%|███████████████████▏ | 73/80 [12:39<01:22, 11.80s/it, Model=CNN, Status=✓]"
     ]
    },
    {
     "name": "stdout",
     "output_type": "stream",
     "text": [
      "Signal distribution - Strong Decline(0): 560, Slight Decline(1): 266, Slight Rise(2): 246, Strong Rise(3): 757\n",
      "PyTorch data prepared - Train: torch.Size([1365, 10, 12]), Test: torch.Size([455, 10, 12])\n"
     ]
    },
    {
     "name": "stderr",
     "output_type": "stream",
     "text": [
      "Running experiments:  92%|███████████████████▍ | 74/80 [12:52<01:13, 12.19s/it, Model=CNN, Status=✓]"
     ]
    },
    {
     "name": "stdout",
     "output_type": "stream",
     "text": [
      "Signal distribution - Strong Decline(0): 477, Slight Decline(1): 349, Slight Rise(2): 322, Strong Rise(3): 681\n",
      "PyTorch data prepared - Train: torch.Size([1365, 10, 12]), Test: torch.Size([455, 10, 12])\n"
     ]
    },
    {
     "name": "stderr",
     "output_type": "stream",
     "text": [
      "Running experiments:  94%|███████████████████▋ | 75/80 [13:05<01:02, 12.45s/it, Model=CNN, Status=✓]"
     ]
    },
    {
     "name": "stdout",
     "output_type": "stream",
     "text": [
      "Signal distribution - Strong Decline(0): 406, Slight Decline(1): 420, Slight Rise(2): 383, Strong Rise(3): 620\n",
      "PyTorch data prepared - Train: torch.Size([1365, 10, 12]), Test: torch.Size([455, 10, 12])\n"
     ]
    },
    {
     "name": "stderr",
     "output_type": "stream",
     "text": [
      "Running experiments:  95%|███████████████████▉ | 76/80 [13:16<00:48, 12.10s/it, Model=CNN, Status=✓]"
     ]
    },
    {
     "name": "stdout",
     "output_type": "stream",
     "text": [
      "Signal distribution - Strong Decline(0): 644, Slight Decline(1): 166, Slight Rise(2): 178, Strong Rise(3): 839\n",
      "PyTorch data prepared - Train: torch.Size([1363, 10, 12]), Test: torch.Size([455, 10, 12])\n"
     ]
    },
    {
     "name": "stderr",
     "output_type": "stream",
     "text": [
      "Running experiments:  96%|████████████████████▏| 77/80 [13:28<00:35, 11.86s/it, Model=CNN, Status=✓]"
     ]
    },
    {
     "name": "stdout",
     "output_type": "stream",
     "text": [
      "Signal distribution - Strong Decline(0): 578, Slight Decline(1): 232, Slight Rise(2): 243, Strong Rise(3): 774\n",
      "PyTorch data prepared - Train: torch.Size([1363, 10, 12]), Test: torch.Size([455, 10, 12])\n"
     ]
    },
    {
     "name": "stderr",
     "output_type": "stream",
     "text": [
      "Running experiments:  98%|████████████████████▍| 78/80 [13:40<00:24, 12.13s/it, Model=CNN, Status=✓]"
     ]
    },
    {
     "name": "stdout",
     "output_type": "stream",
     "text": [
      "Signal distribution - Strong Decline(0): 498, Slight Decline(1): 312, Slight Rise(2): 302, Strong Rise(3): 715\n",
      "PyTorch data prepared - Train: torch.Size([1363, 10, 12]), Test: torch.Size([455, 10, 12])\n"
     ]
    },
    {
     "name": "stderr",
     "output_type": "stream",
     "text": [
      "Running experiments:  99%|████████████████████▋| 79/80 [13:54<00:12, 12.50s/it, Model=CNN, Status=✓]"
     ]
    },
    {
     "name": "stdout",
     "output_type": "stream",
     "text": [
      "Signal distribution - Strong Decline(0): 444, Slight Decline(1): 366, Slight Rise(2): 366, Strong Rise(3): 651\n",
      "PyTorch data prepared - Train: torch.Size([1363, 10, 12]), Test: torch.Size([455, 10, 12])\n"
     ]
    },
    {
     "name": "stderr",
     "output_type": "stream",
     "text": [
      "Running experiments: 100%|█████████████████████| 80/80 [14:07<00:00, 10.59s/it, Model=CNN, Status=✓]"
     ]
    },
    {
     "name": "stdout",
     "output_type": "stream",
     "text": [
      "\n",
      "================================================================================\n",
      "BITCOIN PRICE PREDICTION RESULTS\n",
      "================================================================================\n",
      "\n",
      "Model Performance Summary:\n",
      "Model      Lookahead  Threshold    Accuracy   Loss Count   Loss Mean \n",
      "--------------------------------------------------------------------------------\n",
      "XGBoost    10         0.020        0.747      59           0.0406    \n",
      "XGBoost    12         0.020        0.735      56           0.0397    \n",
      "XGBoost    12         0.030        0.733      34           0.0369    \n",
      "XGBoost    10         0.030        0.712      41           0.0283    \n",
      "XGBoost    8          0.020        0.672      60           0.0438    \n",
      "XGBoost    10         0.040        0.666      29           0.0407    \n",
      "XGBoost    12         0.040        0.659      39           0.0406    \n",
      "XGBoost    12         0.050        0.646      30           0.0449    \n",
      "XGBoost    10         0.050        0.640      20           0.0783    \n",
      "XGBoost    8          0.030        0.635      54           0.0288    \n",
      "XGBoost    8          0.050        0.622      23           0.0493    \n",
      "XGBoost    8          0.040        0.607      44           0.0342    \n",
      "XGBoost    5          0.030        0.566      62           0.0408    \n",
      "XGBoost    5          0.020        0.562      78           0.0424    \n",
      "XGBoost    5          0.050        0.560      28           0.0354    \n",
      "XGBoost    5          0.040        0.521      53           0.0480    \n",
      "XGBoost    3          0.020        0.488      98           0.0454    \n",
      "XGBoost    3          0.040        0.464      30           0.0503    \n",
      "XGBoost    3          0.050        0.462      29           0.0627    \n",
      "XGBoost    3          0.030        0.442      60           0.0428    \n",
      "LSTM       3          0.050        0.431      37           0.0249    \n",
      "CNN        3          0.050        0.418      23           0.0378    \n",
      "GRU        10         0.020        0.391      233          0.0587    \n",
      "GRU        3          0.050        0.385      9            0.0365    \n",
      "CNN        10         0.020        0.369      243          0.0535    \n",
      "GRU        12         0.020        0.369      254          0.0582    \n",
      "LSTM       10         0.020        0.365      245          0.0604    \n",
      "LSTM       8          0.020        0.364      222          0.0521    \n",
      "LSTM       10         0.030        0.358      226          0.0523    \n",
      "LSTM       5          0.020        0.352      222          0.0380    \n",
      "CNN        3          0.020        0.341      195          0.0280    \n",
      "CNN        3          0.040        0.341      67           0.0326    \n",
      "GRU        5          0.020        0.339      213          0.0395    \n",
      "GRU        8          0.020        0.338      232          0.0536    \n",
      "CNN        5          0.020        0.333      202          0.0407    \n",
      "CNN        12         0.020        0.332      267          0.0576    \n",
      "CNN        12         0.030        0.327      178          0.0550    \n",
      "GRU        10         0.030        0.323      237          0.0537    \n",
      "GRU        3          0.040        0.319      51           0.0357    \n",
      "CNN        5          0.030        0.317      187          0.0360    \n",
      "GRU        12         0.030        0.316      226          0.0575    \n",
      "CNN        10         0.030        0.314      237          0.0566    \n",
      "LSTM       3          0.040        0.313      84           0.0284    \n",
      "LSTM       5          0.050        0.311      97           0.0379    \n",
      "CNN        5          0.040        0.304      141          0.0360    \n",
      "LSTM       8          0.030        0.300      223          0.0505    \n",
      "GRU        5          0.030        0.300      179          0.0439    \n",
      "CNN        12         0.040        0.297      170          0.0553    \n",
      "CNN        8          0.020        0.296      262          0.0491    \n",
      "CNN        5          0.050        0.295      128          0.0394    \n",
      "GRU        3          0.020        0.295      212          0.0304    \n",
      "LSTM       12         0.030        0.295      262          0.0598    \n",
      "GRU        5          0.050        0.293      77           0.0380    \n",
      "LSTM       10         0.040        0.286      186          0.0610    \n",
      "GRU        10         0.040        0.286      216          0.0585    \n",
      "CNN        8          0.030        0.285      222          0.0511    \n",
      "CNN        3          0.030        0.284      130          0.0322    \n",
      "CNN        10         0.040        0.281      181          0.0513    \n",
      "LSTM       12         0.020        0.279      291          0.0646    \n",
      "GRU        5          0.040        0.278      152          0.0427    \n",
      "CNN        8          0.050        0.274      132          0.0428    \n",
      "LSTM       5          0.040        0.274      158          0.0427    \n",
      "LSTM       5          0.030        0.271      194          0.0408    \n",
      "GRU        8          0.050        0.270      164          0.0536    \n",
      "CNN        8          0.040        0.270      165          0.0451    \n",
      "LSTM       3          0.020        0.269      214          0.0299    \n",
      "GRU        8          0.030        0.268      236          0.0531    \n",
      "GRU        3          0.030        0.265      131          0.0322    \n",
      "LSTM       8          0.040        0.252      209          0.0526    \n",
      "LSTM       3          0.030        0.247      158          0.0317    \n",
      "LSTM       12         0.040        0.246      147          0.0582    \n",
      "CNN        10         0.050        0.244      154          0.0533    \n",
      "LSTM       8          0.050        0.235      173          0.0506    \n",
      "GRU        12         0.040        0.233      161          0.0599    \n",
      "LSTM       10         0.050        0.222      225          0.0594    \n",
      "GRU        10         0.050        0.218      208          0.0556    \n",
      "GRU        8          0.040        0.211      207          0.0543    \n",
      "CNN        12         0.050        0.209      134          0.0639    \n",
      "GRU        12         0.050        0.176      173          0.0633    \n",
      "LSTM       12         0.050        0.169      152          0.0630    \n",
      "\n",
      "================================================================================\n",
      "BEST CONFIGURATION:\n",
      "Model: XGBoost\n",
      "Accuracy: 0.747 (74.7%)\n",
      "Lookahead: 10 periods\n",
      "Threshold: 0.020\n",
      "Loss Events: 59\n",
      "Average Loss: 0.0406\n",
      "================================================================================\n"
     ]
    },
    {
     "name": "stderr",
     "output_type": "stream",
     "text": [
      "\n"
     ]
    }
   ],
   "source": [
    "\"\"\"\n",
    "Price Movement Prediction - Main Execution Script\n",
    "\"\"\"\n",
    "\n",
    "import os\n",
    "os.environ['CUDA_LAUNCH_BLOCKING'] = '1'\n",
    "\n",
    "import warnings\n",
    "warnings.filterwarnings('ignore')\n",
    "\n",
    "from experiment_runner_silent import run_silent_experiment\n",
    "\n",
    "def bnb_4h():\n",
    "    \"\"\"Main execution - clean output only\"\"\"\n",
    "    \n",
    "    # Configuration\n",
    "    DATA_PATH = r'F:\\up_git\\official_predict\\data\\bnb_1d.csv'\n",
    "    \n",
    "    # Create results directory\n",
    "    results_dir = os.path.join('..', '..', 'results')\n",
    "    os.makedirs(results_dir, exist_ok=True)\n",
    "    OUTPUT_FILENAME = '../../results/bnb_results_4h_4class.csv'\n",
    "    \n",
    "    # Parameters\n",
    "    LOOKAHEAD_VALUES = [3, 5, 8, 10,12]  # Số ngày dự đoán\n",
    "    THRESHOLD_VALUES = [0.02, 0.03, 0.04, 0.05]  # Ngưỡng phân loại\n",
    "\n",
    "    MODEL_TYPES = ['XGBoost', 'LSTM', 'GRU', 'CNN']\n",
    "    \n",
    "    # Run experiment\n",
    "    run_silent_experiment(\n",
    "        data_path=DATA_PATH,\n",
    "        output_filename=OUTPUT_FILENAME,\n",
    "        lookahead_values=LOOKAHEAD_VALUES,\n",
    "        threshold_values=THRESHOLD_VALUES,\n",
    "        model_types=MODEL_TYPES\n",
    "    )\n",
    "\n",
    "bnb_4h()"
   ]
  },
  {
   "cell_type": "code",
   "execution_count": 5,
   "id": "ffabfb36",
   "metadata": {},
   "outputs": [
    {
     "name": "stderr",
     "output_type": "stream",
     "text": [
      "Running experiments:   0%|                                                   | 0/80 [00:00<?, ?it/s]"
     ]
    },
    {
     "name": "stdout",
     "output_type": "stream",
     "text": [
      "Signal distribution - Strong Decline(0): 2377, Slight Decline(1): 41792, Slight Rise(2): 42950, Strong Rise(3): 2402\n"
     ]
    },
    {
     "name": "stderr",
     "output_type": "stream",
     "text": [
      "Running experiments:   1%|▏                 | 1/80 [00:01<02:35,  1.96s/it, Model=XGBoost, Status=✓]"
     ]
    },
    {
     "name": "stdout",
     "output_type": "stream",
     "text": [
      "Signal distribution - Strong Decline(0): 975, Slight Decline(1): 43194, Slight Rise(2): 44386, Strong Rise(3): 966\n"
     ]
    },
    {
     "name": "stderr",
     "output_type": "stream",
     "text": [
      "Running experiments:   2%|▍                 | 2/80 [00:03<02:30,  1.92s/it, Model=XGBoost, Status=✓]"
     ]
    },
    {
     "name": "stdout",
     "output_type": "stream",
     "text": [
      "Signal distribution - Strong Decline(0): 472, Slight Decline(1): 43697, Slight Rise(2): 44867, Strong Rise(3): 485\n"
     ]
    },
    {
     "name": "stderr",
     "output_type": "stream",
     "text": [
      "Running experiments:   4%|▋                 | 3/80 [00:05<02:20,  1.82s/it, Model=XGBoost, Status=✓]"
     ]
    },
    {
     "name": "stdout",
     "output_type": "stream",
     "text": [
      "Signal distribution - Strong Decline(0): 258, Slight Decline(1): 43911, Slight Rise(2): 45102, Strong Rise(3): 250\n"
     ]
    },
    {
     "name": "stderr",
     "output_type": "stream",
     "text": [
      "Running experiments:   5%|▉                 | 4/80 [00:07<02:08,  1.69s/it, Model=XGBoost, Status=✓]"
     ]
    },
    {
     "name": "stdout",
     "output_type": "stream",
     "text": [
      "Signal distribution - Strong Decline(0): 3867, Slight Decline(1): 40013, Slight Rise(2): 41592, Strong Rise(3): 4047\n"
     ]
    },
    {
     "name": "stderr",
     "output_type": "stream",
     "text": [
      "Running experiments:   6%|█▏                | 5/80 [00:08<02:04,  1.67s/it, Model=XGBoost, Status=✓]"
     ]
    },
    {
     "name": "stdout",
     "output_type": "stream",
     "text": [
      "Signal distribution - Strong Decline(0): 1702, Slight Decline(1): 42178, Slight Rise(2): 43863, Strong Rise(3): 1776\n"
     ]
    },
    {
     "name": "stderr",
     "output_type": "stream",
     "text": [
      "Running experiments:   8%|█▎                | 6/80 [00:10<02:02,  1.66s/it, Model=XGBoost, Status=✓]"
     ]
    },
    {
     "name": "stdout",
     "output_type": "stream",
     "text": [
      "Signal distribution - Strong Decline(0): 868, Slight Decline(1): 43012, Slight Rise(2): 44728, Strong Rise(3): 911\n"
     ]
    },
    {
     "name": "stderr",
     "output_type": "stream",
     "text": [
      "Running experiments:   9%|█▌                | 7/80 [00:11<01:59,  1.63s/it, Model=XGBoost, Status=✓]"
     ]
    },
    {
     "name": "stdout",
     "output_type": "stream",
     "text": [
      "Signal distribution - Strong Decline(0): 500, Slight Decline(1): 43380, Slight Rise(2): 45124, Strong Rise(3): 515\n"
     ]
    },
    {
     "name": "stderr",
     "output_type": "stream",
     "text": [
      "Running experiments:  10%|█▊                | 8/80 [00:13<01:56,  1.62s/it, Model=XGBoost, Status=✓]"
     ]
    },
    {
     "name": "stdout",
     "output_type": "stream",
     "text": [
      "Signal distribution - Strong Decline(0): 5777, Slight Decline(1): 37744, Slight Rise(2): 39719, Strong Rise(3): 6276\n"
     ]
    },
    {
     "name": "stderr",
     "output_type": "stream",
     "text": [
      "Running experiments:  11%|██                | 9/80 [00:15<01:53,  1.59s/it, Model=XGBoost, Status=✓]"
     ]
    },
    {
     "name": "stdout",
     "output_type": "stream",
     "text": [
      "Signal distribution - Strong Decline(0): 2758, Slight Decline(1): 40763, Slight Rise(2): 43047, Strong Rise(3): 2948\n"
     ]
    },
    {
     "name": "stderr",
     "output_type": "stream",
     "text": [
      "Running experiments:  12%|██▏              | 10/80 [00:16<01:50,  1.57s/it, Model=XGBoost, Status=✓]"
     ]
    },
    {
     "name": "stdout",
     "output_type": "stream",
     "text": [
      "Signal distribution - Strong Decline(0): 1521, Slight Decline(1): 42000, Slight Rise(2): 44433, Strong Rise(3): 1562\n"
     ]
    },
    {
     "name": "stderr",
     "output_type": "stream",
     "text": [
      "Running experiments:  14%|██▎              | 11/80 [00:18<01:46,  1.55s/it, Model=XGBoost, Status=✓]"
     ]
    },
    {
     "name": "stdout",
     "output_type": "stream",
     "text": [
      "Signal distribution - Strong Decline(0): 884, Slight Decline(1): 42637, Slight Rise(2): 45090, Strong Rise(3): 905\n"
     ]
    },
    {
     "name": "stderr",
     "output_type": "stream",
     "text": [
      "Running experiments:  15%|██▌              | 12/80 [00:19<01:41,  1.50s/it, Model=XGBoost, Status=✓]"
     ]
    },
    {
     "name": "stdout",
     "output_type": "stream",
     "text": [
      "Signal distribution - Strong Decline(0): 6890, Slight Decline(1): 36742, Slight Rise(2): 38242, Strong Rise(3): 7640\n"
     ]
    },
    {
     "name": "stderr",
     "output_type": "stream",
     "text": [
      "Running experiments:  16%|██▊              | 13/80 [00:20<01:40,  1.51s/it, Model=XGBoost, Status=✓]"
     ]
    },
    {
     "name": "stdout",
     "output_type": "stream",
     "text": [
      "Signal distribution - Strong Decline(0): 3476, Slight Decline(1): 40156, Slight Rise(2): 42092, Strong Rise(3): 3790\n"
     ]
    },
    {
     "name": "stderr",
     "output_type": "stream",
     "text": [
      "Running experiments:  18%|██▉              | 14/80 [00:22<01:39,  1.50s/it, Model=XGBoost, Status=✓]"
     ]
    },
    {
     "name": "stdout",
     "output_type": "stream",
     "text": [
      "Signal distribution - Strong Decline(0): 1909, Slight Decline(1): 41723, Slight Rise(2): 43852, Strong Rise(3): 2030\n"
     ]
    },
    {
     "name": "stderr",
     "output_type": "stream",
     "text": [
      "Running experiments:  19%|███▏             | 15/80 [00:23<01:37,  1.50s/it, Model=XGBoost, Status=✓]"
     ]
    },
    {
     "name": "stdout",
     "output_type": "stream",
     "text": [
      "Signal distribution - Strong Decline(0): 1122, Slight Decline(1): 42510, Slight Rise(2): 44682, Strong Rise(3): 1200\n"
     ]
    },
    {
     "name": "stderr",
     "output_type": "stream",
     "text": [
      "Running experiments:  20%|███▍             | 16/80 [00:25<01:37,  1.52s/it, Model=XGBoost, Status=✓]"
     ]
    },
    {
     "name": "stdout",
     "output_type": "stream",
     "text": [
      "Signal distribution - Strong Decline(0): 7850, Slight Decline(1): 35572, Slight Rise(2): 37259, Strong Rise(3): 8831\n"
     ]
    },
    {
     "name": "stderr",
     "output_type": "stream",
     "text": [
      "Running experiments:  21%|███▌             | 17/80 [00:27<01:35,  1.52s/it, Model=XGBoost, Status=✓]"
     ]
    },
    {
     "name": "stdout",
     "output_type": "stream",
     "text": [
      "Signal distribution - Strong Decline(0): 4091, Slight Decline(1): 39331, Slight Rise(2): 41541, Strong Rise(3): 4549\n"
     ]
    },
    {
     "name": "stderr",
     "output_type": "stream",
     "text": [
      "Running experiments:  22%|███▊             | 18/80 [00:28<01:33,  1.51s/it, Model=XGBoost, Status=✓]"
     ]
    },
    {
     "name": "stdout",
     "output_type": "stream",
     "text": [
      "Signal distribution - Strong Decline(0): 2311, Slight Decline(1): 41111, Slight Rise(2): 43582, Strong Rise(3): 2508\n"
     ]
    },
    {
     "name": "stderr",
     "output_type": "stream",
     "text": [
      "Running experiments:  24%|████             | 19/80 [00:29<01:31,  1.50s/it, Model=XGBoost, Status=✓]"
     ]
    },
    {
     "name": "stdout",
     "output_type": "stream",
     "text": [
      "Signal distribution - Strong Decline(0): 1348, Slight Decline(1): 42074, Slight Rise(2): 44612, Strong Rise(3): 1478\n"
     ]
    },
    {
     "name": "stderr",
     "output_type": "stream",
     "text": [
      "Running experiments:  25%|████▎            | 20/80 [00:31<01:29,  1.48s/it, Model=XGBoost, Status=✓]"
     ]
    },
    {
     "name": "stdout",
     "output_type": "stream",
     "text": [
      "Signal distribution - Strong Decline(0): 2377, Slight Decline(1): 41792, Slight Rise(2): 42950, Strong Rise(3): 2402\n",
      "PyTorch data prepared - Train: torch.Size([67134, 10, 12]), Test: torch.Size([22378, 10, 12])\n"
     ]
    },
    {
     "name": "stderr",
     "output_type": "stream",
     "text": [
      "Running experiments:  26%|████▍            | 21/80 [13:15<3:46:36, 230.44s/it, Model=LSTM, Status=✓]"
     ]
    },
    {
     "name": "stdout",
     "output_type": "stream",
     "text": [
      "Signal distribution - Strong Decline(0): 975, Slight Decline(1): 43194, Slight Rise(2): 44386, Strong Rise(3): 966\n",
      "PyTorch data prepared - Train: torch.Size([67134, 10, 12]), Test: torch.Size([22378, 10, 12])\n"
     ]
    },
    {
     "name": "stderr",
     "output_type": "stream",
     "text": [
      "Running experiments:  28%|████▋            | 22/80 [25:40<6:12:04, 384.90s/it, Model=LSTM, Status=✓]"
     ]
    },
    {
     "name": "stdout",
     "output_type": "stream",
     "text": [
      "Signal distribution - Strong Decline(0): 472, Slight Decline(1): 43697, Slight Rise(2): 44867, Strong Rise(3): 485\n",
      "PyTorch data prepared - Train: torch.Size([67134, 10, 12]), Test: torch.Size([22378, 10, 12])\n"
     ]
    },
    {
     "name": "stderr",
     "output_type": "stream",
     "text": [
      "Running experiments:  29%|████▉            | 23/80 [43:33<9:21:46, 591.34s/it, Model=LSTM, Status=✓]"
     ]
    },
    {
     "name": "stdout",
     "output_type": "stream",
     "text": [
      "Signal distribution - Strong Decline(0): 258, Slight Decline(1): 43911, Slight Rise(2): 45102, Strong Rise(3): 250\n",
      "PyTorch data prepared - Train: torch.Size([67134, 10, 12]), Test: torch.Size([22378, 10, 12])\n"
     ]
    },
    {
     "name": "stderr",
     "output_type": "stream",
     "text": [
      "Running experiments:  30%|█████            | 24/80 [55:51<9:53:01, 635.38s/it, Model=LSTM, Status=✓]"
     ]
    },
    {
     "name": "stdout",
     "output_type": "stream",
     "text": [
      "Signal distribution - Strong Decline(0): 3867, Slight Decline(1): 40013, Slight Rise(2): 41592, Strong Rise(3): 4047\n",
      "PyTorch data prepared - Train: torch.Size([67132, 10, 12]), Test: torch.Size([22378, 10, 12])\n"
     ]
    },
    {
     "name": "stderr",
     "output_type": "stream",
     "text": [
      "Running experiments:  31%|████▍         | 25/80 [1:08:17<10:12:49, 668.53s/it, Model=LSTM, Status=✓]"
     ]
    },
    {
     "name": "stdout",
     "output_type": "stream",
     "text": [
      "Signal distribution - Strong Decline(0): 1702, Slight Decline(1): 42178, Slight Rise(2): 43863, Strong Rise(3): 1776\n",
      "PyTorch data prepared - Train: torch.Size([67132, 10, 12]), Test: torch.Size([22378, 10, 12])\n"
     ]
    },
    {
     "name": "stderr",
     "output_type": "stream",
     "text": [
      "Running experiments:  32%|████▌         | 26/80 [1:21:19<10:32:15, 702.51s/it, Model=LSTM, Status=✓]"
     ]
    },
    {
     "name": "stdout",
     "output_type": "stream",
     "text": [
      "Signal distribution - Strong Decline(0): 868, Slight Decline(1): 43012, Slight Rise(2): 44728, Strong Rise(3): 911\n",
      "PyTorch data prepared - Train: torch.Size([67132, 10, 12]), Test: torch.Size([22378, 10, 12])\n"
     ]
    },
    {
     "name": "stderr",
     "output_type": "stream",
     "text": [
      "Running experiments:  34%|████▋         | 27/80 [1:34:31<10:44:13, 729.32s/it, Model=LSTM, Status=✓]"
     ]
    },
    {
     "name": "stdout",
     "output_type": "stream",
     "text": [
      "Signal distribution - Strong Decline(0): 500, Slight Decline(1): 43380, Slight Rise(2): 45124, Strong Rise(3): 515\n",
      "PyTorch data prepared - Train: torch.Size([67132, 10, 12]), Test: torch.Size([22378, 10, 12])\n"
     ]
    },
    {
     "name": "stderr",
     "output_type": "stream",
     "text": [
      "Running experiments:  35%|████▉         | 28/80 [1:47:34<10:46:03, 745.45s/it, Model=LSTM, Status=✓]"
     ]
    },
    {
     "name": "stdout",
     "output_type": "stream",
     "text": [
      "Signal distribution - Strong Decline(0): 5777, Slight Decline(1): 37744, Slight Rise(2): 39719, Strong Rise(3): 6276\n",
      "PyTorch data prepared - Train: torch.Size([67130, 10, 12]), Test: torch.Size([22377, 10, 12])\n"
     ]
    },
    {
     "name": "stderr",
     "output_type": "stream",
     "text": [
      "Running experiments:  36%|█████         | 29/80 [2:00:53<10:47:13, 761.44s/it, Model=LSTM, Status=✓]"
     ]
    },
    {
     "name": "stdout",
     "output_type": "stream",
     "text": [
      "Signal distribution - Strong Decline(0): 2758, Slight Decline(1): 40763, Slight Rise(2): 43047, Strong Rise(3): 2948\n",
      "PyTorch data prepared - Train: torch.Size([67130, 10, 12]), Test: torch.Size([22377, 10, 12])\n"
     ]
    },
    {
     "name": "stderr",
     "output_type": "stream",
     "text": [
      "Running experiments:  38%|█████▎        | 30/80 [2:14:12<10:43:55, 772.71s/it, Model=LSTM, Status=✓]"
     ]
    },
    {
     "name": "stdout",
     "output_type": "stream",
     "text": [
      "Signal distribution - Strong Decline(0): 1521, Slight Decline(1): 42000, Slight Rise(2): 44433, Strong Rise(3): 1562\n",
      "PyTorch data prepared - Train: torch.Size([67130, 10, 12]), Test: torch.Size([22377, 10, 12])\n"
     ]
    },
    {
     "name": "stderr",
     "output_type": "stream",
     "text": [
      "Running experiments:  39%|█████▊         | 31/80 [2:22:15<9:20:05, 685.83s/it, Model=LSTM, Status=✓]"
     ]
    },
    {
     "name": "stdout",
     "output_type": "stream",
     "text": [
      "Signal distribution - Strong Decline(0): 884, Slight Decline(1): 42637, Slight Rise(2): 45090, Strong Rise(3): 905\n",
      "PyTorch data prepared - Train: torch.Size([67130, 10, 12]), Test: torch.Size([22377, 10, 12])\n"
     ]
    },
    {
     "name": "stderr",
     "output_type": "stream",
     "text": [
      "Running experiments:  40%|██████         | 32/80 [2:28:39<7:56:20, 595.44s/it, Model=LSTM, Status=✓]"
     ]
    },
    {
     "name": "stdout",
     "output_type": "stream",
     "text": [
      "Signal distribution - Strong Decline(0): 6890, Slight Decline(1): 36742, Slight Rise(2): 38242, Strong Rise(3): 7640\n",
      "PyTorch data prepared - Train: torch.Size([67128, 10, 12]), Test: torch.Size([22377, 10, 12])\n"
     ]
    },
    {
     "name": "stderr",
     "output_type": "stream",
     "text": [
      "Running experiments:  41%|██████▏        | 33/80 [2:34:59<6:55:43, 530.72s/it, Model=LSTM, Status=✓]"
     ]
    },
    {
     "name": "stdout",
     "output_type": "stream",
     "text": [
      "Signal distribution - Strong Decline(0): 3476, Slight Decline(1): 40156, Slight Rise(2): 42092, Strong Rise(3): 3790\n",
      "PyTorch data prepared - Train: torch.Size([67128, 10, 12]), Test: torch.Size([22377, 10, 12])\n"
     ]
    },
    {
     "name": "stderr",
     "output_type": "stream",
     "text": [
      "Running experiments:  42%|██████▍        | 34/80 [2:41:17<6:11:41, 484.82s/it, Model=LSTM, Status=✓]"
     ]
    },
    {
     "name": "stdout",
     "output_type": "stream",
     "text": [
      "Signal distribution - Strong Decline(0): 1909, Slight Decline(1): 41723, Slight Rise(2): 43852, Strong Rise(3): 2030\n",
      "PyTorch data prepared - Train: torch.Size([67128, 10, 12]), Test: torch.Size([22377, 10, 12])\n"
     ]
    },
    {
     "name": "stderr",
     "output_type": "stream",
     "text": [
      "Running experiments:  44%|██████▌        | 35/80 [2:47:35<5:39:43, 452.96s/it, Model=LSTM, Status=✓]"
     ]
    },
    {
     "name": "stdout",
     "output_type": "stream",
     "text": [
      "Signal distribution - Strong Decline(0): 1122, Slight Decline(1): 42510, Slight Rise(2): 44682, Strong Rise(3): 1200\n",
      "PyTorch data prepared - Train: torch.Size([67128, 10, 12]), Test: torch.Size([22377, 10, 12])\n"
     ]
    },
    {
     "name": "stderr",
     "output_type": "stream",
     "text": [
      "Running experiments:  45%|██████▊        | 36/80 [2:53:53<5:15:33, 430.30s/it, Model=LSTM, Status=✓]"
     ]
    },
    {
     "name": "stdout",
     "output_type": "stream",
     "text": [
      "Signal distribution - Strong Decline(0): 7850, Slight Decline(1): 35572, Slight Rise(2): 37259, Strong Rise(3): 8831\n",
      "PyTorch data prepared - Train: torch.Size([67127, 10, 12]), Test: torch.Size([22376, 10, 12])\n"
     ]
    },
    {
     "name": "stderr",
     "output_type": "stream",
     "text": [
      "Running experiments:  46%|██████▉        | 37/80 [3:00:10<4:56:59, 414.40s/it, Model=LSTM, Status=✓]"
     ]
    },
    {
     "name": "stdout",
     "output_type": "stream",
     "text": [
      "Signal distribution - Strong Decline(0): 4091, Slight Decline(1): 39331, Slight Rise(2): 41541, Strong Rise(3): 4549\n",
      "PyTorch data prepared - Train: torch.Size([67127, 10, 12]), Test: torch.Size([22376, 10, 12])\n"
     ]
    },
    {
     "name": "stderr",
     "output_type": "stream",
     "text": [
      "Running experiments:  48%|███████▏       | 38/80 [3:06:28<4:42:23, 403.43s/it, Model=LSTM, Status=✓]"
     ]
    },
    {
     "name": "stdout",
     "output_type": "stream",
     "text": [
      "Signal distribution - Strong Decline(0): 2311, Slight Decline(1): 41111, Slight Rise(2): 43582, Strong Rise(3): 2508\n",
      "PyTorch data prepared - Train: torch.Size([67127, 10, 12]), Test: torch.Size([22376, 10, 12])\n"
     ]
    },
    {
     "name": "stderr",
     "output_type": "stream",
     "text": [
      "Running experiments:  49%|███████▎       | 39/80 [3:12:47<4:30:40, 396.11s/it, Model=LSTM, Status=✓]"
     ]
    },
    {
     "name": "stdout",
     "output_type": "stream",
     "text": [
      "Signal distribution - Strong Decline(0): 1348, Slight Decline(1): 42074, Slight Rise(2): 44612, Strong Rise(3): 1478\n",
      "PyTorch data prepared - Train: torch.Size([67127, 10, 12]), Test: torch.Size([22376, 10, 12])\n"
     ]
    },
    {
     "name": "stderr",
     "output_type": "stream",
     "text": [
      "Running experiments:  50%|███████▌       | 40/80 [3:19:07<4:20:49, 391.25s/it, Model=LSTM, Status=✓]"
     ]
    },
    {
     "name": "stdout",
     "output_type": "stream",
     "text": [
      "Signal distribution - Strong Decline(0): 2377, Slight Decline(1): 41792, Slight Rise(2): 42950, Strong Rise(3): 2402\n",
      "PyTorch data prepared - Train: torch.Size([67134, 10, 12]), Test: torch.Size([22378, 10, 12])\n"
     ]
    },
    {
     "name": "stderr",
     "output_type": "stream",
     "text": [
      "Running experiments:  51%|████████▏       | 41/80 [3:25:08<4:08:25, 382.19s/it, Model=GRU, Status=✓]"
     ]
    },
    {
     "name": "stdout",
     "output_type": "stream",
     "text": [
      "Signal distribution - Strong Decline(0): 975, Slight Decline(1): 43194, Slight Rise(2): 44386, Strong Rise(3): 966\n",
      "PyTorch data prepared - Train: torch.Size([67134, 10, 12]), Test: torch.Size([22378, 10, 12])\n"
     ]
    },
    {
     "name": "stderr",
     "output_type": "stream",
     "text": [
      "Running experiments:  52%|████████▍       | 42/80 [3:31:09<3:58:00, 375.80s/it, Model=GRU, Status=✓]"
     ]
    },
    {
     "name": "stdout",
     "output_type": "stream",
     "text": [
      "Signal distribution - Strong Decline(0): 472, Slight Decline(1): 43697, Slight Rise(2): 44867, Strong Rise(3): 485\n",
      "PyTorch data prepared - Train: torch.Size([67134, 10, 12]), Test: torch.Size([22378, 10, 12])\n"
     ]
    },
    {
     "name": "stderr",
     "output_type": "stream",
     "text": [
      "Running experiments:  54%|████████▌       | 43/80 [3:37:09<3:48:57, 371.28s/it, Model=GRU, Status=✓]"
     ]
    },
    {
     "name": "stdout",
     "output_type": "stream",
     "text": [
      "Signal distribution - Strong Decline(0): 258, Slight Decline(1): 43911, Slight Rise(2): 45102, Strong Rise(3): 250\n",
      "PyTorch data prepared - Train: torch.Size([67134, 10, 12]), Test: torch.Size([22378, 10, 12])\n"
     ]
    },
    {
     "name": "stderr",
     "output_type": "stream",
     "text": [
      "Running experiments:  55%|████████▊       | 44/80 [3:43:12<3:41:08, 368.56s/it, Model=GRU, Status=✓]"
     ]
    },
    {
     "name": "stdout",
     "output_type": "stream",
     "text": [
      "Signal distribution - Strong Decline(0): 3867, Slight Decline(1): 40013, Slight Rise(2): 41592, Strong Rise(3): 4047\n",
      "PyTorch data prepared - Train: torch.Size([67132, 10, 12]), Test: torch.Size([22378, 10, 12])\n"
     ]
    },
    {
     "name": "stderr",
     "output_type": "stream",
     "text": [
      "Running experiments:  56%|█████████       | 45/80 [3:49:12<3:33:34, 366.13s/it, Model=GRU, Status=✓]"
     ]
    },
    {
     "name": "stdout",
     "output_type": "stream",
     "text": [
      "Signal distribution - Strong Decline(0): 1702, Slight Decline(1): 42178, Slight Rise(2): 43863, Strong Rise(3): 1776\n",
      "PyTorch data prepared - Train: torch.Size([67132, 10, 12]), Test: torch.Size([22378, 10, 12])\n"
     ]
    },
    {
     "name": "stderr",
     "output_type": "stream",
     "text": [
      "Running experiments:  57%|█████████▏      | 46/80 [3:55:14<3:26:41, 364.76s/it, Model=GRU, Status=✓]"
     ]
    },
    {
     "name": "stdout",
     "output_type": "stream",
     "text": [
      "Signal distribution - Strong Decline(0): 868, Slight Decline(1): 43012, Slight Rise(2): 44728, Strong Rise(3): 911\n",
      "PyTorch data prepared - Train: torch.Size([67132, 10, 12]), Test: torch.Size([22378, 10, 12])\n"
     ]
    },
    {
     "name": "stderr",
     "output_type": "stream",
     "text": [
      "Running experiments:  59%|█████████▍      | 47/80 [4:01:09<3:19:07, 362.04s/it, Model=GRU, Status=✓]"
     ]
    },
    {
     "name": "stdout",
     "output_type": "stream",
     "text": [
      "Signal distribution - Strong Decline(0): 500, Slight Decline(1): 43380, Slight Rise(2): 45124, Strong Rise(3): 515\n",
      "PyTorch data prepared - Train: torch.Size([67132, 10, 12]), Test: torch.Size([22378, 10, 12])\n"
     ]
    },
    {
     "name": "stderr",
     "output_type": "stream",
     "text": [
      "Running experiments:  60%|█████████▌      | 48/80 [4:06:54<3:10:13, 356.66s/it, Model=GRU, Status=✓]"
     ]
    },
    {
     "name": "stdout",
     "output_type": "stream",
     "text": [
      "Signal distribution - Strong Decline(0): 5777, Slight Decline(1): 37744, Slight Rise(2): 39719, Strong Rise(3): 6276\n",
      "PyTorch data prepared - Train: torch.Size([67130, 10, 12]), Test: torch.Size([22377, 10, 12])\n"
     ]
    },
    {
     "name": "stderr",
     "output_type": "stream",
     "text": [
      "Running experiments:  61%|█████████▊      | 49/80 [4:12:44<3:03:16, 354.72s/it, Model=GRU, Status=✓]"
     ]
    },
    {
     "name": "stdout",
     "output_type": "stream",
     "text": [
      "Signal distribution - Strong Decline(0): 2758, Slight Decline(1): 40763, Slight Rise(2): 43047, Strong Rise(3): 2948\n",
      "PyTorch data prepared - Train: torch.Size([67130, 10, 12]), Test: torch.Size([22377, 10, 12])\n"
     ]
    },
    {
     "name": "stderr",
     "output_type": "stream",
     "text": [
      "Running experiments:  62%|██████████      | 50/80 [4:18:28<2:55:52, 351.74s/it, Model=GRU, Status=✓]"
     ]
    },
    {
     "name": "stdout",
     "output_type": "stream",
     "text": [
      "Signal distribution - Strong Decline(0): 1521, Slight Decline(1): 42000, Slight Rise(2): 44433, Strong Rise(3): 1562\n",
      "PyTorch data prepared - Train: torch.Size([67130, 10, 12]), Test: torch.Size([22377, 10, 12])\n"
     ]
    },
    {
     "name": "stderr",
     "output_type": "stream",
     "text": [
      "Running experiments:  64%|██████████▏     | 51/80 [4:23:50<2:45:33, 342.55s/it, Model=GRU, Status=✓]"
     ]
    },
    {
     "name": "stdout",
     "output_type": "stream",
     "text": [
      "Signal distribution - Strong Decline(0): 884, Slight Decline(1): 42637, Slight Rise(2): 45090, Strong Rise(3): 905\n",
      "PyTorch data prepared - Train: torch.Size([67130, 10, 12]), Test: torch.Size([22377, 10, 12])\n"
     ]
    },
    {
     "name": "stderr",
     "output_type": "stream",
     "text": [
      "Running experiments:  65%|██████████▍     | 52/80 [4:32:55<3:08:12, 403.30s/it, Model=GRU, Status=✓]"
     ]
    },
    {
     "name": "stdout",
     "output_type": "stream",
     "text": [
      "Signal distribution - Strong Decline(0): 6890, Slight Decline(1): 36742, Slight Rise(2): 38242, Strong Rise(3): 7640\n",
      "PyTorch data prepared - Train: torch.Size([67128, 10, 12]), Test: torch.Size([22377, 10, 12])\n"
     ]
    },
    {
     "name": "stderr",
     "output_type": "stream",
     "text": [
      "Running experiments:  66%|██████████▌     | 53/80 [4:53:58<4:57:31, 661.18s/it, Model=GRU, Status=✓]"
     ]
    },
    {
     "name": "stdout",
     "output_type": "stream",
     "text": [
      "Signal distribution - Strong Decline(0): 3476, Slight Decline(1): 40156, Slight Rise(2): 42092, Strong Rise(3): 3790\n",
      "PyTorch data prepared - Train: torch.Size([67128, 10, 12]), Test: torch.Size([22377, 10, 12])\n"
     ]
    },
    {
     "name": "stderr",
     "output_type": "stream",
     "text": [
      "Running experiments:  68%|██████████▊     | 54/80 [5:15:15<6:06:33, 845.92s/it, Model=GRU, Status=✓]"
     ]
    },
    {
     "name": "stdout",
     "output_type": "stream",
     "text": [
      "Signal distribution - Strong Decline(0): 1909, Slight Decline(1): 41723, Slight Rise(2): 43852, Strong Rise(3): 2030\n",
      "PyTorch data prepared - Train: torch.Size([67128, 10, 12]), Test: torch.Size([22377, 10, 12])\n"
     ]
    },
    {
     "name": "stderr",
     "output_type": "stream",
     "text": [
      "Running experiments:  69%|███████████     | 55/80 [5:36:14<6:44:13, 970.14s/it, Model=GRU, Status=✓]"
     ]
    },
    {
     "name": "stdout",
     "output_type": "stream",
     "text": [
      "Signal distribution - Strong Decline(0): 1122, Slight Decline(1): 42510, Slight Rise(2): 44682, Strong Rise(3): 1200\n",
      "PyTorch data prepared - Train: torch.Size([67128, 10, 12]), Test: torch.Size([22377, 10, 12])\n"
     ]
    },
    {
     "name": "stderr",
     "output_type": "stream",
     "text": [
      "Running experiments:  70%|██████████▌    | 56/80 [5:57:16<7:03:03, 1057.66s/it, Model=GRU, Status=✓]"
     ]
    },
    {
     "name": "stdout",
     "output_type": "stream",
     "text": [
      "Signal distribution - Strong Decline(0): 7850, Slight Decline(1): 35572, Slight Rise(2): 37259, Strong Rise(3): 8831\n",
      "PyTorch data prepared - Train: torch.Size([67127, 10, 12]), Test: torch.Size([22376, 10, 12])\n"
     ]
    },
    {
     "name": "stderr",
     "output_type": "stream",
     "text": [
      "Running experiments:  71%|██████████▋    | 57/80 [6:18:26<7:09:46, 1121.17s/it, Model=GRU, Status=✓]"
     ]
    },
    {
     "name": "stdout",
     "output_type": "stream",
     "text": [
      "Signal distribution - Strong Decline(0): 4091, Slight Decline(1): 39331, Slight Rise(2): 41541, Strong Rise(3): 4549\n",
      "PyTorch data prepared - Train: torch.Size([67127, 10, 12]), Test: torch.Size([22376, 10, 12])\n"
     ]
    },
    {
     "name": "stderr",
     "output_type": "stream",
     "text": [
      "Running experiments:  72%|██████████▉    | 58/80 [6:39:33<7:07:09, 1164.97s/it, Model=GRU, Status=✓]"
     ]
    },
    {
     "name": "stdout",
     "output_type": "stream",
     "text": [
      "Signal distribution - Strong Decline(0): 2311, Slight Decline(1): 41111, Slight Rise(2): 43582, Strong Rise(3): 2508\n",
      "PyTorch data prepared - Train: torch.Size([67127, 10, 12]), Test: torch.Size([22376, 10, 12])\n"
     ]
    },
    {
     "name": "stderr",
     "output_type": "stream",
     "text": [
      "Running experiments:  74%|███████████    | 59/80 [7:01:02<7:00:44, 1202.10s/it, Model=GRU, Status=✓]"
     ]
    },
    {
     "name": "stdout",
     "output_type": "stream",
     "text": [
      "Signal distribution - Strong Decline(0): 1348, Slight Decline(1): 42074, Slight Rise(2): 44612, Strong Rise(3): 1478\n",
      "PyTorch data prepared - Train: torch.Size([67127, 10, 12]), Test: torch.Size([22376, 10, 12])\n"
     ]
    },
    {
     "name": "stderr",
     "output_type": "stream",
     "text": [
      "Running experiments:  75%|███████████▎   | 60/80 [7:22:52<6:51:29, 1234.46s/it, Model=GRU, Status=✓]"
     ]
    },
    {
     "name": "stdout",
     "output_type": "stream",
     "text": [
      "Signal distribution - Strong Decline(0): 2377, Slight Decline(1): 41792, Slight Rise(2): 42950, Strong Rise(3): 2402\n",
      "PyTorch data prepared - Train: torch.Size([67134, 10, 12]), Test: torch.Size([22378, 10, 12])\n"
     ]
    },
    {
     "name": "stderr",
     "output_type": "stream",
     "text": [
      "Running experiments:  76%|███████████▍   | 61/80 [7:41:06<6:17:33, 1192.31s/it, Model=CNN, Status=✓]"
     ]
    },
    {
     "name": "stdout",
     "output_type": "stream",
     "text": [
      "Signal distribution - Strong Decline(0): 975, Slight Decline(1): 43194, Slight Rise(2): 44386, Strong Rise(3): 966\n",
      "PyTorch data prepared - Train: torch.Size([67134, 10, 12]), Test: torch.Size([22378, 10, 12])\n"
     ]
    },
    {
     "name": "stderr",
     "output_type": "stream",
     "text": [
      "Running experiments:  78%|███████████▋   | 62/80 [7:56:54<5:35:45, 1119.21s/it, Model=CNN, Status=✓]"
     ]
    },
    {
     "name": "stdout",
     "output_type": "stream",
     "text": [
      "Signal distribution - Strong Decline(0): 472, Slight Decline(1): 43697, Slight Rise(2): 44867, Strong Rise(3): 485\n",
      "PyTorch data prepared - Train: torch.Size([67134, 10, 12]), Test: torch.Size([22378, 10, 12])\n"
     ]
    },
    {
     "name": "stderr",
     "output_type": "stream",
     "text": [
      "Running experiments:  79%|████████████▌   | 63/80 [8:06:00<4:28:23, 947.27s/it, Model=CNN, Status=✓]"
     ]
    },
    {
     "name": "stdout",
     "output_type": "stream",
     "text": [
      "Signal distribution - Strong Decline(0): 258, Slight Decline(1): 43911, Slight Rise(2): 45102, Strong Rise(3): 250\n",
      "PyTorch data prepared - Train: torch.Size([67134, 10, 12]), Test: torch.Size([22378, 10, 12])\n"
     ]
    },
    {
     "name": "stderr",
     "output_type": "stream",
     "text": [
      "Running experiments:  80%|████████████▊   | 64/80 [8:15:05<3:40:22, 826.39s/it, Model=CNN, Status=✓]"
     ]
    },
    {
     "name": "stdout",
     "output_type": "stream",
     "text": [
      "Signal distribution - Strong Decline(0): 3867, Slight Decline(1): 40013, Slight Rise(2): 41592, Strong Rise(3): 4047\n",
      "PyTorch data prepared - Train: torch.Size([67132, 10, 12]), Test: torch.Size([22378, 10, 12])\n"
     ]
    },
    {
     "name": "stderr",
     "output_type": "stream",
     "text": [
      "Running experiments:  81%|█████████████   | 65/80 [8:24:05<3:05:10, 740.70s/it, Model=CNN, Status=✓]"
     ]
    },
    {
     "name": "stdout",
     "output_type": "stream",
     "text": [
      "Signal distribution - Strong Decline(0): 1702, Slight Decline(1): 42178, Slight Rise(2): 43863, Strong Rise(3): 1776\n",
      "PyTorch data prepared - Train: torch.Size([67132, 10, 12]), Test: torch.Size([22378, 10, 12])\n"
     ]
    },
    {
     "name": "stderr",
     "output_type": "stream",
     "text": [
      "Running experiments:  82%|█████████████▏  | 66/80 [8:33:08<2:38:56, 681.20s/it, Model=CNN, Status=✓]"
     ]
    },
    {
     "name": "stdout",
     "output_type": "stream",
     "text": [
      "Signal distribution - Strong Decline(0): 868, Slight Decline(1): 43012, Slight Rise(2): 44728, Strong Rise(3): 911\n",
      "PyTorch data prepared - Train: torch.Size([67132, 10, 12]), Test: torch.Size([22378, 10, 12])\n"
     ]
    },
    {
     "name": "stderr",
     "output_type": "stream",
     "text": [
      "Running experiments:  84%|█████████████▍  | 67/80 [8:42:10<2:18:31, 639.38s/it, Model=CNN, Status=✓]"
     ]
    },
    {
     "name": "stdout",
     "output_type": "stream",
     "text": [
      "Signal distribution - Strong Decline(0): 500, Slight Decline(1): 43380, Slight Rise(2): 45124, Strong Rise(3): 515\n",
      "PyTorch data prepared - Train: torch.Size([67132, 10, 12]), Test: torch.Size([22378, 10, 12])\n"
     ]
    },
    {
     "name": "stderr",
     "output_type": "stream",
     "text": [
      "Running experiments:  85%|█████████████▌  | 68/80 [8:52:16<2:05:54, 629.51s/it, Model=CNN, Status=✓]"
     ]
    },
    {
     "name": "stdout",
     "output_type": "stream",
     "text": [
      "Signal distribution - Strong Decline(0): 5777, Slight Decline(1): 37744, Slight Rise(2): 39719, Strong Rise(3): 6276\n",
      "PyTorch data prepared - Train: torch.Size([67130, 10, 12]), Test: torch.Size([22377, 10, 12])\n"
     ]
    },
    {
     "name": "stderr",
     "output_type": "stream",
     "text": [
      "Running experiments:  86%|█████████████▊  | 69/80 [9:02:43<1:55:16, 628.81s/it, Model=CNN, Status=✓]"
     ]
    },
    {
     "name": "stdout",
     "output_type": "stream",
     "text": [
      "Signal distribution - Strong Decline(0): 2758, Slight Decline(1): 40763, Slight Rise(2): 43047, Strong Rise(3): 2948\n",
      "PyTorch data prepared - Train: torch.Size([67130, 10, 12]), Test: torch.Size([22377, 10, 12])\n"
     ]
    },
    {
     "name": "stderr",
     "output_type": "stream",
     "text": [
      "Running experiments:  88%|██████████████  | 70/80 [9:13:11<1:44:44, 628.45s/it, Model=CNN, Status=✓]"
     ]
    },
    {
     "name": "stdout",
     "output_type": "stream",
     "text": [
      "Signal distribution - Strong Decline(0): 1521, Slight Decline(1): 42000, Slight Rise(2): 44433, Strong Rise(3): 1562\n",
      "PyTorch data prepared - Train: torch.Size([67130, 10, 12]), Test: torch.Size([22377, 10, 12])\n"
     ]
    },
    {
     "name": "stderr",
     "output_type": "stream",
     "text": [
      "Running experiments:  89%|██████████████▏ | 71/80 [9:23:39<1:34:15, 628.41s/it, Model=CNN, Status=✓]"
     ]
    },
    {
     "name": "stdout",
     "output_type": "stream",
     "text": [
      "Signal distribution - Strong Decline(0): 884, Slight Decline(1): 42637, Slight Rise(2): 45090, Strong Rise(3): 905\n",
      "PyTorch data prepared - Train: torch.Size([67130, 10, 12]), Test: torch.Size([22377, 10, 12])\n"
     ]
    },
    {
     "name": "stderr",
     "output_type": "stream",
     "text": [
      "Running experiments:  90%|██████████████▍ | 72/80 [9:34:09<1:23:49, 628.71s/it, Model=CNN, Status=✓]"
     ]
    },
    {
     "name": "stdout",
     "output_type": "stream",
     "text": [
      "Signal distribution - Strong Decline(0): 6890, Slight Decline(1): 36742, Slight Rise(2): 38242, Strong Rise(3): 7640\n",
      "PyTorch data prepared - Train: torch.Size([67128, 10, 12]), Test: torch.Size([22377, 10, 12])\n"
     ]
    },
    {
     "name": "stderr",
     "output_type": "stream",
     "text": [
      "Running experiments:  91%|██████████████▌ | 73/80 [9:44:47<1:13:40, 631.49s/it, Model=CNN, Status=✓]"
     ]
    },
    {
     "name": "stdout",
     "output_type": "stream",
     "text": [
      "Signal distribution - Strong Decline(0): 3476, Slight Decline(1): 40156, Slight Rise(2): 42092, Strong Rise(3): 3790\n",
      "PyTorch data prepared - Train: torch.Size([67128, 10, 12]), Test: torch.Size([22377, 10, 12])\n"
     ]
    },
    {
     "name": "stderr",
     "output_type": "stream",
     "text": [
      "Running experiments:  92%|██████████████▊ | 74/80 [9:55:25<1:03:20, 633.45s/it, Model=CNN, Status=✓]"
     ]
    },
    {
     "name": "stdout",
     "output_type": "stream",
     "text": [
      "Signal distribution - Strong Decline(0): 1909, Slight Decline(1): 41723, Slight Rise(2): 43852, Strong Rise(3): 2030\n",
      "PyTorch data prepared - Train: torch.Size([67128, 10, 12]), Test: torch.Size([22377, 10, 12])\n"
     ]
    },
    {
     "name": "stderr",
     "output_type": "stream",
     "text": [
      "Running experiments:  94%|███████████████▉ | 75/80 [10:01:31<46:07, 553.48s/it, Model=CNN, Status=✓]"
     ]
    },
    {
     "name": "stdout",
     "output_type": "stream",
     "text": [
      "Signal distribution - Strong Decline(0): 1122, Slight Decline(1): 42510, Slight Rise(2): 44682, Strong Rise(3): 1200\n",
      "PyTorch data prepared - Train: torch.Size([67128, 10, 12]), Test: torch.Size([22377, 10, 12])\n"
     ]
    },
    {
     "name": "stderr",
     "output_type": "stream",
     "text": [
      "Running experiments:  95%|████████████████▏| 76/80 [10:06:39<31:58, 479.72s/it, Model=CNN, Status=✓]"
     ]
    },
    {
     "name": "stdout",
     "output_type": "stream",
     "text": [
      "Signal distribution - Strong Decline(0): 7850, Slight Decline(1): 35572, Slight Rise(2): 37259, Strong Rise(3): 8831\n",
      "PyTorch data prepared - Train: torch.Size([67127, 10, 12]), Test: torch.Size([22376, 10, 12])\n"
     ]
    },
    {
     "name": "stderr",
     "output_type": "stream",
     "text": [
      "Running experiments:  96%|████████████████▎| 77/80 [10:11:50<21:27, 429.01s/it, Model=CNN, Status=✓]"
     ]
    },
    {
     "name": "stdout",
     "output_type": "stream",
     "text": [
      "Signal distribution - Strong Decline(0): 4091, Slight Decline(1): 39331, Slight Rise(2): 41541, Strong Rise(3): 4549\n",
      "PyTorch data prepared - Train: torch.Size([67127, 10, 12]), Test: torch.Size([22376, 10, 12])\n"
     ]
    },
    {
     "name": "stderr",
     "output_type": "stream",
     "text": [
      "Running experiments:  98%|████████████████▌| 78/80 [10:16:56<13:04, 392.28s/it, Model=CNN, Status=✓]"
     ]
    },
    {
     "name": "stdout",
     "output_type": "stream",
     "text": [
      "Signal distribution - Strong Decline(0): 2311, Slight Decline(1): 41111, Slight Rise(2): 43582, Strong Rise(3): 2508\n",
      "PyTorch data prepared - Train: torch.Size([67127, 10, 12]), Test: torch.Size([22376, 10, 12])\n"
     ]
    },
    {
     "name": "stderr",
     "output_type": "stream",
     "text": [
      "Running experiments:  99%|████████████████▊| 79/80 [10:22:01<06:05, 365.96s/it, Model=CNN, Status=✓]"
     ]
    },
    {
     "name": "stdout",
     "output_type": "stream",
     "text": [
      "Signal distribution - Strong Decline(0): 1348, Slight Decline(1): 42074, Slight Rise(2): 44612, Strong Rise(3): 1478\n",
      "PyTorch data prepared - Train: torch.Size([67127, 10, 12]), Test: torch.Size([22376, 10, 12])\n"
     ]
    },
    {
     "name": "stderr",
     "output_type": "stream",
     "text": [
      "Running experiments: 100%|█████████████████| 80/80 [10:27:06<00:00, 470.34s/it, Model=CNN, Status=✓]"
     ]
    },
    {
     "name": "stdout",
     "output_type": "stream",
     "text": [
      "\n",
      "================================================================================\n",
      "BITCOIN PRICE PREDICTION RESULTS\n",
      "================================================================================\n",
      "\n",
      "Model Performance Summary:\n",
      "Model      Lookahead  Threshold    Accuracy   Loss Count   Loss Mean \n",
      "--------------------------------------------------------------------------------\n",
      "XGBoost    12         0.050        0.624      25           0.0384    \n",
      "XGBoost    10         0.050        0.616      16           0.0334    \n",
      "XGBoost    12         0.040        0.609      48           0.0357    \n",
      "XGBoost    10         0.040        0.608      49           0.0350    \n",
      "XGBoost    8          0.050        0.602      18           0.0298    \n",
      "XGBoost    8          0.040        0.597      16           0.0321    \n",
      "XGBoost    12         0.030        0.584      79           0.0318    \n",
      "XGBoost    10         0.030        0.579      76           0.0389    \n",
      "XGBoost    5          0.050        0.577      8            0.0251    \n",
      "XGBoost    5          0.040        0.573      10           0.0345    \n",
      "XGBoost    8          0.030        0.573      57           0.0384    \n",
      "XGBoost    5          0.030        0.556      30           0.0251    \n",
      "XGBoost    3          0.050        0.555      10           0.0305    \n",
      "XGBoost    3          0.040        0.550      11           0.0212    \n",
      "XGBoost    3          0.030        0.541      11           0.0408    \n",
      "XGBoost    5          0.020        0.536      109          0.0229    \n",
      "XGBoost    8          0.020        0.531      195          0.0330    \n",
      "XGBoost    10         0.020        0.529      275          0.0296    \n",
      "XGBoost    3          0.020        0.529      77           0.0273    \n",
      "XGBoost    12         0.020        0.526      308          0.0271    \n",
      "GRU        5          0.050        0.518      1            0.0187    \n",
      "GRU        3          0.050        0.518      0            0.0000    \n",
      "LSTM       5          0.050        0.518      9            0.0266    \n",
      "GRU        5          0.040        0.517      0            0.0000    \n",
      "CNN        3          0.050        0.514      0            0.0000    \n",
      "CNN        5          0.040        0.514      0            0.0000    \n",
      "LSTM       5          0.040        0.513      0            0.0000    \n",
      "CNN        12         0.050        0.513      0            0.0000    \n",
      "CNN        8          0.050        0.513      0            0.0000    \n",
      "GRU        8          0.050        0.512      6            0.0265    \n",
      "CNN        5          0.030        0.511      1            0.0244    \n",
      "GRU        5          0.030        0.511      0            0.0000    \n",
      "LSTM       8          0.040        0.511      6            0.0189    \n",
      "GRU        3          0.040        0.511      0            0.0000    \n",
      "LSTM       8          0.030        0.510      4            0.0322    \n",
      "GRU        3          0.020        0.509      7            0.0100    \n",
      "LSTM       3          0.050        0.509      0            0.0000    \n",
      "GRU        3          0.030        0.508      0            0.0000    \n",
      "GRU        8          0.040        0.508      4            0.0095    \n",
      "LSTM       3          0.040        0.507      0            0.0000    \n",
      "CNN        5          0.050        0.507      0            0.0000    \n",
      "LSTM       5          0.030        0.507      2            0.0053    \n",
      "LSTM       3          0.020        0.506      4            0.0208    \n",
      "LSTM       8          0.050        0.505      1            0.0211    \n",
      "CNN        12         0.040        0.505      0            0.0000    \n",
      "CNN        3          0.030        0.504      0            0.0000    \n",
      "CNN        10         0.030        0.502      21           0.0319    \n",
      "LSTM       3          0.030        0.502      5            0.0121    \n",
      "LSTM       12         0.050        0.502      9            0.0198    \n",
      "CNN        8          0.040        0.502      0            0.0000    \n",
      "LSTM       5          0.020        0.501      21           0.0316    \n",
      "CNN        3          0.040        0.501      0            0.0000    \n",
      "CNN        8          0.030        0.499      2            0.0373    \n",
      "GRU        10         0.050        0.497      9            0.0170    \n",
      "GRU        8          0.030        0.497      0            0.0000    \n",
      "CNN        3          0.020        0.496      0            0.0000    \n",
      "GRU        12         0.040        0.495      0            0.0000    \n",
      "CNN        5          0.020        0.494      9            0.0505    \n",
      "CNN        10         0.050        0.493      0            0.0000    \n",
      "LSTM       12         0.030        0.493      69           0.0195    \n",
      "LSTM       12         0.040        0.492      2            0.0224    \n",
      "GRU        12         0.050        0.492      7            0.0260    \n",
      "CNN        10         0.040        0.489      5            0.0072    \n",
      "GRU        10         0.040        0.489      0            0.0000    \n",
      "GRU        5          0.020        0.489      10           0.0316    \n",
      "LSTM       10         0.050        0.488      15           0.0122    \n",
      "GRU        12         0.030        0.488      7            0.0197    \n",
      "LSTM       10         0.040        0.486      48           0.0093    \n",
      "LSTM       10         0.030        0.479      6            0.0306    \n",
      "CNN        8          0.020        0.477      16           0.0426    \n",
      "GRU        10         0.030        0.476      5            0.0251    \n",
      "LSTM       10         0.020        0.475      48           0.0144    \n",
      "GRU        8          0.020        0.475      12           0.0078    \n",
      "CNN        12         0.030        0.472      14           0.0207    \n",
      "CNN        10         0.020        0.471      53           0.0243    \n",
      "LSTM       8          0.020        0.470      14           0.0222    \n",
      "GRU        10         0.020        0.469      35           0.0254    \n",
      "GRU        12         0.020        0.453      67           0.0227    \n",
      "CNN        12         0.020        0.452      57           0.0213    \n",
      "LSTM       12         0.020        0.449      159          0.0139    \n",
      "\n",
      "================================================================================\n",
      "BEST CONFIGURATION:\n",
      "Model: XGBoost\n",
      "Accuracy: 0.624 (62.4%)\n",
      "Lookahead: 12 periods\n",
      "Threshold: 0.050\n",
      "Loss Events: 25\n",
      "Average Loss: 0.0384\n",
      "================================================================================\n"
     ]
    },
    {
     "name": "stderr",
     "output_type": "stream",
     "text": [
      "\n"
     ]
    }
   ],
   "source": [
    "\"\"\"\n",
    "Price Movement Prediction - Main Execution Script\n",
    "\"\"\"\n",
    "\n",
    "import os\n",
    "os.environ['CUDA_LAUNCH_BLOCKING'] = '1'\n",
    "\n",
    "import warnings\n",
    "warnings.filterwarnings('ignore')\n",
    "\n",
    "from experiment_runner_silent import run_silent_experiment\n",
    "\n",
    "def bnb_30m():\n",
    "    \"\"\"Main execution - clean output only\"\"\"\n",
    "    \n",
    "    # Configuration\n",
    "    DATA_PATH = r'F:\\up_git\\official_predict\\data\\bnb_30m.csv'\n",
    "    \n",
    "    # Create results directory\n",
    "    results_dir = os.path.join('..', '..', 'results')\n",
    "    os.makedirs(results_dir, exist_ok=True)\n",
    "    OUTPUT_FILENAME = '../../results/bnb_results_30m_4class.csv'\n",
    "    \n",
    "    # Parameters\n",
    "    LOOKAHEAD_VALUES = [3, 5, 8, 10,12]  # Số ngày dự đoán\n",
    "    THRESHOLD_VALUES = [0.02, 0.03, 0.04, 0.05]  # Ngưỡng phân loại\n",
    "\n",
    "    MODEL_TYPES = ['XGBoost', 'LSTM', 'GRU', 'CNN']\n",
    "    \n",
    "    # Run experiment\n",
    "    run_silent_experiment(\n",
    "        data_path=DATA_PATH,\n",
    "        output_filename=OUTPUT_FILENAME,\n",
    "        lookahead_values=LOOKAHEAD_VALUES,\n",
    "        threshold_values=THRESHOLD_VALUES,\n",
    "        model_types=MODEL_TYPES\n",
    "    )\n",
    "\n",
    "bnb_30m()"
   ]
  }
 ],
 "metadata": {
  "kernelspec": {
   "display_name": "For_pytorch",
   "language": "python",
   "name": "python3"
  },
  "language_info": {
   "codemirror_mode": {
    "name": "ipython",
    "version": 3
   },
   "file_extension": ".py",
   "mimetype": "text/x-python",
   "name": "python",
   "nbconvert_exporter": "python",
   "pygments_lexer": "ipython3",
   "version": "3.12.9"
  }
 },
 "nbformat": 4,
 "nbformat_minor": 5
}
