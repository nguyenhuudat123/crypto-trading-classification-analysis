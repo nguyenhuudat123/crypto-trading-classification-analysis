{
 "cells": [
  {
   "cell_type": "code",
   "execution_count": 1,
   "id": "eca6a290",
   "metadata": {},
   "outputs": [
    {
     "name": "stderr",
     "output_type": "stream",
     "text": [
      "Running experiments:   0%|                                                   | 0/80 [00:00<?, ?it/s]"
     ]
    },
    {
     "name": "stdout",
     "output_type": "stream",
     "text": [
      "Signal distribution - Strong Decline(0): 566, Slight Decline(1): 289, Slight Rise(2): 295, Strong Rise(3): 686\n"
     ]
    },
    {
     "name": "stderr",
     "output_type": "stream",
     "text": [
      "Running experiments:   1%|▏                 | 1/80 [00:00<00:32,  2.44it/s, Model=XGBoost, Status=✓]"
     ]
    },
    {
     "name": "stdout",
     "output_type": "stream",
     "text": [
      "Signal distribution - Strong Decline(0): 469, Slight Decline(1): 386, Slight Rise(2): 407, Strong Rise(3): 574\n"
     ]
    },
    {
     "name": "stderr",
     "output_type": "stream",
     "text": [
      "Running experiments:   2%|▍                 | 2/80 [00:00<00:28,  2.74it/s, Model=XGBoost, Status=✓]"
     ]
    },
    {
     "name": "stdout",
     "output_type": "stream",
     "text": [
      "Signal distribution - Strong Decline(0): 372, Slight Decline(1): 483, Slight Rise(2): 493, Strong Rise(3): 488\n"
     ]
    },
    {
     "name": "stderr",
     "output_type": "stream",
     "text": [
      "Running experiments:   4%|▋                 | 3/80 [00:01<00:27,  2.80it/s, Model=XGBoost, Status=✓]"
     ]
    },
    {
     "name": "stdout",
     "output_type": "stream",
     "text": [
      "Signal distribution - Strong Decline(0): 311, Slight Decline(1): 544, Slight Rise(2): 574, Strong Rise(3): 407\n"
     ]
    },
    {
     "name": "stderr",
     "output_type": "stream",
     "text": [
      "Running experiments:   5%|▉                 | 4/80 [00:01<00:26,  2.87it/s, Model=XGBoost, Status=✓]"
     ]
    },
    {
     "name": "stdout",
     "output_type": "stream",
     "text": [
      "Signal distribution - Strong Decline(0): 617, Slight Decline(1): 219, Slight Rise(2): 238, Strong Rise(3): 760\n"
     ]
    },
    {
     "name": "stderr",
     "output_type": "stream",
     "text": [
      "Running experiments:   6%|█▏                | 5/80 [00:01<00:25,  2.94it/s, Model=XGBoost, Status=✓]"
     ]
    },
    {
     "name": "stdout",
     "output_type": "stream",
     "text": [
      "Signal distribution - Strong Decline(0): 516, Slight Decline(1): 320, Slight Rise(2): 329, Strong Rise(3): 669\n"
     ]
    },
    {
     "name": "stderr",
     "output_type": "stream",
     "text": [
      "Running experiments:   8%|█▎                | 6/80 [00:02<00:24,  2.97it/s, Model=XGBoost, Status=✓]"
     ]
    },
    {
     "name": "stdout",
     "output_type": "stream",
     "text": [
      "Signal distribution - Strong Decline(0): 454, Slight Decline(1): 382, Slight Rise(2): 415, Strong Rise(3): 583\n"
     ]
    },
    {
     "name": "stderr",
     "output_type": "stream",
     "text": [
      "Running experiments:   9%|█▌                | 7/80 [00:02<00:25,  2.85it/s, Model=XGBoost, Status=✓]"
     ]
    },
    {
     "name": "stdout",
     "output_type": "stream",
     "text": [
      "Signal distribution - Strong Decline(0): 385, Slight Decline(1): 451, Slight Rise(2): 483, Strong Rise(3): 515\n"
     ]
    },
    {
     "name": "stderr",
     "output_type": "stream",
     "text": [
      "Running experiments:  10%|█▊                | 8/80 [00:02<00:25,  2.79it/s, Model=XGBoost, Status=✓]"
     ]
    },
    {
     "name": "stdout",
     "output_type": "stream",
     "text": [
      "Signal distribution - Strong Decline(0): 665, Slight Decline(1): 181, Slight Rise(2): 180, Strong Rise(3): 805\n"
     ]
    },
    {
     "name": "stderr",
     "output_type": "stream",
     "text": [
      "Running experiments:  11%|██                | 9/80 [00:03<00:24,  2.84it/s, Model=XGBoost, Status=✓]"
     ]
    },
    {
     "name": "stdout",
     "output_type": "stream",
     "text": [
      "Signal distribution - Strong Decline(0): 594, Slight Decline(1): 252, Slight Rise(2): 259, Strong Rise(3): 726\n"
     ]
    },
    {
     "name": "stderr",
     "output_type": "stream",
     "text": [
      "Running experiments:  12%|██▏              | 10/80 [00:03<00:24,  2.88it/s, Model=XGBoost, Status=✓]"
     ]
    },
    {
     "name": "stdout",
     "output_type": "stream",
     "text": [
      "Signal distribution - Strong Decline(0): 531, Slight Decline(1): 315, Slight Rise(2): 323, Strong Rise(3): 662\n"
     ]
    },
    {
     "name": "stderr",
     "output_type": "stream",
     "text": [
      "Running experiments:  14%|██▎              | 11/80 [00:03<00:23,  2.96it/s, Model=XGBoost, Status=✓]"
     ]
    },
    {
     "name": "stdout",
     "output_type": "stream",
     "text": [
      "Signal distribution - Strong Decline(0): 469, Slight Decline(1): 377, Slight Rise(2): 385, Strong Rise(3): 600\n"
     ]
    },
    {
     "name": "stderr",
     "output_type": "stream",
     "text": [
      "Running experiments:  15%|██▌              | 12/80 [00:04<00:24,  2.81it/s, Model=XGBoost, Status=✓]"
     ]
    },
    {
     "name": "stdout",
     "output_type": "stream",
     "text": [
      "Signal distribution - Strong Decline(0): 698, Slight Decline(1): 144, Slight Rise(2): 147, Strong Rise(3): 840\n"
     ]
    },
    {
     "name": "stderr",
     "output_type": "stream",
     "text": [
      "Running experiments:  16%|██▊              | 13/80 [00:04<00:23,  2.86it/s, Model=XGBoost, Status=✓]"
     ]
    },
    {
     "name": "stdout",
     "output_type": "stream",
     "text": [
      "Signal distribution - Strong Decline(0): 632, Slight Decline(1): 210, Slight Rise(2): 208, Strong Rise(3): 779\n"
     ]
    },
    {
     "name": "stderr",
     "output_type": "stream",
     "text": [
      "Running experiments:  18%|██▉              | 14/80 [00:04<00:23,  2.79it/s, Model=XGBoost, Status=✓]"
     ]
    },
    {
     "name": "stdout",
     "output_type": "stream",
     "text": [
      "Signal distribution - Strong Decline(0): 557, Slight Decline(1): 285, Slight Rise(2): 273, Strong Rise(3): 714\n"
     ]
    },
    {
     "name": "stderr",
     "output_type": "stream",
     "text": [
      "Running experiments:  19%|███▏             | 15/80 [00:05<00:23,  2.80it/s, Model=XGBoost, Status=✓]"
     ]
    },
    {
     "name": "stdout",
     "output_type": "stream",
     "text": [
      "Signal distribution - Strong Decline(0): 498, Slight Decline(1): 344, Slight Rise(2): 322, Strong Rise(3): 665\n"
     ]
    },
    {
     "name": "stderr",
     "output_type": "stream",
     "text": [
      "Running experiments:  20%|███▍             | 16/80 [00:05<00:23,  2.73it/s, Model=XGBoost, Status=✓]"
     ]
    },
    {
     "name": "stdout",
     "output_type": "stream",
     "text": [
      "Signal distribution - Strong Decline(0): 715, Slight Decline(1): 143, Slight Rise(2): 114, Strong Rise(3): 855\n"
     ]
    },
    {
     "name": "stderr",
     "output_type": "stream",
     "text": [
      "Running experiments:  21%|███▌             | 17/80 [00:06<00:22,  2.80it/s, Model=XGBoost, Status=✓]"
     ]
    },
    {
     "name": "stdout",
     "output_type": "stream",
     "text": [
      "Signal distribution - Strong Decline(0): 659, Slight Decline(1): 199, Slight Rise(2): 168, Strong Rise(3): 801\n"
     ]
    },
    {
     "name": "stderr",
     "output_type": "stream",
     "text": [
      "Running experiments:  22%|███▊             | 18/80 [00:06<00:23,  2.69it/s, Model=XGBoost, Status=✓]"
     ]
    },
    {
     "name": "stdout",
     "output_type": "stream",
     "text": [
      "Signal distribution - Strong Decline(0): 588, Slight Decline(1): 270, Slight Rise(2): 226, Strong Rise(3): 743\n"
     ]
    },
    {
     "name": "stderr",
     "output_type": "stream",
     "text": [
      "Running experiments:  24%|████             | 19/80 [00:06<00:22,  2.70it/s, Model=XGBoost, Status=✓]"
     ]
    },
    {
     "name": "stdout",
     "output_type": "stream",
     "text": [
      "Signal distribution - Strong Decline(0): 524, Slight Decline(1): 334, Slight Rise(2): 278, Strong Rise(3): 691\n"
     ]
    },
    {
     "name": "stderr",
     "output_type": "stream",
     "text": [
      "Running experiments:  25%|████▎            | 20/80 [00:07<00:22,  2.64it/s, Model=XGBoost, Status=✓]"
     ]
    },
    {
     "name": "stdout",
     "output_type": "stream",
     "text": [
      "Signal distribution - Strong Decline(0): 566, Slight Decline(1): 289, Slight Rise(2): 295, Strong Rise(3): 686\n",
      "PyTorch data prepared - Train: torch.Size([1370, 10, 12]), Test: torch.Size([457, 10, 12])\n"
     ]
    },
    {
     "name": "stderr",
     "output_type": "stream",
     "text": [
      "Running experiments:  26%|█████▎              | 21/80 [00:26<06:02,  6.14s/it, Model=LSTM, Status=✓]"
     ]
    },
    {
     "name": "stdout",
     "output_type": "stream",
     "text": [
      "Signal distribution - Strong Decline(0): 469, Slight Decline(1): 386, Slight Rise(2): 407, Strong Rise(3): 574\n",
      "PyTorch data prepared - Train: torch.Size([1370, 10, 12]), Test: torch.Size([457, 10, 12])\n"
     ]
    },
    {
     "name": "stderr",
     "output_type": "stream",
     "text": [
      "Running experiments:  28%|█████▌              | 22/80 [00:53<11:52, 12.29s/it, Model=LSTM, Status=✓]"
     ]
    },
    {
     "name": "stdout",
     "output_type": "stream",
     "text": [
      "Signal distribution - Strong Decline(0): 372, Slight Decline(1): 483, Slight Rise(2): 493, Strong Rise(3): 488\n",
      "PyTorch data prepared - Train: torch.Size([1370, 10, 12]), Test: torch.Size([457, 10, 12])\n"
     ]
    },
    {
     "name": "stderr",
     "output_type": "stream",
     "text": [
      "Running experiments:  29%|█████▊              | 23/80 [01:22<16:21, 17.21s/it, Model=LSTM, Status=✓]"
     ]
    },
    {
     "name": "stdout",
     "output_type": "stream",
     "text": [
      "Signal distribution - Strong Decline(0): 311, Slight Decline(1): 544, Slight Rise(2): 574, Strong Rise(3): 407\n",
      "PyTorch data prepared - Train: torch.Size([1370, 10, 12]), Test: torch.Size([457, 10, 12])\n"
     ]
    },
    {
     "name": "stderr",
     "output_type": "stream",
     "text": [
      "Running experiments:  30%|██████              | 24/80 [01:50<19:16, 20.65s/it, Model=LSTM, Status=✓]"
     ]
    },
    {
     "name": "stdout",
     "output_type": "stream",
     "text": [
      "Signal distribution - Strong Decline(0): 617, Slight Decline(1): 219, Slight Rise(2): 238, Strong Rise(3): 760\n",
      "PyTorch data prepared - Train: torch.Size([1368, 10, 12]), Test: torch.Size([457, 10, 12])\n"
     ]
    },
    {
     "name": "stderr",
     "output_type": "stream",
     "text": [
      "Running experiments:  31%|██████▎             | 25/80 [02:19<21:06, 23.03s/it, Model=LSTM, Status=✓]"
     ]
    },
    {
     "name": "stdout",
     "output_type": "stream",
     "text": [
      "Signal distribution - Strong Decline(0): 516, Slight Decline(1): 320, Slight Rise(2): 329, Strong Rise(3): 669\n",
      "PyTorch data prepared - Train: torch.Size([1368, 10, 12]), Test: torch.Size([457, 10, 12])\n"
     ]
    },
    {
     "name": "stderr",
     "output_type": "stream",
     "text": [
      "Running experiments:  32%|██████▌             | 26/80 [02:48<22:15, 24.73s/it, Model=LSTM, Status=✓]"
     ]
    },
    {
     "name": "stdout",
     "output_type": "stream",
     "text": [
      "Signal distribution - Strong Decline(0): 454, Slight Decline(1): 382, Slight Rise(2): 415, Strong Rise(3): 583\n",
      "PyTorch data prepared - Train: torch.Size([1368, 10, 12]), Test: torch.Size([457, 10, 12])\n"
     ]
    },
    {
     "name": "stderr",
     "output_type": "stream",
     "text": [
      "Running experiments:  34%|██████▊             | 27/80 [03:16<22:55, 25.96s/it, Model=LSTM, Status=✓]"
     ]
    },
    {
     "name": "stdout",
     "output_type": "stream",
     "text": [
      "Signal distribution - Strong Decline(0): 385, Slight Decline(1): 451, Slight Rise(2): 483, Strong Rise(3): 515\n",
      "PyTorch data prepared - Train: torch.Size([1368, 10, 12]), Test: torch.Size([457, 10, 12])\n"
     ]
    },
    {
     "name": "stderr",
     "output_type": "stream",
     "text": [
      "Running experiments:  35%|███████             | 28/80 [03:45<23:14, 26.81s/it, Model=LSTM, Status=✓]"
     ]
    },
    {
     "name": "stdout",
     "output_type": "stream",
     "text": [
      "Signal distribution - Strong Decline(0): 665, Slight Decline(1): 181, Slight Rise(2): 180, Strong Rise(3): 805\n",
      "PyTorch data prepared - Train: torch.Size([1366, 10, 12]), Test: torch.Size([456, 10, 12])\n"
     ]
    },
    {
     "name": "stderr",
     "output_type": "stream",
     "text": [
      "Running experiments:  36%|███████▎            | 29/80 [04:14<23:15, 27.36s/it, Model=LSTM, Status=✓]"
     ]
    },
    {
     "name": "stdout",
     "output_type": "stream",
     "text": [
      "Signal distribution - Strong Decline(0): 594, Slight Decline(1): 252, Slight Rise(2): 259, Strong Rise(3): 726\n",
      "PyTorch data prepared - Train: torch.Size([1366, 10, 12]), Test: torch.Size([456, 10, 12])\n"
     ]
    },
    {
     "name": "stderr",
     "output_type": "stream",
     "text": [
      "Running experiments:  38%|███████▌            | 30/80 [04:43<23:09, 27.79s/it, Model=LSTM, Status=✓]"
     ]
    },
    {
     "name": "stdout",
     "output_type": "stream",
     "text": [
      "Signal distribution - Strong Decline(0): 531, Slight Decline(1): 315, Slight Rise(2): 323, Strong Rise(3): 662\n",
      "PyTorch data prepared - Train: torch.Size([1366, 10, 12]), Test: torch.Size([456, 10, 12])\n"
     ]
    },
    {
     "name": "stderr",
     "output_type": "stream",
     "text": [
      "Running experiments:  39%|███████▊            | 31/80 [05:11<22:57, 28.12s/it, Model=LSTM, Status=✓]"
     ]
    },
    {
     "name": "stdout",
     "output_type": "stream",
     "text": [
      "Signal distribution - Strong Decline(0): 469, Slight Decline(1): 377, Slight Rise(2): 385, Strong Rise(3): 600\n",
      "PyTorch data prepared - Train: torch.Size([1366, 10, 12]), Test: torch.Size([456, 10, 12])\n"
     ]
    },
    {
     "name": "stderr",
     "output_type": "stream",
     "text": [
      "Running experiments:  40%|████████            | 32/80 [05:40<22:42, 28.38s/it, Model=LSTM, Status=✓]"
     ]
    },
    {
     "name": "stdout",
     "output_type": "stream",
     "text": [
      "Signal distribution - Strong Decline(0): 698, Slight Decline(1): 144, Slight Rise(2): 147, Strong Rise(3): 840\n",
      "PyTorch data prepared - Train: torch.Size([1365, 10, 12]), Test: torch.Size([455, 10, 12])\n"
     ]
    },
    {
     "name": "stderr",
     "output_type": "stream",
     "text": [
      "Running experiments:  41%|████████▎           | 33/80 [06:04<21:12, 27.08s/it, Model=LSTM, Status=✓]"
     ]
    },
    {
     "name": "stdout",
     "output_type": "stream",
     "text": [
      "Signal distribution - Strong Decline(0): 632, Slight Decline(1): 210, Slight Rise(2): 208, Strong Rise(3): 779\n",
      "PyTorch data prepared - Train: torch.Size([1365, 10, 12]), Test: torch.Size([455, 10, 12])\n"
     ]
    },
    {
     "name": "stderr",
     "output_type": "stream",
     "text": [
      "Running experiments:  42%|████████▌           | 34/80 [06:31<20:35, 26.86s/it, Model=LSTM, Status=✓]"
     ]
    },
    {
     "name": "stdout",
     "output_type": "stream",
     "text": [
      "Signal distribution - Strong Decline(0): 557, Slight Decline(1): 285, Slight Rise(2): 273, Strong Rise(3): 714\n",
      "PyTorch data prepared - Train: torch.Size([1365, 10, 12]), Test: torch.Size([455, 10, 12])\n"
     ]
    },
    {
     "name": "stderr",
     "output_type": "stream",
     "text": [
      "Running experiments:  44%|████████▊           | 35/80 [06:58<20:09, 26.87s/it, Model=LSTM, Status=✓]"
     ]
    },
    {
     "name": "stdout",
     "output_type": "stream",
     "text": [
      "Signal distribution - Strong Decline(0): 498, Slight Decline(1): 344, Slight Rise(2): 322, Strong Rise(3): 665\n",
      "PyTorch data prepared - Train: torch.Size([1365, 10, 12]), Test: torch.Size([455, 10, 12])\n"
     ]
    },
    {
     "name": "stderr",
     "output_type": "stream",
     "text": [
      "Running experiments:  45%|█████████           | 36/80 [07:25<19:44, 26.91s/it, Model=LSTM, Status=✓]"
     ]
    },
    {
     "name": "stdout",
     "output_type": "stream",
     "text": [
      "Signal distribution - Strong Decline(0): 715, Slight Decline(1): 143, Slight Rise(2): 114, Strong Rise(3): 855\n",
      "PyTorch data prepared - Train: torch.Size([1363, 10, 12]), Test: torch.Size([455, 10, 12])\n"
     ]
    },
    {
     "name": "stderr",
     "output_type": "stream",
     "text": [
      "Running experiments:  46%|█████████▎          | 37/80 [07:51<19:14, 26.86s/it, Model=LSTM, Status=✓]"
     ]
    },
    {
     "name": "stdout",
     "output_type": "stream",
     "text": [
      "Signal distribution - Strong Decline(0): 659, Slight Decline(1): 199, Slight Rise(2): 168, Strong Rise(3): 801\n",
      "PyTorch data prepared - Train: torch.Size([1363, 10, 12]), Test: torch.Size([455, 10, 12])\n"
     ]
    },
    {
     "name": "stderr",
     "output_type": "stream",
     "text": [
      "Running experiments:  48%|█████████▌          | 38/80 [08:18<18:47, 26.85s/it, Model=LSTM, Status=✓]"
     ]
    },
    {
     "name": "stdout",
     "output_type": "stream",
     "text": [
      "Signal distribution - Strong Decline(0): 588, Slight Decline(1): 270, Slight Rise(2): 226, Strong Rise(3): 743\n",
      "PyTorch data prepared - Train: torch.Size([1363, 10, 12]), Test: torch.Size([455, 10, 12])\n"
     ]
    },
    {
     "name": "stderr",
     "output_type": "stream",
     "text": [
      "Running experiments:  49%|█████████▊          | 39/80 [08:45<18:19, 26.83s/it, Model=LSTM, Status=✓]"
     ]
    },
    {
     "name": "stdout",
     "output_type": "stream",
     "text": [
      "Signal distribution - Strong Decline(0): 524, Slight Decline(1): 334, Slight Rise(2): 278, Strong Rise(3): 691\n",
      "PyTorch data prepared - Train: torch.Size([1363, 10, 12]), Test: torch.Size([455, 10, 12])\n"
     ]
    },
    {
     "name": "stderr",
     "output_type": "stream",
     "text": [
      "Running experiments:  50%|██████████          | 40/80 [09:12<17:53, 26.83s/it, Model=LSTM, Status=✓]"
     ]
    },
    {
     "name": "stdout",
     "output_type": "stream",
     "text": [
      "Signal distribution - Strong Decline(0): 566, Slight Decline(1): 289, Slight Rise(2): 295, Strong Rise(3): 686\n",
      "PyTorch data prepared - Train: torch.Size([1370, 10, 12]), Test: torch.Size([457, 10, 12])\n"
     ]
    },
    {
     "name": "stderr",
     "output_type": "stream",
     "text": [
      "Running experiments:  51%|██████████▊          | 41/80 [09:38<17:22, 26.74s/it, Model=GRU, Status=✓]"
     ]
    },
    {
     "name": "stdout",
     "output_type": "stream",
     "text": [
      "Signal distribution - Strong Decline(0): 469, Slight Decline(1): 386, Slight Rise(2): 407, Strong Rise(3): 574\n",
      "PyTorch data prepared - Train: torch.Size([1370, 10, 12]), Test: torch.Size([457, 10, 12])\n"
     ]
    },
    {
     "name": "stderr",
     "output_type": "stream",
     "text": [
      "Running experiments:  52%|███████████          | 42/80 [10:05<16:54, 26.70s/it, Model=GRU, Status=✓]"
     ]
    },
    {
     "name": "stdout",
     "output_type": "stream",
     "text": [
      "Signal distribution - Strong Decline(0): 372, Slight Decline(1): 483, Slight Rise(2): 493, Strong Rise(3): 488\n",
      "PyTorch data prepared - Train: torch.Size([1370, 10, 12]), Test: torch.Size([457, 10, 12])\n"
     ]
    },
    {
     "name": "stderr",
     "output_type": "stream",
     "text": [
      "Running experiments:  54%|███████████▎         | 43/80 [10:32<16:26, 26.66s/it, Model=GRU, Status=✓]"
     ]
    },
    {
     "name": "stdout",
     "output_type": "stream",
     "text": [
      "Signal distribution - Strong Decline(0): 311, Slight Decline(1): 544, Slight Rise(2): 574, Strong Rise(3): 407\n",
      "PyTorch data prepared - Train: torch.Size([1370, 10, 12]), Test: torch.Size([457, 10, 12])\n"
     ]
    },
    {
     "name": "stderr",
     "output_type": "stream",
     "text": [
      "Running experiments:  55%|███████████▌         | 44/80 [10:58<15:54, 26.51s/it, Model=GRU, Status=✓]"
     ]
    },
    {
     "name": "stdout",
     "output_type": "stream",
     "text": [
      "Signal distribution - Strong Decline(0): 617, Slight Decline(1): 219, Slight Rise(2): 238, Strong Rise(3): 760\n",
      "PyTorch data prepared - Train: torch.Size([1368, 10, 12]), Test: torch.Size([457, 10, 12])\n"
     ]
    },
    {
     "name": "stderr",
     "output_type": "stream",
     "text": [
      "Running experiments:  56%|███████████▊         | 45/80 [11:24<15:24, 26.41s/it, Model=GRU, Status=✓]"
     ]
    },
    {
     "name": "stdout",
     "output_type": "stream",
     "text": [
      "Signal distribution - Strong Decline(0): 516, Slight Decline(1): 320, Slight Rise(2): 329, Strong Rise(3): 669\n",
      "PyTorch data prepared - Train: torch.Size([1368, 10, 12]), Test: torch.Size([457, 10, 12])\n"
     ]
    },
    {
     "name": "stderr",
     "output_type": "stream",
     "text": [
      "Running experiments:  57%|████████████         | 46/80 [11:50<14:55, 26.34s/it, Model=GRU, Status=✓]"
     ]
    },
    {
     "name": "stdout",
     "output_type": "stream",
     "text": [
      "Signal distribution - Strong Decline(0): 454, Slight Decline(1): 382, Slight Rise(2): 415, Strong Rise(3): 583\n",
      "PyTorch data prepared - Train: torch.Size([1368, 10, 12]), Test: torch.Size([457, 10, 12])\n"
     ]
    },
    {
     "name": "stderr",
     "output_type": "stream",
     "text": [
      "Running experiments:  59%|████████████▎        | 47/80 [12:16<14:25, 26.23s/it, Model=GRU, Status=✓]"
     ]
    },
    {
     "name": "stdout",
     "output_type": "stream",
     "text": [
      "Signal distribution - Strong Decline(0): 385, Slight Decline(1): 451, Slight Rise(2): 483, Strong Rise(3): 515\n",
      "PyTorch data prepared - Train: torch.Size([1368, 10, 12]), Test: torch.Size([457, 10, 12])\n"
     ]
    },
    {
     "name": "stderr",
     "output_type": "stream",
     "text": [
      "Running experiments:  60%|████████████▌        | 48/80 [12:42<13:56, 26.14s/it, Model=GRU, Status=✓]"
     ]
    },
    {
     "name": "stdout",
     "output_type": "stream",
     "text": [
      "Signal distribution - Strong Decline(0): 665, Slight Decline(1): 181, Slight Rise(2): 180, Strong Rise(3): 805\n",
      "PyTorch data prepared - Train: torch.Size([1366, 10, 12]), Test: torch.Size([456, 10, 12])\n"
     ]
    },
    {
     "name": "stderr",
     "output_type": "stream",
     "text": [
      "Running experiments:  61%|████████████▊        | 49/80 [13:08<13:27, 26.06s/it, Model=GRU, Status=✓]"
     ]
    },
    {
     "name": "stdout",
     "output_type": "stream",
     "text": [
      "Signal distribution - Strong Decline(0): 594, Slight Decline(1): 252, Slight Rise(2): 259, Strong Rise(3): 726\n",
      "PyTorch data prepared - Train: torch.Size([1366, 10, 12]), Test: torch.Size([456, 10, 12])\n"
     ]
    },
    {
     "name": "stderr",
     "output_type": "stream",
     "text": [
      "Running experiments:  62%|█████████████▏       | 50/80 [13:34<13:02, 26.07s/it, Model=GRU, Status=✓]"
     ]
    },
    {
     "name": "stdout",
     "output_type": "stream",
     "text": [
      "Signal distribution - Strong Decline(0): 531, Slight Decline(1): 315, Slight Rise(2): 323, Strong Rise(3): 662\n",
      "PyTorch data prepared - Train: torch.Size([1366, 10, 12]), Test: torch.Size([456, 10, 12])\n"
     ]
    },
    {
     "name": "stderr",
     "output_type": "stream",
     "text": [
      "Running experiments:  64%|█████████████▍       | 51/80 [14:00<12:34, 26.00s/it, Model=GRU, Status=✓]"
     ]
    },
    {
     "name": "stdout",
     "output_type": "stream",
     "text": [
      "Signal distribution - Strong Decline(0): 469, Slight Decline(1): 377, Slight Rise(2): 385, Strong Rise(3): 600\n",
      "PyTorch data prepared - Train: torch.Size([1366, 10, 12]), Test: torch.Size([456, 10, 12])\n"
     ]
    },
    {
     "name": "stderr",
     "output_type": "stream",
     "text": [
      "Running experiments:  65%|█████████████▋       | 52/80 [14:26<12:08, 26.03s/it, Model=GRU, Status=✓]"
     ]
    },
    {
     "name": "stdout",
     "output_type": "stream",
     "text": [
      "Signal distribution - Strong Decline(0): 698, Slight Decline(1): 144, Slight Rise(2): 147, Strong Rise(3): 840\n",
      "PyTorch data prepared - Train: torch.Size([1365, 10, 12]), Test: torch.Size([455, 10, 12])\n"
     ]
    },
    {
     "name": "stderr",
     "output_type": "stream",
     "text": [
      "Running experiments:  66%|█████████████▉       | 53/80 [14:52<11:41, 25.99s/it, Model=GRU, Status=✓]"
     ]
    },
    {
     "name": "stdout",
     "output_type": "stream",
     "text": [
      "Signal distribution - Strong Decline(0): 632, Slight Decline(1): 210, Slight Rise(2): 208, Strong Rise(3): 779\n",
      "PyTorch data prepared - Train: torch.Size([1365, 10, 12]), Test: torch.Size([455, 10, 12])\n"
     ]
    },
    {
     "name": "stderr",
     "output_type": "stream",
     "text": [
      "Running experiments:  68%|██████████████▏      | 54/80 [15:18<11:16, 26.00s/it, Model=GRU, Status=✓]"
     ]
    },
    {
     "name": "stdout",
     "output_type": "stream",
     "text": [
      "Signal distribution - Strong Decline(0): 557, Slight Decline(1): 285, Slight Rise(2): 273, Strong Rise(3): 714\n",
      "PyTorch data prepared - Train: torch.Size([1365, 10, 12]), Test: torch.Size([455, 10, 12])\n"
     ]
    },
    {
     "name": "stderr",
     "output_type": "stream",
     "text": [
      "Running experiments:  69%|██████████████▍      | 55/80 [15:44<10:50, 26.03s/it, Model=GRU, Status=✓]"
     ]
    },
    {
     "name": "stdout",
     "output_type": "stream",
     "text": [
      "Signal distribution - Strong Decline(0): 498, Slight Decline(1): 344, Slight Rise(2): 322, Strong Rise(3): 665\n",
      "PyTorch data prepared - Train: torch.Size([1365, 10, 12]), Test: torch.Size([455, 10, 12])\n"
     ]
    },
    {
     "name": "stderr",
     "output_type": "stream",
     "text": [
      "Running experiments:  70%|██████████████▋      | 56/80 [16:10<10:24, 26.04s/it, Model=GRU, Status=✓]"
     ]
    },
    {
     "name": "stdout",
     "output_type": "stream",
     "text": [
      "Signal distribution - Strong Decline(0): 715, Slight Decline(1): 143, Slight Rise(2): 114, Strong Rise(3): 855\n",
      "PyTorch data prepared - Train: torch.Size([1363, 10, 12]), Test: torch.Size([455, 10, 12])\n"
     ]
    },
    {
     "name": "stderr",
     "output_type": "stream",
     "text": [
      "Running experiments:  71%|██████████████▉      | 57/80 [16:36<09:58, 26.01s/it, Model=GRU, Status=✓]"
     ]
    },
    {
     "name": "stdout",
     "output_type": "stream",
     "text": [
      "Signal distribution - Strong Decline(0): 659, Slight Decline(1): 199, Slight Rise(2): 168, Strong Rise(3): 801\n",
      "PyTorch data prepared - Train: torch.Size([1363, 10, 12]), Test: torch.Size([455, 10, 12])\n"
     ]
    },
    {
     "name": "stderr",
     "output_type": "stream",
     "text": [
      "Running experiments:  72%|███████████████▏     | 58/80 [17:02<09:31, 25.98s/it, Model=GRU, Status=✓]"
     ]
    },
    {
     "name": "stdout",
     "output_type": "stream",
     "text": [
      "Signal distribution - Strong Decline(0): 588, Slight Decline(1): 270, Slight Rise(2): 226, Strong Rise(3): 743\n",
      "PyTorch data prepared - Train: torch.Size([1363, 10, 12]), Test: torch.Size([455, 10, 12])\n"
     ]
    },
    {
     "name": "stderr",
     "output_type": "stream",
     "text": [
      "Running experiments:  74%|███████████████▍     | 59/80 [17:28<09:05, 26.00s/it, Model=GRU, Status=✓]"
     ]
    },
    {
     "name": "stdout",
     "output_type": "stream",
     "text": [
      "Signal distribution - Strong Decline(0): 524, Slight Decline(1): 334, Slight Rise(2): 278, Strong Rise(3): 691\n",
      "PyTorch data prepared - Train: torch.Size([1363, 10, 12]), Test: torch.Size([455, 10, 12])\n"
     ]
    },
    {
     "name": "stderr",
     "output_type": "stream",
     "text": [
      "Running experiments:  75%|███████████████▊     | 60/80 [17:54<08:39, 25.98s/it, Model=GRU, Status=✓]"
     ]
    },
    {
     "name": "stdout",
     "output_type": "stream",
     "text": [
      "Signal distribution - Strong Decline(0): 566, Slight Decline(1): 289, Slight Rise(2): 295, Strong Rise(3): 686\n",
      "PyTorch data prepared - Train: torch.Size([1370, 10, 12]), Test: torch.Size([457, 10, 12])\n"
     ]
    },
    {
     "name": "stderr",
     "output_type": "stream",
     "text": [
      "Running experiments:  76%|████████████████     | 61/80 [18:17<07:54, 25.00s/it, Model=CNN, Status=✓]"
     ]
    },
    {
     "name": "stdout",
     "output_type": "stream",
     "text": [
      "Signal distribution - Strong Decline(0): 469, Slight Decline(1): 386, Slight Rise(2): 407, Strong Rise(3): 574\n",
      "PyTorch data prepared - Train: torch.Size([1370, 10, 12]), Test: torch.Size([457, 10, 12])\n"
     ]
    },
    {
     "name": "stderr",
     "output_type": "stream",
     "text": [
      "Running experiments:  78%|████████████████▎    | 62/80 [18:39<07:14, 24.16s/it, Model=CNN, Status=✓]"
     ]
    },
    {
     "name": "stdout",
     "output_type": "stream",
     "text": [
      "Signal distribution - Strong Decline(0): 372, Slight Decline(1): 483, Slight Rise(2): 493, Strong Rise(3): 488\n",
      "PyTorch data prepared - Train: torch.Size([1370, 10, 12]), Test: torch.Size([457, 10, 12])\n"
     ]
    },
    {
     "name": "stderr",
     "output_type": "stream",
     "text": [
      "Running experiments:  79%|████████████████▌    | 63/80 [19:01<06:39, 23.51s/it, Model=CNN, Status=✓]"
     ]
    },
    {
     "name": "stdout",
     "output_type": "stream",
     "text": [
      "Signal distribution - Strong Decline(0): 311, Slight Decline(1): 544, Slight Rise(2): 574, Strong Rise(3): 407\n",
      "PyTorch data prepared - Train: torch.Size([1370, 10, 12]), Test: torch.Size([457, 10, 12])\n"
     ]
    },
    {
     "name": "stderr",
     "output_type": "stream",
     "text": [
      "Running experiments:  80%|████████████████▊    | 64/80 [19:23<06:09, 23.10s/it, Model=CNN, Status=✓]"
     ]
    },
    {
     "name": "stdout",
     "output_type": "stream",
     "text": [
      "Signal distribution - Strong Decline(0): 617, Slight Decline(1): 219, Slight Rise(2): 238, Strong Rise(3): 760\n",
      "PyTorch data prepared - Train: torch.Size([1368, 10, 12]), Test: torch.Size([457, 10, 12])\n"
     ]
    },
    {
     "name": "stderr",
     "output_type": "stream",
     "text": [
      "Running experiments:  81%|█████████████████    | 65/80 [19:45<05:42, 22.86s/it, Model=CNN, Status=✓]"
     ]
    },
    {
     "name": "stdout",
     "output_type": "stream",
     "text": [
      "Signal distribution - Strong Decline(0): 516, Slight Decline(1): 320, Slight Rise(2): 329, Strong Rise(3): 669\n",
      "PyTorch data prepared - Train: torch.Size([1368, 10, 12]), Test: torch.Size([457, 10, 12])\n"
     ]
    },
    {
     "name": "stderr",
     "output_type": "stream",
     "text": [
      "Running experiments:  82%|█████████████████▎   | 66/80 [20:08<05:18, 22.73s/it, Model=CNN, Status=✓]"
     ]
    },
    {
     "name": "stdout",
     "output_type": "stream",
     "text": [
      "Signal distribution - Strong Decline(0): 454, Slight Decline(1): 382, Slight Rise(2): 415, Strong Rise(3): 583\n",
      "PyTorch data prepared - Train: torch.Size([1368, 10, 12]), Test: torch.Size([457, 10, 12])\n"
     ]
    },
    {
     "name": "stderr",
     "output_type": "stream",
     "text": [
      "Running experiments:  84%|█████████████████▌   | 67/80 [20:30<04:54, 22.67s/it, Model=CNN, Status=✓]"
     ]
    },
    {
     "name": "stdout",
     "output_type": "stream",
     "text": [
      "Signal distribution - Strong Decline(0): 385, Slight Decline(1): 451, Slight Rise(2): 483, Strong Rise(3): 515\n",
      "PyTorch data prepared - Train: torch.Size([1368, 10, 12]), Test: torch.Size([457, 10, 12])\n"
     ]
    },
    {
     "name": "stderr",
     "output_type": "stream",
     "text": [
      "Running experiments:  85%|█████████████████▊   | 68/80 [20:53<04:31, 22.66s/it, Model=CNN, Status=✓]"
     ]
    },
    {
     "name": "stdout",
     "output_type": "stream",
     "text": [
      "Signal distribution - Strong Decline(0): 665, Slight Decline(1): 181, Slight Rise(2): 180, Strong Rise(3): 805\n",
      "PyTorch data prepared - Train: torch.Size([1366, 10, 12]), Test: torch.Size([456, 10, 12])\n"
     ]
    },
    {
     "name": "stderr",
     "output_type": "stream",
     "text": [
      "Running experiments:  86%|██████████████████   | 69/80 [21:15<04:09, 22.66s/it, Model=CNN, Status=✓]"
     ]
    },
    {
     "name": "stdout",
     "output_type": "stream",
     "text": [
      "Signal distribution - Strong Decline(0): 594, Slight Decline(1): 252, Slight Rise(2): 259, Strong Rise(3): 726\n",
      "PyTorch data prepared - Train: torch.Size([1366, 10, 12]), Test: torch.Size([456, 10, 12])\n"
     ]
    },
    {
     "name": "stderr",
     "output_type": "stream",
     "text": [
      "Running experiments:  88%|██████████████████▍  | 70/80 [21:38<03:46, 22.65s/it, Model=CNN, Status=✓]"
     ]
    },
    {
     "name": "stdout",
     "output_type": "stream",
     "text": [
      "Signal distribution - Strong Decline(0): 531, Slight Decline(1): 315, Slight Rise(2): 323, Strong Rise(3): 662\n",
      "PyTorch data prepared - Train: torch.Size([1366, 10, 12]), Test: torch.Size([456, 10, 12])\n"
     ]
    },
    {
     "name": "stderr",
     "output_type": "stream",
     "text": [
      "Running experiments:  89%|██████████████████▋  | 71/80 [22:01<03:23, 22.62s/it, Model=CNN, Status=✓]"
     ]
    },
    {
     "name": "stdout",
     "output_type": "stream",
     "text": [
      "Signal distribution - Strong Decline(0): 469, Slight Decline(1): 377, Slight Rise(2): 385, Strong Rise(3): 600\n",
      "PyTorch data prepared - Train: torch.Size([1366, 10, 12]), Test: torch.Size([456, 10, 12])\n"
     ]
    },
    {
     "name": "stderr",
     "output_type": "stream",
     "text": [
      "Running experiments:  90%|██████████████████▉  | 72/80 [22:23<03:01, 22.64s/it, Model=CNN, Status=✓]"
     ]
    },
    {
     "name": "stdout",
     "output_type": "stream",
     "text": [
      "Signal distribution - Strong Decline(0): 698, Slight Decline(1): 144, Slight Rise(2): 147, Strong Rise(3): 840\n",
      "PyTorch data prepared - Train: torch.Size([1365, 10, 12]), Test: torch.Size([455, 10, 12])\n"
     ]
    },
    {
     "name": "stderr",
     "output_type": "stream",
     "text": [
      "Running experiments:  91%|███████████████████▏ | 73/80 [22:46<02:38, 22.65s/it, Model=CNN, Status=✓]"
     ]
    },
    {
     "name": "stdout",
     "output_type": "stream",
     "text": [
      "Signal distribution - Strong Decline(0): 632, Slight Decline(1): 210, Slight Rise(2): 208, Strong Rise(3): 779\n",
      "PyTorch data prepared - Train: torch.Size([1365, 10, 12]), Test: torch.Size([455, 10, 12])\n"
     ]
    },
    {
     "name": "stderr",
     "output_type": "stream",
     "text": [
      "Running experiments:  92%|███████████████████▍ | 74/80 [23:09<02:16, 22.67s/it, Model=CNN, Status=✓]"
     ]
    },
    {
     "name": "stdout",
     "output_type": "stream",
     "text": [
      "Signal distribution - Strong Decline(0): 557, Slight Decline(1): 285, Slight Rise(2): 273, Strong Rise(3): 714\n",
      "PyTorch data prepared - Train: torch.Size([1365, 10, 12]), Test: torch.Size([455, 10, 12])\n"
     ]
    },
    {
     "name": "stderr",
     "output_type": "stream",
     "text": [
      "Running experiments:  94%|███████████████████▋ | 75/80 [23:31<01:53, 22.68s/it, Model=CNN, Status=✓]"
     ]
    },
    {
     "name": "stdout",
     "output_type": "stream",
     "text": [
      "Signal distribution - Strong Decline(0): 498, Slight Decline(1): 344, Slight Rise(2): 322, Strong Rise(3): 665\n",
      "PyTorch data prepared - Train: torch.Size([1365, 10, 12]), Test: torch.Size([455, 10, 12])\n"
     ]
    },
    {
     "name": "stderr",
     "output_type": "stream",
     "text": [
      "Running experiments:  95%|███████████████████▉ | 76/80 [23:54<01:30, 22.68s/it, Model=CNN, Status=✓]"
     ]
    },
    {
     "name": "stdout",
     "output_type": "stream",
     "text": [
      "Signal distribution - Strong Decline(0): 715, Slight Decline(1): 143, Slight Rise(2): 114, Strong Rise(3): 855\n",
      "PyTorch data prepared - Train: torch.Size([1363, 10, 12]), Test: torch.Size([455, 10, 12])\n"
     ]
    },
    {
     "name": "stderr",
     "output_type": "stream",
     "text": [
      "Running experiments:  96%|████████████████████▏| 77/80 [24:17<01:07, 22.67s/it, Model=CNN, Status=✓]"
     ]
    },
    {
     "name": "stdout",
     "output_type": "stream",
     "text": [
      "Signal distribution - Strong Decline(0): 659, Slight Decline(1): 199, Slight Rise(2): 168, Strong Rise(3): 801\n",
      "PyTorch data prepared - Train: torch.Size([1363, 10, 12]), Test: torch.Size([455, 10, 12])\n"
     ]
    },
    {
     "name": "stderr",
     "output_type": "stream",
     "text": [
      "Running experiments:  98%|████████████████████▍| 78/80 [24:39<00:45, 22.66s/it, Model=CNN, Status=✓]"
     ]
    },
    {
     "name": "stdout",
     "output_type": "stream",
     "text": [
      "Signal distribution - Strong Decline(0): 588, Slight Decline(1): 270, Slight Rise(2): 226, Strong Rise(3): 743\n",
      "PyTorch data prepared - Train: torch.Size([1363, 10, 12]), Test: torch.Size([455, 10, 12])\n"
     ]
    },
    {
     "name": "stderr",
     "output_type": "stream",
     "text": [
      "Running experiments:  99%|████████████████████▋| 79/80 [25:02<00:22, 22.60s/it, Model=CNN, Status=✓]"
     ]
    },
    {
     "name": "stdout",
     "output_type": "stream",
     "text": [
      "Signal distribution - Strong Decline(0): 524, Slight Decline(1): 334, Slight Rise(2): 278, Strong Rise(3): 691\n",
      "PyTorch data prepared - Train: torch.Size([1363, 10, 12]), Test: torch.Size([455, 10, 12])\n"
     ]
    },
    {
     "name": "stderr",
     "output_type": "stream",
     "text": [
      "Running experiments: 100%|█████████████████████| 80/80 [25:25<00:00, 19.06s/it, Model=CNN, Status=✓]"
     ]
    },
    {
     "name": "stdout",
     "output_type": "stream",
     "text": [
      "\n",
      "================================================================================\n",
      "BITCOIN PRICE PREDICTION RESULTS\n",
      "================================================================================\n",
      "\n",
      "Model Performance Summary:\n",
      "Model      Lookahead  Threshold    Accuracy   Loss Count   Loss Mean \n",
      "--------------------------------------------------------------------------------\n",
      "XGBoost    12         0.020        0.764      59           0.0488    \n",
      "XGBoost    10         0.020        0.755      55           0.0441    \n",
      "XGBoost    12         0.030        0.755      47           0.0522    \n",
      "XGBoost    10         0.030        0.723      50           0.0444    \n",
      "XGBoost    12         0.040        0.722      35           0.0481    \n",
      "XGBoost    8          0.020        0.686      79           0.0461    \n",
      "XGBoost    10         0.040        0.668      45           0.0418    \n",
      "XGBoost    8          0.030        0.655      67           0.0459    \n",
      "XGBoost    12         0.050        0.654      48           0.0498    \n",
      "XGBoost    10         0.050        0.611      43           0.0483    \n",
      "XGBoost    8          0.050        0.609      40           0.0563    \n",
      "XGBoost    8          0.040        0.596      61           0.0508    \n",
      "XGBoost    5          0.020        0.571      112          0.0498    \n",
      "XGBoost    5          0.040        0.562      46           0.0432    \n",
      "XGBoost    5          0.030        0.545      84           0.0493    \n",
      "XGBoost    5          0.050        0.542      42           0.0666    \n",
      "XGBoost    3          0.020        0.499      115          0.0420    \n",
      "GRU        12         0.020        0.488      206          0.1018    \n",
      "GRU        10         0.020        0.475      204          0.0916    \n",
      "LSTM       12         0.020        0.473      217          0.1168    \n",
      "XGBoost    3          0.050        0.453      39           0.0527    \n",
      "LSTM       10         0.020        0.451      215          0.0911    \n",
      "CNN        12         0.040        0.451      190          0.0971    \n",
      "GRU        12         0.040        0.448      186          0.0918    \n",
      "CNN        12         0.020        0.448      226          0.1066    \n",
      "CNN        10         0.020        0.440      222          0.0893    \n",
      "XGBoost    3          0.040        0.436      49           0.0507    \n",
      "LSTM       12         0.030        0.435      200          0.1022    \n",
      "LSTM       10         0.030        0.433      188          0.0926    \n",
      "XGBoost    3          0.030        0.427      92           0.0505    \n",
      "GRU        10         0.040        0.426      184          0.0762    \n",
      "GRU        8          0.020        0.425      214          0.0707    \n",
      "GRU        12         0.030        0.424      213          0.1091    \n",
      "CNN        8          0.020        0.421      214          0.0832    \n",
      "GRU        10         0.030        0.411      202          0.0832    \n",
      "LSTM       8          0.020        0.408      212          0.0795    \n",
      "GRU        8          0.030        0.408      202          0.0692    \n",
      "LSTM       12         0.040        0.407      189          0.0974    \n",
      "CNN        5          0.020        0.381      202          0.0577    \n",
      "CNN        10         0.030        0.376      234          0.0905    \n",
      "LSTM       10         0.040        0.374      189          0.0842    \n",
      "GRU        5          0.020        0.370      216          0.0551    \n",
      "GRU        12         0.050        0.367      186          0.0998    \n",
      "LSTM       12         0.050        0.363      177          0.0967    \n",
      "CNN        8          0.040        0.360      188          0.0728    \n",
      "LSTM       8          0.030        0.357      213          0.0806    \n",
      "CNN        8          0.030        0.357      208          0.0766    \n",
      "GRU        8          0.040        0.355      181          0.0682    \n",
      "GRU        10         0.050        0.352      174          0.0755    \n",
      "LSTM       10         0.050        0.352      174          0.0820    \n",
      "CNN        10         0.050        0.349      195          0.0845    \n",
      "CNN        3          0.020        0.346      225          0.0481    \n",
      "CNN        12         0.030        0.345      254          0.1145    \n",
      "LSTM       8          0.040        0.344      194          0.0714    \n",
      "LSTM       3          0.020        0.344      221          0.0461    \n",
      "CNN        3          0.050        0.341      45           0.0507    \n",
      "GRU        3          0.020        0.341      210          0.0473    \n",
      "GRU        5          0.030        0.337      204          0.0449    \n",
      "GRU        8          0.050        0.333      173          0.0724    \n",
      "LSTM       5          0.020        0.330      204          0.0596    \n",
      "CNN        12         0.050        0.327      235          0.0900    \n",
      "LSTM       8          0.050        0.325      171          0.0730    \n",
      "CNN        10         0.040        0.323      225          0.0873    \n",
      "GRU        3          0.030        0.311      175          0.0417    \n",
      "CNN        8          0.050        0.309      192          0.0757    \n",
      "LSTM       5          0.030        0.304      187          0.0535    \n",
      "CNN        5          0.030        0.304      224          0.0543    \n",
      "LSTM       5          0.040        0.298      182          0.0462    \n",
      "CNN        5          0.040        0.295      191          0.0551    \n",
      "GRU        5          0.040        0.280      180          0.0506    \n",
      "LSTM       3          0.030        0.278      179          0.0436    \n",
      "CNN        3          0.030        0.274      213          0.0478    \n",
      "GRU        5          0.050        0.269      155          0.0435    \n",
      "LSTM       3          0.040        0.254      150          0.0431    \n",
      "GRU        3          0.040        0.249      166          0.0418    \n",
      "CNN        5          0.050        0.245      170          0.0573    \n",
      "LSTM       3          0.050        0.243      149          0.0433    \n",
      "LSTM       5          0.050        0.241      151          0.0577    \n",
      "GRU        3          0.050        0.234      150          0.0437    \n",
      "CNN        3          0.040        0.225      195          0.0456    \n",
      "\n",
      "================================================================================\n",
      "BEST CONFIGURATION:\n",
      "Model: XGBoost\n",
      "Accuracy: 0.764 (76.4%)\n",
      "Lookahead: 12 periods\n",
      "Threshold: 0.020\n",
      "Loss Events: 59\n",
      "Average Loss: 0.0488\n",
      "================================================================================\n"
     ]
    },
    {
     "name": "stderr",
     "output_type": "stream",
     "text": [
      "\n"
     ]
    }
   ],
   "source": [
    "\"\"\"\n",
    "Price Movement Prediction - Main Execution Script\n",
    "\"\"\"\n",
    "\n",
    "import os\n",
    "os.environ['CUDA_LAUNCH_BLOCKING'] = '1'\n",
    "\n",
    "import warnings\n",
    "warnings.filterwarnings('ignore')\n",
    "\n",
    "from experiment_runner_silent import run_silent_experiment\n",
    "\n",
    "def eth_1d():\n",
    "    \"\"\"Main execution - clean output only\"\"\"\n",
    "    \n",
    "    # Configuration\n",
    "    DATA_PATH = r'F:\\up_git\\official_predict\\data\\eth_1d.csv'\n",
    "    \n",
    "    # Create results directory\n",
    "    results_dir = os.path.join('..', '..', 'results')\n",
    "    os.makedirs(results_dir, exist_ok=True)\n",
    "    OUTPUT_FILENAME = '../../results/eth_results_1d_4class.csv'\n",
    "    \n",
    "    # Parameters\n",
    "    LOOKAHEAD_VALUES = [3, 5, 8, 10,12]  # Số ngày dự đoán\n",
    "    THRESHOLD_VALUES = [0.02, 0.03, 0.04, 0.05]  # Ngưỡng phân loại\n",
    "\n",
    "    MODEL_TYPES = ['XGBoost', 'LSTM', 'GRU', 'CNN']\n",
    "    \n",
    "    # Run experiment\n",
    "    run_silent_experiment(\n",
    "        data_path=DATA_PATH,\n",
    "        output_filename=OUTPUT_FILENAME,\n",
    "        lookahead_values=LOOKAHEAD_VALUES,\n",
    "        threshold_values=THRESHOLD_VALUES,\n",
    "        model_types=MODEL_TYPES\n",
    "    )\n",
    "\n",
    "eth_1d()"
   ]
  },
  {
   "cell_type": "code",
   "execution_count": 2,
   "id": "06c6fc0b",
   "metadata": {},
   "outputs": [
    {
     "name": "stderr",
     "output_type": "stream",
     "text": [
      "Running experiments:   0%|                                                   | 0/80 [00:00<?, ?it/s]"
     ]
    },
    {
     "name": "stdout",
     "output_type": "stream",
     "text": [
      "Signal distribution - Strong Decline(0): 1788, Slight Decline(1): 3657, Slight Rise(2): 3632, Strong Rise(3): 2093\n"
     ]
    },
    {
     "name": "stderr",
     "output_type": "stream",
     "text": [
      "Running experiments:   1%|▏                 | 1/80 [00:00<01:01,  1.28it/s, Model=XGBoost, Status=✓]"
     ]
    },
    {
     "name": "stdout",
     "output_type": "stream",
     "text": [
      "Signal distribution - Strong Decline(0): 1078, Slight Decline(1): 4367, Slight Rise(2): 4452, Strong Rise(3): 1273\n"
     ]
    },
    {
     "name": "stderr",
     "output_type": "stream",
     "text": [
      "Running experiments:   2%|▍                 | 2/80 [00:01<01:01,  1.27it/s, Model=XGBoost, Status=✓]"
     ]
    },
    {
     "name": "stdout",
     "output_type": "stream",
     "text": [
      "Signal distribution - Strong Decline(0): 667, Slight Decline(1): 4778, Slight Rise(2): 4946, Strong Rise(3): 779\n"
     ]
    },
    {
     "name": "stderr",
     "output_type": "stream",
     "text": [
      "Running experiments:   4%|▋                 | 3/80 [00:02<00:59,  1.29it/s, Model=XGBoost, Status=✓]"
     ]
    },
    {
     "name": "stdout",
     "output_type": "stream",
     "text": [
      "Signal distribution - Strong Decline(0): 433, Slight Decline(1): 5012, Slight Rise(2): 5245, Strong Rise(3): 480\n"
     ]
    },
    {
     "name": "stderr",
     "output_type": "stream",
     "text": [
      "Running experiments:   5%|▉                 | 4/80 [00:03<00:56,  1.34it/s, Model=XGBoost, Status=✓]"
     ]
    },
    {
     "name": "stdout",
     "output_type": "stream",
     "text": [
      "Signal distribution - Strong Decline(0): 2356, Slight Decline(1): 3046, Slight Rise(2): 3009, Strong Rise(3): 2757\n"
     ]
    },
    {
     "name": "stderr",
     "output_type": "stream",
     "text": [
      "Running experiments:   6%|█▏                | 5/80 [00:03<00:57,  1.30it/s, Model=XGBoost, Status=✓]"
     ]
    },
    {
     "name": "stdout",
     "output_type": "stream",
     "text": [
      "Signal distribution - Strong Decline(0): 1598, Slight Decline(1): 3804, Slight Rise(2): 3847, Strong Rise(3): 1919\n"
     ]
    },
    {
     "name": "stderr",
     "output_type": "stream",
     "text": [
      "Running experiments:   8%|█▎                | 6/80 [00:04<00:56,  1.30it/s, Model=XGBoost, Status=✓]"
     ]
    },
    {
     "name": "stdout",
     "output_type": "stream",
     "text": [
      "Signal distribution - Strong Decline(0): 1052, Slight Decline(1): 4350, Slight Rise(2): 4462, Strong Rise(3): 1304\n"
     ]
    },
    {
     "name": "stderr",
     "output_type": "stream",
     "text": [
      "Running experiments:   9%|█▌                | 7/80 [00:05<00:54,  1.33it/s, Model=XGBoost, Status=✓]"
     ]
    },
    {
     "name": "stdout",
     "output_type": "stream",
     "text": [
      "Signal distribution - Strong Decline(0): 717, Slight Decline(1): 4685, Slight Rise(2): 4867, Strong Rise(3): 899\n"
     ]
    },
    {
     "name": "stderr",
     "output_type": "stream",
     "text": [
      "Running experiments:  10%|█▊                | 8/80 [00:06<00:52,  1.38it/s, Model=XGBoost, Status=✓]"
     ]
    },
    {
     "name": "stdout",
     "output_type": "stream",
     "text": [
      "Signal distribution - Strong Decline(0): 2748, Slight Decline(1): 2654, Slight Rise(2): 2548, Strong Rise(3): 3215\n"
     ]
    },
    {
     "name": "stderr",
     "output_type": "stream",
     "text": [
      "Running experiments:  11%|██                | 9/80 [00:06<00:52,  1.35it/s, Model=XGBoost, Status=✓]"
     ]
    },
    {
     "name": "stdout",
     "output_type": "stream",
     "text": [
      "Signal distribution - Strong Decline(0): 1999, Slight Decline(1): 3403, Slight Rise(2): 3314, Strong Rise(3): 2449\n"
     ]
    },
    {
     "name": "stderr",
     "output_type": "stream",
     "text": [
      "Running experiments:  12%|██▏              | 10/80 [00:07<00:51,  1.36it/s, Model=XGBoost, Status=✓]"
     ]
    },
    {
     "name": "stdout",
     "output_type": "stream",
     "text": [
      "Signal distribution - Strong Decline(0): 1464, Slight Decline(1): 3938, Slight Rise(2): 3931, Strong Rise(3): 1832\n"
     ]
    },
    {
     "name": "stderr",
     "output_type": "stream",
     "text": [
      "Running experiments:  14%|██▎              | 11/80 [00:08<00:50,  1.36it/s, Model=XGBoost, Status=✓]"
     ]
    },
    {
     "name": "stdout",
     "output_type": "stream",
     "text": [
      "Signal distribution - Strong Decline(0): 1075, Slight Decline(1): 4327, Slight Rise(2): 4387, Strong Rise(3): 1376\n"
     ]
    },
    {
     "name": "stderr",
     "output_type": "stream",
     "text": [
      "Running experiments:  15%|██▌              | 12/80 [00:09<00:50,  1.33it/s, Model=XGBoost, Status=✓]"
     ]
    },
    {
     "name": "stdout",
     "output_type": "stream",
     "text": [
      "Signal distribution - Strong Decline(0): 2969, Slight Decline(1): 2380, Slight Rise(2): 2299, Strong Rise(3): 3515\n"
     ]
    },
    {
     "name": "stderr",
     "output_type": "stream",
     "text": [
      "Running experiments:  16%|██▊              | 13/80 [00:09<00:49,  1.36it/s, Model=XGBoost, Status=✓]"
     ]
    },
    {
     "name": "stdout",
     "output_type": "stream",
     "text": [
      "Signal distribution - Strong Decline(0): 2210, Slight Decline(1): 3139, Slight Rise(2): 3119, Strong Rise(3): 2695\n"
     ]
    },
    {
     "name": "stderr",
     "output_type": "stream",
     "text": [
      "Running experiments:  18%|██▉              | 14/80 [00:10<00:49,  1.33it/s, Model=XGBoost, Status=✓]"
     ]
    },
    {
     "name": "stdout",
     "output_type": "stream",
     "text": [
      "Signal distribution - Strong Decline(0): 1667, Slight Decline(1): 3682, Slight Rise(2): 3721, Strong Rise(3): 2093\n"
     ]
    },
    {
     "name": "stderr",
     "output_type": "stream",
     "text": [
      "Running experiments:  19%|███▏             | 15/80 [00:11<00:49,  1.30it/s, Model=XGBoost, Status=✓]"
     ]
    },
    {
     "name": "stdout",
     "output_type": "stream",
     "text": [
      "Signal distribution - Strong Decline(0): 1242, Slight Decline(1): 4107, Slight Rise(2): 4206, Strong Rise(3): 1608\n"
     ]
    },
    {
     "name": "stderr",
     "output_type": "stream",
     "text": [
      "Running experiments:  20%|███▍             | 16/80 [00:11<00:47,  1.35it/s, Model=XGBoost, Status=✓]"
     ]
    },
    {
     "name": "stdout",
     "output_type": "stream",
     "text": [
      "Signal distribution - Strong Decline(0): 3112, Slight Decline(1): 2224, Slight Rise(2): 2130, Strong Rise(3): 3695\n"
     ]
    },
    {
     "name": "stderr",
     "output_type": "stream",
     "text": [
      "Running experiments:  21%|███▌             | 17/80 [00:12<00:46,  1.34it/s, Model=XGBoost, Status=✓]"
     ]
    },
    {
     "name": "stdout",
     "output_type": "stream",
     "text": [
      "Signal distribution - Strong Decline(0): 2388, Slight Decline(1): 2948, Slight Rise(2): 2918, Strong Rise(3): 2907\n"
     ]
    },
    {
     "name": "stderr",
     "output_type": "stream",
     "text": [
      "Running experiments:  22%|███▊             | 18/80 [00:13<00:45,  1.36it/s, Model=XGBoost, Status=✓]"
     ]
    },
    {
     "name": "stdout",
     "output_type": "stream",
     "text": [
      "Signal distribution - Strong Decline(0): 1861, Slight Decline(1): 3475, Slight Rise(2): 3507, Strong Rise(3): 2318\n"
     ]
    },
    {
     "name": "stderr",
     "output_type": "stream",
     "text": [
      "Running experiments:  24%|████             | 19/80 [00:14<00:44,  1.38it/s, Model=XGBoost, Status=✓]"
     ]
    },
    {
     "name": "stdout",
     "output_type": "stream",
     "text": [
      "Signal distribution - Strong Decline(0): 1410, Slight Decline(1): 3926, Slight Rise(2): 3983, Strong Rise(3): 1842\n"
     ]
    },
    {
     "name": "stderr",
     "output_type": "stream",
     "text": [
      "Running experiments:  25%|████▎            | 20/80 [00:14<00:42,  1.40it/s, Model=XGBoost, Status=✓]"
     ]
    },
    {
     "name": "stdout",
     "output_type": "stream",
     "text": [
      "Signal distribution - Strong Decline(0): 1788, Slight Decline(1): 3657, Slight Rise(2): 3632, Strong Rise(3): 2093\n",
      "PyTorch data prepared - Train: torch.Size([8370, 10, 12]), Test: torch.Size([2791, 10, 12])\n"
     ]
    },
    {
     "name": "stderr",
     "output_type": "stream",
     "text": [
      "Running experiments:  26%|█████▎              | 21/80 [02:59<49:05, 49.92s/it, Model=LSTM, Status=✓]"
     ]
    },
    {
     "name": "stdout",
     "output_type": "stream",
     "text": [
      "Signal distribution - Strong Decline(0): 1078, Slight Decline(1): 4367, Slight Rise(2): 4452, Strong Rise(3): 1273\n",
      "PyTorch data prepared - Train: torch.Size([8370, 10, 12]), Test: torch.Size([2791, 10, 12])\n"
     ]
    },
    {
     "name": "stderr",
     "output_type": "stream",
     "text": [
      "Running experiments:  28%|████▉             | 22/80 [05:43<1:21:22, 84.18s/it, Model=LSTM, Status=✓]"
     ]
    },
    {
     "name": "stdout",
     "output_type": "stream",
     "text": [
      "Signal distribution - Strong Decline(0): 667, Slight Decline(1): 4778, Slight Rise(2): 4946, Strong Rise(3): 779\n",
      "PyTorch data prepared - Train: torch.Size([8370, 10, 12]), Test: torch.Size([2791, 10, 12])\n"
     ]
    },
    {
     "name": "stderr",
     "output_type": "stream",
     "text": [
      "Running experiments:  29%|████▉            | 23/80 [08:30<1:43:41, 109.14s/it, Model=LSTM, Status=✓]"
     ]
    },
    {
     "name": "stdout",
     "output_type": "stream",
     "text": [
      "Signal distribution - Strong Decline(0): 433, Slight Decline(1): 5012, Slight Rise(2): 5245, Strong Rise(3): 480\n",
      "PyTorch data prepared - Train: torch.Size([8370, 10, 12]), Test: torch.Size([2791, 10, 12])\n"
     ]
    },
    {
     "name": "stderr",
     "output_type": "stream",
     "text": [
      "Running experiments:  30%|█████            | 24/80 [11:20<1:58:43, 127.20s/it, Model=LSTM, Status=✓]"
     ]
    },
    {
     "name": "stdout",
     "output_type": "stream",
     "text": [
      "Signal distribution - Strong Decline(0): 2356, Slight Decline(1): 3046, Slight Rise(2): 3009, Strong Rise(3): 2757\n",
      "PyTorch data prepared - Train: torch.Size([8369, 10, 12]), Test: torch.Size([2790, 10, 12])\n"
     ]
    },
    {
     "name": "stderr",
     "output_type": "stream",
     "text": [
      "Running experiments:  31%|█████▎           | 25/80 [14:09<2:08:10, 139.84s/it, Model=LSTM, Status=✓]"
     ]
    },
    {
     "name": "stdout",
     "output_type": "stream",
     "text": [
      "Signal distribution - Strong Decline(0): 1598, Slight Decline(1): 3804, Slight Rise(2): 3847, Strong Rise(3): 1919\n",
      "PyTorch data prepared - Train: torch.Size([8369, 10, 12]), Test: torch.Size([2790, 10, 12])\n"
     ]
    },
    {
     "name": "stderr",
     "output_type": "stream",
     "text": [
      "Running experiments:  32%|█████▌           | 26/80 [16:46<2:10:32, 145.05s/it, Model=LSTM, Status=✓]"
     ]
    },
    {
     "name": "stdout",
     "output_type": "stream",
     "text": [
      "Signal distribution - Strong Decline(0): 1052, Slight Decline(1): 4350, Slight Rise(2): 4462, Strong Rise(3): 1304\n",
      "PyTorch data prepared - Train: torch.Size([8369, 10, 12]), Test: torch.Size([2790, 10, 12])\n"
     ]
    },
    {
     "name": "stderr",
     "output_type": "stream",
     "text": [
      "Running experiments:  34%|█████▋           | 27/80 [19:28<2:12:34, 150.09s/it, Model=LSTM, Status=✓]"
     ]
    },
    {
     "name": "stdout",
     "output_type": "stream",
     "text": [
      "Signal distribution - Strong Decline(0): 717, Slight Decline(1): 4685, Slight Rise(2): 4867, Strong Rise(3): 899\n",
      "PyTorch data prepared - Train: torch.Size([8369, 10, 12]), Test: torch.Size([2790, 10, 12])\n"
     ]
    },
    {
     "name": "stderr",
     "output_type": "stream",
     "text": [
      "Running experiments:  35%|█████▉           | 28/80 [22:10<2:13:02, 153.52s/it, Model=LSTM, Status=✓]"
     ]
    },
    {
     "name": "stdout",
     "output_type": "stream",
     "text": [
      "Signal distribution - Strong Decline(0): 2748, Slight Decline(1): 2654, Slight Rise(2): 2548, Strong Rise(3): 3215\n",
      "PyTorch data prepared - Train: torch.Size([8367, 10, 12]), Test: torch.Size([2789, 10, 12])\n"
     ]
    },
    {
     "name": "stderr",
     "output_type": "stream",
     "text": [
      "Running experiments:  36%|██████▏          | 29/80 [24:52<2:12:43, 156.15s/it, Model=LSTM, Status=✓]"
     ]
    },
    {
     "name": "stdout",
     "output_type": "stream",
     "text": [
      "Signal distribution - Strong Decline(0): 1999, Slight Decline(1): 3403, Slight Rise(2): 3314, Strong Rise(3): 2449\n",
      "PyTorch data prepared - Train: torch.Size([8367, 10, 12]), Test: torch.Size([2789, 10, 12])\n"
     ]
    },
    {
     "name": "stderr",
     "output_type": "stream",
     "text": [
      "Running experiments:  38%|██████▍          | 30/80 [27:34<2:11:35, 157.91s/it, Model=LSTM, Status=✓]"
     ]
    },
    {
     "name": "stdout",
     "output_type": "stream",
     "text": [
      "Signal distribution - Strong Decline(0): 1464, Slight Decline(1): 3938, Slight Rise(2): 3931, Strong Rise(3): 1832\n",
      "PyTorch data prepared - Train: torch.Size([8367, 10, 12]), Test: torch.Size([2789, 10, 12])\n"
     ]
    },
    {
     "name": "stderr",
     "output_type": "stream",
     "text": [
      "Running experiments:  39%|██████▌          | 31/80 [30:16<2:10:03, 159.26s/it, Model=LSTM, Status=✓]"
     ]
    },
    {
     "name": "stdout",
     "output_type": "stream",
     "text": [
      "Signal distribution - Strong Decline(0): 1075, Slight Decline(1): 4327, Slight Rise(2): 4387, Strong Rise(3): 1376\n",
      "PyTorch data prepared - Train: torch.Size([8367, 10, 12]), Test: torch.Size([2789, 10, 12])\n"
     ]
    },
    {
     "name": "stderr",
     "output_type": "stream",
     "text": [
      "Running experiments:  40%|██████▊          | 32/80 [32:59<2:08:10, 160.23s/it, Model=LSTM, Status=✓]"
     ]
    },
    {
     "name": "stdout",
     "output_type": "stream",
     "text": [
      "Signal distribution - Strong Decline(0): 2969, Slight Decline(1): 2380, Slight Rise(2): 2299, Strong Rise(3): 3515\n",
      "PyTorch data prepared - Train: torch.Size([8365, 10, 12]), Test: torch.Size([2789, 10, 12])\n"
     ]
    },
    {
     "name": "stderr",
     "output_type": "stream",
     "text": [
      "Running experiments:  41%|███████          | 33/80 [35:41<2:05:58, 160.83s/it, Model=LSTM, Status=✓]"
     ]
    },
    {
     "name": "stdout",
     "output_type": "stream",
     "text": [
      "Signal distribution - Strong Decline(0): 2210, Slight Decline(1): 3139, Slight Rise(2): 3119, Strong Rise(3): 2695\n",
      "PyTorch data prepared - Train: torch.Size([8365, 10, 12]), Test: torch.Size([2789, 10, 12])\n"
     ]
    },
    {
     "name": "stderr",
     "output_type": "stream",
     "text": [
      "Running experiments:  42%|███████▏         | 34/80 [38:24<2:03:40, 161.32s/it, Model=LSTM, Status=✓]"
     ]
    },
    {
     "name": "stdout",
     "output_type": "stream",
     "text": [
      "Signal distribution - Strong Decline(0): 1667, Slight Decline(1): 3682, Slight Rise(2): 3721, Strong Rise(3): 2093\n",
      "PyTorch data prepared - Train: torch.Size([8365, 10, 12]), Test: torch.Size([2789, 10, 12])\n"
     ]
    },
    {
     "name": "stderr",
     "output_type": "stream",
     "text": [
      "Running experiments:  44%|███████▍         | 35/80 [41:05<2:01:03, 161.41s/it, Model=LSTM, Status=✓]"
     ]
    },
    {
     "name": "stdout",
     "output_type": "stream",
     "text": [
      "Signal distribution - Strong Decline(0): 1242, Slight Decline(1): 4107, Slight Rise(2): 4206, Strong Rise(3): 1608\n",
      "PyTorch data prepared - Train: torch.Size([8365, 10, 12]), Test: torch.Size([2789, 10, 12])\n"
     ]
    },
    {
     "name": "stderr",
     "output_type": "stream",
     "text": [
      "Running experiments:  45%|███████▋         | 36/80 [43:47<1:58:33, 161.67s/it, Model=LSTM, Status=✓]"
     ]
    },
    {
     "name": "stdout",
     "output_type": "stream",
     "text": [
      "Signal distribution - Strong Decline(0): 3112, Slight Decline(1): 2224, Slight Rise(2): 2130, Strong Rise(3): 3695\n",
      "PyTorch data prepared - Train: torch.Size([8364, 10, 12]), Test: torch.Size([2788, 10, 12])\n"
     ]
    },
    {
     "name": "stderr",
     "output_type": "stream",
     "text": [
      "Running experiments:  46%|███████▊         | 37/80 [46:30<1:56:00, 161.88s/it, Model=LSTM, Status=✓]"
     ]
    },
    {
     "name": "stdout",
     "output_type": "stream",
     "text": [
      "Signal distribution - Strong Decline(0): 2388, Slight Decline(1): 2948, Slight Rise(2): 2918, Strong Rise(3): 2907\n",
      "PyTorch data prepared - Train: torch.Size([8364, 10, 12]), Test: torch.Size([2788, 10, 12])\n"
     ]
    },
    {
     "name": "stderr",
     "output_type": "stream",
     "text": [
      "Running experiments:  48%|████████         | 38/80 [49:12<1:53:16, 161.82s/it, Model=LSTM, Status=✓]"
     ]
    },
    {
     "name": "stdout",
     "output_type": "stream",
     "text": [
      "Signal distribution - Strong Decline(0): 1861, Slight Decline(1): 3475, Slight Rise(2): 3507, Strong Rise(3): 2318\n",
      "PyTorch data prepared - Train: torch.Size([8364, 10, 12]), Test: torch.Size([2788, 10, 12])\n"
     ]
    },
    {
     "name": "stderr",
     "output_type": "stream",
     "text": [
      "Running experiments:  49%|████████▎        | 39/80 [51:54<1:50:39, 161.94s/it, Model=LSTM, Status=✓]"
     ]
    },
    {
     "name": "stdout",
     "output_type": "stream",
     "text": [
      "Signal distribution - Strong Decline(0): 1410, Slight Decline(1): 3926, Slight Rise(2): 3983, Strong Rise(3): 1842\n",
      "PyTorch data prepared - Train: torch.Size([8364, 10, 12]), Test: torch.Size([2788, 10, 12])\n"
     ]
    },
    {
     "name": "stderr",
     "output_type": "stream",
     "text": [
      "Running experiments:  50%|████████▌        | 40/80 [54:35<1:47:55, 161.88s/it, Model=LSTM, Status=✓]"
     ]
    },
    {
     "name": "stdout",
     "output_type": "stream",
     "text": [
      "Signal distribution - Strong Decline(0): 1788, Slight Decline(1): 3657, Slight Rise(2): 3632, Strong Rise(3): 2093\n",
      "PyTorch data prepared - Train: torch.Size([8370, 10, 12]), Test: torch.Size([2791, 10, 12])\n"
     ]
    },
    {
     "name": "stderr",
     "output_type": "stream",
     "text": [
      "Running experiments:  51%|█████████▏        | 41/80 [57:16<1:44:59, 161.52s/it, Model=GRU, Status=✓]"
     ]
    },
    {
     "name": "stdout",
     "output_type": "stream",
     "text": [
      "Signal distribution - Strong Decline(0): 1078, Slight Decline(1): 4367, Slight Rise(2): 4452, Strong Rise(3): 1273\n",
      "PyTorch data prepared - Train: torch.Size([8370, 10, 12]), Test: torch.Size([2791, 10, 12])\n"
     ]
    },
    {
     "name": "stderr",
     "output_type": "stream",
     "text": [
      "Running experiments:  52%|█████████▍        | 42/80 [59:57<1:42:07, 161.24s/it, Model=GRU, Status=✓]"
     ]
    },
    {
     "name": "stdout",
     "output_type": "stream",
     "text": [
      "Signal distribution - Strong Decline(0): 667, Slight Decline(1): 4778, Slight Rise(2): 4946, Strong Rise(3): 779\n",
      "PyTorch data prepared - Train: torch.Size([8370, 10, 12]), Test: torch.Size([2791, 10, 12])\n"
     ]
    },
    {
     "name": "stderr",
     "output_type": "stream",
     "text": [
      "Running experiments:  54%|████████▌       | 43/80 [1:02:38<1:39:23, 161.18s/it, Model=GRU, Status=✓]"
     ]
    },
    {
     "name": "stdout",
     "output_type": "stream",
     "text": [
      "Signal distribution - Strong Decline(0): 433, Slight Decline(1): 5012, Slight Rise(2): 5245, Strong Rise(3): 480\n",
      "PyTorch data prepared - Train: torch.Size([8370, 10, 12]), Test: torch.Size([2791, 10, 12])\n"
     ]
    },
    {
     "name": "stderr",
     "output_type": "stream",
     "text": [
      "Running experiments:  55%|████████▊       | 44/80 [1:05:18<1:36:31, 160.88s/it, Model=GRU, Status=✓]"
     ]
    },
    {
     "name": "stdout",
     "output_type": "stream",
     "text": [
      "Signal distribution - Strong Decline(0): 2356, Slight Decline(1): 3046, Slight Rise(2): 3009, Strong Rise(3): 2757\n",
      "PyTorch data prepared - Train: torch.Size([8369, 10, 12]), Test: torch.Size([2790, 10, 12])\n"
     ]
    },
    {
     "name": "stderr",
     "output_type": "stream",
     "text": [
      "Running experiments:  56%|█████████       | 45/80 [1:07:59<1:33:47, 160.79s/it, Model=GRU, Status=✓]"
     ]
    },
    {
     "name": "stdout",
     "output_type": "stream",
     "text": [
      "Signal distribution - Strong Decline(0): 1598, Slight Decline(1): 3804, Slight Rise(2): 3847, Strong Rise(3): 1919\n",
      "PyTorch data prepared - Train: torch.Size([8369, 10, 12]), Test: torch.Size([2790, 10, 12])\n"
     ]
    },
    {
     "name": "stderr",
     "output_type": "stream",
     "text": [
      "Running experiments:  57%|█████████▏      | 46/80 [1:10:39<1:31:07, 160.80s/it, Model=GRU, Status=✓]"
     ]
    },
    {
     "name": "stdout",
     "output_type": "stream",
     "text": [
      "Signal distribution - Strong Decline(0): 1052, Slight Decline(1): 4350, Slight Rise(2): 4462, Strong Rise(3): 1304\n",
      "PyTorch data prepared - Train: torch.Size([8369, 10, 12]), Test: torch.Size([2790, 10, 12])\n"
     ]
    },
    {
     "name": "stderr",
     "output_type": "stream",
     "text": [
      "Running experiments:  59%|█████████▍      | 47/80 [1:13:20<1:28:25, 160.76s/it, Model=GRU, Status=✓]"
     ]
    },
    {
     "name": "stdout",
     "output_type": "stream",
     "text": [
      "Signal distribution - Strong Decline(0): 717, Slight Decline(1): 4685, Slight Rise(2): 4867, Strong Rise(3): 899\n",
      "PyTorch data prepared - Train: torch.Size([8369, 10, 12]), Test: torch.Size([2790, 10, 12])\n"
     ]
    },
    {
     "name": "stderr",
     "output_type": "stream",
     "text": [
      "Running experiments:  60%|█████████▌      | 48/80 [1:16:01<1:25:41, 160.69s/it, Model=GRU, Status=✓]"
     ]
    },
    {
     "name": "stdout",
     "output_type": "stream",
     "text": [
      "Signal distribution - Strong Decline(0): 2748, Slight Decline(1): 2654, Slight Rise(2): 2548, Strong Rise(3): 3215\n",
      "PyTorch data prepared - Train: torch.Size([8367, 10, 12]), Test: torch.Size([2789, 10, 12])\n"
     ]
    },
    {
     "name": "stderr",
     "output_type": "stream",
     "text": [
      "Running experiments:  61%|█████████▊      | 49/80 [1:18:41<1:22:58, 160.59s/it, Model=GRU, Status=✓]"
     ]
    },
    {
     "name": "stdout",
     "output_type": "stream",
     "text": [
      "Signal distribution - Strong Decline(0): 1999, Slight Decline(1): 3403, Slight Rise(2): 3314, Strong Rise(3): 2449\n",
      "PyTorch data prepared - Train: torch.Size([8367, 10, 12]), Test: torch.Size([2789, 10, 12])\n"
     ]
    },
    {
     "name": "stderr",
     "output_type": "stream",
     "text": [
      "Running experiments:  62%|██████████      | 50/80 [1:21:21<1:20:15, 160.52s/it, Model=GRU, Status=✓]"
     ]
    },
    {
     "name": "stdout",
     "output_type": "stream",
     "text": [
      "Signal distribution - Strong Decline(0): 1464, Slight Decline(1): 3938, Slight Rise(2): 3931, Strong Rise(3): 1832\n",
      "PyTorch data prepared - Train: torch.Size([8367, 10, 12]), Test: torch.Size([2789, 10, 12])\n"
     ]
    },
    {
     "name": "stderr",
     "output_type": "stream",
     "text": [
      "Running experiments:  64%|██████████▏     | 51/80 [1:24:02<1:17:33, 160.47s/it, Model=GRU, Status=✓]"
     ]
    },
    {
     "name": "stdout",
     "output_type": "stream",
     "text": [
      "Signal distribution - Strong Decline(0): 1075, Slight Decline(1): 4327, Slight Rise(2): 4387, Strong Rise(3): 1376\n",
      "PyTorch data prepared - Train: torch.Size([8367, 10, 12]), Test: torch.Size([2789, 10, 12])\n"
     ]
    },
    {
     "name": "stderr",
     "output_type": "stream",
     "text": [
      "Running experiments:  65%|██████████▍     | 52/80 [1:26:42<1:14:50, 160.37s/it, Model=GRU, Status=✓]"
     ]
    },
    {
     "name": "stdout",
     "output_type": "stream",
     "text": [
      "Signal distribution - Strong Decline(0): 2969, Slight Decline(1): 2380, Slight Rise(2): 2299, Strong Rise(3): 3515\n",
      "PyTorch data prepared - Train: torch.Size([8365, 10, 12]), Test: torch.Size([2789, 10, 12])\n"
     ]
    },
    {
     "name": "stderr",
     "output_type": "stream",
     "text": [
      "Running experiments:  66%|██████████▌     | 53/80 [1:29:22<1:12:08, 160.33s/it, Model=GRU, Status=✓]"
     ]
    },
    {
     "name": "stdout",
     "output_type": "stream",
     "text": [
      "Signal distribution - Strong Decline(0): 2210, Slight Decline(1): 3139, Slight Rise(2): 3119, Strong Rise(3): 2695\n",
      "PyTorch data prepared - Train: torch.Size([8365, 10, 12]), Test: torch.Size([2789, 10, 12])\n"
     ]
    },
    {
     "name": "stderr",
     "output_type": "stream",
     "text": [
      "Running experiments:  68%|██████████▊     | 54/80 [1:32:03<1:09:30, 160.39s/it, Model=GRU, Status=✓]"
     ]
    },
    {
     "name": "stdout",
     "output_type": "stream",
     "text": [
      "Signal distribution - Strong Decline(0): 1667, Slight Decline(1): 3682, Slight Rise(2): 3721, Strong Rise(3): 2093\n",
      "PyTorch data prepared - Train: torch.Size([8365, 10, 12]), Test: torch.Size([2789, 10, 12])\n"
     ]
    },
    {
     "name": "stderr",
     "output_type": "stream",
     "text": [
      "Running experiments:  69%|███████████     | 55/80 [1:34:43<1:06:51, 160.46s/it, Model=GRU, Status=✓]"
     ]
    },
    {
     "name": "stdout",
     "output_type": "stream",
     "text": [
      "Signal distribution - Strong Decline(0): 1242, Slight Decline(1): 4107, Slight Rise(2): 4206, Strong Rise(3): 1608\n",
      "PyTorch data prepared - Train: torch.Size([8365, 10, 12]), Test: torch.Size([2789, 10, 12])\n"
     ]
    },
    {
     "name": "stderr",
     "output_type": "stream",
     "text": [
      "Running experiments:  70%|███████████▏    | 56/80 [1:37:23<1:04:07, 160.29s/it, Model=GRU, Status=✓]"
     ]
    },
    {
     "name": "stdout",
     "output_type": "stream",
     "text": [
      "Signal distribution - Strong Decline(0): 3112, Slight Decline(1): 2224, Slight Rise(2): 2130, Strong Rise(3): 3695\n",
      "PyTorch data prepared - Train: torch.Size([8364, 10, 12]), Test: torch.Size([2788, 10, 12])\n"
     ]
    },
    {
     "name": "stderr",
     "output_type": "stream",
     "text": [
      "Running experiments:  71%|███████████▍    | 57/80 [1:40:03<1:01:27, 160.32s/it, Model=GRU, Status=✓]"
     ]
    },
    {
     "name": "stdout",
     "output_type": "stream",
     "text": [
      "Signal distribution - Strong Decline(0): 2388, Slight Decline(1): 2948, Slight Rise(2): 2918, Strong Rise(3): 2907\n",
      "PyTorch data prepared - Train: torch.Size([8364, 10, 12]), Test: torch.Size([2788, 10, 12])\n"
     ]
    },
    {
     "name": "stderr",
     "output_type": "stream",
     "text": [
      "Running experiments:  72%|█████████████     | 58/80 [1:42:44<58:48, 160.37s/it, Model=GRU, Status=✓]"
     ]
    },
    {
     "name": "stdout",
     "output_type": "stream",
     "text": [
      "Signal distribution - Strong Decline(0): 1861, Slight Decline(1): 3475, Slight Rise(2): 3507, Strong Rise(3): 2318\n",
      "PyTorch data prepared - Train: torch.Size([8364, 10, 12]), Test: torch.Size([2788, 10, 12])\n"
     ]
    },
    {
     "name": "stderr",
     "output_type": "stream",
     "text": [
      "Running experiments:  74%|█████████████▎    | 59/80 [1:45:24<56:05, 160.27s/it, Model=GRU, Status=✓]"
     ]
    },
    {
     "name": "stdout",
     "output_type": "stream",
     "text": [
      "Signal distribution - Strong Decline(0): 1410, Slight Decline(1): 3926, Slight Rise(2): 3983, Strong Rise(3): 1842\n",
      "PyTorch data prepared - Train: torch.Size([8364, 10, 12]), Test: torch.Size([2788, 10, 12])\n"
     ]
    },
    {
     "name": "stderr",
     "output_type": "stream",
     "text": [
      "Running experiments:  75%|█████████████▌    | 60/80 [1:48:04<53:24, 160.22s/it, Model=GRU, Status=✓]"
     ]
    },
    {
     "name": "stdout",
     "output_type": "stream",
     "text": [
      "Signal distribution - Strong Decline(0): 1788, Slight Decline(1): 3657, Slight Rise(2): 3632, Strong Rise(3): 2093\n",
      "PyTorch data prepared - Train: torch.Size([8370, 10, 12]), Test: torch.Size([2791, 10, 12])\n"
     ]
    },
    {
     "name": "stderr",
     "output_type": "stream",
     "text": [
      "Running experiments:  76%|█████████████▋    | 61/80 [1:50:21<48:29, 153.11s/it, Model=CNN, Status=✓]"
     ]
    },
    {
     "name": "stdout",
     "output_type": "stream",
     "text": [
      "Signal distribution - Strong Decline(0): 1078, Slight Decline(1): 4367, Slight Rise(2): 4452, Strong Rise(3): 1273\n",
      "PyTorch data prepared - Train: torch.Size([8370, 10, 12]), Test: torch.Size([2791, 10, 12])\n"
     ]
    },
    {
     "name": "stderr",
     "output_type": "stream",
     "text": [
      "Running experiments:  78%|█████████████▉    | 62/80 [1:52:37<44:27, 148.22s/it, Model=CNN, Status=✓]"
     ]
    },
    {
     "name": "stdout",
     "output_type": "stream",
     "text": [
      "Signal distribution - Strong Decline(0): 667, Slight Decline(1): 4778, Slight Rise(2): 4946, Strong Rise(3): 779\n",
      "PyTorch data prepared - Train: torch.Size([8370, 10, 12]), Test: torch.Size([2791, 10, 12])\n"
     ]
    },
    {
     "name": "stderr",
     "output_type": "stream",
     "text": [
      "Running experiments:  79%|██████████████▏   | 63/80 [1:54:54<41:00, 144.71s/it, Model=CNN, Status=✓]"
     ]
    },
    {
     "name": "stdout",
     "output_type": "stream",
     "text": [
      "Signal distribution - Strong Decline(0): 433, Slight Decline(1): 5012, Slight Rise(2): 5245, Strong Rise(3): 480\n",
      "PyTorch data prepared - Train: torch.Size([8370, 10, 12]), Test: torch.Size([2791, 10, 12])\n"
     ]
    },
    {
     "name": "stderr",
     "output_type": "stream",
     "text": [
      "Running experiments:  80%|██████████████▍   | 64/80 [1:57:11<37:56, 142.31s/it, Model=CNN, Status=✓]"
     ]
    },
    {
     "name": "stdout",
     "output_type": "stream",
     "text": [
      "Signal distribution - Strong Decline(0): 2356, Slight Decline(1): 3046, Slight Rise(2): 3009, Strong Rise(3): 2757\n",
      "PyTorch data prepared - Train: torch.Size([8369, 10, 12]), Test: torch.Size([2790, 10, 12])\n"
     ]
    },
    {
     "name": "stderr",
     "output_type": "stream",
     "text": [
      "Running experiments:  81%|██████████████▋   | 65/80 [1:59:27<35:07, 140.50s/it, Model=CNN, Status=✓]"
     ]
    },
    {
     "name": "stdout",
     "output_type": "stream",
     "text": [
      "Signal distribution - Strong Decline(0): 1598, Slight Decline(1): 3804, Slight Rise(2): 3847, Strong Rise(3): 1919\n",
      "PyTorch data prepared - Train: torch.Size([8369, 10, 12]), Test: torch.Size([2790, 10, 12])\n"
     ]
    },
    {
     "name": "stderr",
     "output_type": "stream",
     "text": [
      "Running experiments:  82%|██████████████▊   | 66/80 [2:01:43<32:30, 139.32s/it, Model=CNN, Status=✓]"
     ]
    },
    {
     "name": "stdout",
     "output_type": "stream",
     "text": [
      "Signal distribution - Strong Decline(0): 1052, Slight Decline(1): 4350, Slight Rise(2): 4462, Strong Rise(3): 1304\n",
      "PyTorch data prepared - Train: torch.Size([8369, 10, 12]), Test: torch.Size([2790, 10, 12])\n"
     ]
    },
    {
     "name": "stderr",
     "output_type": "stream",
     "text": [
      "Running experiments:  84%|███████████████   | 67/80 [2:04:00<30:00, 138.48s/it, Model=CNN, Status=✓]"
     ]
    },
    {
     "name": "stdout",
     "output_type": "stream",
     "text": [
      "Signal distribution - Strong Decline(0): 717, Slight Decline(1): 4685, Slight Rise(2): 4867, Strong Rise(3): 899\n",
      "PyTorch data prepared - Train: torch.Size([8369, 10, 12]), Test: torch.Size([2790, 10, 12])\n"
     ]
    },
    {
     "name": "stderr",
     "output_type": "stream",
     "text": [
      "Running experiments:  85%|███████████████▎  | 68/80 [2:06:16<27:33, 137.80s/it, Model=CNN, Status=✓]"
     ]
    },
    {
     "name": "stdout",
     "output_type": "stream",
     "text": [
      "Signal distribution - Strong Decline(0): 2748, Slight Decline(1): 2654, Slight Rise(2): 2548, Strong Rise(3): 3215\n",
      "PyTorch data prepared - Train: torch.Size([8367, 10, 12]), Test: torch.Size([2789, 10, 12])\n"
     ]
    },
    {
     "name": "stderr",
     "output_type": "stream",
     "text": [
      "Running experiments:  86%|███████████████▌  | 69/80 [2:08:32<25:10, 137.34s/it, Model=CNN, Status=✓]"
     ]
    },
    {
     "name": "stdout",
     "output_type": "stream",
     "text": [
      "Signal distribution - Strong Decline(0): 1999, Slight Decline(1): 3403, Slight Rise(2): 3314, Strong Rise(3): 2449\n",
      "PyTorch data prepared - Train: torch.Size([8367, 10, 12]), Test: torch.Size([2789, 10, 12])\n"
     ]
    },
    {
     "name": "stderr",
     "output_type": "stream",
     "text": [
      "Running experiments:  88%|███████████████▊  | 70/80 [2:10:50<22:52, 137.26s/it, Model=CNN, Status=✓]"
     ]
    },
    {
     "name": "stdout",
     "output_type": "stream",
     "text": [
      "Signal distribution - Strong Decline(0): 1464, Slight Decline(1): 3938, Slight Rise(2): 3931, Strong Rise(3): 1832\n",
      "PyTorch data prepared - Train: torch.Size([8367, 10, 12]), Test: torch.Size([2789, 10, 12])\n"
     ]
    },
    {
     "name": "stderr",
     "output_type": "stream",
     "text": [
      "Running experiments:  89%|███████████████▉  | 71/80 [2:13:09<20:41, 137.92s/it, Model=CNN, Status=✓]"
     ]
    },
    {
     "name": "stdout",
     "output_type": "stream",
     "text": [
      "Signal distribution - Strong Decline(0): 1075, Slight Decline(1): 4327, Slight Rise(2): 4387, Strong Rise(3): 1376\n",
      "PyTorch data prepared - Train: torch.Size([8367, 10, 12]), Test: torch.Size([2789, 10, 12])\n"
     ]
    },
    {
     "name": "stderr",
     "output_type": "stream",
     "text": [
      "Running experiments:  90%|████████████████▏ | 72/80 [2:15:28<18:24, 138.10s/it, Model=CNN, Status=✓]"
     ]
    },
    {
     "name": "stdout",
     "output_type": "stream",
     "text": [
      "Signal distribution - Strong Decline(0): 2969, Slight Decline(1): 2380, Slight Rise(2): 2299, Strong Rise(3): 3515\n",
      "PyTorch data prepared - Train: torch.Size([8365, 10, 12]), Test: torch.Size([2789, 10, 12])\n"
     ]
    },
    {
     "name": "stderr",
     "output_type": "stream",
     "text": [
      "Running experiments:  91%|████████████████▍ | 73/80 [2:17:47<16:08, 138.39s/it, Model=CNN, Status=✓]"
     ]
    },
    {
     "name": "stdout",
     "output_type": "stream",
     "text": [
      "Signal distribution - Strong Decline(0): 2210, Slight Decline(1): 3139, Slight Rise(2): 3119, Strong Rise(3): 2695\n",
      "PyTorch data prepared - Train: torch.Size([8365, 10, 12]), Test: torch.Size([2789, 10, 12])\n"
     ]
    },
    {
     "name": "stderr",
     "output_type": "stream",
     "text": [
      "Running experiments:  92%|████████████████▋ | 74/80 [2:20:06<13:51, 138.55s/it, Model=CNN, Status=✓]"
     ]
    },
    {
     "name": "stdout",
     "output_type": "stream",
     "text": [
      "Signal distribution - Strong Decline(0): 1667, Slight Decline(1): 3682, Slight Rise(2): 3721, Strong Rise(3): 2093\n",
      "PyTorch data prepared - Train: torch.Size([8365, 10, 12]), Test: torch.Size([2789, 10, 12])\n"
     ]
    },
    {
     "name": "stderr",
     "output_type": "stream",
     "text": [
      "Running experiments:  94%|████████████████▉ | 75/80 [2:22:25<11:34, 138.81s/it, Model=CNN, Status=✓]"
     ]
    },
    {
     "name": "stdout",
     "output_type": "stream",
     "text": [
      "Signal distribution - Strong Decline(0): 1242, Slight Decline(1): 4107, Slight Rise(2): 4206, Strong Rise(3): 1608\n",
      "PyTorch data prepared - Train: torch.Size([8365, 10, 12]), Test: torch.Size([2789, 10, 12])\n"
     ]
    },
    {
     "name": "stderr",
     "output_type": "stream",
     "text": [
      "Running experiments:  95%|█████████████████ | 76/80 [2:24:44<09:15, 138.84s/it, Model=CNN, Status=✓]"
     ]
    },
    {
     "name": "stdout",
     "output_type": "stream",
     "text": [
      "Signal distribution - Strong Decline(0): 3112, Slight Decline(1): 2224, Slight Rise(2): 2130, Strong Rise(3): 3695\n",
      "PyTorch data prepared - Train: torch.Size([8364, 10, 12]), Test: torch.Size([2788, 10, 12])\n"
     ]
    },
    {
     "name": "stderr",
     "output_type": "stream",
     "text": [
      "Running experiments:  96%|█████████████████▎| 77/80 [2:27:03<06:56, 138.88s/it, Model=CNN, Status=✓]"
     ]
    },
    {
     "name": "stdout",
     "output_type": "stream",
     "text": [
      "Signal distribution - Strong Decline(0): 2388, Slight Decline(1): 2948, Slight Rise(2): 2918, Strong Rise(3): 2907\n",
      "PyTorch data prepared - Train: torch.Size([8364, 10, 12]), Test: torch.Size([2788, 10, 12])\n"
     ]
    },
    {
     "name": "stderr",
     "output_type": "stream",
     "text": [
      "Running experiments:  98%|█████████████████▌| 78/80 [2:29:21<04:37, 138.82s/it, Model=CNN, Status=✓]"
     ]
    },
    {
     "name": "stdout",
     "output_type": "stream",
     "text": [
      "Signal distribution - Strong Decline(0): 1861, Slight Decline(1): 3475, Slight Rise(2): 3507, Strong Rise(3): 2318\n",
      "PyTorch data prepared - Train: torch.Size([8364, 10, 12]), Test: torch.Size([2788, 10, 12])\n"
     ]
    },
    {
     "name": "stderr",
     "output_type": "stream",
     "text": [
      "Running experiments:  99%|█████████████████▊| 79/80 [2:31:46<02:20, 140.40s/it, Model=CNN, Status=✓]"
     ]
    },
    {
     "name": "stdout",
     "output_type": "stream",
     "text": [
      "Signal distribution - Strong Decline(0): 1410, Slight Decline(1): 3926, Slight Rise(2): 3983, Strong Rise(3): 1842\n",
      "PyTorch data prepared - Train: torch.Size([8364, 10, 12]), Test: torch.Size([2788, 10, 12])\n"
     ]
    },
    {
     "name": "stderr",
     "output_type": "stream",
     "text": [
      "Running experiments: 100%|██████████████████| 80/80 [2:34:09<00:00, 115.62s/it, Model=CNN, Status=✓]"
     ]
    },
    {
     "name": "stdout",
     "output_type": "stream",
     "text": [
      "\n",
      "================================================================================\n",
      "BITCOIN PRICE PREDICTION RESULTS\n",
      "================================================================================\n",
      "\n",
      "Model Performance Summary:\n",
      "Model      Lookahead  Threshold    Accuracy   Loss Count   Loss Mean \n",
      "--------------------------------------------------------------------------------\n",
      "XGBoost    10         0.050        0.605      39           0.0395    \n",
      "XGBoost    12         0.050        0.595      38           0.0435    \n",
      "XGBoost    12         0.020        0.586      427          0.0303    \n",
      "XGBoost    12         0.030        0.582      211          0.0365    \n",
      "XGBoost    12         0.040        0.571      122          0.0431    \n",
      "XGBoost    10         0.040        0.565      73           0.0319    \n",
      "XGBoost    8          0.050        0.557      31           0.0335    \n",
      "XGBoost    5          0.050        0.547      17           0.0390    \n",
      "XGBoost    3          0.050        0.547      12           0.0381    \n",
      "XGBoost    10         0.020        0.536      483          0.0302    \n",
      "XGBoost    10         0.030        0.535      199          0.0288    \n",
      "XGBoost    3          0.040        0.527      17           0.0334    \n",
      "XGBoost    8          0.020        0.519      383          0.0268    \n",
      "XGBoost    8          0.040        0.516      84           0.0342    \n",
      "XGBoost    8          0.030        0.512      187          0.0295    \n",
      "GRU        3          0.050        0.503      0            0.0000    \n",
      "XGBoost    5          0.040        0.503      46           0.0425    \n",
      "LSTM       3          0.050        0.502      3            0.0272    \n",
      "CNN        3          0.050        0.496      0            0.0000    \n",
      "GRU        3          0.040        0.491      0            0.0000    \n",
      "LSTM       3          0.040        0.491      5            0.0161    \n",
      "CNN        3          0.040        0.481      3            0.0653    \n",
      "LSTM       5          0.050        0.477      2            0.0213    \n",
      "XGBoost    3          0.030        0.473      40           0.0263    \n",
      "CNN        5          0.050        0.460      9            0.0384    \n",
      "GRU        5          0.050        0.460      0            0.0000    \n",
      "XGBoost    5          0.030        0.458      113          0.0341    \n",
      "LSTM       3          0.030        0.449      19           0.0245    \n",
      "XGBoost    5          0.020        0.446      321          0.0259    \n",
      "GRU        5          0.040        0.439      12           0.0292    \n",
      "GRU        3          0.030        0.438      14           0.0227    \n",
      "CNN        3          0.030        0.432      13           0.0422    \n",
      "LSTM       8          0.050        0.428      21           0.0244    \n",
      "LSTM       5          0.040        0.426      27           0.0277    \n",
      "CNN        5          0.040        0.418      3            0.0245    \n",
      "GRU        8          0.050        0.416      7            0.0195    \n",
      "LSTM       10         0.050        0.406      53           0.0342    \n",
      "CNN        8          0.050        0.397      3            0.0105    \n",
      "XGBoost    3          0.020        0.391      185          0.0252    \n",
      "GRU        10         0.050        0.389      77           0.0368    \n",
      "GRU        8          0.040        0.389      94           0.0359    \n",
      "LSTM       8          0.040        0.384      102          0.0378    \n",
      "LSTM       12         0.050        0.376      50           0.0438    \n",
      "GRU        12         0.050        0.374      80           0.0389    \n",
      "CNN        10         0.050        0.374      56           0.0427    \n",
      "CNN        8          0.040        0.372      113          0.0296    \n",
      "CNN        5          0.030        0.372      52           0.0312    \n",
      "GRU        5          0.030        0.366      67           0.0355    \n",
      "CNN        12         0.050        0.356      25           0.0595    \n",
      "CNN        3          0.020        0.356      127          0.0254    \n",
      "GRU        10         0.040        0.352      160          0.0396    \n",
      "LSTM       10         0.040        0.347      229          0.0412    \n",
      "LSTM       5          0.030        0.346      134          0.0384    \n",
      "LSTM       3          0.020        0.343      191          0.0236    \n",
      "CNN        10         0.040        0.342      84           0.0403    \n",
      "GRU        3          0.020        0.342      300          0.0221    \n",
      "GRU        12         0.040        0.321      198          0.0440    \n",
      "CNN        12         0.020        0.313      1145         0.0337    \n",
      "CNN        12         0.040        0.308      154          0.0312    \n",
      "GRU        8          0.030        0.308      176          0.0325    \n",
      "GRU        5          0.020        0.305      322          0.0291    \n",
      "LSTM       12         0.020        0.303      1125         0.0349    \n",
      "CNN        10         0.020        0.303      1147         0.0314    \n",
      "CNN        8          0.030        0.302      343          0.0323    \n",
      "GRU        12         0.020        0.296      1129         0.0353    \n",
      "GRU        10         0.020        0.293      981          0.0321    \n",
      "LSTM       10         0.020        0.293      977          0.0335    \n",
      "CNN        10         0.030        0.292      470          0.0336    \n",
      "GRU        10         0.030        0.290      338          0.0373    \n",
      "CNN        5          0.020        0.288      586          0.0238    \n",
      "LSTM       5          0.020        0.286      509          0.0274    \n",
      "LSTM       8          0.030        0.282      410          0.0298    \n",
      "LSTM       12         0.040        0.282      370          0.0407    \n",
      "LSTM       10         0.030        0.278      513          0.0325    \n",
      "LSTM       8          0.020        0.263      860          0.0300    \n",
      "GRU        12         0.030        0.263      607          0.0377    \n",
      "CNN        8          0.020        0.263      1078         0.0287    \n",
      "CNN        12         0.030        0.260      775          0.0399    \n",
      "GRU        8          0.020        0.260      871          0.0285    \n",
      "LSTM       12         0.030        0.249      736          0.0377    \n",
      "\n",
      "================================================================================\n",
      "BEST CONFIGURATION:\n",
      "Model: XGBoost\n",
      "Accuracy: 0.605 (60.5%)\n",
      "Lookahead: 10 periods\n",
      "Threshold: 0.050\n",
      "Loss Events: 39\n",
      "Average Loss: 0.0395\n",
      "================================================================================\n"
     ]
    },
    {
     "name": "stderr",
     "output_type": "stream",
     "text": [
      "\n"
     ]
    }
   ],
   "source": [
    "\"\"\"\n",
    "Price Movement Prediction - Main Execution Script\n",
    "\"\"\"\n",
    "\n",
    "import os\n",
    "os.environ['CUDA_LAUNCH_BLOCKING'] = '1'\n",
    "\n",
    "import warnings\n",
    "warnings.filterwarnings('ignore')\n",
    "\n",
    "from experiment_runner_silent import run_silent_experiment\n",
    "\n",
    "def eth_4h():\n",
    "    \"\"\"Main execution - clean output only\"\"\"\n",
    "    \n",
    "    # Configuration\n",
    "    DATA_PATH = r'F:\\up_git\\official_predict\\data\\eth_4h.csv'\n",
    "    \n",
    "    # Create results directory\n",
    "    results_dir = os.path.join('..', '..', 'results')\n",
    "    os.makedirs(results_dir, exist_ok=True)\n",
    "    OUTPUT_FILENAME = '../../results/eth_results_4h_4class.csv'\n",
    "    \n",
    "    # Parameters\n",
    "    LOOKAHEAD_VALUES = [3, 5, 8, 10,12]  # Số ngày dự đoán\n",
    "    THRESHOLD_VALUES = [0.02, 0.03, 0.04, 0.05]  # Ngưỡng phân loại\n",
    "\n",
    "    MODEL_TYPES = ['XGBoost', 'LSTM', 'GRU', 'CNN']\n",
    "    \n",
    "    # Run experiment\n",
    "    run_silent_experiment(\n",
    "        data_path=DATA_PATH,\n",
    "        output_filename=OUTPUT_FILENAME,\n",
    "        lookahead_values=LOOKAHEAD_VALUES,\n",
    "        threshold_values=THRESHOLD_VALUES,\n",
    "        model_types=MODEL_TYPES\n",
    "    )\n",
    "\n",
    "eth_4h()"
   ]
  },
  {
   "cell_type": "code",
   "execution_count": 3,
   "id": "fbbfc2c3",
   "metadata": {},
   "outputs": [
    {
     "name": "stderr",
     "output_type": "stream",
     "text": [
      "Running experiments:   0%|                                                   | 0/80 [00:00<?, ?it/s]"
     ]
    },
    {
     "name": "stdout",
     "output_type": "stream",
     "text": [
      "Signal distribution - Strong Decline(0): 566, Slight Decline(1): 289, Slight Rise(2): 295, Strong Rise(3): 686\n"
     ]
    },
    {
     "name": "stderr",
     "output_type": "stream",
     "text": [
      "Running experiments:   1%|▏                 | 1/80 [00:00<00:44,  1.77it/s, Model=XGBoost, Status=✓]"
     ]
    },
    {
     "name": "stdout",
     "output_type": "stream",
     "text": [
      "Signal distribution - Strong Decline(0): 469, Slight Decline(1): 386, Slight Rise(2): 407, Strong Rise(3): 574\n"
     ]
    },
    {
     "name": "stderr",
     "output_type": "stream",
     "text": [
      "Running experiments:   2%|▍                 | 2/80 [00:01<00:41,  1.89it/s, Model=XGBoost, Status=✓]"
     ]
    },
    {
     "name": "stdout",
     "output_type": "stream",
     "text": [
      "Signal distribution - Strong Decline(0): 372, Slight Decline(1): 483, Slight Rise(2): 493, Strong Rise(3): 488\n"
     ]
    },
    {
     "name": "stderr",
     "output_type": "stream",
     "text": [
      "Running experiments:   4%|▋                 | 3/80 [00:01<00:40,  1.91it/s, Model=XGBoost, Status=✓]"
     ]
    },
    {
     "name": "stdout",
     "output_type": "stream",
     "text": [
      "Signal distribution - Strong Decline(0): 311, Slight Decline(1): 544, Slight Rise(2): 574, Strong Rise(3): 407\n"
     ]
    },
    {
     "name": "stderr",
     "output_type": "stream",
     "text": [
      "Running experiments:   5%|▉                 | 4/80 [00:02<00:39,  1.93it/s, Model=XGBoost, Status=✓]"
     ]
    },
    {
     "name": "stdout",
     "output_type": "stream",
     "text": [
      "Signal distribution - Strong Decline(0): 617, Slight Decline(1): 219, Slight Rise(2): 238, Strong Rise(3): 760\n"
     ]
    },
    {
     "name": "stderr",
     "output_type": "stream",
     "text": [
      "Running experiments:   6%|█▏                | 5/80 [00:02<00:38,  1.97it/s, Model=XGBoost, Status=✓]"
     ]
    },
    {
     "name": "stdout",
     "output_type": "stream",
     "text": [
      "Signal distribution - Strong Decline(0): 516, Slight Decline(1): 320, Slight Rise(2): 329, Strong Rise(3): 669\n"
     ]
    },
    {
     "name": "stderr",
     "output_type": "stream",
     "text": [
      "Running experiments:   8%|█▎                | 6/80 [00:03<00:37,  1.95it/s, Model=XGBoost, Status=✓]"
     ]
    },
    {
     "name": "stdout",
     "output_type": "stream",
     "text": [
      "Signal distribution - Strong Decline(0): 454, Slight Decline(1): 382, Slight Rise(2): 415, Strong Rise(3): 583\n"
     ]
    },
    {
     "name": "stderr",
     "output_type": "stream",
     "text": [
      "Running experiments:   9%|█▌                | 7/80 [00:03<00:37,  1.93it/s, Model=XGBoost, Status=✓]"
     ]
    },
    {
     "name": "stdout",
     "output_type": "stream",
     "text": [
      "Signal distribution - Strong Decline(0): 385, Slight Decline(1): 451, Slight Rise(2): 483, Strong Rise(3): 515\n"
     ]
    },
    {
     "name": "stderr",
     "output_type": "stream",
     "text": [
      "Running experiments:  10%|█▊                | 8/80 [00:04<00:36,  1.95it/s, Model=XGBoost, Status=✓]"
     ]
    },
    {
     "name": "stdout",
     "output_type": "stream",
     "text": [
      "Signal distribution - Strong Decline(0): 665, Slight Decline(1): 181, Slight Rise(2): 180, Strong Rise(3): 805\n"
     ]
    },
    {
     "name": "stderr",
     "output_type": "stream",
     "text": [
      "Running experiments:  11%|██                | 9/80 [00:04<00:35,  2.01it/s, Model=XGBoost, Status=✓]"
     ]
    },
    {
     "name": "stdout",
     "output_type": "stream",
     "text": [
      "Signal distribution - Strong Decline(0): 594, Slight Decline(1): 252, Slight Rise(2): 259, Strong Rise(3): 726\n"
     ]
    },
    {
     "name": "stderr",
     "output_type": "stream",
     "text": [
      "Running experiments:  12%|██▏              | 10/80 [00:05<00:34,  2.01it/s, Model=XGBoost, Status=✓]"
     ]
    },
    {
     "name": "stdout",
     "output_type": "stream",
     "text": [
      "Signal distribution - Strong Decline(0): 531, Slight Decline(1): 315, Slight Rise(2): 323, Strong Rise(3): 662\n"
     ]
    },
    {
     "name": "stderr",
     "output_type": "stream",
     "text": [
      "Running experiments:  14%|██▎              | 11/80 [00:05<00:36,  1.90it/s, Model=XGBoost, Status=✓]"
     ]
    },
    {
     "name": "stdout",
     "output_type": "stream",
     "text": [
      "Signal distribution - Strong Decline(0): 469, Slight Decline(1): 377, Slight Rise(2): 385, Strong Rise(3): 600\n"
     ]
    },
    {
     "name": "stderr",
     "output_type": "stream",
     "text": [
      "Running experiments:  15%|██▌              | 12/80 [00:06<00:34,  1.95it/s, Model=XGBoost, Status=✓]"
     ]
    },
    {
     "name": "stdout",
     "output_type": "stream",
     "text": [
      "Signal distribution - Strong Decline(0): 698, Slight Decline(1): 144, Slight Rise(2): 147, Strong Rise(3): 840\n"
     ]
    },
    {
     "name": "stderr",
     "output_type": "stream",
     "text": [
      "Running experiments:  16%|██▊              | 13/80 [00:06<00:34,  1.93it/s, Model=XGBoost, Status=✓]"
     ]
    },
    {
     "name": "stdout",
     "output_type": "stream",
     "text": [
      "Signal distribution - Strong Decline(0): 632, Slight Decline(1): 210, Slight Rise(2): 208, Strong Rise(3): 779\n"
     ]
    },
    {
     "name": "stderr",
     "output_type": "stream",
     "text": [
      "Running experiments:  18%|██▉              | 14/80 [00:07<00:33,  1.96it/s, Model=XGBoost, Status=✓]"
     ]
    },
    {
     "name": "stdout",
     "output_type": "stream",
     "text": [
      "Signal distribution - Strong Decline(0): 557, Slight Decline(1): 285, Slight Rise(2): 273, Strong Rise(3): 714\n"
     ]
    },
    {
     "name": "stderr",
     "output_type": "stream",
     "text": [
      "Running experiments:  19%|███▏             | 15/80 [00:07<00:32,  1.97it/s, Model=XGBoost, Status=✓]"
     ]
    },
    {
     "name": "stdout",
     "output_type": "stream",
     "text": [
      "Signal distribution - Strong Decline(0): 498, Slight Decline(1): 344, Slight Rise(2): 322, Strong Rise(3): 665\n"
     ]
    },
    {
     "name": "stderr",
     "output_type": "stream",
     "text": [
      "Running experiments:  20%|███▍             | 16/80 [00:08<00:32,  1.99it/s, Model=XGBoost, Status=✓]"
     ]
    },
    {
     "name": "stdout",
     "output_type": "stream",
     "text": [
      "Signal distribution - Strong Decline(0): 715, Slight Decline(1): 143, Slight Rise(2): 114, Strong Rise(3): 855\n"
     ]
    },
    {
     "name": "stderr",
     "output_type": "stream",
     "text": [
      "Running experiments:  21%|███▌             | 17/80 [00:08<00:31,  2.01it/s, Model=XGBoost, Status=✓]"
     ]
    },
    {
     "name": "stdout",
     "output_type": "stream",
     "text": [
      "Signal distribution - Strong Decline(0): 659, Slight Decline(1): 199, Slight Rise(2): 168, Strong Rise(3): 801\n"
     ]
    },
    {
     "name": "stderr",
     "output_type": "stream",
     "text": [
      "Running experiments:  22%|███▊             | 18/80 [00:09<00:31,  1.99it/s, Model=XGBoost, Status=✓]"
     ]
    },
    {
     "name": "stdout",
     "output_type": "stream",
     "text": [
      "Signal distribution - Strong Decline(0): 588, Slight Decline(1): 270, Slight Rise(2): 226, Strong Rise(3): 743\n"
     ]
    },
    {
     "name": "stderr",
     "output_type": "stream",
     "text": [
      "Running experiments:  24%|████             | 19/80 [00:09<00:31,  1.97it/s, Model=XGBoost, Status=✓]"
     ]
    },
    {
     "name": "stdout",
     "output_type": "stream",
     "text": [
      "Signal distribution - Strong Decline(0): 524, Slight Decline(1): 334, Slight Rise(2): 278, Strong Rise(3): 691\n"
     ]
    },
    {
     "name": "stderr",
     "output_type": "stream",
     "text": [
      "Running experiments:  25%|████▎            | 20/80 [00:10<00:30,  2.00it/s, Model=XGBoost, Status=✓]"
     ]
    },
    {
     "name": "stdout",
     "output_type": "stream",
     "text": [
      "Signal distribution - Strong Decline(0): 566, Slight Decline(1): 289, Slight Rise(2): 295, Strong Rise(3): 686\n",
      "PyTorch data prepared - Train: torch.Size([1370, 10, 12]), Test: torch.Size([457, 10, 12])\n"
     ]
    },
    {
     "name": "stderr",
     "output_type": "stream",
     "text": [
      "Running experiments:  26%|█████▎              | 21/80 [00:37<08:33,  8.70s/it, Model=LSTM, Status=✓]"
     ]
    },
    {
     "name": "stdout",
     "output_type": "stream",
     "text": [
      "Signal distribution - Strong Decline(0): 469, Slight Decline(1): 386, Slight Rise(2): 407, Strong Rise(3): 574\n",
      "PyTorch data prepared - Train: torch.Size([1370, 10, 12]), Test: torch.Size([457, 10, 12])\n"
     ]
    },
    {
     "name": "stderr",
     "output_type": "stream",
     "text": [
      "Running experiments:  28%|█████▌              | 22/80 [01:05<13:56, 14.43s/it, Model=LSTM, Status=✓]"
     ]
    },
    {
     "name": "stdout",
     "output_type": "stream",
     "text": [
      "Signal distribution - Strong Decline(0): 372, Slight Decline(1): 483, Slight Rise(2): 493, Strong Rise(3): 488\n",
      "PyTorch data prepared - Train: torch.Size([1370, 10, 12]), Test: torch.Size([457, 10, 12])\n"
     ]
    },
    {
     "name": "stderr",
     "output_type": "stream",
     "text": [
      "Running experiments:  29%|█████▊              | 23/80 [01:33<17:30, 18.44s/it, Model=LSTM, Status=✓]"
     ]
    },
    {
     "name": "stdout",
     "output_type": "stream",
     "text": [
      "Signal distribution - Strong Decline(0): 311, Slight Decline(1): 544, Slight Rise(2): 574, Strong Rise(3): 407\n",
      "PyTorch data prepared - Train: torch.Size([1370, 10, 12]), Test: torch.Size([457, 10, 12])\n"
     ]
    },
    {
     "name": "stderr",
     "output_type": "stream",
     "text": [
      "Running experiments:  30%|██████              | 24/80 [02:01<19:49, 21.25s/it, Model=LSTM, Status=✓]"
     ]
    },
    {
     "name": "stdout",
     "output_type": "stream",
     "text": [
      "Signal distribution - Strong Decline(0): 617, Slight Decline(1): 219, Slight Rise(2): 238, Strong Rise(3): 760\n",
      "PyTorch data prepared - Train: torch.Size([1368, 10, 12]), Test: torch.Size([457, 10, 12])\n"
     ]
    },
    {
     "name": "stderr",
     "output_type": "stream",
     "text": [
      "Running experiments:  31%|██████▎             | 25/80 [02:28<21:10, 23.10s/it, Model=LSTM, Status=✓]"
     ]
    },
    {
     "name": "stdout",
     "output_type": "stream",
     "text": [
      "Signal distribution - Strong Decline(0): 516, Slight Decline(1): 320, Slight Rise(2): 329, Strong Rise(3): 669\n",
      "PyTorch data prepared - Train: torch.Size([1368, 10, 12]), Test: torch.Size([457, 10, 12])\n"
     ]
    },
    {
     "name": "stderr",
     "output_type": "stream",
     "text": [
      "Running experiments:  32%|██████▌             | 26/80 [02:56<22:03, 24.51s/it, Model=LSTM, Status=✓]"
     ]
    },
    {
     "name": "stdout",
     "output_type": "stream",
     "text": [
      "Signal distribution - Strong Decline(0): 454, Slight Decline(1): 382, Slight Rise(2): 415, Strong Rise(3): 583\n",
      "PyTorch data prepared - Train: torch.Size([1368, 10, 12]), Test: torch.Size([457, 10, 12])\n"
     ]
    },
    {
     "name": "stderr",
     "output_type": "stream",
     "text": [
      "Running experiments:  34%|██████▊             | 27/80 [03:24<22:29, 25.46s/it, Model=LSTM, Status=✓]"
     ]
    },
    {
     "name": "stdout",
     "output_type": "stream",
     "text": [
      "Signal distribution - Strong Decline(0): 385, Slight Decline(1): 451, Slight Rise(2): 483, Strong Rise(3): 515\n",
      "PyTorch data prepared - Train: torch.Size([1368, 10, 12]), Test: torch.Size([457, 10, 12])\n"
     ]
    },
    {
     "name": "stderr",
     "output_type": "stream",
     "text": [
      "Running experiments:  35%|███████             | 28/80 [03:52<22:39, 26.14s/it, Model=LSTM, Status=✓]"
     ]
    },
    {
     "name": "stdout",
     "output_type": "stream",
     "text": [
      "Signal distribution - Strong Decline(0): 665, Slight Decline(1): 181, Slight Rise(2): 180, Strong Rise(3): 805\n",
      "PyTorch data prepared - Train: torch.Size([1366, 10, 12]), Test: torch.Size([456, 10, 12])\n"
     ]
    },
    {
     "name": "stderr",
     "output_type": "stream",
     "text": [
      "Running experiments:  36%|███████▎            | 29/80 [04:19<22:37, 26.61s/it, Model=LSTM, Status=✓]"
     ]
    },
    {
     "name": "stdout",
     "output_type": "stream",
     "text": [
      "Signal distribution - Strong Decline(0): 594, Slight Decline(1): 252, Slight Rise(2): 259, Strong Rise(3): 726\n",
      "PyTorch data prepared - Train: torch.Size([1366, 10, 12]), Test: torch.Size([456, 10, 12])\n"
     ]
    },
    {
     "name": "stderr",
     "output_type": "stream",
     "text": [
      "Running experiments:  38%|███████▌            | 30/80 [04:47<22:25, 26.92s/it, Model=LSTM, Status=✓]"
     ]
    },
    {
     "name": "stdout",
     "output_type": "stream",
     "text": [
      "Signal distribution - Strong Decline(0): 531, Slight Decline(1): 315, Slight Rise(2): 323, Strong Rise(3): 662\n",
      "PyTorch data prepared - Train: torch.Size([1366, 10, 12]), Test: torch.Size([456, 10, 12])\n"
     ]
    },
    {
     "name": "stderr",
     "output_type": "stream",
     "text": [
      "Running experiments:  39%|███████▊            | 31/80 [05:15<22:10, 27.16s/it, Model=LSTM, Status=✓]"
     ]
    },
    {
     "name": "stdout",
     "output_type": "stream",
     "text": [
      "Signal distribution - Strong Decline(0): 469, Slight Decline(1): 377, Slight Rise(2): 385, Strong Rise(3): 600\n",
      "PyTorch data prepared - Train: torch.Size([1366, 10, 12]), Test: torch.Size([456, 10, 12])\n"
     ]
    },
    {
     "name": "stderr",
     "output_type": "stream",
     "text": [
      "Running experiments:  40%|████████            | 32/80 [05:42<21:50, 27.31s/it, Model=LSTM, Status=✓]"
     ]
    },
    {
     "name": "stdout",
     "output_type": "stream",
     "text": [
      "Signal distribution - Strong Decline(0): 698, Slight Decline(1): 144, Slight Rise(2): 147, Strong Rise(3): 840\n",
      "PyTorch data prepared - Train: torch.Size([1365, 10, 12]), Test: torch.Size([455, 10, 12])\n"
     ]
    },
    {
     "name": "stderr",
     "output_type": "stream",
     "text": [
      "Running experiments:  41%|████████▎           | 33/80 [06:10<21:28, 27.42s/it, Model=LSTM, Status=✓]"
     ]
    },
    {
     "name": "stdout",
     "output_type": "stream",
     "text": [
      "Signal distribution - Strong Decline(0): 632, Slight Decline(1): 210, Slight Rise(2): 208, Strong Rise(3): 779\n",
      "PyTorch data prepared - Train: torch.Size([1365, 10, 12]), Test: torch.Size([455, 10, 12])\n"
     ]
    },
    {
     "name": "stderr",
     "output_type": "stream",
     "text": [
      "Running experiments:  42%|████████▌           | 34/80 [06:38<21:05, 27.50s/it, Model=LSTM, Status=✓]"
     ]
    },
    {
     "name": "stdout",
     "output_type": "stream",
     "text": [
      "Signal distribution - Strong Decline(0): 557, Slight Decline(1): 285, Slight Rise(2): 273, Strong Rise(3): 714\n",
      "PyTorch data prepared - Train: torch.Size([1365, 10, 12]), Test: torch.Size([455, 10, 12])\n"
     ]
    },
    {
     "name": "stderr",
     "output_type": "stream",
     "text": [
      "Running experiments:  44%|████████▊           | 35/80 [07:05<20:42, 27.61s/it, Model=LSTM, Status=✓]"
     ]
    },
    {
     "name": "stdout",
     "output_type": "stream",
     "text": [
      "Signal distribution - Strong Decline(0): 498, Slight Decline(1): 344, Slight Rise(2): 322, Strong Rise(3): 665\n",
      "PyTorch data prepared - Train: torch.Size([1365, 10, 12]), Test: torch.Size([455, 10, 12])\n"
     ]
    },
    {
     "name": "stderr",
     "output_type": "stream",
     "text": [
      "Running experiments:  45%|█████████           | 36/80 [07:33<20:16, 27.64s/it, Model=LSTM, Status=✓]"
     ]
    },
    {
     "name": "stdout",
     "output_type": "stream",
     "text": [
      "Signal distribution - Strong Decline(0): 715, Slight Decline(1): 143, Slight Rise(2): 114, Strong Rise(3): 855\n",
      "PyTorch data prepared - Train: torch.Size([1363, 10, 12]), Test: torch.Size([455, 10, 12])\n"
     ]
    },
    {
     "name": "stderr",
     "output_type": "stream",
     "text": [
      "Running experiments:  46%|█████████▎          | 37/80 [08:01<19:50, 27.68s/it, Model=LSTM, Status=✓]"
     ]
    },
    {
     "name": "stdout",
     "output_type": "stream",
     "text": [
      "Signal distribution - Strong Decline(0): 659, Slight Decline(1): 199, Slight Rise(2): 168, Strong Rise(3): 801\n",
      "PyTorch data prepared - Train: torch.Size([1363, 10, 12]), Test: torch.Size([455, 10, 12])\n"
     ]
    },
    {
     "name": "stderr",
     "output_type": "stream",
     "text": [
      "Running experiments:  48%|█████████▌          | 38/80 [08:29<19:22, 27.68s/it, Model=LSTM, Status=✓]"
     ]
    },
    {
     "name": "stdout",
     "output_type": "stream",
     "text": [
      "Signal distribution - Strong Decline(0): 588, Slight Decline(1): 270, Slight Rise(2): 226, Strong Rise(3): 743\n",
      "PyTorch data prepared - Train: torch.Size([1363, 10, 12]), Test: torch.Size([455, 10, 12])\n"
     ]
    },
    {
     "name": "stderr",
     "output_type": "stream",
     "text": [
      "Running experiments:  49%|█████████▊          | 39/80 [08:56<18:55, 27.69s/it, Model=LSTM, Status=✓]"
     ]
    },
    {
     "name": "stdout",
     "output_type": "stream",
     "text": [
      "Signal distribution - Strong Decline(0): 524, Slight Decline(1): 334, Slight Rise(2): 278, Strong Rise(3): 691\n",
      "PyTorch data prepared - Train: torch.Size([1363, 10, 12]), Test: torch.Size([455, 10, 12])\n"
     ]
    },
    {
     "name": "stderr",
     "output_type": "stream",
     "text": [
      "Running experiments:  50%|██████████          | 40/80 [09:24<18:29, 27.73s/it, Model=LSTM, Status=✓]"
     ]
    },
    {
     "name": "stdout",
     "output_type": "stream",
     "text": [
      "Signal distribution - Strong Decline(0): 566, Slight Decline(1): 289, Slight Rise(2): 295, Strong Rise(3): 686\n",
      "PyTorch data prepared - Train: torch.Size([1370, 10, 12]), Test: torch.Size([457, 10, 12])\n"
     ]
    },
    {
     "name": "stderr",
     "output_type": "stream",
     "text": [
      "Running experiments:  51%|██████████▊          | 41/80 [09:52<17:56, 27.61s/it, Model=GRU, Status=✓]"
     ]
    },
    {
     "name": "stdout",
     "output_type": "stream",
     "text": [
      "Signal distribution - Strong Decline(0): 469, Slight Decline(1): 386, Slight Rise(2): 407, Strong Rise(3): 574\n",
      "PyTorch data prepared - Train: torch.Size([1370, 10, 12]), Test: torch.Size([457, 10, 12])\n"
     ]
    },
    {
     "name": "stderr",
     "output_type": "stream",
     "text": [
      "Running experiments:  52%|███████████          | 42/80 [10:19<17:24, 27.47s/it, Model=GRU, Status=✓]"
     ]
    },
    {
     "name": "stdout",
     "output_type": "stream",
     "text": [
      "Signal distribution - Strong Decline(0): 372, Slight Decline(1): 483, Slight Rise(2): 493, Strong Rise(3): 488\n",
      "PyTorch data prepared - Train: torch.Size([1370, 10, 12]), Test: torch.Size([457, 10, 12])\n"
     ]
    },
    {
     "name": "stderr",
     "output_type": "stream",
     "text": [
      "Running experiments:  54%|███████████▎         | 43/80 [10:46<16:53, 27.40s/it, Model=GRU, Status=✓]"
     ]
    },
    {
     "name": "stdout",
     "output_type": "stream",
     "text": [
      "Signal distribution - Strong Decline(0): 311, Slight Decline(1): 544, Slight Rise(2): 574, Strong Rise(3): 407\n",
      "PyTorch data prepared - Train: torch.Size([1370, 10, 12]), Test: torch.Size([457, 10, 12])\n"
     ]
    },
    {
     "name": "stderr",
     "output_type": "stream",
     "text": [
      "Running experiments:  55%|███████████▌         | 44/80 [11:13<16:26, 27.39s/it, Model=GRU, Status=✓]"
     ]
    },
    {
     "name": "stdout",
     "output_type": "stream",
     "text": [
      "Signal distribution - Strong Decline(0): 617, Slight Decline(1): 219, Slight Rise(2): 238, Strong Rise(3): 760\n",
      "PyTorch data prepared - Train: torch.Size([1368, 10, 12]), Test: torch.Size([457, 10, 12])\n"
     ]
    },
    {
     "name": "stderr",
     "output_type": "stream",
     "text": [
      "Running experiments:  56%|███████████▊         | 45/80 [11:41<15:59, 27.41s/it, Model=GRU, Status=✓]"
     ]
    },
    {
     "name": "stdout",
     "output_type": "stream",
     "text": [
      "Signal distribution - Strong Decline(0): 516, Slight Decline(1): 320, Slight Rise(2): 329, Strong Rise(3): 669\n",
      "PyTorch data prepared - Train: torch.Size([1368, 10, 12]), Test: torch.Size([457, 10, 12])\n"
     ]
    },
    {
     "name": "stderr",
     "output_type": "stream",
     "text": [
      "Running experiments:  57%|████████████         | 46/80 [12:08<15:32, 27.43s/it, Model=GRU, Status=✓]"
     ]
    },
    {
     "name": "stdout",
     "output_type": "stream",
     "text": [
      "Signal distribution - Strong Decline(0): 454, Slight Decline(1): 382, Slight Rise(2): 415, Strong Rise(3): 583\n",
      "PyTorch data prepared - Train: torch.Size([1368, 10, 12]), Test: torch.Size([457, 10, 12])\n"
     ]
    },
    {
     "name": "stderr",
     "output_type": "stream",
     "text": [
      "Running experiments:  59%|████████████▎        | 47/80 [12:35<15:03, 27.37s/it, Model=GRU, Status=✓]"
     ]
    },
    {
     "name": "stdout",
     "output_type": "stream",
     "text": [
      "Signal distribution - Strong Decline(0): 385, Slight Decline(1): 451, Slight Rise(2): 483, Strong Rise(3): 515\n",
      "PyTorch data prepared - Train: torch.Size([1368, 10, 12]), Test: torch.Size([457, 10, 12])\n"
     ]
    },
    {
     "name": "stderr",
     "output_type": "stream",
     "text": [
      "Running experiments:  60%|████████████▌        | 48/80 [13:03<14:35, 27.35s/it, Model=GRU, Status=✓]"
     ]
    },
    {
     "name": "stdout",
     "output_type": "stream",
     "text": [
      "Signal distribution - Strong Decline(0): 665, Slight Decline(1): 181, Slight Rise(2): 180, Strong Rise(3): 805\n",
      "PyTorch data prepared - Train: torch.Size([1366, 10, 12]), Test: torch.Size([456, 10, 12])\n"
     ]
    },
    {
     "name": "stderr",
     "output_type": "stream",
     "text": [
      "Running experiments:  61%|████████████▊        | 49/80 [13:30<14:05, 27.28s/it, Model=GRU, Status=✓]"
     ]
    },
    {
     "name": "stdout",
     "output_type": "stream",
     "text": [
      "Signal distribution - Strong Decline(0): 594, Slight Decline(1): 252, Slight Rise(2): 259, Strong Rise(3): 726\n",
      "PyTorch data prepared - Train: torch.Size([1366, 10, 12]), Test: torch.Size([456, 10, 12])\n"
     ]
    },
    {
     "name": "stderr",
     "output_type": "stream",
     "text": [
      "Running experiments:  62%|█████████████▏       | 50/80 [13:57<13:38, 27.29s/it, Model=GRU, Status=✓]"
     ]
    },
    {
     "name": "stdout",
     "output_type": "stream",
     "text": [
      "Signal distribution - Strong Decline(0): 531, Slight Decline(1): 315, Slight Rise(2): 323, Strong Rise(3): 662\n",
      "PyTorch data prepared - Train: torch.Size([1366, 10, 12]), Test: torch.Size([456, 10, 12])\n"
     ]
    },
    {
     "name": "stderr",
     "output_type": "stream",
     "text": [
      "Running experiments:  64%|█████████████▍       | 51/80 [14:24<13:09, 27.21s/it, Model=GRU, Status=✓]"
     ]
    },
    {
     "name": "stdout",
     "output_type": "stream",
     "text": [
      "Signal distribution - Strong Decline(0): 469, Slight Decline(1): 377, Slight Rise(2): 385, Strong Rise(3): 600\n",
      "PyTorch data prepared - Train: torch.Size([1366, 10, 12]), Test: torch.Size([456, 10, 12])\n"
     ]
    },
    {
     "name": "stderr",
     "output_type": "stream",
     "text": [
      "Running experiments:  65%|█████████████▋       | 52/80 [14:52<12:42, 27.25s/it, Model=GRU, Status=✓]"
     ]
    },
    {
     "name": "stdout",
     "output_type": "stream",
     "text": [
      "Signal distribution - Strong Decline(0): 698, Slight Decline(1): 144, Slight Rise(2): 147, Strong Rise(3): 840\n",
      "PyTorch data prepared - Train: torch.Size([1365, 10, 12]), Test: torch.Size([455, 10, 12])\n"
     ]
    },
    {
     "name": "stderr",
     "output_type": "stream",
     "text": [
      "Running experiments:  66%|█████████████▉       | 53/80 [15:19<12:16, 27.29s/it, Model=GRU, Status=✓]"
     ]
    },
    {
     "name": "stdout",
     "output_type": "stream",
     "text": [
      "Signal distribution - Strong Decline(0): 632, Slight Decline(1): 210, Slight Rise(2): 208, Strong Rise(3): 779\n",
      "PyTorch data prepared - Train: torch.Size([1365, 10, 12]), Test: torch.Size([455, 10, 12])\n"
     ]
    },
    {
     "name": "stderr",
     "output_type": "stream",
     "text": [
      "Running experiments:  68%|██████████████▏      | 54/80 [15:46<11:50, 27.34s/it, Model=GRU, Status=✓]"
     ]
    },
    {
     "name": "stdout",
     "output_type": "stream",
     "text": [
      "Signal distribution - Strong Decline(0): 557, Slight Decline(1): 285, Slight Rise(2): 273, Strong Rise(3): 714\n",
      "PyTorch data prepared - Train: torch.Size([1365, 10, 12]), Test: torch.Size([455, 10, 12])\n"
     ]
    },
    {
     "name": "stderr",
     "output_type": "stream",
     "text": [
      "Running experiments:  69%|██████████████▍      | 55/80 [16:14<11:22, 27.31s/it, Model=GRU, Status=✓]"
     ]
    },
    {
     "name": "stdout",
     "output_type": "stream",
     "text": [
      "Signal distribution - Strong Decline(0): 498, Slight Decline(1): 344, Slight Rise(2): 322, Strong Rise(3): 665\n",
      "PyTorch data prepared - Train: torch.Size([1365, 10, 12]), Test: torch.Size([455, 10, 12])\n"
     ]
    },
    {
     "name": "stderr",
     "output_type": "stream",
     "text": [
      "Running experiments:  70%|██████████████▋      | 56/80 [16:41<10:56, 27.34s/it, Model=GRU, Status=✓]"
     ]
    },
    {
     "name": "stdout",
     "output_type": "stream",
     "text": [
      "Signal distribution - Strong Decline(0): 715, Slight Decline(1): 143, Slight Rise(2): 114, Strong Rise(3): 855\n",
      "PyTorch data prepared - Train: torch.Size([1363, 10, 12]), Test: torch.Size([455, 10, 12])\n"
     ]
    },
    {
     "name": "stderr",
     "output_type": "stream",
     "text": [
      "Running experiments:  71%|██████████████▉      | 57/80 [17:08<10:29, 27.36s/it, Model=GRU, Status=✓]"
     ]
    },
    {
     "name": "stdout",
     "output_type": "stream",
     "text": [
      "Signal distribution - Strong Decline(0): 659, Slight Decline(1): 199, Slight Rise(2): 168, Strong Rise(3): 801\n",
      "PyTorch data prepared - Train: torch.Size([1363, 10, 12]), Test: torch.Size([455, 10, 12])\n"
     ]
    },
    {
     "name": "stderr",
     "output_type": "stream",
     "text": [
      "Running experiments:  72%|███████████████▏     | 58/80 [17:36<10:03, 27.41s/it, Model=GRU, Status=✓]"
     ]
    },
    {
     "name": "stdout",
     "output_type": "stream",
     "text": [
      "Signal distribution - Strong Decline(0): 588, Slight Decline(1): 270, Slight Rise(2): 226, Strong Rise(3): 743\n",
      "PyTorch data prepared - Train: torch.Size([1363, 10, 12]), Test: torch.Size([455, 10, 12])\n"
     ]
    },
    {
     "name": "stderr",
     "output_type": "stream",
     "text": [
      "Running experiments:  74%|███████████████▍     | 59/80 [18:03<09:34, 27.36s/it, Model=GRU, Status=✓]"
     ]
    },
    {
     "name": "stdout",
     "output_type": "stream",
     "text": [
      "Signal distribution - Strong Decline(0): 524, Slight Decline(1): 334, Slight Rise(2): 278, Strong Rise(3): 691\n",
      "PyTorch data prepared - Train: torch.Size([1363, 10, 12]), Test: torch.Size([455, 10, 12])\n"
     ]
    },
    {
     "name": "stderr",
     "output_type": "stream",
     "text": [
      "Running experiments:  75%|███████████████▊     | 60/80 [18:30<09:06, 27.31s/it, Model=GRU, Status=✓]"
     ]
    },
    {
     "name": "stdout",
     "output_type": "stream",
     "text": [
      "Signal distribution - Strong Decline(0): 566, Slight Decline(1): 289, Slight Rise(2): 295, Strong Rise(3): 686\n",
      "PyTorch data prepared - Train: torch.Size([1370, 10, 12]), Test: torch.Size([457, 10, 12])\n"
     ]
    },
    {
     "name": "stderr",
     "output_type": "stream",
     "text": [
      "Running experiments:  76%|████████████████     | 61/80 [18:54<08:18, 26.25s/it, Model=CNN, Status=✓]"
     ]
    },
    {
     "name": "stdout",
     "output_type": "stream",
     "text": [
      "Signal distribution - Strong Decline(0): 469, Slight Decline(1): 386, Slight Rise(2): 407, Strong Rise(3): 574\n",
      "PyTorch data prepared - Train: torch.Size([1370, 10, 12]), Test: torch.Size([457, 10, 12])\n"
     ]
    },
    {
     "name": "stderr",
     "output_type": "stream",
     "text": [
      "Running experiments:  78%|████████████████▎    | 62/80 [19:18<07:38, 25.48s/it, Model=CNN, Status=✓]"
     ]
    },
    {
     "name": "stdout",
     "output_type": "stream",
     "text": [
      "Signal distribution - Strong Decline(0): 372, Slight Decline(1): 483, Slight Rise(2): 493, Strong Rise(3): 488\n",
      "PyTorch data prepared - Train: torch.Size([1370, 10, 12]), Test: torch.Size([457, 10, 12])\n"
     ]
    },
    {
     "name": "stderr",
     "output_type": "stream",
     "text": [
      "Running experiments:  79%|████████████████▌    | 63/80 [19:42<07:04, 24.95s/it, Model=CNN, Status=✓]"
     ]
    },
    {
     "name": "stdout",
     "output_type": "stream",
     "text": [
      "Signal distribution - Strong Decline(0): 311, Slight Decline(1): 544, Slight Rise(2): 574, Strong Rise(3): 407\n",
      "PyTorch data prepared - Train: torch.Size([1370, 10, 12]), Test: torch.Size([457, 10, 12])\n"
     ]
    },
    {
     "name": "stderr",
     "output_type": "stream",
     "text": [
      "Running experiments:  80%|████████████████▊    | 64/80 [20:05<06:33, 24.58s/it, Model=CNN, Status=✓]"
     ]
    },
    {
     "name": "stdout",
     "output_type": "stream",
     "text": [
      "Signal distribution - Strong Decline(0): 617, Slight Decline(1): 219, Slight Rise(2): 238, Strong Rise(3): 760\n",
      "PyTorch data prepared - Train: torch.Size([1368, 10, 12]), Test: torch.Size([457, 10, 12])\n"
     ]
    },
    {
     "name": "stderr",
     "output_type": "stream",
     "text": [
      "Running experiments:  81%|█████████████████    | 65/80 [20:29<06:04, 24.28s/it, Model=CNN, Status=✓]"
     ]
    },
    {
     "name": "stdout",
     "output_type": "stream",
     "text": [
      "Signal distribution - Strong Decline(0): 516, Slight Decline(1): 320, Slight Rise(2): 329, Strong Rise(3): 669\n",
      "PyTorch data prepared - Train: torch.Size([1368, 10, 12]), Test: torch.Size([457, 10, 12])\n"
     ]
    },
    {
     "name": "stderr",
     "output_type": "stream",
     "text": [
      "Running experiments:  82%|█████████████████▎   | 66/80 [20:53<05:37, 24.12s/it, Model=CNN, Status=✓]"
     ]
    },
    {
     "name": "stdout",
     "output_type": "stream",
     "text": [
      "Signal distribution - Strong Decline(0): 454, Slight Decline(1): 382, Slight Rise(2): 415, Strong Rise(3): 583\n",
      "PyTorch data prepared - Train: torch.Size([1368, 10, 12]), Test: torch.Size([457, 10, 12])\n"
     ]
    },
    {
     "name": "stderr",
     "output_type": "stream",
     "text": [
      "Running experiments:  84%|█████████████████▌   | 67/80 [21:16<05:11, 23.98s/it, Model=CNN, Status=✓]"
     ]
    },
    {
     "name": "stdout",
     "output_type": "stream",
     "text": [
      "Signal distribution - Strong Decline(0): 385, Slight Decline(1): 451, Slight Rise(2): 483, Strong Rise(3): 515\n",
      "PyTorch data prepared - Train: torch.Size([1368, 10, 12]), Test: torch.Size([457, 10, 12])\n"
     ]
    },
    {
     "name": "stderr",
     "output_type": "stream",
     "text": [
      "Running experiments:  85%|█████████████████▊   | 68/80 [21:40<04:46, 23.92s/it, Model=CNN, Status=✓]"
     ]
    },
    {
     "name": "stdout",
     "output_type": "stream",
     "text": [
      "Signal distribution - Strong Decline(0): 665, Slight Decline(1): 181, Slight Rise(2): 180, Strong Rise(3): 805\n",
      "PyTorch data prepared - Train: torch.Size([1366, 10, 12]), Test: torch.Size([456, 10, 12])\n"
     ]
    },
    {
     "name": "stderr",
     "output_type": "stream",
     "text": [
      "Running experiments:  86%|██████████████████   | 69/80 [22:04<04:22, 23.85s/it, Model=CNN, Status=✓]"
     ]
    },
    {
     "name": "stdout",
     "output_type": "stream",
     "text": [
      "Signal distribution - Strong Decline(0): 594, Slight Decline(1): 252, Slight Rise(2): 259, Strong Rise(3): 726\n",
      "PyTorch data prepared - Train: torch.Size([1366, 10, 12]), Test: torch.Size([456, 10, 12])\n"
     ]
    },
    {
     "name": "stderr",
     "output_type": "stream",
     "text": [
      "Running experiments:  88%|██████████████████▍  | 70/80 [22:27<03:57, 23.76s/it, Model=CNN, Status=✓]"
     ]
    },
    {
     "name": "stdout",
     "output_type": "stream",
     "text": [
      "Signal distribution - Strong Decline(0): 531, Slight Decline(1): 315, Slight Rise(2): 323, Strong Rise(3): 662\n",
      "PyTorch data prepared - Train: torch.Size([1366, 10, 12]), Test: torch.Size([456, 10, 12])\n"
     ]
    },
    {
     "name": "stderr",
     "output_type": "stream",
     "text": [
      "Running experiments:  89%|██████████████████▋  | 71/80 [22:51<03:32, 23.66s/it, Model=CNN, Status=✓]"
     ]
    },
    {
     "name": "stdout",
     "output_type": "stream",
     "text": [
      "Signal distribution - Strong Decline(0): 469, Slight Decline(1): 377, Slight Rise(2): 385, Strong Rise(3): 600\n",
      "PyTorch data prepared - Train: torch.Size([1366, 10, 12]), Test: torch.Size([456, 10, 12])\n"
     ]
    },
    {
     "name": "stderr",
     "output_type": "stream",
     "text": [
      "Running experiments:  90%|██████████████████▉  | 72/80 [23:14<03:09, 23.63s/it, Model=CNN, Status=✓]"
     ]
    },
    {
     "name": "stdout",
     "output_type": "stream",
     "text": [
      "Signal distribution - Strong Decline(0): 698, Slight Decline(1): 144, Slight Rise(2): 147, Strong Rise(3): 840\n",
      "PyTorch data prepared - Train: torch.Size([1365, 10, 12]), Test: torch.Size([455, 10, 12])\n"
     ]
    },
    {
     "name": "stderr",
     "output_type": "stream",
     "text": [
      "Running experiments:  91%|███████████████████▏ | 73/80 [23:38<02:45, 23.62s/it, Model=CNN, Status=✓]"
     ]
    },
    {
     "name": "stdout",
     "output_type": "stream",
     "text": [
      "Signal distribution - Strong Decline(0): 632, Slight Decline(1): 210, Slight Rise(2): 208, Strong Rise(3): 779\n",
      "PyTorch data prepared - Train: torch.Size([1365, 10, 12]), Test: torch.Size([455, 10, 12])\n"
     ]
    },
    {
     "name": "stderr",
     "output_type": "stream",
     "text": [
      "Running experiments:  92%|███████████████████▍ | 74/80 [24:02<02:21, 23.64s/it, Model=CNN, Status=✓]"
     ]
    },
    {
     "name": "stdout",
     "output_type": "stream",
     "text": [
      "Signal distribution - Strong Decline(0): 557, Slight Decline(1): 285, Slight Rise(2): 273, Strong Rise(3): 714\n",
      "PyTorch data prepared - Train: torch.Size([1365, 10, 12]), Test: torch.Size([455, 10, 12])\n"
     ]
    },
    {
     "name": "stderr",
     "output_type": "stream",
     "text": [
      "Running experiments:  94%|███████████████████▋ | 75/80 [24:25<01:58, 23.61s/it, Model=CNN, Status=✓]"
     ]
    },
    {
     "name": "stdout",
     "output_type": "stream",
     "text": [
      "Signal distribution - Strong Decline(0): 498, Slight Decline(1): 344, Slight Rise(2): 322, Strong Rise(3): 665\n",
      "PyTorch data prepared - Train: torch.Size([1365, 10, 12]), Test: torch.Size([455, 10, 12])\n"
     ]
    },
    {
     "name": "stderr",
     "output_type": "stream",
     "text": [
      "Running experiments:  95%|███████████████████▉ | 76/80 [24:49<01:34, 23.63s/it, Model=CNN, Status=✓]"
     ]
    },
    {
     "name": "stdout",
     "output_type": "stream",
     "text": [
      "Signal distribution - Strong Decline(0): 715, Slight Decline(1): 143, Slight Rise(2): 114, Strong Rise(3): 855\n",
      "PyTorch data prepared - Train: torch.Size([1363, 10, 12]), Test: torch.Size([455, 10, 12])\n"
     ]
    },
    {
     "name": "stderr",
     "output_type": "stream",
     "text": [
      "Running experiments:  96%|████████████████████▏| 77/80 [25:12<01:10, 23.62s/it, Model=CNN, Status=✓]"
     ]
    },
    {
     "name": "stdout",
     "output_type": "stream",
     "text": [
      "Signal distribution - Strong Decline(0): 659, Slight Decline(1): 199, Slight Rise(2): 168, Strong Rise(3): 801\n",
      "PyTorch data prepared - Train: torch.Size([1363, 10, 12]), Test: torch.Size([455, 10, 12])\n"
     ]
    },
    {
     "name": "stderr",
     "output_type": "stream",
     "text": [
      "Running experiments:  98%|████████████████████▍| 78/80 [25:36<00:47, 23.63s/it, Model=CNN, Status=✓]"
     ]
    },
    {
     "name": "stdout",
     "output_type": "stream",
     "text": [
      "Signal distribution - Strong Decline(0): 588, Slight Decline(1): 270, Slight Rise(2): 226, Strong Rise(3): 743\n",
      "PyTorch data prepared - Train: torch.Size([1363, 10, 12]), Test: torch.Size([455, 10, 12])\n"
     ]
    },
    {
     "name": "stderr",
     "output_type": "stream",
     "text": [
      "Running experiments:  99%|████████████████████▋| 79/80 [26:00<00:23, 23.64s/it, Model=CNN, Status=✓]"
     ]
    },
    {
     "name": "stdout",
     "output_type": "stream",
     "text": [
      "Signal distribution - Strong Decline(0): 524, Slight Decline(1): 334, Slight Rise(2): 278, Strong Rise(3): 691\n",
      "PyTorch data prepared - Train: torch.Size([1363, 10, 12]), Test: torch.Size([455, 10, 12])\n"
     ]
    },
    {
     "name": "stderr",
     "output_type": "stream",
     "text": [
      "Running experiments: 100%|█████████████████████| 80/80 [26:23<00:00, 19.80s/it, Model=CNN, Status=✓]"
     ]
    },
    {
     "name": "stdout",
     "output_type": "stream",
     "text": [
      "\n",
      "================================================================================\n",
      "BITCOIN PRICE PREDICTION RESULTS\n",
      "================================================================================\n",
      "\n",
      "Model Performance Summary:\n",
      "Model      Lookahead  Threshold    Accuracy   Loss Count   Loss Mean \n",
      "--------------------------------------------------------------------------------\n",
      "XGBoost    12         0.020        0.764      59           0.0488    \n",
      "XGBoost    10         0.020        0.755      55           0.0441    \n",
      "XGBoost    12         0.030        0.755      47           0.0522    \n",
      "XGBoost    10         0.030        0.723      50           0.0444    \n",
      "XGBoost    12         0.040        0.722      35           0.0481    \n",
      "XGBoost    8          0.020        0.686      79           0.0461    \n",
      "XGBoost    10         0.040        0.668      45           0.0418    \n",
      "XGBoost    8          0.030        0.655      67           0.0459    \n",
      "XGBoost    12         0.050        0.654      48           0.0498    \n",
      "XGBoost    10         0.050        0.611      43           0.0483    \n",
      "XGBoost    8          0.050        0.609      40           0.0563    \n",
      "XGBoost    8          0.040        0.596      61           0.0508    \n",
      "XGBoost    5          0.020        0.571      112          0.0498    \n",
      "XGBoost    5          0.040        0.562      46           0.0432    \n",
      "XGBoost    5          0.030        0.545      84           0.0493    \n",
      "XGBoost    5          0.050        0.542      42           0.0666    \n",
      "GRU        12         0.020        0.534      184          0.1102    \n",
      "XGBoost    3          0.020        0.499      115          0.0420    \n",
      "LSTM       12         0.020        0.492      209          0.1155    \n",
      "GRU        10         0.020        0.477      201          0.0835    \n",
      "CNN        12         0.020        0.462      219          0.1130    \n",
      "LSTM       10         0.020        0.455      211          0.0847    \n",
      "XGBoost    3          0.050        0.453      39           0.0527    \n",
      "LSTM       12         0.040        0.451      188          0.1035    \n",
      "GRU        8          0.020        0.445      203          0.0696    \n",
      "GRU        10         0.030        0.444      187          0.1021    \n",
      "GRU        12         0.030        0.442      213          0.1082    \n",
      "XGBoost    3          0.040        0.436      49           0.0507    \n",
      "LSTM       8          0.020        0.432      203          0.0678    \n",
      "XGBoost    3          0.030        0.427      92           0.0505    \n",
      "LSTM       12         0.030        0.424      203          0.0933    \n",
      "LSTM       10         0.030        0.422      179          0.0820    \n",
      "LSTM       8          0.030        0.421      183          0.0851    \n",
      "CNN        12         0.040        0.418      204          0.0950    \n",
      "GRU        12         0.050        0.418      169          0.0888    \n",
      "CNN        8          0.020        0.414      212          0.0820    \n",
      "GRU        12         0.040        0.413      196          0.1083    \n",
      "GRU        10         0.040        0.411      184          0.0790    \n",
      "CNN        10         0.020        0.398      242          0.0931    \n",
      "LSTM       12         0.050        0.387      172          0.0907    \n",
      "GRU        8          0.030        0.384      197          0.0822    \n",
      "LSTM       10         0.040        0.382      188          0.0854    \n",
      "GRU        3          0.020        0.379      210          0.0453    \n",
      "CNN        10         0.030        0.378      230          0.0845    \n",
      "CNN        12         0.050        0.376      212          0.0904    \n",
      "LSTM       5          0.020        0.365      217          0.0546    \n",
      "CNN        5          0.020        0.363      212          0.0610    \n",
      "GRU        10         0.050        0.363      172          0.0778    \n",
      "GRU        8          0.050        0.353      162          0.0755    \n",
      "CNN        10         0.040        0.349      227          0.0855    \n",
      "GRU        8          0.040        0.349      201          0.0654    \n",
      "CNN        8          0.050        0.344      183          0.0671    \n",
      "CNN        8          0.030        0.344      226          0.0907    \n",
      "GRU        5          0.020        0.344      229          0.0536    \n",
      "CNN        12         0.030        0.343      253          0.1062    \n",
      "CNN        3          0.050        0.341      16           0.0686    \n",
      "LSTM       3          0.020        0.339      206          0.0458    \n",
      "LSTM       8          0.050        0.336      163          0.0691    \n",
      "CNN        3          0.020        0.333      223          0.0500    \n",
      "LSTM       8          0.040        0.331      187          0.0763    \n",
      "CNN        8          0.040        0.329      207          0.0752    \n",
      "CNN        5          0.030        0.317      212          0.0574    \n",
      "CNN        3          0.030        0.304      200          0.0462    \n",
      "GRU        5          0.030        0.302      211          0.0573    \n",
      "LSTM       3          0.030        0.302      195          0.0420    \n",
      "LSTM       5          0.030        0.302      217          0.0553    \n",
      "GRU        3          0.030        0.300      190          0.0424    \n",
      "LSTM       10         0.050        0.297      191          0.0935    \n",
      "LSTM       5          0.040        0.295      183          0.0498    \n",
      "GRU        5          0.040        0.293      181          0.0472    \n",
      "CNN        10         0.050        0.292      219          0.0853    \n",
      "CNN        5          0.040        0.280      195          0.0566    \n",
      "CNN        3          0.040        0.274      104          0.0463    \n",
      "GRU        3          0.050        0.274      107          0.0419    \n",
      "LSTM       5          0.050        0.265      171          0.0462    \n",
      "GRU        5          0.050        0.245      159          0.0494    \n",
      "LSTM       3          0.040        0.241      158          0.0451    \n",
      "CNN        5          0.050        0.239      155          0.0650    \n",
      "GRU        3          0.040        0.234      157          0.0440    \n",
      "LSTM       3          0.050        0.230      141          0.0458    \n",
      "\n",
      "================================================================================\n",
      "BEST CONFIGURATION:\n",
      "Model: XGBoost\n",
      "Accuracy: 0.764 (76.4%)\n",
      "Lookahead: 12 periods\n",
      "Threshold: 0.020\n",
      "Loss Events: 59\n",
      "Average Loss: 0.0488\n",
      "================================================================================\n"
     ]
    },
    {
     "name": "stderr",
     "output_type": "stream",
     "text": [
      "\n"
     ]
    }
   ],
   "source": [
    "\"\"\"\n",
    "Price Movement Prediction - Main Execution Script\n",
    "\"\"\"\n",
    "\n",
    "import os\n",
    "os.environ['CUDA_LAUNCH_BLOCKING'] = '1'\n",
    "\n",
    "import warnings\n",
    "warnings.filterwarnings('ignore')\n",
    "\n",
    "from experiment_runner_silent import run_silent_experiment\n",
    "\n",
    "def eth_30m():\n",
    "    \"\"\"Main execution - clean output only\"\"\"\n",
    "    \n",
    "    # Configuration\n",
    "    DATA_PATH = r'F:\\up_git\\official_predict\\data\\eth_30m.csv'\n",
    "    \n",
    "    # Create results directory\n",
    "    results_dir = os.path.join('..', '..', 'results')\n",
    "    os.makedirs(results_dir, exist_ok=True)\n",
    "    OUTPUT_FILENAME = '../../results/eth_results_30m_4class.csv'\n",
    "    \n",
    "    # Parameters\n",
    "    LOOKAHEAD_VALUES = [3, 5, 8, 10,12]  # Số ngày dự đoán\n",
    "    THRESHOLD_VALUES = [0.02, 0.03, 0.04, 0.05]  # Ngưỡng phân loại\n",
    "\n",
    "    MODEL_TYPES = ['XGBoost', 'LSTM', 'GRU', 'CNN']\n",
    "    \n",
    "    # Run experiment\n",
    "    run_silent_experiment(\n",
    "        data_path=DATA_PATH,\n",
    "        output_filename=OUTPUT_FILENAME,\n",
    "        lookahead_values=LOOKAHEAD_VALUES,\n",
    "        threshold_values=THRESHOLD_VALUES,\n",
    "        model_types=MODEL_TYPES\n",
    "    )\n",
    "\n",
    "eth_1d()"
   ]
  }
 ],
 "metadata": {
  "kernelspec": {
   "display_name": "For_pytorch",
   "language": "python",
   "name": "python3"
  },
  "language_info": {
   "codemirror_mode": {
    "name": "ipython",
    "version": 3
   },
   "file_extension": ".py",
   "mimetype": "text/x-python",
   "name": "python",
   "nbconvert_exporter": "python",
   "pygments_lexer": "ipython3",
   "version": "3.12.9"
  }
 },
 "nbformat": 4,
 "nbformat_minor": 5
}
