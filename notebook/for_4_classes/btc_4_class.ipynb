{
 "cells": [
  {
   "cell_type": "code",
   "execution_count": 2,
   "id": "bea42a29",
   "metadata": {},
   "outputs": [
    {
     "name": "stderr",
     "output_type": "stream",
     "text": [
      "Running experiments:   0%|                                                   | 0/80 [00:00<?, ?it/s]"
     ]
    },
    {
     "name": "stdout",
     "output_type": "stream",
     "text": [
      "Signal distribution - Strong Decline(0): 558, Slight Decline(1): 380, Slight Rise(2): 426, Strong Rise(3): 679\n"
     ]
    },
    {
     "name": "stderr",
     "output_type": "stream",
     "text": [
      "Running experiments:   1%|▏                 | 1/80 [00:00<00:19,  4.13it/s, Model=XGBoost, Status=✓]"
     ]
    },
    {
     "name": "stdout",
     "output_type": "stream",
     "text": [
      "Signal distribution - Strong Decline(0): 417, Slight Decline(1): 521, Slight Rise(2): 560, Strong Rise(3): 545\n"
     ]
    },
    {
     "name": "stderr",
     "output_type": "stream",
     "text": [
      "Running experiments:   2%|▍                 | 2/80 [00:00<00:19,  4.07it/s, Model=XGBoost, Status=✓]"
     ]
    },
    {
     "name": "stdout",
     "output_type": "stream",
     "text": [
      "Signal distribution - Strong Decline(0): 316, Slight Decline(1): 622, Slight Rise(2): 662, Strong Rise(3): 443\n"
     ]
    },
    {
     "name": "stderr",
     "output_type": "stream",
     "text": [
      "Running experiments:   4%|▋                 | 3/80 [00:00<00:18,  4.17it/s, Model=XGBoost, Status=✓]"
     ]
    },
    {
     "name": "stdout",
     "output_type": "stream",
     "text": [
      "Signal distribution - Strong Decline(0): 234, Slight Decline(1): 704, Slight Rise(2): 776, Strong Rise(3): 329\n"
     ]
    },
    {
     "name": "stderr",
     "output_type": "stream",
     "text": [
      "Running experiments:   5%|▉                 | 4/80 [00:00<00:18,  4.20it/s, Model=XGBoost, Status=✓]"
     ]
    },
    {
     "name": "stdout",
     "output_type": "stream",
     "text": [
      "Signal distribution - Strong Decline(0): 603, Slight Decline(1): 327, Slight Rise(2): 317, Strong Rise(3): 794\n"
     ]
    },
    {
     "name": "stderr",
     "output_type": "stream",
     "text": [
      "Running experiments:   6%|█▏                | 5/80 [00:01<00:17,  4.30it/s, Model=XGBoost, Status=✓]"
     ]
    },
    {
     "name": "stdout",
     "output_type": "stream",
     "text": [
      "Signal distribution - Strong Decline(0): 487, Slight Decline(1): 443, Slight Rise(2): 447, Strong Rise(3): 664\n"
     ]
    },
    {
     "name": "stderr",
     "output_type": "stream",
     "text": [
      "Running experiments:   8%|█▎                | 6/80 [00:01<00:17,  4.21it/s, Model=XGBoost, Status=✓]"
     ]
    },
    {
     "name": "stdout",
     "output_type": "stream",
     "text": [
      "Signal distribution - Strong Decline(0): 400, Slight Decline(1): 530, Slight Rise(2): 539, Strong Rise(3): 572\n"
     ]
    },
    {
     "name": "stderr",
     "output_type": "stream",
     "text": [
      "Running experiments:   9%|█▌                | 7/80 [00:01<00:17,  4.20it/s, Model=XGBoost, Status=✓]"
     ]
    },
    {
     "name": "stdout",
     "output_type": "stream",
     "text": [
      "Signal distribution - Strong Decline(0): 329, Slight Decline(1): 601, Slight Rise(2): 642, Strong Rise(3): 469\n"
     ]
    },
    {
     "name": "stderr",
     "output_type": "stream",
     "text": [
      "Running experiments:  10%|█▊                | 8/80 [00:01<00:16,  4.25it/s, Model=XGBoost, Status=✓]"
     ]
    },
    {
     "name": "stdout",
     "output_type": "stream",
     "text": [
      "Signal distribution - Strong Decline(0): 671, Slight Decline(1): 247, Slight Rise(2): 262, Strong Rise(3): 858\n"
     ]
    },
    {
     "name": "stderr",
     "output_type": "stream",
     "text": [
      "Running experiments:  11%|██                | 9/80 [00:02<00:16,  4.28it/s, Model=XGBoost, Status=✓]"
     ]
    },
    {
     "name": "stdout",
     "output_type": "stream",
     "text": [
      "Signal distribution - Strong Decline(0): 560, Slight Decline(1): 358, Slight Rise(2): 360, Strong Rise(3): 760\n"
     ]
    },
    {
     "name": "stderr",
     "output_type": "stream",
     "text": [
      "Running experiments:  12%|██▏              | 10/80 [00:02<00:18,  3.73it/s, Model=XGBoost, Status=✓]"
     ]
    },
    {
     "name": "stdout",
     "output_type": "stream",
     "text": [
      "Signal distribution - Strong Decline(0): 468, Slight Decline(1): 450, Slight Rise(2): 462, Strong Rise(3): 658\n"
     ]
    },
    {
     "name": "stderr",
     "output_type": "stream",
     "text": [
      "Running experiments:  14%|██▎              | 11/80 [00:02<00:18,  3.81it/s, Model=XGBoost, Status=✓]"
     ]
    },
    {
     "name": "stdout",
     "output_type": "stream",
     "text": [
      "Signal distribution - Strong Decline(0): 386, Slight Decline(1): 532, Slight Rise(2): 560, Strong Rise(3): 560\n"
     ]
    },
    {
     "name": "stderr",
     "output_type": "stream",
     "text": [
      "Running experiments:  15%|██▌              | 12/80 [00:02<00:17,  3.79it/s, Model=XGBoost, Status=✓]"
     ]
    },
    {
     "name": "stdout",
     "output_type": "stream",
     "text": [
      "Signal distribution - Strong Decline(0): 684, Slight Decline(1): 222, Slight Rise(2): 234, Strong Rise(3): 896\n"
     ]
    },
    {
     "name": "stderr",
     "output_type": "stream",
     "text": [
      "Running experiments:  16%|██▊              | 13/80 [00:03<00:17,  3.92it/s, Model=XGBoost, Status=✓]"
     ]
    },
    {
     "name": "stdout",
     "output_type": "stream",
     "text": [
      "Signal distribution - Strong Decline(0): 601, Slight Decline(1): 305, Slight Rise(2): 343, Strong Rise(3): 787\n"
     ]
    },
    {
     "name": "stderr",
     "output_type": "stream",
     "text": [
      "Running experiments:  18%|██▉              | 14/80 [00:03<00:16,  4.01it/s, Model=XGBoost, Status=✓]"
     ]
    },
    {
     "name": "stdout",
     "output_type": "stream",
     "text": [
      "Signal distribution - Strong Decline(0): 511, Slight Decline(1): 395, Slight Rise(2): 421, Strong Rise(3): 709\n"
     ]
    },
    {
     "name": "stderr",
     "output_type": "stream",
     "text": [
      "Running experiments:  19%|███▏             | 15/80 [00:03<00:16,  4.03it/s, Model=XGBoost, Status=✓]"
     ]
    },
    {
     "name": "stdout",
     "output_type": "stream",
     "text": [
      "Signal distribution - Strong Decline(0): 436, Slight Decline(1): 470, Slight Rise(2): 494, Strong Rise(3): 636\n"
     ]
    },
    {
     "name": "stderr",
     "output_type": "stream",
     "text": [
      "Running experiments:  20%|███▍             | 16/80 [00:03<00:16,  3.88it/s, Model=XGBoost, Status=✓]"
     ]
    },
    {
     "name": "stdout",
     "output_type": "stream",
     "text": [
      "Signal distribution - Strong Decline(0): 700, Slight Decline(1): 191, Slight Rise(2): 221, Strong Rise(3): 922\n"
     ]
    },
    {
     "name": "stderr",
     "output_type": "stream",
     "text": [
      "Running experiments:  21%|███▌             | 17/80 [00:04<00:16,  3.92it/s, Model=XGBoost, Status=✓]"
     ]
    },
    {
     "name": "stdout",
     "output_type": "stream",
     "text": [
      "Signal distribution - Strong Decline(0): 595, Slight Decline(1): 296, Slight Rise(2): 310, Strong Rise(3): 833\n"
     ]
    },
    {
     "name": "stderr",
     "output_type": "stream",
     "text": [
      "Running experiments:  22%|███▊             | 18/80 [00:04<00:16,  3.77it/s, Model=XGBoost, Status=✓]"
     ]
    },
    {
     "name": "stdout",
     "output_type": "stream",
     "text": [
      "Signal distribution - Strong Decline(0): 529, Slight Decline(1): 362, Slight Rise(2): 391, Strong Rise(3): 752\n"
     ]
    },
    {
     "name": "stderr",
     "output_type": "stream",
     "text": [
      "Running experiments:  24%|████             | 19/80 [00:04<00:16,  3.81it/s, Model=XGBoost, Status=✓]"
     ]
    },
    {
     "name": "stdout",
     "output_type": "stream",
     "text": [
      "Signal distribution - Strong Decline(0): 460, Slight Decline(1): 431, Slight Rise(2): 467, Strong Rise(3): 676\n"
     ]
    },
    {
     "name": "stderr",
     "output_type": "stream",
     "text": [
      "Running experiments:  25%|████▎            | 20/80 [00:05<00:16,  3.64it/s, Model=XGBoost, Status=✓]"
     ]
    },
    {
     "name": "stdout",
     "output_type": "stream",
     "text": [
      "Signal distribution - Strong Decline(0): 558, Slight Decline(1): 380, Slight Rise(2): 426, Strong Rise(3): 679\n",
      "PyTorch data prepared - Train: torch.Size([1525, 10, 12]), Test: torch.Size([509, 10, 12])\n"
     ]
    },
    {
     "name": "stderr",
     "output_type": "stream",
     "text": [
      "Running experiments:  26%|█████▎              | 21/80 [00:15<03:20,  3.40s/it, Model=LSTM, Status=✓]"
     ]
    },
    {
     "name": "stdout",
     "output_type": "stream",
     "text": [
      "Signal distribution - Strong Decline(0): 417, Slight Decline(1): 521, Slight Rise(2): 560, Strong Rise(3): 545\n",
      "PyTorch data prepared - Train: torch.Size([1525, 10, 12]), Test: torch.Size([509, 10, 12])\n"
     ]
    },
    {
     "name": "stderr",
     "output_type": "stream",
     "text": [
      "Running experiments:  28%|█████▌              | 22/80 [00:24<04:50,  5.01s/it, Model=LSTM, Status=✓]"
     ]
    },
    {
     "name": "stdout",
     "output_type": "stream",
     "text": [
      "Signal distribution - Strong Decline(0): 316, Slight Decline(1): 622, Slight Rise(2): 662, Strong Rise(3): 443\n",
      "PyTorch data prepared - Train: torch.Size([1525, 10, 12]), Test: torch.Size([509, 10, 12])\n"
     ]
    },
    {
     "name": "stderr",
     "output_type": "stream",
     "text": [
      "Running experiments:  29%|█████▊              | 23/80 [00:33<05:56,  6.26s/it, Model=LSTM, Status=✓]"
     ]
    },
    {
     "name": "stdout",
     "output_type": "stream",
     "text": [
      "Signal distribution - Strong Decline(0): 234, Slight Decline(1): 704, Slight Rise(2): 776, Strong Rise(3): 329\n",
      "PyTorch data prepared - Train: torch.Size([1525, 10, 12]), Test: torch.Size([509, 10, 12])\n"
     ]
    },
    {
     "name": "stderr",
     "output_type": "stream",
     "text": [
      "Running experiments:  30%|██████              | 24/80 [00:42<06:35,  7.06s/it, Model=LSTM, Status=✓]"
     ]
    },
    {
     "name": "stdout",
     "output_type": "stream",
     "text": [
      "Signal distribution - Strong Decline(0): 603, Slight Decline(1): 327, Slight Rise(2): 317, Strong Rise(3): 794\n",
      "PyTorch data prepared - Train: torch.Size([1524, 10, 12]), Test: torch.Size([508, 10, 12])\n"
     ]
    },
    {
     "name": "stderr",
     "output_type": "stream",
     "text": [
      "Running experiments:  31%|██████▎             | 25/80 [00:51<06:50,  7.46s/it, Model=LSTM, Status=✓]"
     ]
    },
    {
     "name": "stdout",
     "output_type": "stream",
     "text": [
      "Signal distribution - Strong Decline(0): 487, Slight Decline(1): 443, Slight Rise(2): 447, Strong Rise(3): 664\n",
      "PyTorch data prepared - Train: torch.Size([1524, 10, 12]), Test: torch.Size([508, 10, 12])\n"
     ]
    },
    {
     "name": "stderr",
     "output_type": "stream",
     "text": [
      "Running experiments:  32%|██████▌             | 26/80 [00:59<06:58,  7.75s/it, Model=LSTM, Status=✓]"
     ]
    },
    {
     "name": "stdout",
     "output_type": "stream",
     "text": [
      "Signal distribution - Strong Decline(0): 400, Slight Decline(1): 530, Slight Rise(2): 539, Strong Rise(3): 572\n",
      "PyTorch data prepared - Train: torch.Size([1524, 10, 12]), Test: torch.Size([508, 10, 12])\n"
     ]
    },
    {
     "name": "stderr",
     "output_type": "stream",
     "text": [
      "Running experiments:  34%|██████▊             | 27/80 [01:07<07:02,  7.97s/it, Model=LSTM, Status=✓]"
     ]
    },
    {
     "name": "stdout",
     "output_type": "stream",
     "text": [
      "Signal distribution - Strong Decline(0): 329, Slight Decline(1): 601, Slight Rise(2): 642, Strong Rise(3): 469\n",
      "PyTorch data prepared - Train: torch.Size([1524, 10, 12]), Test: torch.Size([508, 10, 12])\n"
     ]
    },
    {
     "name": "stderr",
     "output_type": "stream",
     "text": [
      "Running experiments:  35%|███████             | 28/80 [01:17<07:12,  8.32s/it, Model=LSTM, Status=✓]"
     ]
    },
    {
     "name": "stdout",
     "output_type": "stream",
     "text": [
      "Signal distribution - Strong Decline(0): 671, Slight Decline(1): 247, Slight Rise(2): 262, Strong Rise(3): 858\n",
      "PyTorch data prepared - Train: torch.Size([1521, 10, 12]), Test: torch.Size([508, 10, 12])\n"
     ]
    },
    {
     "name": "stderr",
     "output_type": "stream",
     "text": [
      "Running experiments:  36%|███████▎            | 29/80 [01:28<07:57,  9.36s/it, Model=LSTM, Status=✓]"
     ]
    },
    {
     "name": "stdout",
     "output_type": "stream",
     "text": [
      "Signal distribution - Strong Decline(0): 560, Slight Decline(1): 358, Slight Rise(2): 360, Strong Rise(3): 760\n",
      "PyTorch data prepared - Train: torch.Size([1521, 10, 12]), Test: torch.Size([508, 10, 12])\n"
     ]
    },
    {
     "name": "stderr",
     "output_type": "stream",
     "text": [
      "Running experiments:  38%|███████▌            | 30/80 [01:38<07:48,  9.37s/it, Model=LSTM, Status=✓]"
     ]
    },
    {
     "name": "stdout",
     "output_type": "stream",
     "text": [
      "Signal distribution - Strong Decline(0): 468, Slight Decline(1): 450, Slight Rise(2): 462, Strong Rise(3): 658\n",
      "PyTorch data prepared - Train: torch.Size([1521, 10, 12]), Test: torch.Size([508, 10, 12])\n"
     ]
    },
    {
     "name": "stderr",
     "output_type": "stream",
     "text": [
      "Running experiments:  39%|███████▊            | 31/80 [01:47<07:41,  9.42s/it, Model=LSTM, Status=✓]"
     ]
    },
    {
     "name": "stdout",
     "output_type": "stream",
     "text": [
      "Signal distribution - Strong Decline(0): 386, Slight Decline(1): 532, Slight Rise(2): 560, Strong Rise(3): 560\n",
      "PyTorch data prepared - Train: torch.Size([1521, 10, 12]), Test: torch.Size([508, 10, 12])\n"
     ]
    },
    {
     "name": "stderr",
     "output_type": "stream",
     "text": [
      "Running experiments:  40%|████████            | 32/80 [01:57<07:41,  9.61s/it, Model=LSTM, Status=✓]"
     ]
    },
    {
     "name": "stdout",
     "output_type": "stream",
     "text": [
      "Signal distribution - Strong Decline(0): 684, Slight Decline(1): 222, Slight Rise(2): 234, Strong Rise(3): 896\n",
      "PyTorch data prepared - Train: torch.Size([1520, 10, 12]), Test: torch.Size([507, 10, 12])\n"
     ]
    },
    {
     "name": "stderr",
     "output_type": "stream",
     "text": [
      "Running experiments:  41%|████████▎           | 33/80 [02:06<07:17,  9.30s/it, Model=LSTM, Status=✓]"
     ]
    },
    {
     "name": "stdout",
     "output_type": "stream",
     "text": [
      "Signal distribution - Strong Decline(0): 601, Slight Decline(1): 305, Slight Rise(2): 343, Strong Rise(3): 787\n",
      "PyTorch data prepared - Train: torch.Size([1520, 10, 12]), Test: torch.Size([507, 10, 12])\n"
     ]
    },
    {
     "name": "stderr",
     "output_type": "stream",
     "text": [
      "Running experiments:  42%|████████▌           | 34/80 [02:17<07:25,  9.69s/it, Model=LSTM, Status=✓]"
     ]
    },
    {
     "name": "stdout",
     "output_type": "stream",
     "text": [
      "Signal distribution - Strong Decline(0): 511, Slight Decline(1): 395, Slight Rise(2): 421, Strong Rise(3): 709\n",
      "PyTorch data prepared - Train: torch.Size([1520, 10, 12]), Test: torch.Size([507, 10, 12])\n"
     ]
    },
    {
     "name": "stderr",
     "output_type": "stream",
     "text": [
      "Running experiments:  44%|████████▊           | 35/80 [02:25<07:02,  9.38s/it, Model=LSTM, Status=✓]"
     ]
    },
    {
     "name": "stdout",
     "output_type": "stream",
     "text": [
      "Signal distribution - Strong Decline(0): 436, Slight Decline(1): 470, Slight Rise(2): 494, Strong Rise(3): 636\n",
      "PyTorch data prepared - Train: torch.Size([1520, 10, 12]), Test: torch.Size([507, 10, 12])\n"
     ]
    },
    {
     "name": "stderr",
     "output_type": "stream",
     "text": [
      "Running experiments:  45%|█████████           | 36/80 [02:35<07:03,  9.62s/it, Model=LSTM, Status=✓]"
     ]
    },
    {
     "name": "stdout",
     "output_type": "stream",
     "text": [
      "Signal distribution - Strong Decline(0): 700, Slight Decline(1): 191, Slight Rise(2): 221, Strong Rise(3): 922\n",
      "PyTorch data prepared - Train: torch.Size([1518, 10, 12]), Test: torch.Size([507, 10, 12])\n"
     ]
    },
    {
     "name": "stderr",
     "output_type": "stream",
     "text": [
      "Running experiments:  46%|█████████▎          | 37/80 [02:45<06:53,  9.62s/it, Model=LSTM, Status=✓]"
     ]
    },
    {
     "name": "stdout",
     "output_type": "stream",
     "text": [
      "Signal distribution - Strong Decline(0): 595, Slight Decline(1): 296, Slight Rise(2): 310, Strong Rise(3): 833\n",
      "PyTorch data prepared - Train: torch.Size([1518, 10, 12]), Test: torch.Size([507, 10, 12])\n"
     ]
    },
    {
     "name": "stderr",
     "output_type": "stream",
     "text": [
      "Running experiments:  48%|█████████▌          | 38/80 [02:55<06:44,  9.63s/it, Model=LSTM, Status=✓]"
     ]
    },
    {
     "name": "stdout",
     "output_type": "stream",
     "text": [
      "Signal distribution - Strong Decline(0): 529, Slight Decline(1): 362, Slight Rise(2): 391, Strong Rise(3): 752\n",
      "PyTorch data prepared - Train: torch.Size([1518, 10, 12]), Test: torch.Size([507, 10, 12])\n"
     ]
    },
    {
     "name": "stderr",
     "output_type": "stream",
     "text": [
      "Running experiments:  49%|█████████▊          | 39/80 [03:04<06:30,  9.52s/it, Model=LSTM, Status=✓]"
     ]
    },
    {
     "name": "stdout",
     "output_type": "stream",
     "text": [
      "Signal distribution - Strong Decline(0): 460, Slight Decline(1): 431, Slight Rise(2): 467, Strong Rise(3): 676\n",
      "PyTorch data prepared - Train: torch.Size([1518, 10, 12]), Test: torch.Size([507, 10, 12])\n"
     ]
    },
    {
     "name": "stderr",
     "output_type": "stream",
     "text": [
      "Running experiments:  50%|██████████          | 40/80 [03:14<06:22,  9.56s/it, Model=LSTM, Status=✓]"
     ]
    },
    {
     "name": "stdout",
     "output_type": "stream",
     "text": [
      "Signal distribution - Strong Decline(0): 558, Slight Decline(1): 380, Slight Rise(2): 426, Strong Rise(3): 679\n",
      "PyTorch data prepared - Train: torch.Size([1525, 10, 12]), Test: torch.Size([509, 10, 12])\n"
     ]
    },
    {
     "name": "stderr",
     "output_type": "stream",
     "text": [
      "Running experiments:  51%|██████████▊          | 41/80 [03:23<06:07,  9.43s/it, Model=GRU, Status=✓]"
     ]
    },
    {
     "name": "stdout",
     "output_type": "stream",
     "text": [
      "Signal distribution - Strong Decline(0): 417, Slight Decline(1): 521, Slight Rise(2): 560, Strong Rise(3): 545\n",
      "PyTorch data prepared - Train: torch.Size([1525, 10, 12]), Test: torch.Size([509, 10, 12])\n"
     ]
    },
    {
     "name": "stderr",
     "output_type": "stream",
     "text": [
      "Running experiments:  52%|███████████          | 42/80 [03:32<05:53,  9.31s/it, Model=GRU, Status=✓]"
     ]
    },
    {
     "name": "stdout",
     "output_type": "stream",
     "text": [
      "Signal distribution - Strong Decline(0): 316, Slight Decline(1): 622, Slight Rise(2): 662, Strong Rise(3): 443\n",
      "PyTorch data prepared - Train: torch.Size([1525, 10, 12]), Test: torch.Size([509, 10, 12])\n"
     ]
    },
    {
     "name": "stderr",
     "output_type": "stream",
     "text": [
      "Running experiments:  54%|███████████▎         | 43/80 [03:41<05:45,  9.33s/it, Model=GRU, Status=✓]"
     ]
    },
    {
     "name": "stdout",
     "output_type": "stream",
     "text": [
      "Signal distribution - Strong Decline(0): 234, Slight Decline(1): 704, Slight Rise(2): 776, Strong Rise(3): 329\n",
      "PyTorch data prepared - Train: torch.Size([1525, 10, 12]), Test: torch.Size([509, 10, 12])\n"
     ]
    },
    {
     "name": "stderr",
     "output_type": "stream",
     "text": [
      "Running experiments:  55%|███████████▌         | 44/80 [03:51<05:39,  9.44s/it, Model=GRU, Status=✓]"
     ]
    },
    {
     "name": "stdout",
     "output_type": "stream",
     "text": [
      "Signal distribution - Strong Decline(0): 603, Slight Decline(1): 327, Slight Rise(2): 317, Strong Rise(3): 794\n",
      "PyTorch data prepared - Train: torch.Size([1524, 10, 12]), Test: torch.Size([508, 10, 12])\n"
     ]
    },
    {
     "name": "stderr",
     "output_type": "stream",
     "text": [
      "Running experiments:  56%|███████████▊         | 45/80 [04:00<05:31,  9.48s/it, Model=GRU, Status=✓]"
     ]
    },
    {
     "name": "stdout",
     "output_type": "stream",
     "text": [
      "Signal distribution - Strong Decline(0): 487, Slight Decline(1): 443, Slight Rise(2): 447, Strong Rise(3): 664\n",
      "PyTorch data prepared - Train: torch.Size([1524, 10, 12]), Test: torch.Size([508, 10, 12])\n"
     ]
    },
    {
     "name": "stderr",
     "output_type": "stream",
     "text": [
      "Running experiments:  57%|████████████         | 46/80 [04:10<05:28,  9.67s/it, Model=GRU, Status=✓]"
     ]
    },
    {
     "name": "stdout",
     "output_type": "stream",
     "text": [
      "Signal distribution - Strong Decline(0): 400, Slight Decline(1): 530, Slight Rise(2): 539, Strong Rise(3): 572\n",
      "PyTorch data prepared - Train: torch.Size([1524, 10, 12]), Test: torch.Size([508, 10, 12])\n"
     ]
    },
    {
     "name": "stderr",
     "output_type": "stream",
     "text": [
      "Running experiments:  59%|████████████▎        | 47/80 [04:20<05:19,  9.69s/it, Model=GRU, Status=✓]"
     ]
    },
    {
     "name": "stdout",
     "output_type": "stream",
     "text": [
      "Signal distribution - Strong Decline(0): 329, Slight Decline(1): 601, Slight Rise(2): 642, Strong Rise(3): 469\n",
      "PyTorch data prepared - Train: torch.Size([1524, 10, 12]), Test: torch.Size([508, 10, 12])\n"
     ]
    },
    {
     "name": "stderr",
     "output_type": "stream",
     "text": [
      "Running experiments:  60%|████████████▌        | 48/80 [04:29<05:02,  9.46s/it, Model=GRU, Status=✓]"
     ]
    },
    {
     "name": "stdout",
     "output_type": "stream",
     "text": [
      "Signal distribution - Strong Decline(0): 671, Slight Decline(1): 247, Slight Rise(2): 262, Strong Rise(3): 858\n",
      "PyTorch data prepared - Train: torch.Size([1521, 10, 12]), Test: torch.Size([508, 10, 12])\n"
     ]
    },
    {
     "name": "stderr",
     "output_type": "stream",
     "text": [
      "Running experiments:  61%|████████████▊        | 49/80 [04:38<04:47,  9.27s/it, Model=GRU, Status=✓]"
     ]
    },
    {
     "name": "stdout",
     "output_type": "stream",
     "text": [
      "Signal distribution - Strong Decline(0): 560, Slight Decline(1): 358, Slight Rise(2): 360, Strong Rise(3): 760\n",
      "PyTorch data prepared - Train: torch.Size([1521, 10, 12]), Test: torch.Size([508, 10, 12])\n"
     ]
    },
    {
     "name": "stderr",
     "output_type": "stream",
     "text": [
      "Running experiments:  62%|█████████████▏       | 50/80 [04:47<04:34,  9.15s/it, Model=GRU, Status=✓]"
     ]
    },
    {
     "name": "stdout",
     "output_type": "stream",
     "text": [
      "Signal distribution - Strong Decline(0): 468, Slight Decline(1): 450, Slight Rise(2): 462, Strong Rise(3): 658\n",
      "PyTorch data prepared - Train: torch.Size([1521, 10, 12]), Test: torch.Size([508, 10, 12])\n"
     ]
    },
    {
     "name": "stderr",
     "output_type": "stream",
     "text": [
      "Running experiments:  64%|█████████████▍       | 51/80 [04:56<04:25,  9.16s/it, Model=GRU, Status=✓]"
     ]
    },
    {
     "name": "stdout",
     "output_type": "stream",
     "text": [
      "Signal distribution - Strong Decline(0): 386, Slight Decline(1): 532, Slight Rise(2): 560, Strong Rise(3): 560\n",
      "PyTorch data prepared - Train: torch.Size([1521, 10, 12]), Test: torch.Size([508, 10, 12])\n"
     ]
    },
    {
     "name": "stderr",
     "output_type": "stream",
     "text": [
      "Running experiments:  65%|█████████████▋       | 52/80 [05:05<04:14,  9.09s/it, Model=GRU, Status=✓]"
     ]
    },
    {
     "name": "stdout",
     "output_type": "stream",
     "text": [
      "Signal distribution - Strong Decline(0): 684, Slight Decline(1): 222, Slight Rise(2): 234, Strong Rise(3): 896\n",
      "PyTorch data prepared - Train: torch.Size([1520, 10, 12]), Test: torch.Size([507, 10, 12])\n"
     ]
    },
    {
     "name": "stderr",
     "output_type": "stream",
     "text": [
      "Running experiments:  66%|█████████████▉       | 53/80 [05:14<04:04,  9.06s/it, Model=GRU, Status=✓]"
     ]
    },
    {
     "name": "stdout",
     "output_type": "stream",
     "text": [
      "Signal distribution - Strong Decline(0): 601, Slight Decline(1): 305, Slight Rise(2): 343, Strong Rise(3): 787\n",
      "PyTorch data prepared - Train: torch.Size([1520, 10, 12]), Test: torch.Size([507, 10, 12])\n"
     ]
    },
    {
     "name": "stderr",
     "output_type": "stream",
     "text": [
      "Running experiments:  68%|██████████████▏      | 54/80 [05:23<03:55,  9.07s/it, Model=GRU, Status=✓]"
     ]
    },
    {
     "name": "stdout",
     "output_type": "stream",
     "text": [
      "Signal distribution - Strong Decline(0): 511, Slight Decline(1): 395, Slight Rise(2): 421, Strong Rise(3): 709\n",
      "PyTorch data prepared - Train: torch.Size([1520, 10, 12]), Test: torch.Size([507, 10, 12])\n"
     ]
    },
    {
     "name": "stderr",
     "output_type": "stream",
     "text": [
      "Running experiments:  69%|██████████████▍      | 55/80 [05:32<03:46,  9.08s/it, Model=GRU, Status=✓]"
     ]
    },
    {
     "name": "stdout",
     "output_type": "stream",
     "text": [
      "Signal distribution - Strong Decline(0): 436, Slight Decline(1): 470, Slight Rise(2): 494, Strong Rise(3): 636\n",
      "PyTorch data prepared - Train: torch.Size([1520, 10, 12]), Test: torch.Size([507, 10, 12])\n"
     ]
    },
    {
     "name": "stderr",
     "output_type": "stream",
     "text": [
      "Running experiments:  70%|██████████████▋      | 56/80 [05:41<03:37,  9.04s/it, Model=GRU, Status=✓]"
     ]
    },
    {
     "name": "stdout",
     "output_type": "stream",
     "text": [
      "Signal distribution - Strong Decline(0): 700, Slight Decline(1): 191, Slight Rise(2): 221, Strong Rise(3): 922\n",
      "PyTorch data prepared - Train: torch.Size([1518, 10, 12]), Test: torch.Size([507, 10, 12])\n"
     ]
    },
    {
     "name": "stderr",
     "output_type": "stream",
     "text": [
      "Running experiments:  71%|██████████████▉      | 57/80 [05:50<03:27,  9.04s/it, Model=GRU, Status=✓]"
     ]
    },
    {
     "name": "stdout",
     "output_type": "stream",
     "text": [
      "Signal distribution - Strong Decline(0): 595, Slight Decline(1): 296, Slight Rise(2): 310, Strong Rise(3): 833\n",
      "PyTorch data prepared - Train: torch.Size([1518, 10, 12]), Test: torch.Size([507, 10, 12])\n"
     ]
    },
    {
     "name": "stderr",
     "output_type": "stream",
     "text": [
      "Running experiments:  72%|███████████████▏     | 58/80 [05:59<03:18,  9.04s/it, Model=GRU, Status=✓]"
     ]
    },
    {
     "name": "stdout",
     "output_type": "stream",
     "text": [
      "Signal distribution - Strong Decline(0): 529, Slight Decline(1): 362, Slight Rise(2): 391, Strong Rise(3): 752\n",
      "PyTorch data prepared - Train: torch.Size([1518, 10, 12]), Test: torch.Size([507, 10, 12])\n"
     ]
    },
    {
     "name": "stderr",
     "output_type": "stream",
     "text": [
      "Running experiments:  74%|███████████████▍     | 59/80 [06:08<03:09,  9.02s/it, Model=GRU, Status=✓]"
     ]
    },
    {
     "name": "stdout",
     "output_type": "stream",
     "text": [
      "Signal distribution - Strong Decline(0): 460, Slight Decline(1): 431, Slight Rise(2): 467, Strong Rise(3): 676\n",
      "PyTorch data prepared - Train: torch.Size([1518, 10, 12]), Test: torch.Size([507, 10, 12])\n"
     ]
    },
    {
     "name": "stderr",
     "output_type": "stream",
     "text": [
      "Running experiments:  75%|███████████████▊     | 60/80 [06:17<03:01,  9.09s/it, Model=GRU, Status=✓]"
     ]
    },
    {
     "name": "stdout",
     "output_type": "stream",
     "text": [
      "Signal distribution - Strong Decline(0): 558, Slight Decline(1): 380, Slight Rise(2): 426, Strong Rise(3): 679\n",
      "PyTorch data prepared - Train: torch.Size([1525, 10, 12]), Test: torch.Size([509, 10, 12])\n"
     ]
    },
    {
     "name": "stderr",
     "output_type": "stream",
     "text": [
      "Running experiments:  76%|████████████████     | 61/80 [06:25<02:44,  8.65s/it, Model=CNN, Status=✓]"
     ]
    },
    {
     "name": "stdout",
     "output_type": "stream",
     "text": [
      "Signal distribution - Strong Decline(0): 417, Slight Decline(1): 521, Slight Rise(2): 560, Strong Rise(3): 545\n",
      "PyTorch data prepared - Train: torch.Size([1525, 10, 12]), Test: torch.Size([509, 10, 12])\n"
     ]
    },
    {
     "name": "stderr",
     "output_type": "stream",
     "text": [
      "Running experiments:  78%|████████████████▎    | 62/80 [06:33<02:29,  8.32s/it, Model=CNN, Status=✓]"
     ]
    },
    {
     "name": "stdout",
     "output_type": "stream",
     "text": [
      "Signal distribution - Strong Decline(0): 316, Slight Decline(1): 622, Slight Rise(2): 662, Strong Rise(3): 443\n",
      "PyTorch data prepared - Train: torch.Size([1525, 10, 12]), Test: torch.Size([509, 10, 12])\n"
     ]
    },
    {
     "name": "stderr",
     "output_type": "stream",
     "text": [
      "Running experiments:  79%|████████████████▌    | 63/80 [06:40<02:17,  8.09s/it, Model=CNN, Status=✓]"
     ]
    },
    {
     "name": "stdout",
     "output_type": "stream",
     "text": [
      "Signal distribution - Strong Decline(0): 234, Slight Decline(1): 704, Slight Rise(2): 776, Strong Rise(3): 329\n",
      "PyTorch data prepared - Train: torch.Size([1525, 10, 12]), Test: torch.Size([509, 10, 12])\n"
     ]
    },
    {
     "name": "stderr",
     "output_type": "stream",
     "text": [
      "Running experiments:  80%|████████████████▊    | 64/80 [06:48<02:07,  7.97s/it, Model=CNN, Status=✓]"
     ]
    },
    {
     "name": "stdout",
     "output_type": "stream",
     "text": [
      "Signal distribution - Strong Decline(0): 603, Slight Decline(1): 327, Slight Rise(2): 317, Strong Rise(3): 794\n",
      "PyTorch data prepared - Train: torch.Size([1524, 10, 12]), Test: torch.Size([508, 10, 12])\n"
     ]
    },
    {
     "name": "stderr",
     "output_type": "stream",
     "text": [
      "Running experiments:  81%|█████████████████    | 65/80 [06:56<01:58,  7.93s/it, Model=CNN, Status=✓]"
     ]
    },
    {
     "name": "stdout",
     "output_type": "stream",
     "text": [
      "Signal distribution - Strong Decline(0): 487, Slight Decline(1): 443, Slight Rise(2): 447, Strong Rise(3): 664\n",
      "PyTorch data prepared - Train: torch.Size([1524, 10, 12]), Test: torch.Size([508, 10, 12])\n"
     ]
    },
    {
     "name": "stderr",
     "output_type": "stream",
     "text": [
      "Running experiments:  82%|█████████████████▎   | 66/80 [07:03<01:50,  7.91s/it, Model=CNN, Status=✓]"
     ]
    },
    {
     "name": "stdout",
     "output_type": "stream",
     "text": [
      "Signal distribution - Strong Decline(0): 400, Slight Decline(1): 530, Slight Rise(2): 539, Strong Rise(3): 572\n",
      "PyTorch data prepared - Train: torch.Size([1524, 10, 12]), Test: torch.Size([508, 10, 12])\n"
     ]
    },
    {
     "name": "stderr",
     "output_type": "stream",
     "text": [
      "Running experiments:  84%|█████████████████▌   | 67/80 [07:11<01:41,  7.84s/it, Model=CNN, Status=✓]"
     ]
    },
    {
     "name": "stdout",
     "output_type": "stream",
     "text": [
      "Signal distribution - Strong Decline(0): 329, Slight Decline(1): 601, Slight Rise(2): 642, Strong Rise(3): 469\n",
      "PyTorch data prepared - Train: torch.Size([1524, 10, 12]), Test: torch.Size([508, 10, 12])\n"
     ]
    },
    {
     "name": "stderr",
     "output_type": "stream",
     "text": [
      "Running experiments:  85%|█████████████████▊   | 68/80 [07:19<01:33,  7.83s/it, Model=CNN, Status=✓]"
     ]
    },
    {
     "name": "stdout",
     "output_type": "stream",
     "text": [
      "Signal distribution - Strong Decline(0): 671, Slight Decline(1): 247, Slight Rise(2): 262, Strong Rise(3): 858\n",
      "PyTorch data prepared - Train: torch.Size([1521, 10, 12]), Test: torch.Size([508, 10, 12])\n"
     ]
    },
    {
     "name": "stderr",
     "output_type": "stream",
     "text": [
      "Running experiments:  86%|██████████████████   | 69/80 [07:27<01:26,  7.85s/it, Model=CNN, Status=✓]"
     ]
    },
    {
     "name": "stdout",
     "output_type": "stream",
     "text": [
      "Signal distribution - Strong Decline(0): 560, Slight Decline(1): 358, Slight Rise(2): 360, Strong Rise(3): 760\n",
      "PyTorch data prepared - Train: torch.Size([1521, 10, 12]), Test: torch.Size([508, 10, 12])\n"
     ]
    },
    {
     "name": "stderr",
     "output_type": "stream",
     "text": [
      "Running experiments:  88%|██████████████████▍  | 70/80 [07:35<01:18,  7.81s/it, Model=CNN, Status=✓]"
     ]
    },
    {
     "name": "stdout",
     "output_type": "stream",
     "text": [
      "Signal distribution - Strong Decline(0): 468, Slight Decline(1): 450, Slight Rise(2): 462, Strong Rise(3): 658\n",
      "PyTorch data prepared - Train: torch.Size([1521, 10, 12]), Test: torch.Size([508, 10, 12])\n"
     ]
    },
    {
     "name": "stderr",
     "output_type": "stream",
     "text": [
      "Running experiments:  89%|██████████████████▋  | 71/80 [07:42<01:10,  7.79s/it, Model=CNN, Status=✓]"
     ]
    },
    {
     "name": "stdout",
     "output_type": "stream",
     "text": [
      "Signal distribution - Strong Decline(0): 386, Slight Decline(1): 532, Slight Rise(2): 560, Strong Rise(3): 560\n",
      "PyTorch data prepared - Train: torch.Size([1521, 10, 12]), Test: torch.Size([508, 10, 12])\n"
     ]
    },
    {
     "name": "stderr",
     "output_type": "stream",
     "text": [
      "Running experiments:  90%|██████████████████▉  | 72/80 [07:50<01:01,  7.68s/it, Model=CNN, Status=✓]"
     ]
    },
    {
     "name": "stdout",
     "output_type": "stream",
     "text": [
      "Signal distribution - Strong Decline(0): 684, Slight Decline(1): 222, Slight Rise(2): 234, Strong Rise(3): 896\n",
      "PyTorch data prepared - Train: torch.Size([1520, 10, 12]), Test: torch.Size([507, 10, 12])\n"
     ]
    },
    {
     "name": "stderr",
     "output_type": "stream",
     "text": [
      "Running experiments:  91%|███████████████████▏ | 73/80 [07:57<00:53,  7.60s/it, Model=CNN, Status=✓]"
     ]
    },
    {
     "name": "stdout",
     "output_type": "stream",
     "text": [
      "Signal distribution - Strong Decline(0): 601, Slight Decline(1): 305, Slight Rise(2): 343, Strong Rise(3): 787\n",
      "PyTorch data prepared - Train: torch.Size([1520, 10, 12]), Test: torch.Size([507, 10, 12])\n"
     ]
    },
    {
     "name": "stderr",
     "output_type": "stream",
     "text": [
      "Running experiments:  92%|███████████████████▍ | 74/80 [08:05<00:46,  7.68s/it, Model=CNN, Status=✓]"
     ]
    },
    {
     "name": "stdout",
     "output_type": "stream",
     "text": [
      "Signal distribution - Strong Decline(0): 511, Slight Decline(1): 395, Slight Rise(2): 421, Strong Rise(3): 709\n",
      "PyTorch data prepared - Train: torch.Size([1520, 10, 12]), Test: torch.Size([507, 10, 12])\n"
     ]
    },
    {
     "name": "stderr",
     "output_type": "stream",
     "text": [
      "Running experiments:  94%|███████████████████▋ | 75/80 [08:13<00:38,  7.68s/it, Model=CNN, Status=✓]"
     ]
    },
    {
     "name": "stdout",
     "output_type": "stream",
     "text": [
      "Signal distribution - Strong Decline(0): 436, Slight Decline(1): 470, Slight Rise(2): 494, Strong Rise(3): 636\n",
      "PyTorch data prepared - Train: torch.Size([1520, 10, 12]), Test: torch.Size([507, 10, 12])\n"
     ]
    },
    {
     "name": "stderr",
     "output_type": "stream",
     "text": [
      "Running experiments:  95%|███████████████████▉ | 76/80 [08:20<00:30,  7.68s/it, Model=CNN, Status=✓]"
     ]
    },
    {
     "name": "stdout",
     "output_type": "stream",
     "text": [
      "Signal distribution - Strong Decline(0): 700, Slight Decline(1): 191, Slight Rise(2): 221, Strong Rise(3): 922\n",
      "PyTorch data prepared - Train: torch.Size([1518, 10, 12]), Test: torch.Size([507, 10, 12])\n"
     ]
    },
    {
     "name": "stderr",
     "output_type": "stream",
     "text": [
      "Running experiments:  96%|████████████████████▏| 77/80 [08:28<00:23,  7.69s/it, Model=CNN, Status=✓]"
     ]
    },
    {
     "name": "stdout",
     "output_type": "stream",
     "text": [
      "Signal distribution - Strong Decline(0): 595, Slight Decline(1): 296, Slight Rise(2): 310, Strong Rise(3): 833\n",
      "PyTorch data prepared - Train: torch.Size([1518, 10, 12]), Test: torch.Size([507, 10, 12])\n"
     ]
    },
    {
     "name": "stderr",
     "output_type": "stream",
     "text": [
      "Running experiments:  98%|████████████████████▍| 78/80 [08:36<00:15,  7.77s/it, Model=CNN, Status=✓]"
     ]
    },
    {
     "name": "stdout",
     "output_type": "stream",
     "text": [
      "Signal distribution - Strong Decline(0): 529, Slight Decline(1): 362, Slight Rise(2): 391, Strong Rise(3): 752\n",
      "PyTorch data prepared - Train: torch.Size([1518, 10, 12]), Test: torch.Size([507, 10, 12])\n"
     ]
    },
    {
     "name": "stderr",
     "output_type": "stream",
     "text": [
      "Running experiments:  99%|████████████████████▋| 79/80 [08:44<00:07,  7.75s/it, Model=CNN, Status=✓]"
     ]
    },
    {
     "name": "stdout",
     "output_type": "stream",
     "text": [
      "Signal distribution - Strong Decline(0): 460, Slight Decline(1): 431, Slight Rise(2): 467, Strong Rise(3): 676\n",
      "PyTorch data prepared - Train: torch.Size([1518, 10, 12]), Test: torch.Size([507, 10, 12])\n"
     ]
    },
    {
     "name": "stderr",
     "output_type": "stream",
     "text": [
      "Running experiments: 100%|█████████████████████| 80/80 [08:51<00:00,  6.65s/it, Model=CNN, Status=✓]"
     ]
    },
    {
     "name": "stdout",
     "output_type": "stream",
     "text": [
      "\n",
      "================================================================================\n",
      "BITCOIN PRICE PREDICTION RESULTS\n",
      "================================================================================\n",
      "\n",
      "Model Performance Summary:\n",
      "Model      Lookahead  Threshold    Accuracy   Loss Count   Loss Mean \n",
      "--------------------------------------------------------------------------------\n",
      "XGBoost    12         0.020        0.711      70           0.0532    \n",
      "XGBoost    12         0.040        0.686      31           0.0388    \n",
      "XGBoost    10         0.020        0.676      87           0.0305    \n",
      "XGBoost    12         0.030        0.672      47           0.0393    \n",
      "XGBoost    8          0.020        0.651      86           0.0385    \n",
      "XGBoost    12         0.050        0.648      37           0.0569    \n",
      "XGBoost    10         0.030        0.635      63           0.0519    \n",
      "XGBoost    8          0.030        0.612      76           0.0454    \n",
      "XGBoost    8          0.050        0.608      29           0.0324    \n",
      "XGBoost    10         0.040        0.603      47           0.0514    \n",
      "XGBoost    10         0.050        0.603      27           0.0536    \n",
      "XGBoost    8          0.040        0.559      56           0.0368    \n",
      "XGBoost    5          0.020        0.542      105          0.0449    \n",
      "XGBoost    5          0.040        0.505      43           0.0414    \n",
      "XGBoost    5          0.050        0.493      42           0.0449    \n",
      "XGBoost    5          0.030        0.489      64           0.0392    \n",
      "XGBoost    3          0.050        0.460      21           0.0658    \n",
      "CNN        3          0.050        0.430      8            0.0216    \n",
      "GRU        3          0.050        0.428      9            0.0105    \n",
      "CNN        12         0.020        0.428      231          0.0497    \n",
      "CNN        10         0.020        0.428      231          0.0488    \n",
      "LSTM       12         0.020        0.428      224          0.0497    \n",
      "XGBoost    3          0.020        0.419      127          0.0352    \n",
      "XGBoost    3          0.030        0.417      66           0.0431    \n",
      "GRU        10         0.020        0.414      231          0.0535    \n",
      "XGBoost    3          0.040        0.411      57           0.0425    \n",
      "GRU        12         0.020        0.396      235          0.0575    \n",
      "LSTM       3          0.050        0.393      14           0.0430    \n",
      "LSTM       10         0.020        0.389      250          0.0541    \n",
      "GRU        10         0.030        0.387      211          0.0462    \n",
      "LSTM       5          0.050        0.380      22           0.0268    \n",
      "CNN        8          0.020        0.370      240          0.0457    \n",
      "GRU        8          0.020        0.360      232          0.0463    \n",
      "LSTM       8          0.020        0.360      238          0.0436    \n",
      "CNN        8          0.030        0.346      214          0.0432    \n",
      "LSTM       10         0.030        0.343      235          0.0539    \n",
      "CNN        10         0.030        0.343      235          0.0522    \n",
      "CNN        12         0.030        0.341      240          0.0533    \n",
      "CNN        12         0.040        0.335      218          0.0507    \n",
      "CNN        5          0.020        0.335      226          0.0375    \n",
      "LSTM       12         0.040        0.333      215          0.0506    \n",
      "GRU        12         0.030        0.329      233          0.0595    \n",
      "CNN        5          0.050        0.329      33           0.0257    \n",
      "CNN        3          0.040        0.318      34           0.0367    \n",
      "LSTM       12         0.030        0.316      247          0.0605    \n",
      "GRU        5          0.020        0.307      249          0.0365    \n",
      "CNN        12         0.050        0.300      214          0.0497    \n",
      "GRU        8          0.030        0.297      242          0.0460    \n",
      "LSTM       3          0.040        0.297      74           0.0337    \n",
      "LSTM       5          0.020        0.293      263          0.0362    \n",
      "CNN        10         0.040        0.290      235          0.0536    \n",
      "GRU        10         0.040        0.290      230          0.0534    \n",
      "CNN        3          0.020        0.289      229          0.0304    \n",
      "CNN        8          0.040        0.287      234          0.0425    \n",
      "LSTM       8          0.030        0.287      245          0.0466    \n",
      "GRU        12         0.040        0.282      241          0.0571    \n",
      "LSTM       10         0.040        0.280      239          0.0537    \n",
      "CNN        10         0.050        0.276      191          0.0476    \n",
      "GRU        3          0.020        0.269      262          0.0288    \n",
      "GRU        3          0.040        0.269      94           0.0341    \n",
      "CNN        5          0.030        0.268      238          0.0363    \n",
      "GRU        5          0.050        0.262      135          0.0337    \n",
      "LSTM       3          0.020        0.261      267          0.0296    \n",
      "LSTM       5          0.030        0.258      237          0.0381    \n",
      "GRU        12         0.050        0.252      214          0.0582    \n",
      "GRU        8          0.040        0.250      239          0.0466    \n",
      "GRU        5          0.030        0.248      244          0.0365    \n",
      "LSTM       10         0.050        0.247      228          0.0531    \n",
      "CNN        3          0.030        0.244      118          0.0284    \n",
      "LSTM       8          0.040        0.240      239          0.0482    \n",
      "GRU        10         0.050        0.237      228          0.0520    \n",
      "LSTM       12         0.050        0.237      219          0.0581    \n",
      "GRU        8          0.050        0.234      194          0.0439    \n",
      "GRU        5          0.040        0.230      245          0.0362    \n",
      "CNN        5          0.040        0.226      178          0.0330    \n",
      "CNN        8          0.050        0.222      234          0.0425    \n",
      "GRU        3          0.030        0.216      229          0.0308    \n",
      "LSTM       5          0.040        0.215      258          0.0363    \n",
      "LSTM       8          0.050        0.203      150          0.0400    \n",
      "LSTM       3          0.030        0.200      235          0.0306    \n",
      "\n",
      "================================================================================\n",
      "BEST CONFIGURATION:\n",
      "Model: XGBoost\n",
      "Accuracy: 0.711 (71.1%)\n",
      "Lookahead: 12 periods\n",
      "Threshold: 0.020\n",
      "Loss Events: 70\n",
      "Average Loss: 0.0532\n",
      "================================================================================\n"
     ]
    },
    {
     "name": "stderr",
     "output_type": "stream",
     "text": [
      "\n"
     ]
    }
   ],
   "source": [
    "\"\"\"\n",
    "Bitcoin Price Prediction - Clean Version\n",
    "Only shows progress bar and final results table\n",
    "\"\"\"\n",
    "\n",
    "import os\n",
    "os.environ['CUDA_LAUNCH_BLOCKING'] = '1'\n",
    "\n",
    "import warnings\n",
    "warnings.filterwarnings('ignore')\n",
    "\n",
    "from experiment_runner_silent import run_silent_experiment\n",
    "\n",
    "def btc_1d():\n",
    "    \"\"\"Main execution - clean output only\"\"\"\n",
    "    \n",
    "    # Configuration\n",
    "    DATA_PATH = r'F:\\up_git\\official_predict\\data\\btc_1d.csv'\n",
    "    \n",
    "    # Create results directory\n",
    "    results_dir = os.path.join('..', '..', 'results')\n",
    "    os.makedirs(results_dir, exist_ok=True)\n",
    "    OUTPUT_FILENAME = '../../results/btc_results_1d_4class.csv'\n",
    "    \n",
    "    # Parameters\n",
    "    LOOKAHEAD_VALUES = [3, 5, 8, 10,12]  # Số ngày dự đoán\n",
    "    THRESHOLD_VALUES = [0.02, 0.03, 0.04, 0.05]  # Ngưỡng phân loại\n",
    "\n",
    "    MODEL_TYPES = ['XGBoost', 'LSTM', 'GRU', 'CNN']\n",
    "    \n",
    "    # Run experiment\n",
    "    run_silent_experiment(\n",
    "        data_path=DATA_PATH,\n",
    "        output_filename=OUTPUT_FILENAME,\n",
    "        lookahead_values=LOOKAHEAD_VALUES,\n",
    "        threshold_values=THRESHOLD_VALUES,\n",
    "        model_types=MODEL_TYPES\n",
    "    )\n",
    "\n",
    "btc_1d()"
   ]
  },
  {
   "cell_type": "code",
   "execution_count": 3,
   "id": "d7c0eb5e",
   "metadata": {},
   "outputs": [
    {
     "name": "stderr",
     "output_type": "stream",
     "text": [
      "Running experiments:   0%|                                                   | 0/80 [00:00<?, ?it/s]"
     ]
    },
    {
     "name": "stdout",
     "output_type": "stream",
     "text": [
      "Signal distribution - Strong Decline(0): 4024, Slight Decline(1): 1935, Slight Rise(2): 2008, Strong Rise(3): 4444\n"
     ]
    },
    {
     "name": "stderr",
     "output_type": "stream",
     "text": [
      "Running experiments:   1%|▏                 | 1/80 [00:00<00:31,  2.54it/s, Model=XGBoost, Status=✓]"
     ]
    },
    {
     "name": "stdout",
     "output_type": "stream",
     "text": [
      "Signal distribution - Strong Decline(0): 2736, Slight Decline(1): 3223, Slight Rise(2): 3332, Strong Rise(3): 3120\n"
     ]
    },
    {
     "name": "stderr",
     "output_type": "stream",
     "text": [
      "Running experiments:   2%|▍                 | 2/80 [00:00<00:33,  2.35it/s, Model=XGBoost, Status=✓]"
     ]
    },
    {
     "name": "stdout",
     "output_type": "stream",
     "text": [
      "Signal distribution - Strong Decline(0): 1380, Slight Decline(1): 4579, Slight Rise(2): 4803, Strong Rise(3): 1649\n"
     ]
    },
    {
     "name": "stderr",
     "output_type": "stream",
     "text": [
      "Running experiments:   4%|▋                 | 3/80 [00:01<00:33,  2.30it/s, Model=XGBoost, Status=✓]"
     ]
    },
    {
     "name": "stdout",
     "output_type": "stream",
     "text": [
      "Signal distribution - Strong Decline(0): 1009, Slight Decline(1): 4950, Slight Rise(2): 5239, Strong Rise(3): 1213\n"
     ]
    },
    {
     "name": "stderr",
     "output_type": "stream",
     "text": [
      "Running experiments:   5%|▉                 | 4/80 [00:01<00:33,  2.24it/s, Model=XGBoost, Status=✓]"
     ]
    },
    {
     "name": "stdout",
     "output_type": "stream",
     "text": [
      "Signal distribution - Strong Decline(0): 4404, Slight Decline(1): 1517, Slight Rise(2): 1539, Strong Rise(3): 4949\n"
     ]
    },
    {
     "name": "stderr",
     "output_type": "stream",
     "text": [
      "Running experiments:   6%|█▏                | 5/80 [00:02<00:32,  2.28it/s, Model=XGBoost, Status=✓]"
     ]
    },
    {
     "name": "stdout",
     "output_type": "stream",
     "text": [
      "Signal distribution - Strong Decline(0): 3363, Slight Decline(1): 2558, Slight Rise(2): 2651, Strong Rise(3): 3837\n"
     ]
    },
    {
     "name": "stderr",
     "output_type": "stream",
     "text": [
      "Running experiments:   8%|█▎                | 6/80 [00:02<00:31,  2.31it/s, Model=XGBoost, Status=✓]"
     ]
    },
    {
     "name": "stdout",
     "output_type": "stream",
     "text": [
      "Signal distribution - Strong Decline(0): 1931, Slight Decline(1): 3990, Slight Rise(2): 4147, Strong Rise(3): 2341\n"
     ]
    },
    {
     "name": "stderr",
     "output_type": "stream",
     "text": [
      "Running experiments:   9%|█▌                | 7/80 [00:03<00:31,  2.34it/s, Model=XGBoost, Status=✓]"
     ]
    },
    {
     "name": "stdout",
     "output_type": "stream",
     "text": [
      "Signal distribution - Strong Decline(0): 1492, Slight Decline(1): 4429, Slight Rise(2): 4659, Strong Rise(3): 1829\n"
     ]
    },
    {
     "name": "stderr",
     "output_type": "stream",
     "text": [
      "Running experiments:  10%|█▊                | 8/80 [00:03<00:31,  2.32it/s, Model=XGBoost, Status=✓]"
     ]
    },
    {
     "name": "stdout",
     "output_type": "stream",
     "text": [
      "Signal distribution - Strong Decline(0): 4701, Slight Decline(1): 1170, Slight Rise(2): 1220, Strong Rise(3): 5315\n"
     ]
    },
    {
     "name": "stderr",
     "output_type": "stream",
     "text": [
      "Running experiments:  11%|██                | 9/80 [00:03<00:30,  2.33it/s, Model=XGBoost, Status=✓]"
     ]
    },
    {
     "name": "stdout",
     "output_type": "stream",
     "text": [
      "Signal distribution - Strong Decline(0): 3774, Slight Decline(1): 2097, Slight Rise(2): 2170, Strong Rise(3): 4365\n"
     ]
    },
    {
     "name": "stderr",
     "output_type": "stream",
     "text": [
      "Running experiments:  12%|██▏              | 10/80 [00:04<00:29,  2.36it/s, Model=XGBoost, Status=✓]"
     ]
    },
    {
     "name": "stdout",
     "output_type": "stream",
     "text": [
      "Signal distribution - Strong Decline(0): 2453, Slight Decline(1): 3418, Slight Rise(2): 3572, Strong Rise(3): 2963\n"
     ]
    },
    {
     "name": "stderr",
     "output_type": "stream",
     "text": [
      "Running experiments:  14%|██▎              | 11/80 [00:04<00:29,  2.34it/s, Model=XGBoost, Status=✓]"
     ]
    },
    {
     "name": "stdout",
     "output_type": "stream",
     "text": [
      "Signal distribution - Strong Decline(0): 1987, Slight Decline(1): 3884, Slight Rise(2): 4065, Strong Rise(3): 2470\n"
     ]
    },
    {
     "name": "stderr",
     "output_type": "stream",
     "text": [
      "Running experiments:  15%|██▌              | 12/80 [00:05<00:28,  2.35it/s, Model=XGBoost, Status=✓]"
     ]
    },
    {
     "name": "stdout",
     "output_type": "stream",
     "text": [
      "Signal distribution - Strong Decline(0): 4876, Slight Decline(1): 979, Slight Rise(2): 1038, Strong Rise(3): 5511\n"
     ]
    },
    {
     "name": "stderr",
     "output_type": "stream",
     "text": [
      "Running experiments:  16%|██▊              | 13/80 [00:05<00:28,  2.37it/s, Model=XGBoost, Status=✓]"
     ]
    },
    {
     "name": "stdout",
     "output_type": "stream",
     "text": [
      "Signal distribution - Strong Decline(0): 3991, Slight Decline(1): 1864, Slight Rise(2): 1877, Strong Rise(3): 4672\n"
     ]
    },
    {
     "name": "stderr",
     "output_type": "stream",
     "text": [
      "Running experiments:  18%|██▉              | 14/80 [00:05<00:27,  2.36it/s, Model=XGBoost, Status=✓]"
     ]
    },
    {
     "name": "stdout",
     "output_type": "stream",
     "text": [
      "Signal distribution - Strong Decline(0): 2681, Slight Decline(1): 3174, Slight Rise(2): 3267, Strong Rise(3): 3282\n"
     ]
    },
    {
     "name": "stderr",
     "output_type": "stream",
     "text": [
      "Running experiments:  19%|███▏             | 15/80 [00:06<00:27,  2.39it/s, Model=XGBoost, Status=✓]"
     ]
    },
    {
     "name": "stdout",
     "output_type": "stream",
     "text": [
      "Signal distribution - Strong Decline(0): 2223, Slight Decline(1): 3632, Slight Rise(2): 3773, Strong Rise(3): 2776\n"
     ]
    },
    {
     "name": "stderr",
     "output_type": "stream",
     "text": [
      "Running experiments:  20%|███▍             | 16/80 [00:06<00:26,  2.39it/s, Model=XGBoost, Status=✓]"
     ]
    },
    {
     "name": "stdout",
     "output_type": "stream",
     "text": [
      "Signal distribution - Strong Decline(0): 4865, Slight Decline(1): 922, Slight Rise(2): 923, Strong Rise(3): 5692\n"
     ]
    },
    {
     "name": "stderr",
     "output_type": "stream",
     "text": [
      "Running experiments:  21%|███▌             | 17/80 [00:07<00:26,  2.41it/s, Model=XGBoost, Status=✓]"
     ]
    },
    {
     "name": "stdout",
     "output_type": "stream",
     "text": [
      "Signal distribution - Strong Decline(0): 4133, Slight Decline(1): 1654, Slight Rise(2): 1746, Strong Rise(3): 4869\n"
     ]
    },
    {
     "name": "stderr",
     "output_type": "stream",
     "text": [
      "Running experiments:  22%|███▊             | 18/80 [00:07<00:26,  2.38it/s, Model=XGBoost, Status=✓]"
     ]
    },
    {
     "name": "stdout",
     "output_type": "stream",
     "text": [
      "Signal distribution - Strong Decline(0): 2895, Slight Decline(1): 2892, Slight Rise(2): 3069, Strong Rise(3): 3546\n"
     ]
    },
    {
     "name": "stderr",
     "output_type": "stream",
     "text": [
      "Running experiments:  24%|████             | 19/80 [00:08<00:25,  2.39it/s, Model=XGBoost, Status=✓]"
     ]
    },
    {
     "name": "stdout",
     "output_type": "stream",
     "text": [
      "Signal distribution - Strong Decline(0): 2411, Slight Decline(1): 3376, Slight Rise(2): 3581, Strong Rise(3): 3034\n"
     ]
    },
    {
     "name": "stderr",
     "output_type": "stream",
     "text": [
      "Running experiments:  25%|████▎            | 20/80 [00:08<00:25,  2.38it/s, Model=XGBoost, Status=✓]"
     ]
    },
    {
     "name": "stdout",
     "output_type": "stream",
     "text": [
      "Signal distribution - Strong Decline(0): 4024, Slight Decline(1): 1935, Slight Rise(2): 2008, Strong Rise(3): 4444\n",
      "PyTorch data prepared - Train: torch.Size([9301, 10, 12]), Test: torch.Size([3101, 10, 12])\n"
     ]
    },
    {
     "name": "stderr",
     "output_type": "stream",
     "text": [
      "Running experiments:  26%|█████▎              | 21/80 [01:07<17:47, 18.10s/it, Model=LSTM, Status=✓]"
     ]
    },
    {
     "name": "stdout",
     "output_type": "stream",
     "text": [
      "Signal distribution - Strong Decline(0): 2736, Slight Decline(1): 3223, Slight Rise(2): 3332, Strong Rise(3): 3120\n",
      "PyTorch data prepared - Train: torch.Size([9301, 10, 12]), Test: torch.Size([3101, 10, 12])\n"
     ]
    },
    {
     "name": "stderr",
     "output_type": "stream",
     "text": [
      "Running experiments:  28%|█████▌              | 22/80 [02:13<31:14, 32.32s/it, Model=LSTM, Status=✓]"
     ]
    },
    {
     "name": "stdout",
     "output_type": "stream",
     "text": [
      "Signal distribution - Strong Decline(0): 1380, Slight Decline(1): 4579, Slight Rise(2): 4803, Strong Rise(3): 1649\n",
      "PyTorch data prepared - Train: torch.Size([9301, 10, 12]), Test: torch.Size([3101, 10, 12])\n"
     ]
    },
    {
     "name": "stderr",
     "output_type": "stream",
     "text": [
      "Running experiments:  29%|█████▊              | 23/80 [03:05<36:24, 38.33s/it, Model=LSTM, Status=✓]"
     ]
    },
    {
     "name": "stdout",
     "output_type": "stream",
     "text": [
      "Signal distribution - Strong Decline(0): 1009, Slight Decline(1): 4950, Slight Rise(2): 5239, Strong Rise(3): 1213\n",
      "PyTorch data prepared - Train: torch.Size([9301, 10, 12]), Test: torch.Size([3101, 10, 12])\n"
     ]
    },
    {
     "name": "stderr",
     "output_type": "stream",
     "text": [
      "Running experiments:  30%|██████              | 24/80 [03:56<39:17, 42.10s/it, Model=LSTM, Status=✓]"
     ]
    },
    {
     "name": "stdout",
     "output_type": "stream",
     "text": [
      "Signal distribution - Strong Decline(0): 4404, Slight Decline(1): 1517, Slight Rise(2): 1539, Strong Rise(3): 4949\n",
      "PyTorch data prepared - Train: torch.Size([9300, 10, 12]), Test: torch.Size([3100, 10, 12])\n"
     ]
    },
    {
     "name": "stderr",
     "output_type": "stream",
     "text": [
      "Running experiments:  31%|██████▎             | 25/80 [04:51<42:12, 46.04s/it, Model=LSTM, Status=✓]"
     ]
    },
    {
     "name": "stdout",
     "output_type": "stream",
     "text": [
      "Signal distribution - Strong Decline(0): 3363, Slight Decline(1): 2558, Slight Rise(2): 2651, Strong Rise(3): 3837\n",
      "PyTorch data prepared - Train: torch.Size([9300, 10, 12]), Test: torch.Size([3100, 10, 12])\n"
     ]
    },
    {
     "name": "stderr",
     "output_type": "stream",
     "text": [
      "Running experiments:  32%|██████▌             | 26/80 [05:53<45:34, 50.64s/it, Model=LSTM, Status=✓]"
     ]
    },
    {
     "name": "stdout",
     "output_type": "stream",
     "text": [
      "Signal distribution - Strong Decline(0): 1931, Slight Decline(1): 3990, Slight Rise(2): 4147, Strong Rise(3): 2341\n",
      "PyTorch data prepared - Train: torch.Size([9300, 10, 12]), Test: torch.Size([3100, 10, 12])\n"
     ]
    },
    {
     "name": "stderr",
     "output_type": "stream",
     "text": [
      "Running experiments:  34%|██████▊             | 27/80 [06:52<46:59, 53.19s/it, Model=LSTM, Status=✓]"
     ]
    },
    {
     "name": "stdout",
     "output_type": "stream",
     "text": [
      "Signal distribution - Strong Decline(0): 1492, Slight Decline(1): 4429, Slight Rise(2): 4659, Strong Rise(3): 1829\n",
      "PyTorch data prepared - Train: torch.Size([9300, 10, 12]), Test: torch.Size([3100, 10, 12])\n"
     ]
    },
    {
     "name": "stderr",
     "output_type": "stream",
     "text": [
      "Running experiments:  35%|███████             | 28/80 [07:48<46:46, 53.96s/it, Model=LSTM, Status=✓]"
     ]
    },
    {
     "name": "stdout",
     "output_type": "stream",
     "text": [
      "Signal distribution - Strong Decline(0): 4701, Slight Decline(1): 1170, Slight Rise(2): 1220, Strong Rise(3): 5315\n",
      "PyTorch data prepared - Train: torch.Size([9297, 10, 12]), Test: torch.Size([3100, 10, 12])\n"
     ]
    },
    {
     "name": "stderr",
     "output_type": "stream",
     "text": [
      "Running experiments:  36%|███████▎            | 29/80 [08:41<45:50, 53.93s/it, Model=LSTM, Status=✓]"
     ]
    },
    {
     "name": "stdout",
     "output_type": "stream",
     "text": [
      "Signal distribution - Strong Decline(0): 3774, Slight Decline(1): 2097, Slight Rise(2): 2170, Strong Rise(3): 4365\n",
      "PyTorch data prepared - Train: torch.Size([9297, 10, 12]), Test: torch.Size([3100, 10, 12])\n"
     ]
    },
    {
     "name": "stderr",
     "output_type": "stream",
     "text": [
      "Running experiments:  38%|███████▌            | 30/80 [09:41<46:28, 55.77s/it, Model=LSTM, Status=✓]"
     ]
    },
    {
     "name": "stdout",
     "output_type": "stream",
     "text": [
      "Signal distribution - Strong Decline(0): 2453, Slight Decline(1): 3418, Slight Rise(2): 3572, Strong Rise(3): 2963\n",
      "PyTorch data prepared - Train: torch.Size([9297, 10, 12]), Test: torch.Size([3100, 10, 12])\n"
     ]
    },
    {
     "name": "stderr",
     "output_type": "stream",
     "text": [
      "Running experiments:  39%|███████▊            | 31/80 [10:46<47:47, 58.51s/it, Model=LSTM, Status=✓]"
     ]
    },
    {
     "name": "stdout",
     "output_type": "stream",
     "text": [
      "Signal distribution - Strong Decline(0): 1987, Slight Decline(1): 3884, Slight Rise(2): 4065, Strong Rise(3): 2470\n",
      "PyTorch data prepared - Train: torch.Size([9297, 10, 12]), Test: torch.Size([3100, 10, 12])\n"
     ]
    },
    {
     "name": "stderr",
     "output_type": "stream",
     "text": [
      "Running experiments:  40%|████████            | 32/80 [11:52<48:31, 60.66s/it, Model=LSTM, Status=✓]"
     ]
    },
    {
     "name": "stdout",
     "output_type": "stream",
     "text": [
      "Signal distribution - Strong Decline(0): 4876, Slight Decline(1): 979, Slight Rise(2): 1038, Strong Rise(3): 5511\n",
      "PyTorch data prepared - Train: torch.Size([9296, 10, 12]), Test: torch.Size([3099, 10, 12])\n"
     ]
    },
    {
     "name": "stderr",
     "output_type": "stream",
     "text": [
      "Running experiments:  41%|████████▎           | 33/80 [12:57<48:34, 62.00s/it, Model=LSTM, Status=✓]"
     ]
    },
    {
     "name": "stdout",
     "output_type": "stream",
     "text": [
      "Signal distribution - Strong Decline(0): 3991, Slight Decline(1): 1864, Slight Rise(2): 1877, Strong Rise(3): 4672\n",
      "PyTorch data prepared - Train: torch.Size([9296, 10, 12]), Test: torch.Size([3099, 10, 12])\n"
     ]
    },
    {
     "name": "stderr",
     "output_type": "stream",
     "text": [
      "Running experiments:  42%|████████▌           | 34/80 [14:01<48:04, 62.70s/it, Model=LSTM, Status=✓]"
     ]
    },
    {
     "name": "stdout",
     "output_type": "stream",
     "text": [
      "Signal distribution - Strong Decline(0): 2681, Slight Decline(1): 3174, Slight Rise(2): 3267, Strong Rise(3): 3282\n",
      "PyTorch data prepared - Train: torch.Size([9296, 10, 12]), Test: torch.Size([3099, 10, 12])\n"
     ]
    },
    {
     "name": "stderr",
     "output_type": "stream",
     "text": [
      "Running experiments:  44%|████████▊           | 35/80 [15:07<47:44, 63.66s/it, Model=LSTM, Status=✓]"
     ]
    },
    {
     "name": "stdout",
     "output_type": "stream",
     "text": [
      "Signal distribution - Strong Decline(0): 2223, Slight Decline(1): 3632, Slight Rise(2): 3773, Strong Rise(3): 2776\n",
      "PyTorch data prepared - Train: torch.Size([9296, 10, 12]), Test: torch.Size([3099, 10, 12])\n"
     ]
    },
    {
     "name": "stderr",
     "output_type": "stream",
     "text": [
      "Running experiments:  45%|█████████           | 36/80 [16:16<47:49, 65.22s/it, Model=LSTM, Status=✓]"
     ]
    },
    {
     "name": "stdout",
     "output_type": "stream",
     "text": [
      "Signal distribution - Strong Decline(0): 4865, Slight Decline(1): 922, Slight Rise(2): 923, Strong Rise(3): 5692\n",
      "PyTorch data prepared - Train: torch.Size([9294, 10, 12]), Test: torch.Size([3099, 10, 12])\n"
     ]
    },
    {
     "name": "stderr",
     "output_type": "stream",
     "text": [
      "Running experiments:  46%|█████████▎          | 37/80 [17:23<46:57, 65.53s/it, Model=LSTM, Status=✓]"
     ]
    },
    {
     "name": "stdout",
     "output_type": "stream",
     "text": [
      "Signal distribution - Strong Decline(0): 4133, Slight Decline(1): 1654, Slight Rise(2): 1746, Strong Rise(3): 4869\n",
      "PyTorch data prepared - Train: torch.Size([9294, 10, 12]), Test: torch.Size([3099, 10, 12])\n"
     ]
    },
    {
     "name": "stderr",
     "output_type": "stream",
     "text": [
      "Running experiments:  48%|█████████▌          | 38/80 [18:25<45:14, 64.64s/it, Model=LSTM, Status=✓]"
     ]
    },
    {
     "name": "stdout",
     "output_type": "stream",
     "text": [
      "Signal distribution - Strong Decline(0): 2895, Slight Decline(1): 2892, Slight Rise(2): 3069, Strong Rise(3): 3546\n",
      "PyTorch data prepared - Train: torch.Size([9294, 10, 12]), Test: torch.Size([3099, 10, 12])\n"
     ]
    },
    {
     "name": "stderr",
     "output_type": "stream",
     "text": [
      "Running experiments:  49%|█████████▊          | 39/80 [19:26<43:23, 63.50s/it, Model=LSTM, Status=✓]"
     ]
    },
    {
     "name": "stdout",
     "output_type": "stream",
     "text": [
      "Signal distribution - Strong Decline(0): 2411, Slight Decline(1): 3376, Slight Rise(2): 3581, Strong Rise(3): 3034\n",
      "PyTorch data prepared - Train: torch.Size([9294, 10, 12]), Test: torch.Size([3099, 10, 12])\n"
     ]
    },
    {
     "name": "stderr",
     "output_type": "stream",
     "text": [
      "Running experiments:  50%|██████████          | 40/80 [20:28<42:03, 63.10s/it, Model=LSTM, Status=✓]"
     ]
    },
    {
     "name": "stdout",
     "output_type": "stream",
     "text": [
      "Signal distribution - Strong Decline(0): 4024, Slight Decline(1): 1935, Slight Rise(2): 2008, Strong Rise(3): 4444\n",
      "PyTorch data prepared - Train: torch.Size([9301, 10, 12]), Test: torch.Size([3101, 10, 12])\n"
     ]
    },
    {
     "name": "stderr",
     "output_type": "stream",
     "text": [
      "Running experiments:  51%|██████████▊          | 41/80 [21:27<40:14, 61.91s/it, Model=GRU, Status=✓]"
     ]
    },
    {
     "name": "stdout",
     "output_type": "stream",
     "text": [
      "Signal distribution - Strong Decline(0): 2736, Slight Decline(1): 3223, Slight Rise(2): 3332, Strong Rise(3): 3120\n",
      "PyTorch data prepared - Train: torch.Size([9301, 10, 12]), Test: torch.Size([3101, 10, 12])\n"
     ]
    },
    {
     "name": "stderr",
     "output_type": "stream",
     "text": [
      "Running experiments:  52%|███████████          | 42/80 [22:29<39:09, 61.83s/it, Model=GRU, Status=✓]"
     ]
    },
    {
     "name": "stdout",
     "output_type": "stream",
     "text": [
      "Signal distribution - Strong Decline(0): 1380, Slight Decline(1): 4579, Slight Rise(2): 4803, Strong Rise(3): 1649\n",
      "PyTorch data prepared - Train: torch.Size([9301, 10, 12]), Test: torch.Size([3101, 10, 12])\n"
     ]
    },
    {
     "name": "stderr",
     "output_type": "stream",
     "text": [
      "Running experiments:  54%|███████████▎         | 43/80 [23:35<38:58, 63.20s/it, Model=GRU, Status=✓]"
     ]
    },
    {
     "name": "stdout",
     "output_type": "stream",
     "text": [
      "Signal distribution - Strong Decline(0): 1009, Slight Decline(1): 4950, Slight Rise(2): 5239, Strong Rise(3): 1213\n",
      "PyTorch data prepared - Train: torch.Size([9301, 10, 12]), Test: torch.Size([3101, 10, 12])\n"
     ]
    },
    {
     "name": "stderr",
     "output_type": "stream",
     "text": [
      "Running experiments:  55%|███████████▌         | 44/80 [24:39<38:04, 63.45s/it, Model=GRU, Status=✓]"
     ]
    },
    {
     "name": "stdout",
     "output_type": "stream",
     "text": [
      "Signal distribution - Strong Decline(0): 4404, Slight Decline(1): 1517, Slight Rise(2): 1539, Strong Rise(3): 4949\n",
      "PyTorch data prepared - Train: torch.Size([9300, 10, 12]), Test: torch.Size([3100, 10, 12])\n"
     ]
    },
    {
     "name": "stderr",
     "output_type": "stream",
     "text": [
      "Running experiments:  56%|███████████▊         | 45/80 [25:44<37:11, 63.76s/it, Model=GRU, Status=✓]"
     ]
    },
    {
     "name": "stdout",
     "output_type": "stream",
     "text": [
      "Signal distribution - Strong Decline(0): 3363, Slight Decline(1): 2558, Slight Rise(2): 2651, Strong Rise(3): 3837\n",
      "PyTorch data prepared - Train: torch.Size([9300, 10, 12]), Test: torch.Size([3100, 10, 12])\n"
     ]
    },
    {
     "name": "stderr",
     "output_type": "stream",
     "text": [
      "Running experiments:  57%|████████████         | 46/80 [26:51<36:42, 64.76s/it, Model=GRU, Status=✓]"
     ]
    },
    {
     "name": "stdout",
     "output_type": "stream",
     "text": [
      "Signal distribution - Strong Decline(0): 1931, Slight Decline(1): 3990, Slight Rise(2): 4147, Strong Rise(3): 2341\n",
      "PyTorch data prepared - Train: torch.Size([9300, 10, 12]), Test: torch.Size([3100, 10, 12])\n"
     ]
    },
    {
     "name": "stderr",
     "output_type": "stream",
     "text": [
      "Running experiments:  59%|████████████▎        | 47/80 [27:51<34:49, 63.33s/it, Model=GRU, Status=✓]"
     ]
    },
    {
     "name": "stdout",
     "output_type": "stream",
     "text": [
      "Signal distribution - Strong Decline(0): 1492, Slight Decline(1): 4429, Slight Rise(2): 4659, Strong Rise(3): 1829\n",
      "PyTorch data prepared - Train: torch.Size([9300, 10, 12]), Test: torch.Size([3100, 10, 12])\n"
     ]
    },
    {
     "name": "stderr",
     "output_type": "stream",
     "text": [
      "Running experiments:  60%|████████████▌        | 48/80 [28:53<33:33, 62.93s/it, Model=GRU, Status=✓]"
     ]
    },
    {
     "name": "stdout",
     "output_type": "stream",
     "text": [
      "Signal distribution - Strong Decline(0): 4701, Slight Decline(1): 1170, Slight Rise(2): 1220, Strong Rise(3): 5315\n",
      "PyTorch data prepared - Train: torch.Size([9297, 10, 12]), Test: torch.Size([3100, 10, 12])\n"
     ]
    },
    {
     "name": "stderr",
     "output_type": "stream",
     "text": [
      "Running experiments:  61%|████████████▊        | 49/80 [30:03<33:42, 65.23s/it, Model=GRU, Status=✓]"
     ]
    },
    {
     "name": "stdout",
     "output_type": "stream",
     "text": [
      "Signal distribution - Strong Decline(0): 3774, Slight Decline(1): 2097, Slight Rise(2): 2170, Strong Rise(3): 4365\n",
      "PyTorch data prepared - Train: torch.Size([9297, 10, 12]), Test: torch.Size([3100, 10, 12])\n"
     ]
    },
    {
     "name": "stderr",
     "output_type": "stream",
     "text": [
      "Running experiments:  62%|█████████████▏       | 50/80 [31:19<34:05, 68.17s/it, Model=GRU, Status=✓]"
     ]
    },
    {
     "name": "stdout",
     "output_type": "stream",
     "text": [
      "Signal distribution - Strong Decline(0): 2453, Slight Decline(1): 3418, Slight Rise(2): 3572, Strong Rise(3): 2963\n",
      "PyTorch data prepared - Train: torch.Size([9297, 10, 12]), Test: torch.Size([3100, 10, 12])\n"
     ]
    },
    {
     "name": "stderr",
     "output_type": "stream",
     "text": [
      "Running experiments:  64%|█████████████▍       | 51/80 [32:31<33:38, 69.61s/it, Model=GRU, Status=✓]"
     ]
    },
    {
     "name": "stdout",
     "output_type": "stream",
     "text": [
      "Signal distribution - Strong Decline(0): 1987, Slight Decline(1): 3884, Slight Rise(2): 4065, Strong Rise(3): 2470\n",
      "PyTorch data prepared - Train: torch.Size([9297, 10, 12]), Test: torch.Size([3100, 10, 12])\n"
     ]
    },
    {
     "name": "stderr",
     "output_type": "stream",
     "text": [
      "Running experiments:  65%|█████████████▋       | 52/80 [33:44<32:55, 70.55s/it, Model=GRU, Status=✓]"
     ]
    },
    {
     "name": "stdout",
     "output_type": "stream",
     "text": [
      "Signal distribution - Strong Decline(0): 4876, Slight Decline(1): 979, Slight Rise(2): 1038, Strong Rise(3): 5511\n",
      "PyTorch data prepared - Train: torch.Size([9296, 10, 12]), Test: torch.Size([3099, 10, 12])\n"
     ]
    },
    {
     "name": "stderr",
     "output_type": "stream",
     "text": [
      "Running experiments:  66%|█████████████▉       | 53/80 [34:53<31:27, 69.90s/it, Model=GRU, Status=✓]"
     ]
    },
    {
     "name": "stdout",
     "output_type": "stream",
     "text": [
      "Signal distribution - Strong Decline(0): 3991, Slight Decline(1): 1864, Slight Rise(2): 1877, Strong Rise(3): 4672\n",
      "PyTorch data prepared - Train: torch.Size([9296, 10, 12]), Test: torch.Size([3099, 10, 12])\n"
     ]
    },
    {
     "name": "stderr",
     "output_type": "stream",
     "text": [
      "Running experiments:  68%|██████████████▏      | 54/80 [36:11<31:27, 72.58s/it, Model=GRU, Status=✓]"
     ]
    },
    {
     "name": "stdout",
     "output_type": "stream",
     "text": [
      "Signal distribution - Strong Decline(0): 2681, Slight Decline(1): 3174, Slight Rise(2): 3267, Strong Rise(3): 3282\n",
      "PyTorch data prepared - Train: torch.Size([9296, 10, 12]), Test: torch.Size([3099, 10, 12])\n"
     ]
    },
    {
     "name": "stderr",
     "output_type": "stream",
     "text": [
      "Running experiments:  69%|██████████████▍      | 55/80 [37:14<28:56, 69.46s/it, Model=GRU, Status=✓]"
     ]
    },
    {
     "name": "stdout",
     "output_type": "stream",
     "text": [
      "Signal distribution - Strong Decline(0): 2223, Slight Decline(1): 3632, Slight Rise(2): 3773, Strong Rise(3): 2776\n",
      "PyTorch data prepared - Train: torch.Size([9296, 10, 12]), Test: torch.Size([3099, 10, 12])\n"
     ]
    },
    {
     "name": "stderr",
     "output_type": "stream",
     "text": [
      "Running experiments:  70%|██████████████▋      | 56/80 [38:22<27:41, 69.25s/it, Model=GRU, Status=✓]"
     ]
    },
    {
     "name": "stdout",
     "output_type": "stream",
     "text": [
      "Signal distribution - Strong Decline(0): 4865, Slight Decline(1): 922, Slight Rise(2): 923, Strong Rise(3): 5692\n",
      "PyTorch data prepared - Train: torch.Size([9294, 10, 12]), Test: torch.Size([3099, 10, 12])\n"
     ]
    },
    {
     "name": "stderr",
     "output_type": "stream",
     "text": [
      "Running experiments:  71%|██████████████▉      | 57/80 [39:30<26:21, 68.76s/it, Model=GRU, Status=✓]"
     ]
    },
    {
     "name": "stdout",
     "output_type": "stream",
     "text": [
      "Signal distribution - Strong Decline(0): 4133, Slight Decline(1): 1654, Slight Rise(2): 1746, Strong Rise(3): 4869\n",
      "PyTorch data prepared - Train: torch.Size([9294, 10, 12]), Test: torch.Size([3099, 10, 12])\n"
     ]
    },
    {
     "name": "stderr",
     "output_type": "stream",
     "text": [
      "Running experiments:  72%|███████████████▏     | 58/80 [40:38<25:09, 68.61s/it, Model=GRU, Status=✓]"
     ]
    },
    {
     "name": "stdout",
     "output_type": "stream",
     "text": [
      "Signal distribution - Strong Decline(0): 2895, Slight Decline(1): 2892, Slight Rise(2): 3069, Strong Rise(3): 3546\n",
      "PyTorch data prepared - Train: torch.Size([9294, 10, 12]), Test: torch.Size([3099, 10, 12])\n"
     ]
    },
    {
     "name": "stderr",
     "output_type": "stream",
     "text": [
      "Running experiments:  74%|███████████████▍     | 59/80 [41:40<23:19, 66.66s/it, Model=GRU, Status=✓]"
     ]
    },
    {
     "name": "stdout",
     "output_type": "stream",
     "text": [
      "Signal distribution - Strong Decline(0): 2411, Slight Decline(1): 3376, Slight Rise(2): 3581, Strong Rise(3): 3034\n",
      "PyTorch data prepared - Train: torch.Size([9294, 10, 12]), Test: torch.Size([3099, 10, 12])\n"
     ]
    },
    {
     "name": "stderr",
     "output_type": "stream",
     "text": [
      "Running experiments:  75%|███████████████▊     | 60/80 [42:47<22:11, 66.55s/it, Model=GRU, Status=✓]"
     ]
    },
    {
     "name": "stdout",
     "output_type": "stream",
     "text": [
      "Signal distribution - Strong Decline(0): 4024, Slight Decline(1): 1935, Slight Rise(2): 2008, Strong Rise(3): 4444\n",
      "PyTorch data prepared - Train: torch.Size([9301, 10, 12]), Test: torch.Size([3101, 10, 12])\n"
     ]
    },
    {
     "name": "stderr",
     "output_type": "stream",
     "text": [
      "Running experiments:  76%|████████████████     | 61/80 [43:40<19:50, 62.65s/it, Model=CNN, Status=✓]"
     ]
    },
    {
     "name": "stdout",
     "output_type": "stream",
     "text": [
      "Signal distribution - Strong Decline(0): 2736, Slight Decline(1): 3223, Slight Rise(2): 3332, Strong Rise(3): 3120\n",
      "PyTorch data prepared - Train: torch.Size([9301, 10, 12]), Test: torch.Size([3101, 10, 12])\n"
     ]
    },
    {
     "name": "stderr",
     "output_type": "stream",
     "text": [
      "Running experiments:  78%|████████████████▎    | 62/80 [44:37<18:16, 60.92s/it, Model=CNN, Status=✓]"
     ]
    },
    {
     "name": "stdout",
     "output_type": "stream",
     "text": [
      "Signal distribution - Strong Decline(0): 1380, Slight Decline(1): 4579, Slight Rise(2): 4803, Strong Rise(3): 1649\n",
      "PyTorch data prepared - Train: torch.Size([9301, 10, 12]), Test: torch.Size([3101, 10, 12])\n"
     ]
    },
    {
     "name": "stderr",
     "output_type": "stream",
     "text": [
      "Running experiments:  79%|████████████████▌    | 63/80 [45:35<17:00, 60.03s/it, Model=CNN, Status=✓]"
     ]
    },
    {
     "name": "stdout",
     "output_type": "stream",
     "text": [
      "Signal distribution - Strong Decline(0): 1009, Slight Decline(1): 4950, Slight Rise(2): 5239, Strong Rise(3): 1213\n",
      "PyTorch data prepared - Train: torch.Size([9301, 10, 12]), Test: torch.Size([3101, 10, 12])\n"
     ]
    },
    {
     "name": "stderr",
     "output_type": "stream",
     "text": [
      "Running experiments:  80%|████████████████▊    | 64/80 [46:24<15:07, 56.69s/it, Model=CNN, Status=✓]"
     ]
    },
    {
     "name": "stdout",
     "output_type": "stream",
     "text": [
      "Signal distribution - Strong Decline(0): 4404, Slight Decline(1): 1517, Slight Rise(2): 1539, Strong Rise(3): 4949\n",
      "PyTorch data prepared - Train: torch.Size([9300, 10, 12]), Test: torch.Size([3100, 10, 12])\n"
     ]
    },
    {
     "name": "stderr",
     "output_type": "stream",
     "text": [
      "Running experiments:  81%|█████████████████    | 65/80 [47:17<13:54, 55.61s/it, Model=CNN, Status=✓]"
     ]
    },
    {
     "name": "stdout",
     "output_type": "stream",
     "text": [
      "Signal distribution - Strong Decline(0): 3363, Slight Decline(1): 2558, Slight Rise(2): 2651, Strong Rise(3): 3837\n",
      "PyTorch data prepared - Train: torch.Size([9300, 10, 12]), Test: torch.Size([3100, 10, 12])\n"
     ]
    },
    {
     "name": "stderr",
     "output_type": "stream",
     "text": [
      "Running experiments:  82%|█████████████████▎   | 66/80 [48:07<12:35, 53.96s/it, Model=CNN, Status=✓]"
     ]
    },
    {
     "name": "stdout",
     "output_type": "stream",
     "text": [
      "Signal distribution - Strong Decline(0): 1931, Slight Decline(1): 3990, Slight Rise(2): 4147, Strong Rise(3): 2341\n",
      "PyTorch data prepared - Train: torch.Size([9300, 10, 12]), Test: torch.Size([3100, 10, 12])\n"
     ]
    },
    {
     "name": "stderr",
     "output_type": "stream",
     "text": [
      "Running experiments:  84%|█████████████████▌   | 67/80 [49:02<11:43, 54.09s/it, Model=CNN, Status=✓]"
     ]
    },
    {
     "name": "stdout",
     "output_type": "stream",
     "text": [
      "Signal distribution - Strong Decline(0): 1492, Slight Decline(1): 4429, Slight Rise(2): 4659, Strong Rise(3): 1829\n",
      "PyTorch data prepared - Train: torch.Size([9300, 10, 12]), Test: torch.Size([3100, 10, 12])\n"
     ]
    },
    {
     "name": "stderr",
     "output_type": "stream",
     "text": [
      "Running experiments:  85%|█████████████████▊   | 68/80 [49:55<10:47, 53.94s/it, Model=CNN, Status=✓]"
     ]
    },
    {
     "name": "stdout",
     "output_type": "stream",
     "text": [
      "Signal distribution - Strong Decline(0): 4701, Slight Decline(1): 1170, Slight Rise(2): 1220, Strong Rise(3): 5315\n",
      "PyTorch data prepared - Train: torch.Size([9297, 10, 12]), Test: torch.Size([3100, 10, 12])\n"
     ]
    },
    {
     "name": "stderr",
     "output_type": "stream",
     "text": [
      "Running experiments:  86%|██████████████████   | 69/80 [50:52<10:01, 54.70s/it, Model=CNN, Status=✓]"
     ]
    },
    {
     "name": "stdout",
     "output_type": "stream",
     "text": [
      "Signal distribution - Strong Decline(0): 3774, Slight Decline(1): 2097, Slight Rise(2): 2170, Strong Rise(3): 4365\n",
      "PyTorch data prepared - Train: torch.Size([9297, 10, 12]), Test: torch.Size([3100, 10, 12])\n"
     ]
    },
    {
     "name": "stderr",
     "output_type": "stream",
     "text": [
      "Running experiments:  88%|██████████████████▍  | 70/80 [51:40<08:48, 52.87s/it, Model=CNN, Status=✓]"
     ]
    },
    {
     "name": "stdout",
     "output_type": "stream",
     "text": [
      "Signal distribution - Strong Decline(0): 2453, Slight Decline(1): 3418, Slight Rise(2): 3572, Strong Rise(3): 2963\n",
      "PyTorch data prepared - Train: torch.Size([9297, 10, 12]), Test: torch.Size([3100, 10, 12])\n"
     ]
    },
    {
     "name": "stderr",
     "output_type": "stream",
     "text": [
      "Running experiments:  89%|██████████████████▋  | 71/80 [52:29<07:46, 51.80s/it, Model=CNN, Status=✓]"
     ]
    },
    {
     "name": "stdout",
     "output_type": "stream",
     "text": [
      "Signal distribution - Strong Decline(0): 1987, Slight Decline(1): 3884, Slight Rise(2): 4065, Strong Rise(3): 2470\n",
      "PyTorch data prepared - Train: torch.Size([9297, 10, 12]), Test: torch.Size([3100, 10, 12])\n"
     ]
    },
    {
     "name": "stderr",
     "output_type": "stream",
     "text": [
      "Running experiments:  90%|██████████████████▉  | 72/80 [53:22<06:55, 51.96s/it, Model=CNN, Status=✓]"
     ]
    },
    {
     "name": "stdout",
     "output_type": "stream",
     "text": [
      "Signal distribution - Strong Decline(0): 4876, Slight Decline(1): 979, Slight Rise(2): 1038, Strong Rise(3): 5511\n",
      "PyTorch data prepared - Train: torch.Size([9296, 10, 12]), Test: torch.Size([3099, 10, 12])\n"
     ]
    },
    {
     "name": "stderr",
     "output_type": "stream",
     "text": [
      "Running experiments:  91%|███████████████████▏ | 73/80 [54:16<06:08, 52.60s/it, Model=CNN, Status=✓]"
     ]
    },
    {
     "name": "stdout",
     "output_type": "stream",
     "text": [
      "Signal distribution - Strong Decline(0): 3991, Slight Decline(1): 1864, Slight Rise(2): 1877, Strong Rise(3): 4672\n",
      "PyTorch data prepared - Train: torch.Size([9296, 10, 12]), Test: torch.Size([3099, 10, 12])\n"
     ]
    },
    {
     "name": "stderr",
     "output_type": "stream",
     "text": [
      "Running experiments:  92%|███████████████████▍ | 74/80 [55:07<05:13, 52.24s/it, Model=CNN, Status=✓]"
     ]
    },
    {
     "name": "stdout",
     "output_type": "stream",
     "text": [
      "Signal distribution - Strong Decline(0): 2681, Slight Decline(1): 3174, Slight Rise(2): 3267, Strong Rise(3): 3282\n",
      "PyTorch data prepared - Train: torch.Size([9296, 10, 12]), Test: torch.Size([3099, 10, 12])\n"
     ]
    },
    {
     "name": "stderr",
     "output_type": "stream",
     "text": [
      "Running experiments:  94%|███████████████████▋ | 75/80 [55:57<04:18, 51.61s/it, Model=CNN, Status=✓]"
     ]
    },
    {
     "name": "stdout",
     "output_type": "stream",
     "text": [
      "Signal distribution - Strong Decline(0): 2223, Slight Decline(1): 3632, Slight Rise(2): 3773, Strong Rise(3): 2776\n",
      "PyTorch data prepared - Train: torch.Size([9296, 10, 12]), Test: torch.Size([3099, 10, 12])\n"
     ]
    },
    {
     "name": "stderr",
     "output_type": "stream",
     "text": [
      "Running experiments:  95%|███████████████████▉ | 76/80 [56:48<03:25, 51.26s/it, Model=CNN, Status=✓]"
     ]
    },
    {
     "name": "stdout",
     "output_type": "stream",
     "text": [
      "Signal distribution - Strong Decline(0): 4865, Slight Decline(1): 922, Slight Rise(2): 923, Strong Rise(3): 5692\n",
      "PyTorch data prepared - Train: torch.Size([9294, 10, 12]), Test: torch.Size([3099, 10, 12])\n"
     ]
    },
    {
     "name": "stderr",
     "output_type": "stream",
     "text": [
      "Running experiments:  96%|████████████████████▏| 77/80 [57:41<02:35, 51.95s/it, Model=CNN, Status=✓]"
     ]
    },
    {
     "name": "stdout",
     "output_type": "stream",
     "text": [
      "Signal distribution - Strong Decline(0): 4133, Slight Decline(1): 1654, Slight Rise(2): 1746, Strong Rise(3): 4869\n",
      "PyTorch data prepared - Train: torch.Size([9294, 10, 12]), Test: torch.Size([3099, 10, 12])\n"
     ]
    },
    {
     "name": "stderr",
     "output_type": "stream",
     "text": [
      "Running experiments:  98%|████████████████████▍| 78/80 [58:33<01:43, 51.90s/it, Model=CNN, Status=✓]"
     ]
    },
    {
     "name": "stdout",
     "output_type": "stream",
     "text": [
      "Signal distribution - Strong Decline(0): 2895, Slight Decline(1): 2892, Slight Rise(2): 3069, Strong Rise(3): 3546\n",
      "PyTorch data prepared - Train: torch.Size([9294, 10, 12]), Test: torch.Size([3099, 10, 12])\n"
     ]
    },
    {
     "name": "stderr",
     "output_type": "stream",
     "text": [
      "Running experiments:  99%|████████████████████▋| 79/80 [59:25<00:51, 51.95s/it, Model=CNN, Status=✓]"
     ]
    },
    {
     "name": "stdout",
     "output_type": "stream",
     "text": [
      "Signal distribution - Strong Decline(0): 2411, Slight Decline(1): 3376, Slight Rise(2): 3581, Strong Rise(3): 3034\n",
      "PyTorch data prepared - Train: torch.Size([9294, 10, 12]), Test: torch.Size([3099, 10, 12])\n"
     ]
    },
    {
     "name": "stderr",
     "output_type": "stream",
     "text": [
      "Running experiments: 100%|███████████████████| 80/80 [1:00:16<00:00, 45.21s/it, Model=CNN, Status=✓]"
     ]
    },
    {
     "name": "stdout",
     "output_type": "stream",
     "text": [
      "\n",
      "================================================================================\n",
      "BITCOIN PRICE PREDICTION RESULTS\n",
      "================================================================================\n",
      "\n",
      "Model Performance Summary:\n",
      "Model      Lookahead  Threshold    Accuracy   Loss Count   Loss Mean \n",
      "--------------------------------------------------------------------------------\n",
      "XGBoost    12         0.005        0.661      794          0.0214    \n",
      "XGBoost    10         0.005        0.622      889          0.0209    \n",
      "XGBoost    8          0.005        0.604      894          0.0180    \n",
      "XGBoost    12         0.010        0.585      776          0.0223    \n",
      "XGBoost    12         0.025        0.556      250          0.0331    \n",
      "XGBoost    10         0.010        0.555      785          0.0218    \n",
      "XGBoost    12         0.020        0.549      441          0.0283    \n",
      "XGBoost    10         0.020        0.537      356          0.0287    \n",
      "XGBoost    10         0.025        0.534      201          0.0334    \n",
      "XGBoost    5          0.005        0.533      961          0.0174    \n",
      "XGBoost    8          0.010        0.510      811          0.0213    \n",
      "XGBoost    8          0.025        0.505      158          0.0340    \n",
      "XGBoost    8          0.020        0.486      285          0.0261    \n",
      "XGBoost    3          0.025        0.467      34           0.0242    \n",
      "XGBoost    5          0.025        0.466      71           0.0286    \n",
      "GRU        3          0.025        0.447      20           0.0124    \n",
      "LSTM       3          0.025        0.445      6            0.0041    \n",
      "XGBoost    5          0.010        0.443      780          0.0188    \n",
      "CNN        12         0.005        0.443      1490         0.0239    \n",
      "CNN        3          0.025        0.441      7            0.0090    \n",
      "XGBoost    5          0.020        0.440      150          0.0242    \n",
      "XGBoost    3          0.020        0.437      84           0.0198    \n",
      "XGBoost    3          0.005        0.428      1163         0.0139    \n",
      "CNN        3          0.020        0.425      0            0.0000    \n",
      "GRU        12         0.005        0.424      1551         0.0243    \n",
      "LSTM       12         0.005        0.421      1552         0.0254    \n",
      "CNN        10         0.005        0.420      1536         0.0222    \n",
      "LSTM       10         0.005        0.419      1527         0.0217    \n",
      "CNN        8          0.005        0.415      1487         0.0199    \n",
      "LSTM       8          0.005        0.414      1476         0.0201    \n",
      "GRU        3          0.020        0.413      21           0.0134    \n",
      "GRU        8          0.005        0.411      1508         0.0199    \n",
      "GRU        10         0.005        0.400      1592         0.0233    \n",
      "CNN        5          0.025        0.395      14           0.0207    \n",
      "LSTM       5          0.025        0.395      79           0.0146    \n",
      "LSTM       5          0.005        0.389      1504         0.0161    \n",
      "GRU        5          0.025        0.388      61           0.0136    \n",
      "LSTM       3          0.020        0.378      236          0.0161    \n",
      "XGBoost    3          0.010        0.373      529          0.0164    \n",
      "CNN        5          0.005        0.369      1547         0.0163    \n",
      "CNN        5          0.020        0.368      45           0.0240    \n",
      "LSTM       5          0.020        0.367      79           0.0132    \n",
      "CNN        12         0.010        0.366      1541         0.0243    \n",
      "GRU        5          0.005        0.365      1583         0.0162    \n",
      "CNN        8          0.025        0.361      10           0.0232    \n",
      "CNN        10         0.010        0.355      1517         0.0213    \n",
      "CNN        3          0.005        0.349      1484         0.0124    \n",
      "GRU        5          0.020        0.348      284          0.0203    \n",
      "GRU        3          0.005        0.344      1461         0.0128    \n",
      "GRU        12         0.010        0.344      1547         0.0251    \n",
      "LSTM       3          0.005        0.343      1515         0.0122    \n",
      "GRU        10         0.010        0.335      1538         0.0226    \n",
      "LSTM       12         0.010        0.327      1612         0.0255    \n",
      "CNN        8          0.010        0.323      1484         0.0197    \n",
      "CNN        8          0.020        0.317      60           0.0342    \n",
      "GRU        8          0.010        0.313      1502         0.0199    \n",
      "LSTM       8          0.025        0.308      336          0.0255    \n",
      "LSTM       8          0.010        0.305      1540         0.0201    \n",
      "LSTM       10         0.010        0.303      1639         0.0233    \n",
      "CNN        10         0.025        0.297      458          0.0221    \n",
      "GRU        8          0.025        0.277      479          0.0222    \n",
      "LSTM       5          0.010        0.275      1470         0.0160    \n",
      "CNN        5          0.010        0.271      1523         0.0158    \n",
      "GRU        5          0.010        0.263      1452         0.0162    \n",
      "CNN        12         0.020        0.259      1395         0.0234    \n",
      "LSTM       12         0.020        0.246      1390         0.0241    \n",
      "CNN        12         0.025        0.241      876          0.0246    \n",
      "CNN        10         0.020        0.240      893          0.0214    \n",
      "LSTM       3          0.010        0.240      1288         0.0123    \n",
      "LSTM       12         0.025        0.238      988          0.0242    \n",
      "GRU        12         0.020        0.236      1408         0.0254    \n",
      "CNN        3          0.010        0.235      1321         0.0127    \n",
      "LSTM       8          0.020        0.233      1096         0.0195    \n",
      "GRU        3          0.010        0.226      1385         0.0122    \n",
      "GRU        10         0.020        0.223      1260         0.0238    \n",
      "LSTM       10         0.025        0.222      1018         0.0212    \n",
      "GRU        8          0.020        0.208      1116         0.0213    \n",
      "GRU        12         0.025        0.206      1194         0.0254    \n",
      "GRU        10         0.025        0.203      1104         0.0231    \n",
      "LSTM       10         0.020        0.192      1332         0.0232    \n",
      "\n",
      "================================================================================\n",
      "BEST CONFIGURATION:\n",
      "Model: XGBoost\n",
      "Accuracy: 0.661 (66.1%)\n",
      "Lookahead: 12 periods\n",
      "Threshold: 0.005\n",
      "Loss Events: 794\n",
      "Average Loss: 0.0214\n",
      "================================================================================\n"
     ]
    },
    {
     "name": "stderr",
     "output_type": "stream",
     "text": [
      "\n"
     ]
    }
   ],
   "source": [
    "def btc_4h():\n",
    "    \"\"\"Main execution - clean output only\"\"\"\n",
    "    \n",
    "    # Configuration\n",
    "    DATA_PATH = r'F:\\up_git\\official_predict\\data\\btc_4h.csv'\n",
    "    \n",
    "    # Create results directory\n",
    "    results_dir = os.path.join('..', '..', 'results')\n",
    "    os.makedirs(results_dir, exist_ok=True)\n",
    "    OUTPUT_FILENAME = '../../results/btc_results_4h_4class.csv'\n",
    "    \n",
    "    # Parameters\n",
    "    LOOKAHEAD_VALUES = [3, 5, 8, 10, 12]  \n",
    "    THRESHOLD_VALUES = [0.005, 0.01, 0.02, 0.025]  # Ngưỡng phân loại\n",
    "\n",
    "    MODEL_TYPES = ['XGBoost', 'LSTM', 'GRU', 'CNN']\n",
    "    \n",
    "    # Run experiment\n",
    "    run_silent_experiment(\n",
    "        data_path=DATA_PATH,\n",
    "        output_filename=OUTPUT_FILENAME,\n",
    "        lookahead_values=LOOKAHEAD_VALUES,\n",
    "        threshold_values=THRESHOLD_VALUES,\n",
    "        model_types=MODEL_TYPES\n",
    "    )\n",
    "\n",
    "btc_4h()"
   ]
  },
  {
   "cell_type": "code",
   "execution_count": 4,
   "id": "890498a7",
   "metadata": {},
   "outputs": [
    {
     "name": "stderr",
     "output_type": "stream",
     "text": [
      "Running experiments:   0%|                                                   | 0/80 [00:00<?, ?it/s]"
     ]
    },
    {
     "name": "stdout",
     "output_type": "stream",
     "text": [
      "Signal distribution - Strong Decline(0): 30349, Slight Decline(1): 18425, Slight Rise(2): 18456, Strong Rise(3): 32196\n"
     ]
    },
    {
     "name": "stderr",
     "output_type": "stream",
     "text": [
      "Running experiments:   1%|▏                 | 1/80 [00:01<01:45,  1.34s/it, Model=XGBoost, Status=✓]"
     ]
    },
    {
     "name": "stdout",
     "output_type": "stream",
     "text": [
      "Signal distribution - Strong Decline(0): 15258, Slight Decline(1): 33516, Slight Rise(2): 34363, Strong Rise(3): 16289\n"
     ]
    },
    {
     "name": "stderr",
     "output_type": "stream",
     "text": [
      "Running experiments:   2%|▍                 | 2/80 [00:02<01:47,  1.38s/it, Model=XGBoost, Status=✓]"
     ]
    },
    {
     "name": "stdout",
     "output_type": "stream",
     "text": [
      "Signal distribution - Strong Decline(0): 6109, Slight Decline(1): 42665, Slight Rise(2): 44250, Strong Rise(3): 6402\n"
     ]
    },
    {
     "name": "stderr",
     "output_type": "stream",
     "text": [
      "Running experiments:   4%|▋                 | 3/80 [00:04<01:44,  1.36s/it, Model=XGBoost, Status=✓]"
     ]
    },
    {
     "name": "stdout",
     "output_type": "stream",
     "text": [
      "Signal distribution - Strong Decline(0): 2988, Slight Decline(1): 45786, Slight Rise(2): 47587, Strong Rise(3): 3065\n"
     ]
    },
    {
     "name": "stderr",
     "output_type": "stream",
     "text": [
      "Running experiments:   5%|▉                 | 4/80 [00:05<01:44,  1.38s/it, Model=XGBoost, Status=✓]"
     ]
    },
    {
     "name": "stdout",
     "output_type": "stream",
     "text": [
      "Signal distribution - Strong Decline(0): 33374, Slight Decline(1): 15116, Slight Rise(2): 15299, Strong Rise(3): 35635\n"
     ]
    },
    {
     "name": "stderr",
     "output_type": "stream",
     "text": [
      "Running experiments:   6%|█▏                | 5/80 [00:06<01:42,  1.36s/it, Model=XGBoost, Status=✓]"
     ]
    },
    {
     "name": "stdout",
     "output_type": "stream",
     "text": [
      "Signal distribution - Strong Decline(0): 19465, Slight Decline(1): 29025, Slight Rise(2): 30091, Strong Rise(3): 20843\n"
     ]
    },
    {
     "name": "stderr",
     "output_type": "stream",
     "text": [
      "Running experiments:   8%|█▎                | 6/80 [00:08<01:42,  1.38s/it, Model=XGBoost, Status=✓]"
     ]
    },
    {
     "name": "stdout",
     "output_type": "stream",
     "text": [
      "Signal distribution - Strong Decline(0): 9033, Slight Decline(1): 39457, Slight Rise(2): 41217, Strong Rise(3): 9717\n"
     ]
    },
    {
     "name": "stderr",
     "output_type": "stream",
     "text": [
      "Running experiments:   9%|█▌                | 7/80 [00:09<01:38,  1.35s/it, Model=XGBoost, Status=✓]"
     ]
    },
    {
     "name": "stdout",
     "output_type": "stream",
     "text": [
      "Signal distribution - Strong Decline(0): 4969, Slight Decline(1): 43521, Slight Rise(2): 45712, Strong Rise(3): 5222\n"
     ]
    },
    {
     "name": "stderr",
     "output_type": "stream",
     "text": [
      "Running experiments:  10%|█▊                | 8/80 [00:10<01:34,  1.31s/it, Model=XGBoost, Status=✓]"
     ]
    },
    {
     "name": "stdout",
     "output_type": "stream",
     "text": [
      "Signal distribution - Strong Decline(0): 35998, Slight Decline(1): 12302, Slight Rise(2): 12424, Strong Rise(3): 38697\n"
     ]
    },
    {
     "name": "stderr",
     "output_type": "stream",
     "text": [
      "Running experiments:  11%|██                | 9/80 [00:11<01:30,  1.28s/it, Model=XGBoost, Status=✓]"
     ]
    },
    {
     "name": "stdout",
     "output_type": "stream",
     "text": [
      "Signal distribution - Strong Decline(0): 23255, Slight Decline(1): 25045, Slight Rise(2): 25752, Strong Rise(3): 25369\n"
     ]
    },
    {
     "name": "stderr",
     "output_type": "stream",
     "text": [
      "Running experiments:  12%|██▏              | 10/80 [00:13<01:28,  1.26s/it, Model=XGBoost, Status=✓]"
     ]
    },
    {
     "name": "stdout",
     "output_type": "stream",
     "text": [
      "Signal distribution - Strong Decline(0): 12427, Slight Decline(1): 35873, Slight Rise(2): 37533, Strong Rise(3): 13588\n"
     ]
    },
    {
     "name": "stderr",
     "output_type": "stream",
     "text": [
      "Running experiments:  14%|██▎              | 11/80 [00:14<01:25,  1.24s/it, Model=XGBoost, Status=✓]"
     ]
    },
    {
     "name": "stdout",
     "output_type": "stream",
     "text": [
      "Signal distribution - Strong Decline(0): 7326, Slight Decline(1): 40974, Slight Rise(2): 43091, Strong Rise(3): 8030\n"
     ]
    },
    {
     "name": "stderr",
     "output_type": "stream",
     "text": [
      "Running experiments:  15%|██▌              | 12/80 [00:15<01:24,  1.24s/it, Model=XGBoost, Status=✓]"
     ]
    },
    {
     "name": "stdout",
     "output_type": "stream",
     "text": [
      "Signal distribution - Strong Decline(0): 37111, Slight Decline(1): 11144, Slight Rise(2): 11289, Strong Rise(3): 39875\n"
     ]
    },
    {
     "name": "stderr",
     "output_type": "stream",
     "text": [
      "Running experiments:  16%|██▊              | 13/80 [00:16<01:22,  1.24s/it, Model=XGBoost, Status=✓]"
     ]
    },
    {
     "name": "stdout",
     "output_type": "stream",
     "text": [
      "Signal distribution - Strong Decline(0): 25068, Slight Decline(1): 23187, Slight Rise(2): 23659, Strong Rise(3): 27505\n"
     ]
    },
    {
     "name": "stderr",
     "output_type": "stream",
     "text": [
      "Running experiments:  18%|██▉              | 14/80 [00:18<01:22,  1.24s/it, Model=XGBoost, Status=✓]"
     ]
    },
    {
     "name": "stdout",
     "output_type": "stream",
     "text": [
      "Signal distribution - Strong Decline(0): 14240, Slight Decline(1): 34015, Slight Rise(2): 35409, Strong Rise(3): 15755\n"
     ]
    },
    {
     "name": "stderr",
     "output_type": "stream",
     "text": [
      "Running experiments:  19%|███▏             | 15/80 [00:19<01:21,  1.25s/it, Model=XGBoost, Status=✓]"
     ]
    },
    {
     "name": "stdout",
     "output_type": "stream",
     "text": [
      "Signal distribution - Strong Decline(0): 8676, Slight Decline(1): 39579, Slight Rise(2): 41556, Strong Rise(3): 9608\n"
     ]
    },
    {
     "name": "stderr",
     "output_type": "stream",
     "text": [
      "Running experiments:  20%|███▍             | 16/80 [00:20<01:20,  1.25s/it, Model=XGBoost, Status=✓]"
     ]
    },
    {
     "name": "stdout",
     "output_type": "stream",
     "text": [
      "Signal distribution - Strong Decline(0): 37993, Slight Decline(1): 10246, Slight Rise(2): 10299, Strong Rise(3): 40879\n"
     ]
    },
    {
     "name": "stderr",
     "output_type": "stream",
     "text": [
      "Running experiments:  21%|███▌             | 17/80 [00:21<01:19,  1.26s/it, Model=XGBoost, Status=✓]"
     ]
    },
    {
     "name": "stdout",
     "output_type": "stream",
     "text": [
      "Signal distribution - Strong Decline(0): 26507, Slight Decline(1): 21732, Slight Rise(2): 22066, Strong Rise(3): 29112\n"
     ]
    },
    {
     "name": "stderr",
     "output_type": "stream",
     "text": [
      "Running experiments:  22%|███▊             | 18/80 [00:23<01:17,  1.25s/it, Model=XGBoost, Status=✓]"
     ]
    },
    {
     "name": "stdout",
     "output_type": "stream",
     "text": [
      "Signal distribution - Strong Decline(0): 15659, Slight Decline(1): 32580, Slight Rise(2): 33781, Strong Rise(3): 17397\n"
     ]
    },
    {
     "name": "stderr",
     "output_type": "stream",
     "text": [
      "Running experiments:  24%|████             | 19/80 [00:24<01:16,  1.26s/it, Model=XGBoost, Status=✓]"
     ]
    },
    {
     "name": "stdout",
     "output_type": "stream",
     "text": [
      "Signal distribution - Strong Decline(0): 9819, Slight Decline(1): 38420, Slight Rise(2): 40057, Strong Rise(3): 11121\n"
     ]
    },
    {
     "name": "stderr",
     "output_type": "stream",
     "text": [
      "Running experiments:  25%|████▎            | 20/80 [00:25<01:15,  1.26s/it, Model=XGBoost, Status=✓]"
     ]
    },
    {
     "name": "stdout",
     "output_type": "stream",
     "text": [
      "Signal distribution - Strong Decline(0): 30349, Slight Decline(1): 18425, Slight Rise(2): 18456, Strong Rise(3): 32196\n",
      "PyTorch data prepared - Train: torch.Size([74562, 10, 12]), Test: torch.Size([24855, 10, 12])\n"
     ]
    },
    {
     "name": "stderr",
     "output_type": "stream",
     "text": [
      "Running experiments:  26%|████▍            | 21/80 [09:51<2:47:52, 170.71s/it, Model=LSTM, Status=✓]"
     ]
    },
    {
     "name": "stdout",
     "output_type": "stream",
     "text": [
      "Signal distribution - Strong Decline(0): 15258, Slight Decline(1): 33516, Slight Rise(2): 34363, Strong Rise(3): 16289\n",
      "PyTorch data prepared - Train: torch.Size([74562, 10, 12]), Test: torch.Size([24855, 10, 12])\n"
     ]
    },
    {
     "name": "stderr",
     "output_type": "stream",
     "text": [
      "Running experiments:  28%|████▋            | 22/80 [18:44<4:30:14, 279.56s/it, Model=LSTM, Status=✓]"
     ]
    },
    {
     "name": "stdout",
     "output_type": "stream",
     "text": [
      "Signal distribution - Strong Decline(0): 6109, Slight Decline(1): 42665, Slight Rise(2): 44250, Strong Rise(3): 6402\n",
      "PyTorch data prepared - Train: torch.Size([74562, 10, 12]), Test: torch.Size([24855, 10, 12])\n"
     ]
    },
    {
     "name": "stderr",
     "output_type": "stream",
     "text": [
      "Running experiments:  29%|████▉            | 23/80 [25:54<5:08:28, 324.71s/it, Model=LSTM, Status=✓]"
     ]
    },
    {
     "name": "stdout",
     "output_type": "stream",
     "text": [
      "Signal distribution - Strong Decline(0): 2988, Slight Decline(1): 45786, Slight Rise(2): 47587, Strong Rise(3): 3065\n",
      "PyTorch data prepared - Train: torch.Size([74562, 10, 12]), Test: torch.Size([24855, 10, 12])\n"
     ]
    },
    {
     "name": "stderr",
     "output_type": "stream",
     "text": [
      "Running experiments:  30%|█████            | 24/80 [32:21<5:20:18, 343.18s/it, Model=LSTM, Status=✓]"
     ]
    },
    {
     "name": "stdout",
     "output_type": "stream",
     "text": [
      "Signal distribution - Strong Decline(0): 33374, Slight Decline(1): 15116, Slight Rise(2): 15299, Strong Rise(3): 35635\n",
      "PyTorch data prepared - Train: torch.Size([74561, 10, 12]), Test: torch.Size([24854, 10, 12])\n"
     ]
    },
    {
     "name": "stderr",
     "output_type": "stream",
     "text": [
      "Running experiments:  31%|█████▎           | 25/80 [38:50<5:27:09, 356.90s/it, Model=LSTM, Status=✓]"
     ]
    },
    {
     "name": "stdout",
     "output_type": "stream",
     "text": [
      "Signal distribution - Strong Decline(0): 19465, Slight Decline(1): 29025, Slight Rise(2): 30091, Strong Rise(3): 20843\n",
      "PyTorch data prepared - Train: torch.Size([74561, 10, 12]), Test: torch.Size([24854, 10, 12])\n"
     ]
    },
    {
     "name": "stderr",
     "output_type": "stream",
     "text": [
      "Running experiments:  32%|█████▌           | 26/80 [45:45<5:36:57, 374.40s/it, Model=LSTM, Status=✓]"
     ]
    },
    {
     "name": "stdout",
     "output_type": "stream",
     "text": [
      "Signal distribution - Strong Decline(0): 9033, Slight Decline(1): 39457, Slight Rise(2): 41217, Strong Rise(3): 9717\n",
      "PyTorch data prepared - Train: torch.Size([74561, 10, 12]), Test: torch.Size([24854, 10, 12])\n"
     ]
    },
    {
     "name": "stderr",
     "output_type": "stream",
     "text": [
      "Running experiments:  34%|█████▋           | 27/80 [52:41<5:41:52, 387.02s/it, Model=LSTM, Status=✓]"
     ]
    },
    {
     "name": "stdout",
     "output_type": "stream",
     "text": [
      "Signal distribution - Strong Decline(0): 4969, Slight Decline(1): 43521, Slight Rise(2): 45712, Strong Rise(3): 5222\n",
      "PyTorch data prepared - Train: torch.Size([74561, 10, 12]), Test: torch.Size([24854, 10, 12])\n"
     ]
    },
    {
     "name": "stderr",
     "output_type": "stream",
     "text": [
      "Running experiments:  35%|█████▉           | 28/80 [59:35<5:42:16, 394.93s/it, Model=LSTM, Status=✓]"
     ]
    },
    {
     "name": "stdout",
     "output_type": "stream",
     "text": [
      "Signal distribution - Strong Decline(0): 35998, Slight Decline(1): 12302, Slight Rise(2): 12424, Strong Rise(3): 38697\n",
      "PyTorch data prepared - Train: torch.Size([74559, 10, 12]), Test: torch.Size([24853, 10, 12])\n"
     ]
    },
    {
     "name": "stderr",
     "output_type": "stream",
     "text": [
      "Running experiments:  36%|█████▍         | 29/80 [1:06:44<5:44:27, 405.24s/it, Model=LSTM, Status=✓]"
     ]
    },
    {
     "name": "stdout",
     "output_type": "stream",
     "text": [
      "Signal distribution - Strong Decline(0): 23255, Slight Decline(1): 25045, Slight Rise(2): 25752, Strong Rise(3): 25369\n",
      "PyTorch data prepared - Train: torch.Size([74559, 10, 12]), Test: torch.Size([24853, 10, 12])\n"
     ]
    },
    {
     "name": "stderr",
     "output_type": "stream",
     "text": [
      "Running experiments:  38%|█████▋         | 30/80 [1:13:48<5:42:23, 410.87s/it, Model=LSTM, Status=✓]"
     ]
    },
    {
     "name": "stdout",
     "output_type": "stream",
     "text": [
      "Signal distribution - Strong Decline(0): 12427, Slight Decline(1): 35873, Slight Rise(2): 37533, Strong Rise(3): 13588\n",
      "PyTorch data prepared - Train: torch.Size([74559, 10, 12]), Test: torch.Size([24853, 10, 12])\n"
     ]
    },
    {
     "name": "stderr",
     "output_type": "stream",
     "text": [
      "Running experiments:  39%|█████▊         | 31/80 [1:20:52<5:38:52, 414.95s/it, Model=LSTM, Status=✓]"
     ]
    },
    {
     "name": "stdout",
     "output_type": "stream",
     "text": [
      "Signal distribution - Strong Decline(0): 7326, Slight Decline(1): 40974, Slight Rise(2): 43091, Strong Rise(3): 8030\n",
      "PyTorch data prepared - Train: torch.Size([74559, 10, 12]), Test: torch.Size([24853, 10, 12])\n"
     ]
    },
    {
     "name": "stderr",
     "output_type": "stream",
     "text": [
      "Running experiments:  40%|██████         | 32/80 [1:27:56<5:33:58, 417.47s/it, Model=LSTM, Status=✓]"
     ]
    },
    {
     "name": "stdout",
     "output_type": "stream",
     "text": [
      "Signal distribution - Strong Decline(0): 37111, Slight Decline(1): 11144, Slight Rise(2): 11289, Strong Rise(3): 39875\n",
      "PyTorch data prepared - Train: torch.Size([74557, 10, 12]), Test: torch.Size([24853, 10, 12])\n"
     ]
    },
    {
     "name": "stderr",
     "output_type": "stream",
     "text": [
      "Running experiments:  41%|██████▏        | 33/80 [1:34:58<5:28:05, 418.83s/it, Model=LSTM, Status=✓]"
     ]
    },
    {
     "name": "stdout",
     "output_type": "stream",
     "text": [
      "Signal distribution - Strong Decline(0): 25068, Slight Decline(1): 23187, Slight Rise(2): 23659, Strong Rise(3): 27505\n",
      "PyTorch data prepared - Train: torch.Size([74557, 10, 12]), Test: torch.Size([24853, 10, 12])\n"
     ]
    },
    {
     "name": "stderr",
     "output_type": "stream",
     "text": [
      "Running experiments:  42%|██████▍        | 34/80 [1:42:01<5:22:11, 420.25s/it, Model=LSTM, Status=✓]"
     ]
    },
    {
     "name": "stdout",
     "output_type": "stream",
     "text": [
      "Signal distribution - Strong Decline(0): 14240, Slight Decline(1): 34015, Slight Rise(2): 35409, Strong Rise(3): 15755\n",
      "PyTorch data prepared - Train: torch.Size([74557, 10, 12]), Test: torch.Size([24853, 10, 12])\n"
     ]
    },
    {
     "name": "stderr",
     "output_type": "stream",
     "text": [
      "Running experiments:  44%|██████▌        | 35/80 [1:49:04<5:15:48, 421.08s/it, Model=LSTM, Status=✓]"
     ]
    },
    {
     "name": "stdout",
     "output_type": "stream",
     "text": [
      "Signal distribution - Strong Decline(0): 8676, Slight Decline(1): 39579, Slight Rise(2): 41556, Strong Rise(3): 9608\n",
      "PyTorch data prepared - Train: torch.Size([74557, 10, 12]), Test: torch.Size([24853, 10, 12])\n"
     ]
    },
    {
     "name": "stderr",
     "output_type": "stream",
     "text": [
      "Running experiments:  45%|██████▊        | 36/80 [1:56:06<5:08:59, 421.35s/it, Model=LSTM, Status=✓]"
     ]
    },
    {
     "name": "stdout",
     "output_type": "stream",
     "text": [
      "Signal distribution - Strong Decline(0): 37993, Slight Decline(1): 10246, Slight Rise(2): 10299, Strong Rise(3): 40879\n",
      "PyTorch data prepared - Train: torch.Size([74556, 10, 12]), Test: torch.Size([24852, 10, 12])\n"
     ]
    },
    {
     "name": "stderr",
     "output_type": "stream",
     "text": [
      "Running experiments:  46%|██████▉        | 37/80 [2:03:11<5:02:35, 422.22s/it, Model=LSTM, Status=✓]"
     ]
    },
    {
     "name": "stdout",
     "output_type": "stream",
     "text": [
      "Signal distribution - Strong Decline(0): 26507, Slight Decline(1): 21732, Slight Rise(2): 22066, Strong Rise(3): 29112\n",
      "PyTorch data prepared - Train: torch.Size([74556, 10, 12]), Test: torch.Size([24852, 10, 12])\n"
     ]
    },
    {
     "name": "stderr",
     "output_type": "stream",
     "text": [
      "Running experiments:  48%|███████▏       | 38/80 [2:10:14<4:55:48, 422.58s/it, Model=LSTM, Status=✓]"
     ]
    },
    {
     "name": "stdout",
     "output_type": "stream",
     "text": [
      "Signal distribution - Strong Decline(0): 15659, Slight Decline(1): 32580, Slight Rise(2): 33781, Strong Rise(3): 17397\n",
      "PyTorch data prepared - Train: torch.Size([74556, 10, 12]), Test: torch.Size([24852, 10, 12])\n"
     ]
    },
    {
     "name": "stderr",
     "output_type": "stream",
     "text": [
      "Running experiments:  49%|███████▎       | 39/80 [2:17:17<4:48:56, 422.85s/it, Model=LSTM, Status=✓]"
     ]
    },
    {
     "name": "stdout",
     "output_type": "stream",
     "text": [
      "Signal distribution - Strong Decline(0): 9819, Slight Decline(1): 38420, Slight Rise(2): 40057, Strong Rise(3): 11121\n",
      "PyTorch data prepared - Train: torch.Size([74556, 10, 12]), Test: torch.Size([24852, 10, 12])\n"
     ]
    },
    {
     "name": "stderr",
     "output_type": "stream",
     "text": [
      "Running experiments:  50%|███████▌       | 40/80 [2:24:20<4:41:52, 422.80s/it, Model=LSTM, Status=✓]"
     ]
    },
    {
     "name": "stdout",
     "output_type": "stream",
     "text": [
      "Signal distribution - Strong Decline(0): 30349, Slight Decline(1): 18425, Slight Rise(2): 18456, Strong Rise(3): 32196\n",
      "PyTorch data prepared - Train: torch.Size([74562, 10, 12]), Test: torch.Size([24855, 10, 12])\n"
     ]
    },
    {
     "name": "stderr",
     "output_type": "stream",
     "text": [
      "Running experiments:  51%|████████▏       | 41/80 [2:31:04<4:31:12, 417.24s/it, Model=GRU, Status=✓]"
     ]
    },
    {
     "name": "stdout",
     "output_type": "stream",
     "text": [
      "Signal distribution - Strong Decline(0): 15258, Slight Decline(1): 33516, Slight Rise(2): 34363, Strong Rise(3): 16289\n",
      "PyTorch data prepared - Train: torch.Size([74562, 10, 12]), Test: torch.Size([24855, 10, 12])\n"
     ]
    },
    {
     "name": "stderr",
     "output_type": "stream",
     "text": [
      "Running experiments:  52%|████████▍       | 42/80 [2:37:50<4:22:04, 413.80s/it, Model=GRU, Status=✓]"
     ]
    },
    {
     "name": "stdout",
     "output_type": "stream",
     "text": [
      "Signal distribution - Strong Decline(0): 6109, Slight Decline(1): 42665, Slight Rise(2): 44250, Strong Rise(3): 6402\n",
      "PyTorch data prepared - Train: torch.Size([74562, 10, 12]), Test: torch.Size([24855, 10, 12])\n"
     ]
    },
    {
     "name": "stderr",
     "output_type": "stream",
     "text": [
      "Running experiments:  54%|████████▌       | 43/80 [2:44:36<4:13:46, 411.52s/it, Model=GRU, Status=✓]"
     ]
    },
    {
     "name": "stdout",
     "output_type": "stream",
     "text": [
      "Signal distribution - Strong Decline(0): 2988, Slight Decline(1): 45786, Slight Rise(2): 47587, Strong Rise(3): 3065\n",
      "PyTorch data prepared - Train: torch.Size([74562, 10, 12]), Test: torch.Size([24855, 10, 12])\n"
     ]
    },
    {
     "name": "stderr",
     "output_type": "stream",
     "text": [
      "Running experiments:  55%|████████▊       | 44/80 [2:51:24<4:06:07, 410.21s/it, Model=GRU, Status=✓]"
     ]
    },
    {
     "name": "stdout",
     "output_type": "stream",
     "text": [
      "Signal distribution - Strong Decline(0): 33374, Slight Decline(1): 15116, Slight Rise(2): 15299, Strong Rise(3): 35635\n",
      "PyTorch data prepared - Train: torch.Size([74561, 10, 12]), Test: torch.Size([24854, 10, 12])\n"
     ]
    },
    {
     "name": "stderr",
     "output_type": "stream",
     "text": [
      "Running experiments:  56%|█████████       | 45/80 [2:58:09<3:58:28, 408.82s/it, Model=GRU, Status=✓]"
     ]
    },
    {
     "name": "stdout",
     "output_type": "stream",
     "text": [
      "Signal distribution - Strong Decline(0): 19465, Slight Decline(1): 29025, Slight Rise(2): 30091, Strong Rise(3): 20843\n",
      "PyTorch data prepared - Train: torch.Size([74561, 10, 12]), Test: torch.Size([24854, 10, 12])\n"
     ]
    },
    {
     "name": "stderr",
     "output_type": "stream",
     "text": [
      "Running experiments:  57%|█████████▏      | 46/80 [3:04:55<3:51:08, 407.91s/it, Model=GRU, Status=✓]"
     ]
    },
    {
     "name": "stdout",
     "output_type": "stream",
     "text": [
      "Signal distribution - Strong Decline(0): 9033, Slight Decline(1): 39457, Slight Rise(2): 41217, Strong Rise(3): 9717\n",
      "PyTorch data prepared - Train: torch.Size([74561, 10, 12]), Test: torch.Size([24854, 10, 12])\n"
     ]
    },
    {
     "name": "stderr",
     "output_type": "stream",
     "text": [
      "Running experiments:  59%|█████████▍      | 47/80 [3:11:42<3:44:12, 407.65s/it, Model=GRU, Status=✓]"
     ]
    },
    {
     "name": "stdout",
     "output_type": "stream",
     "text": [
      "Signal distribution - Strong Decline(0): 4969, Slight Decline(1): 43521, Slight Rise(2): 45712, Strong Rise(3): 5222\n",
      "PyTorch data prepared - Train: torch.Size([74561, 10, 12]), Test: torch.Size([24854, 10, 12])\n"
     ]
    },
    {
     "name": "stderr",
     "output_type": "stream",
     "text": [
      "Running experiments:  60%|█████████▌      | 48/80 [3:18:29<3:37:16, 407.39s/it, Model=GRU, Status=✓]"
     ]
    },
    {
     "name": "stdout",
     "output_type": "stream",
     "text": [
      "Signal distribution - Strong Decline(0): 35998, Slight Decline(1): 12302, Slight Rise(2): 12424, Strong Rise(3): 38697\n",
      "PyTorch data prepared - Train: torch.Size([74559, 10, 12]), Test: torch.Size([24853, 10, 12])\n"
     ]
    },
    {
     "name": "stderr",
     "output_type": "stream",
     "text": [
      "Running experiments:  61%|█████████▊      | 49/80 [3:25:14<3:30:08, 406.73s/it, Model=GRU, Status=✓]"
     ]
    },
    {
     "name": "stdout",
     "output_type": "stream",
     "text": [
      "Signal distribution - Strong Decline(0): 23255, Slight Decline(1): 25045, Slight Rise(2): 25752, Strong Rise(3): 25369\n",
      "PyTorch data prepared - Train: torch.Size([74559, 10, 12]), Test: torch.Size([24853, 10, 12])\n"
     ]
    },
    {
     "name": "stderr",
     "output_type": "stream",
     "text": [
      "Running experiments:  62%|██████████      | 50/80 [3:32:00<3:23:17, 406.57s/it, Model=GRU, Status=✓]"
     ]
    },
    {
     "name": "stdout",
     "output_type": "stream",
     "text": [
      "Signal distribution - Strong Decline(0): 12427, Slight Decline(1): 35873, Slight Rise(2): 37533, Strong Rise(3): 13588\n",
      "PyTorch data prepared - Train: torch.Size([74559, 10, 12]), Test: torch.Size([24853, 10, 12])\n"
     ]
    },
    {
     "name": "stderr",
     "output_type": "stream",
     "text": [
      "Running experiments:  64%|██████████▏     | 51/80 [3:38:47<3:16:31, 406.60s/it, Model=GRU, Status=✓]"
     ]
    },
    {
     "name": "stdout",
     "output_type": "stream",
     "text": [
      "Signal distribution - Strong Decline(0): 7326, Slight Decline(1): 40974, Slight Rise(2): 43091, Strong Rise(3): 8030\n",
      "PyTorch data prepared - Train: torch.Size([74559, 10, 12]), Test: torch.Size([24853, 10, 12])\n"
     ]
    },
    {
     "name": "stderr",
     "output_type": "stream",
     "text": [
      "Running experiments:  65%|██████████▍     | 52/80 [3:45:32<3:09:36, 406.30s/it, Model=GRU, Status=✓]"
     ]
    },
    {
     "name": "stdout",
     "output_type": "stream",
     "text": [
      "Signal distribution - Strong Decline(0): 37111, Slight Decline(1): 11144, Slight Rise(2): 11289, Strong Rise(3): 39875\n",
      "PyTorch data prepared - Train: torch.Size([74557, 10, 12]), Test: torch.Size([24853, 10, 12])\n"
     ]
    },
    {
     "name": "stderr",
     "output_type": "stream",
     "text": [
      "Running experiments:  66%|██████████▌     | 53/80 [3:52:18<3:02:47, 406.21s/it, Model=GRU, Status=✓]"
     ]
    },
    {
     "name": "stdout",
     "output_type": "stream",
     "text": [
      "Signal distribution - Strong Decline(0): 25068, Slight Decline(1): 23187, Slight Rise(2): 23659, Strong Rise(3): 27505\n",
      "PyTorch data prepared - Train: torch.Size([74557, 10, 12]), Test: torch.Size([24853, 10, 12])\n"
     ]
    },
    {
     "name": "stderr",
     "output_type": "stream",
     "text": [
      "Running experiments:  68%|██████████▊     | 54/80 [3:59:04<2:55:58, 406.09s/it, Model=GRU, Status=✓]"
     ]
    },
    {
     "name": "stdout",
     "output_type": "stream",
     "text": [
      "Signal distribution - Strong Decline(0): 14240, Slight Decline(1): 34015, Slight Rise(2): 35409, Strong Rise(3): 15755\n",
      "PyTorch data prepared - Train: torch.Size([74557, 10, 12]), Test: torch.Size([24853, 10, 12])\n"
     ]
    },
    {
     "name": "stderr",
     "output_type": "stream",
     "text": [
      "Running experiments:  69%|███████████     | 55/80 [4:05:51<2:49:20, 406.41s/it, Model=GRU, Status=✓]"
     ]
    },
    {
     "name": "stdout",
     "output_type": "stream",
     "text": [
      "Signal distribution - Strong Decline(0): 8676, Slight Decline(1): 39579, Slight Rise(2): 41556, Strong Rise(3): 9608\n",
      "PyTorch data prepared - Train: torch.Size([74557, 10, 12]), Test: torch.Size([24853, 10, 12])\n"
     ]
    },
    {
     "name": "stderr",
     "output_type": "stream",
     "text": [
      "Running experiments:  70%|███████████▏    | 56/80 [4:12:37<2:42:30, 406.25s/it, Model=GRU, Status=✓]"
     ]
    },
    {
     "name": "stdout",
     "output_type": "stream",
     "text": [
      "Signal distribution - Strong Decline(0): 37993, Slight Decline(1): 10246, Slight Rise(2): 10299, Strong Rise(3): 40879\n",
      "PyTorch data prepared - Train: torch.Size([74556, 10, 12]), Test: torch.Size([24852, 10, 12])\n"
     ]
    },
    {
     "name": "stderr",
     "output_type": "stream",
     "text": [
      "Running experiments:  71%|███████████▍    | 57/80 [4:19:23<2:35:38, 406.03s/it, Model=GRU, Status=✓]"
     ]
    },
    {
     "name": "stdout",
     "output_type": "stream",
     "text": [
      "Signal distribution - Strong Decline(0): 26507, Slight Decline(1): 21732, Slight Rise(2): 22066, Strong Rise(3): 29112\n",
      "PyTorch data prepared - Train: torch.Size([74556, 10, 12]), Test: torch.Size([24852, 10, 12])\n"
     ]
    },
    {
     "name": "stderr",
     "output_type": "stream",
     "text": [
      "Running experiments:  72%|███████████▌    | 58/80 [4:26:10<2:29:00, 406.38s/it, Model=GRU, Status=✓]"
     ]
    },
    {
     "name": "stdout",
     "output_type": "stream",
     "text": [
      "Signal distribution - Strong Decline(0): 15659, Slight Decline(1): 32580, Slight Rise(2): 33781, Strong Rise(3): 17397\n",
      "PyTorch data prepared - Train: torch.Size([74556, 10, 12]), Test: torch.Size([24852, 10, 12])\n"
     ]
    },
    {
     "name": "stderr",
     "output_type": "stream",
     "text": [
      "Running experiments:  74%|███████████▊    | 59/80 [4:32:56<2:22:12, 406.33s/it, Model=GRU, Status=✓]"
     ]
    },
    {
     "name": "stdout",
     "output_type": "stream",
     "text": [
      "Signal distribution - Strong Decline(0): 9819, Slight Decline(1): 38420, Slight Rise(2): 40057, Strong Rise(3): 11121\n",
      "PyTorch data prepared - Train: torch.Size([74556, 10, 12]), Test: torch.Size([24852, 10, 12])\n"
     ]
    },
    {
     "name": "stderr",
     "output_type": "stream",
     "text": [
      "Running experiments:  75%|████████████    | 60/80 [4:39:42<2:15:24, 406.23s/it, Model=GRU, Status=✓]"
     ]
    },
    {
     "name": "stdout",
     "output_type": "stream",
     "text": [
      "Signal distribution - Strong Decline(0): 30349, Slight Decline(1): 18425, Slight Rise(2): 18456, Strong Rise(3): 32196\n",
      "PyTorch data prepared - Train: torch.Size([74562, 10, 12]), Test: torch.Size([24855, 10, 12])\n"
     ]
    },
    {
     "name": "stderr",
     "output_type": "stream",
     "text": [
      "Running experiments:  76%|████████████▏   | 61/80 [4:45:28<2:02:53, 388.10s/it, Model=CNN, Status=✓]"
     ]
    },
    {
     "name": "stdout",
     "output_type": "stream",
     "text": [
      "Signal distribution - Strong Decline(0): 15258, Slight Decline(1): 33516, Slight Rise(2): 34363, Strong Rise(3): 16289\n",
      "PyTorch data prepared - Train: torch.Size([74562, 10, 12]), Test: torch.Size([24855, 10, 12])\n"
     ]
    },
    {
     "name": "stderr",
     "output_type": "stream",
     "text": [
      "Running experiments:  78%|████████████▍   | 62/80 [4:51:15<1:52:43, 375.77s/it, Model=CNN, Status=✓]"
     ]
    },
    {
     "name": "stdout",
     "output_type": "stream",
     "text": [
      "Signal distribution - Strong Decline(0): 6109, Slight Decline(1): 42665, Slight Rise(2): 44250, Strong Rise(3): 6402\n",
      "PyTorch data prepared - Train: torch.Size([74562, 10, 12]), Test: torch.Size([24855, 10, 12])\n"
     ]
    },
    {
     "name": "stderr",
     "output_type": "stream",
     "text": [
      "Running experiments:  79%|████████████▌   | 63/80 [4:57:00<1:43:53, 366.70s/it, Model=CNN, Status=✓]"
     ]
    },
    {
     "name": "stdout",
     "output_type": "stream",
     "text": [
      "Signal distribution - Strong Decline(0): 2988, Slight Decline(1): 45786, Slight Rise(2): 47587, Strong Rise(3): 3065\n",
      "PyTorch data prepared - Train: torch.Size([74562, 10, 12]), Test: torch.Size([24855, 10, 12])\n"
     ]
    },
    {
     "name": "stderr",
     "output_type": "stream",
     "text": [
      "Running experiments:  80%|████████████▊   | 64/80 [5:02:46<1:36:05, 360.36s/it, Model=CNN, Status=✓]"
     ]
    },
    {
     "name": "stdout",
     "output_type": "stream",
     "text": [
      "Signal distribution - Strong Decline(0): 33374, Slight Decline(1): 15116, Slight Rise(2): 15299, Strong Rise(3): 35635\n",
      "PyTorch data prepared - Train: torch.Size([74561, 10, 12]), Test: torch.Size([24854, 10, 12])\n"
     ]
    },
    {
     "name": "stderr",
     "output_type": "stream",
     "text": [
      "Running experiments:  81%|█████████████   | 65/80 [5:08:32<1:28:59, 355.97s/it, Model=CNN, Status=✓]"
     ]
    },
    {
     "name": "stdout",
     "output_type": "stream",
     "text": [
      "Signal distribution - Strong Decline(0): 19465, Slight Decline(1): 29025, Slight Rise(2): 30091, Strong Rise(3): 20843\n",
      "PyTorch data prepared - Train: torch.Size([74561, 10, 12]), Test: torch.Size([24854, 10, 12])\n"
     ]
    },
    {
     "name": "stderr",
     "output_type": "stream",
     "text": [
      "Running experiments:  82%|█████████████▏  | 66/80 [5:14:17<1:22:19, 352.83s/it, Model=CNN, Status=✓]"
     ]
    },
    {
     "name": "stdout",
     "output_type": "stream",
     "text": [
      "Signal distribution - Strong Decline(0): 9033, Slight Decline(1): 39457, Slight Rise(2): 41217, Strong Rise(3): 9717\n",
      "PyTorch data prepared - Train: torch.Size([74561, 10, 12]), Test: torch.Size([24854, 10, 12])\n"
     ]
    },
    {
     "name": "stderr",
     "output_type": "stream",
     "text": [
      "Running experiments:  84%|█████████████▍  | 67/80 [5:20:02<1:15:57, 350.54s/it, Model=CNN, Status=✓]"
     ]
    },
    {
     "name": "stdout",
     "output_type": "stream",
     "text": [
      "Signal distribution - Strong Decline(0): 4969, Slight Decline(1): 43521, Slight Rise(2): 45712, Strong Rise(3): 5222\n",
      "PyTorch data prepared - Train: torch.Size([74561, 10, 12]), Test: torch.Size([24854, 10, 12])\n"
     ]
    },
    {
     "name": "stderr",
     "output_type": "stream",
     "text": [
      "Running experiments:  85%|█████████████▌  | 68/80 [5:25:50<1:09:56, 349.68s/it, Model=CNN, Status=✓]"
     ]
    },
    {
     "name": "stdout",
     "output_type": "stream",
     "text": [
      "Signal distribution - Strong Decline(0): 35998, Slight Decline(1): 12302, Slight Rise(2): 12424, Strong Rise(3): 38697\n",
      "PyTorch data prepared - Train: torch.Size([74559, 10, 12]), Test: torch.Size([24853, 10, 12])\n"
     ]
    },
    {
     "name": "stderr",
     "output_type": "stream",
     "text": [
      "Running experiments:  86%|█████████████▊  | 69/80 [5:32:12<1:05:52, 359.36s/it, Model=CNN, Status=✓]"
     ]
    },
    {
     "name": "stdout",
     "output_type": "stream",
     "text": [
      "Signal distribution - Strong Decline(0): 23255, Slight Decline(1): 25045, Slight Rise(2): 25752, Strong Rise(3): 25369\n",
      "PyTorch data prepared - Train: torch.Size([74559, 10, 12]), Test: torch.Size([24853, 10, 12])\n"
     ]
    },
    {
     "name": "stderr",
     "output_type": "stream",
     "text": [
      "Running experiments:  88%|██████████████  | 70/80 [5:38:39<1:01:15, 367.51s/it, Model=CNN, Status=✓]"
     ]
    },
    {
     "name": "stdout",
     "output_type": "stream",
     "text": [
      "Signal distribution - Strong Decline(0): 12427, Slight Decline(1): 35873, Slight Rise(2): 37533, Strong Rise(3): 13588\n",
      "PyTorch data prepared - Train: torch.Size([74559, 10, 12]), Test: torch.Size([24853, 10, 12])\n"
     ]
    },
    {
     "name": "stderr",
     "output_type": "stream",
     "text": [
      "Running experiments:  89%|███████████████▉  | 71/80 [5:44:43<54:59, 366.56s/it, Model=CNN, Status=✓]"
     ]
    },
    {
     "name": "stdout",
     "output_type": "stream",
     "text": [
      "Signal distribution - Strong Decline(0): 7326, Slight Decline(1): 40974, Slight Rise(2): 43091, Strong Rise(3): 8030\n",
      "PyTorch data prepared - Train: torch.Size([74559, 10, 12]), Test: torch.Size([24853, 10, 12])\n"
     ]
    },
    {
     "name": "stderr",
     "output_type": "stream",
     "text": [
      "Running experiments:  90%|████████████████▏ | 72/80 [5:50:47<48:46, 365.81s/it, Model=CNN, Status=✓]"
     ]
    },
    {
     "name": "stdout",
     "output_type": "stream",
     "text": [
      "Signal distribution - Strong Decline(0): 37111, Slight Decline(1): 11144, Slight Rise(2): 11289, Strong Rise(3): 39875\n",
      "PyTorch data prepared - Train: torch.Size([74557, 10, 12]), Test: torch.Size([24853, 10, 12])\n"
     ]
    },
    {
     "name": "stderr",
     "output_type": "stream",
     "text": [
      "Running experiments:  91%|████████████████▍ | 73/80 [5:57:07<43:10, 370.11s/it, Model=CNN, Status=✓]"
     ]
    },
    {
     "name": "stdout",
     "output_type": "stream",
     "text": [
      "Signal distribution - Strong Decline(0): 25068, Slight Decline(1): 23187, Slight Rise(2): 23659, Strong Rise(3): 27505\n",
      "PyTorch data prepared - Train: torch.Size([74557, 10, 12]), Test: torch.Size([24853, 10, 12])\n"
     ]
    },
    {
     "name": "stderr",
     "output_type": "stream",
     "text": [
      "Running experiments:  92%|████████████████▋ | 74/80 [6:03:16<36:57, 369.66s/it, Model=CNN, Status=✓]"
     ]
    },
    {
     "name": "stdout",
     "output_type": "stream",
     "text": [
      "Signal distribution - Strong Decline(0): 14240, Slight Decline(1): 34015, Slight Rise(2): 35409, Strong Rise(3): 15755\n",
      "PyTorch data prepared - Train: torch.Size([74557, 10, 12]), Test: torch.Size([24853, 10, 12])\n"
     ]
    },
    {
     "name": "stderr",
     "output_type": "stream",
     "text": [
      "Running experiments:  94%|████████████████▉ | 75/80 [6:09:39<31:08, 373.75s/it, Model=CNN, Status=✓]"
     ]
    },
    {
     "name": "stdout",
     "output_type": "stream",
     "text": [
      "Signal distribution - Strong Decline(0): 8676, Slight Decline(1): 39579, Slight Rise(2): 41556, Strong Rise(3): 9608\n",
      "PyTorch data prepared - Train: torch.Size([74557, 10, 12]), Test: torch.Size([24853, 10, 12])\n"
     ]
    },
    {
     "name": "stderr",
     "output_type": "stream",
     "text": [
      "Running experiments:  95%|█████████████████ | 76/80 [6:15:23<24:19, 364.84s/it, Model=CNN, Status=✓]"
     ]
    },
    {
     "name": "stdout",
     "output_type": "stream",
     "text": [
      "Signal distribution - Strong Decline(0): 37993, Slight Decline(1): 10246, Slight Rise(2): 10299, Strong Rise(3): 40879\n",
      "PyTorch data prepared - Train: torch.Size([74556, 10, 12]), Test: torch.Size([24852, 10, 12])\n"
     ]
    },
    {
     "name": "stderr",
     "output_type": "stream",
     "text": [
      "Running experiments:  96%|█████████████████▎| 77/80 [6:21:57<18:40, 373.47s/it, Model=CNN, Status=✓]"
     ]
    },
    {
     "name": "stdout",
     "output_type": "stream",
     "text": [
      "Signal distribution - Strong Decline(0): 26507, Slight Decline(1): 21732, Slight Rise(2): 22066, Strong Rise(3): 29112\n",
      "PyTorch data prepared - Train: torch.Size([74556, 10, 12]), Test: torch.Size([24852, 10, 12])\n"
     ]
    },
    {
     "name": "stderr",
     "output_type": "stream",
     "text": [
      "Running experiments:  98%|█████████████████▌| 78/80 [6:28:22<12:33, 376.94s/it, Model=CNN, Status=✓]"
     ]
    },
    {
     "name": "stdout",
     "output_type": "stream",
     "text": [
      "Signal distribution - Strong Decline(0): 15659, Slight Decline(1): 32580, Slight Rise(2): 33781, Strong Rise(3): 17397\n",
      "PyTorch data prepared - Train: torch.Size([74556, 10, 12]), Test: torch.Size([24852, 10, 12])\n"
     ]
    },
    {
     "name": "stderr",
     "output_type": "stream",
     "text": [
      "Running experiments:  99%|█████████████████▊| 79/80 [6:34:45<06:18, 378.85s/it, Model=CNN, Status=✓]"
     ]
    },
    {
     "name": "stdout",
     "output_type": "stream",
     "text": [
      "Signal distribution - Strong Decline(0): 9819, Slight Decline(1): 38420, Slight Rise(2): 40057, Strong Rise(3): 11121\n",
      "PyTorch data prepared - Train: torch.Size([74556, 10, 12]), Test: torch.Size([24852, 10, 12])\n"
     ]
    },
    {
     "name": "stderr",
     "output_type": "stream",
     "text": [
      "Running experiments: 100%|██████████████████| 80/80 [6:41:07<00:00, 300.84s/it, Model=CNN, Status=✓]"
     ]
    },
    {
     "name": "stdout",
     "output_type": "stream",
     "text": [
      "\n",
      "================================================================================\n",
      "BITCOIN PRICE PREDICTION RESULTS\n",
      "================================================================================\n",
      "\n",
      "Model Performance Summary:\n",
      "Model      Lookahead  Threshold    Accuracy   Loss Count   Loss Mean \n",
      "--------------------------------------------------------------------------------\n",
      "XGBoost    3          0.015        0.521      34           0.0178    \n",
      "XGBoost    5          0.015        0.521      72           0.0288    \n",
      "XGBoost    12         0.002        0.521      9067         0.0094    \n",
      "XGBoost    8          0.015        0.508      183          0.0194    \n",
      "XGBoost    12         0.015        0.507      283          0.0214    \n",
      "GRU        3          0.015        0.506      0            0.0000    \n",
      "XGBoost    10         0.015        0.505      190          0.0212    \n",
      "XGBoost    10         0.002        0.505      9155         0.0086    \n",
      "CNN        3          0.015        0.501      10           0.0165    \n",
      "LSTM       3          0.015        0.499      2            0.0045    \n",
      "CNN        5          0.015        0.496      6            0.0129    \n",
      "LSTM       5          0.015        0.494      18           0.0079    \n",
      "XGBoost    3          0.010        0.492      162          0.0130    \n",
      "GRU        5          0.015        0.490      9            0.0062    \n",
      "CNN        3          0.010        0.485      150          0.0094    \n",
      "XGBoost    5          0.010        0.480      297          0.0154    \n",
      "LSTM       3          0.010        0.478      25           0.0079    \n",
      "GRU        3          0.010        0.476      1            0.0053    \n",
      "XGBoost    8          0.002        0.475      9500         0.0081    \n",
      "GRU        8          0.015        0.473      36           0.0096    \n",
      "LSTM       8          0.015        0.472      21           0.0069    \n",
      "CNN        8          0.015        0.468      110          0.0104    \n",
      "XGBoost    8          0.010        0.463      768          0.0164    \n",
      "CNN        10         0.015        0.463      109          0.0205    \n",
      "XGBoost    10         0.010        0.457      966          0.0166    \n",
      "GRU        10         0.015        0.456      23           0.0096    \n",
      "XGBoost    12         0.010        0.455      1362         0.0161    \n",
      "LSTM       10         0.015        0.453      206          0.0069    \n",
      "GRU        5          0.010        0.452      68           0.0076    \n",
      "LSTM       5          0.010        0.450      151          0.0104    \n",
      "CNN        12         0.015        0.448      29           0.0101    \n",
      "GRU        12         0.015        0.442      141          0.0142    \n",
      "CNN        5          0.010        0.442      598          0.0093    \n",
      "XGBoost    5          0.002        0.436      9337         0.0066    \n",
      "XGBoost    12         0.005        0.434      6120         0.0108    \n",
      "LSTM       12         0.015        0.432      149          0.0087    \n",
      "XGBoost    10         0.005        0.417      5651         0.0106    \n",
      "GRU        8          0.010        0.406      1141         0.0095    \n",
      "XGBoost    8          0.005        0.405      4764         0.0105    \n",
      "GRU        12         0.002        0.403      12131        0.0085    \n",
      "LSTM       12         0.002        0.403      12134        0.0086    \n",
      "LSTM       10         0.002        0.403      11783        0.0077    \n",
      "CNN        10         0.010        0.402      386          0.0122    \n",
      "CNN        8          0.010        0.400      1897         0.0094    \n",
      "LSTM       8          0.010        0.399      1103         0.0093    \n",
      "XGBoost    3          0.005        0.397      1484         0.0097    \n",
      "XGBoost    5          0.005        0.396      2855         0.0096    \n",
      "CNN        10         0.002        0.394      12026        0.0078    \n",
      "CNN        3          0.005        0.394      684          0.0080    \n",
      "CNN        12         0.002        0.391      12449        0.0086    \n",
      "XGBoost    3          0.002        0.389      8692         0.0056    \n",
      "CNN        12         0.010        0.386      547          0.0128    \n",
      "GRU        8          0.002        0.382      11943        0.0070    \n",
      "CNN        8          0.002        0.378      12097        0.0069    \n",
      "LSTM       8          0.002        0.377      12163        0.0066    \n",
      "GRU        10         0.002        0.375      12516        0.0078    \n",
      "LSTM       3          0.005        0.372      1771         0.0057    \n",
      "LSTM       10         0.010        0.372      1833         0.0093    \n",
      "GRU        3          0.005        0.370      2023         0.0059    \n",
      "GRU        10         0.010        0.369      1852         0.0097    \n",
      "GRU        12         0.010        0.353      1964         0.0105    \n",
      "LSTM       5          0.002        0.352      11851        0.0054    \n",
      "GRU        5          0.002        0.349      11930        0.0054    \n",
      "CNN        5          0.002        0.347      12104        0.0053    \n",
      "LSTM       12         0.010        0.333      2871         0.0099    \n",
      "GRU        3          0.002        0.313      11766        0.0042    \n",
      "LSTM       3          0.002        0.313      11721        0.0043    \n",
      "CNN        3          0.002        0.311      11761        0.0043    \n",
      "GRU        5          0.005        0.297      5386         0.0061    \n",
      "CNN        5          0.005        0.295      6671         0.0066    \n",
      "CNN        12         0.005        0.287      11205        0.0086    \n",
      "GRU        12         0.005        0.285      10501        0.0088    \n",
      "CNN        8          0.005        0.285      8382         0.0076    \n",
      "LSTM       12         0.005        0.283      10651        0.0087    \n",
      "CNN        10         0.005        0.282      10300        0.0082    \n",
      "GRU        10         0.005        0.275      10399        0.0078    \n",
      "LSTM       10         0.005        0.271      10494        0.0080    \n",
      "LSTM       5          0.005        0.267      7306         0.0059    \n",
      "LSTM       8          0.005        0.262      9702         0.0072    \n",
      "GRU        8          0.005        0.259      9532         0.0072    \n",
      "\n",
      "================================================================================\n",
      "BEST CONFIGURATION:\n",
      "Model: XGBoost\n",
      "Accuracy: 0.521 (52.1%)\n",
      "Lookahead: 3 periods\n",
      "Threshold: 0.015\n",
      "Loss Events: 34\n",
      "Average Loss: 0.0178\n",
      "================================================================================\n"
     ]
    },
    {
     "name": "stderr",
     "output_type": "stream",
     "text": [
      "\n"
     ]
    }
   ],
   "source": [
    "def btc_30m():\n",
    "    \"\"\"Main execution - clean output only\"\"\"\n",
    "    \n",
    "    # Configuration\n",
    "    DATA_PATH = r'F:\\up_git\\official_predict\\data\\btc_30m.csv'\n",
    "    \n",
    "    # Create results directory\n",
    "    results_dir = os.path.join('..', '..', 'results')\n",
    "    os.makedirs(results_dir, exist_ok=True)\n",
    "    OUTPUT_FILENAME = '../../results/btc_results_30m_4class.csv'\n",
    "    \n",
    "    # Parameters\n",
    "    LOOKAHEAD_VALUES = [3, 5, 8, 10, 12]  \n",
    "    THRESHOLD_VALUES = [0.002, 0.005, 0.01, 0.015]  \n",
    "\n",
    "    MODEL_TYPES = ['XGBoost', 'LSTM', 'GRU', 'CNN']\n",
    "    \n",
    "    # Run experiment\n",
    "    run_silent_experiment(\n",
    "        data_path=DATA_PATH,\n",
    "        output_filename=OUTPUT_FILENAME,\n",
    "        lookahead_values=LOOKAHEAD_VALUES,\n",
    "        threshold_values=THRESHOLD_VALUES,\n",
    "        model_types=MODEL_TYPES\n",
    "    )\n",
    "\n",
    "btc_30m()"
   ]
  },
  {
   "cell_type": "markdown",
   "id": "05d5c210",
   "metadata": {},
   "source": [
    "# tesst\n",
    "\n",
    "\"\"\"\n",
    "Bitcoin Price Prediction - Clean Version\n",
    "Only shows progress bar and final results table\n",
    "\"\"\"\n",
    "\n",
    "import os\n",
    "os.environ['CUDA_LAUNCH_BLOCKING'] = '1'\n",
    "\n",
    "import warnings\n",
    "warnings.filterwarnings('ignore')\n",
    "\n",
    "from experiment_runner_silent import run_silent_experiment\n",
    "\n",
    "def btc_1d():\n",
    "    \"\"\"Main execution - clean output only\"\"\"\n",
    "    \n",
    "    # Configuration\n",
    "    DATA_PATH = r'F:\\up_git\\official_predict\\data\\btc_1d.csv'\n",
    "    \n",
    "    # Create results directory\n",
    "    results_dir = os.path.join('..', '..', 'results')\n",
    "    os.makedirs(results_dir, exist_ok=True)\n",
    "    OUTPUT_FILENAME = '../../results/btc_results_1d_4class_tesst.csv'\n",
    "    \n",
    "    # Parameters\n",
    "    LOOKAHEAD_VALUES = [3, 5]  # Số ngày dự đoán\n",
    "    THRESHOLD_VALUES = [0.02]  # Ngưỡng phân loại\n",
    "\n",
    "    MODEL_TYPES = ['XGBoost', 'CNN']\n",
    "    \n",
    "    # Run experiment\n",
    "    run_silent_experiment(\n",
    "        data_path=DATA_PATH,\n",
    "        output_filename=OUTPUT_FILENAME,\n",
    "        lookahead_values=LOOKAHEAD_VALUES,\n",
    "        threshold_values=THRESHOLD_VALUES,\n",
    "        model_types=MODEL_TYPES\n",
    "    )\n",
    "\n",
    "btc_1d()"
   ]
  }
 ],
 "metadata": {
  "kernelspec": {
   "display_name": "For_pytorch",
   "language": "python",
   "name": "python3"
  },
  "language_info": {
   "codemirror_mode": {
    "name": "ipython",
    "version": 3
   },
   "file_extension": ".py",
   "mimetype": "text/x-python",
   "name": "python",
   "nbconvert_exporter": "python",
   "pygments_lexer": "ipython3",
   "version": "3.12.9"
  }
 },
 "nbformat": 4,
 "nbformat_minor": 5
}
